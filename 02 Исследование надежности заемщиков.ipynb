{
 "cells": [
  {
   "cell_type": "markdown",
   "metadata": {},
   "source": [
    "<h1>Содержание<span class=\"tocSkip\"></span></h1>\n",
    "<div class=\"toc\"><ul class=\"toc-item\"><li><ul class=\"toc-item\"><li><span><a href=\"#Описание-данных\" data-toc-modified-id=\"Описание-данных-0.1\"><span class=\"toc-item-num\">0.1&nbsp;&nbsp;</span>Описание данных</a></span></li></ul></li><li><span><a href=\"#Шаг-1.-Откройте-файл-с-данными-и-изучите-общую-информацию-\" data-toc-modified-id=\"Шаг-1.-Откройте-файл-с-данными-и-изучите-общую-информацию--1\"><span class=\"toc-item-num\">1&nbsp;&nbsp;</span>Шаг 1. Откройте файл с данными и изучите общую информацию <a id=\"2\" rel=\"nofollow\"></a></a></span><ul class=\"toc-item\"><li><span><a href=\"#Общая-информация-о-данных:\" data-toc-modified-id=\"Общая-информация-о-данных:-1.1\"><span class=\"toc-item-num\">1.1&nbsp;&nbsp;</span>Общая информация о данных:</a></span></li></ul></li><li><span><a href=\"#Шаг-2.-Предобработка-данных\" data-toc-modified-id=\"Шаг-2.-Предобработка-данных-2\"><span class=\"toc-item-num\">2&nbsp;&nbsp;</span>Шаг 2. Предобработка данных</a></span><ul class=\"toc-item\"><li><span><a href=\"#Обработка-пропусков\" data-toc-modified-id=\"Обработка-пропусков-2.1\"><span class=\"toc-item-num\">2.1&nbsp;&nbsp;</span>Обработка пропусков</a></span></li><li><span><a href=\"#Замена-типа-данных\" data-toc-modified-id=\"Замена-типа-данных-2.2\"><span class=\"toc-item-num\">2.2&nbsp;&nbsp;</span>Замена типа данных</a></span></li><li><span><a href=\"#Обработка-дубликатов\" data-toc-modified-id=\"Обработка-дубликатов-2.3\"><span class=\"toc-item-num\">2.3&nbsp;&nbsp;</span>Обработка дубликатов</a></span></li><li><span><a href=\"#Лемматизация\" data-toc-modified-id=\"Лемматизация-2.4\"><span class=\"toc-item-num\">2.4&nbsp;&nbsp;</span>Лемматизация</a></span></li><li><span><a href=\"#Категоризация-данных\" data-toc-modified-id=\"Категоризация-данных-2.5\"><span class=\"toc-item-num\">2.5&nbsp;&nbsp;</span>Категоризация данных</a></span></li></ul></li><li><span><a href=\"#Шаг-3.-Ответьте-на-вопросы\" data-toc-modified-id=\"Шаг-3.-Ответьте-на-вопросы-3\"><span class=\"toc-item-num\">3&nbsp;&nbsp;</span>Шаг 3. Ответьте на вопросы</a></span></li><li><span><a href=\"#Шаг-4.-Общий-вывод-\" data-toc-modified-id=\"Шаг-4.-Общий-вывод--4\"><span class=\"toc-item-num\">4&nbsp;&nbsp;</span>Шаг 4. Общий вывод <a id=\"4\" rel=\"nofollow\"></a></a></span></li><li><span><a href=\"#Чек-лист-готовности-проекта\" data-toc-modified-id=\"Чек-лист-готовности-проекта-5\"><span class=\"toc-item-num\">5&nbsp;&nbsp;</span>Чек-лист готовности проекта</a></span></li></ul></div>"
   ]
  },
  {
   "cell_type": "markdown",
   "metadata": {},
   "source": [
    "**ПРЕДОБРАБОТКА ДАННЫХ**"
   ]
  },
  {
   "cell_type": "markdown",
   "metadata": {},
   "source": [
    "# Исследование надёжности заёмщиков  <a id='1'></a>\n",
    "\n",
    "**<font color='green'> Заказчик </font>**  — кредитный отдел банка.   \n",
    "\n",
    "**<font color='red'> Цель исследования</font>**  - **узнать, влияет ли семейное положение и количество детей клиента на факт погашения кредита в срок. Входные данные от банка — статистика о платёжеспособности клиентов.**\n",
    "\n",
    "Результаты исследования будут учтены при построении модели **кредитного скоринга** — специальной системы, которая оценивает способность потенциального заёмщика вернуть кредит банку."
   ]
  },
  {
   "cell_type": "markdown",
   "metadata": {},
   "source": [
    "## **<font color='DarkOliveGreen'>Описание данных </font>**  ###\n",
    "\n",
    "**children** — количество детей в семье  \n",
    "**days_employed** — общий трудовой стаж в днях  \n",
    "**dob_years** — возраст клиента в годах  \n",
    "**education** — уровень образования клиента  \n",
    "**education_id** — идентификатор уровня образования  \n",
    "**family_status** — семейное положение  \n",
    "**family_status_id** — идентификатор семейного положения  \n",
    "**gender** — пол клиента  \n",
    "**income_type** — тип занятости  \n",
    "**debt** — имел ли задолженность по возврату кредитов  \n",
    "**total_income** — ежемесячный доход  \n",
    "**purpose** — цель получения кредита"
   ]
  },
  {
   "cell_type": "markdown",
   "metadata": {},
   "source": [
    "**<font color='MediumSeaGreen'> Краткий план работы:</font>**  \n",
    "\n",
    "1. Изучить данные\n",
    "3. Обработать пропуски. Посмотреть, какие значения у нас пропущены (не заполнены), по какой причине (являются ли пропуски случайными или нет). Заполнить недостающие значения медианами там, где это нужно. \n",
    "4. Заменить некорректные данные на корректные.\n",
    "5. Обработать дубликаты. Сначала посмотреть списки уникальных значений, чтобы из них понять, где могут быть неявные дубликаты. Затем привести к единому регистру для того, чтобы неявные дубликаты стали явными. Затем удалить все явные дубликаты.\n",
    "5. Лемматизировать (т.е. привести к единой словарной форме) цели кредита. \n",
    "6. Категоризировать данные по семейному положению, количеству детей, уровню дохода (низкий, средний, высокий) и целям кредита (здесь категоризация производится на основе результатов лемматизации).\n",
    "7. сделать выводы на основе категоризации данных и статистики из сводных таблиц. Выводы о том, какие категории заемщиков наиболее ответственные, а какие - наименее. И, конечно же, вывод о том, кореллирует ли семейное положение с количеством просрочек, а также наличие детей с количеством просрочек."
   ]
  },
  {
   "cell_type": "markdown",
   "metadata": {},
   "source": [
    "## **<font color='Olive'> Откроем файл с данными и изучим общую информацию </font>**  <a id='2'></a>"
   ]
  },
  {
   "cell_type": "code",
   "execution_count": 1,
   "metadata": {
    "scrolled": true
   },
   "outputs": [],
   "source": [
    "import pandas as pd\n",
    "from pymystem3 import Mystem\n",
    "from nltk.stem import SnowballStemmer \n",
    "from collections import Counter"
   ]
  },
  {
   "cell_type": "code",
   "execution_count": 2,
   "metadata": {},
   "outputs": [
    {
     "data": {
      "text/html": [
       "<font color='blue'>синий текст</font>"
      ],
      "text/plain": [
       "<IPython.core.display.HTML object>"
      ]
     },
     "metadata": {},
     "output_type": "display_data"
    },
    {
     "data": {
      "text/html": [
       "<font color='maroon'>коричневый текст</font>"
      ],
      "text/plain": [
       "<IPython.core.display.HTML object>"
      ]
     },
     "metadata": {},
     "output_type": "display_data"
    },
    {
     "data": {
      "text/html": [
       "<font color='olive'>текст оливкогового цвета</font>"
      ],
      "text/plain": [
       "<IPython.core.display.HTML object>"
      ]
     },
     "metadata": {},
     "output_type": "display_data"
    },
    {
     "data": {
      "text/html": [
       "<font color='navy'>темно-синий текст</font>"
      ],
      "text/plain": [
       "<IPython.core.display.HTML object>"
      ]
     },
     "metadata": {},
     "output_type": "display_data"
    },
    {
     "data": {
      "text/html": [
       "<font color='purple'> фиолетовый текст</font>"
      ],
      "text/plain": [
       "<IPython.core.display.HTML object>"
      ]
     },
     "metadata": {},
     "output_type": "display_data"
    },
    {
     "data": {
      "text/html": [
       "<font color='teal'>бирюзовый текст</font>"
      ],
      "text/plain": [
       "<IPython.core.display.HTML object>"
      ]
     },
     "metadata": {},
     "output_type": "display_data"
    },
    {
     "data": {
      "text/html": [
       "<font color='gray'>серый текст</font>"
      ],
      "text/plain": [
       "<IPython.core.display.HTML object>"
      ]
     },
     "metadata": {},
     "output_type": "display_data"
    },
    {
     "data": {
      "text/html": [
       "<font color='lime'>светло-зеленый текст</font>"
      ],
      "text/plain": [
       "<IPython.core.display.HTML object>"
      ]
     },
     "metadata": {},
     "output_type": "display_data"
    },
    {
     "data": {
      "text/html": [
       "<font color='green'>зеленый текст</font>"
      ],
      "text/plain": [
       "<IPython.core.display.HTML object>"
      ]
     },
     "metadata": {},
     "output_type": "display_data"
    },
    {
     "data": {
      "text/html": [
       "<font color='yellow'>желтый текст</font>"
      ],
      "text/plain": [
       "<IPython.core.display.HTML object>"
      ]
     },
     "metadata": {},
     "output_type": "display_data"
    },
    {
     "data": {
      "text/html": [
       "<font color='FUCHSIA'> розовый текст</font>"
      ],
      "text/plain": [
       "<IPython.core.display.HTML object>"
      ]
     },
     "metadata": {},
     "output_type": "display_data"
    },
    {
     "data": {
      "text/html": [
       "<font color='AQUA'> голубой текст</font>"
      ],
      "text/plain": [
       "<IPython.core.display.HTML object>"
      ]
     },
     "metadata": {},
     "output_type": "display_data"
    }
   ],
   "source": [
    "#добавим красоты в оформление проекта \n",
    "\n",
    "from IPython.core.display import display, HTML\n",
    "\n",
    "display(HTML(\"<font color='blue'>синий текст</font>\"))\n",
    "display(HTML(\"<font color='maroon'>коричневый текст</font>\"))\n",
    "display(HTML(\"<font color='olive'>текст оливкогового цвета</font>\"))\n",
    "display(HTML(\"<font color='navy'>темно-синий текст</font>\"))\n",
    "display(HTML(\"<font color='purple'> фиолетовый текст</font>\"))\n",
    "display(HTML(\"<font color='teal'>бирюзовый текст</font>\"))\n",
    "display(HTML(\"<font color='gray'>серый текст</font>\"))\n",
    "display(HTML(\"<font color='lime'>светло-зеленый текст</font>\"))\n",
    "display(HTML(\"<font color='green'>зеленый текст</font>\"))\n",
    "display(HTML(\"<font color='yellow'>желтый текст</font>\"))\n",
    "display(HTML(\"<font color='FUCHSIA'> розовый текст</font>\"))\n",
    "display(HTML(\"<font color='AQUA'> голубой текст</font>\"))"
   ]
  },
  {
   "cell_type": "code",
   "execution_count": 3,
   "metadata": {},
   "outputs": [],
   "source": [
    "df = pd.read_csv('/datasets/data.csv') "
   ]
  },
  {
   "cell_type": "markdown",
   "metadata": {},
   "source": [
    "###  **<font color='OliveDrab'> Общая информация о данных: </font>**  ###"
   ]
  },
  {
   "cell_type": "code",
   "execution_count": 4,
   "metadata": {},
   "outputs": [
    {
     "data": {
      "text/html": [
       "<div>\n",
       "<style scoped>\n",
       "    .dataframe tbody tr th:only-of-type {\n",
       "        vertical-align: middle;\n",
       "    }\n",
       "\n",
       "    .dataframe tbody tr th {\n",
       "        vertical-align: top;\n",
       "    }\n",
       "\n",
       "    .dataframe thead th {\n",
       "        text-align: right;\n",
       "    }\n",
       "</style>\n",
       "<table border=\"1\" class=\"dataframe\">\n",
       "  <thead>\n",
       "    <tr style=\"text-align: right;\">\n",
       "      <th></th>\n",
       "      <th>children</th>\n",
       "      <th>days_employed</th>\n",
       "      <th>dob_years</th>\n",
       "      <th>education</th>\n",
       "      <th>education_id</th>\n",
       "      <th>family_status</th>\n",
       "      <th>family_status_id</th>\n",
       "      <th>gender</th>\n",
       "      <th>income_type</th>\n",
       "      <th>debt</th>\n",
       "      <th>total_income</th>\n",
       "      <th>purpose</th>\n",
       "    </tr>\n",
       "  </thead>\n",
       "  <tbody>\n",
       "    <tr>\n",
       "      <th>0</th>\n",
       "      <td>1</td>\n",
       "      <td>-8437.673028</td>\n",
       "      <td>42</td>\n",
       "      <td>высшее</td>\n",
       "      <td>0</td>\n",
       "      <td>женат / замужем</td>\n",
       "      <td>0</td>\n",
       "      <td>F</td>\n",
       "      <td>сотрудник</td>\n",
       "      <td>0</td>\n",
       "      <td>253875.639453</td>\n",
       "      <td>покупка жилья</td>\n",
       "    </tr>\n",
       "    <tr>\n",
       "      <th>1</th>\n",
       "      <td>1</td>\n",
       "      <td>-4024.803754</td>\n",
       "      <td>36</td>\n",
       "      <td>среднее</td>\n",
       "      <td>1</td>\n",
       "      <td>женат / замужем</td>\n",
       "      <td>0</td>\n",
       "      <td>F</td>\n",
       "      <td>сотрудник</td>\n",
       "      <td>0</td>\n",
       "      <td>112080.014102</td>\n",
       "      <td>приобретение автомобиля</td>\n",
       "    </tr>\n",
       "    <tr>\n",
       "      <th>2</th>\n",
       "      <td>0</td>\n",
       "      <td>-5623.422610</td>\n",
       "      <td>33</td>\n",
       "      <td>Среднее</td>\n",
       "      <td>1</td>\n",
       "      <td>женат / замужем</td>\n",
       "      <td>0</td>\n",
       "      <td>M</td>\n",
       "      <td>сотрудник</td>\n",
       "      <td>0</td>\n",
       "      <td>145885.952297</td>\n",
       "      <td>покупка жилья</td>\n",
       "    </tr>\n",
       "    <tr>\n",
       "      <th>3</th>\n",
       "      <td>3</td>\n",
       "      <td>-4124.747207</td>\n",
       "      <td>32</td>\n",
       "      <td>среднее</td>\n",
       "      <td>1</td>\n",
       "      <td>женат / замужем</td>\n",
       "      <td>0</td>\n",
       "      <td>M</td>\n",
       "      <td>сотрудник</td>\n",
       "      <td>0</td>\n",
       "      <td>267628.550329</td>\n",
       "      <td>дополнительное образование</td>\n",
       "    </tr>\n",
       "    <tr>\n",
       "      <th>4</th>\n",
       "      <td>0</td>\n",
       "      <td>340266.072047</td>\n",
       "      <td>53</td>\n",
       "      <td>среднее</td>\n",
       "      <td>1</td>\n",
       "      <td>гражданский брак</td>\n",
       "      <td>1</td>\n",
       "      <td>F</td>\n",
       "      <td>пенсионер</td>\n",
       "      <td>0</td>\n",
       "      <td>158616.077870</td>\n",
       "      <td>сыграть свадьбу</td>\n",
       "    </tr>\n",
       "    <tr>\n",
       "      <th>5</th>\n",
       "      <td>0</td>\n",
       "      <td>-926.185831</td>\n",
       "      <td>27</td>\n",
       "      <td>высшее</td>\n",
       "      <td>0</td>\n",
       "      <td>гражданский брак</td>\n",
       "      <td>1</td>\n",
       "      <td>M</td>\n",
       "      <td>компаньон</td>\n",
       "      <td>0</td>\n",
       "      <td>255763.565419</td>\n",
       "      <td>покупка жилья</td>\n",
       "    </tr>\n",
       "    <tr>\n",
       "      <th>6</th>\n",
       "      <td>0</td>\n",
       "      <td>-2879.202052</td>\n",
       "      <td>43</td>\n",
       "      <td>высшее</td>\n",
       "      <td>0</td>\n",
       "      <td>женат / замужем</td>\n",
       "      <td>0</td>\n",
       "      <td>F</td>\n",
       "      <td>компаньон</td>\n",
       "      <td>0</td>\n",
       "      <td>240525.971920</td>\n",
       "      <td>операции с жильем</td>\n",
       "    </tr>\n",
       "    <tr>\n",
       "      <th>7</th>\n",
       "      <td>0</td>\n",
       "      <td>-152.779569</td>\n",
       "      <td>50</td>\n",
       "      <td>СРЕДНЕЕ</td>\n",
       "      <td>1</td>\n",
       "      <td>женат / замужем</td>\n",
       "      <td>0</td>\n",
       "      <td>M</td>\n",
       "      <td>сотрудник</td>\n",
       "      <td>0</td>\n",
       "      <td>135823.934197</td>\n",
       "      <td>образование</td>\n",
       "    </tr>\n",
       "    <tr>\n",
       "      <th>8</th>\n",
       "      <td>2</td>\n",
       "      <td>-6929.865299</td>\n",
       "      <td>35</td>\n",
       "      <td>ВЫСШЕЕ</td>\n",
       "      <td>0</td>\n",
       "      <td>гражданский брак</td>\n",
       "      <td>1</td>\n",
       "      <td>F</td>\n",
       "      <td>сотрудник</td>\n",
       "      <td>0</td>\n",
       "      <td>95856.832424</td>\n",
       "      <td>на проведение свадьбы</td>\n",
       "    </tr>\n",
       "    <tr>\n",
       "      <th>9</th>\n",
       "      <td>0</td>\n",
       "      <td>-2188.756445</td>\n",
       "      <td>41</td>\n",
       "      <td>среднее</td>\n",
       "      <td>1</td>\n",
       "      <td>женат / замужем</td>\n",
       "      <td>0</td>\n",
       "      <td>M</td>\n",
       "      <td>сотрудник</td>\n",
       "      <td>0</td>\n",
       "      <td>144425.938277</td>\n",
       "      <td>покупка жилья для семьи</td>\n",
       "    </tr>\n",
       "  </tbody>\n",
       "</table>\n",
       "</div>"
      ],
      "text/plain": [
       "   children  days_employed  dob_years education  education_id  \\\n",
       "0         1   -8437.673028         42    высшее             0   \n",
       "1         1   -4024.803754         36   среднее             1   \n",
       "2         0   -5623.422610         33   Среднее             1   \n",
       "3         3   -4124.747207         32   среднее             1   \n",
       "4         0  340266.072047         53   среднее             1   \n",
       "5         0    -926.185831         27    высшее             0   \n",
       "6         0   -2879.202052         43    высшее             0   \n",
       "7         0    -152.779569         50   СРЕДНЕЕ             1   \n",
       "8         2   -6929.865299         35    ВЫСШЕЕ             0   \n",
       "9         0   -2188.756445         41   среднее             1   \n",
       "\n",
       "      family_status  family_status_id gender income_type  debt   total_income  \\\n",
       "0   женат / замужем                 0      F   сотрудник     0  253875.639453   \n",
       "1   женат / замужем                 0      F   сотрудник     0  112080.014102   \n",
       "2   женат / замужем                 0      M   сотрудник     0  145885.952297   \n",
       "3   женат / замужем                 0      M   сотрудник     0  267628.550329   \n",
       "4  гражданский брак                 1      F   пенсионер     0  158616.077870   \n",
       "5  гражданский брак                 1      M   компаньон     0  255763.565419   \n",
       "6   женат / замужем                 0      F   компаньон     0  240525.971920   \n",
       "7   женат / замужем                 0      M   сотрудник     0  135823.934197   \n",
       "8  гражданский брак                 1      F   сотрудник     0   95856.832424   \n",
       "9   женат / замужем                 0      M   сотрудник     0  144425.938277   \n",
       "\n",
       "                      purpose  \n",
       "0               покупка жилья  \n",
       "1     приобретение автомобиля  \n",
       "2               покупка жилья  \n",
       "3  дополнительное образование  \n",
       "4             сыграть свадьбу  \n",
       "5               покупка жилья  \n",
       "6           операции с жильем  \n",
       "7                 образование  \n",
       "8       на проведение свадьбы  \n",
       "9     покупка жилья для семьи  "
      ]
     },
     "execution_count": 4,
     "metadata": {},
     "output_type": "execute_result"
    }
   ],
   "source": [
    "#выведем на экран первые 10 строк датафрейма для того, чтобы увидеть структуру данных и другие особенности\n",
    "\n",
    "df.head(10)"
   ]
  },
  {
   "cell_type": "markdown",
   "metadata": {},
   "source": [
    "**Заметки**\n",
    "\n",
    "1. В столбце **\"education\"** есть одинаковые значения, напечатанные разными регистрами. Например, \"среднее\" и \"СРЕДНЕЕ\".\n",
    "Это неявные дубликаты. Для того, чтобы их удалить, приведем их в дальнейшем к нижнему регистру для легкого обнаружения дубликатов.\n",
    "2. В столбце с количеством дней трудового стажа **(\"days_employed\")** есть отрицательные значения. Возможно, это тоже опечатка. Возьмем эти значения по модулю. \n",
    "3. В столбце **\"days_employed\"** данные неоднородны - в каких-то ячейках количество указано в днях, в каких-то - в часах. 340266 (см.строку с индексом 4) - это, скорее всего, количество часов. Но точно не количество дней. Исправим, переведя часы в дни. \n",
    "4. Значения столбца **\"family_status_id\"** соответствуют значениям столбца **\"family_status\"**. 0 -женат/замужем, 1 - гражданский брак, 2 - вдовец/вдова и т.д.\n",
    "5. Есть пропуски в столбцах **\"total_income\"** и **\"days_employed\"**.\n"
   ]
  },
  {
   "cell_type": "code",
   "execution_count": 4,
   "metadata": {
    "scrolled": true
   },
   "outputs": [
    {
     "name": "stdout",
     "output_type": "stream",
     "text": [
      "<class 'pandas.core.frame.DataFrame'>\n",
      "RangeIndex: 21525 entries, 0 to 21524\n",
      "Data columns (total 12 columns):\n",
      " #   Column            Non-Null Count  Dtype  \n",
      "---  ------            --------------  -----  \n",
      " 0   children          21525 non-null  int64  \n",
      " 1   days_employed     19351 non-null  float64\n",
      " 2   dob_years         21525 non-null  int64  \n",
      " 3   education         21525 non-null  object \n",
      " 4   education_id      21525 non-null  int64  \n",
      " 5   family_status     21525 non-null  object \n",
      " 6   family_status_id  21525 non-null  int64  \n",
      " 7   gender            21525 non-null  object \n",
      " 8   income_type       21525 non-null  object \n",
      " 9   debt              21525 non-null  int64  \n",
      " 10  total_income      19351 non-null  float64\n",
      " 11  purpose           21525 non-null  object \n",
      "dtypes: float64(2), int64(5), object(5)\n",
      "memory usage: 2.0+ MB\n"
     ]
    }
   ],
   "source": [
    "#общая информация о датафрейме\n",
    "\n",
    "df.info()"
   ]
  },
  {
   "cell_type": "code",
   "execution_count": 5,
   "metadata": {},
   "outputs": [
    {
     "data": {
      "text/plain": [
       "Index(['children', 'days_employed', 'dob_years', 'education', 'education_id',\n",
       "       'family_status', 'family_status_id', 'gender', 'income_type', 'debt',\n",
       "       'total_income', 'purpose'],\n",
       "      dtype='object')"
      ]
     },
     "execution_count": 5,
     "metadata": {},
     "output_type": "execute_result"
    }
   ],
   "source": [
    "df.columns"
   ]
  },
  {
   "cell_type": "markdown",
   "metadata": {},
   "source": [
    "**Заметки**\n",
    "\n",
    "1. Не все строки из столбцов **\"days_employed\"** и **\"total_income\"** заполнены. Число пропусков в обоих столбцах одинаково.\n",
    "\n",
    "21525 (заполненные значения во всех столбцах) - 19351 (заполненные значения в столбцах \"days_employed\" и \"total_income\") = 2174 - это количество пропусков в вышеупомянутых столбцах.\n",
    "\n",
    "2. Здесь мы видим, какие типы данных (int, float, object) есть в датафрейме"
   ]
  },
  {
   "cell_type": "code",
   "execution_count": 6,
   "metadata": {},
   "outputs": [
    {
     "data": {
      "text/plain": [
       "(21525, 12)"
      ]
     },
     "execution_count": 6,
     "metadata": {},
     "output_type": "execute_result"
    }
   ],
   "source": [
    "# с помощью атрибута shape мы можем узнать количество строк (первая цифра) и столбцов (вторая цифра) в датафрейме\n",
    "\n",
    "df.shape"
   ]
  },
  {
   "cell_type": "markdown",
   "metadata": {},
   "source": [
    "В нашем датафрейме есть 21525 строк и 12 столбцов"
   ]
  },
  {
   "cell_type": "code",
   "execution_count": 7,
   "metadata": {
    "scrolled": true
   },
   "outputs": [
    {
     "data": {
      "text/plain": [
       "children              int64\n",
       "days_employed       float64\n",
       "dob_years             int64\n",
       "education            object\n",
       "education_id          int64\n",
       "family_status        object\n",
       "family_status_id      int64\n",
       "gender               object\n",
       "income_type          object\n",
       "debt                  int64\n",
       "total_income        float64\n",
       "purpose              object\n",
       "dtype: object"
      ]
     },
     "execution_count": 7,
     "metadata": {},
     "output_type": "execute_result"
    }
   ],
   "source": [
    "# типы данных\n",
    "\n",
    "df.dtypes"
   ]
  },
  {
   "cell_type": "markdown",
   "metadata": {},
   "source": [
    "При помощи атрибута **dtypes** мы видим, какие типы данных есть в нашем датафрейме."
   ]
  },
  {
   "cell_type": "markdown",
   "metadata": {},
   "source": [
    "**В нашем датафрейме встречаются данные трех типов:**  \n",
    "\n",
    "**object** - текст  \n",
    "**float64** -  дробное число (также известное как \"число с плавающей точкой\", вещественный тип данных)   \n",
    "**int64** - целое число (оно же - целочисленный тип данных)"
   ]
  },
  {
   "cell_type": "code",
   "execution_count": 8,
   "metadata": {
    "scrolled": true
   },
   "outputs": [
    {
     "data": {
      "text/html": [
       "<div>\n",
       "<style scoped>\n",
       "    .dataframe tbody tr th:only-of-type {\n",
       "        vertical-align: middle;\n",
       "    }\n",
       "\n",
       "    .dataframe tbody tr th {\n",
       "        vertical-align: top;\n",
       "    }\n",
       "\n",
       "    .dataframe thead th {\n",
       "        text-align: right;\n",
       "    }\n",
       "</style>\n",
       "<table border=\"1\" class=\"dataframe\">\n",
       "  <thead>\n",
       "    <tr style=\"text-align: right;\">\n",
       "      <th></th>\n",
       "      <th>children</th>\n",
       "      <th>days_employed</th>\n",
       "      <th>dob_years</th>\n",
       "      <th>education_id</th>\n",
       "      <th>family_status_id</th>\n",
       "      <th>debt</th>\n",
       "      <th>total_income</th>\n",
       "    </tr>\n",
       "  </thead>\n",
       "  <tbody>\n",
       "    <tr>\n",
       "      <th>count</th>\n",
       "      <td>21525.000000</td>\n",
       "      <td>19351.000000</td>\n",
       "      <td>21525.000000</td>\n",
       "      <td>21525.000000</td>\n",
       "      <td>21525.000000</td>\n",
       "      <td>21525.000000</td>\n",
       "      <td>1.935100e+04</td>\n",
       "    </tr>\n",
       "    <tr>\n",
       "      <th>mean</th>\n",
       "      <td>0.538908</td>\n",
       "      <td>63046.497661</td>\n",
       "      <td>43.293380</td>\n",
       "      <td>0.817236</td>\n",
       "      <td>0.972544</td>\n",
       "      <td>0.080883</td>\n",
       "      <td>1.674223e+05</td>\n",
       "    </tr>\n",
       "    <tr>\n",
       "      <th>std</th>\n",
       "      <td>1.381587</td>\n",
       "      <td>140827.311974</td>\n",
       "      <td>12.574584</td>\n",
       "      <td>0.548138</td>\n",
       "      <td>1.420324</td>\n",
       "      <td>0.272661</td>\n",
       "      <td>1.029716e+05</td>\n",
       "    </tr>\n",
       "    <tr>\n",
       "      <th>min</th>\n",
       "      <td>-1.000000</td>\n",
       "      <td>-18388.949901</td>\n",
       "      <td>0.000000</td>\n",
       "      <td>0.000000</td>\n",
       "      <td>0.000000</td>\n",
       "      <td>0.000000</td>\n",
       "      <td>2.066726e+04</td>\n",
       "    </tr>\n",
       "    <tr>\n",
       "      <th>25%</th>\n",
       "      <td>0.000000</td>\n",
       "      <td>-2747.423625</td>\n",
       "      <td>33.000000</td>\n",
       "      <td>1.000000</td>\n",
       "      <td>0.000000</td>\n",
       "      <td>0.000000</td>\n",
       "      <td>1.030532e+05</td>\n",
       "    </tr>\n",
       "    <tr>\n",
       "      <th>50%</th>\n",
       "      <td>0.000000</td>\n",
       "      <td>-1203.369529</td>\n",
       "      <td>42.000000</td>\n",
       "      <td>1.000000</td>\n",
       "      <td>0.000000</td>\n",
       "      <td>0.000000</td>\n",
       "      <td>1.450179e+05</td>\n",
       "    </tr>\n",
       "    <tr>\n",
       "      <th>75%</th>\n",
       "      <td>1.000000</td>\n",
       "      <td>-291.095954</td>\n",
       "      <td>53.000000</td>\n",
       "      <td>1.000000</td>\n",
       "      <td>1.000000</td>\n",
       "      <td>0.000000</td>\n",
       "      <td>2.034351e+05</td>\n",
       "    </tr>\n",
       "    <tr>\n",
       "      <th>max</th>\n",
       "      <td>20.000000</td>\n",
       "      <td>401755.400475</td>\n",
       "      <td>75.000000</td>\n",
       "      <td>4.000000</td>\n",
       "      <td>4.000000</td>\n",
       "      <td>1.000000</td>\n",
       "      <td>2.265604e+06</td>\n",
       "    </tr>\n",
       "  </tbody>\n",
       "</table>\n",
       "</div>"
      ],
      "text/plain": [
       "           children  days_employed     dob_years  education_id  \\\n",
       "count  21525.000000   19351.000000  21525.000000  21525.000000   \n",
       "mean       0.538908   63046.497661     43.293380      0.817236   \n",
       "std        1.381587  140827.311974     12.574584      0.548138   \n",
       "min       -1.000000  -18388.949901      0.000000      0.000000   \n",
       "25%        0.000000   -2747.423625     33.000000      1.000000   \n",
       "50%        0.000000   -1203.369529     42.000000      1.000000   \n",
       "75%        1.000000    -291.095954     53.000000      1.000000   \n",
       "max       20.000000  401755.400475     75.000000      4.000000   \n",
       "\n",
       "       family_status_id          debt  total_income  \n",
       "count      21525.000000  21525.000000  1.935100e+04  \n",
       "mean           0.972544      0.080883  1.674223e+05  \n",
       "std            1.420324      0.272661  1.029716e+05  \n",
       "min            0.000000      0.000000  2.066726e+04  \n",
       "25%            0.000000      0.000000  1.030532e+05  \n",
       "50%            0.000000      0.000000  1.450179e+05  \n",
       "75%            1.000000      0.000000  2.034351e+05  \n",
       "max            4.000000      1.000000  2.265604e+06  "
      ]
     },
     "execution_count": 8,
     "metadata": {},
     "output_type": "execute_result"
    }
   ],
   "source": [
    "# описание данных \n",
    "# пользуясь методом describe, смотрим на описательную статистику числовых данных:\n",
    "# минимальные (min) и максимальные (max) значения столбцов, среднее (mean), медиана (median), стандратное отклонение (std)\n",
    "# и процентили (25%, 50%, 75%). \n",
    "\n",
    "df.describe()"
   ]
  },
  {
   "cell_type": "code",
   "execution_count": 9,
   "metadata": {},
   "outputs": [
    {
     "data": {
      "text/plain": [
       "RangeIndex(start=0, stop=21525, step=1)"
      ]
     },
     "execution_count": 9,
     "metadata": {},
     "output_type": "execute_result"
    }
   ],
   "source": [
    "df.index"
   ]
  },
  {
   "cell_type": "code",
   "execution_count": 10,
   "metadata": {
    "scrolled": true
   },
   "outputs": [
    {
     "data": {
      "text/plain": [
       "172.73013057937914"
      ]
     },
     "execution_count": 10,
     "metadata": {},
     "output_type": "execute_result"
    }
   ],
   "source": [
    "#переводим среднее значение дней трудового стажа из дней в годы\n",
    "\n",
    "df['days_employed'].mean() / 365"
   ]
  },
  {
   "cell_type": "code",
   "execution_count": 11,
   "metadata": {},
   "outputs": [
    {
     "data": {
      "text/plain": [
       "-3.296902818549285"
      ]
     },
     "execution_count": 11,
     "metadata": {},
     "output_type": "execute_result"
    }
   ],
   "source": [
    "# переводим медиану дней трудового стажа из дней в годы\n",
    "\n",
    "df['days_employed'].median() / 365"
   ]
  },
  {
   "cell_type": "code",
   "execution_count": 12,
   "metadata": {},
   "outputs": [
    {
     "data": {
      "text/plain": [
       "385.8282519844296"
      ]
     },
     "execution_count": 12,
     "metadata": {},
     "output_type": "execute_result"
    }
   ],
   "source": [
    "# смотрим стандартное отклонение\n",
    "\n",
    "df['days_employed'].std() / 365"
   ]
  },
  {
   "cell_type": "code",
   "execution_count": 13,
   "metadata": {},
   "outputs": [
    {
     "name": "stdout",
     "output_type": "stream",
     "text": [
      "Количество семей с 20 детьми: 76\n"
     ]
    }
   ],
   "source": [
    "#считаем количество семей с 20 детьми\n",
    "\n",
    "print(\"Количество семей с 20 детьми:\", df[df['children'] == 20].count()[0])"
   ]
  },
  {
   "cell_type": "code",
   "execution_count": 14,
   "metadata": {},
   "outputs": [],
   "source": [
    "#удаляем строки с семьями, где детей 20\n",
    "\n",
    "df.drop(df.loc[df['children']==20].index, inplace=True)"
   ]
  },
  {
   "cell_type": "code",
   "execution_count": 15,
   "metadata": {},
   "outputs": [
    {
     "name": "stdout",
     "output_type": "stream",
     "text": [
      "Количество семей с 20 детьми: 0\n"
     ]
    }
   ],
   "source": [
    "#проверяем, удалились ли эти строки\n",
    "\n",
    "print(\"Количество семей с 20 детьми:\", df[df['children'] == 20].count()[0])"
   ]
  },
  {
   "cell_type": "code",
   "execution_count": 16,
   "metadata": {},
   "outputs": [],
   "source": [
    "#заменим количество детей -1 на 0 для единообразия в датафрейме\n",
    "\n",
    "df['children'] = df['children'].replace(-1, 0)"
   ]
  },
  {
   "cell_type": "code",
   "execution_count": 17,
   "metadata": {},
   "outputs": [
    {
     "name": "stdout",
     "output_type": "stream",
     "text": [
      "Количество семей с 0 детьми: 14196\n"
     ]
    }
   ],
   "source": [
    "print(\"Количество семей с 0 детьми:\", df[df['children'] == 0].count()[0])"
   ]
  },
  {
   "cell_type": "code",
   "execution_count": 18,
   "metadata": {
    "scrolled": true
   },
   "outputs": [
    {
     "name": "stdout",
     "output_type": "stream",
     "text": [
      "Количество семей с -1 детьми: 0\n"
     ]
    }
   ],
   "source": [
    "#проверяем, заменились ли строки с количеством детей \"-1\" на \"0\"\n",
    "\n",
    "print(\"Количество семей с -1 детьми:\", df[df['children'] == -1].count()[0])"
   ]
  },
  {
   "cell_type": "code",
   "execution_count": 19,
   "metadata": {},
   "outputs": [
    {
     "name": "stdout",
     "output_type": "stream",
     "text": [
      "Количество людей с нулевым возрастом: 100\n"
     ]
    }
   ],
   "source": [
    "#проверим, нет ли в базе значений столбца 'dob_years' (возраст) со значением 0\n",
    "\n",
    "print(\"Количество людей с нулевым возрастом:\", df[df['dob_years'] == 0].count()[0])"
   ]
  },
  {
   "cell_type": "code",
   "execution_count": 20,
   "metadata": {},
   "outputs": [
    {
     "data": {
      "text/plain": [
       "F      14189\n",
       "M       7259\n",
       "XNA        1\n",
       "Name: gender, dtype: int64"
      ]
     },
     "execution_count": 20,
     "metadata": {},
     "output_type": "execute_result"
    }
   ],
   "source": [
    "#смотрим уникальные значения по столбцу \"пол клиента\"\n",
    "\n",
    "df['gender'].value_counts()"
   ]
  },
  {
   "cell_type": "markdown",
   "metadata": {},
   "source": [
    "XNA - это у нас кто, гермафродит? Гугл не дал мне ответ на этот вопрос. Думаю, можно удалить."
   ]
  },
  {
   "cell_type": "code",
   "execution_count": 21,
   "metadata": {},
   "outputs": [],
   "source": [
    "#удалим гермафродита\n",
    "\n",
    "df.drop(df.loc[df['gender']== 'XNA'].index, inplace=True)"
   ]
  },
  {
   "cell_type": "code",
   "execution_count": 22,
   "metadata": {},
   "outputs": [
    {
     "data": {
      "text/plain": [
       "F    14189\n",
       "M     7259\n",
       "Name: gender, dtype: int64"
      ]
     },
     "execution_count": 22,
     "metadata": {},
     "output_type": "execute_result"
    }
   ],
   "source": [
    "#проверим, удалили ли\n",
    "\n",
    "df['gender'].value_counts()"
   ]
  },
  {
   "cell_type": "markdown",
   "metadata": {},
   "source": [
    "**Заметки**\n",
    "\n",
    "1. **<font color='green'> Минимальное количество детей </font>**   (столбец **\"Children\"**) указано -1.   \n",
    "Преподаватель ответил, что это 0 и -1 означает отсутствие детей. А получилось так потому, что данные выгружали из нескольких разных систем и в них был разный формат записи.  \n",
    "\n",
    "2. **<font color='green'> Максимальное количество детей </font>**  - 20. С большой долей вероятности это опечатка. Цифры 2 и 0 - это соседние клавиши на цифровом блоке клавиатуры, поэтому у человека, вводившего данные, палец соскользнул с одной клавиши на другую. Это надо будет исправить.  \n",
    "\n",
    "3. В столбце **<font color='green'> с возрастом клиентов \"dob_years\" есть значения, равные нулю </font>**    - предполагаю, что это потому, что возраст не был указан изначально. Отстутсвующие значения.  \n",
    "\n",
    "4. **<font color='green'> Среднее значение в столбце **days_employed (кол-во дней трудового стажа)** </font>** , если перевести его из дней в годы, разделив среднее значение на 365, показало  **<font color='green'> 172 года </font>** . Такого не может быть. Как я уже писала выше, выгрузка данных была из разных систем, где в одних системах данные о трудовом стаже были указаны в днях, а в других - в часах. Надо будет привести данные к одному формату (перевести часы в дни).  \n",
    "\n",
    "5. **<font color='green'> текст </font>** Помимо среднего значения по **days_employed**, я еще в отдельных ячейках посмотрела по этому же столбцу медиану, стандратное отклонение и разделила на 365, переведя дни в годы. Что касается медианы - я думаю, что медиана в 5 лет - вполне реальная цифра. Вот только насчет стандартного отклонения в 14 лет не понятно, нормально ли это.   \n",
    "\n",
    "6. **<font color='green'> текст </font>** Количество семей с 20 детьми: 76. Я  думаю, что все это - опечатки потому, что клавиши 2 и 0 на цифровом блоке - соседние и \n",
    "человек, вводивший данные, мог, нажимая 2 или 0, случайно задеть соседнюю клавишу. Чем заменить эти данные, не понятно (количеством детей 2 или 0, не понятно).  Но поскольку этих данных меньше 1%, то я их удалила.  \n",
    "\n",
    "7. Обнаружено 100 **<font color='green'> клиентов с нулевым возрастом. </font>**   Такого тоже не может быть. Это явно незаполненные значения. С этим надо что-то делать.   \n",
    "\n",
    "8. **<font color='green'> текст </font>** В принципе, можно было бы некорретными значениями счесть и те строки, где трудовой стаж нулевой. Но я погуглила и узнала, что банки ввиду высокой конкуренции меняют условия и становятся более лояльными к клиентам. Некоторые из них выдают кредиты и тем, у кого стажа совсем мало, либо его нет вообще. Поэтому эти строки трогать не будем.\n"
   ]
  },
  {
   "cell_type": "markdown",
   "metadata": {},
   "source": [
    "**Вывод**"
   ]
  },
  {
   "cell_type": "markdown",
   "metadata": {},
   "source": [
    "В датафрейме были обнаружены некорректные данные, образовавшиеся в результате опечаток, а также в в результате выгрузки из разных систем данных с разными форматами записей. Часть из них отредактированы для создания единообразия в датафрейме, часть - удалены."
   ]
  },
  {
   "cell_type": "markdown",
   "metadata": {},
   "source": [
    "## **<font color='YellowGreen'>Предобработка данных </font>** "
   ]
  },
  {
   "cell_type": "markdown",
   "metadata": {},
   "source": [
    "### **<font color='SeaGreen'>  Обработка пропусков </font>**\n",
    "\n",
    "***Задание:***\n",
    "\n",
    "1. Определите и заполните пропущенные значения.\n",
    "2. Опишите, какие пропущенные значения вы обнаружили;\n",
    "3. Приведите возможные причины появления пропусков в данных;\n",
    "4. Объясните, по какому принципу заполнены пропуски;\n",
    "\n",
    "***Пояснения:***\n",
    "\n",
    "1. **df.isna().sum()** -  подсчёт пропущенных значений. \n",
    "\n",
    "2. В **days_employed** обнаружила **NaN** (вывела первые 5 строк. Пробовала выводить и 20, и 30, чтобы убедиться наверняка - ничего не меняется. Кроме NaN, больше ничего не выводит среди типов пропущенных значений.\n",
    "\n",
    "3. Совпадает количество пропусков в столбцах **days_employed** и ****total_income** -2174. Это чуть меньше 10% от общего числа заемщиков.\n",
    "Возможно, часть замещиков брали кредиты, не предоставляя справку о доходах и копию трудовой книжки.\n",
    "Поэтому сотрудники банка не заполнили сведения о сумме всех источников дохода (total_income) и трудовом стаже(**days_employed**) \n",
    "\n",
    "4. Думаю, в таком случае нужно заполнить пропуски медианными значениями зарплат и кол-ва дней трудового стажа"
   ]
  },
  {
   "cell_type": "code",
   "execution_count": 23,
   "metadata": {
    "scrolled": true
   },
   "outputs": [
    {
     "data": {
      "text/plain": [
       "'Пропуски в трудовом стаже до:'"
      ]
     },
     "metadata": {},
     "output_type": "display_data"
    },
    {
     "data": {
      "text/plain": [
       "2165"
      ]
     },
     "metadata": {},
     "output_type": "display_data"
    },
    {
     "data": {
      "text/html": [
       "<div>\n",
       "<style scoped>\n",
       "    .dataframe tbody tr th:only-of-type {\n",
       "        vertical-align: middle;\n",
       "    }\n",
       "\n",
       "    .dataframe tbody tr th {\n",
       "        vertical-align: top;\n",
       "    }\n",
       "\n",
       "    .dataframe thead th {\n",
       "        text-align: right;\n",
       "    }\n",
       "</style>\n",
       "<table border=\"1\" class=\"dataframe\">\n",
       "  <thead>\n",
       "    <tr style=\"text-align: right;\">\n",
       "      <th></th>\n",
       "      <th>children</th>\n",
       "      <th>days_employed</th>\n",
       "      <th>dob_years</th>\n",
       "      <th>education</th>\n",
       "      <th>education_id</th>\n",
       "      <th>family_status</th>\n",
       "      <th>family_status_id</th>\n",
       "      <th>gender</th>\n",
       "      <th>income_type</th>\n",
       "      <th>debt</th>\n",
       "      <th>total_income</th>\n",
       "      <th>purpose</th>\n",
       "    </tr>\n",
       "  </thead>\n",
       "  <tbody>\n",
       "    <tr>\n",
       "      <th>12</th>\n",
       "      <td>0</td>\n",
       "      <td>NaN</td>\n",
       "      <td>65</td>\n",
       "      <td>среднее</td>\n",
       "      <td>1</td>\n",
       "      <td>гражданский брак</td>\n",
       "      <td>1</td>\n",
       "      <td>M</td>\n",
       "      <td>пенсионер</td>\n",
       "      <td>0</td>\n",
       "      <td>NaN</td>\n",
       "      <td>сыграть свадьбу</td>\n",
       "    </tr>\n",
       "    <tr>\n",
       "      <th>26</th>\n",
       "      <td>0</td>\n",
       "      <td>NaN</td>\n",
       "      <td>41</td>\n",
       "      <td>среднее</td>\n",
       "      <td>1</td>\n",
       "      <td>женат / замужем</td>\n",
       "      <td>0</td>\n",
       "      <td>M</td>\n",
       "      <td>госслужащий</td>\n",
       "      <td>0</td>\n",
       "      <td>NaN</td>\n",
       "      <td>образование</td>\n",
       "    </tr>\n",
       "    <tr>\n",
       "      <th>29</th>\n",
       "      <td>0</td>\n",
       "      <td>NaN</td>\n",
       "      <td>63</td>\n",
       "      <td>среднее</td>\n",
       "      <td>1</td>\n",
       "      <td>Не женат / не замужем</td>\n",
       "      <td>4</td>\n",
       "      <td>F</td>\n",
       "      <td>пенсионер</td>\n",
       "      <td>0</td>\n",
       "      <td>NaN</td>\n",
       "      <td>строительство жилой недвижимости</td>\n",
       "    </tr>\n",
       "    <tr>\n",
       "      <th>41</th>\n",
       "      <td>0</td>\n",
       "      <td>NaN</td>\n",
       "      <td>50</td>\n",
       "      <td>среднее</td>\n",
       "      <td>1</td>\n",
       "      <td>женат / замужем</td>\n",
       "      <td>0</td>\n",
       "      <td>F</td>\n",
       "      <td>госслужащий</td>\n",
       "      <td>0</td>\n",
       "      <td>NaN</td>\n",
       "      <td>сделка с подержанным автомобилем</td>\n",
       "    </tr>\n",
       "    <tr>\n",
       "      <th>55</th>\n",
       "      <td>0</td>\n",
       "      <td>NaN</td>\n",
       "      <td>54</td>\n",
       "      <td>среднее</td>\n",
       "      <td>1</td>\n",
       "      <td>гражданский брак</td>\n",
       "      <td>1</td>\n",
       "      <td>F</td>\n",
       "      <td>пенсионер</td>\n",
       "      <td>1</td>\n",
       "      <td>NaN</td>\n",
       "      <td>сыграть свадьбу</td>\n",
       "    </tr>\n",
       "  </tbody>\n",
       "</table>\n",
       "</div>"
      ],
      "text/plain": [
       "    children  days_employed  dob_years education  education_id  \\\n",
       "12         0            NaN         65   среднее             1   \n",
       "26         0            NaN         41   среднее             1   \n",
       "29         0            NaN         63   среднее             1   \n",
       "41         0            NaN         50   среднее             1   \n",
       "55         0            NaN         54   среднее             1   \n",
       "\n",
       "            family_status  family_status_id gender  income_type  debt  \\\n",
       "12       гражданский брак                 1      M    пенсионер     0   \n",
       "26        женат / замужем                 0      M  госслужащий     0   \n",
       "29  Не женат / не замужем                 4      F    пенсионер     0   \n",
       "41        женат / замужем                 0      F  госслужащий     0   \n",
       "55       гражданский брак                 1      F    пенсионер     1   \n",
       "\n",
       "    total_income                           purpose  \n",
       "12           NaN                   сыграть свадьбу  \n",
       "26           NaN                       образование  \n",
       "29           NaN  строительство жилой недвижимости  \n",
       "41           NaN  сделка с подержанным автомобилем  \n",
       "55           NaN                   сыграть свадьбу  "
      ]
     },
     "metadata": {},
     "output_type": "display_data"
    }
   ],
   "source": [
    "# считаем пропуски в столбце days_employed (пропуски в трудовом стаже)\n",
    "\n",
    "display('Пропуски в трудовом стаже до:', df['days_employed'].isna().sum())\n",
    "display(df[df['days_employed'].isna()].head()) "
   ]
  },
  {
   "cell_type": "code",
   "execution_count": 24,
   "metadata": {},
   "outputs": [
    {
     "data": {
      "text/plain": [
       "172.99898710353676"
      ]
     },
     "execution_count": 24,
     "metadata": {},
     "output_type": "execute_result"
    }
   ],
   "source": [
    "#переводим среднее значение дней трудового стажа из дней в годы\n",
    "\n",
    "df['days_employed'].mean() / 365"
   ]
  },
  {
   "cell_type": "code",
   "execution_count": 25,
   "metadata": {
    "scrolled": true
   },
   "outputs": [
    {
     "data": {
      "text/plain": [
       "'первые 5 строк до получения модуля дней трудового стажа'"
      ]
     },
     "metadata": {},
     "output_type": "display_data"
    },
    {
     "data": {
      "text/plain": [
       "0     -8437.673028\n",
       "1     -4024.803754\n",
       "2     -5623.422610\n",
       "3     -4124.747207\n",
       "4    340266.072047\n",
       "Name: days_employed, dtype: float64"
      ]
     },
     "metadata": {},
     "output_type": "display_data"
    }
   ],
   "source": [
    "# выводим на экран значения до получения модуля дней трудового стажа. Среди них есть отрицательные.\n",
    "# такого не может быть потому, что у значений \"дни трудового стажа\" не может быть отрицательного значения\n",
    "# значения могут быть либо нулевые (человек нигде никогда не работал, поэтому у него дней трудового стажа ноль)\n",
    "# либо положительные (человек работал и его трудовой стаж можно измерить в днях)\n",
    "\n",
    "display('первые 5 строк до получения модуля дней трудового стажа', df['days_employed'].head())"
   ]
  },
  {
   "cell_type": "code",
   "execution_count": 26,
   "metadata": {},
   "outputs": [
    {
     "data": {
      "text/plain": [
       "'Количество дней трудового стажа после перевода часов в дни'"
      ]
     },
     "metadata": {},
     "output_type": "display_data"
    },
    {
     "data": {
      "text/plain": [
       "4     14177.753002\n",
       "18    16678.380705\n",
       "24    14106.331371\n",
       "25    15147.853723\n",
       "30    13982.569521\n",
       "Name: days_employed, dtype: float64"
      ]
     },
     "metadata": {},
     "output_type": "display_data"
    }
   ],
   "source": [
    "# берем значения по модулю\n",
    "\n",
    "df['days_employed'] = df['days_employed'].apply(abs) \n",
    "hours_to_days = df.loc[df['days_employed'] > 20000, 'days_employed'] = df.loc[df['days_employed'] >20000, 'days_employed'] / 24\n",
    "\n",
    "display('Количество дней трудового стажа после перевода часов в дни', hours_to_days.head())"
   ]
  },
  {
   "cell_type": "code",
   "execution_count": 27,
   "metadata": {},
   "outputs": [
    {
     "data": {
      "text/plain": [
       "6.015604182343139"
      ]
     },
     "execution_count": 27,
     "metadata": {},
     "output_type": "execute_result"
    }
   ],
   "source": [
    "#переводим медиану дней трудового стажа из дней в годы\n",
    "\n",
    "df['days_employed'].median() / 365"
   ]
  },
  {
   "cell_type": "code",
   "execution_count": 28,
   "metadata": {},
   "outputs": [
    {
     "data": {
      "text/plain": [
       "'Пропуски в трудовом стаже после:'"
      ]
     },
     "metadata": {},
     "output_type": "display_data"
    },
    {
     "data": {
      "text/plain": [
       "0"
      ]
     },
     "metadata": {},
     "output_type": "display_data"
    },
    {
     "data": {
      "text/html": [
       "<div>\n",
       "<style scoped>\n",
       "    .dataframe tbody tr th:only-of-type {\n",
       "        vertical-align: middle;\n",
       "    }\n",
       "\n",
       "    .dataframe tbody tr th {\n",
       "        vertical-align: top;\n",
       "    }\n",
       "\n",
       "    .dataframe thead th {\n",
       "        text-align: right;\n",
       "    }\n",
       "</style>\n",
       "<table border=\"1\" class=\"dataframe\">\n",
       "  <thead>\n",
       "    <tr style=\"text-align: right;\">\n",
       "      <th></th>\n",
       "      <th>children</th>\n",
       "      <th>days_employed</th>\n",
       "      <th>dob_years</th>\n",
       "      <th>education</th>\n",
       "      <th>education_id</th>\n",
       "      <th>family_status</th>\n",
       "      <th>family_status_id</th>\n",
       "      <th>gender</th>\n",
       "      <th>income_type</th>\n",
       "      <th>debt</th>\n",
       "      <th>total_income</th>\n",
       "      <th>purpose</th>\n",
       "    </tr>\n",
       "  </thead>\n",
       "  <tbody>\n",
       "  </tbody>\n",
       "</table>\n",
       "</div>"
      ],
      "text/plain": [
       "Empty DataFrame\n",
       "Columns: [children, days_employed, dob_years, education, education_id, family_status, family_status_id, gender, income_type, debt, total_income, purpose]\n",
       "Index: []"
      ]
     },
     "metadata": {},
     "output_type": "display_data"
    }
   ],
   "source": [
    "# заменяем пропущенные значения столбца \"дни трудового стажа\" медианами\n",
    "# проверяем, остались ли пропуски после замены пропущенных значений медианами\n",
    "\n",
    "df.loc[df['days_employed'].isna(), 'days_employed'] = df['days_employed'].median()\n",
    "display('Пропуски в трудовом стаже после:', df['days_employed'].isna().sum())\n",
    "display(df[df['days_employed'].isna()].head()) "
   ]
  },
  {
   "cell_type": "code",
   "execution_count": 29,
   "metadata": {},
   "outputs": [
    {
     "data": {
      "text/plain": [
       "'Пропуски в общем доходе до:'"
      ]
     },
     "metadata": {},
     "output_type": "display_data"
    },
    {
     "data": {
      "text/plain": [
       "2165"
      ]
     },
     "metadata": {},
     "output_type": "display_data"
    },
    {
     "data": {
      "text/html": [
       "<div>\n",
       "<style scoped>\n",
       "    .dataframe tbody tr th:only-of-type {\n",
       "        vertical-align: middle;\n",
       "    }\n",
       "\n",
       "    .dataframe tbody tr th {\n",
       "        vertical-align: top;\n",
       "    }\n",
       "\n",
       "    .dataframe thead th {\n",
       "        text-align: right;\n",
       "    }\n",
       "</style>\n",
       "<table border=\"1\" class=\"dataframe\">\n",
       "  <thead>\n",
       "    <tr style=\"text-align: right;\">\n",
       "      <th></th>\n",
       "      <th>children</th>\n",
       "      <th>days_employed</th>\n",
       "      <th>dob_years</th>\n",
       "      <th>education</th>\n",
       "      <th>education_id</th>\n",
       "      <th>family_status</th>\n",
       "      <th>family_status_id</th>\n",
       "      <th>gender</th>\n",
       "      <th>income_type</th>\n",
       "      <th>debt</th>\n",
       "      <th>total_income</th>\n",
       "      <th>purpose</th>\n",
       "    </tr>\n",
       "  </thead>\n",
       "  <tbody>\n",
       "    <tr>\n",
       "      <th>12</th>\n",
       "      <td>0</td>\n",
       "      <td>2195.695527</td>\n",
       "      <td>65</td>\n",
       "      <td>среднее</td>\n",
       "      <td>1</td>\n",
       "      <td>гражданский брак</td>\n",
       "      <td>1</td>\n",
       "      <td>M</td>\n",
       "      <td>пенсионер</td>\n",
       "      <td>0</td>\n",
       "      <td>NaN</td>\n",
       "      <td>сыграть свадьбу</td>\n",
       "    </tr>\n",
       "    <tr>\n",
       "      <th>26</th>\n",
       "      <td>0</td>\n",
       "      <td>2195.695527</td>\n",
       "      <td>41</td>\n",
       "      <td>среднее</td>\n",
       "      <td>1</td>\n",
       "      <td>женат / замужем</td>\n",
       "      <td>0</td>\n",
       "      <td>M</td>\n",
       "      <td>госслужащий</td>\n",
       "      <td>0</td>\n",
       "      <td>NaN</td>\n",
       "      <td>образование</td>\n",
       "    </tr>\n",
       "    <tr>\n",
       "      <th>29</th>\n",
       "      <td>0</td>\n",
       "      <td>2195.695527</td>\n",
       "      <td>63</td>\n",
       "      <td>среднее</td>\n",
       "      <td>1</td>\n",
       "      <td>Не женат / не замужем</td>\n",
       "      <td>4</td>\n",
       "      <td>F</td>\n",
       "      <td>пенсионер</td>\n",
       "      <td>0</td>\n",
       "      <td>NaN</td>\n",
       "      <td>строительство жилой недвижимости</td>\n",
       "    </tr>\n",
       "    <tr>\n",
       "      <th>41</th>\n",
       "      <td>0</td>\n",
       "      <td>2195.695527</td>\n",
       "      <td>50</td>\n",
       "      <td>среднее</td>\n",
       "      <td>1</td>\n",
       "      <td>женат / замужем</td>\n",
       "      <td>0</td>\n",
       "      <td>F</td>\n",
       "      <td>госслужащий</td>\n",
       "      <td>0</td>\n",
       "      <td>NaN</td>\n",
       "      <td>сделка с подержанным автомобилем</td>\n",
       "    </tr>\n",
       "    <tr>\n",
       "      <th>55</th>\n",
       "      <td>0</td>\n",
       "      <td>2195.695527</td>\n",
       "      <td>54</td>\n",
       "      <td>среднее</td>\n",
       "      <td>1</td>\n",
       "      <td>гражданский брак</td>\n",
       "      <td>1</td>\n",
       "      <td>F</td>\n",
       "      <td>пенсионер</td>\n",
       "      <td>1</td>\n",
       "      <td>NaN</td>\n",
       "      <td>сыграть свадьбу</td>\n",
       "    </tr>\n",
       "  </tbody>\n",
       "</table>\n",
       "</div>"
      ],
      "text/plain": [
       "    children  days_employed  dob_years education  education_id  \\\n",
       "12         0    2195.695527         65   среднее             1   \n",
       "26         0    2195.695527         41   среднее             1   \n",
       "29         0    2195.695527         63   среднее             1   \n",
       "41         0    2195.695527         50   среднее             1   \n",
       "55         0    2195.695527         54   среднее             1   \n",
       "\n",
       "            family_status  family_status_id gender  income_type  debt  \\\n",
       "12       гражданский брак                 1      M    пенсионер     0   \n",
       "26        женат / замужем                 0      M  госслужащий     0   \n",
       "29  Не женат / не замужем                 4      F    пенсионер     0   \n",
       "41        женат / замужем                 0      F  госслужащий     0   \n",
       "55       гражданский брак                 1      F    пенсионер     1   \n",
       "\n",
       "    total_income                           purpose  \n",
       "12           NaN                   сыграть свадьбу  \n",
       "26           NaN                       образование  \n",
       "29           NaN  строительство жилой недвижимости  \n",
       "41           NaN  сделка с подержанным автомобилем  \n",
       "55           NaN                   сыграть свадьбу  "
      ]
     },
     "metadata": {},
     "output_type": "display_data"
    }
   ],
   "source": [
    "# считаем пропуски в столбце \"общий доход\" \n",
    "\n",
    "display('Пропуски в общем доходе до:', df['total_income'].isna().sum())\n",
    "display(df[df['total_income'].isna()].head()) "
   ]
  },
  {
   "cell_type": "code",
   "execution_count": 30,
   "metadata": {},
   "outputs": [
    {
     "data": {
      "text/plain": [
       "'Пропуски в общем доходе после:'"
      ]
     },
     "metadata": {},
     "output_type": "display_data"
    },
    {
     "data": {
      "text/plain": [
       "0"
      ]
     },
     "metadata": {},
     "output_type": "display_data"
    }
   ],
   "source": [
    "# заменяем пропущенные значения столбца \"общий доход\" медианами\n",
    "# проверяем, остались ли пропуски после замены пропущенных значений медианами\n",
    "\n",
    "df.loc[df['total_income'].isna(), 'total_income'] = df['total_income'].median()\n",
    "display('Пропуски в общем доходе после:', df['total_income'].isna().sum())"
   ]
  },
  {
   "cell_type": "markdown",
   "metadata": {},
   "source": [
    "**Вывод**"
   ]
  },
  {
   "cell_type": "markdown",
   "metadata": {},
   "source": [
    "Совпало количество пропусков в столбцах **days_employed** и **total_income** -2174. Это чуть меньше 10% от общего числа заемщиков.\n",
    "Возможно, часть замещиков брали кредиты, не предоставляя справку о доходах и копию трудовой книжки.\n",
    "Поэтому сотрудники банка не заполнили сведения о сумме всех источников дохода (**total_income**) и трудовом стаже(**days_employed**). \n",
    "\n",
    "Удалять я эти данные не стала потому, что удалять данные можно только в том случае, если их меньше 1%. А тут 10% - многовато для удаления."
   ]
  },
  {
   "cell_type": "markdown",
   "metadata": {},
   "source": [
    "### **<font color='DarkSeaGreen'> Замена типа данных </font>**\n",
    "\n",
    "Поясняю, почему выбрала именно **astype** для замены вещественного типа данных на целочисленный. **to_numeric** здесь не подходит потому, что он предназначен для перевода строковых типов в численный. \n",
    "\n",
    "Параметр **errors='ignore'** выбран для того, чтобы игнорировать ошибки, которые выдает программа при попытке привести строковый тип **(str)** в целочисленный **(int)**\n"
   ]
  },
  {
   "cell_type": "code",
   "execution_count": 31,
   "metadata": {},
   "outputs": [
    {
     "data": {
      "text/plain": [
       "children             int64\n",
       "days_employed        int64\n",
       "dob_years            int64\n",
       "education           object\n",
       "education_id         int64\n",
       "family_status       object\n",
       "family_status_id     int64\n",
       "gender              object\n",
       "income_type         object\n",
       "debt                 int64\n",
       "total_income         int64\n",
       "purpose             object\n",
       "dtype: object"
      ]
     },
     "execution_count": 31,
     "metadata": {},
     "output_type": "execute_result"
    }
   ],
   "source": [
    "# приводим данные к целочисленному типу\n",
    "\n",
    "df['days_employed'] = df['days_employed'].astype(int)\n",
    "df['total_income'] = df['total_income'].astype(int)\n",
    "df.dtypes"
   ]
  },
  {
   "cell_type": "markdown",
   "metadata": {},
   "source": [
    "**Вывод**\n",
    "\n",
    "Заменили тип данных в общем доходе и количестве дней трудового стажа на целочисленный."
   ]
  },
  {
   "cell_type": "markdown",
   "metadata": {},
   "source": [
    "### **<font color='LightSeaGreen'> Обработка дубликатов </font>** \n",
    "\n",
    "***Задание:***\n",
    "\n",
    "\n",
    "**Удалите дубликаты**:\n",
    "1. Поясните, как выбирали метод для поиска и удаления дубликатов в данных;\n",
    "2. Приведите возможные причины появления дубликатов;\n",
    "\n",
    "Сначала смотрим, нужно ли приводить текстовые поля к нижнему регистру, выводим уникальные значения для каждого из столбцов. В столбце **education** было видно, что одни и те же значения были введены разными регистрами, например, \"СРЕДНЕЕ\" и \"среднее\". Для того, чтобы обнаружить больше дубликатов, нужно было привести значения столбцов к одному регистру потому, что если бы все осталось так же, как и было, то многие дубликаты не были бы удалены. Что касается остальных столбцов - там все значения указаны в нижнем регистре, так что их не трогаем. \n",
    "\n",
    "\n",
    "***df.duplicated().sum()*** - этой командой я решила посчитать сумму дубликатов. Причем ДО того, как я написала  \n",
    "***df = df.drop_duplicates().reset_index(drop=True)***, он количество дубликатов показывал 71. \n",
    "\n",
    "***df.duplicated().sum()*** #здесь он показывал 71 дубликат - но это было до того, как я удалила дубликаты  \n",
    "***df = df.drop_duplicates().reset_index(drop=True)*** #удаление дубликатов с перенумерацией. Оставлять старую нумерацию нам незачем\n",
    "***df.duplicated().sum()*** #дубликатов 0\n"
   ]
  },
  {
   "cell_type": "markdown",
   "metadata": {},
   "source": [
    "Для начала посмотрим на то, какие есть уникальные значения в датафрейме. Это может нам дать подсказку, по каким столбцам может быть больше всего дубликатов. Особенно это касается неявных дубликатов, которые могут появляться, например, от разных регистров."
   ]
  },
  {
   "cell_type": "code",
   "execution_count": 32,
   "metadata": {
    "scrolled": true
   },
   "outputs": [
    {
     "data": {
      "text/plain": [
       "array(['высшее', 'среднее', 'Среднее', 'СРЕДНЕЕ', 'ВЫСШЕЕ',\n",
       "       'неоконченное высшее', 'начальное', 'Высшее',\n",
       "       'НЕОКОНЧЕННОЕ ВЫСШЕЕ', 'Неоконченное высшее', 'НАЧАЛЬНОЕ',\n",
       "       'Начальное', 'Ученая степень', 'УЧЕНАЯ СТЕПЕНЬ', 'ученая степень'],\n",
       "      dtype=object)"
      ]
     },
     "metadata": {},
     "output_type": "display_data"
    }
   ],
   "source": [
    "# выводим на экран список уникальных значений в столбце \"образование\"\n",
    "\n",
    "display(df['education'].unique()) "
   ]
  },
  {
   "cell_type": "code",
   "execution_count": 33,
   "metadata": {},
   "outputs": [
    {
     "data": {
      "text/plain": [
       "array(['женат / замужем', 'гражданский брак', 'вдовец / вдова',\n",
       "       'в разводе', 'Не женат / не замужем'], dtype=object)"
      ]
     },
     "metadata": {},
     "output_type": "display_data"
    }
   ],
   "source": [
    "# выводим на экран список уникальных значений в столбце \"семейный статус\"\n",
    "\n",
    "display(df['family_status'].unique())"
   ]
  },
  {
   "cell_type": "code",
   "execution_count": 34,
   "metadata": {},
   "outputs": [
    {
     "data": {
      "text/plain": [
       "array(['сотрудник', 'пенсионер', 'компаньон', 'госслужащий',\n",
       "       'безработный', 'предприниматель', 'студент', 'в декрете'],\n",
       "      dtype=object)"
      ]
     },
     "metadata": {},
     "output_type": "display_data"
    }
   ],
   "source": [
    "# выводим  на экран список уникальных значений в столбце \"тип занятости\"\n",
    "\n",
    "display(df['income_type'].unique())"
   ]
  },
  {
   "cell_type": "code",
   "execution_count": 35,
   "metadata": {
    "scrolled": false
   },
   "outputs": [
    {
     "data": {
      "text/plain": [
       "array(['покупка жилья', 'приобретение автомобиля',\n",
       "       'дополнительное образование', 'сыграть свадьбу',\n",
       "       'операции с жильем', 'образование', 'на проведение свадьбы',\n",
       "       'покупка жилья для семьи', 'покупка недвижимости',\n",
       "       'покупка коммерческой недвижимости', 'покупка жилой недвижимости',\n",
       "       'строительство собственной недвижимости', 'недвижимость',\n",
       "       'строительство недвижимости', 'на покупку подержанного автомобиля',\n",
       "       'на покупку своего автомобиля',\n",
       "       'операции с коммерческой недвижимостью',\n",
       "       'строительство жилой недвижимости', 'жилье',\n",
       "       'операции со своей недвижимостью', 'автомобили',\n",
       "       'заняться образованием', 'сделка с подержанным автомобилем',\n",
       "       'получение образования', 'автомобиль', 'свадьба',\n",
       "       'получение дополнительного образования', 'покупка своего жилья',\n",
       "       'операции с недвижимостью', 'получение высшего образования',\n",
       "       'свой автомобиль', 'сделка с автомобилем',\n",
       "       'профильное образование', 'высшее образование',\n",
       "       'покупка жилья для сдачи', 'на покупку автомобиля', 'ремонт жилью',\n",
       "       'заняться высшим образованием'], dtype=object)"
      ]
     },
     "metadata": {},
     "output_type": "display_data"
    }
   ],
   "source": [
    "# выводим на экран список уникальных значений в столбце \"цель кредита\"\n",
    "\n",
    "display(df['purpose'].unique())"
   ]
  },
  {
   "cell_type": "code",
   "execution_count": 36,
   "metadata": {
    "scrolled": true
   },
   "outputs": [
    {
     "data": {
      "text/html": [
       "<div>\n",
       "<style scoped>\n",
       "    .dataframe tbody tr th:only-of-type {\n",
       "        vertical-align: middle;\n",
       "    }\n",
       "\n",
       "    .dataframe tbody tr th {\n",
       "        vertical-align: top;\n",
       "    }\n",
       "\n",
       "    .dataframe thead th {\n",
       "        text-align: right;\n",
       "    }\n",
       "</style>\n",
       "<table border=\"1\" class=\"dataframe\">\n",
       "  <thead>\n",
       "    <tr style=\"text-align: right;\">\n",
       "      <th></th>\n",
       "      <th>children</th>\n",
       "      <th>days_employed</th>\n",
       "      <th>dob_years</th>\n",
       "      <th>education</th>\n",
       "      <th>education_id</th>\n",
       "      <th>family_status</th>\n",
       "      <th>family_status_id</th>\n",
       "      <th>gender</th>\n",
       "      <th>income_type</th>\n",
       "      <th>debt</th>\n",
       "      <th>total_income</th>\n",
       "      <th>purpose</th>\n",
       "    </tr>\n",
       "  </thead>\n",
       "  <tbody>\n",
       "    <tr>\n",
       "      <th>120</th>\n",
       "      <td>0</td>\n",
       "      <td>2195</td>\n",
       "      <td>46</td>\n",
       "      <td>среднее</td>\n",
       "      <td>1</td>\n",
       "      <td>женат / замужем</td>\n",
       "      <td>0</td>\n",
       "      <td>F</td>\n",
       "      <td>сотрудник</td>\n",
       "      <td>0</td>\n",
       "      <td>145017</td>\n",
       "      <td>высшее образование</td>\n",
       "    </tr>\n",
       "    <tr>\n",
       "      <th>520</th>\n",
       "      <td>0</td>\n",
       "      <td>2195</td>\n",
       "      <td>35</td>\n",
       "      <td>среднее</td>\n",
       "      <td>1</td>\n",
       "      <td>гражданский брак</td>\n",
       "      <td>1</td>\n",
       "      <td>F</td>\n",
       "      <td>сотрудник</td>\n",
       "      <td>0</td>\n",
       "      <td>145017</td>\n",
       "      <td>сыграть свадьбу</td>\n",
       "    </tr>\n",
       "    <tr>\n",
       "      <th>541</th>\n",
       "      <td>0</td>\n",
       "      <td>2195</td>\n",
       "      <td>57</td>\n",
       "      <td>среднее</td>\n",
       "      <td>1</td>\n",
       "      <td>женат / замужем</td>\n",
       "      <td>0</td>\n",
       "      <td>F</td>\n",
       "      <td>сотрудник</td>\n",
       "      <td>0</td>\n",
       "      <td>145017</td>\n",
       "      <td>сделка с подержанным автомобилем</td>\n",
       "    </tr>\n",
       "    <tr>\n",
       "      <th>554</th>\n",
       "      <td>0</td>\n",
       "      <td>2195</td>\n",
       "      <td>60</td>\n",
       "      <td>среднее</td>\n",
       "      <td>1</td>\n",
       "      <td>женат / замужем</td>\n",
       "      <td>0</td>\n",
       "      <td>M</td>\n",
       "      <td>сотрудник</td>\n",
       "      <td>0</td>\n",
       "      <td>145017</td>\n",
       "      <td>покупка недвижимости</td>\n",
       "    </tr>\n",
       "    <tr>\n",
       "      <th>680</th>\n",
       "      <td>1</td>\n",
       "      <td>2195</td>\n",
       "      <td>30</td>\n",
       "      <td>высшее</td>\n",
       "      <td>0</td>\n",
       "      <td>женат / замужем</td>\n",
       "      <td>0</td>\n",
       "      <td>F</td>\n",
       "      <td>госслужащий</td>\n",
       "      <td>0</td>\n",
       "      <td>145017</td>\n",
       "      <td>покупка жилья для семьи</td>\n",
       "    </tr>\n",
       "    <tr>\n",
       "      <th>...</th>\n",
       "      <td>...</td>\n",
       "      <td>...</td>\n",
       "      <td>...</td>\n",
       "      <td>...</td>\n",
       "      <td>...</td>\n",
       "      <td>...</td>\n",
       "      <td>...</td>\n",
       "      <td>...</td>\n",
       "      <td>...</td>\n",
       "      <td>...</td>\n",
       "      <td>...</td>\n",
       "      <td>...</td>\n",
       "    </tr>\n",
       "    <tr>\n",
       "      <th>20702</th>\n",
       "      <td>0</td>\n",
       "      <td>2195</td>\n",
       "      <td>64</td>\n",
       "      <td>среднее</td>\n",
       "      <td>1</td>\n",
       "      <td>женат / замужем</td>\n",
       "      <td>0</td>\n",
       "      <td>F</td>\n",
       "      <td>пенсионер</td>\n",
       "      <td>0</td>\n",
       "      <td>145017</td>\n",
       "      <td>дополнительное образование</td>\n",
       "    </tr>\n",
       "    <tr>\n",
       "      <th>21032</th>\n",
       "      <td>0</td>\n",
       "      <td>2195</td>\n",
       "      <td>60</td>\n",
       "      <td>среднее</td>\n",
       "      <td>1</td>\n",
       "      <td>женат / замужем</td>\n",
       "      <td>0</td>\n",
       "      <td>F</td>\n",
       "      <td>пенсионер</td>\n",
       "      <td>0</td>\n",
       "      <td>145017</td>\n",
       "      <td>заняться образованием</td>\n",
       "    </tr>\n",
       "    <tr>\n",
       "      <th>21132</th>\n",
       "      <td>0</td>\n",
       "      <td>2195</td>\n",
       "      <td>47</td>\n",
       "      <td>среднее</td>\n",
       "      <td>1</td>\n",
       "      <td>женат / замужем</td>\n",
       "      <td>0</td>\n",
       "      <td>F</td>\n",
       "      <td>сотрудник</td>\n",
       "      <td>0</td>\n",
       "      <td>145017</td>\n",
       "      <td>ремонт жилью</td>\n",
       "    </tr>\n",
       "    <tr>\n",
       "      <th>21281</th>\n",
       "      <td>1</td>\n",
       "      <td>2195</td>\n",
       "      <td>30</td>\n",
       "      <td>высшее</td>\n",
       "      <td>0</td>\n",
       "      <td>женат / замужем</td>\n",
       "      <td>0</td>\n",
       "      <td>F</td>\n",
       "      <td>сотрудник</td>\n",
       "      <td>0</td>\n",
       "      <td>145017</td>\n",
       "      <td>покупка коммерческой недвижимости</td>\n",
       "    </tr>\n",
       "    <tr>\n",
       "      <th>21415</th>\n",
       "      <td>0</td>\n",
       "      <td>2195</td>\n",
       "      <td>54</td>\n",
       "      <td>среднее</td>\n",
       "      <td>1</td>\n",
       "      <td>женат / замужем</td>\n",
       "      <td>0</td>\n",
       "      <td>F</td>\n",
       "      <td>пенсионер</td>\n",
       "      <td>0</td>\n",
       "      <td>145017</td>\n",
       "      <td>операции с жильем</td>\n",
       "    </tr>\n",
       "  </tbody>\n",
       "</table>\n",
       "<p>106 rows × 12 columns</p>\n",
       "</div>"
      ],
      "text/plain": [
       "       children  days_employed  dob_years education  education_id  \\\n",
       "120           0           2195         46   среднее             1   \n",
       "520           0           2195         35   среднее             1   \n",
       "541           0           2195         57   среднее             1   \n",
       "554           0           2195         60   среднее             1   \n",
       "680           1           2195         30    высшее             0   \n",
       "...         ...            ...        ...       ...           ...   \n",
       "20702         0           2195         64   среднее             1   \n",
       "21032         0           2195         60   среднее             1   \n",
       "21132         0           2195         47   среднее             1   \n",
       "21281         1           2195         30    высшее             0   \n",
       "21415         0           2195         54   среднее             1   \n",
       "\n",
       "          family_status  family_status_id gender  income_type  debt  \\\n",
       "120     женат / замужем                 0      F    сотрудник     0   \n",
       "520    гражданский брак                 1      F    сотрудник     0   \n",
       "541     женат / замужем                 0      F    сотрудник     0   \n",
       "554     женат / замужем                 0      M    сотрудник     0   \n",
       "680     женат / замужем                 0      F  госслужащий     0   \n",
       "...                 ...               ...    ...          ...   ...   \n",
       "20702   женат / замужем                 0      F    пенсионер     0   \n",
       "21032   женат / замужем                 0      F    пенсионер     0   \n",
       "21132   женат / замужем                 0      F    сотрудник     0   \n",
       "21281   женат / замужем                 0      F    сотрудник     0   \n",
       "21415   женат / замужем                 0      F    пенсионер     0   \n",
       "\n",
       "       total_income                            purpose  \n",
       "120          145017                 высшее образование  \n",
       "520          145017                    сыграть свадьбу  \n",
       "541          145017   сделка с подержанным автомобилем  \n",
       "554          145017               покупка недвижимости  \n",
       "680          145017            покупка жилья для семьи  \n",
       "...             ...                                ...  \n",
       "20702        145017         дополнительное образование  \n",
       "21032        145017              заняться образованием  \n",
       "21132        145017                       ремонт жилью  \n",
       "21281        145017  покупка коммерческой недвижимости  \n",
       "21415        145017                  операции с жильем  \n",
       "\n",
       "[106 rows x 12 columns]"
      ]
     },
     "execution_count": 36,
     "metadata": {},
     "output_type": "execute_result"
    }
   ],
   "source": [
    "#посмотрим, какие дубликаты у нас есть и сколько их\n",
    "\n",
    "df[df.duplicated(keep=False)].sort_values(by=['total_income', 'days_employed'])"
   ]
  },
  {
   "cell_type": "markdown",
   "metadata": {},
   "source": [
    "Причина дубликатов - данные были внесены в несколько разных баз данных. А поскольку выгрузка была из нескольких разных источников (это предположение уже несколько раз подтвердилось, я об этом писала выше), то это и привело к созданию дублей. Даже если бы выгрузка была из одной единой системы, но данные могли при выгрузке задвоиться. "
   ]
  },
  {
   "cell_type": "code",
   "execution_count": 37,
   "metadata": {},
   "outputs": [
    {
     "data": {
      "text/plain": [
       "0"
      ]
     },
     "execution_count": 37,
     "metadata": {},
     "output_type": "execute_result"
    }
   ],
   "source": [
    "# удаляем дубликаты\n",
    "# проверяем, осталились ли дубликаты после удаления\n",
    "\n",
    "df = df.drop_duplicates().reset_index(drop=True)\n",
    "\n",
    "df.duplicated().sum()"
   ]
  },
  {
   "cell_type": "code",
   "execution_count": 38,
   "metadata": {},
   "outputs": [
    {
     "data": {
      "text/html": [
       "<div>\n",
       "<style scoped>\n",
       "    .dataframe tbody tr th:only-of-type {\n",
       "        vertical-align: middle;\n",
       "    }\n",
       "\n",
       "    .dataframe tbody tr th {\n",
       "        vertical-align: top;\n",
       "    }\n",
       "\n",
       "    .dataframe thead th {\n",
       "        text-align: right;\n",
       "    }\n",
       "</style>\n",
       "<table border=\"1\" class=\"dataframe\">\n",
       "  <thead>\n",
       "    <tr style=\"text-align: right;\">\n",
       "      <th></th>\n",
       "      <th>children</th>\n",
       "      <th>days_employed</th>\n",
       "      <th>dob_years</th>\n",
       "      <th>education</th>\n",
       "      <th>education_id</th>\n",
       "      <th>family_status</th>\n",
       "      <th>family_status_id</th>\n",
       "      <th>gender</th>\n",
       "      <th>income_type</th>\n",
       "      <th>debt</th>\n",
       "      <th>total_income</th>\n",
       "      <th>purpose</th>\n",
       "    </tr>\n",
       "  </thead>\n",
       "  <tbody>\n",
       "    <tr>\n",
       "      <th>0</th>\n",
       "      <td>1</td>\n",
       "      <td>8437</td>\n",
       "      <td>42</td>\n",
       "      <td>высшее</td>\n",
       "      <td>0</td>\n",
       "      <td>женат / замужем</td>\n",
       "      <td>0</td>\n",
       "      <td>F</td>\n",
       "      <td>сотрудник</td>\n",
       "      <td>0</td>\n",
       "      <td>253875</td>\n",
       "      <td>покупка жилья</td>\n",
       "    </tr>\n",
       "    <tr>\n",
       "      <th>1</th>\n",
       "      <td>1</td>\n",
       "      <td>4024</td>\n",
       "      <td>36</td>\n",
       "      <td>среднее</td>\n",
       "      <td>1</td>\n",
       "      <td>женат / замужем</td>\n",
       "      <td>0</td>\n",
       "      <td>F</td>\n",
       "      <td>сотрудник</td>\n",
       "      <td>0</td>\n",
       "      <td>112080</td>\n",
       "      <td>приобретение автомобиля</td>\n",
       "    </tr>\n",
       "    <tr>\n",
       "      <th>2</th>\n",
       "      <td>0</td>\n",
       "      <td>5623</td>\n",
       "      <td>33</td>\n",
       "      <td>среднее</td>\n",
       "      <td>1</td>\n",
       "      <td>женат / замужем</td>\n",
       "      <td>0</td>\n",
       "      <td>M</td>\n",
       "      <td>сотрудник</td>\n",
       "      <td>0</td>\n",
       "      <td>145885</td>\n",
       "      <td>покупка жилья</td>\n",
       "    </tr>\n",
       "    <tr>\n",
       "      <th>3</th>\n",
       "      <td>3</td>\n",
       "      <td>4124</td>\n",
       "      <td>32</td>\n",
       "      <td>среднее</td>\n",
       "      <td>1</td>\n",
       "      <td>женат / замужем</td>\n",
       "      <td>0</td>\n",
       "      <td>M</td>\n",
       "      <td>сотрудник</td>\n",
       "      <td>0</td>\n",
       "      <td>267628</td>\n",
       "      <td>дополнительное образование</td>\n",
       "    </tr>\n",
       "    <tr>\n",
       "      <th>4</th>\n",
       "      <td>0</td>\n",
       "      <td>14177</td>\n",
       "      <td>53</td>\n",
       "      <td>среднее</td>\n",
       "      <td>1</td>\n",
       "      <td>гражданский брак</td>\n",
       "      <td>1</td>\n",
       "      <td>F</td>\n",
       "      <td>пенсионер</td>\n",
       "      <td>0</td>\n",
       "      <td>158616</td>\n",
       "      <td>сыграть свадьбу</td>\n",
       "    </tr>\n",
       "  </tbody>\n",
       "</table>\n",
       "</div>"
      ],
      "text/plain": [
       "   children  days_employed  dob_years education  education_id  \\\n",
       "0         1           8437         42    высшее             0   \n",
       "1         1           4024         36   среднее             1   \n",
       "2         0           5623         33   среднее             1   \n",
       "3         3           4124         32   среднее             1   \n",
       "4         0          14177         53   среднее             1   \n",
       "\n",
       "      family_status  family_status_id gender income_type  debt  total_income  \\\n",
       "0   женат / замужем                 0      F   сотрудник     0        253875   \n",
       "1   женат / замужем                 0      F   сотрудник     0        112080   \n",
       "2   женат / замужем                 0      M   сотрудник     0        145885   \n",
       "3   женат / замужем                 0      M   сотрудник     0        267628   \n",
       "4  гражданский брак                 1      F   пенсионер     0        158616   \n",
       "\n",
       "                      purpose  \n",
       "0               покупка жилья  \n",
       "1     приобретение автомобиля  \n",
       "2               покупка жилья  \n",
       "3  дополнительное образование  \n",
       "4             сыграть свадьбу  "
      ]
     },
     "metadata": {},
     "output_type": "display_data"
    }
   ],
   "source": [
    "# приводим все значения столбца \"образование\" к нижнему регистру для того, чтобы обнаружить явные дубликаты и удалить их, \n",
    "# помня о том, что python чувствителен к регистру и он не считает явными дубликатами одинаковые тексты (слова, значения), \n",
    "# написанные разными регистрами\n",
    "# решила привести к нижнему регистру только столбец \"образование\" потому,что это - единственный столбец, в котором были\n",
    "# обнаружены значения, написанные в смешанном или верхнем регистре. Остальные столбцы приводить к нижнему регистру \n",
    "# нет смысла потому, что они и так в записаны исключительно в нижнем регистре\n",
    "\n",
    "df['education'] = df['education'].str.lower()\n",
    "display(df.head())"
   ]
  },
  {
   "cell_type": "code",
   "execution_count": 39,
   "metadata": {},
   "outputs": [
    {
     "data": {
      "text/plain": [
       "среднее                15128\n",
       "высшее                  5237\n",
       "неоконченное высшее      741\n",
       "начальное                282\n",
       "ученая степень             6\n",
       "Name: education, dtype: int64"
      ]
     },
     "execution_count": 39,
     "metadata": {},
     "output_type": "execute_result"
    }
   ],
   "source": [
    "# считаем уникальные значения столбца \"образование\"\n",
    "\n",
    "df['education'].value_counts()"
   ]
  },
  {
   "cell_type": "code",
   "execution_count": 40,
   "metadata": {},
   "outputs": [
    {
     "data": {
      "text/plain": [
       "array(['высшее', 'среднее', 'неоконченное высшее', 'начальное',\n",
       "       'ученая степень'], dtype=object)"
      ]
     },
     "metadata": {},
     "output_type": "display_data"
    }
   ],
   "source": [
    "# выводим на экран уникальные значения столбца \"образование\"\n",
    "\n",
    "display(df['education'].unique())"
   ]
  },
  {
   "cell_type": "code",
   "execution_count": 41,
   "metadata": {},
   "outputs": [
    {
     "data": {
      "text/plain": [
       "17"
      ]
     },
     "execution_count": 41,
     "metadata": {},
     "output_type": "execute_result"
    }
   ],
   "source": [
    "# считаем дубликаты во всем датафрейме.\n",
    "\n",
    "df.duplicated().sum()"
   ]
  },
  {
   "cell_type": "code",
   "execution_count": 42,
   "metadata": {},
   "outputs": [
    {
     "data": {
      "text/plain": [
       "0"
      ]
     },
     "execution_count": 42,
     "metadata": {},
     "output_type": "execute_result"
    }
   ],
   "source": [
    "# удаляем дубликаты, делаем перенумерацию индексов после удаления дубликатов\n",
    "# проверяем, остались ли дубликаты после удаления. Видим, что не осталось\n",
    "\n",
    "df = df.drop_duplicates().reset_index(drop=True)\n",
    "df.duplicated().sum()"
   ]
  },
  {
   "cell_type": "markdown",
   "metadata": {},
   "source": [
    "**Вывод**\n",
    "\n",
    "Выявили все явные и неявные дубликаты. Удалили."
   ]
  },
  {
   "cell_type": "markdown",
   "metadata": {},
   "source": [
    "### **<font color='DarkCyan'> Лемматизация </font>** \n"
   ]
  },
  {
   "cell_type": "markdown",
   "metadata": {},
   "source": [
    "В столбце **'purpose' (цель получения кредита)** есть по сути одинаковые цели с той только разницей, что написаны разными словами и формулировками. Для того, чтобы привести данные по целям кредита к единообразию, существует лемматизация - приведение слова к его изначальной словарной форме. "
   ]
  },
  {
   "cell_type": "code",
   "execution_count": 43,
   "metadata": {
    "scrolled": true
   },
   "outputs": [
    {
     "name": "stdout",
     "output_type": "stream",
     "text": [
      "                                        purpose\n",
      "свадьба                                     790\n",
      "на проведение свадьбы                       764\n",
      "сыграть свадьбу                             761\n",
      "операции с недвижимостью                    674\n",
      "покупка коммерческой недвижимости           658\n",
      "покупка жилья для сдачи                     650\n",
      "операции с жильем                           648\n",
      "операции с коммерческой недвижимостью       646\n",
      "покупка жилья                               643\n",
      "жилье                                       642\n",
      "покупка жилья для семьи                     637\n",
      "недвижимость                                632\n",
      "строительство собственной недвижимости      629\n",
      "операции со своей недвижимостью             626\n",
      "строительство жилой недвижимости            623\n",
      "покупка своего жилья                        620\n",
      "строительство недвижимости                  619\n",
      "покупка недвижимости                        618\n",
      "ремонт жилью                                605\n",
      "покупка жилой недвижимости                  604\n",
      "на покупку своего автомобиля                505\n",
      "заняться высшим образованием                496\n",
      "автомобиль                                  493\n",
      "сделка с подержанным автомобилем            482\n",
      "автомобили                                  477\n",
      "свой автомобиль                             475\n",
      "на покупку подержанного автомобиля          472\n",
      "на покупку автомобиля                       470\n",
      "приобретение автомобиля                     461\n",
      "дополнительное образование                  457\n",
      "сделка с автомобилем                        455\n",
      "высшее образование                          447\n",
      "получение дополнительного образования       445\n",
      "образование                                 445\n",
      "получение образования                       441\n",
      "профильное образование                      434\n",
      "получение высшего образования               425\n",
      "заняться образованием                       408\n"
     ]
    }
   ],
   "source": [
    "unique_purposes = df['purpose'].value_counts().index.tolist()\n",
    "print(df['purpose'].value_counts().to_frame())"
   ]
  },
  {
   "cell_type": "code",
   "execution_count": 44,
   "metadata": {
    "scrolled": true
   },
   "outputs": [
    {
     "data": {
      "text/plain": [
       "[(' ', 33445),\n",
       " ('\\n', 21377),\n",
       " ('недвижимость', 6329),\n",
       " ('покупка', 5877),\n",
       " ('жилье', 4445),\n",
       " ('автомобиль', 4290),\n",
       " ('образование', 3998),\n",
       " ('с', 2905),\n",
       " ('операция', 2594),\n",
       " ('свадьба', 2315),\n",
       " ('свой', 2226),\n",
       " ('на', 2211),\n",
       " ('строительство', 1871),\n",
       " ('высокий', 1368),\n",
       " ('получение', 1311),\n",
       " ('коммерческий', 1304),\n",
       " ('для', 1287),\n",
       " ('жилой', 1227),\n",
       " ('сделка', 937),\n",
       " ('заниматься', 904),\n",
       " ('дополнительный', 902),\n",
       " ('проведение', 764),\n",
       " ('сыграть', 761),\n",
       " ('сдача', 650),\n",
       " ('семья', 637),\n",
       " ('собственный', 629),\n",
       " ('со', 626),\n",
       " ('ремонт', 605),\n",
       " ('подержанный', 482),\n",
       " ('подержать', 472),\n",
       " ('приобретение', 461),\n",
       " ('профильный', 434)]"
      ]
     },
     "execution_count": 44,
     "metadata": {},
     "output_type": "execute_result"
    }
   ],
   "source": [
    "# считаем самые распространенные цели кредита.\n",
    "\n",
    "m = Mystem()\n",
    "list_of_lemmas = []\n",
    "for element in df['purpose']:\n",
    "    lemma = m.lemmatize(element)\n",
    "    list_of_lemmas.extend(lemma)\n",
    "\n",
    "unique_lemmas = Counter(list_of_lemmas)\n",
    "sorted(unique_lemmas.items(), key = lambda pair: pair[1], reverse=True)"
   ]
  },
  {
   "cell_type": "markdown",
   "metadata": {},
   "source": [
    "Итак, возьмем 10 самых распространенных целей кредита. Поскольку команда unique_lemmas.head(10) не сработала (при помощи нее я хотела вывести топ-10 целей кредитов), то единственный вариант взять эти цели - вручную скопировать из списка выше. Так и сделаю."
   ]
  },
  {
   "cell_type": "markdown",
   "metadata": {},
   "source": [
    "недвижимость', 6329),  \n",
    " ('покупка', 5877),  \n",
    " ('жилье', 4445),  \n",
    " ('автомобиль', 4290),  \n",
    " ('образование', 3998),  \n",
    " ('с', 2905),  \n",
    " ('операция', 2594),  \n",
    " ('свадьба', 2315),  \n",
    " ('свой', 2226),  \n",
    " ('на', 2211)  "
   ]
  },
  {
   "cell_type": "markdown",
   "metadata": {},
   "source": [
    "Из этого списка придется убрать:  \n",
    "\n",
    "**'покупка'** - слишком широкое понятие. Цель кредита должна быть более конкретной. \n",
    "\n",
    "**'жилье'** - то же самое, что и \"недвижимость\". Синонимы.  \n",
    "\n",
    "**'операция'**  - как мы уже видели в списке выше, имеется в виду не только медицинская операция, но и \"операция с недвижимостью\". Слишком двусмысленно.  \n",
    "\n",
    "**'с'** - это явно не цель кредита. Просто распространенный предлог, часто встречающийся в формулировках целей кредита, не более того. \n",
    "\n",
    "**'свой'** - то же, что и пункт выше.  \n",
    "\n",
    "**'на'** - то же, что и пункт выше  \n",
    "\n",
    "**Оставляем:**\n",
    "\n",
    "недвижимость'  \n",
    "'автомобиль'  \n",
    "'образование'  \n",
    "'свадьба'  "
   ]
  },
  {
   "cell_type": "markdown",
   "metadata": {},
   "source": [
    "Возьмем еще цели для того, чтобы набрать топ-10 целей (пока что мы набрали только 4, отсеялось 6). Берем побольше потому, что у нас идет большой отсев тех лемм, которые точно не являются целями кредита."
   ]
  },
  {
   "cell_type": "markdown",
   "metadata": {},
   "source": [
    "строительство', 1871),  \n",
    " ('высокий', 1368),  \n",
    " ('получение', 1311),  \n",
    " ('коммерческий', 1304),  \n",
    " ('для', 1287),  \n",
    " ('жилой', 1227),  \n",
    " ('сделка', 937),  \n",
    " ('заниматься', 904),  \n",
    " ('дополнительный', 902),  \n",
    " ('проведение', 764),  \n",
    " ('сыграть', 761),  \n",
    " ('сдача', 650),  \n",
    " ('семья', 637),  \n",
    " ('собственный', 629),  \n",
    " ('со', 626),  \n",
    " ('ремонт', 605)  "
   ]
  },
  {
   "cell_type": "markdown",
   "metadata": {},
   "source": [
    "**строительство' - тоже относится к недвижимости**  \n",
    " ('высокий', 1368),  - явно не цель кредита  \n",
    " ('получение', 1311),  - нет конкретики в цели кредита  \n",
    " ('коммерческий', 1304),  - нет конкретики в цели кредита  \n",
    " ('для', 1287),  - нет конкретики в цели кредита  \n",
    " **('жилой', 1227),   - тоже относится к недвижимости**    \n",
    " ('сделка', 937),  - нет конкретики в цели кредита. Сделка, я так понимаю, купли-продажи. Вот только что покупали?   \n",
    " ('заниматься', 904),  - нет конкретики в цели кредита  \n",
    " ('дополнительный', 902),  - нет конкретики в цели кредита  \n",
    " ('проведение', 764),  - нет конкретики в цели кредита  \n",
    " ('сыграть', 761),  - нет конкретики в цели кредита  \n",
    " **('сдача', 650),  - тоже относится к недвижимости**  \n",
    " ('семья', 637),  - нет конкретики в цели кредита  \n",
    " ('собственный', 629),  - нет конкретики в цели кредита  \n",
    " ('со', 626),  - нет конкретики в цели кредита  \n",
    " **('ремонт', 605)  - тоже относится к недвижимости**   \n",
    " подержанный', 482),  - нет конкретики в цели кредита\n",
    " ('подержать', 472),  - нет конкретики в цели кредита\n",
    " ('приобретение', 461),  - нет конкретики в цели кредита\n",
    " ('профильный', 434)] - нет конкретики в цели кредита"
   ]
  },
  {
   "cell_type": "markdown",
   "metadata": {},
   "source": [
    "В итоге набрали мы **5 уникальных целей кредита** из всего списка уникальных лемм, который у нас был:  \n",
    "\n",
    "недвижимость'  \n",
    "'автомобиль'  \n",
    "'образование'  \n",
    "'свадьба'    \n",
    "'ремонт'"
   ]
  },
  {
   "cell_type": "code",
   "execution_count": 45,
   "metadata": {},
   "outputs": [
    {
     "data": {
      "text/html": [
       "<div>\n",
       "<style scoped>\n",
       "    .dataframe tbody tr th:only-of-type {\n",
       "        vertical-align: middle;\n",
       "    }\n",
       "\n",
       "    .dataframe tbody tr th {\n",
       "        vertical-align: top;\n",
       "    }\n",
       "\n",
       "    .dataframe thead th {\n",
       "        text-align: right;\n",
       "    }\n",
       "</style>\n",
       "<table border=\"1\" class=\"dataframe\">\n",
       "  <thead>\n",
       "    <tr style=\"text-align: right;\">\n",
       "      <th></th>\n",
       "      <th>purpose</th>\n",
       "      <th>category</th>\n",
       "    </tr>\n",
       "  </thead>\n",
       "  <tbody>\n",
       "    <tr>\n",
       "      <th>0</th>\n",
       "      <td>покупка жилья</td>\n",
       "      <td>недвижимость</td>\n",
       "    </tr>\n",
       "    <tr>\n",
       "      <th>1</th>\n",
       "      <td>приобретение автомобиля</td>\n",
       "      <td>автомобиль</td>\n",
       "    </tr>\n",
       "    <tr>\n",
       "      <th>2</th>\n",
       "      <td>покупка жилья</td>\n",
       "      <td>недвижимость</td>\n",
       "    </tr>\n",
       "    <tr>\n",
       "      <th>3</th>\n",
       "      <td>дополнительное образование</td>\n",
       "      <td>образование</td>\n",
       "    </tr>\n",
       "    <tr>\n",
       "      <th>4</th>\n",
       "      <td>сыграть свадьбу</td>\n",
       "      <td>свадьба</td>\n",
       "    </tr>\n",
       "    <tr>\n",
       "      <th>...</th>\n",
       "      <td>...</td>\n",
       "      <td>...</td>\n",
       "    </tr>\n",
       "    <tr>\n",
       "      <th>21372</th>\n",
       "      <td>операции с жильем</td>\n",
       "      <td>недвижимость</td>\n",
       "    </tr>\n",
       "    <tr>\n",
       "      <th>21373</th>\n",
       "      <td>сделка с автомобилем</td>\n",
       "      <td>автомобиль</td>\n",
       "    </tr>\n",
       "    <tr>\n",
       "      <th>21374</th>\n",
       "      <td>недвижимость</td>\n",
       "      <td>недвижимость</td>\n",
       "    </tr>\n",
       "    <tr>\n",
       "      <th>21375</th>\n",
       "      <td>на покупку своего автомобиля</td>\n",
       "      <td>автомобиль</td>\n",
       "    </tr>\n",
       "    <tr>\n",
       "      <th>21376</th>\n",
       "      <td>на покупку автомобиля</td>\n",
       "      <td>автомобиль</td>\n",
       "    </tr>\n",
       "  </tbody>\n",
       "</table>\n",
       "<p>21377 rows × 2 columns</p>\n",
       "</div>"
      ],
      "text/plain": [
       "                            purpose      category\n",
       "0                     покупка жилья  недвижимость\n",
       "1           приобретение автомобиля    автомобиль\n",
       "2                     покупка жилья  недвижимость\n",
       "3        дополнительное образование   образование\n",
       "4                   сыграть свадьбу       свадьба\n",
       "...                             ...           ...\n",
       "21372             операции с жильем  недвижимость\n",
       "21373          сделка с автомобилем    автомобиль\n",
       "21374                  недвижимость  недвижимость\n",
       "21375  на покупку своего автомобиля    автомобиль\n",
       "21376         на покупку автомобиля    автомобиль\n",
       "\n",
       "[21377 rows x 2 columns]"
      ]
     },
     "metadata": {},
     "output_type": "display_data"
    },
    {
     "data": {
      "text/plain": [
       "0        недвижимость\n",
       "1          автомобиль\n",
       "2        недвижимость\n",
       "3         образование\n",
       "4             свадьба\n",
       "             ...     \n",
       "21372    недвижимость\n",
       "21373      автомобиль\n",
       "21374    недвижимость\n",
       "21375      автомобиль\n",
       "21376      автомобиль\n",
       "Name: category, Length: 21377, dtype: object"
      ]
     },
     "metadata": {},
     "output_type": "display_data"
    }
   ],
   "source": [
    "# создаем функцию, которая проверяет каждую ячейку в столбце purpose и присваивает соответствующую категорию\n",
    "\n",
    "def categorize(purpose): \n",
    "    purpose_lemmas = m.lemmatize(purpose) \n",
    "    if 'недвижимость' in purpose_lemmas or 'жилье' in purpose_lemmas or 'строительство' in purpose_lemmas or 'жилой' in purpose_lemmas or 'сдача' in purpose_lemmas or 'ремонт' in purpose_lemmas:\n",
    "        return 'недвижимость'\n",
    "    if 'автомобиль' in purpose_lemmas:\n",
    "        return 'автомобиль'\n",
    "    if 'образование' in purpose_lemmas:\n",
    "        return 'образование'\n",
    "    if 'свадьба' in purpose_lemmas:\n",
    "        return 'свадьба'\n",
    "    return 'прочее'\n",
    "\n",
    "df['category'] = df['purpose'].apply(categorize)\n",
    "\n",
    "\n",
    "display(df.loc[:, ['purpose', 'category']])\n",
    "display(df['category'])"
   ]
  },
  {
   "cell_type": "code",
   "execution_count": 46,
   "metadata": {
    "scrolled": true
   },
   "outputs": [
    {
     "data": {
      "text/plain": [
       "недвижимость    10774\n",
       "автомобиль       4290\n",
       "образование      3998\n",
       "свадьба          2315\n",
       "Name: category, dtype: int64"
      ]
     },
     "execution_count": 46,
     "metadata": {},
     "output_type": "execute_result"
    }
   ],
   "source": [
    "df['category'].value_counts()"
   ]
  },
  {
   "cell_type": "markdown",
   "metadata": {},
   "source": [
    "**Вывод**"
   ]
  },
  {
   "cell_type": "markdown",
   "metadata": {},
   "source": [
    "Лемматизировав цели кредита, привели данные к единообразию. Нам это может пригодиться в том случае, если нам нужно не только узнать, какие бывают самые распространенные цели кредита, но и посчитать их количество (см.ячейку выше). Например, мы можем сделать вывод о том, что на недвижимость приходится практически половина всех кредитов. На автомобиль или образование - каждый пятый кредит. На свадьбы берут каждый десятый кредит."
   ]
  },
  {
   "cell_type": "markdown",
   "metadata": {},
   "source": [
    "### **<font color='DodgerBlue'> Категоризация данных </font>** "
   ]
  },
  {
   "cell_type": "code",
   "execution_count": 47,
   "metadata": {},
   "outputs": [
    {
     "data": {
      "text/plain": [
       "array([1, 0, 3, 2, 4, 5])"
      ]
     },
     "execution_count": 47,
     "metadata": {},
     "output_type": "execute_result"
    }
   ],
   "source": [
    "# считаем количество уникальных значений в столбце \"дети\"\n",
    "\n",
    "df['children'].unique() "
   ]
  },
  {
   "cell_type": "code",
   "execution_count": 48,
   "metadata": {},
   "outputs": [
    {
     "data": {
      "text/plain": [
       "array([0, 1])"
      ]
     },
     "execution_count": 48,
     "metadata": {},
     "output_type": "execute_result"
    }
   ],
   "source": [
    "# считаем количество уникальных значений в столбце \"долг\"\n",
    "\n",
    "df['debt'].unique()"
   ]
  },
  {
   "cell_type": "code",
   "execution_count": 49,
   "metadata": {},
   "outputs": [
    {
     "data": {
      "text/plain": [
       "array([0, 1, 2, 3, 4])"
      ]
     },
     "execution_count": 49,
     "metadata": {},
     "output_type": "execute_result"
    }
   ],
   "source": [
    "# считаем количество уникальных значений в столбце \"ID семейного статуса\"\n",
    "\n",
    "df['family_status_id'].unique()"
   ]
  },
  {
   "cell_type": "code",
   "execution_count": 50,
   "metadata": {},
   "outputs": [
    {
     "data": {
      "text/plain": [
       "array(['женат / замужем', 'гражданский брак', 'вдовец / вдова',\n",
       "       'в разводе', 'Не женат / не замужем'], dtype=object)"
      ]
     },
     "execution_count": 50,
     "metadata": {},
     "output_type": "execute_result"
    }
   ],
   "source": [
    "# считаем количество уникальных значений в столбце \"семейный статус\"\n",
    "\n",
    "df['family_status'].unique()"
   ]
  },
  {
   "cell_type": "code",
   "execution_count": 51,
   "metadata": {},
   "outputs": [
    {
     "data": {
      "text/plain": [
       "165221.34710202555"
      ]
     },
     "execution_count": 51,
     "metadata": {},
     "output_type": "execute_result"
    }
   ],
   "source": [
    "# выводим на экран среднее по доходу всех заемщиков\n",
    "\n",
    "df['total_income'].mean()"
   ]
  },
  {
   "cell_type": "code",
   "execution_count": 52,
   "metadata": {
    "scrolled": true
   },
   "outputs": [
    {
     "data": {
      "text/html": [
       "<style  type=\"text/css\" >\n",
       "</style><table id=\"T_5fe08_\" ><thead>    <tr>        <th class=\"blank level0\" ></th>        <th class=\"col_heading level0 col0\" >debt_no</th>        <th class=\"col_heading level0 col1\" >debt_yes</th>        <th class=\"col_heading level0 col2\" >percents</th>    </tr>    <tr>        <th class=\"index_name level0\" >children</th>        <th class=\"blank\" ></th>        <th class=\"blank\" ></th>        <th class=\"blank\" ></th>    </tr></thead><tbody>\n",
       "                <tr>\n",
       "                        <th id=\"T_5fe08_level0_row0\" class=\"row_heading level0 row0\" >0</th>\n",
       "                        <td id=\"T_5fe08_row0_col0\" class=\"data row0 col0\" >13073.000000</td>\n",
       "                        <td id=\"T_5fe08_row0_col1\" class=\"data row0 col1\" >1064.000000</td>\n",
       "                        <td id=\"T_5fe08_row0_col2\" class=\"data row0 col2\" >7.5%</td>\n",
       "            </tr>\n",
       "            <tr>\n",
       "                        <th id=\"T_5fe08_level0_row1\" class=\"row_heading level0 row1\" >1</th>\n",
       "                        <td id=\"T_5fe08_row1_col0\" class=\"data row1 col0\" >4364.000000</td>\n",
       "                        <td id=\"T_5fe08_row1_col1\" class=\"data row1 col1\" >444.000000</td>\n",
       "                        <td id=\"T_5fe08_row1_col2\" class=\"data row1 col2\" >9.2%</td>\n",
       "            </tr>\n",
       "            <tr>\n",
       "                        <th id=\"T_5fe08_level0_row2\" class=\"row_heading level0 row2\" >2</th>\n",
       "                        <td id=\"T_5fe08_row2_col0\" class=\"data row2 col0\" >1858.000000</td>\n",
       "                        <td id=\"T_5fe08_row2_col1\" class=\"data row2 col1\" >194.000000</td>\n",
       "                        <td id=\"T_5fe08_row2_col2\" class=\"data row2 col2\" >9.5%</td>\n",
       "            </tr>\n",
       "            <tr>\n",
       "                        <th id=\"T_5fe08_level0_row3\" class=\"row_heading level0 row3\" >3</th>\n",
       "                        <td id=\"T_5fe08_row3_col0\" class=\"data row3 col0\" >303.000000</td>\n",
       "                        <td id=\"T_5fe08_row3_col1\" class=\"data row3 col1\" >27.000000</td>\n",
       "                        <td id=\"T_5fe08_row3_col2\" class=\"data row3 col2\" >8.2%</td>\n",
       "            </tr>\n",
       "            <tr>\n",
       "                        <th id=\"T_5fe08_level0_row4\" class=\"row_heading level0 row4\" >4</th>\n",
       "                        <td id=\"T_5fe08_row4_col0\" class=\"data row4 col0\" >37.000000</td>\n",
       "                        <td id=\"T_5fe08_row4_col1\" class=\"data row4 col1\" >4.000000</td>\n",
       "                        <td id=\"T_5fe08_row4_col2\" class=\"data row4 col2\" >9.8%</td>\n",
       "            </tr>\n",
       "            <tr>\n",
       "                        <th id=\"T_5fe08_level0_row5\" class=\"row_heading level0 row5\" >5</th>\n",
       "                        <td id=\"T_5fe08_row5_col0\" class=\"data row5 col0\" >9.000000</td>\n",
       "                        <td id=\"T_5fe08_row5_col1\" class=\"data row5 col1\" >nan</td>\n",
       "                        <td id=\"T_5fe08_row5_col2\" class=\"data row5 col2\" >nan%</td>\n",
       "            </tr>\n",
       "    </tbody></table>"
      ],
      "text/plain": [
       "<pandas.io.formats.style.Styler at 0x7f292622b340>"
      ]
     },
     "metadata": {},
     "output_type": "display_data"
    },
    {
     "data": {
      "text/html": [
       "<div>\n",
       "<style scoped>\n",
       "    .dataframe tbody tr th:only-of-type {\n",
       "        vertical-align: middle;\n",
       "    }\n",
       "\n",
       "    .dataframe tbody tr th {\n",
       "        vertical-align: top;\n",
       "    }\n",
       "\n",
       "    .dataframe thead th {\n",
       "        text-align: right;\n",
       "    }\n",
       "</style>\n",
       "<table border=\"1\" class=\"dataframe\">\n",
       "  <thead>\n",
       "    <tr style=\"text-align: right;\">\n",
       "      <th></th>\n",
       "      <th>debt_no</th>\n",
       "      <th>debt_yes</th>\n",
       "      <th>percents</th>\n",
       "    </tr>\n",
       "    <tr>\n",
       "      <th>children</th>\n",
       "      <th></th>\n",
       "      <th></th>\n",
       "      <th></th>\n",
       "    </tr>\n",
       "  </thead>\n",
       "  <tbody>\n",
       "    <tr>\n",
       "      <th>4</th>\n",
       "      <td>37.0</td>\n",
       "      <td>4.0</td>\n",
       "      <td>0.097561</td>\n",
       "    </tr>\n",
       "    <tr>\n",
       "      <th>2</th>\n",
       "      <td>1858.0</td>\n",
       "      <td>194.0</td>\n",
       "      <td>0.094542</td>\n",
       "    </tr>\n",
       "    <tr>\n",
       "      <th>1</th>\n",
       "      <td>4364.0</td>\n",
       "      <td>444.0</td>\n",
       "      <td>0.092346</td>\n",
       "    </tr>\n",
       "    <tr>\n",
       "      <th>3</th>\n",
       "      <td>303.0</td>\n",
       "      <td>27.0</td>\n",
       "      <td>0.081818</td>\n",
       "    </tr>\n",
       "    <tr>\n",
       "      <th>0</th>\n",
       "      <td>13073.0</td>\n",
       "      <td>1064.0</td>\n",
       "      <td>0.075263</td>\n",
       "    </tr>\n",
       "    <tr>\n",
       "      <th>5</th>\n",
       "      <td>9.0</td>\n",
       "      <td>NaN</td>\n",
       "      <td>NaN</td>\n",
       "    </tr>\n",
       "  </tbody>\n",
       "</table>\n",
       "</div>"
      ],
      "text/plain": [
       "          debt_no  debt_yes  percents\n",
       "children                             \n",
       "4            37.0       4.0  0.097561\n",
       "2          1858.0     194.0  0.094542\n",
       "1          4364.0     444.0  0.092346\n",
       "3           303.0      27.0  0.081818\n",
       "0         13073.0    1064.0  0.075263\n",
       "5             9.0       NaN       NaN"
      ]
     },
     "metadata": {},
     "output_type": "display_data"
    }
   ],
   "source": [
    "# сводная таблица, которая показывает проценты должников в зависимости от кол-ва детей\n",
    "\n",
    "pivt_children_debt = df.pivot_table(index = 'children', columns = 'debt', \n",
    "                                     values = 'total_income', aggfunc = 'count')\n",
    "\n",
    "pivt_children_debt.set_axis(['debt_no', 'debt_yes'], axis = 1, inplace = True)\n",
    "\n",
    "pivt_children_debt['percents'] = (pivt_children_debt['debt_yes'] / \n",
    "                                (pivt_children_debt['debt_yes'] + pivt_children_debt['debt_no']))\n",
    "\n",
    "pivt_children_debt.sort_values(by = 'percents', ascending = False)\n",
    "\n",
    "pivt_children_debt.style.format({'percents':'{:.1%}'})\n",
    "\n",
    "display(pivt_children_debt.style.format({'percents':'{:.1%}'}))\n",
    "\n",
    "pivt_children_debt = pivt_children_debt.sort_values(by = 'percents', ascending = False)\n",
    "display(pivt_children_debt)"
   ]
  },
  {
   "cell_type": "code",
   "execution_count": 53,
   "metadata": {
    "scrolled": false
   },
   "outputs": [
    {
     "data": {
      "text/html": [
       "<style  type=\"text/css\" >\n",
       "</style><table id=\"T_1d8b3_\" ><thead>    <tr>        <th class=\"blank level0\" ></th>        <th class=\"col_heading level0 col0\" >% невозврата</th>        <th class=\"col_heading level0 col1\" >Кол-во заемщиков</th>    </tr>    <tr>        <th class=\"index_name level0\" >family_status</th>        <th class=\"blank\" ></th>        <th class=\"blank\" ></th>    </tr></thead><tbody>\n",
       "                <tr>\n",
       "                        <th id=\"T_1d8b3_level0_row0\" class=\"row_heading level0 row0\" >Не женат / не замужем</th>\n",
       "                        <td id=\"T_1d8b3_row0_col0\" class=\"data row0 col0\" >9.75%</td>\n",
       "                        <td id=\"T_1d8b3_row0_col1\" class=\"data row0 col1\" >2801</td>\n",
       "            </tr>\n",
       "            <tr>\n",
       "                        <th id=\"T_1d8b3_level0_row1\" class=\"row_heading level0 row1\" >гражданский брак</th>\n",
       "                        <td id=\"T_1d8b3_row1_col0\" class=\"data row1 col0\" >9.30%</td>\n",
       "                        <td id=\"T_1d8b3_row1_col1\" class=\"data row1 col1\" >4138</td>\n",
       "            </tr>\n",
       "            <tr>\n",
       "                        <th id=\"T_1d8b3_level0_row2\" class=\"row_heading level0 row2\" >женат / замужем</th>\n",
       "                        <td id=\"T_1d8b3_row2_col0\" class=\"data row2 col0\" >7.55%</td>\n",
       "                        <td id=\"T_1d8b3_row2_col1\" class=\"data row2 col1\" >12290</td>\n",
       "            </tr>\n",
       "            <tr>\n",
       "                        <th id=\"T_1d8b3_level0_row3\" class=\"row_heading level0 row3\" >в разводе</th>\n",
       "                        <td id=\"T_1d8b3_row3_col0\" class=\"data row3 col0\" >7.04%</td>\n",
       "                        <td id=\"T_1d8b3_row3_col1\" class=\"data row3 col1\" >1193</td>\n",
       "            </tr>\n",
       "            <tr>\n",
       "                        <th id=\"T_1d8b3_level0_row4\" class=\"row_heading level0 row4\" >вдовец / вдова</th>\n",
       "                        <td id=\"T_1d8b3_row4_col0\" class=\"data row4 col0\" >6.60%</td>\n",
       "                        <td id=\"T_1d8b3_row4_col1\" class=\"data row4 col1\" >955</td>\n",
       "            </tr>\n",
       "    </tbody></table>"
      ],
      "text/plain": [
       "<pandas.io.formats.style.Styler at 0x7f29262b6d90>"
      ]
     },
     "execution_count": 53,
     "metadata": {},
     "output_type": "execute_result"
    }
   ],
   "source": [
    "# выводим сводную таблицу, которая показывает связь семейного положения и процентов просроченных кредитов\n",
    "\n",
    "report_family_status = df.groupby('family_status').agg({'debt': ['mean', 'count']})\n",
    "report_family_status.columns = ['% невозврата', 'Кол-во заемщиков']\n",
    "report_family_status = report_family_status.sort_values(by = '% невозврата', ascending = False)\n",
    "report_family_status.style.format({'% невозврата': '{:.2%}'})"
   ]
  },
  {
   "cell_type": "code",
   "execution_count": 54,
   "metadata": {
    "scrolled": true
   },
   "outputs": [
    {
     "data": {
      "text/html": [
       "<style  type=\"text/css\" >\n",
       "</style><table id=\"T_5355e_\" ><thead>    <tr>        <th class=\"blank level0\" ></th>        <th class=\"col_heading level0 col0\" >% невозврата</th>        <th class=\"col_heading level0 col1\" >Кол-во заемщиков</th>    </tr>    <tr>        <th class=\"index_name level0\" >children</th>        <th class=\"blank\" ></th>        <th class=\"blank\" ></th>    </tr></thead><tbody>\n",
       "                <tr>\n",
       "                        <th id=\"T_5355e_level0_row0\" class=\"row_heading level0 row0\" >4</th>\n",
       "                        <td id=\"T_5355e_row0_col0\" class=\"data row0 col0\" >9.76%</td>\n",
       "                        <td id=\"T_5355e_row0_col1\" class=\"data row0 col1\" >41</td>\n",
       "            </tr>\n",
       "            <tr>\n",
       "                        <th id=\"T_5355e_level0_row1\" class=\"row_heading level0 row1\" >2</th>\n",
       "                        <td id=\"T_5355e_row1_col0\" class=\"data row1 col0\" >9.45%</td>\n",
       "                        <td id=\"T_5355e_row1_col1\" class=\"data row1 col1\" >2052</td>\n",
       "            </tr>\n",
       "            <tr>\n",
       "                        <th id=\"T_5355e_level0_row2\" class=\"row_heading level0 row2\" >1</th>\n",
       "                        <td id=\"T_5355e_row2_col0\" class=\"data row2 col0\" >9.23%</td>\n",
       "                        <td id=\"T_5355e_row2_col1\" class=\"data row2 col1\" >4808</td>\n",
       "            </tr>\n",
       "            <tr>\n",
       "                        <th id=\"T_5355e_level0_row3\" class=\"row_heading level0 row3\" >3</th>\n",
       "                        <td id=\"T_5355e_row3_col0\" class=\"data row3 col0\" >8.18%</td>\n",
       "                        <td id=\"T_5355e_row3_col1\" class=\"data row3 col1\" >330</td>\n",
       "            </tr>\n",
       "            <tr>\n",
       "                        <th id=\"T_5355e_level0_row4\" class=\"row_heading level0 row4\" >0</th>\n",
       "                        <td id=\"T_5355e_row4_col0\" class=\"data row4 col0\" >7.53%</td>\n",
       "                        <td id=\"T_5355e_row4_col1\" class=\"data row4 col1\" >14137</td>\n",
       "            </tr>\n",
       "            <tr>\n",
       "                        <th id=\"T_5355e_level0_row5\" class=\"row_heading level0 row5\" >5</th>\n",
       "                        <td id=\"T_5355e_row5_col0\" class=\"data row5 col0\" >0.00%</td>\n",
       "                        <td id=\"T_5355e_row5_col1\" class=\"data row5 col1\" >9</td>\n",
       "            </tr>\n",
       "    </tbody></table>"
      ],
      "text/plain": [
       "<pandas.io.formats.style.Styler at 0x7f2981aa2fa0>"
      ]
     },
     "execution_count": 54,
     "metadata": {},
     "output_type": "execute_result"
    }
   ],
   "source": [
    "report_children = df.groupby('children').agg({'debt': ['mean', 'count']})\n",
    "report_children.columns = ['% невозврата', 'Кол-во заемщиков']\n",
    "report_children = report_children.sort_values(by = '% невозврата', ascending = False)\n",
    "report_children.style.format({'% невозврата': '{:.2%}'})"
   ]
  },
  {
   "cell_type": "code",
   "execution_count": 55,
   "metadata": {},
   "outputs": [
    {
     "data": {
      "text/plain": [
       "165221.34710202555"
      ]
     },
     "execution_count": 55,
     "metadata": {},
     "output_type": "execute_result"
    }
   ],
   "source": [
    "# выводим среднее по общему доходу для того, чтобы понять, какой доход является средним и\n",
    "# в дальнейшем использовать эту цифру для категоризации данных по доходу\n",
    "\n",
    "df['total_income'].mean()"
   ]
  },
  {
   "cell_type": "code",
   "execution_count": 56,
   "metadata": {
    "scrolled": true
   },
   "outputs": [
    {
     "data": {
      "text/plain": [
       "145017.0"
      ]
     },
     "execution_count": 56,
     "metadata": {},
     "output_type": "execute_result"
    }
   ],
   "source": [
    "# выводим медиану по общему доходу \n",
    "\n",
    "df['total_income'].median()"
   ]
  },
  {
   "cell_type": "code",
   "execution_count": 57,
   "metadata": {
    "scrolled": true
   },
   "outputs": [],
   "source": [
    "# функция категоризации данных. Сделаем категоризацию по общему доходу и количеству детей. \n",
    "# по семейному статусу и цели кредита у нас категоризация уже есть\n",
    "\n",
    "def total_income_cat(row):\n",
    "    if row['total_income'] <= 50000:\n",
    "        return 'низкий доход'\n",
    "    elif 50000 < row['total_income'] <= 165000:\n",
    "        return 'средний доход'\n",
    "    elif 165000 < row['total_income'] < 1000000:\n",
    "        return 'высокий доход'\n",
    "    else:\n",
    "        return 'миллионер'\n",
    "  \n",
    "    \n",
    "def children_cat(row):\n",
    "    if row['children'] == 0:\n",
    "        return 'нет детей'\n",
    "    elif 1 <= row['children'] <= 2:\n",
    "        return '1-2 ребенка'\n",
    "    else:\n",
    "        return 'многодетные'"
   ]
  },
  {
   "cell_type": "code",
   "execution_count": 58,
   "metadata": {},
   "outputs": [],
   "source": [
    "df['total_income_cat'] = df.apply(total_income_cat, axis=1)\n",
    "df['children_cat'] = df.apply(children_cat, axis=1)"
   ]
  },
  {
   "cell_type": "code",
   "execution_count": 59,
   "metadata": {
    "scrolled": true
   },
   "outputs": [
    {
     "data": {
      "text/html": [
       "<div>\n",
       "<style scoped>\n",
       "    .dataframe tbody tr th:only-of-type {\n",
       "        vertical-align: middle;\n",
       "    }\n",
       "\n",
       "    .dataframe tbody tr th {\n",
       "        vertical-align: top;\n",
       "    }\n",
       "\n",
       "    .dataframe thead th {\n",
       "        text-align: right;\n",
       "    }\n",
       "</style>\n",
       "<table border=\"1\" class=\"dataframe\">\n",
       "  <thead>\n",
       "    <tr style=\"text-align: right;\">\n",
       "      <th></th>\n",
       "      <th>children</th>\n",
       "      <th>days_employed</th>\n",
       "      <th>dob_years</th>\n",
       "      <th>education</th>\n",
       "      <th>education_id</th>\n",
       "      <th>family_status</th>\n",
       "      <th>family_status_id</th>\n",
       "      <th>gender</th>\n",
       "      <th>income_type</th>\n",
       "      <th>debt</th>\n",
       "      <th>total_income</th>\n",
       "      <th>purpose</th>\n",
       "      <th>category</th>\n",
       "      <th>total_income_cat</th>\n",
       "      <th>children_cat</th>\n",
       "    </tr>\n",
       "  </thead>\n",
       "  <tbody>\n",
       "    <tr>\n",
       "      <th>0</th>\n",
       "      <td>1</td>\n",
       "      <td>8437</td>\n",
       "      <td>42</td>\n",
       "      <td>высшее</td>\n",
       "      <td>0</td>\n",
       "      <td>женат / замужем</td>\n",
       "      <td>0</td>\n",
       "      <td>F</td>\n",
       "      <td>сотрудник</td>\n",
       "      <td>0</td>\n",
       "      <td>253875</td>\n",
       "      <td>покупка жилья</td>\n",
       "      <td>недвижимость</td>\n",
       "      <td>высокий доход</td>\n",
       "      <td>1-2 ребенка</td>\n",
       "    </tr>\n",
       "    <tr>\n",
       "      <th>1</th>\n",
       "      <td>1</td>\n",
       "      <td>4024</td>\n",
       "      <td>36</td>\n",
       "      <td>среднее</td>\n",
       "      <td>1</td>\n",
       "      <td>женат / замужем</td>\n",
       "      <td>0</td>\n",
       "      <td>F</td>\n",
       "      <td>сотрудник</td>\n",
       "      <td>0</td>\n",
       "      <td>112080</td>\n",
       "      <td>приобретение автомобиля</td>\n",
       "      <td>автомобиль</td>\n",
       "      <td>средний доход</td>\n",
       "      <td>1-2 ребенка</td>\n",
       "    </tr>\n",
       "    <tr>\n",
       "      <th>2</th>\n",
       "      <td>0</td>\n",
       "      <td>5623</td>\n",
       "      <td>33</td>\n",
       "      <td>среднее</td>\n",
       "      <td>1</td>\n",
       "      <td>женат / замужем</td>\n",
       "      <td>0</td>\n",
       "      <td>M</td>\n",
       "      <td>сотрудник</td>\n",
       "      <td>0</td>\n",
       "      <td>145885</td>\n",
       "      <td>покупка жилья</td>\n",
       "      <td>недвижимость</td>\n",
       "      <td>средний доход</td>\n",
       "      <td>нет детей</td>\n",
       "    </tr>\n",
       "    <tr>\n",
       "      <th>3</th>\n",
       "      <td>3</td>\n",
       "      <td>4124</td>\n",
       "      <td>32</td>\n",
       "      <td>среднее</td>\n",
       "      <td>1</td>\n",
       "      <td>женат / замужем</td>\n",
       "      <td>0</td>\n",
       "      <td>M</td>\n",
       "      <td>сотрудник</td>\n",
       "      <td>0</td>\n",
       "      <td>267628</td>\n",
       "      <td>дополнительное образование</td>\n",
       "      <td>образование</td>\n",
       "      <td>высокий доход</td>\n",
       "      <td>многодетные</td>\n",
       "    </tr>\n",
       "    <tr>\n",
       "      <th>4</th>\n",
       "      <td>0</td>\n",
       "      <td>14177</td>\n",
       "      <td>53</td>\n",
       "      <td>среднее</td>\n",
       "      <td>1</td>\n",
       "      <td>гражданский брак</td>\n",
       "      <td>1</td>\n",
       "      <td>F</td>\n",
       "      <td>пенсионер</td>\n",
       "      <td>0</td>\n",
       "      <td>158616</td>\n",
       "      <td>сыграть свадьбу</td>\n",
       "      <td>свадьба</td>\n",
       "      <td>средний доход</td>\n",
       "      <td>нет детей</td>\n",
       "    </tr>\n",
       "  </tbody>\n",
       "</table>\n",
       "</div>"
      ],
      "text/plain": [
       "   children  days_employed  dob_years education  education_id  \\\n",
       "0         1           8437         42    высшее             0   \n",
       "1         1           4024         36   среднее             1   \n",
       "2         0           5623         33   среднее             1   \n",
       "3         3           4124         32   среднее             1   \n",
       "4         0          14177         53   среднее             1   \n",
       "\n",
       "      family_status  family_status_id gender income_type  debt  total_income  \\\n",
       "0   женат / замужем                 0      F   сотрудник     0        253875   \n",
       "1   женат / замужем                 0      F   сотрудник     0        112080   \n",
       "2   женат / замужем                 0      M   сотрудник     0        145885   \n",
       "3   женат / замужем                 0      M   сотрудник     0        267628   \n",
       "4  гражданский брак                 1      F   пенсионер     0        158616   \n",
       "\n",
       "                      purpose      category total_income_cat children_cat  \n",
       "0               покупка жилья  недвижимость    высокий доход  1-2 ребенка  \n",
       "1     приобретение автомобиля    автомобиль    средний доход  1-2 ребенка  \n",
       "2               покупка жилья  недвижимость    средний доход    нет детей  \n",
       "3  дополнительное образование   образование    высокий доход  многодетные  \n",
       "4             сыграть свадьбу       свадьба    средний доход    нет детей  "
      ]
     },
     "execution_count": 59,
     "metadata": {},
     "output_type": "execute_result"
    }
   ],
   "source": [
    "df.head()"
   ]
  },
  {
   "cell_type": "markdown",
   "metadata": {},
   "source": [
    "## **<font color='CornflowerBlue'> Ответы на вопросы </font>** "
   ]
  },
  {
   "cell_type": "code",
   "execution_count": 60,
   "metadata": {},
   "outputs": [],
   "source": [
    "def func_cat(category):\n",
    "    return df.groupby(category)['debt'].mean().to_frame().sort_values(by='debt')"
   ]
  },
  {
   "cell_type": "markdown",
   "metadata": {},
   "source": [
    "- ***Есть ли зависимость между наличием детей и возвратом кредита в срок?***"
   ]
  },
  {
   "cell_type": "code",
   "execution_count": 61,
   "metadata": {
    "scrolled": true
   },
   "outputs": [
    {
     "data": {
      "text/html": [
       "<div>\n",
       "<style scoped>\n",
       "    .dataframe tbody tr th:only-of-type {\n",
       "        vertical-align: middle;\n",
       "    }\n",
       "\n",
       "    .dataframe tbody tr th {\n",
       "        vertical-align: top;\n",
       "    }\n",
       "\n",
       "    .dataframe thead th {\n",
       "        text-align: right;\n",
       "    }\n",
       "</style>\n",
       "<table border=\"1\" class=\"dataframe\">\n",
       "  <thead>\n",
       "    <tr style=\"text-align: right;\">\n",
       "      <th></th>\n",
       "      <th>debt</th>\n",
       "    </tr>\n",
       "    <tr>\n",
       "      <th>children_cat</th>\n",
       "      <th></th>\n",
       "    </tr>\n",
       "  </thead>\n",
       "  <tbody>\n",
       "    <tr>\n",
       "      <th>нет детей</th>\n",
       "      <td>0.075263</td>\n",
       "    </tr>\n",
       "    <tr>\n",
       "      <th>многодетные</th>\n",
       "      <td>0.081579</td>\n",
       "    </tr>\n",
       "    <tr>\n",
       "      <th>1-2 ребенка</th>\n",
       "      <td>0.093003</td>\n",
       "    </tr>\n",
       "  </tbody>\n",
       "</table>\n",
       "</div>"
      ],
      "text/plain": [
       "                  debt\n",
       "children_cat          \n",
       "нет детей     0.075263\n",
       "многодетные   0.081579\n",
       "1-2 ребенка   0.093003"
      ]
     },
     "execution_count": 61,
     "metadata": {},
     "output_type": "execute_result"
    }
   ],
   "source": [
    "func_cat('children_cat')"
   ]
  },
  {
   "cell_type": "markdown",
   "metadata": {},
   "source": [
    "**Вывод**\n",
    "\n",
    "Да, зависимость есть. Среди замщиков, не вернувших кредит в срок, меньше всего бездетных - их 7,5%.   \n",
    "\n",
    "Что касается остальных 93,5% заемщиков с просрочками по оплате, то у них дети есть. Зависимости от количества детей нет."
   ]
  },
  {
   "cell_type": "markdown",
   "metadata": {},
   "source": [
    "- ***Есть ли зависимость между семейным положением и возвратом кредита в срок?***"
   ]
  },
  {
   "cell_type": "code",
   "execution_count": 62,
   "metadata": {},
   "outputs": [
    {
     "data": {
      "text/html": [
       "<div>\n",
       "<style scoped>\n",
       "    .dataframe tbody tr th:only-of-type {\n",
       "        vertical-align: middle;\n",
       "    }\n",
       "\n",
       "    .dataframe tbody tr th {\n",
       "        vertical-align: top;\n",
       "    }\n",
       "\n",
       "    .dataframe thead th {\n",
       "        text-align: right;\n",
       "    }\n",
       "</style>\n",
       "<table border=\"1\" class=\"dataframe\">\n",
       "  <thead>\n",
       "    <tr style=\"text-align: right;\">\n",
       "      <th></th>\n",
       "      <th>debt</th>\n",
       "    </tr>\n",
       "    <tr>\n",
       "      <th>family_status</th>\n",
       "      <th></th>\n",
       "    </tr>\n",
       "  </thead>\n",
       "  <tbody>\n",
       "    <tr>\n",
       "      <th>вдовец / вдова</th>\n",
       "      <td>0.065969</td>\n",
       "    </tr>\n",
       "    <tr>\n",
       "      <th>в разводе</th>\n",
       "      <td>0.070411</td>\n",
       "    </tr>\n",
       "    <tr>\n",
       "      <th>женат / замужем</th>\n",
       "      <td>0.075509</td>\n",
       "    </tr>\n",
       "    <tr>\n",
       "      <th>гражданский брак</th>\n",
       "      <td>0.093040</td>\n",
       "    </tr>\n",
       "    <tr>\n",
       "      <th>Не женат / не замужем</th>\n",
       "      <td>0.097465</td>\n",
       "    </tr>\n",
       "  </tbody>\n",
       "</table>\n",
       "</div>"
      ],
      "text/plain": [
       "                           debt\n",
       "family_status                  \n",
       "вдовец / вдова         0.065969\n",
       "в разводе              0.070411\n",
       "женат / замужем        0.075509\n",
       "гражданский брак       0.093040\n",
       "Не женат / не замужем  0.097465"
      ]
     },
     "execution_count": 62,
     "metadata": {},
     "output_type": "execute_result"
    }
   ],
   "source": [
    "func_cat('family_status')"
   ]
  },
  {
   "cell_type": "markdown",
   "metadata": {},
   "source": [
    "**Вывод**\n",
    "\n",
    "**Самый большой процент просроченных кредитов** - среди заемщиков, не состоящих в браке (9,75%).  \n",
    "После них по количеству просрочек идут те, кто состоит в гражданском браке (9,3%) и официально женатые/замужние (7,55%).   \n",
    "\n",
    "**Самый маленький процент должников** - среди овдовевших (6,6 %) и среди разведенных (7,04%). "
   ]
  },
  {
   "cell_type": "markdown",
   "metadata": {},
   "source": [
    "- ***Есть ли зависимость между уровнем дохода и возвратом кредита в срок?***"
   ]
  },
  {
   "cell_type": "code",
   "execution_count": 63,
   "metadata": {},
   "outputs": [
    {
     "data": {
      "text/html": [
       "<div>\n",
       "<style scoped>\n",
       "    .dataframe tbody tr th:only-of-type {\n",
       "        vertical-align: middle;\n",
       "    }\n",
       "\n",
       "    .dataframe tbody tr th {\n",
       "        vertical-align: top;\n",
       "    }\n",
       "\n",
       "    .dataframe thead th {\n",
       "        text-align: right;\n",
       "    }\n",
       "</style>\n",
       "<table border=\"1\" class=\"dataframe\">\n",
       "  <thead>\n",
       "    <tr style=\"text-align: right;\">\n",
       "      <th></th>\n",
       "      <th>debt</th>\n",
       "    </tr>\n",
       "    <tr>\n",
       "      <th>total_income_cat</th>\n",
       "      <th></th>\n",
       "    </tr>\n",
       "  </thead>\n",
       "  <tbody>\n",
       "    <tr>\n",
       "      <th>низкий доход</th>\n",
       "      <td>0.061828</td>\n",
       "    </tr>\n",
       "    <tr>\n",
       "      <th>высокий доход</th>\n",
       "      <td>0.077596</td>\n",
       "    </tr>\n",
       "    <tr>\n",
       "      <th>миллионер</th>\n",
       "      <td>0.080000</td>\n",
       "    </tr>\n",
       "    <tr>\n",
       "      <th>средний доход</th>\n",
       "      <td>0.083602</td>\n",
       "    </tr>\n",
       "  </tbody>\n",
       "</table>\n",
       "</div>"
      ],
      "text/plain": [
       "                      debt\n",
       "total_income_cat          \n",
       "низкий доход      0.061828\n",
       "высокий доход     0.077596\n",
       "миллионер         0.080000\n",
       "средний доход     0.083602"
      ]
     },
     "execution_count": 63,
     "metadata": {},
     "output_type": "execute_result"
    }
   ],
   "source": [
    "func_cat('total_income_cat')"
   ]
  },
  {
   "cell_type": "markdown",
   "metadata": {},
   "source": [
    "**Вывод**\n",
    "\n",
    "**Больше всего просрочек** по платежам - среди замещиков с **высоким** (7,7 %) и **средним** (8,3%) доходом.  \n",
    "**Меньше всего** - с **низким** доходом (6,1 %)."
   ]
  },
  {
   "cell_type": "markdown",
   "metadata": {},
   "source": [
    "- ***Как разные цели кредита влияют на его возврат в срок?***"
   ]
  },
  {
   "cell_type": "code",
   "execution_count": 64,
   "metadata": {
    "scrolled": true
   },
   "outputs": [
    {
     "data": {
      "text/html": [
       "<div>\n",
       "<style scoped>\n",
       "    .dataframe tbody tr th:only-of-type {\n",
       "        vertical-align: middle;\n",
       "    }\n",
       "\n",
       "    .dataframe tbody tr th {\n",
       "        vertical-align: top;\n",
       "    }\n",
       "\n",
       "    .dataframe thead th {\n",
       "        text-align: right;\n",
       "    }\n",
       "</style>\n",
       "<table border=\"1\" class=\"dataframe\">\n",
       "  <thead>\n",
       "    <tr style=\"text-align: right;\">\n",
       "      <th></th>\n",
       "      <th>debt</th>\n",
       "    </tr>\n",
       "    <tr>\n",
       "      <th>category</th>\n",
       "      <th></th>\n",
       "    </tr>\n",
       "  </thead>\n",
       "  <tbody>\n",
       "    <tr>\n",
       "      <th>недвижимость</th>\n",
       "      <td>0.072397</td>\n",
       "    </tr>\n",
       "    <tr>\n",
       "      <th>свадьба</th>\n",
       "      <td>0.079050</td>\n",
       "    </tr>\n",
       "    <tr>\n",
       "      <th>образование</th>\n",
       "      <td>0.092296</td>\n",
       "    </tr>\n",
       "    <tr>\n",
       "      <th>автомобиль</th>\n",
       "      <td>0.093473</td>\n",
       "    </tr>\n",
       "  </tbody>\n",
       "</table>\n",
       "</div>"
      ],
      "text/plain": [
       "                  debt\n",
       "category              \n",
       "недвижимость  0.072397\n",
       "свадьба       0.079050\n",
       "образование   0.092296\n",
       "автомобиль    0.093473"
      ]
     },
     "execution_count": 64,
     "metadata": {},
     "output_type": "execute_result"
    }
   ],
   "source": [
    "func_cat('category')"
   ]
  },
  {
   "cell_type": "markdown",
   "metadata": {},
   "source": [
    "**Вывод**"
   ]
  },
  {
   "cell_type": "markdown",
   "metadata": {},
   "source": [
    "Меньше всего просрочек - у заемщиков, чья цель кредита так или иначе связана с **недвижимостью** (7,2 %). После них с небольшим отрывом идут заемщики, которые берут кредит на **свадьбу** (7,9 %).  \n",
    "\n",
    "Больше всего должников с просроченными платежами - тех, кому нужны деньги на получение **образования** (9,2 %) и на приобретения **автомобиля** (9,3 %). "
   ]
  },
  {
   "cell_type": "markdown",
   "metadata": {},
   "source": [
    "## **<font color='MediumSlateBlue'> Общий вывод </font>**  <a id='4'></a>"
   ]
  },
  {
   "cell_type": "markdown",
   "metadata": {},
   "source": [
    "Достигнута цель нашего исследования - **выяснить, влияет ли семейное положение и количество детей на погашение кредита в срок**.\n",
    "\n",
    "Итак, мы приходим к выводам, что: \n",
    "\n",
    "**Самые ответственные заемщики - это**:\n",
    "\n",
    "-по семейному положению - **разведенные** (7,04%) или **овдовевшие** (6,6 %)  \n",
    "-по количеству детей - **бездетные** (7,5%)  \n",
    "-по уровню дохода - **с низким доходом** (6,1 %)  \n",
    "-по цели кредита - **недвижимость** (7,2 %) (и все, что с ней связано, например, ремонт, сделка купли-продажи, и т.д.) или **свадьба**  (7,9 %).\n",
    "\n",
    "\n",
    "\n",
    "**Наименее ответственные заемщики - это:**\n",
    "\n",
    "-по семейному положению - живущие в **гражданском браке** (9,3%), либо **не состоящие в браке** (9,75%)  \n",
    "-по количеству детей - **имеющие детей (93%)**. Корелляции между количеством детей и просрочками по платежам не обнаружено.  \n",
    "-по уровню дохода - с **высоким** (7,7 %) или **средним** (8,3%) **доходом**.  \n",
    "\n",
    "-по цели кредита - **получение образования** (9,2 %) или **приобретение автомобиля** (9,3 %). \n",
    "\n",
    "\n",
    "\n",
    "\n"
   ]
  },
  {
   "cell_type": "markdown",
   "metadata": {},
   "source": [
    "## **<font color='RoyalBlue'> Чек-лист готовности проекта </font>** \n",
    "\n",
    "Поставьте 'x' в выполненных пунктах. Далее нажмите Shift+Enter."
   ]
  },
  {
   "cell_type": "markdown",
   "metadata": {},
   "source": [
    "- [x]  открыт файл;\n",
    "- [x] файл изучен;\n",
    "- [x]  определены пропущенные значения;\n",
    "- [x]  заполнены пропущенные значения;\n",
    "- [x]  есть пояснение, какие пропущенные значения обнаружены;\n",
    "- [x]  описаны возможные причины появления пропусков в данных;\n",
    "- [x]  объяснено, по какому принципу заполнены пропуски;\n",
    "- [x]  заменен вещественный тип данных на целочисленный;\n",
    "- [x]  есть пояснение, какой метод используется для изменения типа данных и почему;\n",
    "- [x]  удалены дубликаты;\n",
    "- [x]  есть пояснение, какой метод используется для поиска и удаления дубликатов;\n",
    "- [x]  описаны возможные причины появления дубликатов в данных;\n",
    "- [x]  выделены леммы в значениях столбца с целями получения кредита;\n",
    "- [x]  описан процесс лемматизации;\n",
    "- [x]  данные категоризированы;\n",
    "- [x]  есть объяснение принципа категоризации данных;\n",
    "- [x]  есть ответ на вопрос: \"Есть ли зависимость между наличием детей и возвратом кредита в срок?\";\n",
    "- [x]  есть ответ на вопрос: \"Есть ли зависимость между семейным положением и возвратом кредита в срок?\";\n",
    "- [x]  есть ответ на вопрос: \"Есть ли зависимость между уровнем дохода и возвратом кредита в срок?\";\n",
    "- [x]  есть ответ на вопрос: \"Как разные цели кредита влияют на его возврат в срок?\";\n",
    "- [x]  в каждом этапе есть выводы;\n",
    "- [x]  есть общий вывод."
   ]
  }
 ],
 "metadata": {
  "ExecuteTimeLog": [
   {
    "duration": 940,
    "start_time": "2021-12-05T21:00:49.489Z"
   },
   {
    "duration": 481,
    "start_time": "2021-12-05T21:01:09.810Z"
   },
   {
    "duration": 334,
    "start_time": "2021-12-05T21:01:16.929Z"
   },
   {
    "duration": 262,
    "start_time": "2021-12-05T21:01:30.680Z"
   },
   {
    "duration": 1638,
    "start_time": "2021-12-05T21:01:41.879Z"
   },
   {
    "duration": 2535,
    "start_time": "2021-12-05T21:02:04.409Z"
   },
   {
    "duration": 1820,
    "start_time": "2021-12-05T21:02:50.009Z"
   },
   {
    "duration": 2404,
    "start_time": "2021-12-05T21:05:24.729Z"
   },
   {
    "duration": 2087,
    "start_time": "2021-12-05T21:07:33.170Z"
   },
   {
    "duration": 48,
    "start_time": "2021-12-05T21:07:53.289Z"
   },
   {
    "duration": 65,
    "start_time": "2021-12-05T21:08:09.619Z"
   },
   {
    "duration": 241,
    "start_time": "2021-12-05T21:10:46.909Z"
   },
   {
    "duration": 379,
    "start_time": "2021-12-05T21:11:00.870Z"
   },
   {
    "duration": 53,
    "start_time": "2021-12-05T21:11:22.022Z"
   },
   {
    "duration": 280,
    "start_time": "2021-12-13T12:45:51.993Z"
   },
   {
    "duration": 718,
    "start_time": "2021-12-13T12:46:16.534Z"
   },
   {
    "duration": 56,
    "start_time": "2021-12-13T12:46:19.008Z"
   },
   {
    "duration": 253,
    "start_time": "2021-12-13T12:46:22.893Z"
   },
   {
    "duration": 245,
    "start_time": "2021-12-13T12:46:46.343Z"
   },
   {
    "duration": 263,
    "start_time": "2021-12-13T12:50:08.283Z"
   },
   {
    "duration": 28,
    "start_time": "2021-12-13T12:50:21.523Z"
   },
   {
    "duration": 61,
    "start_time": "2021-12-13T13:20:06.194Z"
   },
   {
    "duration": 58,
    "start_time": "2021-12-13T13:23:25.112Z"
   },
   {
    "duration": 896,
    "start_time": "2021-12-14T17:14:49.871Z"
   },
   {
    "duration": 530,
    "start_time": "2021-12-14T17:19:44.158Z"
   },
   {
    "duration": 76,
    "start_time": "2021-12-14T17:20:33.290Z"
   },
   {
    "duration": 80,
    "start_time": "2021-12-14T18:26:54.145Z"
   },
   {
    "duration": 73,
    "start_time": "2021-12-14T18:27:32.106Z"
   },
   {
    "duration": 632,
    "start_time": "2021-12-14T18:30:10.805Z"
   },
   {
    "duration": 74,
    "start_time": "2021-12-14T18:30:55.167Z"
   },
   {
    "duration": 505,
    "start_time": "2021-12-14T18:37:25.871Z"
   },
   {
    "duration": 73,
    "start_time": "2021-12-14T18:37:33.591Z"
   },
   {
    "duration": 78,
    "start_time": "2021-12-14T18:52:35.300Z"
   },
   {
    "duration": 92,
    "start_time": "2021-12-14T18:53:06.352Z"
   },
   {
    "duration": 99,
    "start_time": "2021-12-14T18:54:15.531Z"
   },
   {
    "duration": 117,
    "start_time": "2021-12-14T18:54:32.144Z"
   },
   {
    "duration": 96,
    "start_time": "2021-12-14T18:54:43.751Z"
   },
   {
    "duration": 96,
    "start_time": "2021-12-14T18:56:06.845Z"
   },
   {
    "duration": 98,
    "start_time": "2021-12-14T18:58:48.292Z"
   },
   {
    "duration": 92,
    "start_time": "2021-12-14T18:59:07.403Z"
   },
   {
    "duration": 92,
    "start_time": "2021-12-14T18:59:40.292Z"
   },
   {
    "duration": 123,
    "start_time": "2021-12-14T19:09:00.484Z"
   },
   {
    "duration": 148,
    "start_time": "2021-12-14T19:09:13.333Z"
   },
   {
    "duration": 170,
    "start_time": "2021-12-14T19:09:50.109Z"
   },
   {
    "duration": 120,
    "start_time": "2021-12-14T19:23:24.484Z"
   },
   {
    "duration": 852,
    "start_time": "2021-12-16T07:03:08.591Z"
   },
   {
    "duration": 97,
    "start_time": "2021-12-16T07:03:24.091Z"
   },
   {
    "duration": 104,
    "start_time": "2021-12-16T07:17:34.341Z"
   },
   {
    "duration": 103,
    "start_time": "2021-12-16T07:21:26.081Z"
   },
   {
    "duration": 84,
    "start_time": "2021-12-16T07:23:10.921Z"
   },
   {
    "duration": 2100,
    "start_time": "2021-12-16T07:28:46.287Z"
   },
   {
    "duration": 318,
    "start_time": "2021-12-16T07:41:36.893Z"
   },
   {
    "duration": 283,
    "start_time": "2021-12-16T07:41:49.053Z"
   },
   {
    "duration": 5,
    "start_time": "2021-12-16T07:42:02.022Z"
   },
   {
    "duration": 325,
    "start_time": "2021-12-16T07:55:24.951Z"
   },
   {
    "duration": 292,
    "start_time": "2021-12-16T07:55:32.951Z"
   },
   {
    "duration": 283,
    "start_time": "2021-12-16T07:55:39.111Z"
   },
   {
    "duration": 323,
    "start_time": "2021-12-16T07:59:16.767Z"
   },
   {
    "duration": -348,
    "start_time": "2021-12-16T08:00:27.663Z"
   },
   {
    "duration": 279,
    "start_time": "2021-12-16T08:00:29.750Z"
   },
   {
    "duration": 276,
    "start_time": "2021-12-16T08:00:52.622Z"
   },
   {
    "duration": 295,
    "start_time": "2021-12-16T08:01:01.633Z"
   },
   {
    "duration": 306,
    "start_time": "2021-12-16T08:01:12.033Z"
   },
   {
    "duration": 331,
    "start_time": "2021-12-16T08:04:07.522Z"
   },
   {
    "duration": 469,
    "start_time": "2021-12-16T08:25:46.637Z"
   },
   {
    "duration": 525,
    "start_time": "2021-12-16T08:26:21.710Z"
   },
   {
    "duration": 352,
    "start_time": "2021-12-16T08:28:05.043Z"
   },
   {
    "duration": 336,
    "start_time": "2021-12-16T08:31:45.610Z"
   },
   {
    "duration": 292,
    "start_time": "2021-12-16T08:33:40.244Z"
   },
   {
    "duration": 315,
    "start_time": "2021-12-16T08:33:50.635Z"
   },
   {
    "duration": 325,
    "start_time": "2021-12-16T08:39:12.054Z"
   },
   {
    "duration": 126,
    "start_time": "2021-12-16T08:39:49.933Z"
   },
   {
    "duration": 110,
    "start_time": "2021-12-16T08:41:42.836Z"
   },
   {
    "duration": 126,
    "start_time": "2021-12-16T08:42:13.061Z"
   },
   {
    "duration": 152,
    "start_time": "2021-12-16T09:09:37.191Z"
   },
   {
    "duration": 148,
    "start_time": "2021-12-16T09:11:05.093Z"
   },
   {
    "duration": -311,
    "start_time": "2021-12-16T09:18:16.378Z"
   },
   {
    "duration": 7793,
    "start_time": "2021-12-16T09:18:40.509Z"
   },
   {
    "duration": 5,
    "start_time": "2021-12-16T09:19:03.601Z"
   },
   {
    "duration": 4,
    "start_time": "2021-12-16T09:19:41.170Z"
   },
   {
    "duration": 8,
    "start_time": "2021-12-16T09:20:41.682Z"
   },
   {
    "duration": 12,
    "start_time": "2021-12-16T09:21:01.863Z"
   },
   {
    "duration": 10,
    "start_time": "2021-12-16T09:32:02.392Z"
   },
   {
    "duration": 344,
    "start_time": "2021-12-16T09:53:25.676Z"
   },
   {
    "duration": 16,
    "start_time": "2021-12-16T09:56:32.496Z"
   },
   {
    "duration": 52,
    "start_time": "2021-12-16T09:56:38.986Z"
   },
   {
    "duration": 145,
    "start_time": "2021-12-16T10:07:07.186Z"
   },
   {
    "duration": 149,
    "start_time": "2021-12-16T10:07:36.397Z"
   },
   {
    "duration": 126,
    "start_time": "2021-12-16T10:07:50.140Z"
   },
   {
    "duration": 136,
    "start_time": "2021-12-16T10:09:11.521Z"
   },
   {
    "duration": 176,
    "start_time": "2021-12-16T10:09:28.986Z"
   },
   {
    "duration": 152,
    "start_time": "2021-12-16T10:10:46.620Z"
   },
   {
    "duration": 150,
    "start_time": "2021-12-16T10:11:03.610Z"
   },
   {
    "duration": 9,
    "start_time": "2021-12-16T10:11:07.467Z"
   },
   {
    "duration": 43,
    "start_time": "2021-12-16T10:12:20.309Z"
   },
   {
    "duration": 24,
    "start_time": "2021-12-16T10:12:44.045Z"
   },
   {
    "duration": 55,
    "start_time": "2021-12-16T10:15:02.792Z"
   },
   {
    "duration": 87,
    "start_time": "2021-12-16T10:16:12.200Z"
   },
   {
    "duration": 287,
    "start_time": "2021-12-16T10:16:53.981Z"
   },
   {
    "duration": 279,
    "start_time": "2021-12-16T10:17:02.677Z"
   },
   {
    "duration": 87,
    "start_time": "2021-12-16T10:17:14.930Z"
   },
   {
    "duration": 141,
    "start_time": "2021-12-16T10:17:19.017Z"
   },
   {
    "duration": 9,
    "start_time": "2021-12-16T10:17:24.410Z"
   },
   {
    "duration": 35,
    "start_time": "2021-12-16T10:18:27.484Z"
   },
   {
    "duration": 289,
    "start_time": "2021-12-16T10:18:53.826Z"
   },
   {
    "duration": 306,
    "start_time": "2021-12-16T10:32:08.793Z"
   },
   {
    "duration": 4,
    "start_time": "2021-12-16T10:35:11.063Z"
   },
   {
    "duration": 31,
    "start_time": "2021-12-16T10:35:23.633Z"
   },
   {
    "duration": 20,
    "start_time": "2021-12-16T10:35:54.324Z"
   },
   {
    "duration": 19,
    "start_time": "2021-12-16T10:36:42.049Z"
   },
   {
    "duration": 19,
    "start_time": "2021-12-16T10:36:46.841Z"
   },
   {
    "duration": 20,
    "start_time": "2021-12-16T10:36:59.214Z"
   },
   {
    "duration": 39,
    "start_time": "2021-12-16T10:37:46.933Z"
   },
   {
    "duration": 102,
    "start_time": "2021-12-16T10:40:18.654Z"
   },
   {
    "duration": 90,
    "start_time": "2021-12-16T10:40:26.453Z"
   },
   {
    "duration": 162,
    "start_time": "2021-12-16T10:40:37.124Z"
   },
   {
    "duration": 129,
    "start_time": "2021-12-16T10:40:47.361Z"
   },
   {
    "duration": 25,
    "start_time": "2021-12-16T10:40:54.631Z"
   },
   {
    "duration": 9,
    "start_time": "2021-12-16T10:41:01.393Z"
   },
   {
    "duration": 55,
    "start_time": "2021-12-16T10:41:20.697Z"
   },
   {
    "duration": 21,
    "start_time": "2021-12-16T10:41:33.344Z"
   },
   {
    "duration": 33,
    "start_time": "2021-12-16T10:41:38.663Z"
   },
   {
    "duration": 9,
    "start_time": "2021-12-16T10:41:48.691Z"
   },
   {
    "duration": 26,
    "start_time": "2021-12-16T10:41:52.483Z"
   },
   {
    "duration": 10,
    "start_time": "2021-12-16T10:41:58.938Z"
   },
   {
    "duration": 31,
    "start_time": "2021-12-16T10:42:09.271Z"
   },
   {
    "duration": 31,
    "start_time": "2021-12-16T10:42:12.641Z"
   },
   {
    "duration": 47,
    "start_time": "2021-12-16T10:48:05.226Z"
   },
   {
    "duration": 55,
    "start_time": "2021-12-16T10:49:27.779Z"
   },
   {
    "duration": 54,
    "start_time": "2021-12-16T10:49:34.514Z"
   },
   {
    "duration": 60,
    "start_time": "2021-12-16T10:49:39.593Z"
   },
   {
    "duration": 56,
    "start_time": "2021-12-16T10:53:52.613Z"
   },
   {
    "duration": 61,
    "start_time": "2021-12-16T10:54:05.113Z"
   },
   {
    "duration": 49,
    "start_time": "2021-12-16T10:55:13.983Z"
   },
   {
    "duration": 51,
    "start_time": "2021-12-16T10:55:30.589Z"
   },
   {
    "duration": 93,
    "start_time": "2021-12-16T10:56:39.423Z"
   },
   {
    "duration": 84,
    "start_time": "2021-12-16T10:56:51.873Z"
   },
   {
    "duration": 154,
    "start_time": "2021-12-16T10:56:56.292Z"
   },
   {
    "duration": 147,
    "start_time": "2021-12-16T10:57:00.214Z"
   },
   {
    "duration": 148,
    "start_time": "2021-12-16T10:57:08.312Z"
   },
   {
    "duration": 15,
    "start_time": "2021-12-16T10:57:14.384Z"
   },
   {
    "duration": 9,
    "start_time": "2021-12-16T10:57:18.843Z"
   },
   {
    "duration": 50,
    "start_time": "2021-12-16T10:57:23.033Z"
   },
   {
    "duration": 6963,
    "start_time": "2021-12-16T10:59:32.325Z"
   },
   {
    "duration": 6969,
    "start_time": "2021-12-16T10:59:43.113Z"
   },
   {
    "duration": 58,
    "start_time": "2021-12-16T10:59:59.131Z"
   },
   {
    "duration": 3775,
    "start_time": "2021-12-16T11:00:32.363Z"
   },
   {
    "duration": 51,
    "start_time": "2021-12-16T11:00:51.656Z"
   },
   {
    "duration": 64,
    "start_time": "2021-12-16T11:10:19.857Z"
   },
   {
    "duration": 132,
    "start_time": "2021-12-16T11:11:01.024Z"
   },
   {
    "duration": 115,
    "start_time": "2021-12-16T11:11:34.924Z"
   },
   {
    "duration": 168,
    "start_time": "2021-12-16T11:11:49.414Z"
   },
   {
    "duration": 115,
    "start_time": "2021-12-16T11:12:10.933Z"
   },
   {
    "duration": 128,
    "start_time": "2021-12-16T11:12:22.224Z"
   },
   {
    "duration": 101,
    "start_time": "2021-12-16T11:12:32.773Z"
   },
   {
    "duration": 106,
    "start_time": "2021-12-16T11:20:52.088Z"
   },
   {
    "duration": 131,
    "start_time": "2021-12-16T11:23:07.273Z"
   },
   {
    "duration": 127,
    "start_time": "2021-12-16T11:28:00.024Z"
   },
   {
    "duration": 116,
    "start_time": "2021-12-16T11:35:59.410Z"
   },
   {
    "duration": 119,
    "start_time": "2021-12-16T11:38:48.321Z"
   },
   {
    "duration": 137,
    "start_time": "2021-12-16T11:39:00.529Z"
   },
   {
    "duration": 355,
    "start_time": "2021-12-16T19:23:30.568Z"
   },
   {
    "duration": 259,
    "start_time": "2021-12-16T19:23:53.026Z"
   },
   {
    "duration": 998,
    "start_time": "2021-12-16T19:24:29.338Z"
   },
   {
    "duration": 248,
    "start_time": "2021-12-16T19:24:50.281Z"
   },
   {
    "duration": 907,
    "start_time": "2021-12-17T13:08:13.479Z"
   },
   {
    "duration": 136,
    "start_time": "2021-12-17T13:08:41.684Z"
   },
   {
    "duration": 169,
    "start_time": "2021-12-17T13:08:59.003Z"
   },
   {
    "duration": 892,
    "start_time": "2021-12-18T12:38:58.591Z"
   },
   {
    "duration": 127,
    "start_time": "2021-12-18T12:38:59.882Z"
   },
   {
    "duration": 9,
    "start_time": "2021-12-18T12:39:01.750Z"
   },
   {
    "duration": 107,
    "start_time": "2021-12-18T12:39:03.812Z"
   },
   {
    "duration": 602,
    "start_time": "2021-12-18T12:39:41.400Z"
   },
   {
    "duration": 1596,
    "start_time": "2021-12-18T14:35:57.745Z"
   },
   {
    "duration": -364,
    "start_time": "2021-12-18T14:35:59.708Z"
   },
   {
    "duration": -369,
    "start_time": "2021-12-18T14:35:59.715Z"
   },
   {
    "duration": -407,
    "start_time": "2021-12-18T14:35:59.754Z"
   },
   {
    "duration": -407,
    "start_time": "2021-12-18T14:35:59.756Z"
   },
   {
    "duration": 488,
    "start_time": "2021-12-18T14:36:36.150Z"
   },
   {
    "duration": 77,
    "start_time": "2021-12-18T14:36:47.905Z"
   },
   {
    "duration": 601,
    "start_time": "2021-12-18T14:37:01.368Z"
   },
   {
    "duration": 506,
    "start_time": "2021-12-18T14:43:48.633Z"
   },
   {
    "duration": 199,
    "start_time": "2021-12-18T14:43:49.860Z"
   },
   {
    "duration": 10,
    "start_time": "2021-12-18T14:43:50.251Z"
   },
   {
    "duration": 124,
    "start_time": "2021-12-18T14:43:50.838Z"
   },
   {
    "duration": 941,
    "start_time": "2021-12-18T16:44:05.159Z"
   },
   {
    "duration": 299,
    "start_time": "2021-12-18T16:44:55.139Z"
   },
   {
    "duration": 359,
    "start_time": "2021-12-18T16:47:34.020Z"
   },
   {
    "duration": 360,
    "start_time": "2021-12-18T16:47:41.312Z"
   },
   {
    "duration": 336,
    "start_time": "2021-12-18T16:48:20.678Z"
   },
   {
    "duration": 125,
    "start_time": "2021-12-18T16:48:48.275Z"
   },
   {
    "duration": 102,
    "start_time": "2021-12-18T16:51:37.090Z"
   },
   {
    "duration": 129,
    "start_time": "2021-12-18T16:53:02.460Z"
   },
   {
    "duration": 118,
    "start_time": "2021-12-18T16:54:17.343Z"
   },
   {
    "duration": 101,
    "start_time": "2021-12-18T16:54:33.704Z"
   },
   {
    "duration": 114,
    "start_time": "2021-12-18T16:55:47.484Z"
   },
   {
    "duration": 8,
    "start_time": "2021-12-18T16:55:54.687Z"
   },
   {
    "duration": 75,
    "start_time": "2021-12-18T16:56:00.697Z"
   },
   {
    "duration": 615,
    "start_time": "2021-12-18T17:34:16.321Z"
   },
   {
    "duration": 96,
    "start_time": "2021-12-18T17:34:16.938Z"
   },
   {
    "duration": 5,
    "start_time": "2021-12-18T17:34:17.036Z"
   },
   {
    "duration": 96,
    "start_time": "2021-12-18T17:34:17.043Z"
   },
   {
    "duration": 666,
    "start_time": "2021-12-18T17:34:40.054Z"
   },
   {
    "duration": 108,
    "start_time": "2021-12-18T17:34:40.722Z"
   },
   {
    "duration": 5,
    "start_time": "2021-12-18T17:34:40.832Z"
   },
   {
    "duration": 110,
    "start_time": "2021-12-18T17:34:40.839Z"
   },
   {
    "duration": 643,
    "start_time": "2021-12-18T17:36:37.909Z"
   },
   {
    "duration": 102,
    "start_time": "2021-12-18T17:36:38.554Z"
   },
   {
    "duration": 31,
    "start_time": "2021-12-18T17:36:38.658Z"
   },
   {
    "duration": 62,
    "start_time": "2021-12-18T17:36:38.691Z"
   },
   {
    "duration": 606,
    "start_time": "2021-12-18T17:38:57.723Z"
   },
   {
    "duration": 102,
    "start_time": "2021-12-18T17:38:58.331Z"
   },
   {
    "duration": 6,
    "start_time": "2021-12-18T17:38:58.435Z"
   },
   {
    "duration": 97,
    "start_time": "2021-12-18T17:38:58.442Z"
   },
   {
    "duration": 608,
    "start_time": "2021-12-18T17:53:18.446Z"
   },
   {
    "duration": 92,
    "start_time": "2021-12-18T17:53:19.056Z"
   },
   {
    "duration": 38,
    "start_time": "2021-12-18T17:53:19.151Z"
   },
   {
    "duration": 67,
    "start_time": "2021-12-18T17:53:19.191Z"
   },
   {
    "duration": 90,
    "start_time": "2021-12-18T17:53:54.218Z"
   },
   {
    "duration": -235,
    "start_time": "2021-12-18T17:53:54.546Z"
   },
   {
    "duration": -237,
    "start_time": "2021-12-18T17:53:54.549Z"
   },
   {
    "duration": -238,
    "start_time": "2021-12-18T17:53:54.551Z"
   },
   {
    "duration": -238,
    "start_time": "2021-12-18T17:53:54.553Z"
   },
   {
    "duration": 648,
    "start_time": "2021-12-18T17:54:04.449Z"
   },
   {
    "duration": 385,
    "start_time": "2021-12-18T17:54:29.561Z"
   },
   {
    "duration": 83,
    "start_time": "2021-12-18T17:54:42.989Z"
   },
   {
    "duration": 82,
    "start_time": "2021-12-18T17:56:34.340Z"
   },
   {
    "duration": 125,
    "start_time": "2021-12-18T17:56:37.080Z"
   },
   {
    "duration": 7,
    "start_time": "2021-12-18T17:56:42.391Z"
   },
   {
    "duration": 64,
    "start_time": "2021-12-18T17:56:46.718Z"
   },
   {
    "duration": 105,
    "start_time": "2021-12-19T13:24:27.892Z"
   },
   {
    "duration": 264,
    "start_time": "2021-12-19T13:25:36.143Z"
   },
   {
    "duration": 659,
    "start_time": "2021-12-19T13:37:06.763Z"
   },
   {
    "duration": 90,
    "start_time": "2021-12-19T13:37:07.661Z"
   },
   {
    "duration": 6,
    "start_time": "2021-12-19T13:37:08.373Z"
   },
   {
    "duration": 63,
    "start_time": "2021-12-19T13:37:09.039Z"
   },
   {
    "duration": 278,
    "start_time": "2021-12-19T13:37:09.851Z"
   },
   {
    "duration": 261,
    "start_time": "2021-12-19T13:37:29.529Z"
   },
   {
    "duration": 6017,
    "start_time": "2021-12-19T13:37:37.381Z"
   },
   {
    "duration": 648,
    "start_time": "2021-12-19T13:37:58.148Z"
   },
   {
    "duration": 126,
    "start_time": "2021-12-19T13:37:58.798Z"
   },
   {
    "duration": 7,
    "start_time": "2021-12-19T13:37:58.926Z"
   },
   {
    "duration": 102,
    "start_time": "2021-12-19T13:37:58.934Z"
   },
   {
    "duration": 5997,
    "start_time": "2021-12-19T13:37:59.038Z"
   },
   {
    "duration": 1269,
    "start_time": "2021-12-19T14:07:17.941Z"
   },
   {
    "duration": 1141,
    "start_time": "2021-12-19T15:22:33.124Z"
   },
   {
    "duration": 293,
    "start_time": "2021-12-19T17:20:47.366Z"
   },
   {
    "duration": 773,
    "start_time": "2021-12-19T17:21:10.050Z"
   },
   {
    "duration": 172,
    "start_time": "2021-12-19T17:21:10.826Z"
   },
   {
    "duration": 7,
    "start_time": "2021-12-19T17:21:11.000Z"
   },
   {
    "duration": 140,
    "start_time": "2021-12-19T17:21:11.010Z"
   },
   {
    "duration": 1203,
    "start_time": "2021-12-19T17:21:11.163Z"
   },
   {
    "duration": 267,
    "start_time": "2021-12-19T17:30:18.374Z"
   },
   {
    "duration": 262,
    "start_time": "2021-12-19T17:30:31.874Z"
   },
   {
    "duration": 296,
    "start_time": "2021-12-19T17:32:21.956Z"
   },
   {
    "duration": 272,
    "start_time": "2021-12-19T17:32:31.629Z"
   },
   {
    "duration": 477,
    "start_time": "2021-12-19T17:42:00.276Z"
   },
   {
    "duration": 243,
    "start_time": "2021-12-19T17:46:00.043Z"
   },
   {
    "duration": 248,
    "start_time": "2021-12-19T17:46:15.271Z"
   },
   {
    "duration": 232,
    "start_time": "2021-12-19T17:50:04.668Z"
   },
   {
    "duration": 246,
    "start_time": "2021-12-19T17:51:09.493Z"
   },
   {
    "duration": 236,
    "start_time": "2021-12-19T17:52:26.946Z"
   },
   {
    "duration": 473,
    "start_time": "2021-12-21T12:01:48.313Z"
   },
   {
    "duration": 546,
    "start_time": "2021-12-21T12:02:00.351Z"
   },
   {
    "duration": 330,
    "start_time": "2021-12-21T12:02:31.830Z"
   },
   {
    "duration": 343,
    "start_time": "2021-12-21T12:02:38.370Z"
   },
   {
    "duration": 949,
    "start_time": "2021-12-21T12:02:56.209Z"
   },
   {
    "duration": 207,
    "start_time": "2021-12-21T12:02:57.160Z"
   },
   {
    "duration": 9,
    "start_time": "2021-12-21T12:02:57.370Z"
   },
   {
    "duration": 184,
    "start_time": "2021-12-21T12:02:57.381Z"
   },
   {
    "duration": 5749,
    "start_time": "2021-12-21T12:03:20.740Z"
   },
   {
    "duration": 6095,
    "start_time": "2021-12-21T12:07:17.069Z"
   },
   {
    "duration": 185,
    "start_time": "2021-12-21T12:07:23.174Z"
   },
   {
    "duration": 5942,
    "start_time": "2021-12-21T12:07:27.592Z"
   },
   {
    "duration": 12,
    "start_time": "2021-12-21T12:07:48.382Z"
   },
   {
    "duration": 8,
    "start_time": "2021-12-21T12:08:02.755Z"
   },
   {
    "duration": 65,
    "start_time": "2021-12-21T12:08:31.324Z"
   },
   {
    "duration": 17,
    "start_time": "2021-12-21T12:08:46.303Z"
   },
   {
    "duration": 29,
    "start_time": "2021-12-21T12:08:52.925Z"
   },
   {
    "duration": 130,
    "start_time": "2021-12-21T12:09:06.754Z"
   },
   {
    "duration": 546,
    "start_time": "2021-12-21T12:09:45.183Z"
   },
   {
    "duration": 1039,
    "start_time": "2021-12-21T12:10:14.451Z"
   },
   {
    "duration": 248,
    "start_time": "2021-12-21T12:10:15.493Z"
   },
   {
    "duration": 12,
    "start_time": "2021-12-21T12:10:15.746Z"
   },
   {
    "duration": 176,
    "start_time": "2021-12-21T12:10:15.761Z"
   },
   {
    "duration": 6316,
    "start_time": "2021-12-21T12:10:15.940Z"
   },
   {
    "duration": 6073,
    "start_time": "2021-12-21T12:10:28.734Z"
   },
   {
    "duration": 23,
    "start_time": "2021-12-21T12:12:42.251Z"
   },
   {
    "duration": 5427,
    "start_time": "2021-12-21T12:24:34.121Z"
   },
   {
    "duration": 1021,
    "start_time": "2021-12-21T12:24:46.641Z"
   },
   {
    "duration": 185,
    "start_time": "2021-12-21T12:24:47.665Z"
   },
   {
    "duration": 9,
    "start_time": "2021-12-21T12:24:47.853Z"
   },
   {
    "duration": 161,
    "start_time": "2021-12-21T12:24:47.864Z"
   },
   {
    "duration": 5198,
    "start_time": "2021-12-21T12:24:48.028Z"
   },
   {
    "duration": 5135,
    "start_time": "2021-12-21T12:25:30.975Z"
   },
   {
    "duration": 5569,
    "start_time": "2021-12-21T12:25:45.595Z"
   },
   {
    "duration": 909,
    "start_time": "2021-12-21T12:44:27.127Z"
   },
   {
    "duration": 217,
    "start_time": "2021-12-21T12:44:28.039Z"
   },
   {
    "duration": 10,
    "start_time": "2021-12-21T12:44:28.259Z"
   },
   {
    "duration": 177,
    "start_time": "2021-12-21T12:44:28.272Z"
   },
   {
    "duration": 5058,
    "start_time": "2021-12-21T12:44:28.452Z"
   },
   {
    "duration": 918,
    "start_time": "2021-12-21T13:17:51.878Z"
   },
   {
    "duration": 179,
    "start_time": "2021-12-21T13:17:52.799Z"
   },
   {
    "duration": 50,
    "start_time": "2021-12-21T13:17:52.981Z"
   },
   {
    "duration": 161,
    "start_time": "2021-12-21T13:17:53.033Z"
   },
   {
    "duration": 5493,
    "start_time": "2021-12-21T13:17:53.197Z"
   },
   {
    "duration": 5240,
    "start_time": "2021-12-21T14:41:17.104Z"
   },
   {
    "duration": 5541,
    "start_time": "2021-12-21T14:41:31.022Z"
   },
   {
    "duration": 5318,
    "start_time": "2021-12-21T14:43:22.857Z"
   },
   {
    "duration": 5334,
    "start_time": "2021-12-21T14:44:00.191Z"
   },
   {
    "duration": 448,
    "start_time": "2021-12-21T15:41:59.161Z"
   },
   {
    "duration": 273,
    "start_time": "2021-12-21T16:00:47.730Z"
   },
   {
    "duration": 1011,
    "start_time": "2021-12-21T16:01:25.268Z"
   },
   {
    "duration": 1061,
    "start_time": "2021-12-21T16:01:50.331Z"
   },
   {
    "duration": 5402,
    "start_time": "2021-12-21T16:01:51.395Z"
   },
   {
    "duration": 5494,
    "start_time": "2021-12-21T16:13:49.219Z"
   },
   {
    "duration": 5222,
    "start_time": "2021-12-21T16:14:02.290Z"
   },
   {
    "duration": 5476,
    "start_time": "2021-12-21T16:22:08.129Z"
   },
   {
    "duration": 5135,
    "start_time": "2021-12-21T16:22:16.760Z"
   },
   {
    "duration": 135,
    "start_time": "2021-12-21T18:08:27.613Z"
   },
   {
    "duration": 975,
    "start_time": "2021-12-21T18:08:38.014Z"
   },
   {
    "duration": 5308,
    "start_time": "2021-12-21T18:08:38.992Z"
   },
   {
    "duration": 385,
    "start_time": "2021-12-23T12:46:47.936Z"
   },
   {
    "duration": 316,
    "start_time": "2021-12-23T12:46:54.586Z"
   },
   {
    "duration": 287,
    "start_time": "2021-12-23T12:47:04.768Z"
   },
   {
    "duration": 1046,
    "start_time": "2021-12-23T12:47:12.260Z"
   },
   {
    "duration": 225,
    "start_time": "2021-12-23T12:47:13.309Z"
   },
   {
    "duration": 32,
    "start_time": "2021-12-23T12:47:13.537Z"
   },
   {
    "duration": 145,
    "start_time": "2021-12-23T12:47:13.572Z"
   },
   {
    "duration": 1465,
    "start_time": "2021-12-23T12:47:13.720Z"
   },
   {
    "duration": 5359,
    "start_time": "2021-12-23T12:47:15.188Z"
   },
   {
    "duration": 29,
    "start_time": "2021-12-23T12:47:20.550Z"
   },
   {
    "duration": 19,
    "start_time": "2021-12-23T12:47:20.582Z"
   },
   {
    "duration": 12,
    "start_time": "2021-12-23T12:55:16.465Z"
   },
   {
    "duration": 366,
    "start_time": "2021-12-23T12:55:33.241Z"
   },
   {
    "duration": 8,
    "start_time": "2021-12-23T12:55:48.554Z"
   },
   {
    "duration": 7,
    "start_time": "2021-12-23T12:56:25.404Z"
   },
   {
    "duration": 7,
    "start_time": "2021-12-23T13:01:45.224Z"
   },
   {
    "duration": 10,
    "start_time": "2021-12-23T13:02:32.962Z"
   },
   {
    "duration": 8,
    "start_time": "2021-12-23T13:02:43.482Z"
   },
   {
    "duration": 8,
    "start_time": "2021-12-23T13:02:51.768Z"
   },
   {
    "duration": 9,
    "start_time": "2021-12-23T13:03:00.369Z"
   },
   {
    "duration": 7,
    "start_time": "2021-12-23T13:03:09.251Z"
   },
   {
    "duration": 7,
    "start_time": "2021-12-23T13:03:13.488Z"
   },
   {
    "duration": 8,
    "start_time": "2021-12-23T13:03:20.213Z"
   },
   {
    "duration": 8,
    "start_time": "2021-12-23T13:03:29.367Z"
   },
   {
    "duration": 9,
    "start_time": "2021-12-23T13:24:27.823Z"
   },
   {
    "duration": 10,
    "start_time": "2021-12-23T13:26:47.383Z"
   },
   {
    "duration": 8,
    "start_time": "2021-12-23T13:30:21.383Z"
   },
   {
    "duration": 7,
    "start_time": "2021-12-23T13:30:35.933Z"
   },
   {
    "duration": 9,
    "start_time": "2021-12-23T13:30:39.184Z"
   },
   {
    "duration": 5,
    "start_time": "2021-12-23T13:31:40.222Z"
   },
   {
    "duration": 10,
    "start_time": "2021-12-23T13:31:51.407Z"
   },
   {
    "duration": 9,
    "start_time": "2021-12-23T13:32:56.513Z"
   },
   {
    "duration": 6,
    "start_time": "2021-12-23T13:47:02.303Z"
   },
   {
    "duration": 5,
    "start_time": "2021-12-23T13:47:05.471Z"
   },
   {
    "duration": 5,
    "start_time": "2021-12-23T13:47:21.551Z"
   },
   {
    "duration": 6,
    "start_time": "2021-12-23T13:47:23.183Z"
   },
   {
    "duration": 7,
    "start_time": "2021-12-23T13:47:31.703Z"
   },
   {
    "duration": 6,
    "start_time": "2021-12-23T13:47:34.384Z"
   },
   {
    "duration": 5,
    "start_time": "2021-12-23T13:47:36.391Z"
   },
   {
    "duration": 7,
    "start_time": "2021-12-23T13:47:48.843Z"
   },
   {
    "duration": 6,
    "start_time": "2021-12-23T13:50:51.808Z"
   },
   {
    "duration": 278,
    "start_time": "2021-12-23T13:51:01.992Z"
   },
   {
    "duration": 7128,
    "start_time": "2021-12-23T13:51:06.686Z"
   },
   {
    "duration": 7,
    "start_time": "2021-12-23T13:51:22.821Z"
   },
   {
    "duration": 5,
    "start_time": "2021-12-23T13:51:27.078Z"
   },
   {
    "duration": 5,
    "start_time": "2021-12-23T13:51:29.112Z"
   },
   {
    "duration": 5,
    "start_time": "2021-12-23T13:51:37.444Z"
   },
   {
    "duration": 4,
    "start_time": "2021-12-23T13:58:40.278Z"
   },
   {
    "duration": 7,
    "start_time": "2021-12-23T13:58:41.090Z"
   },
   {
    "duration": 146,
    "start_time": "2021-12-23T14:02:15.944Z"
   },
   {
    "duration": 16,
    "start_time": "2021-12-23T14:02:26.622Z"
   },
   {
    "duration": 144,
    "start_time": "2021-12-23T14:02:52.325Z"
   },
   {
    "duration": 97,
    "start_time": "2021-12-23T14:04:42.840Z"
   },
   {
    "duration": 97,
    "start_time": "2021-12-23T14:06:08.160Z"
   },
   {
    "duration": 354,
    "start_time": "2021-12-23T14:25:47.970Z"
   },
   {
    "duration": 285,
    "start_time": "2021-12-23T14:25:51.821Z"
   },
   {
    "duration": 22,
    "start_time": "2021-12-23T14:49:00.002Z"
   },
   {
    "duration": 26,
    "start_time": "2021-12-23T14:56:38.657Z"
   },
   {
    "duration": 24,
    "start_time": "2021-12-23T14:56:49.165Z"
   },
   {
    "duration": 24,
    "start_time": "2021-12-23T14:57:21.560Z"
   },
   {
    "duration": 25,
    "start_time": "2021-12-23T14:57:24.926Z"
   },
   {
    "duration": 24,
    "start_time": "2021-12-23T14:58:25.041Z"
   },
   {
    "duration": 1173,
    "start_time": "2021-12-23T14:58:33.232Z"
   },
   {
    "duration": 188,
    "start_time": "2021-12-23T14:58:34.407Z"
   },
   {
    "duration": 9,
    "start_time": "2021-12-23T14:58:34.598Z"
   },
   {
    "duration": 175,
    "start_time": "2021-12-23T14:58:34.610Z"
   },
   {
    "duration": 995,
    "start_time": "2021-12-23T14:58:34.788Z"
   },
   {
    "duration": 5100,
    "start_time": "2021-12-23T14:58:35.787Z"
   },
   {
    "duration": 15,
    "start_time": "2021-12-23T14:58:40.890Z"
   },
   {
    "duration": 16,
    "start_time": "2021-12-23T14:58:40.910Z"
   },
   {
    "duration": 5,
    "start_time": "2021-12-23T14:58:40.929Z"
   },
   {
    "duration": 35,
    "start_time": "2021-12-23T14:58:40.936Z"
   },
   {
    "duration": 8,
    "start_time": "2021-12-23T14:58:40.975Z"
   },
   {
    "duration": 12,
    "start_time": "2021-12-23T14:58:40.986Z"
   },
   {
    "duration": 8,
    "start_time": "2021-12-23T14:58:41.001Z"
   },
   {
    "duration": 75,
    "start_time": "2021-12-23T14:58:41.011Z"
   },
   {
    "duration": 6,
    "start_time": "2021-12-23T14:58:41.089Z"
   },
   {
    "duration": 394,
    "start_time": "2021-12-23T17:03:21.205Z"
   },
   {
    "duration": 726,
    "start_time": "2021-12-23T17:03:42.526Z"
   },
   {
    "duration": 34,
    "start_time": "2021-12-23T17:07:22.565Z"
   },
   {
    "duration": 291,
    "start_time": "2021-12-23T17:55:01.846Z"
   },
   {
    "duration": 19,
    "start_time": "2021-12-23T17:55:12.164Z"
   },
   {
    "duration": 13,
    "start_time": "2021-12-23T18:17:15.880Z"
   },
   {
    "duration": 12,
    "start_time": "2021-12-23T18:17:32.272Z"
   },
   {
    "duration": 6,
    "start_time": "2021-12-23T18:17:39.952Z"
   },
   {
    "duration": 7,
    "start_time": "2021-12-23T18:17:47.537Z"
   },
   {
    "duration": 8,
    "start_time": "2021-12-23T18:17:55.009Z"
   },
   {
    "duration": 7,
    "start_time": "2021-12-23T18:18:01.782Z"
   },
   {
    "duration": 28,
    "start_time": "2021-12-23T18:18:09.942Z"
   },
   {
    "duration": 39,
    "start_time": "2021-12-23T18:18:12.621Z"
   },
   {
    "duration": 31,
    "start_time": "2021-12-23T18:18:26.777Z"
   },
   {
    "duration": 18,
    "start_time": "2021-12-23T18:18:42.529Z"
   },
   {
    "duration": 330,
    "start_time": "2021-12-25T07:27:44.881Z"
   },
   {
    "duration": 275,
    "start_time": "2021-12-25T07:27:52.943Z"
   },
   {
    "duration": 821,
    "start_time": "2021-12-25T07:28:17.556Z"
   },
   {
    "duration": 184,
    "start_time": "2021-12-25T07:28:18.380Z"
   },
   {
    "duration": 9,
    "start_time": "2021-12-25T07:28:18.567Z"
   },
   {
    "duration": 153,
    "start_time": "2021-12-25T07:28:18.579Z"
   },
   {
    "duration": 915,
    "start_time": "2021-12-25T07:28:18.734Z"
   },
   {
    "duration": 4582,
    "start_time": "2021-12-25T07:28:19.651Z"
   },
   {
    "duration": 13,
    "start_time": "2021-12-25T07:28:24.235Z"
   },
   {
    "duration": 10,
    "start_time": "2021-12-25T07:28:24.252Z"
   },
   {
    "duration": 5,
    "start_time": "2021-12-25T07:28:24.264Z"
   },
   {
    "duration": 6,
    "start_time": "2021-12-25T07:28:24.271Z"
   },
   {
    "duration": 7,
    "start_time": "2021-12-25T07:28:24.324Z"
   },
   {
    "duration": 7,
    "start_time": "2021-12-25T07:28:24.333Z"
   },
   {
    "duration": 7,
    "start_time": "2021-12-25T07:28:24.343Z"
   },
   {
    "duration": 22,
    "start_time": "2021-12-25T07:28:24.352Z"
   },
   {
    "duration": 1072,
    "start_time": "2021-12-25T07:28:24.376Z"
   },
   {
    "duration": 19,
    "start_time": "2021-12-25T07:28:25.450Z"
   },
   {
    "duration": 487,
    "start_time": "2021-12-25T07:38:32.266Z"
   },
   {
    "duration": 28,
    "start_time": "2021-12-25T07:38:46.064Z"
   },
   {
    "duration": 309,
    "start_time": "2021-12-25T07:39:22.833Z"
   },
   {
    "duration": 27,
    "start_time": "2021-12-25T07:39:37.466Z"
   },
   {
    "duration": 28,
    "start_time": "2021-12-25T07:41:15.428Z"
   },
   {
    "duration": 31,
    "start_time": "2021-12-25T07:43:35.705Z"
   },
   {
    "duration": 1113,
    "start_time": "2021-12-25T07:45:28.225Z"
   },
   {
    "duration": 298,
    "start_time": "2021-12-25T07:46:16.175Z"
   },
   {
    "duration": 1223,
    "start_time": "2021-12-25T07:47:44.677Z"
   },
   {
    "duration": 1149,
    "start_time": "2021-12-25T07:48:25.067Z"
   },
   {
    "duration": 320,
    "start_time": "2021-12-25T07:48:50.683Z"
   },
   {
    "duration": 378,
    "start_time": "2021-12-25T07:49:11.945Z"
   },
   {
    "duration": 299,
    "start_time": "2021-12-25T07:49:22.168Z"
   },
   {
    "duration": 18,
    "start_time": "2021-12-25T07:51:41.407Z"
   },
   {
    "duration": 425,
    "start_time": "2021-12-25T07:52:27.579Z"
   },
   {
    "duration": 28,
    "start_time": "2021-12-25T07:52:41.681Z"
   },
   {
    "duration": 284,
    "start_time": "2021-12-25T07:52:56.826Z"
   },
   {
    "duration": 316,
    "start_time": "2021-12-25T08:01:23.375Z"
   },
   {
    "duration": 328,
    "start_time": "2021-12-25T08:01:28.830Z"
   },
   {
    "duration": 27,
    "start_time": "2021-12-25T08:01:38.384Z"
   },
   {
    "duration": 22,
    "start_time": "2021-12-25T08:02:38.341Z"
   },
   {
    "duration": 17,
    "start_time": "2021-12-25T08:05:35.836Z"
   },
   {
    "duration": 16,
    "start_time": "2021-12-25T08:05:42.480Z"
   },
   {
    "duration": 6,
    "start_time": "2021-12-25T08:24:49.140Z"
   },
   {
    "duration": 7,
    "start_time": "2021-12-25T08:24:51.289Z"
   },
   {
    "duration": 7,
    "start_time": "2021-12-25T08:25:22.238Z"
   },
   {
    "duration": 294,
    "start_time": "2021-12-25T08:25:55.739Z"
   },
   {
    "duration": 22,
    "start_time": "2021-12-25T08:26:21.866Z"
   },
   {
    "duration": 31,
    "start_time": "2021-12-25T08:26:31.700Z"
   },
   {
    "duration": 29,
    "start_time": "2021-12-25T08:27:16.152Z"
   },
   {
    "duration": 29,
    "start_time": "2021-12-25T08:41:23.240Z"
   },
   {
    "duration": 7,
    "start_time": "2021-12-25T08:43:21.828Z"
   },
   {
    "duration": 6,
    "start_time": "2021-12-25T08:43:29.156Z"
   },
   {
    "duration": 671,
    "start_time": "2021-12-25T08:43:42.111Z"
   },
   {
    "duration": 273,
    "start_time": "2021-12-25T08:43:56.334Z"
   },
   {
    "duration": 334,
    "start_time": "2021-12-25T08:46:20.388Z"
   },
   {
    "duration": 7,
    "start_time": "2021-12-25T08:46:24.611Z"
   },
   {
    "duration": 1107,
    "start_time": "2021-12-25T08:46:33.900Z"
   },
   {
    "duration": 8,
    "start_time": "2021-12-25T08:46:39.969Z"
   },
   {
    "duration": 13,
    "start_time": "2021-12-25T08:48:01.290Z"
   },
   {
    "duration": 6,
    "start_time": "2021-12-25T08:48:18.820Z"
   },
   {
    "duration": 6,
    "start_time": "2021-12-25T08:48:39.910Z"
   },
   {
    "duration": 6,
    "start_time": "2021-12-25T08:49:26.530Z"
   },
   {
    "duration": 6,
    "start_time": "2021-12-25T08:52:31.010Z"
   },
   {
    "duration": 6,
    "start_time": "2021-12-25T08:53:53.891Z"
   },
   {
    "duration": 6,
    "start_time": "2021-12-25T08:54:05.254Z"
   },
   {
    "duration": 41,
    "start_time": "2021-12-25T08:54:35.700Z"
   },
   {
    "duration": 42,
    "start_time": "2021-12-25T08:54:51.099Z"
   },
   {
    "duration": 8,
    "start_time": "2021-12-25T08:57:14.892Z"
   },
   {
    "duration": 9,
    "start_time": "2021-12-25T08:57:43.581Z"
   },
   {
    "duration": 16,
    "start_time": "2021-12-25T08:59:27.247Z"
   },
   {
    "duration": 15,
    "start_time": "2021-12-25T08:59:37.478Z"
   },
   {
    "duration": 10,
    "start_time": "2021-12-25T08:59:55.182Z"
   },
   {
    "duration": 19,
    "start_time": "2021-12-25T09:00:51.030Z"
   },
   {
    "duration": 50,
    "start_time": "2021-12-25T09:01:13.470Z"
   },
   {
    "duration": 308,
    "start_time": "2021-12-25T10:40:41.969Z"
   },
   {
    "duration": 732,
    "start_time": "2021-12-25T10:40:52.007Z"
   },
   {
    "duration": 148,
    "start_time": "2021-12-25T10:40:52.741Z"
   },
   {
    "duration": 6,
    "start_time": "2021-12-25T10:40:52.891Z"
   },
   {
    "duration": 99,
    "start_time": "2021-12-25T10:40:52.899Z"
   },
   {
    "duration": 20,
    "start_time": "2021-12-25T10:40:53.001Z"
   },
   {
    "duration": 725,
    "start_time": "2021-12-25T10:40:53.024Z"
   },
   {
    "duration": 4133,
    "start_time": "2021-12-25T10:40:53.752Z"
   },
   {
    "duration": 13,
    "start_time": "2021-12-25T10:40:57.890Z"
   },
   {
    "duration": 8,
    "start_time": "2021-12-25T10:40:57.906Z"
   },
   {
    "duration": 6,
    "start_time": "2021-12-25T10:40:57.916Z"
   },
   {
    "duration": 9,
    "start_time": "2021-12-25T10:40:57.924Z"
   },
   {
    "duration": 27,
    "start_time": "2021-12-25T10:40:57.935Z"
   },
   {
    "duration": 10,
    "start_time": "2021-12-25T10:40:57.964Z"
   },
   {
    "duration": 20,
    "start_time": "2021-12-25T10:40:57.976Z"
   },
   {
    "duration": 710,
    "start_time": "2021-12-25T10:40:57.998Z"
   },
   {
    "duration": 15,
    "start_time": "2021-12-25T10:40:58.710Z"
   },
   {
    "duration": 8,
    "start_time": "2021-12-25T10:40:58.727Z"
   },
   {
    "duration": 11,
    "start_time": "2021-12-25T10:40:58.737Z"
   },
   {
    "duration": 29,
    "start_time": "2021-12-25T10:40:58.762Z"
   },
   {
    "duration": 18,
    "start_time": "2021-12-25T10:40:58.793Z"
   },
   {
    "duration": 56,
    "start_time": "2021-12-25T10:40:58.813Z"
   },
   {
    "duration": 8,
    "start_time": "2021-12-25T10:41:12.779Z"
   },
   {
    "duration": 63,
    "start_time": "2021-12-25T10:41:23.158Z"
   },
   {
    "duration": 20,
    "start_time": "2021-12-25T10:41:30.000Z"
   },
   {
    "duration": 5,
    "start_time": "2021-12-25T10:42:14.122Z"
   },
   {
    "duration": 6,
    "start_time": "2021-12-25T10:42:14.338Z"
   },
   {
    "duration": 6,
    "start_time": "2021-12-25T10:42:14.572Z"
   },
   {
    "duration": 5,
    "start_time": "2021-12-25T10:42:27.148Z"
   },
   {
    "duration": 354,
    "start_time": "2021-12-25T10:44:21.619Z"
   },
   {
    "duration": 10,
    "start_time": "2021-12-25T10:44:27.158Z"
   },
   {
    "duration": 63,
    "start_time": "2021-12-25T10:48:41.560Z"
   },
   {
    "duration": 97,
    "start_time": "2021-12-25T11:00:53.476Z"
   },
   {
    "duration": 243,
    "start_time": "2021-12-25T11:08:45.381Z"
   },
   {
    "duration": 268,
    "start_time": "2021-12-25T11:08:53.922Z"
   },
   {
    "duration": 670,
    "start_time": "2021-12-25T11:09:14.898Z"
   },
   {
    "duration": 106,
    "start_time": "2021-12-25T11:09:15.571Z"
   },
   {
    "duration": 8,
    "start_time": "2021-12-25T11:09:15.679Z"
   },
   {
    "duration": 7,
    "start_time": "2021-12-25T11:09:15.689Z"
   },
   {
    "duration": 10,
    "start_time": "2021-12-25T11:09:15.698Z"
   },
   {
    "duration": 8,
    "start_time": "2021-12-25T11:09:15.710Z"
   },
   {
    "duration": 6,
    "start_time": "2021-12-25T11:09:15.719Z"
   },
   {
    "duration": 26,
    "start_time": "2021-12-25T11:09:15.760Z"
   },
   {
    "duration": 8,
    "start_time": "2021-12-25T11:09:15.788Z"
   },
   {
    "duration": 13,
    "start_time": "2021-12-25T11:09:15.797Z"
   },
   {
    "duration": 59,
    "start_time": "2021-12-25T11:09:15.811Z"
   },
   {
    "duration": 707,
    "start_time": "2021-12-25T11:09:15.872Z"
   },
   {
    "duration": 3869,
    "start_time": "2021-12-25T11:09:16.581Z"
   },
   {
    "duration": 16,
    "start_time": "2021-12-25T11:09:20.462Z"
   },
   {
    "duration": 8,
    "start_time": "2021-12-25T11:09:20.480Z"
   },
   {
    "duration": 4,
    "start_time": "2021-12-25T11:09:20.490Z"
   },
   {
    "duration": 12,
    "start_time": "2021-12-25T11:09:20.496Z"
   },
   {
    "duration": 11,
    "start_time": "2021-12-25T11:09:20.510Z"
   },
   {
    "duration": 8,
    "start_time": "2021-12-25T11:09:20.523Z"
   },
   {
    "duration": 32,
    "start_time": "2021-12-25T11:09:20.532Z"
   },
   {
    "duration": 562,
    "start_time": "2021-12-25T11:09:20.566Z"
   },
   {
    "duration": 15,
    "start_time": "2021-12-25T11:09:21.130Z"
   },
   {
    "duration": 3,
    "start_time": "2021-12-25T11:09:21.148Z"
   },
   {
    "duration": 11,
    "start_time": "2021-12-25T11:09:21.153Z"
   },
   {
    "duration": 29,
    "start_time": "2021-12-25T11:09:21.166Z"
   },
   {
    "duration": 17,
    "start_time": "2021-12-25T11:09:21.197Z"
   },
   {
    "duration": 33,
    "start_time": "2021-12-25T11:09:21.216Z"
   },
   {
    "duration": 7,
    "start_time": "2021-12-25T11:10:20.514Z"
   },
   {
    "duration": 12,
    "start_time": "2021-12-25T11:10:35.864Z"
   },
   {
    "duration": 27,
    "start_time": "2021-12-25T11:13:14.451Z"
   },
   {
    "duration": 44,
    "start_time": "2021-12-25T11:14:50.381Z"
   },
   {
    "duration": 25,
    "start_time": "2021-12-25T11:14:52.359Z"
   },
   {
    "duration": 16,
    "start_time": "2021-12-25T11:46:22.791Z"
   },
   {
    "duration": 14,
    "start_time": "2021-12-25T11:46:33.070Z"
   },
   {
    "duration": 776,
    "start_time": "2021-12-25T11:46:43.765Z"
   },
   {
    "duration": 69,
    "start_time": "2021-12-25T11:46:44.542Z"
   },
   {
    "duration": 17,
    "start_time": "2021-12-25T11:46:44.613Z"
   },
   {
    "duration": 9,
    "start_time": "2021-12-25T11:46:44.661Z"
   },
   {
    "duration": 12,
    "start_time": "2021-12-25T11:46:44.672Z"
   },
   {
    "duration": 6,
    "start_time": "2021-12-25T11:46:44.686Z"
   },
   {
    "duration": 5,
    "start_time": "2021-12-25T11:46:44.693Z"
   },
   {
    "duration": 5,
    "start_time": "2021-12-25T11:46:44.701Z"
   },
   {
    "duration": 59,
    "start_time": "2021-12-25T11:46:44.709Z"
   },
   {
    "duration": 13,
    "start_time": "2021-12-25T11:46:44.771Z"
   },
   {
    "duration": 9,
    "start_time": "2021-12-25T11:46:44.786Z"
   },
   {
    "duration": 15,
    "start_time": "2021-12-25T11:46:44.797Z"
   },
   {
    "duration": 53,
    "start_time": "2021-12-25T11:46:44.813Z"
   },
   {
    "duration": 817,
    "start_time": "2021-12-25T11:46:44.869Z"
   },
   {
    "duration": 3822,
    "start_time": "2021-12-25T11:46:45.688Z"
   },
   {
    "duration": 9,
    "start_time": "2021-12-25T11:46:49.512Z"
   },
   {
    "duration": 8,
    "start_time": "2021-12-25T11:46:49.522Z"
   },
   {
    "duration": 6,
    "start_time": "2021-12-25T11:46:49.531Z"
   },
   {
    "duration": 27,
    "start_time": "2021-12-25T11:46:49.538Z"
   },
   {
    "duration": 16,
    "start_time": "2021-12-25T11:46:49.566Z"
   },
   {
    "duration": 10,
    "start_time": "2021-12-25T11:46:49.584Z"
   },
   {
    "duration": 5,
    "start_time": "2021-12-25T11:46:49.595Z"
   },
   {
    "duration": 604,
    "start_time": "2021-12-25T11:46:49.604Z"
   },
   {
    "duration": 14,
    "start_time": "2021-12-25T11:46:50.210Z"
   },
   {
    "duration": 4,
    "start_time": "2021-12-25T11:46:50.225Z"
   },
   {
    "duration": 8,
    "start_time": "2021-12-25T11:46:50.230Z"
   },
   {
    "duration": 40,
    "start_time": "2021-12-25T11:46:50.239Z"
   },
   {
    "duration": 18,
    "start_time": "2021-12-25T11:46:50.281Z"
   },
   {
    "duration": 48,
    "start_time": "2021-12-25T11:46:50.301Z"
   },
   {
    "duration": 7,
    "start_time": "2021-12-25T11:47:38.382Z"
   },
   {
    "duration": 8,
    "start_time": "2021-12-25T11:47:52.841Z"
   },
   {
    "duration": 13,
    "start_time": "2021-12-25T11:48:19.954Z"
   },
   {
    "duration": 12,
    "start_time": "2021-12-25T11:48:34.713Z"
   },
   {
    "duration": 16,
    "start_time": "2021-12-25T11:49:10.726Z"
   },
   {
    "duration": 13,
    "start_time": "2021-12-25T11:49:15.576Z"
   },
   {
    "duration": 13,
    "start_time": "2021-12-25T11:49:19.217Z"
   },
   {
    "duration": 13,
    "start_time": "2021-12-25T11:51:39.431Z"
   },
   {
    "duration": 16,
    "start_time": "2021-12-25T11:51:43.940Z"
   },
   {
    "duration": 17,
    "start_time": "2021-12-25T11:52:45.020Z"
   },
   {
    "duration": 17,
    "start_time": "2021-12-25T11:53:04.650Z"
   },
   {
    "duration": 7,
    "start_time": "2021-12-25T12:09:10.572Z"
   },
   {
    "duration": 6,
    "start_time": "2021-12-25T12:09:29.050Z"
   },
   {
    "duration": 8,
    "start_time": "2021-12-25T12:09:32.030Z"
   },
   {
    "duration": 7,
    "start_time": "2021-12-25T12:10:44.577Z"
   },
   {
    "duration": 7,
    "start_time": "2021-12-25T12:11:25.539Z"
   },
   {
    "duration": 6,
    "start_time": "2021-12-25T12:12:16.008Z"
   },
   {
    "duration": 16,
    "start_time": "2021-12-25T12:18:36.066Z"
   },
   {
    "duration": 13,
    "start_time": "2021-12-25T12:18:40.184Z"
   },
   {
    "duration": 731,
    "start_time": "2021-12-25T12:18:58.374Z"
   },
   {
    "duration": 14,
    "start_time": "2021-12-25T12:18:59.106Z"
   },
   {
    "duration": 51,
    "start_time": "2021-12-25T12:18:59.123Z"
   },
   {
    "duration": 18,
    "start_time": "2021-12-25T12:18:59.177Z"
   },
   {
    "duration": 14,
    "start_time": "2021-12-25T12:18:59.197Z"
   },
   {
    "duration": 16,
    "start_time": "2021-12-25T12:18:59.213Z"
   },
   {
    "duration": 19,
    "start_time": "2021-12-25T12:18:59.231Z"
   },
   {
    "duration": 29,
    "start_time": "2021-12-25T12:18:59.252Z"
   },
   {
    "duration": 18,
    "start_time": "2021-12-25T12:18:59.285Z"
   },
   {
    "duration": 12,
    "start_time": "2021-12-25T12:18:59.305Z"
   },
   {
    "duration": 16,
    "start_time": "2021-12-25T12:18:59.319Z"
   },
   {
    "duration": 9,
    "start_time": "2021-12-25T12:18:59.337Z"
   },
   {
    "duration": 16,
    "start_time": "2021-12-25T12:18:59.348Z"
   },
   {
    "duration": 29,
    "start_time": "2021-12-25T12:18:59.367Z"
   },
   {
    "duration": 8,
    "start_time": "2021-12-25T12:18:59.398Z"
   },
   {
    "duration": 13,
    "start_time": "2021-12-25T12:18:59.408Z"
   },
   {
    "duration": 39,
    "start_time": "2021-12-25T12:18:59.423Z"
   },
   {
    "duration": 36,
    "start_time": "2021-12-25T12:18:59.465Z"
   },
   {
    "duration": 734,
    "start_time": "2021-12-25T12:18:59.502Z"
   },
   {
    "duration": 4060,
    "start_time": "2021-12-25T12:19:00.238Z"
   },
   {
    "duration": 10,
    "start_time": "2021-12-25T12:19:04.300Z"
   },
   {
    "duration": 12,
    "start_time": "2021-12-25T12:19:04.311Z"
   },
   {
    "duration": 18,
    "start_time": "2021-12-25T12:19:04.324Z"
   },
   {
    "duration": 19,
    "start_time": "2021-12-25T12:19:04.344Z"
   },
   {
    "duration": 10,
    "start_time": "2021-12-25T12:19:04.365Z"
   },
   {
    "duration": 19,
    "start_time": "2021-12-25T12:19:04.377Z"
   },
   {
    "duration": 8,
    "start_time": "2021-12-25T12:19:04.399Z"
   },
   {
    "duration": 600,
    "start_time": "2021-12-25T12:19:04.409Z"
   },
   {
    "duration": 16,
    "start_time": "2021-12-25T12:19:05.011Z"
   },
   {
    "duration": 5,
    "start_time": "2021-12-25T12:19:05.029Z"
   },
   {
    "duration": 9,
    "start_time": "2021-12-25T12:19:05.035Z"
   },
   {
    "duration": 41,
    "start_time": "2021-12-25T12:19:05.046Z"
   },
   {
    "duration": 19,
    "start_time": "2021-12-25T12:19:05.089Z"
   },
   {
    "duration": 51,
    "start_time": "2021-12-25T12:19:05.110Z"
   },
   {
    "duration": 25,
    "start_time": "2021-12-25T12:47:32.345Z"
   },
   {
    "duration": 4184,
    "start_time": "2021-12-25T12:48:27.215Z"
   },
   {
    "duration": 41,
    "start_time": "2021-12-25T13:05:22.785Z"
   },
   {
    "duration": 31,
    "start_time": "2021-12-25T13:25:21.078Z"
   },
   {
    "duration": 672,
    "start_time": "2021-12-25T13:25:37.968Z"
   },
   {
    "duration": 26,
    "start_time": "2021-12-25T13:25:38.642Z"
   },
   {
    "duration": 15,
    "start_time": "2021-12-25T13:25:38.671Z"
   },
   {
    "duration": 14,
    "start_time": "2021-12-25T13:25:38.688Z"
   },
   {
    "duration": 8,
    "start_time": "2021-12-25T13:25:38.703Z"
   },
   {
    "duration": 6,
    "start_time": "2021-12-25T13:25:38.713Z"
   },
   {
    "duration": 10,
    "start_time": "2021-12-25T13:25:38.760Z"
   },
   {
    "duration": 12,
    "start_time": "2021-12-25T13:25:38.772Z"
   },
   {
    "duration": 6,
    "start_time": "2021-12-25T13:25:38.786Z"
   },
   {
    "duration": 12,
    "start_time": "2021-12-25T13:25:38.794Z"
   },
   {
    "duration": 7,
    "start_time": "2021-12-25T13:25:38.808Z"
   },
   {
    "duration": 7,
    "start_time": "2021-12-25T13:25:38.817Z"
   },
   {
    "duration": 35,
    "start_time": "2021-12-25T13:25:38.826Z"
   },
   {
    "duration": 29,
    "start_time": "2021-12-25T13:25:38.863Z"
   },
   {
    "duration": 18,
    "start_time": "2021-12-25T13:25:38.893Z"
   },
   {
    "duration": 13,
    "start_time": "2021-12-25T13:25:38.913Z"
   },
   {
    "duration": 8,
    "start_time": "2021-12-25T13:25:38.928Z"
   },
   {
    "duration": 16,
    "start_time": "2021-12-25T13:25:38.961Z"
   },
   {
    "duration": 28,
    "start_time": "2021-12-25T13:25:38.978Z"
   },
   {
    "duration": 693,
    "start_time": "2021-12-25T13:25:39.008Z"
   },
   {
    "duration": 30,
    "start_time": "2021-12-25T13:25:39.703Z"
   },
   {
    "duration": 3477,
    "start_time": "2021-12-25T13:25:39.735Z"
   },
   {
    "duration": 91,
    "start_time": "2021-12-25T13:25:43.214Z"
   },
   {
    "duration": -1246,
    "start_time": "2021-12-25T13:25:44.554Z"
   },
   {
    "duration": -1248,
    "start_time": "2021-12-25T13:25:44.557Z"
   },
   {
    "duration": -1258,
    "start_time": "2021-12-25T13:25:44.569Z"
   },
   {
    "duration": -1263,
    "start_time": "2021-12-25T13:25:44.575Z"
   },
   {
    "duration": -1264,
    "start_time": "2021-12-25T13:25:44.578Z"
   },
   {
    "duration": -1270,
    "start_time": "2021-12-25T13:25:44.585Z"
   },
   {
    "duration": -1271,
    "start_time": "2021-12-25T13:25:44.588Z"
   },
   {
    "duration": -1274,
    "start_time": "2021-12-25T13:25:44.592Z"
   },
   {
    "duration": -1276,
    "start_time": "2021-12-25T13:25:44.596Z"
   },
   {
    "duration": -1281,
    "start_time": "2021-12-25T13:25:44.602Z"
   },
   {
    "duration": -1283,
    "start_time": "2021-12-25T13:25:44.606Z"
   },
   {
    "duration": -1285,
    "start_time": "2021-12-25T13:25:44.609Z"
   },
   {
    "duration": 722,
    "start_time": "2021-12-25T13:27:33.044Z"
   },
   {
    "duration": 16,
    "start_time": "2021-12-25T13:27:33.769Z"
   },
   {
    "duration": 15,
    "start_time": "2021-12-25T13:27:33.788Z"
   },
   {
    "duration": 58,
    "start_time": "2021-12-25T13:27:33.805Z"
   },
   {
    "duration": 10,
    "start_time": "2021-12-25T13:27:33.865Z"
   },
   {
    "duration": 5,
    "start_time": "2021-12-25T13:27:33.877Z"
   },
   {
    "duration": 10,
    "start_time": "2021-12-25T13:27:33.883Z"
   },
   {
    "duration": 13,
    "start_time": "2021-12-25T13:27:33.895Z"
   },
   {
    "duration": 5,
    "start_time": "2021-12-25T13:27:33.912Z"
   },
   {
    "duration": 43,
    "start_time": "2021-12-25T13:27:33.919Z"
   },
   {
    "duration": 7,
    "start_time": "2021-12-25T13:27:33.964Z"
   },
   {
    "duration": 7,
    "start_time": "2021-12-25T13:27:33.973Z"
   },
   {
    "duration": 8,
    "start_time": "2021-12-25T13:27:33.982Z"
   },
   {
    "duration": 32,
    "start_time": "2021-12-25T13:27:33.992Z"
   },
   {
    "duration": 46,
    "start_time": "2021-12-25T13:27:34.026Z"
   },
   {
    "duration": 9,
    "start_time": "2021-12-25T13:27:34.074Z"
   },
   {
    "duration": 8,
    "start_time": "2021-12-25T13:27:34.085Z"
   },
   {
    "duration": 19,
    "start_time": "2021-12-25T13:27:34.095Z"
   },
   {
    "duration": 65,
    "start_time": "2021-12-25T13:27:34.117Z"
   },
   {
    "duration": 743,
    "start_time": "2021-12-25T13:27:34.184Z"
   },
   {
    "duration": 43,
    "start_time": "2021-12-25T13:27:34.929Z"
   },
   {
    "duration": 3601,
    "start_time": "2021-12-25T13:27:34.974Z"
   },
   {
    "duration": 5,
    "start_time": "2021-12-25T13:27:38.577Z"
   },
   {
    "duration": 12,
    "start_time": "2021-12-25T13:27:38.583Z"
   },
   {
    "duration": 15,
    "start_time": "2021-12-25T13:27:38.596Z"
   },
   {
    "duration": 17,
    "start_time": "2021-12-25T13:27:38.612Z"
   },
   {
    "duration": 8,
    "start_time": "2021-12-25T13:27:38.633Z"
   },
   {
    "duration": 565,
    "start_time": "2021-12-25T13:27:38.642Z"
   },
   {
    "duration": 16,
    "start_time": "2021-12-25T13:27:39.209Z"
   },
   {
    "duration": 5,
    "start_time": "2021-12-25T13:27:39.226Z"
   },
   {
    "duration": 7,
    "start_time": "2021-12-25T13:27:39.232Z"
   },
   {
    "duration": 31,
    "start_time": "2021-12-25T13:27:39.241Z"
   },
   {
    "duration": 20,
    "start_time": "2021-12-25T13:27:39.274Z"
   },
   {
    "duration": 34,
    "start_time": "2021-12-25T13:27:39.295Z"
   },
   {
    "duration": 5,
    "start_time": "2021-12-25T13:28:40.524Z"
   },
   {
    "duration": 18,
    "start_time": "2021-12-25T13:40:29.357Z"
   },
   {
    "duration": 434,
    "start_time": "2021-12-25T13:50:17.776Z"
   },
   {
    "duration": 19,
    "start_time": "2021-12-25T13:53:23.000Z"
   },
   {
    "duration": 6,
    "start_time": "2021-12-25T13:53:30.360Z"
   },
   {
    "duration": 6,
    "start_time": "2021-12-25T13:53:42.816Z"
   },
   {
    "duration": 24,
    "start_time": "2021-12-25T13:58:26.841Z"
   },
   {
    "duration": 26,
    "start_time": "2021-12-25T13:58:56.920Z"
   },
   {
    "duration": 24,
    "start_time": "2021-12-25T13:59:07.600Z"
   },
   {
    "duration": 85,
    "start_time": "2021-12-25T14:02:37.598Z"
   },
   {
    "duration": 117,
    "start_time": "2021-12-25T14:03:16.177Z"
   },
   {
    "duration": 93,
    "start_time": "2021-12-25T14:05:21.433Z"
   },
   {
    "duration": 84,
    "start_time": "2021-12-25T14:05:47.086Z"
   },
   {
    "duration": 274,
    "start_time": "2021-12-25T14:05:57.856Z"
   },
   {
    "duration": 21,
    "start_time": "2021-12-25T14:06:43.897Z"
   },
   {
    "duration": 1123,
    "start_time": "2021-12-25T14:09:20.318Z"
   },
   {
    "duration": 19,
    "start_time": "2021-12-25T14:15:12.447Z"
   },
   {
    "duration": 61,
    "start_time": "2021-12-25T14:15:39.825Z"
   },
   {
    "duration": 24,
    "start_time": "2021-12-25T14:15:58.405Z"
   },
   {
    "duration": 23,
    "start_time": "2021-12-25T14:16:10.755Z"
   },
   {
    "duration": 23,
    "start_time": "2021-12-25T14:16:12.256Z"
   },
   {
    "duration": 19,
    "start_time": "2021-12-25T14:17:22.256Z"
   },
   {
    "duration": 19,
    "start_time": "2021-12-25T14:17:23.190Z"
   },
   {
    "duration": 24,
    "start_time": "2021-12-25T14:17:25.736Z"
   },
   {
    "duration": 23,
    "start_time": "2021-12-25T14:17:32.866Z"
   },
   {
    "duration": 23,
    "start_time": "2021-12-25T14:17:36.996Z"
   },
   {
    "duration": 19,
    "start_time": "2021-12-25T14:18:12.763Z"
   },
   {
    "duration": 25,
    "start_time": "2021-12-25T14:18:15.118Z"
   },
   {
    "duration": 25,
    "start_time": "2021-12-25T14:18:18.544Z"
   },
   {
    "duration": 24,
    "start_time": "2021-12-25T14:18:20.625Z"
   },
   {
    "duration": 721,
    "start_time": "2021-12-25T14:18:34.159Z"
   },
   {
    "duration": 15,
    "start_time": "2021-12-25T14:18:34.882Z"
   },
   {
    "duration": 13,
    "start_time": "2021-12-25T14:18:34.900Z"
   },
   {
    "duration": 48,
    "start_time": "2021-12-25T14:18:34.915Z"
   },
   {
    "duration": 9,
    "start_time": "2021-12-25T14:18:34.965Z"
   },
   {
    "duration": 7,
    "start_time": "2021-12-25T14:18:34.976Z"
   },
   {
    "duration": 9,
    "start_time": "2021-12-25T14:18:34.985Z"
   },
   {
    "duration": 15,
    "start_time": "2021-12-25T14:18:34.996Z"
   },
   {
    "duration": 7,
    "start_time": "2021-12-25T14:18:35.013Z"
   },
   {
    "duration": 43,
    "start_time": "2021-12-25T14:18:35.021Z"
   },
   {
    "duration": 8,
    "start_time": "2021-12-25T14:18:35.066Z"
   },
   {
    "duration": 8,
    "start_time": "2021-12-25T14:18:35.075Z"
   },
   {
    "duration": 10,
    "start_time": "2021-12-25T14:18:35.085Z"
   },
   {
    "duration": 29,
    "start_time": "2021-12-25T14:18:35.097Z"
   },
   {
    "duration": 40,
    "start_time": "2021-12-25T14:18:35.127Z"
   },
   {
    "duration": 14,
    "start_time": "2021-12-25T14:18:35.168Z"
   },
   {
    "duration": 9,
    "start_time": "2021-12-25T14:18:35.183Z"
   },
   {
    "duration": 17,
    "start_time": "2021-12-25T14:18:35.193Z"
   },
   {
    "duration": 49,
    "start_time": "2021-12-25T14:18:35.212Z"
   },
   {
    "duration": 680,
    "start_time": "2021-12-25T14:18:35.263Z"
   },
   {
    "duration": 39,
    "start_time": "2021-12-25T14:18:35.945Z"
   },
   {
    "duration": 3476,
    "start_time": "2021-12-25T14:18:35.986Z"
   },
   {
    "duration": 3,
    "start_time": "2021-12-25T14:18:39.465Z"
   },
   {
    "duration": 8,
    "start_time": "2021-12-25T14:18:39.470Z"
   },
   {
    "duration": 6,
    "start_time": "2021-12-25T14:18:39.480Z"
   },
   {
    "duration": 6,
    "start_time": "2021-12-25T14:18:39.487Z"
   },
   {
    "duration": 10,
    "start_time": "2021-12-25T14:18:39.494Z"
   },
   {
    "duration": 6,
    "start_time": "2021-12-25T14:18:39.506Z"
   },
   {
    "duration": 569,
    "start_time": "2021-12-25T14:18:39.513Z"
   },
   {
    "duration": 16,
    "start_time": "2021-12-25T14:18:40.084Z"
   },
   {
    "duration": 4,
    "start_time": "2021-12-25T14:18:40.101Z"
   },
   {
    "duration": 9,
    "start_time": "2021-12-25T14:18:40.106Z"
   },
   {
    "duration": 15,
    "start_time": "2021-12-25T14:18:40.116Z"
   },
   {
    "duration": 39,
    "start_time": "2021-12-25T14:18:40.132Z"
   },
   {
    "duration": 23,
    "start_time": "2021-12-25T14:18:40.173Z"
   },
   {
    "duration": 28,
    "start_time": "2021-12-25T14:18:40.198Z"
   },
   {
    "duration": 46,
    "start_time": "2021-12-25T14:18:40.228Z"
   },
   {
    "duration": 23,
    "start_time": "2021-12-25T14:18:40.276Z"
   },
   {
    "duration": 1141,
    "start_time": "2021-12-25T14:18:40.301Z"
   },
   {
    "duration": 18,
    "start_time": "2021-12-25T14:18:41.444Z"
   },
   {
    "duration": 627,
    "start_time": "2021-12-25T14:22:19.175Z"
   },
   {
    "duration": 26,
    "start_time": "2021-12-25T14:50:56.625Z"
   },
   {
    "duration": 381,
    "start_time": "2021-12-25T14:55:51.458Z"
   },
   {
    "duration": 21,
    "start_time": "2021-12-25T14:56:03.846Z"
   },
   {
    "duration": 27,
    "start_time": "2021-12-25T15:49:54.700Z"
   },
   {
    "duration": 281,
    "start_time": "2021-12-25T19:48:37.620Z"
   },
   {
    "duration": 662,
    "start_time": "2021-12-25T19:48:50.918Z"
   },
   {
    "duration": 13,
    "start_time": "2021-12-25T19:48:51.582Z"
   },
   {
    "duration": 14,
    "start_time": "2021-12-25T19:48:51.597Z"
   },
   {
    "duration": 42,
    "start_time": "2021-12-25T19:48:51.612Z"
   },
   {
    "duration": 9,
    "start_time": "2021-12-25T19:48:51.655Z"
   },
   {
    "duration": 6,
    "start_time": "2021-12-25T19:48:51.665Z"
   },
   {
    "duration": 10,
    "start_time": "2021-12-25T19:48:51.673Z"
   },
   {
    "duration": 57,
    "start_time": "2021-12-25T19:48:51.685Z"
   },
   {
    "duration": 6,
    "start_time": "2021-12-25T19:48:51.745Z"
   },
   {
    "duration": 5,
    "start_time": "2021-12-25T19:48:51.752Z"
   },
   {
    "duration": 6,
    "start_time": "2021-12-25T19:48:51.758Z"
   },
   {
    "duration": 5,
    "start_time": "2021-12-25T19:48:51.765Z"
   },
   {
    "duration": 6,
    "start_time": "2021-12-25T19:48:51.772Z"
   },
   {
    "duration": 30,
    "start_time": "2021-12-25T19:48:51.779Z"
   },
   {
    "duration": 46,
    "start_time": "2021-12-25T19:48:51.810Z"
   },
   {
    "duration": 10,
    "start_time": "2021-12-25T19:48:51.857Z"
   },
   {
    "duration": 8,
    "start_time": "2021-12-25T19:48:51.869Z"
   },
   {
    "duration": 13,
    "start_time": "2021-12-25T19:48:51.878Z"
   },
   {
    "duration": 24,
    "start_time": "2021-12-25T19:48:51.893Z"
   },
   {
    "duration": 624,
    "start_time": "2021-12-25T19:48:51.919Z"
   },
   {
    "duration": 19,
    "start_time": "2021-12-25T19:48:52.545Z"
   },
   {
    "duration": 3145,
    "start_time": "2021-12-25T19:48:52.565Z"
   },
   {
    "duration": 5,
    "start_time": "2021-12-25T19:48:55.713Z"
   },
   {
    "duration": 22,
    "start_time": "2021-12-25T19:48:55.719Z"
   },
   {
    "duration": 3,
    "start_time": "2021-12-25T19:48:55.742Z"
   },
   {
    "duration": 6,
    "start_time": "2021-12-25T19:48:55.747Z"
   },
   {
    "duration": 4,
    "start_time": "2021-12-25T19:48:55.754Z"
   },
   {
    "duration": 524,
    "start_time": "2021-12-25T19:48:55.760Z"
   },
   {
    "duration": 13,
    "start_time": "2021-12-25T19:48:56.286Z"
   },
   {
    "duration": 4,
    "start_time": "2021-12-25T19:48:56.301Z"
   },
   {
    "duration": 5,
    "start_time": "2021-12-25T19:48:56.307Z"
   },
   {
    "duration": 32,
    "start_time": "2021-12-25T19:48:56.314Z"
   },
   {
    "duration": 15,
    "start_time": "2021-12-25T19:48:56.348Z"
   },
   {
    "duration": 1052,
    "start_time": "2021-12-25T19:48:56.365Z"
   },
   {
    "duration": 23,
    "start_time": "2021-12-25T19:48:57.419Z"
   },
   {
    "duration": 19,
    "start_time": "2021-12-25T19:56:24.561Z"
   },
   {
    "duration": 12,
    "start_time": "2021-12-25T19:57:07.923Z"
   },
   {
    "duration": 429,
    "start_time": "2021-12-28T09:06:04.629Z"
   },
   {
    "duration": 473,
    "start_time": "2021-12-28T09:06:05.185Z"
   },
   {
    "duration": 287,
    "start_time": "2021-12-28T09:06:06.638Z"
   },
   {
    "duration": 919,
    "start_time": "2021-12-28T09:06:14.539Z"
   },
   {
    "duration": 41,
    "start_time": "2021-12-28T09:06:15.461Z"
   },
   {
    "duration": 11,
    "start_time": "2021-12-28T09:06:15.572Z"
   },
   {
    "duration": 74,
    "start_time": "2021-12-28T09:06:16.257Z"
   },
   {
    "duration": 56,
    "start_time": "2021-12-28T09:06:46.004Z"
   },
   {
    "duration": 8,
    "start_time": "2021-12-28T09:07:02.305Z"
   },
   {
    "duration": 16,
    "start_time": "2021-12-28T09:07:12.994Z"
   },
   {
    "duration": 110,
    "start_time": "2021-12-28T09:08:00.380Z"
   },
   {
    "duration": 3,
    "start_time": "2021-12-28T09:18:40.631Z"
   },
   {
    "duration": 4,
    "start_time": "2021-12-28T09:18:42.796Z"
   },
   {
    "duration": 3,
    "start_time": "2021-12-28T09:18:48.686Z"
   },
   {
    "duration": 3,
    "start_time": "2021-12-28T09:18:51.307Z"
   },
   {
    "duration": 89,
    "start_time": "2021-12-28T09:37:14.455Z"
   },
   {
    "duration": 25,
    "start_time": "2021-12-28T11:14:45.811Z"
   },
   {
    "duration": 28,
    "start_time": "2021-12-28T11:15:22.031Z"
   },
   {
    "duration": 15,
    "start_time": "2021-12-28T11:16:00.262Z"
   },
   {
    "duration": 57,
    "start_time": "2021-12-28T11:16:36.259Z"
   },
   {
    "duration": 57,
    "start_time": "2021-12-28T11:19:34.621Z"
   },
   {
    "duration": 196,
    "start_time": "2021-12-28T11:24:30.666Z"
   },
   {
    "duration": 16,
    "start_time": "2021-12-28T11:30:14.234Z"
   },
   {
    "duration": 30,
    "start_time": "2021-12-28T11:33:09.073Z"
   },
   {
    "duration": 30,
    "start_time": "2021-12-28T11:35:04.685Z"
   },
   {
    "duration": 245,
    "start_time": "2021-12-29T08:39:16.087Z"
   },
   {
    "duration": 105,
    "start_time": "2021-12-29T08:43:56.050Z"
   },
   {
    "duration": 161,
    "start_time": "2021-12-29T08:47:20.226Z"
   },
   {
    "duration": 359,
    "start_time": "2021-12-29T11:56:47.654Z"
   },
   {
    "duration": 13,
    "start_time": "2021-12-29T12:43:41.305Z"
   },
   {
    "duration": 5,
    "start_time": "2021-12-29T12:43:44.801Z"
   },
   {
    "duration": 5,
    "start_time": "2021-12-29T12:43:55.683Z"
   },
   {
    "duration": 337,
    "start_time": "2021-12-29T12:44:05.720Z"
   },
   {
    "duration": 331,
    "start_time": "2021-12-29T14:19:22.320Z"
   },
   {
    "duration": 317,
    "start_time": "2021-12-29T14:19:26.182Z"
   },
   {
    "duration": 1163,
    "start_time": "2021-12-29T14:19:38.579Z"
   },
   {
    "duration": 55,
    "start_time": "2021-12-29T14:19:39.745Z"
   },
   {
    "duration": 22,
    "start_time": "2021-12-29T14:19:39.816Z"
   },
   {
    "duration": 84,
    "start_time": "2021-12-29T14:19:39.841Z"
   },
   {
    "duration": 9,
    "start_time": "2021-12-29T14:19:39.928Z"
   },
   {
    "duration": 33,
    "start_time": "2021-12-29T14:19:39.940Z"
   },
   {
    "duration": 66,
    "start_time": "2021-12-29T14:19:39.976Z"
   },
   {
    "duration": 26,
    "start_time": "2021-12-29T14:19:40.047Z"
   },
   {
    "duration": 48,
    "start_time": "2021-12-29T14:19:40.076Z"
   },
   {
    "duration": 8,
    "start_time": "2021-12-29T14:19:40.127Z"
   },
   {
    "duration": 13,
    "start_time": "2021-12-29T14:19:40.138Z"
   },
   {
    "duration": 63,
    "start_time": "2021-12-29T14:19:40.154Z"
   },
   {
    "duration": 9,
    "start_time": "2021-12-29T14:19:40.220Z"
   },
   {
    "duration": 8,
    "start_time": "2021-12-29T14:19:40.232Z"
   },
   {
    "duration": 7,
    "start_time": "2021-12-29T14:19:40.242Z"
   },
   {
    "duration": 6,
    "start_time": "2021-12-29T14:19:40.252Z"
   },
   {
    "duration": 58,
    "start_time": "2021-12-29T14:19:40.260Z"
   },
   {
    "duration": 49,
    "start_time": "2021-12-29T14:19:40.320Z"
   },
   {
    "duration": 65,
    "start_time": "2021-12-29T14:19:40.372Z"
   },
   {
    "duration": 12,
    "start_time": "2021-12-29T14:19:40.440Z"
   },
   {
    "duration": 10,
    "start_time": "2021-12-29T14:19:40.455Z"
   },
   {
    "duration": 65,
    "start_time": "2021-12-29T14:19:40.468Z"
   },
   {
    "duration": 44,
    "start_time": "2021-12-29T14:19:40.539Z"
   },
   {
    "duration": 973,
    "start_time": "2021-12-29T14:19:40.586Z"
   },
   {
    "duration": 32,
    "start_time": "2021-12-29T14:19:41.562Z"
   },
   {
    "duration": 5357,
    "start_time": "2021-12-29T14:19:41.597Z"
   },
   {
    "duration": 7,
    "start_time": "2021-12-29T14:19:46.957Z"
   },
   {
    "duration": 29,
    "start_time": "2021-12-29T14:19:46.966Z"
   },
   {
    "duration": 23,
    "start_time": "2021-12-29T14:19:46.998Z"
   },
   {
    "duration": 23,
    "start_time": "2021-12-29T14:19:47.024Z"
   },
   {
    "duration": 19,
    "start_time": "2021-12-29T14:19:47.050Z"
   },
   {
    "duration": 805,
    "start_time": "2021-12-29T14:19:47.072Z"
   },
   {
    "duration": 22,
    "start_time": "2021-12-29T14:19:47.879Z"
   },
   {
    "duration": 20,
    "start_time": "2021-12-29T14:19:47.917Z"
   },
   {
    "duration": 6,
    "start_time": "2021-12-29T14:19:47.939Z"
   },
   {
    "duration": 35,
    "start_time": "2021-12-29T14:19:47.947Z"
   },
   {
    "duration": 40,
    "start_time": "2021-12-29T14:19:47.985Z"
   },
   {
    "duration": 53,
    "start_time": "2021-12-29T14:19:48.027Z"
   },
   {
    "duration": 7,
    "start_time": "2021-12-29T14:21:01.045Z"
   },
   {
    "duration": 7,
    "start_time": "2021-12-29T14:21:15.101Z"
   },
   {
    "duration": 7,
    "start_time": "2021-12-29T14:21:18.355Z"
   },
   {
    "duration": 6,
    "start_time": "2021-12-29T14:21:28.530Z"
   },
   {
    "duration": 774,
    "start_time": "2021-12-29T14:21:56.872Z"
   },
   {
    "duration": 36,
    "start_time": "2021-12-29T14:21:57.649Z"
   },
   {
    "duration": 33,
    "start_time": "2021-12-29T14:21:57.688Z"
   },
   {
    "duration": 46,
    "start_time": "2021-12-29T14:21:57.723Z"
   },
   {
    "duration": 53,
    "start_time": "2021-12-29T14:21:57.771Z"
   },
   {
    "duration": 21,
    "start_time": "2021-12-29T14:21:57.827Z"
   },
   {
    "duration": 24,
    "start_time": "2021-12-29T14:21:57.850Z"
   },
   {
    "duration": 15,
    "start_time": "2021-12-29T14:21:57.917Z"
   },
   {
    "duration": 10,
    "start_time": "2021-12-29T14:21:57.937Z"
   },
   {
    "duration": 19,
    "start_time": "2021-12-29T14:21:57.951Z"
   },
   {
    "duration": 72,
    "start_time": "2021-12-29T14:21:57.973Z"
   },
   {
    "duration": 12,
    "start_time": "2021-12-29T14:21:58.048Z"
   },
   {
    "duration": 9,
    "start_time": "2021-12-29T14:21:58.063Z"
   },
   {
    "duration": 44,
    "start_time": "2021-12-29T14:21:58.075Z"
   },
   {
    "duration": 9,
    "start_time": "2021-12-29T14:21:58.122Z"
   },
   {
    "duration": 13,
    "start_time": "2021-12-29T14:21:58.134Z"
   },
   {
    "duration": 86,
    "start_time": "2021-12-29T14:21:58.149Z"
   },
   {
    "duration": 29,
    "start_time": "2021-12-29T14:21:58.237Z"
   },
   {
    "duration": 17,
    "start_time": "2021-12-29T14:21:58.269Z"
   },
   {
    "duration": 35,
    "start_time": "2021-12-29T14:21:58.289Z"
   },
   {
    "duration": 23,
    "start_time": "2021-12-29T14:21:58.326Z"
   },
   {
    "duration": 67,
    "start_time": "2021-12-29T14:21:58.351Z"
   },
   {
    "duration": 1054,
    "start_time": "2021-12-29T14:21:58.421Z"
   },
   {
    "duration": 40,
    "start_time": "2021-12-29T14:21:59.478Z"
   },
   {
    "duration": 4837,
    "start_time": "2021-12-29T14:21:59.521Z"
   },
   {
    "duration": 7,
    "start_time": "2021-12-29T14:22:04.361Z"
   },
   {
    "duration": 7,
    "start_time": "2021-12-29T14:22:04.374Z"
   },
   {
    "duration": 35,
    "start_time": "2021-12-29T14:22:04.385Z"
   },
   {
    "duration": 12,
    "start_time": "2021-12-29T14:22:04.422Z"
   },
   {
    "duration": 10,
    "start_time": "2021-12-29T14:22:04.437Z"
   },
   {
    "duration": 866,
    "start_time": "2021-12-29T14:22:04.450Z"
   },
   {
    "duration": 21,
    "start_time": "2021-12-29T14:22:05.319Z"
   },
   {
    "duration": 19,
    "start_time": "2021-12-29T14:22:05.343Z"
   },
   {
    "duration": 6,
    "start_time": "2021-12-29T14:22:05.365Z"
   },
   {
    "duration": 43,
    "start_time": "2021-12-29T14:22:05.374Z"
   },
   {
    "duration": 20,
    "start_time": "2021-12-29T14:22:05.420Z"
   },
   {
    "duration": 51,
    "start_time": "2021-12-29T14:22:05.443Z"
   },
   {
    "duration": 378,
    "start_time": "2021-12-29T14:22:40.199Z"
   },
   {
    "duration": 7,
    "start_time": "2021-12-29T14:22:49.378Z"
   },
   {
    "duration": 6,
    "start_time": "2021-12-29T14:22:54.638Z"
   },
   {
    "duration": 6,
    "start_time": "2021-12-29T14:24:57.978Z"
   },
   {
    "duration": 7,
    "start_time": "2021-12-29T14:25:12.528Z"
   },
   {
    "duration": 6,
    "start_time": "2021-12-29T14:27:38.588Z"
   },
   {
    "duration": 334,
    "start_time": "2021-12-29T14:30:23.829Z"
   },
   {
    "duration": 6,
    "start_time": "2021-12-29T14:30:31.246Z"
   },
   {
    "duration": 7,
    "start_time": "2021-12-29T14:30:49.708Z"
   },
   {
    "duration": 7,
    "start_time": "2021-12-29T14:30:55.049Z"
   },
   {
    "duration": 6,
    "start_time": "2021-12-29T14:30:57.887Z"
   },
   {
    "duration": 5,
    "start_time": "2021-12-29T14:32:31.926Z"
   },
   {
    "duration": 7,
    "start_time": "2021-12-29T14:32:44.109Z"
   },
   {
    "duration": 6,
    "start_time": "2021-12-29T14:33:03.222Z"
   },
   {
    "duration": 6,
    "start_time": "2021-12-29T14:33:14.844Z"
   },
   {
    "duration": 6,
    "start_time": "2021-12-29T14:33:30.648Z"
   },
   {
    "duration": 8,
    "start_time": "2021-12-29T14:36:17.399Z"
   },
   {
    "duration": 8,
    "start_time": "2021-12-29T14:36:19.618Z"
   },
   {
    "duration": 57,
    "start_time": "2021-12-29T14:36:23.870Z"
   },
   {
    "duration": 45,
    "start_time": "2021-12-29T14:36:30.529Z"
   },
   {
    "duration": 7,
    "start_time": "2021-12-29T14:36:30.958Z"
   },
   {
    "duration": 58,
    "start_time": "2021-12-29T14:36:49.675Z"
   },
   {
    "duration": 6,
    "start_time": "2021-12-29T14:36:49.981Z"
   },
   {
    "duration": 1028,
    "start_time": "2021-12-29T14:37:05.589Z"
   },
   {
    "duration": 43,
    "start_time": "2021-12-29T14:37:06.621Z"
   },
   {
    "duration": 15,
    "start_time": "2021-12-29T14:37:06.667Z"
   },
   {
    "duration": 70,
    "start_time": "2021-12-29T14:37:06.685Z"
   },
   {
    "duration": 6,
    "start_time": "2021-12-29T14:37:06.758Z"
   },
   {
    "duration": 64,
    "start_time": "2021-12-29T14:37:06.767Z"
   },
   {
    "duration": 25,
    "start_time": "2021-12-29T14:37:06.847Z"
   },
   {
    "duration": 58,
    "start_time": "2021-12-29T14:37:06.875Z"
   },
   {
    "duration": 14,
    "start_time": "2021-12-29T14:37:06.939Z"
   },
   {
    "duration": 9,
    "start_time": "2021-12-29T14:37:06.957Z"
   },
   {
    "duration": 58,
    "start_time": "2021-12-29T14:37:06.969Z"
   },
   {
    "duration": 23,
    "start_time": "2021-12-29T14:37:07.030Z"
   },
   {
    "duration": 10,
    "start_time": "2021-12-29T14:37:07.055Z"
   },
   {
    "duration": 52,
    "start_time": "2021-12-29T14:37:07.067Z"
   },
   {
    "duration": 6,
    "start_time": "2021-12-29T14:37:07.122Z"
   },
   {
    "duration": 6,
    "start_time": "2021-12-29T14:37:07.130Z"
   },
   {
    "duration": 8,
    "start_time": "2021-12-29T14:37:07.138Z"
   },
   {
    "duration": 100,
    "start_time": "2021-12-29T14:37:07.148Z"
   },
   {
    "duration": 28,
    "start_time": "2021-12-29T14:37:07.250Z"
   },
   {
    "duration": 39,
    "start_time": "2021-12-29T14:37:07.281Z"
   },
   {
    "duration": 9,
    "start_time": "2021-12-29T14:37:07.323Z"
   },
   {
    "duration": 26,
    "start_time": "2021-12-29T14:37:07.335Z"
   },
   {
    "duration": 90,
    "start_time": "2021-12-29T14:37:07.364Z"
   },
   {
    "duration": 985,
    "start_time": "2021-12-29T14:37:07.457Z"
   },
   {
    "duration": 36,
    "start_time": "2021-12-29T14:37:08.446Z"
   },
   {
    "duration": 4951,
    "start_time": "2021-12-29T14:37:08.485Z"
   },
   {
    "duration": 7,
    "start_time": "2021-12-29T14:37:13.441Z"
   },
   {
    "duration": 20,
    "start_time": "2021-12-29T14:37:13.451Z"
   },
   {
    "duration": 21,
    "start_time": "2021-12-29T14:37:13.473Z"
   },
   {
    "duration": 24,
    "start_time": "2021-12-29T14:37:13.496Z"
   },
   {
    "duration": 18,
    "start_time": "2021-12-29T14:37:13.522Z"
   },
   {
    "duration": 980,
    "start_time": "2021-12-29T14:37:13.543Z"
   },
   {
    "duration": 19,
    "start_time": "2021-12-29T14:37:14.525Z"
   },
   {
    "duration": 16,
    "start_time": "2021-12-29T14:37:14.546Z"
   },
   {
    "duration": 11,
    "start_time": "2021-12-29T14:37:14.565Z"
   },
   {
    "duration": 53,
    "start_time": "2021-12-29T14:37:14.579Z"
   },
   {
    "duration": 25,
    "start_time": "2021-12-29T14:37:14.634Z"
   },
   {
    "duration": 29,
    "start_time": "2021-12-29T14:37:14.662Z"
   },
   {
    "duration": 7,
    "start_time": "2021-12-29T14:37:56.378Z"
   },
   {
    "duration": 776,
    "start_time": "2021-12-29T14:38:19.559Z"
   },
   {
    "duration": 36,
    "start_time": "2021-12-29T14:38:20.338Z"
   },
   {
    "duration": 42,
    "start_time": "2021-12-29T14:38:20.377Z"
   },
   {
    "duration": 48,
    "start_time": "2021-12-29T14:38:20.422Z"
   },
   {
    "duration": 7,
    "start_time": "2021-12-29T14:38:20.473Z"
   },
   {
    "duration": 58,
    "start_time": "2021-12-29T14:38:20.483Z"
   },
   {
    "duration": 31,
    "start_time": "2021-12-29T14:38:20.543Z"
   },
   {
    "duration": 66,
    "start_time": "2021-12-29T14:38:20.576Z"
   },
   {
    "duration": 10,
    "start_time": "2021-12-29T14:38:20.646Z"
   },
   {
    "duration": 11,
    "start_time": "2021-12-29T14:38:20.659Z"
   },
   {
    "duration": 51,
    "start_time": "2021-12-29T14:38:20.673Z"
   },
   {
    "duration": 24,
    "start_time": "2021-12-29T14:38:20.727Z"
   },
   {
    "duration": 8,
    "start_time": "2021-12-29T14:38:20.754Z"
   },
   {
    "duration": 13,
    "start_time": "2021-12-29T14:38:20.765Z"
   },
   {
    "duration": 40,
    "start_time": "2021-12-29T14:38:20.780Z"
   },
   {
    "duration": 11,
    "start_time": "2021-12-29T14:38:20.822Z"
   },
   {
    "duration": 12,
    "start_time": "2021-12-29T14:38:20.835Z"
   },
   {
    "duration": 86,
    "start_time": "2021-12-29T14:38:20.849Z"
   },
   {
    "duration": 28,
    "start_time": "2021-12-29T14:38:20.938Z"
   },
   {
    "duration": 15,
    "start_time": "2021-12-29T14:38:20.969Z"
   },
   {
    "duration": 36,
    "start_time": "2021-12-29T14:38:20.986Z"
   },
   {
    "duration": 27,
    "start_time": "2021-12-29T14:38:21.025Z"
   },
   {
    "duration": 76,
    "start_time": "2021-12-29T14:38:21.055Z"
   },
   {
    "duration": 992,
    "start_time": "2021-12-29T14:38:21.134Z"
   },
   {
    "duration": 36,
    "start_time": "2021-12-29T14:38:22.128Z"
   },
   {
    "duration": 5621,
    "start_time": "2021-12-29T14:38:22.166Z"
   },
   {
    "duration": 21,
    "start_time": "2021-12-29T14:38:27.795Z"
   },
   {
    "duration": 7,
    "start_time": "2021-12-29T14:38:27.820Z"
   },
   {
    "duration": 9,
    "start_time": "2021-12-29T14:38:27.830Z"
   },
   {
    "duration": 14,
    "start_time": "2021-12-29T14:38:27.842Z"
   },
   {
    "duration": 7,
    "start_time": "2021-12-29T14:38:27.860Z"
   },
   {
    "duration": 830,
    "start_time": "2021-12-29T14:38:27.919Z"
   },
   {
    "duration": 20,
    "start_time": "2021-12-29T14:38:28.752Z"
   },
   {
    "duration": 45,
    "start_time": "2021-12-29T14:38:28.774Z"
   },
   {
    "duration": 6,
    "start_time": "2021-12-29T14:38:28.822Z"
   },
   {
    "duration": 9,
    "start_time": "2021-12-29T14:38:28.830Z"
   },
   {
    "duration": 21,
    "start_time": "2021-12-29T14:38:28.841Z"
   },
   {
    "duration": 73,
    "start_time": "2021-12-29T14:38:28.864Z"
   },
   {
    "duration": 6,
    "start_time": "2021-12-29T14:41:13.264Z"
   },
   {
    "duration": 6,
    "start_time": "2021-12-29T14:41:29.962Z"
   },
   {
    "duration": 455,
    "start_time": "2021-12-29T14:44:01.562Z"
   },
   {
    "duration": 273,
    "start_time": "2021-12-29T14:44:40.554Z"
   },
   {
    "duration": 16,
    "start_time": "2021-12-29T14:44:47.264Z"
   },
   {
    "duration": 9,
    "start_time": "2021-12-29T14:44:58.153Z"
   },
   {
    "duration": 90,
    "start_time": "2021-12-29T14:45:05.584Z"
   },
   {
    "duration": 10,
    "start_time": "2021-12-29T14:45:13.554Z"
   },
   {
    "duration": 303,
    "start_time": "2021-12-29T14:45:20.055Z"
   },
   {
    "duration": 8,
    "start_time": "2021-12-29T14:45:25.421Z"
   },
   {
    "duration": 8,
    "start_time": "2021-12-29T14:45:40.385Z"
   },
   {
    "duration": 295,
    "start_time": "2021-12-29T15:11:33.455Z"
   },
   {
    "duration": 359,
    "start_time": "2021-12-29T15:15:06.805Z"
   },
   {
    "duration": 5,
    "start_time": "2021-12-29T15:15:13.737Z"
   },
   {
    "duration": 5,
    "start_time": "2021-12-29T15:15:43.940Z"
   },
   {
    "duration": 17,
    "start_time": "2021-12-29T15:16:03.163Z"
   },
   {
    "duration": 8,
    "start_time": "2021-12-29T15:16:18.811Z"
   },
   {
    "duration": 9,
    "start_time": "2021-12-29T15:17:07.730Z"
   },
   {
    "duration": 363,
    "start_time": "2021-12-29T15:22:46.368Z"
   },
   {
    "duration": 35,
    "start_time": "2021-12-29T15:22:52.683Z"
   },
   {
    "duration": 283,
    "start_time": "2021-12-29T15:27:02.343Z"
   },
   {
    "duration": 330,
    "start_time": "2021-12-29T15:27:16.648Z"
   },
   {
    "duration": 289,
    "start_time": "2021-12-29T15:27:23.160Z"
   },
   {
    "duration": 59,
    "start_time": "2021-12-29T15:28:48.792Z"
   },
   {
    "duration": 10,
    "start_time": "2021-12-29T15:29:07.902Z"
   },
   {
    "duration": 13,
    "start_time": "2021-12-29T15:34:10.284Z"
   },
   {
    "duration": 6,
    "start_time": "2021-12-29T15:34:23.788Z"
   },
   {
    "duration": 7,
    "start_time": "2021-12-29T15:34:34.034Z"
   },
   {
    "duration": 7,
    "start_time": "2021-12-29T15:35:25.985Z"
   },
   {
    "duration": 15,
    "start_time": "2021-12-29T15:35:26.167Z"
   },
   {
    "duration": 8,
    "start_time": "2021-12-29T15:35:26.431Z"
   },
   {
    "duration": 5,
    "start_time": "2021-12-29T15:35:27.308Z"
   },
   {
    "duration": -897,
    "start_time": "2021-12-29T16:38:01.099Z"
   },
   {
    "duration": 131,
    "start_time": "2021-12-29T16:40:17.346Z"
   },
   {
    "duration": 360,
    "start_time": "2021-12-29T18:51:16.926Z"
   },
   {
    "duration": 493,
    "start_time": "2021-12-29T18:51:23.002Z"
   },
   {
    "duration": 666,
    "start_time": "2021-12-29T18:51:37.209Z"
   },
   {
    "duration": 20,
    "start_time": "2021-12-29T18:51:37.876Z"
   },
   {
    "duration": 17,
    "start_time": "2021-12-29T18:51:37.898Z"
   },
   {
    "duration": 48,
    "start_time": "2021-12-29T18:51:37.917Z"
   },
   {
    "duration": 5,
    "start_time": "2021-12-29T18:51:37.967Z"
   },
   {
    "duration": 6,
    "start_time": "2021-12-29T18:51:37.974Z"
   },
   {
    "duration": 8,
    "start_time": "2021-12-29T18:51:37.982Z"
   },
   {
    "duration": 5,
    "start_time": "2021-12-29T18:51:37.993Z"
   },
   {
    "duration": 26,
    "start_time": "2021-12-29T18:51:38.001Z"
   },
   {
    "duration": 19,
    "start_time": "2021-12-29T18:51:38.029Z"
   },
   {
    "duration": 5,
    "start_time": "2021-12-29T18:51:38.050Z"
   },
   {
    "duration": 8,
    "start_time": "2021-12-29T18:51:38.057Z"
   },
   {
    "duration": 15,
    "start_time": "2021-12-29T18:51:38.066Z"
   },
   {
    "duration": 48,
    "start_time": "2021-12-29T18:51:38.083Z"
   },
   {
    "duration": 13,
    "start_time": "2021-12-29T18:51:38.132Z"
   },
   {
    "duration": 7,
    "start_time": "2021-12-29T18:51:38.147Z"
   },
   {
    "duration": 5,
    "start_time": "2021-12-29T18:51:38.155Z"
   },
   {
    "duration": 13,
    "start_time": "2021-12-29T18:51:38.162Z"
   },
   {
    "duration": 11,
    "start_time": "2021-12-29T18:51:38.177Z"
   },
   {
    "duration": 42,
    "start_time": "2021-12-29T18:51:38.190Z"
   },
   {
    "duration": 5,
    "start_time": "2021-12-29T18:51:38.233Z"
   },
   {
    "duration": 10,
    "start_time": "2021-12-29T18:51:38.239Z"
   },
   {
    "duration": 5,
    "start_time": "2021-12-29T18:51:38.253Z"
   },
   {
    "duration": 5,
    "start_time": "2021-12-29T18:51:38.260Z"
   },
   {
    "duration": 75,
    "start_time": "2021-12-29T18:51:38.268Z"
   },
   {
    "duration": 22,
    "start_time": "2021-12-29T18:51:38.345Z"
   },
   {
    "duration": 14,
    "start_time": "2021-12-29T18:51:38.369Z"
   },
   {
    "duration": 12,
    "start_time": "2021-12-29T18:51:38.385Z"
   },
   {
    "duration": 39,
    "start_time": "2021-12-29T18:51:38.399Z"
   },
   {
    "duration": 24,
    "start_time": "2021-12-29T18:51:38.440Z"
   },
   {
    "duration": 639,
    "start_time": "2021-12-29T18:51:38.466Z"
   },
   {
    "duration": 31,
    "start_time": "2021-12-29T18:51:39.107Z"
   },
   {
    "duration": 3637,
    "start_time": "2021-12-29T18:51:39.140Z"
   },
   {
    "duration": 4,
    "start_time": "2021-12-29T18:51:42.780Z"
   },
   {
    "duration": 9,
    "start_time": "2021-12-29T18:51:42.786Z"
   },
   {
    "duration": 6,
    "start_time": "2021-12-29T18:51:42.796Z"
   },
   {
    "duration": 25,
    "start_time": "2021-12-29T18:51:42.803Z"
   },
   {
    "duration": 4,
    "start_time": "2021-12-29T18:51:42.830Z"
   },
   {
    "duration": 707,
    "start_time": "2021-12-29T18:51:42.835Z"
   },
   {
    "duration": 12,
    "start_time": "2021-12-29T18:51:43.544Z"
   },
   {
    "duration": 10,
    "start_time": "2021-12-29T18:51:43.557Z"
   },
   {
    "duration": 4,
    "start_time": "2021-12-29T18:51:43.568Z"
   },
   {
    "duration": 6,
    "start_time": "2021-12-29T18:51:43.573Z"
   },
   {
    "duration": 13,
    "start_time": "2021-12-29T18:51:43.580Z"
   },
   {
    "duration": 42,
    "start_time": "2021-12-29T18:51:43.594Z"
   },
   {
    "duration": 10,
    "start_time": "2021-12-29T18:52:38.912Z"
   },
   {
    "duration": 6,
    "start_time": "2021-12-29T18:54:14.246Z"
   },
   {
    "duration": 10,
    "start_time": "2021-12-29T19:22:07.840Z"
   },
   {
    "duration": 9,
    "start_time": "2021-12-29T19:25:14.640Z"
   },
   {
    "duration": 10,
    "start_time": "2021-12-29T19:25:17.999Z"
   },
   {
    "duration": 9,
    "start_time": "2021-12-29T19:25:26.010Z"
   },
   {
    "duration": 5,
    "start_time": "2021-12-29T20:15:22.950Z"
   },
   {
    "duration": 5,
    "start_time": "2021-12-29T20:15:36.047Z"
   },
   {
    "duration": 5,
    "start_time": "2021-12-29T20:16:46.666Z"
   },
   {
    "duration": 5,
    "start_time": "2021-12-29T20:16:56.277Z"
   },
   {
    "duration": 4,
    "start_time": "2021-12-29T20:17:03.446Z"
   },
   {
    "duration": 5,
    "start_time": "2021-12-29T20:17:44.154Z"
   },
   {
    "duration": 5,
    "start_time": "2021-12-29T20:17:52.906Z"
   },
   {
    "duration": 5,
    "start_time": "2021-12-29T20:18:50.348Z"
   },
   {
    "duration": 5,
    "start_time": "2021-12-29T20:18:57.196Z"
   },
   {
    "duration": 464,
    "start_time": "2021-12-30T09:12:02.030Z"
   },
   {
    "duration": 634,
    "start_time": "2021-12-30T09:12:16.414Z"
   },
   {
    "duration": 21,
    "start_time": "2021-12-30T09:12:17.050Z"
   },
   {
    "duration": 10,
    "start_time": "2021-12-30T09:12:17.074Z"
   },
   {
    "duration": 29,
    "start_time": "2021-12-30T09:12:17.086Z"
   },
   {
    "duration": 26,
    "start_time": "2021-12-30T09:12:17.117Z"
   },
   {
    "duration": 6,
    "start_time": "2021-12-30T09:12:17.145Z"
   },
   {
    "duration": 4,
    "start_time": "2021-12-30T09:12:17.153Z"
   },
   {
    "duration": 7,
    "start_time": "2021-12-30T09:12:17.160Z"
   },
   {
    "duration": 9,
    "start_time": "2021-12-30T09:12:17.169Z"
   },
   {
    "duration": 16,
    "start_time": "2021-12-30T09:12:17.179Z"
   },
   {
    "duration": 13,
    "start_time": "2021-12-30T09:12:17.196Z"
   },
   {
    "duration": 12,
    "start_time": "2021-12-30T09:12:17.211Z"
   },
   {
    "duration": 5,
    "start_time": "2021-12-30T09:12:17.242Z"
   },
   {
    "duration": 13,
    "start_time": "2021-12-30T09:12:17.249Z"
   },
   {
    "duration": 14,
    "start_time": "2021-12-30T09:12:17.264Z"
   },
   {
    "duration": 17,
    "start_time": "2021-12-30T09:12:17.280Z"
   },
   {
    "duration": 11,
    "start_time": "2021-12-30T09:12:17.299Z"
   },
   {
    "duration": 17,
    "start_time": "2021-12-30T09:12:17.311Z"
   },
   {
    "duration": 11,
    "start_time": "2021-12-30T09:12:17.330Z"
   },
   {
    "duration": 3,
    "start_time": "2021-12-30T09:12:17.343Z"
   },
   {
    "duration": 16,
    "start_time": "2021-12-30T09:12:17.347Z"
   },
   {
    "duration": 13,
    "start_time": "2021-12-30T09:12:17.365Z"
   },
   {
    "duration": 7,
    "start_time": "2021-12-30T09:12:17.380Z"
   },
   {
    "duration": 7,
    "start_time": "2021-12-30T09:12:17.389Z"
   },
   {
    "duration": 13,
    "start_time": "2021-12-30T09:12:17.398Z"
   },
   {
    "duration": 14,
    "start_time": "2021-12-30T09:12:17.442Z"
   },
   {
    "duration": 7,
    "start_time": "2021-12-30T09:12:17.458Z"
   },
   {
    "duration": 7,
    "start_time": "2021-12-30T09:12:17.466Z"
   },
   {
    "duration": 8,
    "start_time": "2021-12-30T09:12:17.475Z"
   },
   {
    "duration": 10,
    "start_time": "2021-12-30T09:12:17.485Z"
   },
   {
    "duration": 11,
    "start_time": "2021-12-30T09:12:17.497Z"
   },
   {
    "duration": 56,
    "start_time": "2021-12-30T09:12:17.509Z"
   },
   {
    "duration": 19,
    "start_time": "2021-12-30T09:12:17.567Z"
   },
   {
    "duration": 12,
    "start_time": "2021-12-30T09:12:17.587Z"
   },
   {
    "duration": 7,
    "start_time": "2021-12-30T09:12:17.601Z"
   },
   {
    "duration": 36,
    "start_time": "2021-12-30T09:12:17.610Z"
   },
   {
    "duration": 28,
    "start_time": "2021-12-30T09:12:17.648Z"
   },
   {
    "duration": 646,
    "start_time": "2021-12-30T09:12:17.677Z"
   },
   {
    "duration": 34,
    "start_time": "2021-12-30T09:12:18.325Z"
   },
   {
    "duration": 3362,
    "start_time": "2021-12-30T09:12:18.361Z"
   },
   {
    "duration": 17,
    "start_time": "2021-12-30T09:12:21.725Z"
   },
   {
    "duration": 4,
    "start_time": "2021-12-30T09:12:21.743Z"
   },
   {
    "duration": 10,
    "start_time": "2021-12-30T09:12:21.749Z"
   },
   {
    "duration": 11,
    "start_time": "2021-12-30T09:12:21.761Z"
   },
   {
    "duration": 12,
    "start_time": "2021-12-30T09:12:21.774Z"
   },
   {
    "duration": 535,
    "start_time": "2021-12-30T09:12:21.787Z"
   },
   {
    "duration": 14,
    "start_time": "2021-12-30T09:12:22.324Z"
   },
   {
    "duration": 16,
    "start_time": "2021-12-30T09:12:22.339Z"
   },
   {
    "duration": 5,
    "start_time": "2021-12-30T09:12:22.356Z"
   },
   {
    "duration": 14,
    "start_time": "2021-12-30T09:12:22.362Z"
   },
   {
    "duration": 16,
    "start_time": "2021-12-30T09:12:22.378Z"
   },
   {
    "duration": 19,
    "start_time": "2021-12-30T09:12:22.395Z"
   },
   {
    "duration": 29,
    "start_time": "2021-12-30T09:16:11.027Z"
   },
   {
    "duration": 647,
    "start_time": "2021-12-30T09:16:41.329Z"
   },
   {
    "duration": 23,
    "start_time": "2021-12-30T09:16:41.977Z"
   },
   {
    "duration": 10,
    "start_time": "2021-12-30T09:16:42.003Z"
   },
   {
    "duration": 40,
    "start_time": "2021-12-30T09:16:42.015Z"
   },
   {
    "duration": 3,
    "start_time": "2021-12-30T09:16:42.057Z"
   },
   {
    "duration": 7,
    "start_time": "2021-12-30T09:16:42.062Z"
   },
   {
    "duration": 5,
    "start_time": "2021-12-30T09:16:42.070Z"
   },
   {
    "duration": 14,
    "start_time": "2021-12-30T09:16:42.076Z"
   },
   {
    "duration": 8,
    "start_time": "2021-12-30T09:16:42.093Z"
   },
   {
    "duration": 4,
    "start_time": "2021-12-30T09:16:42.103Z"
   },
   {
    "duration": 6,
    "start_time": "2021-12-30T09:16:42.109Z"
   },
   {
    "duration": 31,
    "start_time": "2021-12-30T09:16:42.116Z"
   },
   {
    "duration": 5,
    "start_time": "2021-12-30T09:16:42.148Z"
   },
   {
    "duration": 7,
    "start_time": "2021-12-30T09:16:42.154Z"
   },
   {
    "duration": 10,
    "start_time": "2021-12-30T09:16:42.162Z"
   },
   {
    "duration": 10,
    "start_time": "2021-12-30T09:16:42.173Z"
   },
   {
    "duration": 8,
    "start_time": "2021-12-30T09:16:42.185Z"
   },
   {
    "duration": 16,
    "start_time": "2021-12-30T09:16:42.194Z"
   },
   {
    "duration": 30,
    "start_time": "2021-12-30T09:16:42.212Z"
   },
   {
    "duration": 3,
    "start_time": "2021-12-30T09:16:42.243Z"
   },
   {
    "duration": 13,
    "start_time": "2021-12-30T09:16:42.248Z"
   },
   {
    "duration": 13,
    "start_time": "2021-12-30T09:16:42.262Z"
   },
   {
    "duration": 8,
    "start_time": "2021-12-30T09:16:42.277Z"
   },
   {
    "duration": 6,
    "start_time": "2021-12-30T09:16:42.287Z"
   },
   {
    "duration": 53,
    "start_time": "2021-12-30T09:16:42.295Z"
   },
   {
    "duration": 13,
    "start_time": "2021-12-30T09:16:42.350Z"
   },
   {
    "duration": 7,
    "start_time": "2021-12-30T09:16:42.366Z"
   },
   {
    "duration": 6,
    "start_time": "2021-12-30T09:16:42.375Z"
   },
   {
    "duration": 12,
    "start_time": "2021-12-30T09:16:42.383Z"
   },
   {
    "duration": 9,
    "start_time": "2021-12-30T09:16:42.396Z"
   },
   {
    "duration": 11,
    "start_time": "2021-12-30T09:16:42.407Z"
   },
   {
    "duration": 48,
    "start_time": "2021-12-30T09:16:42.419Z"
   },
   {
    "duration": 25,
    "start_time": "2021-12-30T09:16:42.468Z"
   },
   {
    "duration": 17,
    "start_time": "2021-12-30T09:16:42.494Z"
   },
   {
    "duration": 29,
    "start_time": "2021-12-30T09:16:42.512Z"
   },
   {
    "duration": 6,
    "start_time": "2021-12-30T09:16:42.542Z"
   },
   {
    "duration": 18,
    "start_time": "2021-12-30T09:16:42.549Z"
   },
   {
    "duration": 25,
    "start_time": "2021-12-30T09:16:42.568Z"
   },
   {
    "duration": 634,
    "start_time": "2021-12-30T09:16:42.594Z"
   },
   {
    "duration": 27,
    "start_time": "2021-12-30T09:16:43.230Z"
   },
   {
    "duration": 3267,
    "start_time": "2021-12-30T09:16:43.259Z"
   },
   {
    "duration": 5,
    "start_time": "2021-12-30T09:16:46.540Z"
   },
   {
    "duration": 7,
    "start_time": "2021-12-30T09:16:46.546Z"
   },
   {
    "duration": 16,
    "start_time": "2021-12-30T09:16:46.555Z"
   },
   {
    "duration": 12,
    "start_time": "2021-12-30T09:16:46.572Z"
   },
   {
    "duration": 18,
    "start_time": "2021-12-30T09:16:46.585Z"
   },
   {
    "duration": 529,
    "start_time": "2021-12-30T09:16:46.605Z"
   },
   {
    "duration": 13,
    "start_time": "2021-12-30T09:16:47.136Z"
   },
   {
    "duration": 11,
    "start_time": "2021-12-30T09:16:47.150Z"
   },
   {
    "duration": 4,
    "start_time": "2021-12-30T09:16:47.162Z"
   },
   {
    "duration": 7,
    "start_time": "2021-12-30T09:16:47.167Z"
   },
   {
    "duration": 14,
    "start_time": "2021-12-30T09:16:47.176Z"
   },
   {
    "duration": 17,
    "start_time": "2021-12-30T09:16:47.191Z"
   },
   {
    "duration": 86,
    "start_time": "2021-12-30T09:24:21.376Z"
   },
   {
    "duration": 11,
    "start_time": "2021-12-30T09:36:00.115Z"
   },
   {
    "duration": 373,
    "start_time": "2021-12-30T09:42:08.409Z"
   },
   {
    "duration": 3302,
    "start_time": "2021-12-30T09:42:20.381Z"
   },
   {
    "duration": 529,
    "start_time": "2021-12-30T09:47:47.278Z"
   },
   {
    "duration": 89,
    "start_time": "2021-12-30T09:51:51.372Z"
   },
   {
    "duration": 3266,
    "start_time": "2021-12-30T10:19:22.479Z"
   },
   {
    "duration": 3020,
    "start_time": "2021-12-30T10:20:24.899Z"
   },
   {
    "duration": 17,
    "start_time": "2021-12-30T10:25:21.879Z"
   },
   {
    "duration": 9,
    "start_time": "2021-12-30T10:26:17.528Z"
   },
   {
    "duration": 346,
    "start_time": "2021-12-30T10:30:45.339Z"
   },
   {
    "duration": 256,
    "start_time": "2021-12-30T10:31:24.539Z"
   },
   {
    "duration": 257,
    "start_time": "2021-12-30T10:31:36.908Z"
   },
   {
    "duration": 267,
    "start_time": "2021-12-30T10:31:50.318Z"
   },
   {
    "duration": 115,
    "start_time": "2021-12-30T10:31:58.078Z"
   },
   {
    "duration": 113,
    "start_time": "2021-12-30T10:32:12.559Z"
   },
   {
    "duration": 60,
    "start_time": "2021-12-30T10:32:20.500Z"
   },
   {
    "duration": 17,
    "start_time": "2021-12-30T10:33:20.456Z"
   },
   {
    "duration": -44,
    "start_time": "2021-12-30T10:34:51.018Z"
   },
   {
    "duration": 9,
    "start_time": "2021-12-30T10:37:03.124Z"
   },
   {
    "duration": 11,
    "start_time": "2021-12-30T10:37:05.356Z"
   },
   {
    "duration": 12,
    "start_time": "2021-12-30T10:37:25.946Z"
   },
   {
    "duration": 7,
    "start_time": "2021-12-30T10:40:15.578Z"
   },
   {
    "duration": 6,
    "start_time": "2021-12-30T10:40:28.049Z"
   },
   {
    "duration": 643,
    "start_time": "2021-12-30T10:40:39.379Z"
   },
   {
    "duration": 25,
    "start_time": "2021-12-30T10:40:40.025Z"
   },
   {
    "duration": 24,
    "start_time": "2021-12-30T10:40:40.052Z"
   },
   {
    "duration": 38,
    "start_time": "2021-12-30T10:40:40.078Z"
   },
   {
    "duration": 4,
    "start_time": "2021-12-30T10:40:40.118Z"
   },
   {
    "duration": 7,
    "start_time": "2021-12-30T10:40:40.124Z"
   },
   {
    "duration": 6,
    "start_time": "2021-12-30T10:40:40.141Z"
   },
   {
    "duration": 19,
    "start_time": "2021-12-30T10:40:40.149Z"
   },
   {
    "duration": 17,
    "start_time": "2021-12-30T10:40:40.171Z"
   },
   {
    "duration": 16,
    "start_time": "2021-12-30T10:40:40.190Z"
   },
   {
    "duration": 9,
    "start_time": "2021-12-30T10:40:40.208Z"
   },
   {
    "duration": 28,
    "start_time": "2021-12-30T10:40:40.219Z"
   },
   {
    "duration": 5,
    "start_time": "2021-12-30T10:40:40.248Z"
   },
   {
    "duration": 12,
    "start_time": "2021-12-30T10:40:40.254Z"
   },
   {
    "duration": 27,
    "start_time": "2021-12-30T10:40:40.267Z"
   },
   {
    "duration": 36,
    "start_time": "2021-12-30T10:40:40.296Z"
   },
   {
    "duration": 8,
    "start_time": "2021-12-30T10:40:40.334Z"
   },
   {
    "duration": 36,
    "start_time": "2021-12-30T10:40:40.344Z"
   },
   {
    "duration": 14,
    "start_time": "2021-12-30T10:40:40.382Z"
   },
   {
    "duration": 11,
    "start_time": "2021-12-30T10:40:40.398Z"
   },
   {
    "duration": 35,
    "start_time": "2021-12-30T10:40:40.410Z"
   },
   {
    "duration": 20,
    "start_time": "2021-12-30T10:40:40.447Z"
   },
   {
    "duration": 8,
    "start_time": "2021-12-30T10:40:40.469Z"
   },
   {
    "duration": 30,
    "start_time": "2021-12-30T10:40:40.479Z"
   },
   {
    "duration": 18,
    "start_time": "2021-12-30T10:40:40.511Z"
   },
   {
    "duration": 22,
    "start_time": "2021-12-30T10:40:40.531Z"
   },
   {
    "duration": 11,
    "start_time": "2021-12-30T10:40:40.557Z"
   },
   {
    "duration": 9,
    "start_time": "2021-12-30T10:40:40.570Z"
   },
   {
    "duration": 9,
    "start_time": "2021-12-30T10:40:40.580Z"
   },
   {
    "duration": 11,
    "start_time": "2021-12-30T10:40:40.590Z"
   },
   {
    "duration": 8,
    "start_time": "2021-12-30T10:40:40.603Z"
   },
   {
    "duration": 41,
    "start_time": "2021-12-30T10:40:40.613Z"
   },
   {
    "duration": 31,
    "start_time": "2021-12-30T10:40:40.655Z"
   },
   {
    "duration": 20,
    "start_time": "2021-12-30T10:40:40.687Z"
   },
   {
    "duration": 17,
    "start_time": "2021-12-30T10:40:40.709Z"
   },
   {
    "duration": 19,
    "start_time": "2021-12-30T10:40:40.727Z"
   },
   {
    "duration": 19,
    "start_time": "2021-12-30T10:40:40.748Z"
   },
   {
    "duration": 27,
    "start_time": "2021-12-30T10:40:40.769Z"
   },
   {
    "duration": 10,
    "start_time": "2021-12-30T10:40:40.797Z"
   },
   {
    "duration": 306,
    "start_time": "2021-12-30T10:40:40.809Z"
   },
   {
    "duration": 41,
    "start_time": "2021-12-30T10:40:41.076Z"
   },
   {
    "duration": 29,
    "start_time": "2021-12-30T10:40:41.089Z"
   },
   {
    "duration": 19,
    "start_time": "2021-12-30T10:40:41.100Z"
   },
   {
    "duration": 15,
    "start_time": "2021-12-30T10:40:41.105Z"
   },
   {
    "duration": 12,
    "start_time": "2021-12-30T10:40:41.109Z"
   },
   {
    "duration": 8,
    "start_time": "2021-12-30T10:40:41.113Z"
   },
   {
    "duration": 5,
    "start_time": "2021-12-30T10:40:41.117Z"
   },
   {
    "duration": 2,
    "start_time": "2021-12-30T10:40:41.121Z"
   },
   {
    "duration": -1,
    "start_time": "2021-12-30T10:40:41.125Z"
   },
   {
    "duration": -4,
    "start_time": "2021-12-30T10:40:41.129Z"
   },
   {
    "duration": -7,
    "start_time": "2021-12-30T10:40:41.133Z"
   },
   {
    "duration": -18,
    "start_time": "2021-12-30T10:40:41.145Z"
   },
   {
    "duration": -21,
    "start_time": "2021-12-30T10:40:41.149Z"
   },
   {
    "duration": -24,
    "start_time": "2021-12-30T10:40:41.153Z"
   },
   {
    "duration": 25,
    "start_time": "2021-12-30T10:40:54.213Z"
   },
   {
    "duration": 7286,
    "start_time": "2021-12-30T10:40:54.489Z"
   },
   {
    "duration": 6976,
    "start_time": "2021-12-30T10:41:06.237Z"
   },
   {
    "duration": 6167,
    "start_time": "2021-12-30T10:41:21.801Z"
   },
   {
    "duration": 6365,
    "start_time": "2021-12-30T10:41:58.759Z"
   },
   {
    "duration": 769,
    "start_time": "2021-12-30T10:44:47.844Z"
   },
   {
    "duration": 23,
    "start_time": "2021-12-30T10:44:48.615Z"
   },
   {
    "duration": 18,
    "start_time": "2021-12-30T10:44:48.640Z"
   },
   {
    "duration": 28,
    "start_time": "2021-12-30T10:44:48.660Z"
   },
   {
    "duration": 4,
    "start_time": "2021-12-30T10:44:48.690Z"
   },
   {
    "duration": 13,
    "start_time": "2021-12-30T10:44:48.695Z"
   },
   {
    "duration": 8,
    "start_time": "2021-12-30T10:44:48.710Z"
   },
   {
    "duration": 14,
    "start_time": "2021-12-30T10:44:48.720Z"
   },
   {
    "duration": 6,
    "start_time": "2021-12-30T10:44:48.741Z"
   },
   {
    "duration": 5,
    "start_time": "2021-12-30T10:44:48.749Z"
   },
   {
    "duration": 11,
    "start_time": "2021-12-30T10:44:48.755Z"
   },
   {
    "duration": 18,
    "start_time": "2021-12-30T10:44:48.768Z"
   },
   {
    "duration": 4,
    "start_time": "2021-12-30T10:44:48.788Z"
   },
   {
    "duration": 10,
    "start_time": "2021-12-30T10:44:48.793Z"
   },
   {
    "duration": 19,
    "start_time": "2021-12-30T10:44:48.804Z"
   },
   {
    "duration": 21,
    "start_time": "2021-12-30T10:44:48.824Z"
   },
   {
    "duration": 9,
    "start_time": "2021-12-30T10:44:48.847Z"
   },
   {
    "duration": 22,
    "start_time": "2021-12-30T10:44:48.857Z"
   },
   {
    "duration": 4,
    "start_time": "2021-12-30T10:44:48.880Z"
   },
   {
    "duration": 16,
    "start_time": "2021-12-30T10:44:48.886Z"
   },
   {
    "duration": 19,
    "start_time": "2021-12-30T10:44:48.903Z"
   },
   {
    "duration": 29,
    "start_time": "2021-12-30T10:44:48.923Z"
   },
   {
    "duration": 8,
    "start_time": "2021-12-30T10:44:48.956Z"
   },
   {
    "duration": 5,
    "start_time": "2021-12-30T10:44:48.966Z"
   },
   {
    "duration": 15,
    "start_time": "2021-12-30T10:44:48.973Z"
   },
   {
    "duration": 13,
    "start_time": "2021-12-30T10:44:48.990Z"
   },
   {
    "duration": 38,
    "start_time": "2021-12-30T10:44:49.005Z"
   },
   {
    "duration": 5,
    "start_time": "2021-12-30T10:44:49.044Z"
   },
   {
    "duration": 10,
    "start_time": "2021-12-30T10:44:49.050Z"
   },
   {
    "duration": 7,
    "start_time": "2021-12-30T10:44:49.061Z"
   },
   {
    "duration": 8,
    "start_time": "2021-12-30T10:44:49.070Z"
   },
   {
    "duration": 32,
    "start_time": "2021-12-30T10:44:49.080Z"
   },
   {
    "duration": 51,
    "start_time": "2021-12-30T10:44:49.114Z"
   },
   {
    "duration": 19,
    "start_time": "2021-12-30T10:44:49.167Z"
   },
   {
    "duration": 25,
    "start_time": "2021-12-30T10:44:49.188Z"
   },
   {
    "duration": 19,
    "start_time": "2021-12-30T10:44:49.215Z"
   },
   {
    "duration": 23,
    "start_time": "2021-12-30T10:44:49.235Z"
   },
   {
    "duration": 36,
    "start_time": "2021-12-30T10:44:49.260Z"
   },
   {
    "duration": 9,
    "start_time": "2021-12-30T10:44:49.298Z"
   },
   {
    "duration": 371,
    "start_time": "2021-12-30T10:44:49.309Z"
   },
   {
    "duration": 76,
    "start_time": "2021-12-30T10:44:49.606Z"
   },
   {
    "duration": 72,
    "start_time": "2021-12-30T10:44:49.611Z"
   },
   {
    "duration": 58,
    "start_time": "2021-12-30T10:44:49.626Z"
   },
   {
    "duration": 53,
    "start_time": "2021-12-30T10:44:49.632Z"
   },
   {
    "duration": 51,
    "start_time": "2021-12-30T10:44:49.635Z"
   },
   {
    "duration": 48,
    "start_time": "2021-12-30T10:44:49.639Z"
   },
   {
    "duration": 45,
    "start_time": "2021-12-30T10:44:49.642Z"
   },
   {
    "duration": 42,
    "start_time": "2021-12-30T10:44:49.647Z"
   },
   {
    "duration": 39,
    "start_time": "2021-12-30T10:44:49.651Z"
   },
   {
    "duration": 36,
    "start_time": "2021-12-30T10:44:49.655Z"
   },
   {
    "duration": 33,
    "start_time": "2021-12-30T10:44:49.659Z"
   },
   {
    "duration": 30,
    "start_time": "2021-12-30T10:44:49.663Z"
   },
   {
    "duration": 27,
    "start_time": "2021-12-30T10:44:49.667Z"
   },
   {
    "duration": 24,
    "start_time": "2021-12-30T10:44:49.671Z"
   },
   {
    "duration": 8240,
    "start_time": "2021-12-30T10:45:00.413Z"
   },
   {
    "duration": 4,
    "start_time": "2021-12-30T10:45:18.293Z"
   },
   {
    "duration": 4,
    "start_time": "2021-12-30T10:45:20.142Z"
   },
   {
    "duration": 5,
    "start_time": "2021-12-30T10:45:21.472Z"
   },
   {
    "duration": 5,
    "start_time": "2021-12-30T10:45:22.547Z"
   },
   {
    "duration": 1596,
    "start_time": "2021-12-30T10:45:26.092Z"
   },
   {
    "duration": 1364,
    "start_time": "2021-12-30T10:46:31.642Z"
   },
   {
    "duration": 1092,
    "start_time": "2021-12-30T10:46:49.182Z"
   },
   {
    "duration": 11,
    "start_time": "2021-12-30T10:47:01.952Z"
   },
   {
    "duration": 772,
    "start_time": "2021-12-30T10:48:02.313Z"
   },
   {
    "duration": 1172,
    "start_time": "2021-12-30T10:48:12.899Z"
   },
   {
    "duration": 24,
    "start_time": "2021-12-30T10:48:14.073Z"
   },
   {
    "duration": 22,
    "start_time": "2021-12-30T10:48:14.099Z"
   },
   {
    "duration": 46,
    "start_time": "2021-12-30T10:48:14.122Z"
   },
   {
    "duration": 5,
    "start_time": "2021-12-30T10:48:14.170Z"
   },
   {
    "duration": 21,
    "start_time": "2021-12-30T10:48:14.176Z"
   },
   {
    "duration": 17,
    "start_time": "2021-12-30T10:48:14.198Z"
   },
   {
    "duration": 22,
    "start_time": "2021-12-30T10:48:14.217Z"
   },
   {
    "duration": 21,
    "start_time": "2021-12-30T10:48:14.243Z"
   },
   {
    "duration": 30,
    "start_time": "2021-12-30T10:48:14.266Z"
   },
   {
    "duration": 36,
    "start_time": "2021-12-30T10:48:14.298Z"
   },
   {
    "duration": 47,
    "start_time": "2021-12-30T10:48:14.336Z"
   },
   {
    "duration": 15,
    "start_time": "2021-12-30T10:48:14.385Z"
   },
   {
    "duration": 33,
    "start_time": "2021-12-30T10:48:14.402Z"
   },
   {
    "duration": 26,
    "start_time": "2021-12-30T10:48:14.437Z"
   },
   {
    "duration": 35,
    "start_time": "2021-12-30T10:48:14.465Z"
   },
   {
    "duration": 20,
    "start_time": "2021-12-30T10:48:14.501Z"
   },
   {
    "duration": 26,
    "start_time": "2021-12-30T10:48:14.523Z"
   },
   {
    "duration": 13,
    "start_time": "2021-12-30T10:48:14.551Z"
   },
   {
    "duration": 17,
    "start_time": "2021-12-30T10:48:14.566Z"
   },
   {
    "duration": 20,
    "start_time": "2021-12-30T10:48:14.585Z"
   },
   {
    "duration": 18,
    "start_time": "2021-12-30T10:48:14.606Z"
   },
   {
    "duration": 19,
    "start_time": "2021-12-30T10:48:14.626Z"
   },
   {
    "duration": 26,
    "start_time": "2021-12-30T10:48:14.647Z"
   },
   {
    "duration": 55,
    "start_time": "2021-12-30T10:48:14.674Z"
   },
   {
    "duration": 39,
    "start_time": "2021-12-30T10:48:14.730Z"
   },
   {
    "duration": 14,
    "start_time": "2021-12-30T10:48:14.773Z"
   },
   {
    "duration": 24,
    "start_time": "2021-12-30T10:48:14.789Z"
   },
   {
    "duration": 39,
    "start_time": "2021-12-30T10:48:14.814Z"
   },
   {
    "duration": 12,
    "start_time": "2021-12-30T10:48:14.855Z"
   },
   {
    "duration": 42,
    "start_time": "2021-12-30T10:48:14.868Z"
   },
   {
    "duration": 48,
    "start_time": "2021-12-30T10:48:14.912Z"
   },
   {
    "duration": 29,
    "start_time": "2021-12-30T10:48:14.962Z"
   },
   {
    "duration": 20,
    "start_time": "2021-12-30T10:48:14.992Z"
   },
   {
    "duration": 58,
    "start_time": "2021-12-30T10:48:15.014Z"
   },
   {
    "duration": 16,
    "start_time": "2021-12-30T10:48:15.074Z"
   },
   {
    "duration": 35,
    "start_time": "2021-12-30T10:48:15.092Z"
   },
   {
    "duration": 50,
    "start_time": "2021-12-30T10:48:15.129Z"
   },
   {
    "duration": 29,
    "start_time": "2021-12-30T10:48:15.181Z"
   },
   {
    "duration": 3482,
    "start_time": "2021-12-30T10:48:15.212Z"
   },
   {
    "duration": 2697,
    "start_time": "2021-12-30T10:48:18.696Z"
   },
   {
    "duration": 7,
    "start_time": "2021-12-30T10:48:21.394Z"
   },
   {
    "duration": 7,
    "start_time": "2021-12-30T10:48:21.402Z"
   },
   {
    "duration": 5,
    "start_time": "2021-12-30T10:48:21.411Z"
   },
   {
    "duration": 26,
    "start_time": "2021-12-30T10:48:21.418Z"
   },
   {
    "duration": 8,
    "start_time": "2021-12-30T10:48:21.445Z"
   },
   {
    "duration": 7,
    "start_time": "2021-12-30T10:48:21.454Z"
   },
   {
    "duration": 697,
    "start_time": "2021-12-30T10:48:21.462Z"
   },
   {
    "duration": 14,
    "start_time": "2021-12-30T10:48:22.161Z"
   },
   {
    "duration": 14,
    "start_time": "2021-12-30T10:48:22.177Z"
   },
   {
    "duration": 40,
    "start_time": "2021-12-30T10:48:22.193Z"
   },
   {
    "duration": 31,
    "start_time": "2021-12-30T10:48:22.235Z"
   },
   {
    "duration": 14,
    "start_time": "2021-12-30T10:48:22.268Z"
   },
   {
    "duration": 18,
    "start_time": "2021-12-30T10:48:22.284Z"
   },
   {
    "duration": 95,
    "start_time": "2021-12-30T11:21:36.089Z"
   },
   {
    "duration": 570,
    "start_time": "2021-12-30T11:21:42.731Z"
   },
   {
    "duration": 7,
    "start_time": "2021-12-30T11:21:49.319Z"
   },
   {
    "duration": 454,
    "start_time": "2021-12-30T11:22:31.482Z"
   },
   {
    "duration": 5,
    "start_time": "2021-12-30T12:17:42.972Z"
   },
   {
    "duration": 5,
    "start_time": "2021-12-30T12:18:14.950Z"
   },
   {
    "duration": 5,
    "start_time": "2021-12-30T12:19:16.932Z"
   },
   {
    "duration": 1227,
    "start_time": "2021-12-30T12:19:17.060Z"
   },
   {
    "duration": 15,
    "start_time": "2021-12-30T12:19:47.151Z"
   },
   {
    "duration": 1692,
    "start_time": "2021-12-30T12:21:09.264Z"
   },
   {
    "duration": 40,
    "start_time": "2021-12-30T12:21:10.959Z"
   },
   {
    "duration": 17,
    "start_time": "2021-12-30T12:21:11.002Z"
   },
   {
    "duration": 61,
    "start_time": "2021-12-30T12:21:11.022Z"
   },
   {
    "duration": 5,
    "start_time": "2021-12-30T12:21:11.085Z"
   },
   {
    "duration": 10,
    "start_time": "2021-12-30T12:21:11.092Z"
   },
   {
    "duration": 6,
    "start_time": "2021-12-30T12:21:11.104Z"
   },
   {
    "duration": 32,
    "start_time": "2021-12-30T12:21:11.111Z"
   },
   {
    "duration": 11,
    "start_time": "2021-12-30T12:21:11.146Z"
   },
   {
    "duration": 10,
    "start_time": "2021-12-30T12:21:11.159Z"
   },
   {
    "duration": 9,
    "start_time": "2021-12-30T12:21:11.171Z"
   },
   {
    "duration": 13,
    "start_time": "2021-12-30T12:21:11.182Z"
   },
   {
    "duration": 5,
    "start_time": "2021-12-30T12:21:11.197Z"
   },
   {
    "duration": 11,
    "start_time": "2021-12-30T12:21:11.204Z"
   },
   {
    "duration": 29,
    "start_time": "2021-12-30T12:21:11.217Z"
   },
   {
    "duration": 10,
    "start_time": "2021-12-30T12:21:11.248Z"
   },
   {
    "duration": 8,
    "start_time": "2021-12-30T12:21:11.260Z"
   },
   {
    "duration": 28,
    "start_time": "2021-12-30T12:21:11.269Z"
   },
   {
    "duration": 8,
    "start_time": "2021-12-30T12:21:11.299Z"
   },
   {
    "duration": 35,
    "start_time": "2021-12-30T12:21:11.308Z"
   },
   {
    "duration": 23,
    "start_time": "2021-12-30T12:21:11.345Z"
   },
   {
    "duration": 16,
    "start_time": "2021-12-30T12:21:11.370Z"
   },
   {
    "duration": 9,
    "start_time": "2021-12-30T12:21:11.388Z"
   },
   {
    "duration": 8,
    "start_time": "2021-12-30T12:21:11.399Z"
   },
   {
    "duration": 12,
    "start_time": "2021-12-30T12:21:11.442Z"
   },
   {
    "duration": 21,
    "start_time": "2021-12-30T12:21:11.456Z"
   },
   {
    "duration": 7,
    "start_time": "2021-12-30T12:21:11.481Z"
   },
   {
    "duration": 7,
    "start_time": "2021-12-30T12:21:11.491Z"
   },
   {
    "duration": 13,
    "start_time": "2021-12-30T12:21:11.500Z"
   },
   {
    "duration": 7,
    "start_time": "2021-12-30T12:21:11.542Z"
   },
   {
    "duration": 8,
    "start_time": "2021-12-30T12:21:11.551Z"
   },
   {
    "duration": 35,
    "start_time": "2021-12-30T12:21:11.561Z"
   },
   {
    "duration": 63,
    "start_time": "2021-12-30T12:21:11.599Z"
   },
   {
    "duration": 27,
    "start_time": "2021-12-30T12:21:11.665Z"
   },
   {
    "duration": 23,
    "start_time": "2021-12-30T12:21:11.694Z"
   },
   {
    "duration": 32,
    "start_time": "2021-12-30T12:21:11.719Z"
   },
   {
    "duration": 133,
    "start_time": "2021-12-30T12:21:11.754Z"
   },
   {
    "duration": 48,
    "start_time": "2021-12-30T12:21:11.890Z"
   },
   {
    "duration": 17,
    "start_time": "2021-12-30T12:21:11.940Z"
   },
   {
    "duration": 4010,
    "start_time": "2021-12-30T12:21:11.959Z"
   },
   {
    "duration": 3314,
    "start_time": "2021-12-30T12:21:15.971Z"
   },
   {
    "duration": 9,
    "start_time": "2021-12-30T12:21:19.287Z"
   },
   {
    "duration": 9,
    "start_time": "2021-12-30T12:21:19.297Z"
   },
   {
    "duration": 7,
    "start_time": "2021-12-30T12:21:19.307Z"
   },
   {
    "duration": 26,
    "start_time": "2021-12-30T12:21:19.316Z"
   },
   {
    "duration": 9,
    "start_time": "2021-12-30T12:21:19.344Z"
   },
   {
    "duration": 8,
    "start_time": "2021-12-30T12:21:19.354Z"
   },
   {
    "duration": 761,
    "start_time": "2021-12-30T12:21:19.364Z"
   },
   {
    "duration": 19,
    "start_time": "2021-12-30T12:21:20.127Z"
   },
   {
    "duration": 12,
    "start_time": "2021-12-30T12:21:20.148Z"
   },
   {
    "duration": 16,
    "start_time": "2021-12-30T12:21:20.161Z"
   },
   {
    "duration": 20,
    "start_time": "2021-12-30T12:21:20.179Z"
   },
   {
    "duration": 18,
    "start_time": "2021-12-30T12:21:20.200Z"
   },
   {
    "duration": 5,
    "start_time": "2021-12-30T12:21:20.219Z"
   },
   {
    "duration": 1393,
    "start_time": "2021-12-30T12:21:20.226Z"
   },
   {
    "duration": 21,
    "start_time": "2021-12-30T12:21:21.621Z"
   },
   {
    "duration": 3,
    "start_time": "2021-12-30T12:22:54.924Z"
   },
   {
    "duration": 376,
    "start_time": "2021-12-30T12:23:32.416Z"
   },
   {
    "duration": 1221,
    "start_time": "2021-12-30T12:23:44.541Z"
   },
   {
    "duration": 23,
    "start_time": "2021-12-30T12:23:45.764Z"
   },
   {
    "duration": 16,
    "start_time": "2021-12-30T12:23:45.789Z"
   },
   {
    "duration": 45,
    "start_time": "2021-12-30T12:23:45.807Z"
   },
   {
    "duration": 5,
    "start_time": "2021-12-30T12:23:45.853Z"
   },
   {
    "duration": 8,
    "start_time": "2021-12-30T12:23:45.859Z"
   },
   {
    "duration": 6,
    "start_time": "2021-12-30T12:23:45.868Z"
   },
   {
    "duration": 16,
    "start_time": "2021-12-30T12:23:45.877Z"
   },
   {
    "duration": 17,
    "start_time": "2021-12-30T12:23:45.894Z"
   },
   {
    "duration": 6,
    "start_time": "2021-12-30T12:23:45.913Z"
   },
   {
    "duration": 11,
    "start_time": "2021-12-30T12:23:45.921Z"
   },
   {
    "duration": 10,
    "start_time": "2021-12-30T12:23:45.941Z"
   },
   {
    "duration": 4,
    "start_time": "2021-12-30T12:23:45.953Z"
   },
   {
    "duration": 14,
    "start_time": "2021-12-30T12:23:45.959Z"
   },
   {
    "duration": 13,
    "start_time": "2021-12-30T12:23:45.975Z"
   },
   {
    "duration": 17,
    "start_time": "2021-12-30T12:23:45.989Z"
   },
   {
    "duration": 9,
    "start_time": "2021-12-30T12:23:46.008Z"
   },
   {
    "duration": 31,
    "start_time": "2021-12-30T12:23:46.019Z"
   },
   {
    "duration": 5,
    "start_time": "2021-12-30T12:23:46.052Z"
   },
   {
    "duration": 6,
    "start_time": "2021-12-30T12:23:46.059Z"
   },
   {
    "duration": 20,
    "start_time": "2021-12-30T12:23:46.067Z"
   },
   {
    "duration": 14,
    "start_time": "2021-12-30T12:23:46.089Z"
   },
   {
    "duration": 37,
    "start_time": "2021-12-30T12:23:46.107Z"
   },
   {
    "duration": 5,
    "start_time": "2021-12-30T12:23:46.146Z"
   },
   {
    "duration": 12,
    "start_time": "2021-12-30T12:23:46.153Z"
   },
   {
    "duration": 15,
    "start_time": "2021-12-30T12:23:46.168Z"
   },
   {
    "duration": 8,
    "start_time": "2021-12-30T12:23:46.185Z"
   },
   {
    "duration": 48,
    "start_time": "2021-12-30T12:23:46.194Z"
   },
   {
    "duration": 6,
    "start_time": "2021-12-30T12:23:46.245Z"
   },
   {
    "duration": 6,
    "start_time": "2021-12-30T12:23:46.253Z"
   },
   {
    "duration": 6,
    "start_time": "2021-12-30T12:23:46.261Z"
   },
   {
    "duration": 34,
    "start_time": "2021-12-30T12:23:46.269Z"
   },
   {
    "duration": 64,
    "start_time": "2021-12-30T12:23:46.305Z"
   },
   {
    "duration": 22,
    "start_time": "2021-12-30T12:23:46.371Z"
   },
   {
    "duration": 11,
    "start_time": "2021-12-30T12:23:46.395Z"
   },
   {
    "duration": 35,
    "start_time": "2021-12-30T12:23:46.408Z"
   },
   {
    "duration": 18,
    "start_time": "2021-12-30T12:23:46.445Z"
   },
   {
    "duration": 33,
    "start_time": "2021-12-30T12:23:46.465Z"
   },
   {
    "duration": 11,
    "start_time": "2021-12-30T12:23:46.499Z"
   },
   {
    "duration": 3605,
    "start_time": "2021-12-30T12:23:46.541Z"
   },
   {
    "duration": 2861,
    "start_time": "2021-12-30T12:23:50.148Z"
   },
   {
    "duration": 7,
    "start_time": "2021-12-30T12:23:53.010Z"
   },
   {
    "duration": 340,
    "start_time": "2021-12-30T12:23:53.019Z"
   },
   {
    "duration": 139,
    "start_time": "2021-12-30T12:23:53.222Z"
   },
   {
    "duration": 133,
    "start_time": "2021-12-30T12:23:53.229Z"
   },
   {
    "duration": 115,
    "start_time": "2021-12-30T12:23:53.248Z"
   },
   {
    "duration": 99,
    "start_time": "2021-12-30T12:23:53.265Z"
   },
   {
    "duration": 96,
    "start_time": "2021-12-30T12:23:53.269Z"
   },
   {
    "duration": 91,
    "start_time": "2021-12-30T12:23:53.274Z"
   },
   {
    "duration": 89,
    "start_time": "2021-12-30T12:23:53.277Z"
   },
   {
    "duration": 85,
    "start_time": "2021-12-30T12:23:53.282Z"
   },
   {
    "duration": 82,
    "start_time": "2021-12-30T12:23:53.286Z"
   },
   {
    "duration": 78,
    "start_time": "2021-12-30T12:23:53.291Z"
   },
   {
    "duration": 76,
    "start_time": "2021-12-30T12:23:53.295Z"
   },
   {
    "duration": 72,
    "start_time": "2021-12-30T12:23:53.299Z"
   },
   {
    "duration": 70,
    "start_time": "2021-12-30T12:23:53.303Z"
   },
   {
    "duration": 59,
    "start_time": "2021-12-30T12:23:53.314Z"
   },
   {
    "duration": 56,
    "start_time": "2021-12-30T12:23:53.318Z"
   },
   {
    "duration": 307,
    "start_time": "2021-12-30T12:25:51.807Z"
   },
   {
    "duration": 758,
    "start_time": "2021-12-30T12:26:23.015Z"
   },
   {
    "duration": 705,
    "start_time": "2021-12-30T12:26:59.070Z"
   },
   {
    "duration": 15,
    "start_time": "2021-12-30T12:27:02.992Z"
   },
   {
    "duration": 5,
    "start_time": "2021-12-30T12:27:05.861Z"
   },
   {
    "duration": 6,
    "start_time": "2021-12-30T12:27:06.521Z"
   },
   {
    "duration": 15,
    "start_time": "2021-12-30T12:27:08.175Z"
   },
   {
    "duration": 6,
    "start_time": "2021-12-30T12:27:08.221Z"
   },
   {
    "duration": 1275,
    "start_time": "2021-12-30T12:27:09.088Z"
   },
   {
    "duration": 14,
    "start_time": "2021-12-30T12:27:10.365Z"
   },
   {
    "duration": 8,
    "start_time": "2021-12-30T12:27:10.381Z"
   },
   {
    "duration": 53,
    "start_time": "2021-12-30T12:28:33.561Z"
   },
   {
    "duration": 19,
    "start_time": "2021-12-30T12:28:33.842Z"
   },
   {
    "duration": 13,
    "start_time": "2021-12-30T12:28:34.161Z"
   },
   {
    "duration": 34,
    "start_time": "2021-12-30T12:28:34.402Z"
   },
   {
    "duration": 5,
    "start_time": "2021-12-30T12:28:34.551Z"
   },
   {
    "duration": 6,
    "start_time": "2021-12-30T12:28:34.691Z"
   },
   {
    "duration": 5,
    "start_time": "2021-12-30T12:28:34.821Z"
   },
   {
    "duration": 8,
    "start_time": "2021-12-30T12:28:34.961Z"
   },
   {
    "duration": 8,
    "start_time": "2021-12-30T12:28:35.112Z"
   },
   {
    "duration": 6,
    "start_time": "2021-12-30T12:28:35.261Z"
   },
   {
    "duration": 4,
    "start_time": "2021-12-30T12:28:35.412Z"
   },
   {
    "duration": 11,
    "start_time": "2021-12-30T12:28:35.561Z"
   },
   {
    "duration": 6,
    "start_time": "2021-12-30T12:28:35.681Z"
   },
   {
    "duration": 6,
    "start_time": "2021-12-30T12:28:35.853Z"
   },
   {
    "duration": 9,
    "start_time": "2021-12-30T12:28:35.994Z"
   },
   {
    "duration": 7,
    "start_time": "2021-12-30T12:28:36.271Z"
   },
   {
    "duration": 7,
    "start_time": "2021-12-30T12:28:36.421Z"
   },
   {
    "duration": 17,
    "start_time": "2021-12-30T12:28:37.672Z"
   },
   {
    "duration": 6,
    "start_time": "2021-12-30T12:28:37.871Z"
   },
   {
    "duration": 8,
    "start_time": "2021-12-30T12:28:37.879Z"
   },
   {
    "duration": 15,
    "start_time": "2021-12-30T12:28:38.071Z"
   },
   {
    "duration": 15,
    "start_time": "2021-12-30T12:28:38.181Z"
   },
   {
    "duration": 9,
    "start_time": "2021-12-30T12:28:38.322Z"
   },
   {
    "duration": 6,
    "start_time": "2021-12-30T12:28:38.452Z"
   },
   {
    "duration": 10,
    "start_time": "2021-12-30T12:28:38.592Z"
   },
   {
    "duration": 13,
    "start_time": "2021-12-30T12:28:38.757Z"
   },
   {
    "duration": 8,
    "start_time": "2021-12-30T12:28:39.341Z"
   },
   {
    "duration": 5,
    "start_time": "2021-12-30T12:28:40.089Z"
   },
   {
    "duration": 6,
    "start_time": "2021-12-30T12:28:40.231Z"
   },
   {
    "duration": 6,
    "start_time": "2021-12-30T12:28:40.398Z"
   },
   {
    "duration": 8,
    "start_time": "2021-12-30T12:28:40.568Z"
   },
   {
    "duration": 34,
    "start_time": "2021-12-30T12:28:40.711Z"
   },
   {
    "duration": 31,
    "start_time": "2021-12-30T12:28:40.991Z"
   },
   {
    "duration": 20,
    "start_time": "2021-12-30T12:28:41.143Z"
   },
   {
    "duration": 11,
    "start_time": "2021-12-30T12:28:41.281Z"
   },
   {
    "duration": 8,
    "start_time": "2021-12-30T12:28:41.441Z"
   },
   {
    "duration": 19,
    "start_time": "2021-12-30T12:28:41.575Z"
   },
   {
    "duration": 29,
    "start_time": "2021-12-30T12:28:41.735Z"
   },
   {
    "duration": 11,
    "start_time": "2021-12-30T12:28:42.489Z"
   },
   {
    "duration": 3603,
    "start_time": "2021-12-30T12:28:42.619Z"
   },
   {
    "duration": 2818,
    "start_time": "2021-12-30T12:28:46.224Z"
   },
   {
    "duration": 7,
    "start_time": "2021-12-30T12:28:49.045Z"
   },
   {
    "duration": 430,
    "start_time": "2021-12-30T12:28:49.054Z"
   },
   {
    "duration": 176,
    "start_time": "2021-12-30T12:28:49.310Z"
   },
   {
    "duration": 172,
    "start_time": "2021-12-30T12:28:49.315Z"
   },
   {
    "duration": 144,
    "start_time": "2021-12-30T12:28:49.344Z"
   },
   {
    "duration": 139,
    "start_time": "2021-12-30T12:28:49.350Z"
   },
   {
    "duration": 135,
    "start_time": "2021-12-30T12:28:49.355Z"
   },
   {
    "duration": 130,
    "start_time": "2021-12-30T12:28:49.360Z"
   },
   {
    "duration": 112,
    "start_time": "2021-12-30T12:28:49.379Z"
   },
   {
    "duration": 109,
    "start_time": "2021-12-30T12:28:49.383Z"
   },
   {
    "duration": 106,
    "start_time": "2021-12-30T12:28:49.387Z"
   },
   {
    "duration": 102,
    "start_time": "2021-12-30T12:28:49.392Z"
   },
   {
    "duration": 93,
    "start_time": "2021-12-30T12:28:49.401Z"
   },
   {
    "duration": 90,
    "start_time": "2021-12-30T12:28:49.405Z"
   },
   {
    "duration": 86,
    "start_time": "2021-12-30T12:28:49.410Z"
   },
   {
    "duration": 77,
    "start_time": "2021-12-30T12:28:49.419Z"
   },
   {
    "duration": 74,
    "start_time": "2021-12-30T12:28:49.423Z"
   },
   {
    "duration": 13,
    "start_time": "2021-12-30T12:29:04.792Z"
   },
   {
    "duration": 13,
    "start_time": "2021-12-30T12:29:06.541Z"
   },
   {
    "duration": 25,
    "start_time": "2021-12-30T12:29:10.964Z"
   },
   {
    "duration": 5,
    "start_time": "2021-12-30T12:29:14.431Z"
   },
   {
    "duration": 248,
    "start_time": "2021-12-30T12:30:31.053Z"
   },
   {
    "duration": 13,
    "start_time": "2021-12-30T12:32:41.871Z"
   },
   {
    "duration": 274,
    "start_time": "2021-12-30T12:33:05.121Z"
   },
   {
    "duration": 7,
    "start_time": "2021-12-30T12:33:12.437Z"
   },
   {
    "duration": 7,
    "start_time": "2021-12-30T12:33:15.611Z"
   },
   {
    "duration": 6,
    "start_time": "2021-12-30T12:33:19.992Z"
   },
   {
    "duration": 300,
    "start_time": "2021-12-30T12:35:13.971Z"
   },
   {
    "duration": 258,
    "start_time": "2021-12-30T12:35:18.451Z"
   },
   {
    "duration": 1367,
    "start_time": "2021-12-30T12:35:36.903Z"
   },
   {
    "duration": 23,
    "start_time": "2021-12-30T12:35:38.273Z"
   },
   {
    "duration": 14,
    "start_time": "2021-12-30T12:35:38.298Z"
   },
   {
    "duration": 47,
    "start_time": "2021-12-30T12:35:38.313Z"
   },
   {
    "duration": 4,
    "start_time": "2021-12-30T12:35:38.362Z"
   },
   {
    "duration": 11,
    "start_time": "2021-12-30T12:35:38.368Z"
   },
   {
    "duration": 5,
    "start_time": "2021-12-30T12:35:38.381Z"
   },
   {
    "duration": 6,
    "start_time": "2021-12-30T12:35:38.389Z"
   },
   {
    "duration": 13,
    "start_time": "2021-12-30T12:35:38.397Z"
   },
   {
    "duration": 11,
    "start_time": "2021-12-30T12:35:38.412Z"
   },
   {
    "duration": 21,
    "start_time": "2021-12-30T12:35:38.424Z"
   },
   {
    "duration": 14,
    "start_time": "2021-12-30T12:35:38.447Z"
   },
   {
    "duration": 5,
    "start_time": "2021-12-30T12:35:38.463Z"
   },
   {
    "duration": 10,
    "start_time": "2021-12-30T12:35:38.470Z"
   },
   {
    "duration": 15,
    "start_time": "2021-12-30T12:35:38.482Z"
   },
   {
    "duration": 11,
    "start_time": "2021-12-30T12:35:38.498Z"
   },
   {
    "duration": 9,
    "start_time": "2021-12-30T12:35:38.511Z"
   },
   {
    "duration": 32,
    "start_time": "2021-12-30T12:35:38.522Z"
   },
   {
    "duration": 4,
    "start_time": "2021-12-30T12:35:38.556Z"
   },
   {
    "duration": 7,
    "start_time": "2021-12-30T12:35:38.562Z"
   },
   {
    "duration": 17,
    "start_time": "2021-12-30T12:35:38.571Z"
   },
   {
    "duration": 14,
    "start_time": "2021-12-30T12:35:38.590Z"
   },
   {
    "duration": 41,
    "start_time": "2021-12-30T12:35:38.608Z"
   },
   {
    "duration": 5,
    "start_time": "2021-12-30T12:35:38.651Z"
   },
   {
    "duration": 13,
    "start_time": "2021-12-30T12:35:38.658Z"
   },
   {
    "duration": 15,
    "start_time": "2021-12-30T12:35:38.672Z"
   },
   {
    "duration": 7,
    "start_time": "2021-12-30T12:35:38.689Z"
   },
   {
    "duration": 44,
    "start_time": "2021-12-30T12:35:38.698Z"
   },
   {
    "duration": 14,
    "start_time": "2021-12-30T12:35:38.744Z"
   },
   {
    "duration": 44,
    "start_time": "2021-12-30T12:35:38.760Z"
   },
   {
    "duration": 43,
    "start_time": "2021-12-30T12:35:38.806Z"
   },
   {
    "duration": 58,
    "start_time": "2021-12-30T12:35:38.851Z"
   },
   {
    "duration": 29,
    "start_time": "2021-12-30T12:35:38.911Z"
   },
   {
    "duration": 19,
    "start_time": "2021-12-30T12:35:38.942Z"
   },
   {
    "duration": 46,
    "start_time": "2021-12-30T12:35:38.962Z"
   },
   {
    "duration": 8,
    "start_time": "2021-12-30T12:35:39.010Z"
   },
   {
    "duration": 18,
    "start_time": "2021-12-30T12:35:39.019Z"
   },
   {
    "duration": 43,
    "start_time": "2021-12-30T12:35:39.039Z"
   },
   {
    "duration": 11,
    "start_time": "2021-12-30T12:35:39.084Z"
   },
   {
    "duration": 3399,
    "start_time": "2021-12-30T12:35:39.096Z"
   },
   {
    "duration": 2696,
    "start_time": "2021-12-30T12:35:42.497Z"
   },
   {
    "duration": 8,
    "start_time": "2021-12-30T12:35:45.195Z"
   },
   {
    "duration": 29,
    "start_time": "2021-12-30T12:35:45.205Z"
   },
   {
    "duration": 6445,
    "start_time": "2021-12-30T12:35:45.236Z"
   },
   {
    "duration": 122,
    "start_time": "2021-12-30T12:35:51.561Z"
   },
   {
    "duration": 119,
    "start_time": "2021-12-30T12:35:51.565Z"
   },
   {
    "duration": 115,
    "start_time": "2021-12-30T12:35:51.570Z"
   },
   {
    "duration": 111,
    "start_time": "2021-12-30T12:35:51.575Z"
   },
   {
    "duration": 109,
    "start_time": "2021-12-30T12:35:51.578Z"
   },
   {
    "duration": 105,
    "start_time": "2021-12-30T12:35:51.583Z"
   },
   {
    "duration": 102,
    "start_time": "2021-12-30T12:35:51.588Z"
   },
   {
    "duration": 99,
    "start_time": "2021-12-30T12:35:51.592Z"
   },
   {
    "duration": 95,
    "start_time": "2021-12-30T12:35:51.597Z"
   },
   {
    "duration": 90,
    "start_time": "2021-12-30T12:35:51.603Z"
   },
   {
    "duration": 86,
    "start_time": "2021-12-30T12:35:51.608Z"
   },
   {
    "duration": 83,
    "start_time": "2021-12-30T12:35:51.612Z"
   },
   {
    "duration": 79,
    "start_time": "2021-12-30T12:35:51.617Z"
   },
   {
    "duration": 74,
    "start_time": "2021-12-30T12:35:51.623Z"
   },
   {
    "duration": 59,
    "start_time": "2021-12-30T12:35:51.639Z"
   },
   {
    "duration": 264,
    "start_time": "2021-12-30T12:36:02.200Z"
   },
   {
    "duration": 259,
    "start_time": "2021-12-30T12:37:06.442Z"
   },
   {
    "duration": 258,
    "start_time": "2021-12-30T12:39:20.103Z"
   },
   {
    "duration": 3,
    "start_time": "2021-12-30T12:39:24.041Z"
   },
   {
    "duration": 3,
    "start_time": "2021-12-30T12:39:27.201Z"
   },
   {
    "duration": 517,
    "start_time": "2021-12-30T12:39:27.993Z"
   },
   {
    "duration": 3,
    "start_time": "2021-12-30T12:40:05.193Z"
   },
   {
    "duration": 3,
    "start_time": "2021-12-30T12:40:07.503Z"
   },
   {
    "duration": 496,
    "start_time": "2021-12-30T12:40:08.324Z"
   },
   {
    "duration": 271,
    "start_time": "2021-12-30T12:43:03.743Z"
   },
   {
    "duration": 282,
    "start_time": "2021-12-30T12:43:04.224Z"
   },
   {
    "duration": 6,
    "start_time": "2021-12-30T12:44:02.034Z"
   },
   {
    "duration": 257,
    "start_time": "2021-12-30T12:45:56.554Z"
   },
   {
    "duration": 6702,
    "start_time": "2021-12-30T12:51:12.363Z"
   },
   {
    "duration": 1181,
    "start_time": "2021-12-30T13:08:28.270Z"
   },
   {
    "duration": 23,
    "start_time": "2021-12-30T13:08:29.453Z"
   },
   {
    "duration": 11,
    "start_time": "2021-12-30T13:08:29.479Z"
   },
   {
    "duration": 32,
    "start_time": "2021-12-30T13:08:29.492Z"
   },
   {
    "duration": 18,
    "start_time": "2021-12-30T13:08:29.525Z"
   },
   {
    "duration": 4,
    "start_time": "2021-12-30T13:08:29.545Z"
   },
   {
    "duration": 5,
    "start_time": "2021-12-30T13:08:29.551Z"
   },
   {
    "duration": 6,
    "start_time": "2021-12-30T13:08:29.559Z"
   },
   {
    "duration": 14,
    "start_time": "2021-12-30T13:08:29.567Z"
   },
   {
    "duration": 6,
    "start_time": "2021-12-30T13:08:29.583Z"
   },
   {
    "duration": 10,
    "start_time": "2021-12-30T13:08:29.591Z"
   },
   {
    "duration": 15,
    "start_time": "2021-12-30T13:08:29.602Z"
   },
   {
    "duration": 5,
    "start_time": "2021-12-30T13:08:29.641Z"
   },
   {
    "duration": 11,
    "start_time": "2021-12-30T13:08:29.648Z"
   },
   {
    "duration": 15,
    "start_time": "2021-12-30T13:08:29.660Z"
   },
   {
    "duration": 14,
    "start_time": "2021-12-30T13:08:29.676Z"
   },
   {
    "duration": 9,
    "start_time": "2021-12-30T13:08:29.691Z"
   },
   {
    "duration": 25,
    "start_time": "2021-12-30T13:08:29.702Z"
   },
   {
    "duration": 16,
    "start_time": "2021-12-30T13:08:29.729Z"
   },
   {
    "duration": 5,
    "start_time": "2021-12-30T13:08:29.747Z"
   },
   {
    "duration": 17,
    "start_time": "2021-12-30T13:08:29.754Z"
   },
   {
    "duration": 15,
    "start_time": "2021-12-30T13:08:29.772Z"
   },
   {
    "duration": 8,
    "start_time": "2021-12-30T13:08:29.790Z"
   },
   {
    "duration": 6,
    "start_time": "2021-12-30T13:08:29.841Z"
   },
   {
    "duration": 15,
    "start_time": "2021-12-30T13:08:29.849Z"
   },
   {
    "duration": 17,
    "start_time": "2021-12-30T13:08:29.865Z"
   },
   {
    "duration": 6,
    "start_time": "2021-12-30T13:08:29.884Z"
   },
   {
    "duration": 12,
    "start_time": "2021-12-30T13:08:29.891Z"
   },
   {
    "duration": 12,
    "start_time": "2021-12-30T13:08:29.905Z"
   },
   {
    "duration": 23,
    "start_time": "2021-12-30T13:08:29.919Z"
   },
   {
    "duration": 6,
    "start_time": "2021-12-30T13:08:29.943Z"
   },
   {
    "duration": 32,
    "start_time": "2021-12-30T13:08:29.950Z"
   },
   {
    "duration": 27,
    "start_time": "2021-12-30T13:08:29.984Z"
   },
   {
    "duration": 44,
    "start_time": "2021-12-30T13:08:30.012Z"
   },
   {
    "duration": 8,
    "start_time": "2021-12-30T13:08:30.058Z"
   },
   {
    "duration": 14,
    "start_time": "2021-12-30T13:08:30.068Z"
   },
   {
    "duration": 19,
    "start_time": "2021-12-30T13:08:30.084Z"
   },
   {
    "duration": 50,
    "start_time": "2021-12-30T13:08:30.105Z"
   },
   {
    "duration": 10,
    "start_time": "2021-12-30T13:08:30.157Z"
   },
   {
    "duration": 3654,
    "start_time": "2021-12-30T13:08:30.169Z"
   },
   {
    "duration": 2977,
    "start_time": "2021-12-30T13:08:33.825Z"
   },
   {
    "duration": 7,
    "start_time": "2021-12-30T13:08:36.804Z"
   },
   {
    "duration": 32,
    "start_time": "2021-12-30T13:08:36.812Z"
   },
   {
    "duration": 7581,
    "start_time": "2021-12-30T13:08:36.845Z"
   },
   {
    "duration": 168,
    "start_time": "2021-12-30T13:08:44.261Z"
   },
   {
    "duration": 163,
    "start_time": "2021-12-30T13:08:44.267Z"
   },
   {
    "duration": 160,
    "start_time": "2021-12-30T13:08:44.271Z"
   },
   {
    "duration": 157,
    "start_time": "2021-12-30T13:08:44.275Z"
   },
   {
    "duration": 154,
    "start_time": "2021-12-30T13:08:44.280Z"
   },
   {
    "duration": 151,
    "start_time": "2021-12-30T13:08:44.284Z"
   },
   {
    "duration": 147,
    "start_time": "2021-12-30T13:08:44.289Z"
   },
   {
    "duration": 144,
    "start_time": "2021-12-30T13:08:44.293Z"
   },
   {
    "duration": 139,
    "start_time": "2021-12-30T13:08:44.299Z"
   },
   {
    "duration": 137,
    "start_time": "2021-12-30T13:08:44.302Z"
   },
   {
    "duration": 133,
    "start_time": "2021-12-30T13:08:44.307Z"
   },
   {
    "duration": 130,
    "start_time": "2021-12-30T13:08:44.311Z"
   },
   {
    "duration": 126,
    "start_time": "2021-12-30T13:08:44.316Z"
   },
   {
    "duration": 6746,
    "start_time": "2021-12-30T13:09:16.177Z"
   },
   {
    "duration": 1294,
    "start_time": "2021-12-30T13:13:59.305Z"
   },
   {
    "duration": 23,
    "start_time": "2021-12-30T13:14:00.601Z"
   },
   {
    "duration": 19,
    "start_time": "2021-12-30T13:14:00.626Z"
   },
   {
    "duration": 39,
    "start_time": "2021-12-30T13:14:00.647Z"
   },
   {
    "duration": 4,
    "start_time": "2021-12-30T13:14:00.688Z"
   },
   {
    "duration": 17,
    "start_time": "2021-12-30T13:14:00.694Z"
   },
   {
    "duration": 11,
    "start_time": "2021-12-30T13:14:00.713Z"
   },
   {
    "duration": 43,
    "start_time": "2021-12-30T13:14:00.727Z"
   },
   {
    "duration": 21,
    "start_time": "2021-12-30T13:14:00.772Z"
   },
   {
    "duration": 20,
    "start_time": "2021-12-30T13:14:00.794Z"
   },
   {
    "duration": 15,
    "start_time": "2021-12-30T13:14:00.815Z"
   },
   {
    "duration": 22,
    "start_time": "2021-12-30T13:14:00.832Z"
   },
   {
    "duration": 8,
    "start_time": "2021-12-30T13:14:00.855Z"
   },
   {
    "duration": 19,
    "start_time": "2021-12-30T13:14:00.865Z"
   },
   {
    "duration": 20,
    "start_time": "2021-12-30T13:14:00.886Z"
   },
   {
    "duration": 16,
    "start_time": "2021-12-30T13:14:00.907Z"
   },
   {
    "duration": 9,
    "start_time": "2021-12-30T13:14:00.924Z"
   },
   {
    "duration": 26,
    "start_time": "2021-12-30T13:14:00.934Z"
   },
   {
    "duration": 5,
    "start_time": "2021-12-30T13:14:00.961Z"
   },
   {
    "duration": 12,
    "start_time": "2021-12-30T13:14:00.968Z"
   },
   {
    "duration": 23,
    "start_time": "2021-12-30T13:14:00.981Z"
   },
   {
    "duration": 14,
    "start_time": "2021-12-30T13:14:01.006Z"
   },
   {
    "duration": 9,
    "start_time": "2021-12-30T13:14:01.041Z"
   },
   {
    "duration": 30,
    "start_time": "2021-12-30T13:14:01.053Z"
   },
   {
    "duration": 15,
    "start_time": "2021-12-30T13:14:01.085Z"
   },
   {
    "duration": 26,
    "start_time": "2021-12-30T13:14:01.102Z"
   },
   {
    "duration": 23,
    "start_time": "2021-12-30T13:14:01.130Z"
   },
   {
    "duration": 15,
    "start_time": "2021-12-30T13:14:01.155Z"
   },
   {
    "duration": 27,
    "start_time": "2021-12-30T13:14:01.171Z"
   },
   {
    "duration": 11,
    "start_time": "2021-12-30T13:14:01.200Z"
   },
   {
    "duration": 15,
    "start_time": "2021-12-30T13:14:01.213Z"
   },
   {
    "duration": 38,
    "start_time": "2021-12-30T13:14:01.229Z"
   },
   {
    "duration": 31,
    "start_time": "2021-12-30T13:14:01.268Z"
   },
   {
    "duration": 64,
    "start_time": "2021-12-30T13:14:01.300Z"
   },
   {
    "duration": 26,
    "start_time": "2021-12-30T13:14:01.366Z"
   },
   {
    "duration": 23,
    "start_time": "2021-12-30T13:14:01.394Z"
   },
   {
    "duration": 38,
    "start_time": "2021-12-30T13:14:01.419Z"
   },
   {
    "duration": 38,
    "start_time": "2021-12-30T13:14:01.459Z"
   },
   {
    "duration": 15,
    "start_time": "2021-12-30T13:14:01.499Z"
   },
   {
    "duration": 3776,
    "start_time": "2021-12-30T13:14:01.515Z"
   },
   {
    "duration": 2949,
    "start_time": "2021-12-30T13:14:05.294Z"
   },
   {
    "duration": 8,
    "start_time": "2021-12-30T13:14:08.245Z"
   },
   {
    "duration": 12,
    "start_time": "2021-12-30T13:14:08.255Z"
   },
   {
    "duration": 6745,
    "start_time": "2021-12-30T13:14:08.268Z"
   },
   {
    "duration": 115,
    "start_time": "2021-12-30T13:14:14.899Z"
   },
   {
    "duration": 112,
    "start_time": "2021-12-30T13:14:14.903Z"
   },
   {
    "duration": 109,
    "start_time": "2021-12-30T13:14:14.907Z"
   },
   {
    "duration": 97,
    "start_time": "2021-12-30T13:14:14.920Z"
   },
   {
    "duration": 93,
    "start_time": "2021-12-30T13:14:14.925Z"
   },
   {
    "duration": 90,
    "start_time": "2021-12-30T13:14:14.929Z"
   },
   {
    "duration": 87,
    "start_time": "2021-12-30T13:14:14.933Z"
   },
   {
    "duration": 84,
    "start_time": "2021-12-30T13:14:14.937Z"
   },
   {
    "duration": 81,
    "start_time": "2021-12-30T13:14:14.941Z"
   },
   {
    "duration": 78,
    "start_time": "2021-12-30T13:14:14.945Z"
   },
   {
    "duration": 56,
    "start_time": "2021-12-30T13:14:14.968Z"
   },
   {
    "duration": 53,
    "start_time": "2021-12-30T13:14:14.972Z"
   },
   {
    "duration": 49,
    "start_time": "2021-12-30T13:14:14.977Z"
   },
   {
    "duration": 6097,
    "start_time": "2021-12-30T13:14:48.222Z"
   },
   {
    "duration": 6632,
    "start_time": "2021-12-30T13:14:54.338Z"
   },
   {
    "duration": 1191,
    "start_time": "2021-12-30T13:21:27.362Z"
   },
   {
    "duration": 21,
    "start_time": "2021-12-30T13:21:28.555Z"
   },
   {
    "duration": 13,
    "start_time": "2021-12-30T13:21:28.578Z"
   },
   {
    "duration": 29,
    "start_time": "2021-12-30T13:21:28.593Z"
   },
   {
    "duration": 19,
    "start_time": "2021-12-30T13:21:28.624Z"
   },
   {
    "duration": 6,
    "start_time": "2021-12-30T13:21:28.644Z"
   },
   {
    "duration": 4,
    "start_time": "2021-12-30T13:21:28.652Z"
   },
   {
    "duration": 5,
    "start_time": "2021-12-30T13:21:28.659Z"
   },
   {
    "duration": 7,
    "start_time": "2021-12-30T13:21:28.666Z"
   },
   {
    "duration": 5,
    "start_time": "2021-12-30T13:21:28.675Z"
   },
   {
    "duration": 8,
    "start_time": "2021-12-30T13:21:28.682Z"
   },
   {
    "duration": 13,
    "start_time": "2021-12-30T13:21:28.691Z"
   },
   {
    "duration": 4,
    "start_time": "2021-12-30T13:21:28.705Z"
   },
   {
    "duration": 34,
    "start_time": "2021-12-30T13:21:28.711Z"
   },
   {
    "duration": 10,
    "start_time": "2021-12-30T13:21:28.746Z"
   },
   {
    "duration": 13,
    "start_time": "2021-12-30T13:21:28.757Z"
   },
   {
    "duration": 8,
    "start_time": "2021-12-30T13:21:28.771Z"
   },
   {
    "duration": 19,
    "start_time": "2021-12-30T13:21:28.780Z"
   },
   {
    "duration": 4,
    "start_time": "2021-12-30T13:21:28.800Z"
   },
   {
    "duration": 7,
    "start_time": "2021-12-30T13:21:28.805Z"
   },
   {
    "duration": 35,
    "start_time": "2021-12-30T13:21:28.813Z"
   },
   {
    "duration": 13,
    "start_time": "2021-12-30T13:21:28.850Z"
   },
   {
    "duration": 8,
    "start_time": "2021-12-30T13:21:28.866Z"
   },
   {
    "duration": 7,
    "start_time": "2021-12-30T13:21:28.876Z"
   },
   {
    "duration": 13,
    "start_time": "2021-12-30T13:21:28.885Z"
   },
   {
    "duration": 47,
    "start_time": "2021-12-30T13:21:28.899Z"
   },
   {
    "duration": 6,
    "start_time": "2021-12-30T13:21:28.948Z"
   },
   {
    "duration": 6,
    "start_time": "2021-12-30T13:21:28.956Z"
   },
   {
    "duration": 9,
    "start_time": "2021-12-30T13:21:28.963Z"
   },
   {
    "duration": 9,
    "start_time": "2021-12-30T13:21:28.973Z"
   },
   {
    "duration": 11,
    "start_time": "2021-12-30T13:21:28.984Z"
   },
   {
    "duration": 33,
    "start_time": "2021-12-30T13:21:28.996Z"
   },
   {
    "duration": 25,
    "start_time": "2021-12-30T13:21:29.041Z"
   },
   {
    "duration": 17,
    "start_time": "2021-12-30T13:21:29.068Z"
   },
   {
    "duration": 12,
    "start_time": "2021-12-30T13:21:29.087Z"
   },
   {
    "duration": 8,
    "start_time": "2021-12-30T13:21:29.100Z"
   },
   {
    "duration": 32,
    "start_time": "2021-12-30T13:21:29.110Z"
   },
   {
    "duration": 24,
    "start_time": "2021-12-30T13:21:29.143Z"
   },
   {
    "duration": 8,
    "start_time": "2021-12-30T13:21:29.169Z"
   },
   {
    "duration": 3350,
    "start_time": "2021-12-30T13:21:29.178Z"
   },
   {
    "duration": 2758,
    "start_time": "2021-12-30T13:21:32.530Z"
   },
   {
    "duration": 8,
    "start_time": "2021-12-30T13:21:35.290Z"
   },
   {
    "duration": 15,
    "start_time": "2021-12-30T13:21:35.299Z"
   },
   {
    "duration": 6125,
    "start_time": "2021-12-30T13:21:35.315Z"
   },
   {
    "duration": 163,
    "start_time": "2021-12-30T13:21:41.279Z"
   },
   {
    "duration": 152,
    "start_time": "2021-12-30T13:21:41.291Z"
   },
   {
    "duration": 140,
    "start_time": "2021-12-30T13:21:41.305Z"
   },
   {
    "duration": 132,
    "start_time": "2021-12-30T13:21:41.314Z"
   },
   {
    "duration": 125,
    "start_time": "2021-12-30T13:21:41.322Z"
   },
   {
    "duration": 121,
    "start_time": "2021-12-30T13:21:41.328Z"
   },
   {
    "duration": 115,
    "start_time": "2021-12-30T13:21:41.335Z"
   },
   {
    "duration": 109,
    "start_time": "2021-12-30T13:21:41.342Z"
   },
   {
    "duration": 106,
    "start_time": "2021-12-30T13:21:41.347Z"
   },
   {
    "duration": 103,
    "start_time": "2021-12-30T13:21:41.351Z"
   },
   {
    "duration": 100,
    "start_time": "2021-12-30T13:21:41.355Z"
   },
   {
    "duration": 97,
    "start_time": "2021-12-30T13:21:41.359Z"
   },
   {
    "duration": 94,
    "start_time": "2021-12-30T13:21:41.364Z"
   },
   {
    "duration": 5889,
    "start_time": "2021-12-30T13:22:07.064Z"
   },
   {
    "duration": 364,
    "start_time": "2021-12-30T16:15:44.625Z"
   },
   {
    "duration": 1169,
    "start_time": "2021-12-30T16:15:54.032Z"
   },
   {
    "duration": 20,
    "start_time": "2021-12-30T16:15:55.203Z"
   },
   {
    "duration": 10,
    "start_time": "2021-12-30T16:15:55.225Z"
   },
   {
    "duration": 27,
    "start_time": "2021-12-30T16:15:55.237Z"
   },
   {
    "duration": 3,
    "start_time": "2021-12-30T16:15:55.265Z"
   },
   {
    "duration": 6,
    "start_time": "2021-12-30T16:15:55.270Z"
   },
   {
    "duration": 4,
    "start_time": "2021-12-30T16:15:55.277Z"
   },
   {
    "duration": 4,
    "start_time": "2021-12-30T16:15:55.283Z"
   },
   {
    "duration": 6,
    "start_time": "2021-12-30T16:15:55.289Z"
   },
   {
    "duration": 3,
    "start_time": "2021-12-30T16:15:55.297Z"
   },
   {
    "duration": 27,
    "start_time": "2021-12-30T16:15:55.301Z"
   },
   {
    "duration": 9,
    "start_time": "2021-12-30T16:15:55.330Z"
   },
   {
    "duration": 4,
    "start_time": "2021-12-30T16:15:55.340Z"
   },
   {
    "duration": 8,
    "start_time": "2021-12-30T16:15:55.345Z"
   },
   {
    "duration": 6,
    "start_time": "2021-12-30T16:15:55.354Z"
   },
   {
    "duration": 7,
    "start_time": "2021-12-30T16:15:55.361Z"
   },
   {
    "duration": 5,
    "start_time": "2021-12-30T16:15:55.370Z"
   },
   {
    "duration": 14,
    "start_time": "2021-12-30T16:15:55.376Z"
   },
   {
    "duration": 38,
    "start_time": "2021-12-30T16:15:55.391Z"
   },
   {
    "duration": 3,
    "start_time": "2021-12-30T16:15:55.430Z"
   },
   {
    "duration": 11,
    "start_time": "2021-12-30T16:15:55.435Z"
   },
   {
    "duration": 13,
    "start_time": "2021-12-30T16:15:55.447Z"
   },
   {
    "duration": 6,
    "start_time": "2021-12-30T16:15:55.463Z"
   },
   {
    "duration": 7,
    "start_time": "2021-12-30T16:15:55.471Z"
   },
   {
    "duration": 48,
    "start_time": "2021-12-30T16:15:55.479Z"
   },
   {
    "duration": 14,
    "start_time": "2021-12-30T16:15:55.529Z"
   },
   {
    "duration": 6,
    "start_time": "2021-12-30T16:15:55.544Z"
   },
   {
    "duration": 4,
    "start_time": "2021-12-30T16:15:55.552Z"
   },
   {
    "duration": 5,
    "start_time": "2021-12-30T16:15:55.557Z"
   },
   {
    "duration": 4,
    "start_time": "2021-12-30T16:15:55.563Z"
   },
   {
    "duration": 6,
    "start_time": "2021-12-30T16:15:55.569Z"
   },
   {
    "duration": 68,
    "start_time": "2021-12-30T16:15:55.576Z"
   },
   {
    "duration": 23,
    "start_time": "2021-12-30T16:15:55.645Z"
   },
   {
    "duration": 15,
    "start_time": "2021-12-30T16:15:55.670Z"
   },
   {
    "duration": 10,
    "start_time": "2021-12-30T16:15:55.687Z"
   },
   {
    "duration": 7,
    "start_time": "2021-12-30T16:15:55.698Z"
   },
   {
    "duration": 32,
    "start_time": "2021-12-30T16:15:55.706Z"
   },
   {
    "duration": 23,
    "start_time": "2021-12-30T16:15:55.739Z"
   },
   {
    "duration": 8,
    "start_time": "2021-12-30T16:15:55.763Z"
   },
   {
    "duration": 3511,
    "start_time": "2021-12-30T16:15:55.773Z"
   },
   {
    "duration": 2696,
    "start_time": "2021-12-30T16:15:59.286Z"
   },
   {
    "duration": 5,
    "start_time": "2021-12-30T16:16:01.984Z"
   },
   {
    "duration": 10,
    "start_time": "2021-12-30T16:16:01.991Z"
   },
   {
    "duration": 8374,
    "start_time": "2021-12-30T16:16:02.002Z"
   },
   {
    "duration": -59,
    "start_time": "2021-12-30T16:16:10.437Z"
   },
   {
    "duration": -63,
    "start_time": "2021-12-30T16:16:10.442Z"
   },
   {
    "duration": -66,
    "start_time": "2021-12-30T16:16:10.446Z"
   },
   {
    "duration": -71,
    "start_time": "2021-12-30T16:16:10.452Z"
   },
   {
    "duration": -75,
    "start_time": "2021-12-30T16:16:10.456Z"
   },
   {
    "duration": -79,
    "start_time": "2021-12-30T16:16:10.461Z"
   },
   {
    "duration": -88,
    "start_time": "2021-12-30T16:16:10.471Z"
   },
   {
    "duration": -91,
    "start_time": "2021-12-30T16:16:10.475Z"
   },
   {
    "duration": -95,
    "start_time": "2021-12-30T16:16:10.480Z"
   },
   {
    "duration": -98,
    "start_time": "2021-12-30T16:16:10.484Z"
   },
   {
    "duration": -101,
    "start_time": "2021-12-30T16:16:10.488Z"
   },
   {
    "duration": -105,
    "start_time": "2021-12-30T16:16:10.493Z"
   },
   {
    "duration": -114,
    "start_time": "2021-12-30T16:16:10.503Z"
   },
   {
    "duration": 46,
    "start_time": "2021-12-30T16:17:12.518Z"
   },
   {
    "duration": 16,
    "start_time": "2021-12-30T16:17:15.275Z"
   },
   {
    "duration": 11,
    "start_time": "2021-12-30T16:17:17.019Z"
   },
   {
    "duration": 27,
    "start_time": "2021-12-30T16:17:18.188Z"
   },
   {
    "duration": 5,
    "start_time": "2021-12-30T16:17:18.646Z"
   },
   {
    "duration": 5,
    "start_time": "2021-12-30T16:17:19.485Z"
   },
   {
    "duration": 4,
    "start_time": "2021-12-30T16:17:19.989Z"
   },
   {
    "duration": 5,
    "start_time": "2021-12-30T16:17:34.644Z"
   },
   {
    "duration": 6,
    "start_time": "2021-12-30T16:17:35.687Z"
   },
   {
    "duration": 4,
    "start_time": "2021-12-30T16:17:36.346Z"
   },
   {
    "duration": 4,
    "start_time": "2021-12-30T16:17:36.836Z"
   },
   {
    "duration": 9,
    "start_time": "2021-12-30T16:17:37.306Z"
   },
   {
    "duration": 4,
    "start_time": "2021-12-30T16:17:40.956Z"
   },
   {
    "duration": 6,
    "start_time": "2021-12-30T16:17:41.378Z"
   },
   {
    "duration": 7,
    "start_time": "2021-12-30T16:17:41.865Z"
   },
   {
    "duration": 6,
    "start_time": "2021-12-30T16:17:43.438Z"
   },
   {
    "duration": 8,
    "start_time": "2021-12-30T16:17:44.477Z"
   },
   {
    "duration": 14,
    "start_time": "2021-12-30T16:17:48.556Z"
   },
   {
    "duration": 4,
    "start_time": "2021-12-30T16:17:49.440Z"
   },
   {
    "duration": 5,
    "start_time": "2021-12-30T16:17:51.568Z"
   },
   {
    "duration": 13,
    "start_time": "2021-12-30T16:17:52.540Z"
   },
   {
    "duration": 15,
    "start_time": "2021-12-30T16:17:53.393Z"
   },
   {
    "duration": 9,
    "start_time": "2021-12-30T16:17:54.104Z"
   },
   {
    "duration": 6,
    "start_time": "2021-12-30T16:17:54.855Z"
   },
   {
    "duration": 9,
    "start_time": "2021-12-30T16:17:55.318Z"
   },
   {
    "duration": 12,
    "start_time": "2021-12-30T16:17:56.374Z"
   },
   {
    "duration": 6,
    "start_time": "2021-12-30T16:18:00.616Z"
   },
   {
    "duration": 5,
    "start_time": "2021-12-30T16:18:04.036Z"
   },
   {
    "duration": 4,
    "start_time": "2021-12-30T16:18:05.626Z"
   },
   {
    "duration": 4,
    "start_time": "2021-12-30T16:18:06.287Z"
   },
   {
    "duration": 5,
    "start_time": "2021-12-30T16:18:08.126Z"
   },
   {
    "duration": 27,
    "start_time": "2021-12-30T16:18:23.845Z"
   },
   {
    "duration": 25,
    "start_time": "2021-12-30T16:18:26.076Z"
   },
   {
    "duration": 16,
    "start_time": "2021-12-30T16:18:27.123Z"
   },
   {
    "duration": 8,
    "start_time": "2021-12-30T16:18:32.678Z"
   },
   {
    "duration": 6,
    "start_time": "2021-12-30T16:18:33.296Z"
   },
   {
    "duration": 20,
    "start_time": "2021-12-30T16:18:34.156Z"
   },
   {
    "duration": 26,
    "start_time": "2021-12-30T16:18:35.115Z"
   },
   {
    "duration": 9,
    "start_time": "2021-12-30T16:18:50.358Z"
   },
   {
    "duration": 3322,
    "start_time": "2021-12-30T16:18:51.076Z"
   },
   {
    "duration": 16,
    "start_time": "2021-12-30T16:20:09.653Z"
   },
   {
    "duration": 3428,
    "start_time": "2021-12-30T16:20:33.559Z"
   },
   {
    "duration": 2712,
    "start_time": "2021-12-30T16:21:20.777Z"
   },
   {
    "duration": 6,
    "start_time": "2021-12-30T16:21:23.491Z"
   },
   {
    "duration": 10,
    "start_time": "2021-12-30T16:21:23.498Z"
   },
   {
    "duration": 8582,
    "start_time": "2021-12-30T16:21:43.086Z"
   },
   {
    "duration": 18,
    "start_time": "2021-12-30T16:21:51.651Z"
   },
   {
    "duration": 15,
    "start_time": "2021-12-30T16:21:51.655Z"
   },
   {
    "duration": 12,
    "start_time": "2021-12-30T16:21:51.659Z"
   },
   {
    "duration": 9,
    "start_time": "2021-12-30T16:21:51.663Z"
   },
   {
    "duration": 5,
    "start_time": "2021-12-30T16:21:51.668Z"
   },
   {
    "duration": 354,
    "start_time": "2021-12-30T16:22:56.162Z"
   },
   {
    "duration": 8513,
    "start_time": "2021-12-30T16:24:07.115Z"
   },
   {
    "duration": 8,
    "start_time": "2021-12-30T16:24:15.622Z"
   },
   {
    "duration": 4,
    "start_time": "2021-12-30T16:24:15.627Z"
   },
   {
    "duration": 0,
    "start_time": "2021-12-30T16:24:15.631Z"
   },
   {
    "duration": -3,
    "start_time": "2021-12-30T16:24:15.635Z"
   },
   {
    "duration": 47,
    "start_time": "2021-12-30T16:28:17.403Z"
   },
   {
    "duration": 14,
    "start_time": "2021-12-30T16:28:18.841Z"
   },
   {
    "duration": 10,
    "start_time": "2021-12-30T16:28:29.897Z"
   },
   {
    "duration": 29,
    "start_time": "2021-12-30T16:28:32.345Z"
   },
   {
    "duration": 4,
    "start_time": "2021-12-30T16:30:23.945Z"
   },
   {
    "duration": 5,
    "start_time": "2021-12-30T16:30:24.681Z"
   },
   {
    "duration": 4,
    "start_time": "2021-12-30T16:30:25.392Z"
   },
   {
    "duration": 6,
    "start_time": "2021-12-30T16:30:26.183Z"
   },
   {
    "duration": 8,
    "start_time": "2021-12-30T16:30:27.844Z"
   },
   {
    "duration": 5,
    "start_time": "2021-12-30T16:30:28.872Z"
   },
   {
    "duration": 4,
    "start_time": "2021-12-30T16:30:29.872Z"
   },
   {
    "duration": 9,
    "start_time": "2021-12-30T16:30:30.625Z"
   },
   {
    "duration": 4,
    "start_time": "2021-12-30T16:30:31.739Z"
   },
   {
    "duration": 5,
    "start_time": "2021-12-30T16:30:33.379Z"
   },
   {
    "duration": 8,
    "start_time": "2021-12-30T16:30:33.386Z"
   },
   {
    "duration": 7,
    "start_time": "2021-12-30T16:30:36.649Z"
   },
   {
    "duration": 7,
    "start_time": "2021-12-30T16:30:44.272Z"
   },
   {
    "duration": 14,
    "start_time": "2021-12-30T16:30:49.781Z"
   },
   {
    "duration": 5,
    "start_time": "2021-12-30T16:31:07.392Z"
   },
   {
    "duration": 5,
    "start_time": "2021-12-30T16:31:08.341Z"
   },
   {
    "duration": 17,
    "start_time": "2021-12-30T16:31:09.316Z"
   },
   {
    "duration": 14,
    "start_time": "2021-12-30T16:31:10.734Z"
   },
   {
    "duration": 8,
    "start_time": "2021-12-30T16:31:16.548Z"
   },
   {
    "duration": 6,
    "start_time": "2021-12-30T16:31:17.206Z"
   },
   {
    "duration": 8,
    "start_time": "2021-12-30T16:31:20.356Z"
   },
   {
    "duration": 12,
    "start_time": "2021-12-30T16:31:21.224Z"
   },
   {
    "duration": 6,
    "start_time": "2021-12-30T16:31:32.780Z"
   },
   {
    "duration": 4,
    "start_time": "2021-12-30T16:32:23.392Z"
   },
   {
    "duration": 5,
    "start_time": "2021-12-30T16:32:24.252Z"
   },
   {
    "duration": 5,
    "start_time": "2021-12-30T16:32:29.480Z"
   },
   {
    "duration": 5,
    "start_time": "2021-12-30T16:32:31.174Z"
   },
   {
    "duration": 28,
    "start_time": "2021-12-30T16:32:33.344Z"
   },
   {
    "duration": 25,
    "start_time": "2021-12-30T16:32:35.232Z"
   },
   {
    "duration": 16,
    "start_time": "2021-12-30T16:32:42.148Z"
   },
   {
    "duration": 8,
    "start_time": "2021-12-30T16:33:10.194Z"
   },
   {
    "duration": 6,
    "start_time": "2021-12-30T16:33:11.282Z"
   },
   {
    "duration": 13,
    "start_time": "2021-12-30T16:33:12.321Z"
   },
   {
    "duration": 25,
    "start_time": "2021-12-30T16:33:13.380Z"
   },
   {
    "duration": 10,
    "start_time": "2021-12-30T16:33:20.484Z"
   },
   {
    "duration": 3191,
    "start_time": "2021-12-30T16:33:21.380Z"
   },
   {
    "duration": 2832,
    "start_time": "2021-12-30T16:33:31.485Z"
   },
   {
    "duration": 6,
    "start_time": "2021-12-30T16:33:34.327Z"
   },
   {
    "duration": 9,
    "start_time": "2021-12-30T16:33:34.335Z"
   },
   {
    "duration": 9378,
    "start_time": "2021-12-30T16:33:45.252Z"
   },
   {
    "duration": 8220,
    "start_time": "2021-12-30T16:33:57.168Z"
   },
   {
    "duration": -36,
    "start_time": "2021-12-30T16:34:05.426Z"
   },
   {
    "duration": 8023,
    "start_time": "2021-12-30T16:34:08.975Z"
   },
   {
    "duration": 33,
    "start_time": "2021-12-30T16:34:16.967Z"
   },
   {
    "duration": 30,
    "start_time": "2021-12-30T16:34:16.971Z"
   },
   {
    "duration": 28,
    "start_time": "2021-12-30T16:34:16.974Z"
   },
   {
    "duration": 8445,
    "start_time": "2021-12-30T16:34:22.209Z"
   },
   {
    "duration": 8507,
    "start_time": "2021-12-30T16:34:38.462Z"
   },
   {
    "duration": 9737,
    "start_time": "2021-12-30T16:35:27.132Z"
   },
   {
    "duration": 8683,
    "start_time": "2021-12-30T16:38:21.995Z"
   },
   {
    "duration": 8889,
    "start_time": "2021-12-30T16:39:20.128Z"
   },
   {
    "duration": 72,
    "start_time": "2021-12-30T16:39:28.946Z"
   },
   {
    "duration": 1141,
    "start_time": "2021-12-30T18:17:21.093Z"
   },
   {
    "duration": 21,
    "start_time": "2021-12-30T18:17:22.236Z"
   },
   {
    "duration": 12,
    "start_time": "2021-12-30T18:17:22.259Z"
   },
   {
    "duration": 30,
    "start_time": "2021-12-30T18:17:22.272Z"
   },
   {
    "duration": 4,
    "start_time": "2021-12-30T18:17:22.304Z"
   },
   {
    "duration": 8,
    "start_time": "2021-12-30T18:17:22.309Z"
   },
   {
    "duration": 26,
    "start_time": "2021-12-30T18:17:22.318Z"
   },
   {
    "duration": 7,
    "start_time": "2021-12-30T18:17:22.345Z"
   },
   {
    "duration": 7,
    "start_time": "2021-12-30T18:17:22.355Z"
   },
   {
    "duration": 7,
    "start_time": "2021-12-30T18:17:22.364Z"
   },
   {
    "duration": 5,
    "start_time": "2021-12-30T18:17:22.372Z"
   },
   {
    "duration": 12,
    "start_time": "2021-12-30T18:17:22.378Z"
   },
   {
    "duration": 5,
    "start_time": "2021-12-30T18:17:22.391Z"
   },
   {
    "duration": 10,
    "start_time": "2021-12-30T18:17:22.398Z"
   },
   {
    "duration": 33,
    "start_time": "2021-12-30T18:17:22.410Z"
   },
   {
    "duration": 8,
    "start_time": "2021-12-30T18:17:22.444Z"
   },
   {
    "duration": 9,
    "start_time": "2021-12-30T18:17:22.453Z"
   },
   {
    "duration": 19,
    "start_time": "2021-12-30T18:17:22.464Z"
   },
   {
    "duration": 6,
    "start_time": "2021-12-30T18:17:22.485Z"
   },
   {
    "duration": 8,
    "start_time": "2021-12-30T18:17:22.492Z"
   },
   {
    "duration": 45,
    "start_time": "2021-12-30T18:17:22.502Z"
   },
   {
    "duration": 17,
    "start_time": "2021-12-30T18:17:22.549Z"
   },
   {
    "duration": 8,
    "start_time": "2021-12-30T18:17:22.567Z"
   },
   {
    "duration": 7,
    "start_time": "2021-12-30T18:17:22.577Z"
   },
   {
    "duration": 14,
    "start_time": "2021-12-30T18:17:22.585Z"
   },
   {
    "duration": 57,
    "start_time": "2021-12-30T18:17:22.601Z"
   },
   {
    "duration": 7,
    "start_time": "2021-12-30T18:17:22.662Z"
   },
   {
    "duration": 9,
    "start_time": "2021-12-30T18:17:22.671Z"
   },
   {
    "duration": 10,
    "start_time": "2021-12-30T18:17:22.682Z"
   },
   {
    "duration": 8,
    "start_time": "2021-12-30T18:17:22.693Z"
   },
   {
    "duration": 9,
    "start_time": "2021-12-30T18:17:22.702Z"
   },
   {
    "duration": 53,
    "start_time": "2021-12-30T18:17:22.712Z"
   },
   {
    "duration": 28,
    "start_time": "2021-12-30T18:17:22.767Z"
   },
   {
    "duration": 18,
    "start_time": "2021-12-30T18:17:22.797Z"
   },
   {
    "duration": 30,
    "start_time": "2021-12-30T18:17:22.816Z"
   },
   {
    "duration": 27,
    "start_time": "2021-12-30T18:17:22.847Z"
   },
   {
    "duration": 33,
    "start_time": "2021-12-30T18:17:22.875Z"
   },
   {
    "duration": 35,
    "start_time": "2021-12-30T18:17:22.909Z"
   },
   {
    "duration": 9,
    "start_time": "2021-12-30T18:17:22.946Z"
   },
   {
    "duration": 3307,
    "start_time": "2021-12-30T18:17:22.957Z"
   },
   {
    "duration": 2698,
    "start_time": "2021-12-30T18:17:26.266Z"
   },
   {
    "duration": 6,
    "start_time": "2021-12-30T18:17:28.965Z"
   },
   {
    "duration": 21,
    "start_time": "2021-12-30T18:17:28.973Z"
   },
   {
    "duration": 6711,
    "start_time": "2021-12-30T18:17:28.995Z"
   },
   {
    "duration": -276,
    "start_time": "2021-12-30T18:17:35.984Z"
   },
   {
    "duration": -280,
    "start_time": "2021-12-30T18:17:35.989Z"
   },
   {
    "duration": -284,
    "start_time": "2021-12-30T18:17:35.994Z"
   },
   {
    "duration": -307,
    "start_time": "2021-12-30T18:17:36.018Z"
   },
   {
    "duration": -312,
    "start_time": "2021-12-30T18:17:36.024Z"
   },
   {
    "duration": -317,
    "start_time": "2021-12-30T18:17:36.030Z"
   },
   {
    "duration": -322,
    "start_time": "2021-12-30T18:17:36.035Z"
   },
   {
    "duration": -326,
    "start_time": "2021-12-30T18:17:36.040Z"
   },
   {
    "duration": -339,
    "start_time": "2021-12-30T18:17:36.054Z"
   },
   {
    "duration": -343,
    "start_time": "2021-12-30T18:17:36.059Z"
   },
   {
    "duration": -347,
    "start_time": "2021-12-30T18:17:36.064Z"
   },
   {
    "duration": -352,
    "start_time": "2021-12-30T18:17:36.069Z"
   },
   {
    "duration": -355,
    "start_time": "2021-12-30T18:17:36.073Z"
   },
   {
    "duration": -359,
    "start_time": "2021-12-30T18:17:36.078Z"
   },
   {
    "duration": 339,
    "start_time": "2021-12-30T18:20:45.622Z"
   },
   {
    "duration": 50,
    "start_time": "2021-12-30T18:20:53.964Z"
   },
   {
    "duration": 17,
    "start_time": "2021-12-30T18:20:55.104Z"
   },
   {
    "duration": 11,
    "start_time": "2021-12-30T18:20:55.912Z"
   },
   {
    "duration": 32,
    "start_time": "2021-12-30T18:20:56.302Z"
   },
   {
    "duration": 5,
    "start_time": "2021-12-30T18:20:56.483Z"
   },
   {
    "duration": 5,
    "start_time": "2021-12-30T18:20:56.634Z"
   },
   {
    "duration": 5,
    "start_time": "2021-12-30T18:20:56.794Z"
   },
   {
    "duration": 6,
    "start_time": "2021-12-30T18:20:56.962Z"
   },
   {
    "duration": 7,
    "start_time": "2021-12-30T18:20:57.114Z"
   },
   {
    "duration": 5,
    "start_time": "2021-12-30T18:20:57.284Z"
   },
   {
    "duration": 4,
    "start_time": "2021-12-30T18:20:57.433Z"
   },
   {
    "duration": 11,
    "start_time": "2021-12-30T18:20:57.603Z"
   },
   {
    "duration": 5,
    "start_time": "2021-12-30T18:20:57.772Z"
   },
   {
    "duration": 7,
    "start_time": "2021-12-30T18:21:02.892Z"
   },
   {
    "duration": 8,
    "start_time": "2021-12-30T18:21:02.974Z"
   },
   {
    "duration": 12,
    "start_time": "2021-12-30T18:21:03.374Z"
   },
   {
    "duration": 7,
    "start_time": "2021-12-30T18:21:03.568Z"
   },
   {
    "duration": 1211,
    "start_time": "2021-12-30T18:38:06.957Z"
   },
   {
    "duration": 24,
    "start_time": "2021-12-30T18:38:08.170Z"
   },
   {
    "duration": 17,
    "start_time": "2021-12-30T18:38:08.197Z"
   },
   {
    "duration": 61,
    "start_time": "2021-12-30T18:38:08.216Z"
   },
   {
    "duration": 5,
    "start_time": "2021-12-30T18:38:08.279Z"
   },
   {
    "duration": 8,
    "start_time": "2021-12-30T18:38:08.286Z"
   },
   {
    "duration": 5,
    "start_time": "2021-12-30T18:38:08.296Z"
   },
   {
    "duration": 8,
    "start_time": "2021-12-30T18:38:08.303Z"
   },
   {
    "duration": 28,
    "start_time": "2021-12-30T18:38:08.313Z"
   },
   {
    "duration": 6,
    "start_time": "2021-12-30T18:38:08.343Z"
   },
   {
    "duration": 6,
    "start_time": "2021-12-30T18:38:08.351Z"
   },
   {
    "duration": 17,
    "start_time": "2021-12-30T18:38:08.359Z"
   },
   {
    "duration": 6,
    "start_time": "2021-12-30T18:38:08.378Z"
   },
   {
    "duration": 11,
    "start_time": "2021-12-30T18:38:08.386Z"
   },
   {
    "duration": 10,
    "start_time": "2021-12-30T18:38:08.399Z"
   },
   {
    "duration": 11,
    "start_time": "2021-12-30T18:38:08.442Z"
   },
   {
    "duration": 10,
    "start_time": "2021-12-30T18:38:08.455Z"
   },
   {
    "duration": 26,
    "start_time": "2021-12-30T18:38:08.467Z"
   },
   {
    "duration": 6,
    "start_time": "2021-12-30T18:38:08.495Z"
   },
   {
    "duration": 10,
    "start_time": "2021-12-30T18:38:08.502Z"
   },
   {
    "duration": 14,
    "start_time": "2021-12-30T18:38:08.542Z"
   },
   {
    "duration": 16,
    "start_time": "2021-12-30T18:38:08.557Z"
   },
   {
    "duration": 9,
    "start_time": "2021-12-30T18:38:08.574Z"
   },
   {
    "duration": 7,
    "start_time": "2021-12-30T18:38:08.585Z"
   },
   {
    "duration": 51,
    "start_time": "2021-12-30T18:38:08.593Z"
   },
   {
    "duration": 16,
    "start_time": "2021-12-30T18:38:08.646Z"
   },
   {
    "duration": 7,
    "start_time": "2021-12-30T18:38:08.665Z"
   },
   {
    "duration": 9,
    "start_time": "2021-12-30T18:38:08.674Z"
   },
   {
    "duration": 8,
    "start_time": "2021-12-30T18:38:08.685Z"
   },
   {
    "duration": 15,
    "start_time": "2021-12-30T18:38:08.694Z"
   },
   {
    "duration": 9,
    "start_time": "2021-12-30T18:38:08.711Z"
   },
   {
    "duration": 50,
    "start_time": "2021-12-30T18:38:08.722Z"
   },
   {
    "duration": 30,
    "start_time": "2021-12-30T18:38:08.774Z"
   },
   {
    "duration": 49,
    "start_time": "2021-12-30T18:38:08.806Z"
   },
   {
    "duration": 9,
    "start_time": "2021-12-30T18:38:08.857Z"
   },
   {
    "duration": 10,
    "start_time": "2021-12-30T18:38:08.867Z"
   },
   {
    "duration": 18,
    "start_time": "2021-12-30T18:38:08.878Z"
   },
   {
    "duration": 48,
    "start_time": "2021-12-30T18:38:08.897Z"
   },
   {
    "duration": 10,
    "start_time": "2021-12-30T18:38:08.947Z"
   },
   {
    "duration": 3685,
    "start_time": "2021-12-30T18:38:08.959Z"
   },
   {
    "duration": 3034,
    "start_time": "2021-12-30T18:38:12.646Z"
   },
   {
    "duration": 6,
    "start_time": "2021-12-30T18:38:15.682Z"
   },
   {
    "duration": 12,
    "start_time": "2021-12-30T18:38:15.690Z"
   },
   {
    "duration": 7817,
    "start_time": "2021-12-30T18:38:15.703Z"
   },
   {
    "duration": -153,
    "start_time": "2021-12-30T18:38:23.676Z"
   },
   {
    "duration": -167,
    "start_time": "2021-12-30T18:38:23.691Z"
   },
   {
    "duration": -173,
    "start_time": "2021-12-30T18:38:23.698Z"
   },
   {
    "duration": -177,
    "start_time": "2021-12-30T18:38:23.703Z"
   },
   {
    "duration": -182,
    "start_time": "2021-12-30T18:38:23.709Z"
   },
   {
    "duration": -187,
    "start_time": "2021-12-30T18:38:23.715Z"
   },
   {
    "duration": -193,
    "start_time": "2021-12-30T18:38:23.722Z"
   },
   {
    "duration": -199,
    "start_time": "2021-12-30T18:38:23.728Z"
   },
   {
    "duration": -203,
    "start_time": "2021-12-30T18:38:23.733Z"
   },
   {
    "duration": -205,
    "start_time": "2021-12-30T18:38:23.736Z"
   },
   {
    "duration": -208,
    "start_time": "2021-12-30T18:38:23.740Z"
   },
   {
    "duration": -211,
    "start_time": "2021-12-30T18:38:23.744Z"
   },
   {
    "duration": -213,
    "start_time": "2021-12-30T18:38:23.748Z"
   },
   {
    "duration": -217,
    "start_time": "2021-12-30T18:38:23.752Z"
   },
   {
    "duration": 5902,
    "start_time": "2021-12-30T18:51:57.171Z"
   },
   {
    "duration": 49,
    "start_time": "2021-12-30T18:57:53.321Z"
   },
   {
    "duration": 17,
    "start_time": "2021-12-30T18:57:53.789Z"
   },
   {
    "duration": 11,
    "start_time": "2021-12-30T18:57:54.071Z"
   },
   {
    "duration": 29,
    "start_time": "2021-12-30T18:57:54.388Z"
   },
   {
    "duration": 5,
    "start_time": "2021-12-30T18:57:54.547Z"
   },
   {
    "duration": 4,
    "start_time": "2021-12-30T18:57:54.711Z"
   },
   {
    "duration": 5,
    "start_time": "2021-12-30T18:57:54.868Z"
   },
   {
    "duration": 6,
    "start_time": "2021-12-30T18:57:55.328Z"
   },
   {
    "duration": 8,
    "start_time": "2021-12-30T18:57:55.526Z"
   },
   {
    "duration": 5,
    "start_time": "2021-12-30T18:57:55.690Z"
   },
   {
    "duration": 4,
    "start_time": "2021-12-30T18:57:56.121Z"
   },
   {
    "duration": 10,
    "start_time": "2021-12-30T18:57:58.248Z"
   },
   {
    "duration": 5,
    "start_time": "2021-12-30T18:58:13.578Z"
   },
   {
    "duration": 6,
    "start_time": "2021-12-30T18:58:13.771Z"
   },
   {
    "duration": 10,
    "start_time": "2021-12-30T18:58:14.029Z"
   },
   {
    "duration": 8,
    "start_time": "2021-12-30T18:58:14.357Z"
   },
   {
    "duration": 7,
    "start_time": "2021-12-30T18:58:14.713Z"
   },
   {
    "duration": 15,
    "start_time": "2021-12-30T18:58:16.038Z"
   },
   {
    "duration": 5,
    "start_time": "2021-12-30T18:58:16.195Z"
   },
   {
    "duration": 5,
    "start_time": "2021-12-30T18:58:16.637Z"
   },
   {
    "duration": 14,
    "start_time": "2021-12-30T18:58:16.888Z"
   },
   {
    "duration": 16,
    "start_time": "2021-12-30T18:58:17.276Z"
   },
   {
    "duration": 8,
    "start_time": "2021-12-30T18:58:17.828Z"
   },
   {
    "duration": 6,
    "start_time": "2021-12-30T18:58:18.250Z"
   },
   {
    "duration": 10,
    "start_time": "2021-12-30T18:58:18.528Z"
   },
   {
    "duration": 12,
    "start_time": "2021-12-30T18:58:18.979Z"
   },
   {
    "duration": 7,
    "start_time": "2021-12-30T18:58:21.982Z"
   },
   {
    "duration": 5,
    "start_time": "2021-12-30T18:58:24.865Z"
   },
   {
    "duration": 5,
    "start_time": "2021-12-30T18:58:25.392Z"
   },
   {
    "duration": 5,
    "start_time": "2021-12-30T18:58:25.987Z"
   },
   {
    "duration": 5,
    "start_time": "2021-12-30T18:58:26.558Z"
   },
   {
    "duration": 29,
    "start_time": "2021-12-30T18:58:27.177Z"
   },
   {
    "duration": 28,
    "start_time": "2021-12-30T18:58:28.278Z"
   },
   {
    "duration": 17,
    "start_time": "2021-12-30T18:58:28.763Z"
   },
   {
    "duration": 8,
    "start_time": "2021-12-30T18:58:29.318Z"
   },
   {
    "duration": 7,
    "start_time": "2021-12-30T18:58:29.889Z"
   },
   {
    "duration": 16,
    "start_time": "2021-12-30T18:58:30.508Z"
   },
   {
    "duration": 29,
    "start_time": "2021-12-30T18:58:31.147Z"
   },
   {
    "duration": 10,
    "start_time": "2021-12-30T18:58:33.398Z"
   },
   {
    "duration": 3259,
    "start_time": "2021-12-30T18:58:33.942Z"
   },
   {
    "duration": 2713,
    "start_time": "2021-12-30T18:58:39.029Z"
   },
   {
    "duration": 6,
    "start_time": "2021-12-30T18:58:41.744Z"
   },
   {
    "duration": 9,
    "start_time": "2021-12-30T18:58:47.788Z"
   },
   {
    "duration": 6438,
    "start_time": "2021-12-30T18:59:58.126Z"
   },
   {
    "duration": -125,
    "start_time": "2021-12-30T19:00:04.691Z"
   },
   {
    "duration": -129,
    "start_time": "2021-12-30T19:00:04.697Z"
   },
   {
    "duration": -133,
    "start_time": "2021-12-30T19:00:04.702Z"
   },
   {
    "duration": -136,
    "start_time": "2021-12-30T19:00:04.707Z"
   },
   {
    "duration": 6208,
    "start_time": "2021-12-30T19:00:09.182Z"
   },
   {
    "duration": 7196,
    "start_time": "2021-12-30T19:00:23.431Z"
   },
   {
    "duration": -112,
    "start_time": "2021-12-30T19:00:30.741Z"
   },
   {
    "duration": -127,
    "start_time": "2021-12-30T19:00:30.757Z"
   },
   {
    "duration": -131,
    "start_time": "2021-12-30T19:00:30.762Z"
   },
   {
    "duration": 252,
    "start_time": "2021-12-30T19:00:36.949Z"
   },
   {
    "duration": 251,
    "start_time": "2021-12-30T19:00:40.000Z"
   },
   {
    "duration": 1624,
    "start_time": "2021-12-31T07:41:20.739Z"
   },
   {
    "duration": 38,
    "start_time": "2021-12-31T07:41:22.366Z"
   },
   {
    "duration": 17,
    "start_time": "2021-12-31T07:41:22.411Z"
   },
   {
    "duration": 78,
    "start_time": "2021-12-31T07:41:22.431Z"
   },
   {
    "duration": 8,
    "start_time": "2021-12-31T07:41:22.512Z"
   },
   {
    "duration": 44,
    "start_time": "2021-12-31T07:41:22.523Z"
   },
   {
    "duration": 7,
    "start_time": "2021-12-31T07:41:22.570Z"
   },
   {
    "duration": 9,
    "start_time": "2021-12-31T07:41:22.584Z"
   },
   {
    "duration": 9,
    "start_time": "2021-12-31T07:41:22.598Z"
   },
   {
    "duration": 6,
    "start_time": "2021-12-31T07:41:22.610Z"
   },
   {
    "duration": 5,
    "start_time": "2021-12-31T07:41:22.664Z"
   },
   {
    "duration": 14,
    "start_time": "2021-12-31T07:41:22.672Z"
   },
   {
    "duration": 7,
    "start_time": "2021-12-31T07:41:22.689Z"
   },
   {
    "duration": 9,
    "start_time": "2021-12-31T07:41:22.698Z"
   },
   {
    "duration": 55,
    "start_time": "2021-12-31T07:41:22.709Z"
   },
   {
    "duration": 13,
    "start_time": "2021-12-31T07:41:22.767Z"
   },
   {
    "duration": 10,
    "start_time": "2021-12-31T07:41:22.782Z"
   },
   {
    "duration": 24,
    "start_time": "2021-12-31T07:41:22.795Z"
   },
   {
    "duration": 44,
    "start_time": "2021-12-31T07:41:22.821Z"
   },
   {
    "duration": 6,
    "start_time": "2021-12-31T07:41:22.867Z"
   },
   {
    "duration": 21,
    "start_time": "2021-12-31T07:41:22.876Z"
   },
   {
    "duration": 69,
    "start_time": "2021-12-31T07:41:22.899Z"
   },
   {
    "duration": 11,
    "start_time": "2021-12-31T07:41:22.971Z"
   },
   {
    "duration": 8,
    "start_time": "2021-12-31T07:41:22.985Z"
   },
   {
    "duration": 14,
    "start_time": "2021-12-31T07:41:22.996Z"
   },
   {
    "duration": 71,
    "start_time": "2021-12-31T07:41:23.016Z"
   },
   {
    "duration": 9,
    "start_time": "2021-12-31T07:41:23.090Z"
   },
   {
    "duration": 18,
    "start_time": "2021-12-31T07:41:23.102Z"
   },
   {
    "duration": 9,
    "start_time": "2021-12-31T07:41:23.123Z"
   },
   {
    "duration": 30,
    "start_time": "2021-12-31T07:41:23.135Z"
   },
   {
    "duration": 8,
    "start_time": "2021-12-31T07:41:23.167Z"
   },
   {
    "duration": 47,
    "start_time": "2021-12-31T07:41:23.177Z"
   },
   {
    "duration": 70,
    "start_time": "2021-12-31T07:41:23.227Z"
   },
   {
    "duration": 28,
    "start_time": "2021-12-31T07:41:23.299Z"
   },
   {
    "duration": 38,
    "start_time": "2021-12-31T07:41:23.330Z"
   },
   {
    "duration": 12,
    "start_time": "2021-12-31T07:41:23.371Z"
   },
   {
    "duration": 23,
    "start_time": "2021-12-31T07:41:23.385Z"
   },
   {
    "duration": 66,
    "start_time": "2021-12-31T07:41:23.410Z"
   },
   {
    "duration": 14,
    "start_time": "2021-12-31T07:41:23.478Z"
   },
   {
    "duration": 4758,
    "start_time": "2021-12-31T07:41:23.494Z"
   },
   {
    "duration": 3749,
    "start_time": "2021-12-31T07:41:28.263Z"
   },
   {
    "duration": 10,
    "start_time": "2021-12-31T07:41:32.014Z"
   },
   {
    "duration": 38,
    "start_time": "2021-12-31T07:41:32.026Z"
   },
   {
    "duration": 7777,
    "start_time": "2021-12-31T07:41:32.066Z"
   },
   {
    "duration": -249,
    "start_time": "2021-12-31T07:41:40.096Z"
   },
   {
    "duration": -257,
    "start_time": "2021-12-31T07:41:40.106Z"
   },
   {
    "duration": -259,
    "start_time": "2021-12-31T07:41:40.110Z"
   },
   {
    "duration": -261,
    "start_time": "2021-12-31T07:41:40.114Z"
   },
   {
    "duration": -264,
    "start_time": "2021-12-31T07:41:40.118Z"
   },
   {
    "duration": -268,
    "start_time": "2021-12-31T07:41:40.124Z"
   },
   {
    "duration": -271,
    "start_time": "2021-12-31T07:41:40.128Z"
   },
   {
    "duration": -275,
    "start_time": "2021-12-31T07:41:40.134Z"
   },
   {
    "duration": -278,
    "start_time": "2021-12-31T07:41:40.138Z"
   },
   {
    "duration": -281,
    "start_time": "2021-12-31T07:41:40.142Z"
   },
   {
    "duration": -282,
    "start_time": "2021-12-31T07:41:40.145Z"
   },
   {
    "duration": -288,
    "start_time": "2021-12-31T07:41:40.152Z"
   },
   {
    "duration": -290,
    "start_time": "2021-12-31T07:41:40.156Z"
   },
   {
    "duration": 7606,
    "start_time": "2021-12-31T07:42:01.656Z"
   },
   {
    "duration": 91,
    "start_time": "2021-12-31T07:42:14.787Z"
   },
   {
    "duration": 41,
    "start_time": "2021-12-31T07:42:16.618Z"
   },
   {
    "duration": 21,
    "start_time": "2021-12-31T07:42:18.188Z"
   },
   {
    "duration": 65,
    "start_time": "2021-12-31T07:42:19.317Z"
   },
   {
    "duration": 6,
    "start_time": "2021-12-31T07:42:20.035Z"
   },
   {
    "duration": 6,
    "start_time": "2021-12-31T07:42:20.707Z"
   },
   {
    "duration": 7,
    "start_time": "2021-12-31T07:42:21.597Z"
   },
   {
    "duration": 10,
    "start_time": "2021-12-31T07:42:22.347Z"
   },
   {
    "duration": 11,
    "start_time": "2021-12-31T07:42:22.936Z"
   },
   {
    "duration": 7,
    "start_time": "2021-12-31T07:42:23.510Z"
   },
   {
    "duration": 4,
    "start_time": "2021-12-31T07:42:24.007Z"
   },
   {
    "duration": 13,
    "start_time": "2021-12-31T07:42:24.498Z"
   },
   {
    "duration": 7,
    "start_time": "2021-12-31T07:42:24.857Z"
   },
   {
    "duration": 9,
    "start_time": "2021-12-31T07:42:25.267Z"
   },
   {
    "duration": 14,
    "start_time": "2021-12-31T07:42:25.677Z"
   },
   {
    "duration": 11,
    "start_time": "2021-12-31T07:42:26.518Z"
   },
   {
    "duration": 10,
    "start_time": "2021-12-31T07:42:26.890Z"
   },
   {
    "duration": 25,
    "start_time": "2021-12-31T07:42:30.697Z"
   },
   {
    "duration": 7,
    "start_time": "2021-12-31T07:42:31.407Z"
   },
   {
    "duration": 7,
    "start_time": "2021-12-31T07:42:31.986Z"
   },
   {
    "duration": 22,
    "start_time": "2021-12-31T07:42:35.188Z"
   },
   {
    "duration": 23,
    "start_time": "2021-12-31T07:42:57.615Z"
   },
   {
    "duration": 13,
    "start_time": "2021-12-31T07:42:58.117Z"
   },
   {
    "duration": 9,
    "start_time": "2021-12-31T07:42:58.819Z"
   },
   {
    "duration": 15,
    "start_time": "2021-12-31T07:43:02.191Z"
   },
   {
    "duration": 21,
    "start_time": "2021-12-31T07:43:03.415Z"
   },
   {
    "duration": 11,
    "start_time": "2021-12-31T07:43:09.269Z"
   },
   {
    "duration": 7,
    "start_time": "2021-12-31T07:43:47.277Z"
   },
   {
    "duration": 8,
    "start_time": "2021-12-31T07:43:48.027Z"
   },
   {
    "duration": 7,
    "start_time": "2021-12-31T07:43:48.407Z"
   },
   {
    "duration": 7,
    "start_time": "2021-12-31T07:43:48.897Z"
   },
   {
    "duration": 47,
    "start_time": "2021-12-31T07:43:49.365Z"
   },
   {
    "duration": 42,
    "start_time": "2021-12-31T07:43:51.294Z"
   },
   {
    "duration": 29,
    "start_time": "2021-12-31T07:43:52.558Z"
   },
   {
    "duration": 12,
    "start_time": "2021-12-31T07:43:53.567Z"
   },
   {
    "duration": 9,
    "start_time": "2021-12-31T07:43:58.614Z"
   },
   {
    "duration": 25,
    "start_time": "2021-12-31T07:43:59.216Z"
   },
   {
    "duration": 24,
    "start_time": "2021-12-31T07:44:08.847Z"
   },
   {
    "duration": 23,
    "start_time": "2021-12-31T07:44:10.892Z"
   },
   {
    "duration": 45,
    "start_time": "2021-12-31T07:44:11.407Z"
   },
   {
    "duration": 23,
    "start_time": "2021-12-31T07:44:14.287Z"
   },
   {
    "duration": 4776,
    "start_time": "2021-12-31T07:44:15.263Z"
   },
   {
    "duration": 3818,
    "start_time": "2021-12-31T07:44:20.317Z"
   },
   {
    "duration": 24,
    "start_time": "2021-12-31T07:44:24.138Z"
   },
   {
    "duration": 16,
    "start_time": "2021-12-31T07:44:24.166Z"
   },
   {
    "duration": 9,
    "start_time": "2021-12-31T07:44:47.126Z"
   },
   {
    "duration": 8014,
    "start_time": "2021-12-31T07:44:55.807Z"
   },
   {
    "duration": 2192,
    "start_time": "2021-12-31T07:46:46.896Z"
   },
   {
    "duration": 56,
    "start_time": "2021-12-31T07:46:49.092Z"
   },
   {
    "duration": 23,
    "start_time": "2021-12-31T07:46:49.165Z"
   },
   {
    "duration": 100,
    "start_time": "2021-12-31T07:46:49.192Z"
   },
   {
    "duration": 7,
    "start_time": "2021-12-31T07:46:49.295Z"
   },
   {
    "duration": 9,
    "start_time": "2021-12-31T07:46:49.305Z"
   },
   {
    "duration": 9,
    "start_time": "2021-12-31T07:46:49.317Z"
   },
   {
    "duration": 11,
    "start_time": "2021-12-31T07:46:49.364Z"
   },
   {
    "duration": 11,
    "start_time": "2021-12-31T07:46:49.380Z"
   },
   {
    "duration": 7,
    "start_time": "2021-12-31T07:46:49.394Z"
   },
   {
    "duration": 7,
    "start_time": "2021-12-31T07:46:49.404Z"
   },
   {
    "duration": 55,
    "start_time": "2021-12-31T07:46:49.414Z"
   },
   {
    "duration": 8,
    "start_time": "2021-12-31T07:46:49.471Z"
   },
   {
    "duration": 9,
    "start_time": "2021-12-31T07:46:49.482Z"
   },
   {
    "duration": 10,
    "start_time": "2021-12-31T07:46:49.494Z"
   },
   {
    "duration": 57,
    "start_time": "2021-12-31T07:46:49.506Z"
   },
   {
    "duration": 10,
    "start_time": "2021-12-31T07:46:49.566Z"
   },
   {
    "duration": 26,
    "start_time": "2021-12-31T07:46:49.579Z"
   },
   {
    "duration": 7,
    "start_time": "2021-12-31T07:46:49.608Z"
   },
   {
    "duration": 49,
    "start_time": "2021-12-31T07:46:49.617Z"
   },
   {
    "duration": 22,
    "start_time": "2021-12-31T07:46:49.668Z"
   },
   {
    "duration": 24,
    "start_time": "2021-12-31T07:46:49.692Z"
   },
   {
    "duration": 53,
    "start_time": "2021-12-31T07:46:49.719Z"
   },
   {
    "duration": 8,
    "start_time": "2021-12-31T07:46:49.774Z"
   },
   {
    "duration": 15,
    "start_time": "2021-12-31T07:46:49.784Z"
   },
   {
    "duration": 62,
    "start_time": "2021-12-31T07:46:49.801Z"
   },
   {
    "duration": 10,
    "start_time": "2021-12-31T07:46:49.868Z"
   },
   {
    "duration": 7,
    "start_time": "2021-12-31T07:46:49.881Z"
   },
   {
    "duration": 7,
    "start_time": "2021-12-31T07:46:49.890Z"
   },
   {
    "duration": 9,
    "start_time": "2021-12-31T07:46:49.899Z"
   },
   {
    "duration": 53,
    "start_time": "2021-12-31T07:46:49.911Z"
   },
   {
    "duration": 47,
    "start_time": "2021-12-31T07:46:49.967Z"
   },
   {
    "duration": 65,
    "start_time": "2021-12-31T07:46:50.016Z"
   },
   {
    "duration": 28,
    "start_time": "2021-12-31T07:46:50.083Z"
   },
   {
    "duration": 17,
    "start_time": "2021-12-31T07:46:50.113Z"
   },
   {
    "duration": 32,
    "start_time": "2021-12-31T07:46:50.132Z"
   },
   {
    "duration": 24,
    "start_time": "2021-12-31T07:46:50.167Z"
   },
   {
    "duration": 69,
    "start_time": "2021-12-31T07:46:50.194Z"
   },
   {
    "duration": 22,
    "start_time": "2021-12-31T07:46:50.267Z"
   },
   {
    "duration": 4923,
    "start_time": "2021-12-31T07:46:50.292Z"
   },
   {
    "duration": 3697,
    "start_time": "2021-12-31T07:46:55.219Z"
   },
   {
    "duration": 11,
    "start_time": "2021-12-31T07:46:58.919Z"
   },
   {
    "duration": 33,
    "start_time": "2021-12-31T07:46:58.933Z"
   },
   {
    "duration": 6,
    "start_time": "2021-12-31T07:46:58.969Z"
   },
   {
    "duration": 6,
    "start_time": "2021-12-31T07:46:58.978Z"
   },
   {
    "duration": 8,
    "start_time": "2021-12-31T07:46:58.989Z"
   },
   {
    "duration": 7,
    "start_time": "2021-12-31T07:46:59.000Z"
   },
   {
    "duration": 1002,
    "start_time": "2021-12-31T07:46:59.009Z"
   },
   {
    "duration": 21,
    "start_time": "2021-12-31T07:47:00.013Z"
   },
   {
    "duration": 38,
    "start_time": "2021-12-31T07:47:00.037Z"
   },
   {
    "duration": 16,
    "start_time": "2021-12-31T07:47:00.077Z"
   },
   {
    "duration": 9,
    "start_time": "2021-12-31T07:47:00.095Z"
   },
   {
    "duration": 30,
    "start_time": "2021-12-31T07:47:00.107Z"
   },
   {
    "duration": 2367,
    "start_time": "2021-12-31T07:47:00.140Z"
   },
   {
    "duration": 22,
    "start_time": "2021-12-31T07:47:02.510Z"
   },
   {
    "duration": 464,
    "start_time": "2021-12-31T07:47:02.535Z"
   },
   {
    "duration": 71,
    "start_time": "2021-12-31T07:47:10.963Z"
   },
   {
    "duration": 26,
    "start_time": "2021-12-31T07:47:11.473Z"
   },
   {
    "duration": 15,
    "start_time": "2021-12-31T07:47:12.204Z"
   },
   {
    "duration": 48,
    "start_time": "2021-12-31T07:47:12.574Z"
   },
   {
    "duration": 6,
    "start_time": "2021-12-31T07:47:12.733Z"
   },
   {
    "duration": 7,
    "start_time": "2021-12-31T07:47:12.953Z"
   },
   {
    "duration": 6,
    "start_time": "2021-12-31T07:47:13.162Z"
   },
   {
    "duration": 10,
    "start_time": "2021-12-31T07:47:13.301Z"
   },
   {
    "duration": 9,
    "start_time": "2021-12-31T07:47:13.763Z"
   },
   {
    "duration": 8,
    "start_time": "2021-12-31T07:47:13.944Z"
   },
   {
    "duration": 5,
    "start_time": "2021-12-31T07:47:17.261Z"
   },
   {
    "duration": 16,
    "start_time": "2021-12-31T07:47:17.423Z"
   },
   {
    "duration": 7,
    "start_time": "2021-12-31T07:47:17.613Z"
   },
   {
    "duration": 8,
    "start_time": "2021-12-31T07:47:17.781Z"
   },
   {
    "duration": 14,
    "start_time": "2021-12-31T07:47:17.933Z"
   },
   {
    "duration": 12,
    "start_time": "2021-12-31T07:47:18.263Z"
   },
   {
    "duration": 10,
    "start_time": "2021-12-31T07:47:18.434Z"
   },
   {
    "duration": 24,
    "start_time": "2021-12-31T07:47:19.564Z"
   },
   {
    "duration": 7,
    "start_time": "2021-12-31T07:47:19.714Z"
   },
   {
    "duration": 7,
    "start_time": "2021-12-31T07:47:19.891Z"
   },
   {
    "duration": 32,
    "start_time": "2021-12-31T07:47:20.062Z"
   },
   {
    "duration": 26,
    "start_time": "2021-12-31T07:47:20.212Z"
   },
   {
    "duration": 13,
    "start_time": "2021-12-31T07:47:20.483Z"
   },
   {
    "duration": 10,
    "start_time": "2021-12-31T07:47:20.683Z"
   },
   {
    "duration": 16,
    "start_time": "2021-12-31T07:47:21.144Z"
   },
   {
    "duration": 19,
    "start_time": "2021-12-31T07:47:21.393Z"
   },
   {
    "duration": 11,
    "start_time": "2021-12-31T07:47:22.251Z"
   },
   {
    "duration": 8,
    "start_time": "2021-12-31T07:47:23.314Z"
   },
   {
    "duration": 8,
    "start_time": "2021-12-31T07:47:23.463Z"
   },
   {
    "duration": 6,
    "start_time": "2021-12-31T07:47:23.863Z"
   },
   {
    "duration": 8,
    "start_time": "2021-12-31T07:47:24.044Z"
   },
   {
    "duration": 50,
    "start_time": "2021-12-31T07:47:24.207Z"
   },
   {
    "duration": 44,
    "start_time": "2021-12-31T07:47:24.534Z"
   },
   {
    "duration": 29,
    "start_time": "2021-12-31T07:47:24.889Z"
   },
   {
    "duration": 13,
    "start_time": "2021-12-31T07:47:25.193Z"
   },
   {
    "duration": 10,
    "start_time": "2021-12-31T07:47:25.351Z"
   },
   {
    "duration": 35,
    "start_time": "2021-12-31T07:47:25.494Z"
   },
   {
    "duration": 60,
    "start_time": "2021-12-31T07:47:25.684Z"
   },
   {
    "duration": 22,
    "start_time": "2021-12-31T07:47:26.654Z"
   },
   {
    "duration": 5025,
    "start_time": "2021-12-31T07:47:26.823Z"
   },
   {
    "duration": 3998,
    "start_time": "2021-12-31T07:47:31.851Z"
   },
   {
    "duration": 10,
    "start_time": "2021-12-31T07:47:35.863Z"
   },
   {
    "duration": 14,
    "start_time": "2021-12-31T07:47:35.876Z"
   },
   {
    "duration": 22,
    "start_time": "2021-12-31T07:47:35.892Z"
   },
   {
    "duration": 16,
    "start_time": "2021-12-31T07:47:35.917Z"
   },
   {
    "duration": 27,
    "start_time": "2021-12-31T07:47:35.935Z"
   },
   {
    "duration": 39,
    "start_time": "2021-12-31T07:47:35.965Z"
   },
   {
    "duration": 47,
    "start_time": "2021-12-31T07:47:36.007Z"
   },
   {
    "duration": 18,
    "start_time": "2021-12-31T07:47:36.057Z"
   },
   {
    "duration": 15,
    "start_time": "2021-12-31T07:47:36.078Z"
   },
   {
    "duration": 19,
    "start_time": "2021-12-31T07:47:36.095Z"
   },
   {
    "duration": 35,
    "start_time": "2021-12-31T07:47:36.116Z"
   },
   {
    "duration": 14,
    "start_time": "2021-12-31T07:47:36.153Z"
   },
   {
    "duration": 2302,
    "start_time": "2021-12-31T07:47:36.170Z"
   },
   {
    "duration": 23,
    "start_time": "2021-12-31T07:47:38.474Z"
   },
   {
    "duration": 1206,
    "start_time": "2021-12-31T07:47:38.499Z"
   },
   {
    "duration": 7,
    "start_time": "2021-12-31T07:54:36.232Z"
   },
   {
    "duration": 7,
    "start_time": "2021-12-31T07:54:37.251Z"
   },
   {
    "duration": 7,
    "start_time": "2021-12-31T07:54:43.283Z"
   },
   {
    "duration": 7,
    "start_time": "2021-12-31T07:54:44.533Z"
   },
   {
    "duration": 30,
    "start_time": "2021-12-31T07:54:57.313Z"
   },
   {
    "duration": 18,
    "start_time": "2021-12-31T07:54:58.594Z"
   },
   {
    "duration": 12,
    "start_time": "2021-12-31T07:55:01.884Z"
   },
   {
    "duration": 8,
    "start_time": "2021-12-31T07:55:04.124Z"
   },
   {
    "duration": 14,
    "start_time": "2021-12-31T07:55:08.982Z"
   },
   {
    "duration": 18,
    "start_time": "2021-12-31T07:55:11.624Z"
   },
   {
    "duration": 68,
    "start_time": "2021-12-31T07:55:32.054Z"
   },
   {
    "duration": 28,
    "start_time": "2021-12-31T07:55:32.733Z"
   },
   {
    "duration": 14,
    "start_time": "2021-12-31T07:55:34.590Z"
   },
   {
    "duration": 49,
    "start_time": "2021-12-31T07:55:36.055Z"
   },
   {
    "duration": 6,
    "start_time": "2021-12-31T07:55:37.083Z"
   },
   {
    "duration": 7,
    "start_time": "2021-12-31T07:55:37.853Z"
   },
   {
    "duration": 6,
    "start_time": "2021-12-31T07:55:39.204Z"
   },
   {
    "duration": 6,
    "start_time": "2021-12-31T07:56:14.763Z"
   },
   {
    "duration": 7,
    "start_time": "2021-12-31T07:56:28.390Z"
   },
   {
    "duration": 7,
    "start_time": "2021-12-31T07:56:37.874Z"
   },
   {
    "duration": 11,
    "start_time": "2021-12-31T07:56:38.105Z"
   },
   {
    "duration": 13,
    "start_time": "2021-12-31T07:56:38.994Z"
   },
   {
    "duration": 8,
    "start_time": "2021-12-31T07:56:40.194Z"
   },
   {
    "duration": 6,
    "start_time": "2021-12-31T07:56:45.137Z"
   },
   {
    "duration": 19,
    "start_time": "2021-12-31T07:56:46.804Z"
   },
   {
    "duration": 9,
    "start_time": "2021-12-31T07:56:48.293Z"
   },
   {
    "duration": 9,
    "start_time": "2021-12-31T07:56:54.924Z"
   },
   {
    "duration": 9,
    "start_time": "2021-12-31T07:56:55.834Z"
   },
   {
    "duration": 11,
    "start_time": "2021-12-31T07:56:58.003Z"
   },
   {
    "duration": 10,
    "start_time": "2021-12-31T07:57:38.257Z"
   },
   {
    "duration": 68,
    "start_time": "2021-12-31T07:57:45.333Z"
   },
   {
    "duration": 28,
    "start_time": "2021-12-31T07:57:45.748Z"
   },
   {
    "duration": 15,
    "start_time": "2021-12-31T07:57:46.224Z"
   },
   {
    "duration": 49,
    "start_time": "2021-12-31T07:57:46.673Z"
   },
   {
    "duration": 6,
    "start_time": "2021-12-31T07:57:46.943Z"
   },
   {
    "duration": 7,
    "start_time": "2021-12-31T07:57:47.263Z"
   },
   {
    "duration": 7,
    "start_time": "2021-12-31T07:57:47.701Z"
   },
   {
    "duration": 12,
    "start_time": "2021-12-31T07:57:48.464Z"
   },
   {
    "duration": 9,
    "start_time": "2021-12-31T07:57:48.731Z"
   },
   {
    "duration": 8,
    "start_time": "2021-12-31T07:57:49.014Z"
   },
   {
    "duration": 7,
    "start_time": "2021-12-31T07:57:49.254Z"
   },
   {
    "duration": 13,
    "start_time": "2021-12-31T07:57:49.453Z"
   },
   {
    "duration": 7,
    "start_time": "2021-12-31T07:57:49.694Z"
   },
   {
    "duration": 10,
    "start_time": "2021-12-31T07:57:49.951Z"
   },
   {
    "duration": 10,
    "start_time": "2021-12-31T07:57:50.294Z"
   },
   {
    "duration": 11,
    "start_time": "2021-12-31T07:57:50.731Z"
   },
   {
    "duration": 11,
    "start_time": "2021-12-31T07:57:50.934Z"
   },
   {
    "duration": 24,
    "start_time": "2021-12-31T07:57:52.997Z"
   },
   {
    "duration": 8,
    "start_time": "2021-12-31T07:57:53.203Z"
   },
   {
    "duration": 7,
    "start_time": "2021-12-31T07:57:53.403Z"
   },
   {
    "duration": 20,
    "start_time": "2021-12-31T07:57:53.597Z"
   },
   {
    "duration": 23,
    "start_time": "2021-12-31T07:57:53.773Z"
   },
   {
    "duration": 16,
    "start_time": "2021-12-31T07:57:54.157Z"
   },
   {
    "duration": 9,
    "start_time": "2021-12-31T07:57:54.638Z"
   },
   {
    "duration": 13,
    "start_time": "2021-12-31T07:57:55.014Z"
   },
   {
    "duration": 18,
    "start_time": "2021-12-31T07:57:55.296Z"
   },
   {
    "duration": 19,
    "start_time": "2021-12-31T07:57:56.654Z"
   },
   {
    "duration": 7,
    "start_time": "2021-12-31T07:57:58.044Z"
   },
   {
    "duration": 7,
    "start_time": "2021-12-31T07:57:58.293Z"
   },
   {
    "duration": 7,
    "start_time": "2021-12-31T07:57:58.503Z"
   },
   {
    "duration": 8,
    "start_time": "2021-12-31T07:57:58.773Z"
   },
   {
    "duration": 50,
    "start_time": "2021-12-31T07:57:58.993Z"
   },
   {
    "duration": 45,
    "start_time": "2021-12-31T07:57:59.506Z"
   },
   {
    "duration": 33,
    "start_time": "2021-12-31T07:57:59.774Z"
   },
   {
    "duration": 12,
    "start_time": "2021-12-31T07:57:59.996Z"
   },
   {
    "duration": 8,
    "start_time": "2021-12-31T07:58:00.221Z"
   },
   {
    "duration": 24,
    "start_time": "2021-12-31T07:58:00.433Z"
   },
   {
    "duration": 45,
    "start_time": "2021-12-31T07:58:00.682Z"
   },
   {
    "duration": 18,
    "start_time": "2021-12-31T07:58:01.803Z"
   },
   {
    "duration": 5028,
    "start_time": "2021-12-31T07:58:02.023Z"
   },
   {
    "duration": 3880,
    "start_time": "2021-12-31T07:58:07.062Z"
   },
   {
    "duration": 23,
    "start_time": "2021-12-31T07:58:10.946Z"
   },
   {
    "duration": 7,
    "start_time": "2021-12-31T07:58:47.173Z"
   },
   {
    "duration": 6,
    "start_time": "2021-12-31T07:58:48.265Z"
   },
   {
    "duration": 7,
    "start_time": "2021-12-31T07:58:59.523Z"
   },
   {
    "duration": 7,
    "start_time": "2021-12-31T07:59:04.163Z"
   },
   {
    "duration": 6,
    "start_time": "2021-12-31T07:59:06.473Z"
   },
   {
    "duration": 41,
    "start_time": "2021-12-31T07:59:08.164Z"
   },
   {
    "duration": 22,
    "start_time": "2021-12-31T07:59:09.134Z"
   },
   {
    "duration": 17,
    "start_time": "2021-12-31T08:03:09.831Z"
   },
   {
    "duration": 6,
    "start_time": "2021-12-31T08:03:10.443Z"
   },
   {
    "duration": 7,
    "start_time": "2021-12-31T08:03:10.813Z"
   },
   {
    "duration": 8,
    "start_time": "2021-12-31T08:03:11.384Z"
   },
   {
    "duration": 2308,
    "start_time": "2021-12-31T08:03:12.133Z"
   },
   {
    "duration": 26,
    "start_time": "2021-12-31T08:03:14.444Z"
   },
   {
    "duration": 301,
    "start_time": "2021-12-31T08:03:18.101Z"
   },
   {
    "duration": 5,
    "start_time": "2021-12-31T08:05:18.651Z"
   },
   {
    "duration": 4,
    "start_time": "2021-12-31T08:05:20.945Z"
   },
   {
    "duration": 23,
    "start_time": "2021-12-31T08:05:24.915Z"
   },
   {
    "duration": 14,
    "start_time": "2021-12-31T08:06:12.631Z"
   },
   {
    "duration": 21,
    "start_time": "2021-12-31T08:06:24.493Z"
   },
   {
    "duration": 18,
    "start_time": "2021-12-31T08:06:33.391Z"
   },
   {
    "duration": 443,
    "start_time": "2022-01-01T09:18:08.612Z"
   },
   {
    "duration": 383,
    "start_time": "2022-01-01T09:18:16.104Z"
   },
   {
    "duration": 368,
    "start_time": "2022-01-01T09:19:03.142Z"
   },
   {
    "duration": 376,
    "start_time": "2022-01-03T09:14:10.252Z"
   },
   {
    "duration": 376,
    "start_time": "2022-01-03T09:14:51.315Z"
   },
   {
    "duration": 1581,
    "start_time": "2022-01-03T09:15:02.605Z"
   },
   {
    "duration": 38,
    "start_time": "2022-01-03T09:15:04.189Z"
   },
   {
    "duration": 35,
    "start_time": "2022-01-03T09:15:04.231Z"
   },
   {
    "duration": 51,
    "start_time": "2022-01-03T09:15:04.269Z"
   },
   {
    "duration": 6,
    "start_time": "2022-01-03T09:15:04.323Z"
   },
   {
    "duration": 8,
    "start_time": "2022-01-03T09:15:04.364Z"
   },
   {
    "duration": 10,
    "start_time": "2022-01-03T09:15:04.374Z"
   },
   {
    "duration": 16,
    "start_time": "2022-01-03T09:15:04.386Z"
   },
   {
    "duration": 10,
    "start_time": "2022-01-03T09:15:04.406Z"
   },
   {
    "duration": 44,
    "start_time": "2022-01-03T09:15:04.420Z"
   },
   {
    "duration": 5,
    "start_time": "2022-01-03T09:15:04.467Z"
   },
   {
    "duration": 20,
    "start_time": "2022-01-03T09:15:04.474Z"
   },
   {
    "duration": 7,
    "start_time": "2022-01-03T09:15:04.497Z"
   },
   {
    "duration": 10,
    "start_time": "2022-01-03T09:15:04.506Z"
   },
   {
    "duration": 47,
    "start_time": "2022-01-03T09:15:04.518Z"
   },
   {
    "duration": 15,
    "start_time": "2022-01-03T09:15:04.567Z"
   },
   {
    "duration": 9,
    "start_time": "2022-01-03T09:15:04.584Z"
   },
   {
    "duration": 27,
    "start_time": "2022-01-03T09:15:04.595Z"
   },
   {
    "duration": 43,
    "start_time": "2022-01-03T09:15:04.625Z"
   },
   {
    "duration": 9,
    "start_time": "2022-01-03T09:15:04.671Z"
   },
   {
    "duration": 18,
    "start_time": "2022-01-03T09:15:04.682Z"
   },
   {
    "duration": 25,
    "start_time": "2022-01-03T09:15:04.703Z"
   },
   {
    "duration": 51,
    "start_time": "2022-01-03T09:15:04.730Z"
   },
   {
    "duration": 23,
    "start_time": "2022-01-03T09:15:04.783Z"
   },
   {
    "duration": 56,
    "start_time": "2022-01-03T09:15:04.808Z"
   },
   {
    "duration": 14,
    "start_time": "2022-01-03T09:15:04.867Z"
   },
   {
    "duration": 10,
    "start_time": "2022-01-03T09:15:04.887Z"
   },
   {
    "duration": 7,
    "start_time": "2022-01-03T09:15:04.900Z"
   },
   {
    "duration": 7,
    "start_time": "2022-01-03T09:15:04.909Z"
   },
   {
    "duration": 48,
    "start_time": "2022-01-03T09:15:04.918Z"
   },
   {
    "duration": 7,
    "start_time": "2022-01-03T09:15:04.968Z"
   },
   {
    "duration": 50,
    "start_time": "2022-01-03T09:15:04.977Z"
   },
   {
    "duration": 74,
    "start_time": "2022-01-03T09:15:05.029Z"
   },
   {
    "duration": 28,
    "start_time": "2022-01-03T09:15:05.106Z"
   },
   {
    "duration": 36,
    "start_time": "2022-01-03T09:15:05.136Z"
   },
   {
    "duration": 12,
    "start_time": "2022-01-03T09:15:05.174Z"
   },
   {
    "duration": 26,
    "start_time": "2022-01-03T09:15:05.189Z"
   },
   {
    "duration": 74,
    "start_time": "2022-01-03T09:15:05.217Z"
   },
   {
    "duration": 15,
    "start_time": "2022-01-03T09:15:05.293Z"
   },
   {
    "duration": 4607,
    "start_time": "2022-01-03T09:15:05.311Z"
   },
   {
    "duration": 3542,
    "start_time": "2022-01-03T09:15:09.921Z"
   },
   {
    "duration": 10,
    "start_time": "2022-01-03T09:15:13.465Z"
   },
   {
    "duration": 7,
    "start_time": "2022-01-03T09:15:13.478Z"
   },
   {
    "duration": 12,
    "start_time": "2022-01-03T09:15:13.487Z"
   },
   {
    "duration": 6,
    "start_time": "2022-01-03T09:15:13.502Z"
   },
   {
    "duration": 52,
    "start_time": "2022-01-03T09:15:13.511Z"
   },
   {
    "duration": 6,
    "start_time": "2022-01-03T09:15:13.566Z"
   },
   {
    "duration": 916,
    "start_time": "2022-01-03T09:15:13.574Z"
   },
   {
    "duration": 22,
    "start_time": "2022-01-03T09:15:14.494Z"
   },
   {
    "duration": 53,
    "start_time": "2022-01-03T09:15:14.518Z"
   },
   {
    "duration": 6,
    "start_time": "2022-01-03T09:15:14.573Z"
   },
   {
    "duration": 6,
    "start_time": "2022-01-03T09:15:14.581Z"
   },
   {
    "duration": 9,
    "start_time": "2022-01-03T09:15:14.590Z"
   },
   {
    "duration": 2285,
    "start_time": "2022-01-03T09:15:14.601Z"
   },
   {
    "duration": 23,
    "start_time": "2022-01-03T09:15:16.888Z"
   },
   {
    "duration": 4,
    "start_time": "2022-01-03T09:15:16.914Z"
   },
   {
    "duration": 459,
    "start_time": "2022-01-03T09:15:16.920Z"
   },
   {
    "duration": -4282,
    "start_time": "2022-01-03T09:15:21.663Z"
   },
   {
    "duration": -4286,
    "start_time": "2022-01-03T09:15:21.669Z"
   },
   {
    "duration": -4290,
    "start_time": "2022-01-03T09:15:21.674Z"
   },
   {
    "duration": 18,
    "start_time": "2022-01-03T09:15:41.654Z"
   },
   {
    "duration": 13,
    "start_time": "2022-01-03T09:15:56.714Z"
   },
   {
    "duration": 22,
    "start_time": "2022-01-03T09:15:58.994Z"
   },
   {
    "duration": 18,
    "start_time": "2022-01-03T09:16:01.145Z"
   },
   {
    "duration": 66,
    "start_time": "2022-01-03T09:16:16.842Z"
   },
   {
    "duration": 28,
    "start_time": "2022-01-03T09:16:17.134Z"
   },
   {
    "duration": 15,
    "start_time": "2022-01-03T09:16:17.994Z"
   },
   {
    "duration": 49,
    "start_time": "2022-01-03T09:16:18.432Z"
   },
   {
    "duration": 6,
    "start_time": "2022-01-03T09:16:18.654Z"
   },
   {
    "duration": 8,
    "start_time": "2022-01-03T09:16:18.855Z"
   },
   {
    "duration": 7,
    "start_time": "2022-01-03T09:16:19.024Z"
   },
   {
    "duration": 9,
    "start_time": "2022-01-03T09:16:19.474Z"
   },
   {
    "duration": 9,
    "start_time": "2022-01-03T09:16:19.634Z"
   },
   {
    "duration": 8,
    "start_time": "2022-01-03T09:16:29.064Z"
   },
   {
    "duration": 7,
    "start_time": "2022-01-03T09:16:29.074Z"
   },
   {
    "duration": 13,
    "start_time": "2022-01-03T09:16:29.224Z"
   },
   {
    "duration": 8,
    "start_time": "2022-01-03T09:16:29.434Z"
   },
   {
    "duration": 9,
    "start_time": "2022-01-03T09:16:29.594Z"
   },
   {
    "duration": 10,
    "start_time": "2022-01-03T09:16:29.814Z"
   },
   {
    "duration": 11,
    "start_time": "2022-01-03T09:16:31.944Z"
   },
   {
    "duration": 9,
    "start_time": "2022-01-03T09:16:33.434Z"
   },
   {
    "duration": 26,
    "start_time": "2022-01-03T09:16:37.523Z"
   },
   {
    "duration": 7,
    "start_time": "2022-01-03T09:16:39.914Z"
   },
   {
    "duration": 7,
    "start_time": "2022-01-03T09:16:53.904Z"
   },
   {
    "duration": 13,
    "start_time": "2022-01-03T09:16:54.582Z"
   },
   {
    "duration": 20,
    "start_time": "2022-01-03T09:19:01.334Z"
   },
   {
    "duration": 21,
    "start_time": "2022-01-03T09:19:02.208Z"
   },
   {
    "duration": 7,
    "start_time": "2022-01-03T09:19:16.244Z"
   },
   {
    "duration": 6,
    "start_time": "2022-01-03T09:19:17.338Z"
   },
   {
    "duration": 18,
    "start_time": "2022-01-03T09:19:19.478Z"
   },
   {
    "duration": 65,
    "start_time": "2022-01-03T09:19:33.304Z"
   },
   {
    "duration": 28,
    "start_time": "2022-01-03T09:19:33.644Z"
   },
   {
    "duration": 17,
    "start_time": "2022-01-03T09:19:34.134Z"
   },
   {
    "duration": 49,
    "start_time": "2022-01-03T09:19:34.542Z"
   },
   {
    "duration": 7,
    "start_time": "2022-01-03T09:19:34.743Z"
   },
   {
    "duration": 8,
    "start_time": "2022-01-03T09:19:34.934Z"
   },
   {
    "duration": 9,
    "start_time": "2022-01-03T09:19:35.174Z"
   },
   {
    "duration": 9,
    "start_time": "2022-01-03T09:19:35.394Z"
   },
   {
    "duration": 9,
    "start_time": "2022-01-03T09:19:35.624Z"
   },
   {
    "duration": 8,
    "start_time": "2022-01-03T09:19:35.834Z"
   },
   {
    "duration": 5,
    "start_time": "2022-01-03T09:19:36.044Z"
   },
   {
    "duration": 13,
    "start_time": "2022-01-03T09:19:40.474Z"
   },
   {
    "duration": 8,
    "start_time": "2022-01-03T09:19:40.671Z"
   },
   {
    "duration": 9,
    "start_time": "2022-01-03T09:19:40.844Z"
   },
   {
    "duration": 10,
    "start_time": "2022-01-03T09:19:41.024Z"
   },
   {
    "duration": 12,
    "start_time": "2022-01-03T09:19:41.383Z"
   },
   {
    "duration": 10,
    "start_time": "2022-01-03T09:19:41.554Z"
   },
   {
    "duration": 24,
    "start_time": "2022-01-03T09:19:42.735Z"
   },
   {
    "duration": 7,
    "start_time": "2022-01-03T09:19:42.884Z"
   },
   {
    "duration": 6,
    "start_time": "2022-01-03T09:19:43.075Z"
   },
   {
    "duration": 28,
    "start_time": "2022-01-03T09:19:44.194Z"
   },
   {
    "duration": 23,
    "start_time": "2022-01-03T09:19:44.415Z"
   },
   {
    "duration": 29,
    "start_time": "2022-01-03T09:19:44.633Z"
   },
   {
    "duration": 12,
    "start_time": "2022-01-03T09:19:44.834Z"
   },
   {
    "duration": 9,
    "start_time": "2022-01-03T09:19:45.134Z"
   },
   {
    "duration": 10,
    "start_time": "2022-01-03T09:19:47.184Z"
   },
   {
    "duration": 8,
    "start_time": "2022-01-03T09:19:48.914Z"
   },
   {
    "duration": 7,
    "start_time": "2022-01-03T09:19:49.048Z"
   },
   {
    "duration": 7,
    "start_time": "2022-01-03T09:19:49.914Z"
   },
   {
    "duration": 9,
    "start_time": "2022-01-03T09:19:50.704Z"
   },
   {
    "duration": 50,
    "start_time": "2022-01-03T09:19:51.174Z"
   },
   {
    "duration": 46,
    "start_time": "2022-01-03T09:19:52.135Z"
   },
   {
    "duration": 29,
    "start_time": "2022-01-03T09:19:52.525Z"
   },
   {
    "duration": 12,
    "start_time": "2022-01-03T09:19:52.815Z"
   },
   {
    "duration": 9,
    "start_time": "2022-01-03T09:19:53.034Z"
   },
   {
    "duration": 21,
    "start_time": "2022-01-03T09:19:53.502Z"
   },
   {
    "duration": 42,
    "start_time": "2022-01-03T09:19:55.874Z"
   },
   {
    "duration": 15,
    "start_time": "2022-01-03T09:20:03.097Z"
   },
   {
    "duration": 4580,
    "start_time": "2022-01-03T09:20:03.114Z"
   },
   {
    "duration": 3646,
    "start_time": "2022-01-03T09:20:07.698Z"
   },
   {
    "duration": 23,
    "start_time": "2022-01-03T09:20:11.347Z"
   },
   {
    "duration": 15,
    "start_time": "2022-01-03T09:20:11.372Z"
   },
   {
    "duration": 47,
    "start_time": "2022-01-03T09:20:11.390Z"
   },
   {
    "duration": 18,
    "start_time": "2022-01-03T09:20:11.439Z"
   },
   {
    "duration": 16,
    "start_time": "2022-01-03T09:20:11.460Z"
   },
   {
    "duration": 7,
    "start_time": "2022-01-03T09:20:11.479Z"
   },
   {
    "duration": 49,
    "start_time": "2022-01-03T09:20:11.488Z"
   },
   {
    "duration": 29,
    "start_time": "2022-01-03T09:20:11.539Z"
   },
   {
    "duration": 15,
    "start_time": "2022-01-03T09:20:11.570Z"
   },
   {
    "duration": 20,
    "start_time": "2022-01-03T09:20:11.587Z"
   },
   {
    "duration": 33,
    "start_time": "2022-01-03T09:20:11.609Z"
   },
   {
    "duration": 10,
    "start_time": "2022-01-03T09:20:11.645Z"
   },
   {
    "duration": 2223,
    "start_time": "2022-01-03T09:20:11.657Z"
   },
   {
    "duration": 22,
    "start_time": "2022-01-03T09:20:13.882Z"
   },
   {
    "duration": 4,
    "start_time": "2022-01-03T09:20:13.907Z"
   },
   {
    "duration": 20,
    "start_time": "2022-01-03T09:20:13.913Z"
   },
   {
    "duration": 14,
    "start_time": "2022-01-03T09:20:15.554Z"
   },
   {
    "duration": 21,
    "start_time": "2022-01-03T09:20:16.882Z"
   },
   {
    "duration": 16,
    "start_time": "2022-01-03T09:20:18.122Z"
   },
   {
    "duration": 1639,
    "start_time": "2022-01-03T09:20:35.021Z"
   },
   {
    "duration": 37,
    "start_time": "2022-01-03T09:20:36.663Z"
   },
   {
    "duration": 14,
    "start_time": "2022-01-03T09:20:36.706Z"
   },
   {
    "duration": 75,
    "start_time": "2022-01-03T09:20:36.723Z"
   },
   {
    "duration": 5,
    "start_time": "2022-01-03T09:20:36.801Z"
   },
   {
    "duration": 7,
    "start_time": "2022-01-03T09:20:36.809Z"
   },
   {
    "duration": 6,
    "start_time": "2022-01-03T09:20:36.820Z"
   },
   {
    "duration": 8,
    "start_time": "2022-01-03T09:20:36.864Z"
   },
   {
    "duration": 10,
    "start_time": "2022-01-03T09:20:36.874Z"
   },
   {
    "duration": 6,
    "start_time": "2022-01-03T09:20:36.886Z"
   },
   {
    "duration": 5,
    "start_time": "2022-01-03T09:20:36.894Z"
   },
   {
    "duration": 15,
    "start_time": "2022-01-03T09:20:36.901Z"
   },
   {
    "duration": 48,
    "start_time": "2022-01-03T09:20:36.918Z"
   },
   {
    "duration": 9,
    "start_time": "2022-01-03T09:20:36.968Z"
   },
   {
    "duration": 11,
    "start_time": "2022-01-03T09:20:36.980Z"
   },
   {
    "duration": 11,
    "start_time": "2022-01-03T09:20:36.993Z"
   },
   {
    "duration": 9,
    "start_time": "2022-01-03T09:20:37.007Z"
   },
   {
    "duration": 24,
    "start_time": "2022-01-03T09:20:37.063Z"
   },
   {
    "duration": 7,
    "start_time": "2022-01-03T09:20:37.089Z"
   },
   {
    "duration": 9,
    "start_time": "2022-01-03T09:20:37.098Z"
   },
   {
    "duration": 69,
    "start_time": "2022-01-03T09:20:37.110Z"
   },
   {
    "duration": 20,
    "start_time": "2022-01-03T09:20:37.185Z"
   },
   {
    "duration": 22,
    "start_time": "2022-01-03T09:20:37.208Z"
   },
   {
    "duration": 12,
    "start_time": "2022-01-03T09:20:37.262Z"
   },
   {
    "duration": 7,
    "start_time": "2022-01-03T09:20:37.276Z"
   },
   {
    "duration": 9,
    "start_time": "2022-01-03T09:20:37.286Z"
   },
   {
    "duration": 7,
    "start_time": "2022-01-03T09:20:37.297Z"
   },
   {
    "duration": 7,
    "start_time": "2022-01-03T09:20:37.306Z"
   },
   {
    "duration": 6,
    "start_time": "2022-01-03T09:20:37.363Z"
   },
   {
    "duration": 10,
    "start_time": "2022-01-03T09:20:37.372Z"
   },
   {
    "duration": 85,
    "start_time": "2022-01-03T09:20:37.384Z"
   },
   {
    "duration": 42,
    "start_time": "2022-01-03T09:20:37.471Z"
   },
   {
    "duration": 48,
    "start_time": "2022-01-03T09:20:37.516Z"
   },
   {
    "duration": 11,
    "start_time": "2022-01-03T09:20:37.567Z"
   },
   {
    "duration": 10,
    "start_time": "2022-01-03T09:20:37.580Z"
   },
   {
    "duration": 22,
    "start_time": "2022-01-03T09:20:37.592Z"
   },
   {
    "duration": 81,
    "start_time": "2022-01-03T09:20:37.617Z"
   },
   {
    "duration": 15,
    "start_time": "2022-01-03T09:20:37.701Z"
   },
   {
    "duration": 4605,
    "start_time": "2022-01-03T09:20:37.718Z"
   },
   {
    "duration": 3718,
    "start_time": "2022-01-03T09:20:42.326Z"
   },
   {
    "duration": 10,
    "start_time": "2022-01-03T09:20:46.062Z"
   },
   {
    "duration": 7,
    "start_time": "2022-01-03T09:20:46.074Z"
   },
   {
    "duration": 5,
    "start_time": "2022-01-03T09:20:46.084Z"
   },
   {
    "duration": 6,
    "start_time": "2022-01-03T09:20:46.092Z"
   },
   {
    "duration": 7,
    "start_time": "2022-01-03T09:20:46.101Z"
   },
   {
    "duration": 54,
    "start_time": "2022-01-03T09:20:46.110Z"
   },
   {
    "duration": 883,
    "start_time": "2022-01-03T09:20:46.167Z"
   },
   {
    "duration": 24,
    "start_time": "2022-01-03T09:20:47.053Z"
   },
   {
    "duration": 17,
    "start_time": "2022-01-03T09:20:47.079Z"
   },
   {
    "duration": 5,
    "start_time": "2022-01-03T09:20:47.098Z"
   },
   {
    "duration": 8,
    "start_time": "2022-01-03T09:20:47.106Z"
   },
   {
    "duration": 55,
    "start_time": "2022-01-03T09:20:47.117Z"
   },
   {
    "duration": 2290,
    "start_time": "2022-01-03T09:20:47.175Z"
   },
   {
    "duration": 23,
    "start_time": "2022-01-03T09:20:49.467Z"
   },
   {
    "duration": 8,
    "start_time": "2022-01-03T09:20:49.493Z"
   },
   {
    "duration": 21,
    "start_time": "2022-01-03T09:20:49.503Z"
   },
   {
    "duration": 41,
    "start_time": "2022-01-03T09:20:49.527Z"
   },
   {
    "duration": 22,
    "start_time": "2022-01-03T09:20:49.571Z"
   },
   {
    "duration": 15,
    "start_time": "2022-01-03T09:20:49.596Z"
   },
   {
    "duration": 100,
    "start_time": "2022-01-03T09:21:35.192Z"
   },
   {
    "duration": 28,
    "start_time": "2022-01-03T09:21:36.002Z"
   },
   {
    "duration": 16,
    "start_time": "2022-01-03T09:21:37.461Z"
   },
   {
    "duration": 47,
    "start_time": "2022-01-03T09:21:38.573Z"
   },
   {
    "duration": 6,
    "start_time": "2022-01-03T09:21:39.111Z"
   },
   {
    "duration": 7,
    "start_time": "2022-01-03T09:21:40.491Z"
   },
   {
    "duration": 7,
    "start_time": "2022-01-03T09:21:42.189Z"
   },
   {
    "duration": 9,
    "start_time": "2022-01-03T09:21:43.331Z"
   },
   {
    "duration": 11,
    "start_time": "2022-01-03T09:21:48.821Z"
   },
   {
    "duration": 7,
    "start_time": "2022-01-03T09:21:49.312Z"
   },
   {
    "duration": 5,
    "start_time": "2022-01-03T09:21:49.821Z"
   },
   {
    "duration": 13,
    "start_time": "2022-01-03T09:21:50.681Z"
   },
   {
    "duration": 7,
    "start_time": "2022-01-03T09:21:52.061Z"
   },
   {
    "duration": 9,
    "start_time": "2022-01-03T09:21:53.799Z"
   },
   {
    "duration": 10,
    "start_time": "2022-01-03T09:21:55.473Z"
   },
   {
    "duration": 12,
    "start_time": "2022-01-03T09:21:57.201Z"
   },
   {
    "duration": 10,
    "start_time": "2022-01-03T09:21:57.632Z"
   },
   {
    "duration": 24,
    "start_time": "2022-01-03T09:22:04.852Z"
   },
   {
    "duration": 7,
    "start_time": "2022-01-03T09:22:05.411Z"
   },
   {
    "duration": 6,
    "start_time": "2022-01-03T09:22:05.912Z"
   },
   {
    "duration": 19,
    "start_time": "2022-01-03T09:22:06.910Z"
   },
   {
    "duration": 20,
    "start_time": "2022-01-03T09:22:09.522Z"
   },
   {
    "duration": 24,
    "start_time": "2022-01-03T09:22:09.782Z"
   },
   {
    "duration": 12,
    "start_time": "2022-01-03T09:22:10.202Z"
   },
   {
    "duration": 8,
    "start_time": "2022-01-03T09:22:10.543Z"
   },
   {
    "duration": 10,
    "start_time": "2022-01-03T09:22:13.532Z"
   },
   {
    "duration": 7,
    "start_time": "2022-01-03T09:22:42.871Z"
   },
   {
    "duration": 7,
    "start_time": "2022-01-03T09:22:43.392Z"
   },
   {
    "duration": 6,
    "start_time": "2022-01-03T09:22:44.044Z"
   },
   {
    "duration": 8,
    "start_time": "2022-01-03T09:22:44.591Z"
   },
   {
    "duration": 49,
    "start_time": "2022-01-03T09:22:45.289Z"
   },
   {
    "duration": 43,
    "start_time": "2022-01-03T09:22:46.561Z"
   },
   {
    "duration": 28,
    "start_time": "2022-01-03T09:22:46.942Z"
   },
   {
    "duration": 12,
    "start_time": "2022-01-03T09:22:47.359Z"
   },
   {
    "duration": 9,
    "start_time": "2022-01-03T09:22:48.041Z"
   },
   {
    "duration": 24,
    "start_time": "2022-01-03T09:22:48.581Z"
   },
   {
    "duration": 46,
    "start_time": "2022-01-03T09:22:49.171Z"
   },
   {
    "duration": 14,
    "start_time": "2022-01-03T09:22:52.822Z"
   },
   {
    "duration": 4754,
    "start_time": "2022-01-03T09:22:53.541Z"
   },
   {
    "duration": 20,
    "start_time": "2022-01-03T09:23:50.612Z"
   },
   {
    "duration": 10,
    "start_time": "2022-01-03T09:25:06.441Z"
   },
   {
    "duration": 1585,
    "start_time": "2022-01-03T09:26:12.971Z"
   },
   {
    "duration": 37,
    "start_time": "2022-01-03T09:26:14.559Z"
   },
   {
    "duration": 15,
    "start_time": "2022-01-03T09:26:14.599Z"
   },
   {
    "duration": 71,
    "start_time": "2022-01-03T09:26:14.616Z"
   },
   {
    "duration": 5,
    "start_time": "2022-01-03T09:26:14.690Z"
   },
   {
    "duration": 6,
    "start_time": "2022-01-03T09:26:14.698Z"
   },
   {
    "duration": 6,
    "start_time": "2022-01-03T09:26:14.707Z"
   },
   {
    "duration": 8,
    "start_time": "2022-01-03T09:26:14.716Z"
   },
   {
    "duration": 10,
    "start_time": "2022-01-03T09:26:14.762Z"
   },
   {
    "duration": 6,
    "start_time": "2022-01-03T09:26:14.775Z"
   },
   {
    "duration": 5,
    "start_time": "2022-01-03T09:26:14.784Z"
   },
   {
    "duration": 14,
    "start_time": "2022-01-03T09:26:14.791Z"
   },
   {
    "duration": 6,
    "start_time": "2022-01-03T09:26:14.808Z"
   },
   {
    "duration": 8,
    "start_time": "2022-01-03T09:26:14.864Z"
   },
   {
    "duration": 10,
    "start_time": "2022-01-03T09:26:14.874Z"
   },
   {
    "duration": 12,
    "start_time": "2022-01-03T09:26:14.886Z"
   },
   {
    "duration": 8,
    "start_time": "2022-01-03T09:26:14.901Z"
   },
   {
    "duration": 66,
    "start_time": "2022-01-03T09:26:14.911Z"
   },
   {
    "duration": 8,
    "start_time": "2022-01-03T09:26:14.980Z"
   },
   {
    "duration": 7,
    "start_time": "2022-01-03T09:26:14.991Z"
   },
   {
    "duration": 12,
    "start_time": "2022-01-03T09:26:15.001Z"
   },
   {
    "duration": 17,
    "start_time": "2022-01-03T09:26:15.064Z"
   },
   {
    "duration": 26,
    "start_time": "2022-01-03T09:26:15.089Z"
   },
   {
    "duration": 61,
    "start_time": "2022-01-03T09:26:15.120Z"
   },
   {
    "duration": 27,
    "start_time": "2022-01-03T09:26:15.184Z"
   },
   {
    "duration": 55,
    "start_time": "2022-01-03T09:26:15.214Z"
   },
   {
    "duration": 10,
    "start_time": "2022-01-03T09:26:15.272Z"
   },
   {
    "duration": 6,
    "start_time": "2022-01-03T09:26:15.284Z"
   },
   {
    "duration": 7,
    "start_time": "2022-01-03T09:26:15.292Z"
   },
   {
    "duration": 6,
    "start_time": "2022-01-03T09:26:15.301Z"
   },
   {
    "duration": 59,
    "start_time": "2022-01-03T09:26:15.310Z"
   },
   {
    "duration": 52,
    "start_time": "2022-01-03T09:26:15.371Z"
   },
   {
    "duration": 72,
    "start_time": "2022-01-03T09:26:15.425Z"
   },
   {
    "duration": 29,
    "start_time": "2022-01-03T09:26:15.500Z"
   },
   {
    "duration": 33,
    "start_time": "2022-01-03T09:26:15.531Z"
   },
   {
    "duration": 10,
    "start_time": "2022-01-03T09:26:15.566Z"
   },
   {
    "duration": 23,
    "start_time": "2022-01-03T09:26:15.578Z"
   },
   {
    "duration": 70,
    "start_time": "2022-01-03T09:26:15.604Z"
   },
   {
    "duration": 14,
    "start_time": "2022-01-03T09:26:15.676Z"
   },
   {
    "duration": 4380,
    "start_time": "2022-01-03T09:26:15.692Z"
   },
   {
    "duration": 3527,
    "start_time": "2022-01-03T09:26:20.075Z"
   },
   {
    "duration": 10,
    "start_time": "2022-01-03T09:26:23.604Z"
   },
   {
    "duration": 8,
    "start_time": "2022-01-03T09:26:23.616Z"
   },
   {
    "duration": 39,
    "start_time": "2022-01-03T09:26:23.626Z"
   },
   {
    "duration": 9,
    "start_time": "2022-01-03T09:26:23.668Z"
   },
   {
    "duration": 8,
    "start_time": "2022-01-03T09:26:23.679Z"
   },
   {
    "duration": 6,
    "start_time": "2022-01-03T09:26:23.690Z"
   },
   {
    "duration": 939,
    "start_time": "2022-01-03T09:26:23.698Z"
   },
   {
    "duration": 35,
    "start_time": "2022-01-03T09:26:24.640Z"
   },
   {
    "duration": 17,
    "start_time": "2022-01-03T09:26:24.677Z"
   },
   {
    "duration": 5,
    "start_time": "2022-01-03T09:26:24.697Z"
   },
   {
    "duration": 8,
    "start_time": "2022-01-03T09:26:24.704Z"
   },
   {
    "duration": 9,
    "start_time": "2022-01-03T09:26:24.715Z"
   },
   {
    "duration": 2324,
    "start_time": "2022-01-03T09:26:24.763Z"
   },
   {
    "duration": 23,
    "start_time": "2022-01-03T09:26:27.089Z"
   },
   {
    "duration": 4,
    "start_time": "2022-01-03T09:26:27.115Z"
   },
   {
    "duration": 44,
    "start_time": "2022-01-03T09:26:27.121Z"
   },
   {
    "duration": 13,
    "start_time": "2022-01-03T09:26:27.168Z"
   },
   {
    "duration": 22,
    "start_time": "2022-01-03T09:26:27.183Z"
   },
   {
    "duration": 17,
    "start_time": "2022-01-03T09:26:27.207Z"
   },
   {
    "duration": 66,
    "start_time": "2022-01-03T09:26:38.274Z"
   },
   {
    "duration": 28,
    "start_time": "2022-01-03T09:26:38.595Z"
   },
   {
    "duration": 15,
    "start_time": "2022-01-03T09:26:39.356Z"
   },
   {
    "duration": 49,
    "start_time": "2022-01-03T09:26:40.090Z"
   },
   {
    "duration": 6,
    "start_time": "2022-01-03T09:26:40.325Z"
   },
   {
    "duration": 7,
    "start_time": "2022-01-03T09:26:40.553Z"
   },
   {
    "duration": 7,
    "start_time": "2022-01-03T09:26:40.751Z"
   },
   {
    "duration": 9,
    "start_time": "2022-01-03T09:26:40.933Z"
   },
   {
    "duration": 1654,
    "start_time": "2022-01-03T09:28:41.043Z"
   },
   {
    "duration": 37,
    "start_time": "2022-01-03T09:28:42.700Z"
   },
   {
    "duration": 26,
    "start_time": "2022-01-03T09:28:42.740Z"
   },
   {
    "duration": 47,
    "start_time": "2022-01-03T09:28:42.769Z"
   },
   {
    "duration": 5,
    "start_time": "2022-01-03T09:28:42.819Z"
   },
   {
    "duration": 37,
    "start_time": "2022-01-03T09:28:42.827Z"
   },
   {
    "duration": 7,
    "start_time": "2022-01-03T09:28:42.866Z"
   },
   {
    "duration": 9,
    "start_time": "2022-01-03T09:28:42.875Z"
   },
   {
    "duration": 9,
    "start_time": "2022-01-03T09:28:42.888Z"
   },
   {
    "duration": 7,
    "start_time": "2022-01-03T09:28:42.900Z"
   },
   {
    "duration": 53,
    "start_time": "2022-01-03T09:28:42.910Z"
   },
   {
    "duration": 16,
    "start_time": "2022-01-03T09:28:42.965Z"
   },
   {
    "duration": 7,
    "start_time": "2022-01-03T09:28:42.983Z"
   },
   {
    "duration": 9,
    "start_time": "2022-01-03T09:28:42.993Z"
   },
   {
    "duration": 11,
    "start_time": "2022-01-03T09:28:43.005Z"
   },
   {
    "duration": 54,
    "start_time": "2022-01-03T09:28:43.019Z"
   },
   {
    "duration": 12,
    "start_time": "2022-01-03T09:28:43.075Z"
   },
   {
    "duration": 26,
    "start_time": "2022-01-03T09:28:43.090Z"
   },
   {
    "duration": 50,
    "start_time": "2022-01-03T09:28:43.118Z"
   },
   {
    "duration": 8,
    "start_time": "2022-01-03T09:28:43.171Z"
   },
   {
    "duration": 9,
    "start_time": "2022-01-03T09:28:43.182Z"
   },
   {
    "duration": 25,
    "start_time": "2022-01-03T09:28:43.194Z"
   },
   {
    "duration": 21,
    "start_time": "2022-01-03T09:28:43.264Z"
   },
   {
    "duration": 25,
    "start_time": "2022-01-03T09:28:43.287Z"
   },
   {
    "duration": 53,
    "start_time": "2022-01-03T09:28:43.314Z"
   },
   {
    "duration": 10,
    "start_time": "2022-01-03T09:28:43.369Z"
   },
   {
    "duration": 6,
    "start_time": "2022-01-03T09:28:43.385Z"
   },
   {
    "duration": 7,
    "start_time": "2022-01-03T09:28:43.395Z"
   },
   {
    "duration": 6,
    "start_time": "2022-01-03T09:28:43.404Z"
   },
   {
    "duration": 52,
    "start_time": "2022-01-03T09:28:43.412Z"
   },
   {
    "duration": 47,
    "start_time": "2022-01-03T09:28:43.467Z"
   },
   {
    "duration": 72,
    "start_time": "2022-01-03T09:28:43.517Z"
   },
   {
    "duration": 28,
    "start_time": "2022-01-03T09:28:43.591Z"
   },
   {
    "duration": 11,
    "start_time": "2022-01-03T09:28:43.622Z"
   },
   {
    "duration": 29,
    "start_time": "2022-01-03T09:28:43.636Z"
   },
   {
    "duration": 22,
    "start_time": "2022-01-03T09:28:43.668Z"
   },
   {
    "duration": 81,
    "start_time": "2022-01-03T09:28:43.693Z"
   },
   {
    "duration": 14,
    "start_time": "2022-01-03T09:28:43.776Z"
   },
   {
    "duration": 4425,
    "start_time": "2022-01-03T09:28:43.792Z"
   },
   {
    "duration": 3919,
    "start_time": "2022-01-03T09:28:48.220Z"
   },
   {
    "duration": 28,
    "start_time": "2022-01-03T09:28:52.142Z"
   },
   {
    "duration": 7,
    "start_time": "2022-01-03T09:28:52.172Z"
   },
   {
    "duration": 8,
    "start_time": "2022-01-03T09:28:52.181Z"
   },
   {
    "duration": 9,
    "start_time": "2022-01-03T09:28:52.192Z"
   },
   {
    "duration": 9,
    "start_time": "2022-01-03T09:28:52.204Z"
   },
   {
    "duration": 52,
    "start_time": "2022-01-03T09:28:52.216Z"
   },
   {
    "duration": 1094,
    "start_time": "2022-01-03T09:28:52.271Z"
   },
   {
    "duration": 30,
    "start_time": "2022-01-03T09:28:53.369Z"
   },
   {
    "duration": 23,
    "start_time": "2022-01-03T09:28:53.402Z"
   },
   {
    "duration": 37,
    "start_time": "2022-01-03T09:28:53.427Z"
   },
   {
    "duration": 8,
    "start_time": "2022-01-03T09:28:53.467Z"
   },
   {
    "duration": 13,
    "start_time": "2022-01-03T09:28:53.478Z"
   },
   {
    "duration": 2805,
    "start_time": "2022-01-03T09:28:53.494Z"
   },
   {
    "duration": 23,
    "start_time": "2022-01-03T09:28:56.302Z"
   },
   {
    "duration": 5,
    "start_time": "2022-01-03T09:28:56.328Z"
   },
   {
    "duration": 17,
    "start_time": "2022-01-03T09:28:56.363Z"
   },
   {
    "duration": 13,
    "start_time": "2022-01-03T09:28:56.382Z"
   },
   {
    "duration": 24,
    "start_time": "2022-01-03T09:28:56.397Z"
   },
   {
    "duration": 50,
    "start_time": "2022-01-03T09:28:56.424Z"
   },
   {
    "duration": 336,
    "start_time": "2022-01-04T12:20:11.747Z"
   },
   {
    "duration": 1579,
    "start_time": "2022-01-04T12:20:29.515Z"
   },
   {
    "duration": 37,
    "start_time": "2022-01-04T12:20:31.097Z"
   },
   {
    "duration": 15,
    "start_time": "2022-01-04T12:20:31.137Z"
   },
   {
    "duration": 5,
    "start_time": "2022-01-04T12:20:31.155Z"
   },
   {
    "duration": 72,
    "start_time": "2022-01-04T12:20:31.162Z"
   },
   {
    "duration": 8,
    "start_time": "2022-01-04T12:20:31.236Z"
   },
   {
    "duration": 6,
    "start_time": "2022-01-04T12:20:31.247Z"
   },
   {
    "duration": 6,
    "start_time": "2022-01-04T12:20:31.255Z"
   },
   {
    "duration": 12,
    "start_time": "2022-01-04T12:20:31.265Z"
   },
   {
    "duration": 50,
    "start_time": "2022-01-04T12:20:31.281Z"
   },
   {
    "duration": 12,
    "start_time": "2022-01-04T12:20:31.333Z"
   },
   {
    "duration": 9,
    "start_time": "2022-01-04T12:20:31.348Z"
   },
   {
    "duration": 18,
    "start_time": "2022-01-04T12:20:31.359Z"
   },
   {
    "duration": 12,
    "start_time": "2022-01-04T12:20:31.379Z"
   },
   {
    "duration": 31,
    "start_time": "2022-01-04T12:20:31.393Z"
   },
   {
    "duration": 18,
    "start_time": "2022-01-04T12:20:31.427Z"
   },
   {
    "duration": 19,
    "start_time": "2022-01-04T12:20:31.447Z"
   },
   {
    "duration": 10,
    "start_time": "2022-01-04T12:20:31.469Z"
   },
   {
    "duration": 44,
    "start_time": "2022-01-04T12:20:31.481Z"
   },
   {
    "duration": 5,
    "start_time": "2022-01-04T12:20:31.528Z"
   },
   {
    "duration": 12,
    "start_time": "2022-01-04T12:20:31.536Z"
   },
   {
    "duration": 11,
    "start_time": "2022-01-04T12:20:31.550Z"
   },
   {
    "duration": 29,
    "start_time": "2022-01-04T12:20:31.563Z"
   },
   {
    "duration": 45,
    "start_time": "2022-01-04T12:20:31.594Z"
   },
   {
    "duration": 23,
    "start_time": "2022-01-04T12:20:31.641Z"
   },
   {
    "duration": 11,
    "start_time": "2022-01-04T12:20:31.667Z"
   },
   {
    "duration": 9,
    "start_time": "2022-01-04T12:20:31.723Z"
   },
   {
    "duration": 9,
    "start_time": "2022-01-04T12:20:31.735Z"
   },
   {
    "duration": 8,
    "start_time": "2022-01-04T12:20:31.747Z"
   },
   {
    "duration": 22,
    "start_time": "2022-01-04T12:20:31.757Z"
   },
   {
    "duration": 30,
    "start_time": "2022-01-04T12:20:31.781Z"
   },
   {
    "duration": 66,
    "start_time": "2022-01-04T12:20:31.814Z"
   },
   {
    "duration": 42,
    "start_time": "2022-01-04T12:20:31.882Z"
   },
   {
    "duration": 27,
    "start_time": "2022-01-04T12:20:31.927Z"
   },
   {
    "duration": 22,
    "start_time": "2022-01-04T12:20:31.956Z"
   },
   {
    "duration": 22,
    "start_time": "2022-01-04T12:20:31.980Z"
   },
   {
    "duration": 36,
    "start_time": "2022-01-04T12:20:32.005Z"
   },
   {
    "duration": 38,
    "start_time": "2022-01-04T12:20:32.043Z"
   },
   {
    "duration": 14,
    "start_time": "2022-01-04T12:20:32.084Z"
   },
   {
    "duration": 5005,
    "start_time": "2022-01-04T12:20:32.100Z"
   },
   {
    "duration": 3574,
    "start_time": "2022-01-04T12:20:37.108Z"
   },
   {
    "duration": 9,
    "start_time": "2022-01-04T12:20:40.685Z"
   },
   {
    "duration": 29,
    "start_time": "2022-01-04T12:20:40.697Z"
   },
   {
    "duration": 7,
    "start_time": "2022-01-04T12:20:40.728Z"
   },
   {
    "duration": 5,
    "start_time": "2022-01-04T12:20:40.737Z"
   },
   {
    "duration": 10,
    "start_time": "2022-01-04T12:20:40.745Z"
   },
   {
    "duration": 6,
    "start_time": "2022-01-04T12:20:40.758Z"
   },
   {
    "duration": 909,
    "start_time": "2022-01-04T12:20:40.766Z"
   },
   {
    "duration": 20,
    "start_time": "2022-01-04T12:20:41.677Z"
   },
   {
    "duration": 34,
    "start_time": "2022-01-04T12:20:41.699Z"
   },
   {
    "duration": 5,
    "start_time": "2022-01-04T12:20:41.736Z"
   },
   {
    "duration": 11,
    "start_time": "2022-01-04T12:20:41.743Z"
   },
   {
    "duration": 8,
    "start_time": "2022-01-04T12:20:41.757Z"
   },
   {
    "duration": 2376,
    "start_time": "2022-01-04T12:20:41.769Z"
   },
   {
    "duration": 28,
    "start_time": "2022-01-04T12:20:44.148Z"
   },
   {
    "duration": 3,
    "start_time": "2022-01-04T12:20:44.178Z"
   },
   {
    "duration": 22,
    "start_time": "2022-01-04T12:20:44.184Z"
   },
   {
    "duration": 17,
    "start_time": "2022-01-04T12:20:44.208Z"
   },
   {
    "duration": 25,
    "start_time": "2022-01-04T12:20:44.227Z"
   },
   {
    "duration": 16,
    "start_time": "2022-01-04T12:20:44.254Z"
   },
   {
    "duration": 549,
    "start_time": "2022-01-04T12:21:57.812Z"
   },
   {
    "duration": 6,
    "start_time": "2022-01-04T12:22:01.389Z"
   },
   {
    "duration": 6,
    "start_time": "2022-01-04T12:22:09.164Z"
   },
   {
    "duration": 1566,
    "start_time": "2022-01-04T12:23:06.420Z"
   },
   {
    "duration": 35,
    "start_time": "2022-01-04T12:23:07.989Z"
   },
   {
    "duration": 14,
    "start_time": "2022-01-04T12:23:08.027Z"
   },
   {
    "duration": 4,
    "start_time": "2022-01-04T12:23:08.044Z"
   },
   {
    "duration": 73,
    "start_time": "2022-01-04T12:23:08.050Z"
   },
   {
    "duration": 6,
    "start_time": "2022-01-04T12:23:08.125Z"
   },
   {
    "duration": 17,
    "start_time": "2022-01-04T12:23:08.133Z"
   },
   {
    "duration": 6,
    "start_time": "2022-01-04T12:23:08.154Z"
   },
   {
    "duration": 9,
    "start_time": "2022-01-04T12:23:08.165Z"
   },
   {
    "duration": 46,
    "start_time": "2022-01-04T12:23:08.177Z"
   },
   {
    "duration": 7,
    "start_time": "2022-01-04T12:23:08.226Z"
   },
   {
    "duration": 8,
    "start_time": "2022-01-04T12:23:08.236Z"
   },
   {
    "duration": 16,
    "start_time": "2022-01-04T12:23:08.246Z"
   },
   {
    "duration": 6,
    "start_time": "2022-01-04T12:23:08.265Z"
   },
   {
    "duration": 10,
    "start_time": "2022-01-04T12:23:08.273Z"
   },
   {
    "duration": 46,
    "start_time": "2022-01-04T12:23:08.285Z"
   },
   {
    "duration": 15,
    "start_time": "2022-01-04T12:23:08.333Z"
   },
   {
    "duration": 8,
    "start_time": "2022-01-04T12:23:08.351Z"
   },
   {
    "duration": 22,
    "start_time": "2022-01-04T12:23:08.362Z"
   },
   {
    "duration": 6,
    "start_time": "2022-01-04T12:23:08.423Z"
   },
   {
    "duration": 6,
    "start_time": "2022-01-04T12:23:08.431Z"
   },
   {
    "duration": 8,
    "start_time": "2022-01-04T12:23:08.439Z"
   },
   {
    "duration": 18,
    "start_time": "2022-01-04T12:23:08.450Z"
   },
   {
    "duration": 63,
    "start_time": "2022-01-04T12:23:08.471Z"
   },
   {
    "duration": 23,
    "start_time": "2022-01-04T12:23:08.536Z"
   },
   {
    "duration": 10,
    "start_time": "2022-01-04T12:23:08.561Z"
   },
   {
    "duration": 52,
    "start_time": "2022-01-04T12:23:08.576Z"
   },
   {
    "duration": 5,
    "start_time": "2022-01-04T12:23:08.632Z"
   },
   {
    "duration": 6,
    "start_time": "2022-01-04T12:23:08.639Z"
   },
   {
    "duration": 6,
    "start_time": "2022-01-04T12:23:08.648Z"
   },
   {
    "duration": 7,
    "start_time": "2022-01-04T12:23:08.656Z"
   },
   {
    "duration": 103,
    "start_time": "2022-01-04T12:23:08.665Z"
   },
   {
    "duration": 58,
    "start_time": "2022-01-04T12:23:08.770Z"
   },
   {
    "duration": 27,
    "start_time": "2022-01-04T12:23:08.831Z"
   },
   {
    "duration": 14,
    "start_time": "2022-01-04T12:23:08.860Z"
   },
   {
    "duration": 10,
    "start_time": "2022-01-04T12:23:08.876Z"
   },
   {
    "duration": 53,
    "start_time": "2022-01-04T12:23:08.888Z"
   },
   {
    "duration": 40,
    "start_time": "2022-01-04T12:23:08.943Z"
   },
   {
    "duration": 14,
    "start_time": "2022-01-04T12:23:08.985Z"
   },
   {
    "duration": 4647,
    "start_time": "2022-01-04T12:23:09.001Z"
   },
   {
    "duration": 4218,
    "start_time": "2022-01-04T12:23:13.651Z"
   },
   {
    "duration": 11,
    "start_time": "2022-01-04T12:23:17.872Z"
   },
   {
    "duration": 5,
    "start_time": "2022-01-04T12:23:17.886Z"
   },
   {
    "duration": 32,
    "start_time": "2022-01-04T12:23:17.893Z"
   },
   {
    "duration": 5,
    "start_time": "2022-01-04T12:23:17.928Z"
   },
   {
    "duration": 6,
    "start_time": "2022-01-04T12:23:17.936Z"
   },
   {
    "duration": 6,
    "start_time": "2022-01-04T12:23:17.944Z"
   },
   {
    "duration": 1010,
    "start_time": "2022-01-04T12:23:17.952Z"
   },
   {
    "duration": 18,
    "start_time": "2022-01-04T12:23:18.964Z"
   },
   {
    "duration": 40,
    "start_time": "2022-01-04T12:23:18.984Z"
   },
   {
    "duration": 5,
    "start_time": "2022-01-04T12:23:19.027Z"
   },
   {
    "duration": 11,
    "start_time": "2022-01-04T12:23:19.034Z"
   },
   {
    "duration": 9,
    "start_time": "2022-01-04T12:23:19.047Z"
   },
   {
    "duration": 2182,
    "start_time": "2022-01-04T12:23:19.058Z"
   },
   {
    "duration": 22,
    "start_time": "2022-01-04T12:23:21.242Z"
   },
   {
    "duration": 6,
    "start_time": "2022-01-04T12:23:21.266Z"
   },
   {
    "duration": 20,
    "start_time": "2022-01-04T12:23:21.274Z"
   },
   {
    "duration": 12,
    "start_time": "2022-01-04T12:23:21.324Z"
   },
   {
    "duration": 20,
    "start_time": "2022-01-04T12:23:21.339Z"
   },
   {
    "duration": 15,
    "start_time": "2022-01-04T12:23:21.361Z"
   },
   {
    "duration": 5,
    "start_time": "2022-01-04T12:23:52.111Z"
   },
   {
    "duration": 5,
    "start_time": "2022-01-04T12:23:58.188Z"
   },
   {
    "duration": 1573,
    "start_time": "2022-01-04T12:24:12.223Z"
   },
   {
    "duration": 36,
    "start_time": "2022-01-04T12:24:13.799Z"
   },
   {
    "duration": 28,
    "start_time": "2022-01-04T12:24:13.837Z"
   },
   {
    "duration": 38,
    "start_time": "2022-01-04T12:24:13.868Z"
   },
   {
    "duration": 73,
    "start_time": "2022-01-04T12:24:13.908Z"
   },
   {
    "duration": 6,
    "start_time": "2022-01-04T12:24:13.983Z"
   },
   {
    "duration": 15,
    "start_time": "2022-01-04T12:24:13.991Z"
   },
   {
    "duration": 26,
    "start_time": "2022-01-04T12:24:14.010Z"
   },
   {
    "duration": 15,
    "start_time": "2022-01-04T12:24:14.039Z"
   },
   {
    "duration": 24,
    "start_time": "2022-01-04T12:24:14.056Z"
   },
   {
    "duration": 14,
    "start_time": "2022-01-04T12:24:14.082Z"
   },
   {
    "duration": 31,
    "start_time": "2022-01-04T12:24:14.098Z"
   },
   {
    "duration": 28,
    "start_time": "2022-01-04T12:24:14.131Z"
   },
   {
    "duration": 29,
    "start_time": "2022-01-04T12:24:14.161Z"
   },
   {
    "duration": 16,
    "start_time": "2022-01-04T12:24:14.192Z"
   },
   {
    "duration": 25,
    "start_time": "2022-01-04T12:24:14.210Z"
   },
   {
    "duration": 25,
    "start_time": "2022-01-04T12:24:14.237Z"
   },
   {
    "duration": 15,
    "start_time": "2022-01-04T12:24:14.264Z"
   },
   {
    "duration": 36,
    "start_time": "2022-01-04T12:24:14.281Z"
   },
   {
    "duration": 6,
    "start_time": "2022-01-04T12:24:14.319Z"
   },
   {
    "duration": 15,
    "start_time": "2022-01-04T12:24:14.327Z"
   },
   {
    "duration": 27,
    "start_time": "2022-01-04T12:24:14.344Z"
   },
   {
    "duration": 27,
    "start_time": "2022-01-04T12:24:14.376Z"
   },
   {
    "duration": 27,
    "start_time": "2022-01-04T12:24:14.407Z"
   },
   {
    "duration": 22,
    "start_time": "2022-01-04T12:24:14.436Z"
   },
   {
    "duration": 9,
    "start_time": "2022-01-04T12:24:14.461Z"
   },
   {
    "duration": 24,
    "start_time": "2022-01-04T12:24:14.472Z"
   },
   {
    "duration": 7,
    "start_time": "2022-01-04T12:24:14.524Z"
   },
   {
    "duration": 14,
    "start_time": "2022-01-04T12:24:14.533Z"
   },
   {
    "duration": 10,
    "start_time": "2022-01-04T12:24:14.550Z"
   },
   {
    "duration": 28,
    "start_time": "2022-01-04T12:24:14.562Z"
   },
   {
    "duration": 60,
    "start_time": "2022-01-04T12:24:14.592Z"
   },
   {
    "duration": 41,
    "start_time": "2022-01-04T12:24:14.655Z"
   },
   {
    "duration": 44,
    "start_time": "2022-01-04T12:24:14.699Z"
   },
   {
    "duration": 40,
    "start_time": "2022-01-04T12:24:14.745Z"
   },
   {
    "duration": 23,
    "start_time": "2022-01-04T12:24:14.787Z"
   },
   {
    "duration": 40,
    "start_time": "2022-01-04T12:24:14.812Z"
   },
   {
    "duration": 39,
    "start_time": "2022-01-04T12:24:14.855Z"
   },
   {
    "duration": 14,
    "start_time": "2022-01-04T12:24:14.896Z"
   },
   {
    "duration": 4590,
    "start_time": "2022-01-04T12:24:14.924Z"
   },
   {
    "duration": 3756,
    "start_time": "2022-01-04T12:24:19.524Z"
   },
   {
    "duration": 10,
    "start_time": "2022-01-04T12:24:23.283Z"
   },
   {
    "duration": 29,
    "start_time": "2022-01-04T12:24:23.296Z"
   },
   {
    "duration": 7,
    "start_time": "2022-01-04T12:24:23.328Z"
   },
   {
    "duration": 7,
    "start_time": "2022-01-04T12:24:23.338Z"
   },
   {
    "duration": 9,
    "start_time": "2022-01-04T12:24:23.348Z"
   },
   {
    "duration": 63,
    "start_time": "2022-01-04T12:24:23.360Z"
   },
   {
    "duration": 830,
    "start_time": "2022-01-04T12:24:23.426Z"
   },
   {
    "duration": 21,
    "start_time": "2022-01-04T12:24:24.259Z"
   },
   {
    "duration": 43,
    "start_time": "2022-01-04T12:24:24.282Z"
   },
   {
    "duration": 5,
    "start_time": "2022-01-04T12:24:24.328Z"
   },
   {
    "duration": 7,
    "start_time": "2022-01-04T12:24:24.335Z"
   },
   {
    "duration": 9,
    "start_time": "2022-01-04T12:24:24.344Z"
   },
   {
    "duration": 2298,
    "start_time": "2022-01-04T12:24:24.356Z"
   },
   {
    "duration": 24,
    "start_time": "2022-01-04T12:24:26.657Z"
   },
   {
    "duration": 8,
    "start_time": "2022-01-04T12:24:26.684Z"
   },
   {
    "duration": 44,
    "start_time": "2022-01-04T12:24:26.695Z"
   },
   {
    "duration": 13,
    "start_time": "2022-01-04T12:24:26.742Z"
   },
   {
    "duration": 23,
    "start_time": "2022-01-04T12:24:26.757Z"
   },
   {
    "duration": 57,
    "start_time": "2022-01-04T12:24:26.783Z"
   },
   {
    "duration": 455,
    "start_time": "2022-01-04T12:25:33.742Z"
   },
   {
    "duration": 290,
    "start_time": "2022-01-04T12:25:36.924Z"
   },
   {
    "duration": 363,
    "start_time": "2022-01-04T12:25:39.050Z"
   },
   {
    "duration": 314,
    "start_time": "2022-01-04T12:25:45.975Z"
   },
   {
    "duration": 7,
    "start_time": "2022-01-04T12:25:56.967Z"
   },
   {
    "duration": 46,
    "start_time": "2022-01-04T12:30:03.584Z"
   },
   {
    "duration": 5,
    "start_time": "2022-01-04T12:37:23.565Z"
   },
   {
    "duration": 277,
    "start_time": "2022-01-04T12:37:33.155Z"
   },
   {
    "duration": 6,
    "start_time": "2022-01-04T12:38:19.489Z"
   },
   {
    "duration": 1830,
    "start_time": "2022-01-04T12:57:17.352Z"
   },
   {
    "duration": 41,
    "start_time": "2022-01-04T12:57:19.186Z"
   },
   {
    "duration": 16,
    "start_time": "2022-01-04T12:57:19.230Z"
   },
   {
    "duration": 6,
    "start_time": "2022-01-04T12:57:19.249Z"
   },
   {
    "duration": 11,
    "start_time": "2022-01-04T12:57:19.257Z"
   },
   {
    "duration": 85,
    "start_time": "2022-01-04T12:57:19.271Z"
   },
   {
    "duration": 5,
    "start_time": "2022-01-04T12:57:19.359Z"
   },
   {
    "duration": 9,
    "start_time": "2022-01-04T12:57:19.367Z"
   },
   {
    "duration": 15,
    "start_time": "2022-01-04T12:57:19.380Z"
   },
   {
    "duration": 29,
    "start_time": "2022-01-04T12:57:19.399Z"
   },
   {
    "duration": 9,
    "start_time": "2022-01-04T12:57:19.430Z"
   },
   {
    "duration": 11,
    "start_time": "2022-01-04T12:57:19.442Z"
   },
   {
    "duration": 16,
    "start_time": "2022-01-04T12:57:19.456Z"
   },
   {
    "duration": 9,
    "start_time": "2022-01-04T12:57:19.474Z"
   },
   {
    "duration": 52,
    "start_time": "2022-01-04T12:57:19.485Z"
   },
   {
    "duration": 8,
    "start_time": "2022-01-04T12:57:19.540Z"
   },
   {
    "duration": 12,
    "start_time": "2022-01-04T12:57:19.550Z"
   },
   {
    "duration": 10,
    "start_time": "2022-01-04T12:57:19.565Z"
   },
   {
    "duration": 51,
    "start_time": "2022-01-04T12:57:19.578Z"
   },
   {
    "duration": 10,
    "start_time": "2022-01-04T12:57:19.632Z"
   },
   {
    "duration": 24,
    "start_time": "2022-01-04T12:57:19.645Z"
   },
   {
    "duration": 54,
    "start_time": "2022-01-04T12:57:19.671Z"
   },
   {
    "duration": 6,
    "start_time": "2022-01-04T12:57:19.727Z"
   },
   {
    "duration": 14,
    "start_time": "2022-01-04T12:57:19.736Z"
   },
   {
    "duration": 29,
    "start_time": "2022-01-04T12:57:19.752Z"
   },
   {
    "duration": 52,
    "start_time": "2022-01-04T12:57:19.783Z"
   },
   {
    "duration": 26,
    "start_time": "2022-01-04T12:57:19.840Z"
   },
   {
    "duration": 14,
    "start_time": "2022-01-04T12:57:19.870Z"
   },
   {
    "duration": 45,
    "start_time": "2022-01-04T12:57:19.887Z"
   },
   {
    "duration": 8,
    "start_time": "2022-01-04T12:57:19.935Z"
   },
   {
    "duration": 8,
    "start_time": "2022-01-04T12:57:19.946Z"
   },
   {
    "duration": 8,
    "start_time": "2022-01-04T12:57:19.957Z"
   },
   {
    "duration": 9,
    "start_time": "2022-01-04T12:57:20.025Z"
   },
   {
    "duration": 57,
    "start_time": "2022-01-04T12:57:20.037Z"
   },
   {
    "duration": 70,
    "start_time": "2022-01-04T12:57:20.096Z"
   },
   {
    "duration": 29,
    "start_time": "2022-01-04T12:57:20.169Z"
   },
   {
    "duration": 36,
    "start_time": "2022-01-04T12:57:20.200Z"
   },
   {
    "duration": 13,
    "start_time": "2022-01-04T12:57:20.239Z"
   },
   {
    "duration": 26,
    "start_time": "2022-01-04T12:57:20.254Z"
   },
   {
    "duration": 73,
    "start_time": "2022-01-04T12:57:20.282Z"
   },
   {
    "duration": 14,
    "start_time": "2022-01-04T12:57:20.357Z"
   },
   {
    "duration": 5479,
    "start_time": "2022-01-04T12:57:20.373Z"
   },
   {
    "duration": 4544,
    "start_time": "2022-01-04T12:57:25.855Z"
   },
   {
    "duration": 24,
    "start_time": "2022-01-04T12:57:30.401Z"
   },
   {
    "duration": 23,
    "start_time": "2022-01-04T12:57:30.428Z"
   },
   {
    "duration": 27,
    "start_time": "2022-01-04T12:57:30.454Z"
   },
   {
    "duration": 22,
    "start_time": "2022-01-04T12:57:30.483Z"
   },
   {
    "duration": 26,
    "start_time": "2022-01-04T12:57:30.508Z"
   },
   {
    "duration": 14,
    "start_time": "2022-01-04T12:57:30.537Z"
   },
   {
    "duration": 1014,
    "start_time": "2022-01-04T12:57:30.554Z"
   },
   {
    "duration": 20,
    "start_time": "2022-01-04T12:57:31.571Z"
   },
   {
    "duration": 36,
    "start_time": "2022-01-04T12:57:31.594Z"
   },
   {
    "duration": 5,
    "start_time": "2022-01-04T12:57:31.633Z"
   },
   {
    "duration": 10,
    "start_time": "2022-01-04T12:57:31.640Z"
   },
   {
    "duration": 9,
    "start_time": "2022-01-04T12:57:31.652Z"
   },
   {
    "duration": 2525,
    "start_time": "2022-01-04T12:57:31.664Z"
   },
   {
    "duration": 22,
    "start_time": "2022-01-04T12:57:34.191Z"
   },
   {
    "duration": 4,
    "start_time": "2022-01-04T12:57:34.224Z"
   },
   {
    "duration": 21,
    "start_time": "2022-01-04T12:57:34.230Z"
   },
   {
    "duration": 12,
    "start_time": "2022-01-04T12:57:34.254Z"
   },
   {
    "duration": 66,
    "start_time": "2022-01-04T12:57:34.268Z"
   },
   {
    "duration": 16,
    "start_time": "2022-01-04T12:57:34.337Z"
   },
   {
    "duration": 1609,
    "start_time": "2022-01-04T15:45:15.866Z"
   },
   {
    "duration": 36,
    "start_time": "2022-01-04T15:45:17.477Z"
   },
   {
    "duration": 18,
    "start_time": "2022-01-04T15:45:17.516Z"
   },
   {
    "duration": 4,
    "start_time": "2022-01-04T15:45:17.537Z"
   },
   {
    "duration": 12,
    "start_time": "2022-01-04T15:45:17.543Z"
   },
   {
    "duration": 74,
    "start_time": "2022-01-04T15:45:17.558Z"
   },
   {
    "duration": 5,
    "start_time": "2022-01-04T15:45:17.635Z"
   },
   {
    "duration": 7,
    "start_time": "2022-01-04T15:45:17.643Z"
   },
   {
    "duration": 8,
    "start_time": "2022-01-04T15:45:17.654Z"
   },
   {
    "duration": 6,
    "start_time": "2022-01-04T15:45:17.665Z"
   },
   {
    "duration": 54,
    "start_time": "2022-01-04T15:45:17.673Z"
   },
   {
    "duration": 10,
    "start_time": "2022-01-04T15:45:17.730Z"
   },
   {
    "duration": 6,
    "start_time": "2022-01-04T15:45:17.743Z"
   },
   {
    "duration": 11,
    "start_time": "2022-01-04T15:45:17.751Z"
   },
   {
    "duration": 16,
    "start_time": "2022-01-04T15:45:17.764Z"
   },
   {
    "duration": 7,
    "start_time": "2022-01-04T15:45:17.832Z"
   },
   {
    "duration": 13,
    "start_time": "2022-01-04T15:45:17.841Z"
   },
   {
    "duration": 9,
    "start_time": "2022-01-04T15:45:17.856Z"
   },
   {
    "duration": 11,
    "start_time": "2022-01-04T15:45:17.868Z"
   },
   {
    "duration": 41,
    "start_time": "2022-01-04T15:45:17.882Z"
   },
   {
    "duration": 22,
    "start_time": "2022-01-04T15:45:17.926Z"
   },
   {
    "duration": 6,
    "start_time": "2022-01-04T15:45:17.950Z"
   },
   {
    "duration": 7,
    "start_time": "2022-01-04T15:45:17.959Z"
   },
   {
    "duration": 60,
    "start_time": "2022-01-04T15:45:17.969Z"
   },
   {
    "duration": 28,
    "start_time": "2022-01-04T15:45:18.032Z"
   },
   {
    "duration": 25,
    "start_time": "2022-01-04T15:45:18.063Z"
   },
   {
    "duration": 48,
    "start_time": "2022-01-04T15:45:18.094Z"
   },
   {
    "duration": 12,
    "start_time": "2022-01-04T15:45:18.145Z"
   },
   {
    "duration": 11,
    "start_time": "2022-01-04T15:45:18.160Z"
   },
   {
    "duration": 51,
    "start_time": "2022-01-04T15:45:18.174Z"
   },
   {
    "duration": 7,
    "start_time": "2022-01-04T15:45:18.227Z"
   },
   {
    "duration": 8,
    "start_time": "2022-01-04T15:45:18.236Z"
   },
   {
    "duration": 9,
    "start_time": "2022-01-04T15:45:18.246Z"
   },
   {
    "duration": 86,
    "start_time": "2022-01-04T15:45:18.257Z"
   },
   {
    "duration": 41,
    "start_time": "2022-01-04T15:45:18.346Z"
   },
   {
    "duration": 45,
    "start_time": "2022-01-04T15:45:18.389Z"
   },
   {
    "duration": 13,
    "start_time": "2022-01-04T15:45:18.436Z"
   },
   {
    "duration": 8,
    "start_time": "2022-01-04T15:45:18.452Z"
   },
   {
    "duration": 23,
    "start_time": "2022-01-04T15:45:18.463Z"
   },
   {
    "duration": 75,
    "start_time": "2022-01-04T15:45:18.489Z"
   },
   {
    "duration": 14,
    "start_time": "2022-01-04T15:45:18.567Z"
   },
   {
    "duration": 4961,
    "start_time": "2022-01-04T15:45:18.584Z"
   },
   {
    "duration": 3941,
    "start_time": "2022-01-04T15:45:23.548Z"
   },
   {
    "duration": 10,
    "start_time": "2022-01-04T15:45:27.492Z"
   },
   {
    "duration": 22,
    "start_time": "2022-01-04T15:45:27.504Z"
   },
   {
    "duration": 8,
    "start_time": "2022-01-04T15:45:27.528Z"
   },
   {
    "duration": 7,
    "start_time": "2022-01-04T15:45:27.539Z"
   },
   {
    "duration": 7,
    "start_time": "2022-01-04T15:45:27.548Z"
   },
   {
    "duration": 9,
    "start_time": "2022-01-04T15:45:27.558Z"
   },
   {
    "duration": 893,
    "start_time": "2022-01-04T15:45:27.570Z"
   },
   {
    "duration": 20,
    "start_time": "2022-01-04T15:45:28.465Z"
   },
   {
    "duration": 42,
    "start_time": "2022-01-04T15:45:28.488Z"
   },
   {
    "duration": 5,
    "start_time": "2022-01-04T15:45:28.533Z"
   },
   {
    "duration": 8,
    "start_time": "2022-01-04T15:45:28.541Z"
   },
   {
    "duration": 10,
    "start_time": "2022-01-04T15:45:28.553Z"
   },
   {
    "duration": 2172,
    "start_time": "2022-01-04T15:45:28.565Z"
   },
   {
    "duration": 22,
    "start_time": "2022-01-04T15:45:30.739Z"
   },
   {
    "duration": 22,
    "start_time": "2022-01-04T15:45:30.763Z"
   },
   {
    "duration": 24,
    "start_time": "2022-01-04T15:45:30.788Z"
   },
   {
    "duration": 28,
    "start_time": "2022-01-04T15:45:30.814Z"
   },
   {
    "duration": 32,
    "start_time": "2022-01-04T15:45:30.845Z"
   },
   {
    "duration": 16,
    "start_time": "2022-01-04T15:45:30.879Z"
   },
   {
    "duration": 434,
    "start_time": "2022-01-06T16:39:52.069Z"
   },
   {
    "duration": 1697,
    "start_time": "2022-01-06T16:40:11.359Z"
   },
   {
    "duration": 37,
    "start_time": "2022-01-06T16:40:13.059Z"
   },
   {
    "duration": 16,
    "start_time": "2022-01-06T16:40:13.099Z"
   },
   {
    "duration": 4,
    "start_time": "2022-01-06T16:40:13.118Z"
   },
   {
    "duration": 36,
    "start_time": "2022-01-06T16:40:13.124Z"
   },
   {
    "duration": 47,
    "start_time": "2022-01-06T16:40:13.163Z"
   },
   {
    "duration": 5,
    "start_time": "2022-01-06T16:40:13.213Z"
   },
   {
    "duration": 6,
    "start_time": "2022-01-06T16:40:13.221Z"
   },
   {
    "duration": 35,
    "start_time": "2022-01-06T16:40:13.230Z"
   },
   {
    "duration": 10,
    "start_time": "2022-01-06T16:40:13.267Z"
   },
   {
    "duration": 9,
    "start_time": "2022-01-06T16:40:13.279Z"
   },
   {
    "duration": 11,
    "start_time": "2022-01-06T16:40:13.290Z"
   },
   {
    "duration": 8,
    "start_time": "2022-01-06T16:40:13.304Z"
   },
   {
    "duration": 56,
    "start_time": "2022-01-06T16:40:13.314Z"
   },
   {
    "duration": 16,
    "start_time": "2022-01-06T16:40:13.372Z"
   },
   {
    "duration": 6,
    "start_time": "2022-01-06T16:40:13.391Z"
   },
   {
    "duration": 10,
    "start_time": "2022-01-06T16:40:13.399Z"
   },
   {
    "duration": 10,
    "start_time": "2022-01-06T16:40:13.411Z"
   },
   {
    "duration": 45,
    "start_time": "2022-01-06T16:40:13.424Z"
   },
   {
    "duration": 9,
    "start_time": "2022-01-06T16:40:13.472Z"
   },
   {
    "duration": 24,
    "start_time": "2022-01-06T16:40:13.483Z"
   },
   {
    "duration": 6,
    "start_time": "2022-01-06T16:40:13.509Z"
   },
   {
    "duration": 5,
    "start_time": "2022-01-06T16:40:13.562Z"
   },
   {
    "duration": 8,
    "start_time": "2022-01-06T16:40:13.571Z"
   },
   {
    "duration": 26,
    "start_time": "2022-01-06T16:40:13.581Z"
   },
   {
    "duration": 5,
    "start_time": "2022-01-06T16:40:13.609Z"
   },
   {
    "duration": 58,
    "start_time": "2022-01-06T16:40:13.616Z"
   },
   {
    "duration": 26,
    "start_time": "2022-01-06T16:40:13.677Z"
   },
   {
    "duration": 55,
    "start_time": "2022-01-06T16:40:13.706Z"
   },
   {
    "duration": 11,
    "start_time": "2022-01-06T16:40:13.764Z"
   },
   {
    "duration": 6,
    "start_time": "2022-01-06T16:40:13.778Z"
   },
   {
    "duration": 9,
    "start_time": "2022-01-06T16:40:13.787Z"
   },
   {
    "duration": 5,
    "start_time": "2022-01-06T16:40:13.799Z"
   },
   {
    "duration": 56,
    "start_time": "2022-01-06T16:40:13.806Z"
   },
   {
    "duration": 49,
    "start_time": "2022-01-06T16:40:13.864Z"
   },
   {
    "duration": 71,
    "start_time": "2022-01-06T16:40:13.916Z"
   },
   {
    "duration": 30,
    "start_time": "2022-01-06T16:40:13.989Z"
   },
   {
    "duration": 14,
    "start_time": "2022-01-06T16:40:14.021Z"
   },
   {
    "duration": 8,
    "start_time": "2022-01-06T16:40:14.060Z"
   },
   {
    "duration": 22,
    "start_time": "2022-01-06T16:40:14.071Z"
   },
   {
    "duration": 67,
    "start_time": "2022-01-06T16:40:14.095Z"
   },
   {
    "duration": 14,
    "start_time": "2022-01-06T16:40:14.165Z"
   },
   {
    "duration": 5516,
    "start_time": "2022-01-06T16:40:14.181Z"
   },
   {
    "duration": 4109,
    "start_time": "2022-01-06T16:40:19.700Z"
   },
   {
    "duration": 9,
    "start_time": "2022-01-06T16:40:23.811Z"
   },
   {
    "duration": 7,
    "start_time": "2022-01-06T16:40:23.823Z"
   },
   {
    "duration": 5,
    "start_time": "2022-01-06T16:40:23.859Z"
   },
   {
    "duration": 6,
    "start_time": "2022-01-06T16:40:23.867Z"
   },
   {
    "duration": 9,
    "start_time": "2022-01-06T16:40:23.875Z"
   },
   {
    "duration": 6,
    "start_time": "2022-01-06T16:40:23.886Z"
   },
   {
    "duration": 1002,
    "start_time": "2022-01-06T16:40:23.895Z"
   },
   {
    "duration": 20,
    "start_time": "2022-01-06T16:40:24.900Z"
   },
   {
    "duration": 41,
    "start_time": "2022-01-06T16:40:24.923Z"
   },
   {
    "duration": 6,
    "start_time": "2022-01-06T16:40:24.966Z"
   },
   {
    "duration": 9,
    "start_time": "2022-01-06T16:40:24.975Z"
   },
   {
    "duration": 9,
    "start_time": "2022-01-06T16:40:24.987Z"
   },
   {
    "duration": 2556,
    "start_time": "2022-01-06T16:40:24.998Z"
   },
   {
    "duration": 33,
    "start_time": "2022-01-06T16:40:27.560Z"
   },
   {
    "duration": 7,
    "start_time": "2022-01-06T16:40:27.596Z"
   },
   {
    "duration": 27,
    "start_time": "2022-01-06T16:40:27.606Z"
   },
   {
    "duration": 19,
    "start_time": "2022-01-06T16:40:27.660Z"
   },
   {
    "duration": 31,
    "start_time": "2022-01-06T16:40:27.707Z"
   },
   {
    "duration": 27,
    "start_time": "2022-01-06T16:40:27.741Z"
   },
   {
    "duration": 8,
    "start_time": "2022-01-06T16:41:10.219Z"
   },
   {
    "duration": 14,
    "start_time": "2022-01-06T16:46:01.212Z"
   },
   {
    "duration": 4,
    "start_time": "2022-01-06T16:49:00.573Z"
   },
   {
    "duration": 13,
    "start_time": "2022-01-06T16:49:02.160Z"
   },
   {
    "duration": 3689,
    "start_time": "2022-01-06T16:50:55.085Z"
   },
   {
    "duration": 2468,
    "start_time": "2022-01-06T16:53:13.683Z"
   },
   {
    "duration": 4,
    "start_time": "2022-01-06T16:54:10.139Z"
   },
   {
    "duration": 6,
    "start_time": "2022-01-06T16:57:42.593Z"
   },
   {
    "duration": 1164,
    "start_time": "2022-01-06T16:57:43.091Z"
   },
   {
    "duration": 4,
    "start_time": "2022-01-06T17:00:58.486Z"
   },
   {
    "duration": 14,
    "start_time": "2022-01-06T17:00:59.149Z"
   },
   {
    "duration": 25,
    "start_time": "2022-01-06T17:01:01.083Z"
   },
   {
    "duration": 22,
    "start_time": "2022-01-06T17:01:05.382Z"
   },
   {
    "duration": 5,
    "start_time": "2022-01-06T17:02:36.278Z"
   },
   {
    "duration": 6,
    "start_time": "2022-01-06T17:03:03.044Z"
   },
   {
    "duration": 10,
    "start_time": "2022-01-06T17:05:32.709Z"
   },
   {
    "duration": 18,
    "start_time": "2022-01-06T17:06:09.519Z"
   },
   {
    "duration": 123,
    "start_time": "2022-01-06T17:07:05.122Z"
   },
   {
    "duration": 168,
    "start_time": "2022-01-06T17:07:12.687Z"
   },
   {
    "duration": 158,
    "start_time": "2022-01-06T17:07:22.851Z"
   },
   {
    "duration": 15,
    "start_time": "2022-01-06T17:13:26.291Z"
   },
   {
    "duration": 416,
    "start_time": "2022-01-08T17:06:11.473Z"
   },
   {
    "duration": 116,
    "start_time": "2022-01-08T17:06:12.332Z"
   },
   {
    "duration": 1612,
    "start_time": "2022-01-08T17:06:23.145Z"
   },
   {
    "duration": 37,
    "start_time": "2022-01-08T17:06:24.760Z"
   },
   {
    "duration": 16,
    "start_time": "2022-01-08T17:06:24.800Z"
   },
   {
    "duration": 5,
    "start_time": "2022-01-08T17:06:24.818Z"
   },
   {
    "duration": 40,
    "start_time": "2022-01-08T17:06:24.825Z"
   },
   {
    "duration": 122,
    "start_time": "2022-01-08T17:06:24.867Z"
   },
   {
    "duration": -864,
    "start_time": "2022-01-08T17:06:25.857Z"
   },
   {
    "duration": -871,
    "start_time": "2022-01-08T17:06:25.866Z"
   },
   {
    "duration": -875,
    "start_time": "2022-01-08T17:06:25.871Z"
   },
   {
    "duration": -883,
    "start_time": "2022-01-08T17:06:25.881Z"
   },
   {
    "duration": -891,
    "start_time": "2022-01-08T17:06:25.890Z"
   },
   {
    "duration": -898,
    "start_time": "2022-01-08T17:06:25.899Z"
   },
   {
    "duration": -903,
    "start_time": "2022-01-08T17:06:25.905Z"
   },
   {
    "duration": -909,
    "start_time": "2022-01-08T17:06:25.912Z"
   },
   {
    "duration": -914,
    "start_time": "2022-01-08T17:06:25.919Z"
   },
   {
    "duration": -916,
    "start_time": "2022-01-08T17:06:25.923Z"
   },
   {
    "duration": -926,
    "start_time": "2022-01-08T17:06:25.934Z"
   },
   {
    "duration": -928,
    "start_time": "2022-01-08T17:06:25.938Z"
   },
   {
    "duration": -936,
    "start_time": "2022-01-08T17:06:25.947Z"
   },
   {
    "duration": -941,
    "start_time": "2022-01-08T17:06:25.953Z"
   },
   {
    "duration": -943,
    "start_time": "2022-01-08T17:06:25.957Z"
   },
   {
    "duration": -954,
    "start_time": "2022-01-08T17:06:25.969Z"
   },
   {
    "duration": -956,
    "start_time": "2022-01-08T17:06:25.973Z"
   },
   {
    "duration": -964,
    "start_time": "2022-01-08T17:06:25.982Z"
   },
   {
    "duration": -969,
    "start_time": "2022-01-08T17:06:25.988Z"
   },
   {
    "duration": -973,
    "start_time": "2022-01-08T17:06:25.994Z"
   },
   {
    "duration": -980,
    "start_time": "2022-01-08T17:06:26.002Z"
   },
   {
    "duration": -982,
    "start_time": "2022-01-08T17:06:26.006Z"
   },
   {
    "duration": -994,
    "start_time": "2022-01-08T17:06:26.019Z"
   },
   {
    "duration": -996,
    "start_time": "2022-01-08T17:06:26.023Z"
   },
   {
    "duration": -1005,
    "start_time": "2022-01-08T17:06:26.033Z"
   },
   {
    "duration": -1007,
    "start_time": "2022-01-08T17:06:26.036Z"
   },
   {
    "duration": -1013,
    "start_time": "2022-01-08T17:06:26.044Z"
   },
   {
    "duration": -1021,
    "start_time": "2022-01-08T17:06:26.053Z"
   },
   {
    "duration": -1025,
    "start_time": "2022-01-08T17:06:26.058Z"
   },
   {
    "duration": -1005,
    "start_time": "2022-01-08T17:06:26.064Z"
   },
   {
    "duration": -1007,
    "start_time": "2022-01-08T17:06:26.068Z"
   },
   {
    "duration": -1010,
    "start_time": "2022-01-08T17:06:26.072Z"
   },
   {
    "duration": -1013,
    "start_time": "2022-01-08T17:06:26.077Z"
   },
   {
    "duration": -1018,
    "start_time": "2022-01-08T17:06:26.083Z"
   },
   {
    "duration": -1021,
    "start_time": "2022-01-08T17:06:26.087Z"
   },
   {
    "duration": -1024,
    "start_time": "2022-01-08T17:06:26.092Z"
   },
   {
    "duration": -1028,
    "start_time": "2022-01-08T17:06:26.097Z"
   },
   {
    "duration": -1031,
    "start_time": "2022-01-08T17:06:26.101Z"
   },
   {
    "duration": -1033,
    "start_time": "2022-01-08T17:06:26.105Z"
   },
   {
    "duration": -1036,
    "start_time": "2022-01-08T17:06:26.109Z"
   },
   {
    "duration": -1054,
    "start_time": "2022-01-08T17:06:26.129Z"
   },
   {
    "duration": -1057,
    "start_time": "2022-01-08T17:06:26.133Z"
   },
   {
    "duration": -1061,
    "start_time": "2022-01-08T17:06:26.138Z"
   },
   {
    "duration": -1064,
    "start_time": "2022-01-08T17:06:26.143Z"
   },
   {
    "duration": -1068,
    "start_time": "2022-01-08T17:06:26.148Z"
   },
   {
    "duration": -1071,
    "start_time": "2022-01-08T17:06:26.152Z"
   },
   {
    "duration": -1073,
    "start_time": "2022-01-08T17:06:26.156Z"
   },
   {
    "duration": -1083,
    "start_time": "2022-01-08T17:06:26.167Z"
   },
   {
    "duration": -1086,
    "start_time": "2022-01-08T17:06:26.171Z"
   },
   {
    "duration": -1090,
    "start_time": "2022-01-08T17:06:26.177Z"
   },
   {
    "duration": -1094,
    "start_time": "2022-01-08T17:06:26.182Z"
   },
   {
    "duration": -1097,
    "start_time": "2022-01-08T17:06:26.186Z"
   },
   {
    "duration": -1099,
    "start_time": "2022-01-08T17:06:26.190Z"
   },
   {
    "duration": -1114,
    "start_time": "2022-01-08T17:06:26.206Z"
   },
   {
    "duration": -1117,
    "start_time": "2022-01-08T17:06:26.211Z"
   },
   {
    "duration": -1120,
    "start_time": "2022-01-08T17:06:26.215Z"
   },
   {
    "duration": -1123,
    "start_time": "2022-01-08T17:06:26.220Z"
   },
   {
    "duration": 1150,
    "start_time": "2022-01-10T14:19:54.954Z"
   },
   {
    "duration": 47,
    "start_time": "2022-01-10T14:19:59.884Z"
   },
   {
    "duration": 82,
    "start_time": "2022-01-10T14:24:26.590Z"
   },
   {
    "duration": 344,
    "start_time": "2022-01-10T15:56:13.748Z"
   },
   {
    "duration": 2773,
    "start_time": "2022-01-10T15:56:25.929Z"
   },
   {
    "duration": 54,
    "start_time": "2022-01-10T15:56:28.705Z"
   },
   {
    "duration": 25,
    "start_time": "2022-01-10T15:56:28.761Z"
   },
   {
    "duration": 12,
    "start_time": "2022-01-10T15:56:28.788Z"
   },
   {
    "duration": 6,
    "start_time": "2022-01-10T15:56:28.802Z"
   },
   {
    "duration": 8,
    "start_time": "2022-01-10T15:56:28.809Z"
   },
   {
    "duration": 49,
    "start_time": "2022-01-10T15:56:28.818Z"
   },
   {
    "duration": 4,
    "start_time": "2022-01-10T15:56:28.869Z"
   },
   {
    "duration": 7,
    "start_time": "2022-01-10T15:56:28.875Z"
   },
   {
    "duration": 6,
    "start_time": "2022-01-10T15:56:28.883Z"
   },
   {
    "duration": 4,
    "start_time": "2022-01-10T15:56:28.891Z"
   },
   {
    "duration": 9,
    "start_time": "2022-01-10T15:56:28.896Z"
   },
   {
    "duration": 38,
    "start_time": "2022-01-10T15:56:28.907Z"
   },
   {
    "duration": 5,
    "start_time": "2022-01-10T15:56:28.947Z"
   },
   {
    "duration": 17,
    "start_time": "2022-01-10T15:56:28.954Z"
   },
   {
    "duration": 18,
    "start_time": "2022-01-10T15:56:28.973Z"
   },
   {
    "duration": 6,
    "start_time": "2022-01-10T15:56:28.993Z"
   },
   {
    "duration": 14,
    "start_time": "2022-01-10T15:56:29.001Z"
   },
   {
    "duration": 25,
    "start_time": "2022-01-10T15:56:29.017Z"
   },
   {
    "duration": 8,
    "start_time": "2022-01-10T15:56:29.043Z"
   },
   {
    "duration": 11,
    "start_time": "2022-01-10T15:56:29.052Z"
   },
   {
    "duration": 18,
    "start_time": "2022-01-10T15:56:29.065Z"
   },
   {
    "duration": 4,
    "start_time": "2022-01-10T15:56:29.087Z"
   },
   {
    "duration": 10,
    "start_time": "2022-01-10T15:56:29.093Z"
   },
   {
    "duration": 48,
    "start_time": "2022-01-10T15:56:29.105Z"
   },
   {
    "duration": 4,
    "start_time": "2022-01-10T15:56:29.155Z"
   },
   {
    "duration": 18,
    "start_time": "2022-01-10T15:56:29.161Z"
   },
   {
    "duration": 15,
    "start_time": "2022-01-10T15:56:29.181Z"
   },
   {
    "duration": 46,
    "start_time": "2022-01-10T15:56:29.197Z"
   },
   {
    "duration": 7,
    "start_time": "2022-01-10T15:56:29.245Z"
   },
   {
    "duration": 7,
    "start_time": "2022-01-10T15:56:29.254Z"
   },
   {
    "duration": 5,
    "start_time": "2022-01-10T15:56:29.262Z"
   },
   {
    "duration": 7,
    "start_time": "2022-01-10T15:56:29.269Z"
   },
   {
    "duration": 10,
    "start_time": "2022-01-10T15:56:29.277Z"
   },
   {
    "duration": 67,
    "start_time": "2022-01-10T15:56:29.288Z"
   },
   {
    "duration": 28,
    "start_time": "2022-01-10T15:56:29.356Z"
   },
   {
    "duration": 19,
    "start_time": "2022-01-10T15:56:29.386Z"
   },
   {
    "duration": 16,
    "start_time": "2022-01-10T15:56:29.406Z"
   },
   {
    "duration": 7,
    "start_time": "2022-01-10T15:56:29.441Z"
   },
   {
    "duration": 22,
    "start_time": "2022-01-10T15:56:29.450Z"
   },
   {
    "duration": 28,
    "start_time": "2022-01-10T15:56:29.474Z"
   },
   {
    "duration": 11,
    "start_time": "2022-01-10T15:56:29.504Z"
   },
   {
    "duration": 3869,
    "start_time": "2022-01-10T15:56:29.542Z"
   },
   {
    "duration": 3035,
    "start_time": "2022-01-10T15:56:33.413Z"
   },
   {
    "duration": 8,
    "start_time": "2022-01-10T15:56:36.450Z"
   },
   {
    "duration": 8,
    "start_time": "2022-01-10T15:56:36.460Z"
   },
   {
    "duration": 8,
    "start_time": "2022-01-10T15:56:36.470Z"
   },
   {
    "duration": 6,
    "start_time": "2022-01-10T15:56:36.480Z"
   },
   {
    "duration": 6,
    "start_time": "2022-01-10T15:56:36.488Z"
   },
   {
    "duration": 6,
    "start_time": "2022-01-10T15:56:36.496Z"
   },
   {
    "duration": 807,
    "start_time": "2022-01-10T15:56:36.503Z"
   },
   {
    "duration": 14,
    "start_time": "2022-01-10T15:56:37.311Z"
   },
   {
    "duration": 23,
    "start_time": "2022-01-10T15:56:37.326Z"
   },
   {
    "duration": 4,
    "start_time": "2022-01-10T15:56:37.351Z"
   },
   {
    "duration": 7,
    "start_time": "2022-01-10T15:56:37.357Z"
   },
   {
    "duration": 3,
    "start_time": "2022-01-10T15:56:37.366Z"
   },
   {
    "duration": 640,
    "start_time": "2022-01-10T15:56:37.371Z"
   },
   {
    "duration": 13,
    "start_time": "2022-01-10T15:56:38.012Z"
   },
   {
    "duration": 6,
    "start_time": "2022-01-10T15:56:38.026Z"
   },
   {
    "duration": 13,
    "start_time": "2022-01-10T15:56:38.041Z"
   },
   {
    "duration": 9,
    "start_time": "2022-01-10T15:56:38.056Z"
   },
   {
    "duration": 9,
    "start_time": "2022-01-10T15:56:38.066Z"
   },
   {
    "duration": 12,
    "start_time": "2022-01-10T15:56:38.076Z"
   },
   {
    "duration": 71,
    "start_time": "2022-04-18T17:49:23.225Z"
   },
   {
    "duration": 2313,
    "start_time": "2022-04-18T17:49:31.060Z"
   },
   {
    "duration": 76,
    "start_time": "2022-04-18T17:49:33.377Z"
   },
   {
    "duration": 48,
    "start_time": "2022-04-18T17:49:33.455Z"
   },
   {
    "duration": 183,
    "start_time": "2022-04-18T17:49:33.505Z"
   },
   {
    "duration": 6,
    "start_time": "2022-04-18T17:49:33.691Z"
   },
   {
    "duration": 9,
    "start_time": "2022-04-18T17:49:33.700Z"
   },
   {
    "duration": 11,
    "start_time": "2022-04-18T17:49:33.712Z"
   },
   {
    "duration": 46,
    "start_time": "2022-04-18T17:49:33.725Z"
   },
   {
    "duration": 5,
    "start_time": "2022-04-18T17:49:33.773Z"
   },
   {
    "duration": 10,
    "start_time": "2022-04-18T17:49:33.780Z"
   },
   {
    "duration": 32,
    "start_time": "2022-04-18T17:49:33.793Z"
   },
   {
    "duration": 6,
    "start_time": "2022-04-18T17:49:33.828Z"
   },
   {
    "duration": 12,
    "start_time": "2022-04-18T17:49:33.837Z"
   },
   {
    "duration": 9,
    "start_time": "2022-04-18T17:49:33.853Z"
   },
   {
    "duration": 7,
    "start_time": "2022-04-18T17:49:33.864Z"
   },
   {
    "duration": 54,
    "start_time": "2022-04-18T17:49:33.873Z"
   },
   {
    "duration": 17,
    "start_time": "2022-04-18T17:49:33.929Z"
   },
   {
    "duration": 6,
    "start_time": "2022-04-18T17:49:33.948Z"
   },
   {
    "duration": 9,
    "start_time": "2022-04-18T17:49:33.957Z"
   },
   {
    "duration": 12,
    "start_time": "2022-04-18T17:49:33.968Z"
   },
   {
    "duration": 52,
    "start_time": "2022-04-18T17:49:33.982Z"
   },
   {
    "duration": 9,
    "start_time": "2022-04-18T17:49:34.037Z"
   },
   {
    "duration": 24,
    "start_time": "2022-04-18T17:49:34.049Z"
   },
   {
    "duration": 7,
    "start_time": "2022-04-18T17:49:34.076Z"
   },
   {
    "duration": 10,
    "start_time": "2022-04-18T17:49:34.126Z"
   },
   {
    "duration": 20,
    "start_time": "2022-04-18T17:49:34.139Z"
   },
   {
    "duration": 8,
    "start_time": "2022-04-18T17:49:34.162Z"
   },
   {
    "duration": 68,
    "start_time": "2022-04-18T17:49:34.173Z"
   },
   {
    "duration": 23,
    "start_time": "2022-04-18T17:49:34.243Z"
   },
   {
    "duration": 11,
    "start_time": "2022-04-18T17:49:34.269Z"
   },
   {
    "duration": 9,
    "start_time": "2022-04-18T17:49:34.325Z"
   },
   {
    "duration": 10,
    "start_time": "2022-04-18T17:49:34.336Z"
   },
   {
    "duration": 9,
    "start_time": "2022-04-18T17:49:34.349Z"
   },
   {
    "duration": 9,
    "start_time": "2022-04-18T17:49:34.361Z"
   },
   {
    "duration": 54,
    "start_time": "2022-04-18T17:49:34.372Z"
   },
   {
    "duration": 53,
    "start_time": "2022-04-18T17:49:34.429Z"
   },
   {
    "duration": 71,
    "start_time": "2022-04-18T17:49:34.484Z"
   },
   {
    "duration": 28,
    "start_time": "2022-04-18T17:49:34.557Z"
   },
   {
    "duration": 16,
    "start_time": "2022-04-18T17:49:34.587Z"
   },
   {
    "duration": 8,
    "start_time": "2022-04-18T17:49:34.625Z"
   },
   {
    "duration": 25,
    "start_time": "2022-04-18T17:49:34.640Z"
   },
   {
    "duration": 84,
    "start_time": "2022-04-18T17:49:34.667Z"
   },
   {
    "duration": 14,
    "start_time": "2022-04-18T17:49:34.753Z"
   },
   {
    "duration": 5029,
    "start_time": "2022-04-18T17:49:34.769Z"
   },
   {
    "duration": 4578,
    "start_time": "2022-04-18T17:49:39.801Z"
   },
   {
    "duration": 10,
    "start_time": "2022-04-18T17:49:44.381Z"
   },
   {
    "duration": 33,
    "start_time": "2022-04-18T17:49:44.393Z"
   },
   {
    "duration": 8,
    "start_time": "2022-04-18T17:49:44.429Z"
   },
   {
    "duration": 9,
    "start_time": "2022-04-18T17:49:44.440Z"
   },
   {
    "duration": 10,
    "start_time": "2022-04-18T17:49:44.452Z"
   },
   {
    "duration": 6,
    "start_time": "2022-04-18T17:49:44.465Z"
   },
   {
    "duration": 889,
    "start_time": "2022-04-18T17:49:44.473Z"
   },
   {
    "duration": 19,
    "start_time": "2022-04-18T17:49:45.364Z"
   },
   {
    "duration": 43,
    "start_time": "2022-04-18T17:49:45.386Z"
   },
   {
    "duration": 7,
    "start_time": "2022-04-18T17:49:45.432Z"
   },
   {
    "duration": 22,
    "start_time": "2022-04-18T17:49:45.442Z"
   },
   {
    "duration": 6,
    "start_time": "2022-04-18T17:49:45.466Z"
   },
   {
    "duration": 671,
    "start_time": "2022-04-18T17:49:45.475Z"
   },
   {
    "duration": 20,
    "start_time": "2022-04-18T17:49:46.149Z"
   },
   {
    "duration": 7,
    "start_time": "2022-04-18T17:49:46.172Z"
   },
   {
    "duration": 44,
    "start_time": "2022-04-18T17:49:46.182Z"
   },
   {
    "duration": 18,
    "start_time": "2022-04-18T17:49:46.228Z"
   },
   {
    "duration": 15,
    "start_time": "2022-04-18T17:49:46.249Z"
   },
   {
    "duration": 21,
    "start_time": "2022-04-18T17:49:46.266Z"
   }
  ],
  "kernelspec": {
   "display_name": "Python 3 (ipykernel)",
   "language": "python",
   "name": "python3"
  },
  "language_info": {
   "codemirror_mode": {
    "name": "ipython",
    "version": 3
   },
   "file_extension": ".py",
   "mimetype": "text/x-python",
   "name": "python",
   "nbconvert_exporter": "python",
   "pygments_lexer": "ipython3",
   "version": "3.9.9"
  },
  "toc": {
   "base_numbering": 1,
   "nav_menu": {},
   "number_sections": true,
   "sideBar": true,
   "skip_h1_title": true,
   "title_cell": "Содержание",
   "title_sidebar": "Содержание",
   "toc_cell": false,
   "toc_position": {
    "height": "calc(100% - 180px)",
    "left": "10px",
    "top": "150px",
    "width": "239.006px"
   },
   "toc_section_display": true,
   "toc_window_display": true
  },
  "varInspector": {
   "cols": {
    "lenName": 16,
    "lenType": 16,
    "lenVar": 40
   },
   "kernels_config": {
    "python": {
     "delete_cmd_postfix": "",
     "delete_cmd_prefix": "del ",
     "library": "var_list.py",
     "varRefreshCmd": "print(var_dic_list())"
    },
    "r": {
     "delete_cmd_postfix": ") ",
     "delete_cmd_prefix": "rm(",
     "library": "var_list.r",
     "varRefreshCmd": "cat(var_dic_list()) "
    }
   },
   "types_to_exclude": [
    "module",
    "function",
    "builtin_function_or_method",
    "instance",
    "_Feature"
   ],
   "window_display": false
  }
 },
 "nbformat": 4,
 "nbformat_minor": 2
}
