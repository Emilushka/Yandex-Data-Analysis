{
 "cells": [
  {
   "cell_type": "markdown",
   "id": "5e9ed080",
   "metadata": {
    "toc": true
   },
   "source": [
    "<h1>Содержание<span class=\"tocSkip\"></span></h1>\n",
    "<div class=\"toc\"><ul class=\"toc-item\"><li><span><a href=\"#Часть-1.-Составление-технического-задания\" data-toc-modified-id=\"Часть-1.-Составление-технического-задания-1\"><span class=\"toc-item-num\">1&nbsp;&nbsp;</span>Часть 1. Составление технического задания</a></span></li></ul></div>"
   ]
  },
  {
   "cell_type": "markdown",
   "id": "18fb9ac7",
   "metadata": {
    "scrolled": true
   },
   "source": [
    "# Часть 1. Составление технического задания "
   ]
  },
  {
   "cell_type": "markdown",
   "id": "50018680",
   "metadata": {},
   "source": [
    "\n",
    "\n",
    "Вы работаете аналитиком в Яндекс.Дзене. Почти всё ваше время занимает анализ пользовательского взаимодействия с карточками статей.  \n",
    "\n",
    "\n",
    "Каждую карточку определяют её тема и источник (у него тоже есть тема). Примеры тем: «Красота и здоровье», «Россия», «Путешествия».  \n",
    "\n",
    "Пользователей системы характеризует возрастная категория. Скажем, «26-30» или «45+».  \n",
    "\n",
    "Есть три способа взаимодействия пользователей с системой:  \n",
    "\n",
    "Карточка отображена для пользователя (show);  \n",
    "Пользователь кликнул на карточку (click);  \n",
    "Пользователь просмотрел статью карточки (view).  \n",
    "\n",
    "Каждую неделю начинающие менеджеры Денис и Валерия задают вам одни и те же вопросы:  \n",
    "\n",
    "Сколько взаимодействий пользователей с карточками происходит в системе с разбивкой по темам карточек?  \n",
    "Как много карточек генерируют источники с разными темами?  \n",
    "Как соотносятся темы карточек и темы источников?  \n",
    "\n",
    "На шестую неделю работы вы решаете, что процесс пора автоматизировать. Для Дениса и Валерии нужно сделать дашборд.  \n",
    "Дашборд будет основываться на пайплайне, который будет брать данные из таблицы, в которых хранятся сырые данные, трансформировать данные и укладывать их в агрегирующую таблицу. Пайплайн будет разработан для вас дата-инженерами.  "
   ]
  },
  {
   "cell_type": "markdown",
   "id": "419769b7",
   "metadata": {},
   "source": [
    "**Пообщавшись с менеджерами и администраторами баз данных, мы написали краткое ТЗ:**\n",
    "\n",
    "1) Бизнес-задача: анализ взаимодействия пользователей с карточками Яндекс.Дзен;  \n",
    "\n",
    "2) Насколько часто предполагается пользоваться дашбордом: не реже, чем раз в неделю;  \n",
    "\n",
    "3) Кто будет основным пользователем дашборда: менеджеры по анализу контента;  \n",
    "\n",
    "4) Состав данных для дашборда:  \n",
    "\n",
    "История событий по темам карточек (два графика - абсолютные числа и процентное соотношение);  \n",
    "Разбивка событий по темам источников;  \n",
    "Таблица соответствия тем источников темам карточек;  \n",
    "\n",
    "5) По каким параметрам данные должны группироваться:  \n",
    "\n",
    "Дата и время;  \n",
    "Тема карточки;  \n",
    "Тема источника;  \n",
    "Возрастная группа;  \n",
    "\n",
    "6) Характер данных:  \n",
    "\n",
    "История событий по темам карточек — абсолютные величины с разбивкой по минутам;  \n",
    "Разбивка событий по темам источников — относительные величины (% событий);  \n",
    "Соответствия тем источников темам карточек - абсолютные величины;  \n",
    "\n",
    "7) Важность: все графики имеют равную важность;  \n",
    "\n",
    "8) Источники данных для дашборда: cырые данные о событиях взаимодействия пользователей с карточками (таблица log_raw);  \n",
    "\n",
    "9) База данных, в которой будут храниться агрегированные данные: дополнительные агрегированные таблицы в БД zen;  \n",
    "\n",
    "10) Частота обновления данных: один раз в сутки, в полночь по UTC;  \n",
    "\n",
    "11) Какие графики должны отображаться и в каком порядке, какие элементы управления должны быть на дашборде (макет дашборда):  "
   ]
  },
  {
   "cell_type": "code",
   "execution_count": 1,
   "id": "c47ea6b3",
   "metadata": {},
   "outputs": [],
   "source": [
    "import warnings\n",
    "warnings.filterwarnings('ignore')"
   ]
  },
  {
   "cell_type": "markdown",
   "id": "5f7910aa",
   "metadata": {},
   "source": [
    "Создадим коннекцию к базе, выполним sql-запрос и выгрузим данные из таблицы dash_visits в файл dash_visits.csv:"
   ]
  },
  {
   "cell_type": "code",
   "execution_count": 2,
   "id": "5df8a63a",
   "metadata": {},
   "outputs": [],
   "source": [
    "%%capture\n",
    "!pip install SQLAlchemy\n",
    "!pip install --upgrade SQLAlchemy\n",
    "!python -m pip install psycopg2-binary "
   ]
  },
  {
   "cell_type": "code",
   "execution_count": 3,
   "id": "1ace2300",
   "metadata": {},
   "outputs": [],
   "source": [
    "# импортируем библиотеки\n",
    "import pandas as pd\n",
    "from sqlalchemy import create_engine\n",
    " \n",
    "db_config = {'user': 'praktikum_student',         # имя пользователя\n",
    "             'pwd': 'Sdf4$2;d-d30pp', # пароль\n",
    "             'host': 'rc1b-wcoijxj3yxfsf3fs.mdb.yandexcloud.net',\n",
    "             'port': 6432,              # порт подключения\n",
    "             'db': 'data-analyst-zen-project-db'}          # название базы данных\n",
    " \n",
    "connection_string = 'postgresql://{}:{}@{}:{}/{}'.format(db_config['user'],\n",
    "                                                         db_config['pwd'],\n",
    "                                                         db_config['host'],\n",
    "                                                         db_config['port'],\n",
    "                                                         db_config['db'])\n",
    " \n",
    "engine = create_engine(connection_string) \n",
    " \n",
    "query = '''\n",
    "        SELECT * FROM dash_visits \n",
    "        '''\n",
    " \n",
    "dash_visits = pd.io.sql.read_sql(query, con = engine) \n",
    " \n",
    "dash_visits.to_csv('dash_visits.csv')"
   ]
  },
  {
   "cell_type": "markdown",
   "id": "487a79e1",
   "metadata": {},
   "source": [
    "В Tableau Public на основе файла dash_visits.csv сформируем **дашборд** в соответствии с макетом, описанным выше:"
   ]
  },
  {
   "cell_type": "markdown",
   "id": "504b61dd",
   "metadata": {},
   "source": [
    "https://public.tableau.com/app/profile/emilushka/viz/project1_16521962260430/sheet4?publish=yes"
   ]
  },
  {
   "cell_type": "markdown",
   "id": "8ca375d6",
   "metadata": {},
   "source": [
    "Ответим на вопросы менеджеров, используя дашборд: Cколько взаимодействий пользователей с карточками происходит в системе с разбивкой по темам карточек? Как много карточек генерируют источники с разными темами? Как соотносятся темы карточек и темы источников? Результаты работы и ответы на вопрос сохраним в **презентации**:"
   ]
  },
  {
   "cell_type": "markdown",
   "id": "c51bd495",
   "metadata": {},
   "source": [
    "https://disk.yandex.ru/d/-Iy4K6HXR0XkDA"
   ]
  }
 ],
 "metadata": {
  "kernelspec": {
   "display_name": "Python 3 (ipykernel)",
   "language": "python",
   "name": "python3"
  },
  "language_info": {
   "codemirror_mode": {
    "name": "ipython",
    "version": 3
   },
   "file_extension": ".py",
   "mimetype": "text/x-python",
   "name": "python",
   "nbconvert_exporter": "python",
   "pygments_lexer": "ipython3",
   "version": "3.9.9"
  },
  "toc": {
   "base_numbering": 1,
   "nav_menu": {},
   "number_sections": true,
   "sideBar": true,
   "skip_h1_title": false,
   "title_cell": "Содержание",
   "title_sidebar": "Содержание",
   "toc_cell": true,
   "toc_position": {},
   "toc_section_display": true,
   "toc_window_display": true
  },
  "varInspector": {
   "cols": {
    "lenName": 16,
    "lenType": 16,
    "lenVar": 40
   },
   "kernels_config": {
    "python": {
     "delete_cmd_postfix": "",
     "delete_cmd_prefix": "del ",
     "library": "var_list.py",
     "varRefreshCmd": "print(var_dic_list())"
    },
    "r": {
     "delete_cmd_postfix": ") ",
     "delete_cmd_prefix": "rm(",
     "library": "var_list.r",
     "varRefreshCmd": "cat(var_dic_list()) "
    }
   },
   "types_to_exclude": [
    "module",
    "function",
    "builtin_function_or_method",
    "instance",
    "_Feature"
   ],
   "window_display": false
  }
 },
 "nbformat": 4,
 "nbformat_minor": 5
}
