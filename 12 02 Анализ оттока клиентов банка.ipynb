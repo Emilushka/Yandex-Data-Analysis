{
 "cells": [
  {
   "cell_type": "markdown",
   "id": "a1d5ad3b",
   "metadata": {},
   "source": [
    "<h1>Содержание<span class=\"tocSkip\"></span></h1>\n",
    "<div class=\"toc\"><ul class=\"toc-item\"><li><span><a href=\"#Описание-данных:\" data-toc-modified-id=\"Описание-данных:-1\"><span class=\"toc-item-num\">1&nbsp;&nbsp;</span><strong>Описание данных:</strong></a></span></li><li><span><a href=\"#Предобработка-данных.\" data-toc-modified-id=\"Предобработка-данных.-2\"><span class=\"toc-item-num\">2&nbsp;&nbsp;</span>Предобработка данных.</a></span><ul class=\"toc-item\"><li><span><a href=\"#Вывод\" data-toc-modified-id=\"Вывод-2.1\"><span class=\"toc-item-num\">2.1&nbsp;&nbsp;</span>Вывод</a></span></li><li><span><a href=\"#Категоризация-данных\" data-toc-modified-id=\"Категоризация-данных-2.2\"><span class=\"toc-item-num\">2.2&nbsp;&nbsp;</span>Категоризация данных</a></span><ul class=\"toc-item\"><li><span><a href=\"#Категоризация-по-уровню-дохода\" data-toc-modified-id=\"Категоризация-по-уровню-дохода-2.2.1\"><span class=\"toc-item-num\">2.2.1&nbsp;&nbsp;</span>Категоризация по уровню дохода</a></span><ul class=\"toc-item\"><li><span><a href=\"#Категоризация-по-возрасту\" data-toc-modified-id=\"Категоризация-по-возрасту-2.2.1.1\"><span class=\"toc-item-num\">2.2.1.1&nbsp;&nbsp;</span>Категоризация по возрасту</a></span></li><li><span><a href=\"#Категоризация-по-уровню-кредитного-скоринга\" data-toc-modified-id=\"Категоризация-по-уровню-кредитного-скоринга-2.2.1.2\"><span class=\"toc-item-num\">2.2.1.2&nbsp;&nbsp;</span>Категоризация по уровню кредитного скоринга</a></span></li><li><span><a href=\"#Категоризация-по-балансу-счета-клиента\" data-toc-modified-id=\"Категоризация-по-балансу-счета-клиента-2.2.1.3\"><span class=\"toc-item-num\">2.2.1.3&nbsp;&nbsp;</span>Категоризация по балансу счета клиента</a></span></li></ul></li><li><span><a href=\"#Вывод\" data-toc-modified-id=\"Вывод-2.2.2\"><span class=\"toc-item-num\">2.2.2&nbsp;&nbsp;</span>Вывод</a></span></li></ul></li></ul></li><li><span><a href=\"#Исследовательский-анализ-данных.\" data-toc-modified-id=\"Исследовательский-анализ-данных.-3\"><span class=\"toc-item-num\">3&nbsp;&nbsp;</span>Исследовательский анализ данных.</a></span><ul class=\"toc-item\"><li><span><a href=\"#Анализ-средних-значений-признаков-и-стандартного-отклонения\" data-toc-modified-id=\"Анализ-средних-значений-признаков-и-стандартного-отклонения-3.1\"><span class=\"toc-item-num\">3.1&nbsp;&nbsp;</span>Анализ средних значений признаков и стандартного отклонения</a></span><ul class=\"toc-item\"><li><span><a href=\"#Анализ-средних-значений-признаков-в-двух-группах-—-тех,-кто-ушел-в-отток-и-тех,-кто-остался\" data-toc-modified-id=\"Анализ-средних-значений-признаков-в-двух-группах-—-тех,-кто-ушел-в-отток-и-тех,-кто-остался-3.1.1\"><span class=\"toc-item-num\">3.1.1&nbsp;&nbsp;</span>Анализ средних значений признаков в двух группах — тех, кто ушел в отток и тех, кто остался</a></span></li><li><span><a href=\"#Изучение-распределений-признаков-для-тех,-кто-ушёл-(отток)-и-тех,-кто-остался-(не-попали-в-отток)\" data-toc-modified-id=\"Изучение-распределений-признаков-для-тех,-кто-ушёл-(отток)-и-тех,-кто-остался-(не-попали-в-отток)-3.1.2\"><span class=\"toc-item-num\">3.1.2&nbsp;&nbsp;</span>Изучение распределений признаков для тех, кто ушёл (отток) и тех, кто остался (не попали в отток)</a></span></li><li><span><a href=\"#Изучение-распределений-признаков-без-привязки-к-признаку-ухода-в-отток\" data-toc-modified-id=\"Изучение-распределений-признаков-без-привязки-к-признаку-ухода-в-отток-3.1.3\"><span class=\"toc-item-num\">3.1.3&nbsp;&nbsp;</span>Изучение распределений признаков без привязки к признаку ухода в отток</a></span><ul class=\"toc-item\"><li><span><a href=\"#Построим-диаграмму-размаха-по-возрасту-и-полу-клиентов.\" data-toc-modified-id=\"Построим-диаграмму-размаха-по-возрасту-и-полу-клиентов.-3.1.3.1\"><span class=\"toc-item-num\">3.1.3.1&nbsp;&nbsp;</span>Построим диаграмму размаха по возрасту и полу клиентов.</a></span></li><li><span><a href=\"#Построим-диаграмму-размаха-по-полу-и-уровню-дохода-клиентов.\" data-toc-modified-id=\"Построим-диаграмму-размаха-по-полу-и-уровню-дохода-клиентов.-3.1.3.2\"><span class=\"toc-item-num\">3.1.3.2&nbsp;&nbsp;</span>Построим диаграмму размаха по полу и уровню дохода клиентов.</a></span></li><li><span><a href=\"#Построим-countplot-графики-для-бинарных-признаков-по-активности-клиентов\" data-toc-modified-id=\"Построим-countplot-графики-для-бинарных-признаков-по-активности-клиентов-3.1.3.3\"><span class=\"toc-item-num\">3.1.3.3&nbsp;&nbsp;</span>Построим countplot-графики для бинарных признаков по активности клиентов</a></span></li><li><span><a href=\"#Построим-kdeplot-графики-для-небинарных-признаков-по-активности-клиентов.\" data-toc-modified-id=\"Построим-kdeplot-графики-для-небинарных-признаков-по-активности-клиентов.-3.1.3.4\"><span class=\"toc-item-num\">3.1.3.4&nbsp;&nbsp;</span>Построим kdeplot-графики для небинарных признаков по активности клиентов.</a></span></li></ul></li><li><span><a href=\"#Корреляционный-анализ\" data-toc-modified-id=\"Корреляционный-анализ-3.1.4\"><span class=\"toc-item-num\">3.1.4&nbsp;&nbsp;</span>Корреляционный анализ</a></span></li></ul></li></ul></li><li><span><a href=\"#Выведение-портрета-клиентов,-которые-склонны-и-не-склонны-уходить-из-банка-на-основе-EDA\" data-toc-modified-id=\"Выведение-портрета-клиентов,-которые-склонны-и-не-склонны-уходить-из-банка-на-основе-EDA-4\"><span class=\"toc-item-num\">4&nbsp;&nbsp;</span>Выведение портрета клиентов, которые склонны и не склонны уходить из банка на основе EDA</a></span></li><li><span><a href=\"#Статистический-анализ-данных.-Проверка-гипотез.\" data-toc-modified-id=\"Статистический-анализ-данных.-Проверка-гипотез.-5\"><span class=\"toc-item-num\">5&nbsp;&nbsp;</span>Статистический анализ данных. Проверка гипотез.</a></span></li><li><span><a href=\"#Сегментация-пользователей-по-потреблению.\" data-toc-modified-id=\"Сегментация-пользователей-по-потреблению.-6\"><span class=\"toc-item-num\">6&nbsp;&nbsp;</span>Сегментация пользователей по потреблению.</a></span></li><li><span><a href=\"#Выводы\" data-toc-modified-id=\"Выводы-7\"><span class=\"toc-item-num\">7&nbsp;&nbsp;</span>Выводы</a></span></li><li><span><a href=\"#Рекомендации\" data-toc-modified-id=\"Рекомендации-8\"><span class=\"toc-item-num\">8&nbsp;&nbsp;</span>Рекомендации</a></span></li><li><span><a href=\"#Презентация-(на-основе-дашборда)\" data-toc-modified-id=\"Презентация-(на-основе-дашборда)-9\"><span class=\"toc-item-num\">9&nbsp;&nbsp;</span>Презентация (на основе дашборда)</a></span></li></ul></div>"
   ]
  },
  {
   "cell_type": "markdown",
   "id": "d43af598",
   "metadata": {},
   "source": [
    "**<font size=\"5\" color='red' >[презентация](https://disk.yandex.ru/d/fHKImOXKB80iVw)</font>** "
   ]
  },
  {
   "cell_type": "markdown",
   "id": "e0df45f0",
   "metadata": {},
   "source": [
    "**<font color='red' > Цель исследования </font>**  - определить характеристики клиентов, попадающих в отток. Дать рекомендации продакт-менеджеру банка по снижению оттока клиентов на основе анализа данных клиентов, в частности - выявления особенностей клиентов, попадающих в отток."
   ]
  },
  {
   "cell_type": "markdown",
   "id": "6921ca89",
   "metadata": {},
   "source": [
    "# **Описание данных:**\n",
    "\n",
    "Датасет содержит данные о клиентах банка «Метанпром». Банк располагается в Ярославле и областных городах: Ростов Великий и Рыбинск.\n",
    "\n",
    "Колонки:\n",
    "\n",
    "- `userid` — идентификатор пользователя,\n",
    "- `score` — баллы кредитного скоринга,\n",
    "- `City` — город,\n",
    "- `Gender` — пол,\n",
    "- `Age` — возраст,\n",
    "- `Objects` — количество объектов в собственности,\n",
    "- `Balance` — баланс на счёте,\n",
    "- `Products` — количество продуктов, которыми пользуется клиент,\n",
    "- `CreditCard` — есть ли кредитная карта,\n",
    "- `Loyalty` — активный клиент,\n",
    "- `estimated_salary` — заработная плата клиента,\n",
    "- `Churn` — ушёл или нет.\n",
    "\n",
    "По итогам исследования подготовьте презентацию. Для создания презентации используйте любой удобный инструмент, но отправить презентацию нужно **обязательно** в формате **pdf**."
   ]
  },
  {
   "cell_type": "markdown",
   "id": "553fe3c7",
   "metadata": {},
   "source": [
    "# Предобработка данных. \n",
    "\n",
    "**Обязательно:** \n",
    "\n",
    "- изучить общую информацию о датасете при помощи методов info, head, shape, describe, \n",
    "- Есть ли дубликаты, пропуски в данных.   \n",
    "- Случайны ли пропуски или нет. Характер пропусков - в каких столбцах встречаются чаще всего, с чем могут быть связаны    \n",
    "- Насколько реалистичны данные.   \n",
    "\n",
    "**При необходимости:**  \n",
    "\n",
    "- привести названия столбцов к нижнему регистру  \n",
    "- изменить тип данных (например, перевести в int)  \n",
    "- заполнить пропуски (если их, конечно, вообще нужно заполнять). Хорошо подумать над тем, какими значениями их необходимо заполнить.  "
   ]
  },
  {
   "cell_type": "code",
   "execution_count": 88,
   "id": "a8bacf24",
   "metadata": {},
   "outputs": [],
   "source": [
    "import pandas as pd\n",
    "import seaborn as sns\n",
    "import matplotlib.pyplot as plt\n",
    "import numpy as np\n",
    "import scipy.stats as st\n",
    "import math\n",
    "\n",
    "from sklearn.model_selection import train_test_split\n",
    "from sklearn.linear_model import LogisticRegression\n",
    "from sklearn.ensemble import RandomForestClassifier\n",
    "from sklearn.preprocessing import StandardScaler\n",
    "from sklearn.metrics import accuracy_score, precision_score, recall_score, f1_score\n",
    "from scipy.cluster.hierarchy import dendrogram, linkage\n",
    "from sklearn.cluster import KMeans"
   ]
  },
  {
   "cell_type": "code",
   "execution_count": 89,
   "id": "75d85e47",
   "metadata": {
    "scrolled": true
   },
   "outputs": [
    {
     "data": {
      "text/html": [
       "<font color='blue'>синий текст</font>"
      ],
      "text/plain": [
       "<IPython.core.display.HTML object>"
      ]
     },
     "metadata": {},
     "output_type": "display_data"
    },
    {
     "data": {
      "text/html": [
       "<font color='maroon'>коричневый текст</font>"
      ],
      "text/plain": [
       "<IPython.core.display.HTML object>"
      ]
     },
     "metadata": {},
     "output_type": "display_data"
    },
    {
     "data": {
      "text/html": [
       "<font color='olive'>текст оливкогового цвета</font>"
      ],
      "text/plain": [
       "<IPython.core.display.HTML object>"
      ]
     },
     "metadata": {},
     "output_type": "display_data"
    },
    {
     "data": {
      "text/html": [
       "<font color='navy'>темно-синий текст</font>"
      ],
      "text/plain": [
       "<IPython.core.display.HTML object>"
      ]
     },
     "metadata": {},
     "output_type": "display_data"
    },
    {
     "data": {
      "text/html": [
       "<font color='purple'> фиолетовый текст</font>"
      ],
      "text/plain": [
       "<IPython.core.display.HTML object>"
      ]
     },
     "metadata": {},
     "output_type": "display_data"
    },
    {
     "data": {
      "text/html": [
       "<font color='teal'>бирюзовый текст</font>"
      ],
      "text/plain": [
       "<IPython.core.display.HTML object>"
      ]
     },
     "metadata": {},
     "output_type": "display_data"
    },
    {
     "data": {
      "text/html": [
       "<font color='gray'>серый текст</font>"
      ],
      "text/plain": [
       "<IPython.core.display.HTML object>"
      ]
     },
     "metadata": {},
     "output_type": "display_data"
    },
    {
     "data": {
      "text/html": [
       "<font color='lime'>светло-зеленый текст</font>"
      ],
      "text/plain": [
       "<IPython.core.display.HTML object>"
      ]
     },
     "metadata": {},
     "output_type": "display_data"
    },
    {
     "data": {
      "text/html": [
       "<font color='green'>зеленый текст</font>"
      ],
      "text/plain": [
       "<IPython.core.display.HTML object>"
      ]
     },
     "metadata": {},
     "output_type": "display_data"
    },
    {
     "data": {
      "text/html": [
       "<font color='yellow'>желтый текст</font>"
      ],
      "text/plain": [
       "<IPython.core.display.HTML object>"
      ]
     },
     "metadata": {},
     "output_type": "display_data"
    },
    {
     "data": {
      "text/html": [
       "<font color='FUCHSIA'> розовый текст</font>"
      ],
      "text/plain": [
       "<IPython.core.display.HTML object>"
      ]
     },
     "metadata": {},
     "output_type": "display_data"
    },
    {
     "data": {
      "text/html": [
       "<font color='AQUA'> голубой текст</font>"
      ],
      "text/plain": [
       "<IPython.core.display.HTML object>"
      ]
     },
     "metadata": {},
     "output_type": "display_data"
    }
   ],
   "source": [
    "#добавим красоты в оформление проекта\n",
    "\n",
    "from IPython.core.display import display, HTML\n",
    "\n",
    "display(HTML(\"<font color='blue'>синий текст</font>\"))\n",
    "display(HTML(\"<font color='maroon'>коричневый текст</font>\"))\n",
    "display(HTML(\"<font color='olive'>текст оливкогового цвета</font>\"))\n",
    "display(HTML(\"<font color='navy'>темно-синий текст</font>\"))\n",
    "display(HTML(\"<font color='purple'> фиолетовый текст</font>\"))\n",
    "display(HTML(\"<font color='teal'>бирюзовый текст</font>\"))\n",
    "display(HTML(\"<font color='gray'>серый текст</font>\"))\n",
    "display(HTML(\"<font color='lime'>светло-зеленый текст</font>\"))\n",
    "display(HTML(\"<font color='green'>зеленый текст</font>\"))\n",
    "display(HTML(\"<font color='yellow'>желтый текст</font>\"))\n",
    "display(HTML(\"<font color='FUCHSIA'> розовый текст</font>\"))\n",
    "display(HTML(\"<font color='AQUA'> голубой текст</font>\"))"
   ]
  },
  {
   "cell_type": "code",
   "execution_count": 90,
   "id": "c89da412",
   "metadata": {},
   "outputs": [],
   "source": [
    "# df = pd.read_csv('/datasets/bank_dataset.csv')\n",
    "# поскольку я делаю проект и из дома, и с работы, сделала так, \n",
    "# чтобы прочитать его можно было везде, а не только на домашнем ПК\n",
    "\n",
    "file = 'https://code.s3.yandex.net/datasets/bank_dataset.csv'\n",
    "df = pd.read_csv(file)"
   ]
  },
  {
   "cell_type": "code",
   "execution_count": 91,
   "id": "6cb158a5",
   "metadata": {},
   "outputs": [
    {
     "data": {
      "text/html": [
       "<div>\n",
       "<style scoped>\n",
       "    .dataframe tbody tr th:only-of-type {\n",
       "        vertical-align: middle;\n",
       "    }\n",
       "\n",
       "    .dataframe tbody tr th {\n",
       "        vertical-align: top;\n",
       "    }\n",
       "\n",
       "    .dataframe thead th {\n",
       "        text-align: right;\n",
       "    }\n",
       "</style>\n",
       "<table border=\"1\" class=\"dataframe\">\n",
       "  <thead>\n",
       "    <tr style=\"text-align: right;\">\n",
       "      <th></th>\n",
       "      <th>userid</th>\n",
       "      <th>score</th>\n",
       "      <th>City</th>\n",
       "      <th>Gender</th>\n",
       "      <th>Age</th>\n",
       "      <th>Objects</th>\n",
       "      <th>Balance</th>\n",
       "      <th>Products</th>\n",
       "      <th>CreditCard</th>\n",
       "      <th>Loyalty</th>\n",
       "      <th>estimated_salary</th>\n",
       "      <th>Churn</th>\n",
       "    </tr>\n",
       "  </thead>\n",
       "  <tbody>\n",
       "    <tr>\n",
       "      <th>0</th>\n",
       "      <td>15677338</td>\n",
       "      <td>619</td>\n",
       "      <td>Ярославль</td>\n",
       "      <td>Ж</td>\n",
       "      <td>42</td>\n",
       "      <td>2</td>\n",
       "      <td>NaN</td>\n",
       "      <td>1</td>\n",
       "      <td>1</td>\n",
       "      <td>1</td>\n",
       "      <td>101348.88</td>\n",
       "      <td>1</td>\n",
       "    </tr>\n",
       "    <tr>\n",
       "      <th>1</th>\n",
       "      <td>15690047</td>\n",
       "      <td>608</td>\n",
       "      <td>Рыбинск</td>\n",
       "      <td>Ж</td>\n",
       "      <td>41</td>\n",
       "      <td>1</td>\n",
       "      <td>83807.86</td>\n",
       "      <td>1</td>\n",
       "      <td>0</td>\n",
       "      <td>1</td>\n",
       "      <td>112542.58</td>\n",
       "      <td>0</td>\n",
       "    </tr>\n",
       "    <tr>\n",
       "      <th>2</th>\n",
       "      <td>15662040</td>\n",
       "      <td>502</td>\n",
       "      <td>Ярославль</td>\n",
       "      <td>Ж</td>\n",
       "      <td>42</td>\n",
       "      <td>8</td>\n",
       "      <td>159660.80</td>\n",
       "      <td>3</td>\n",
       "      <td>1</td>\n",
       "      <td>0</td>\n",
       "      <td>113931.57</td>\n",
       "      <td>1</td>\n",
       "    </tr>\n",
       "    <tr>\n",
       "      <th>3</th>\n",
       "      <td>15744090</td>\n",
       "      <td>699</td>\n",
       "      <td>Ярославль</td>\n",
       "      <td>Ж</td>\n",
       "      <td>39</td>\n",
       "      <td>1</td>\n",
       "      <td>NaN</td>\n",
       "      <td>2</td>\n",
       "      <td>0</td>\n",
       "      <td>0</td>\n",
       "      <td>93826.63</td>\n",
       "      <td>0</td>\n",
       "    </tr>\n",
       "    <tr>\n",
       "      <th>4</th>\n",
       "      <td>15780624</td>\n",
       "      <td>850</td>\n",
       "      <td>Рыбинск</td>\n",
       "      <td>Ж</td>\n",
       "      <td>43</td>\n",
       "      <td>2</td>\n",
       "      <td>125510.82</td>\n",
       "      <td>1</td>\n",
       "      <td>1</td>\n",
       "      <td>1</td>\n",
       "      <td>79084.10</td>\n",
       "      <td>0</td>\n",
       "    </tr>\n",
       "  </tbody>\n",
       "</table>\n",
       "</div>"
      ],
      "text/plain": [
       "     userid  score       City Gender  Age  Objects    Balance  Products  \\\n",
       "0  15677338    619  Ярославль      Ж   42        2        NaN         1   \n",
       "1  15690047    608    Рыбинск      Ж   41        1   83807.86         1   \n",
       "2  15662040    502  Ярославль      Ж   42        8  159660.80         3   \n",
       "3  15744090    699  Ярославль      Ж   39        1        NaN         2   \n",
       "4  15780624    850    Рыбинск      Ж   43        2  125510.82         1   \n",
       "\n",
       "   CreditCard  Loyalty  estimated_salary  Churn  \n",
       "0           1        1         101348.88      1  \n",
       "1           0        1         112542.58      0  \n",
       "2           1        0         113931.57      1  \n",
       "3           0        0          93826.63      0  \n",
       "4           1        1          79084.10      0  "
      ]
     },
     "execution_count": 91,
     "metadata": {},
     "output_type": "execute_result"
    }
   ],
   "source": [
    "df.head()"
   ]
  },
  {
   "cell_type": "code",
   "execution_count": 92,
   "id": "c14c8f83",
   "metadata": {
    "scrolled": true
   },
   "outputs": [
    {
     "data": {
      "text/html": [
       "<div>\n",
       "<style scoped>\n",
       "    .dataframe tbody tr th:only-of-type {\n",
       "        vertical-align: middle;\n",
       "    }\n",
       "\n",
       "    .dataframe tbody tr th {\n",
       "        vertical-align: top;\n",
       "    }\n",
       "\n",
       "    .dataframe thead th {\n",
       "        text-align: right;\n",
       "    }\n",
       "</style>\n",
       "<table border=\"1\" class=\"dataframe\">\n",
       "  <thead>\n",
       "    <tr style=\"text-align: right;\">\n",
       "      <th></th>\n",
       "      <th>userid</th>\n",
       "      <th>score</th>\n",
       "      <th>City</th>\n",
       "      <th>Gender</th>\n",
       "      <th>Age</th>\n",
       "      <th>Objects</th>\n",
       "      <th>Balance</th>\n",
       "      <th>Products</th>\n",
       "      <th>CreditCard</th>\n",
       "      <th>Loyalty</th>\n",
       "      <th>estimated_salary</th>\n",
       "      <th>Churn</th>\n",
       "    </tr>\n",
       "  </thead>\n",
       "  <tbody>\n",
       "    <tr>\n",
       "      <th>9995</th>\n",
       "      <td>15648965</td>\n",
       "      <td>771</td>\n",
       "      <td>Ярославль</td>\n",
       "      <td>М</td>\n",
       "      <td>39</td>\n",
       "      <td>5</td>\n",
       "      <td>NaN</td>\n",
       "      <td>2</td>\n",
       "      <td>1</td>\n",
       "      <td>0</td>\n",
       "      <td>96270.64</td>\n",
       "      <td>0</td>\n",
       "    </tr>\n",
       "    <tr>\n",
       "      <th>9996</th>\n",
       "      <td>15612628</td>\n",
       "      <td>516</td>\n",
       "      <td>Ярославль</td>\n",
       "      <td>М</td>\n",
       "      <td>35</td>\n",
       "      <td>10</td>\n",
       "      <td>57369.61</td>\n",
       "      <td>1</td>\n",
       "      <td>1</td>\n",
       "      <td>1</td>\n",
       "      <td>101699.77</td>\n",
       "      <td>0</td>\n",
       "    </tr>\n",
       "    <tr>\n",
       "      <th>9997</th>\n",
       "      <td>15627268</td>\n",
       "      <td>709</td>\n",
       "      <td>Ярославль</td>\n",
       "      <td>Ж</td>\n",
       "      <td>36</td>\n",
       "      <td>7</td>\n",
       "      <td>NaN</td>\n",
       "      <td>1</td>\n",
       "      <td>0</td>\n",
       "      <td>1</td>\n",
       "      <td>42085.58</td>\n",
       "      <td>1</td>\n",
       "    </tr>\n",
       "    <tr>\n",
       "      <th>9998</th>\n",
       "      <td>15725091</td>\n",
       "      <td>772</td>\n",
       "      <td>Ростов Великий</td>\n",
       "      <td>М</td>\n",
       "      <td>42</td>\n",
       "      <td>3</td>\n",
       "      <td>75075.31</td>\n",
       "      <td>2</td>\n",
       "      <td>1</td>\n",
       "      <td>0</td>\n",
       "      <td>92888.52</td>\n",
       "      <td>1</td>\n",
       "    </tr>\n",
       "    <tr>\n",
       "      <th>9999</th>\n",
       "      <td>15671055</td>\n",
       "      <td>792</td>\n",
       "      <td>Ярославль</td>\n",
       "      <td>Ж</td>\n",
       "      <td>28</td>\n",
       "      <td>4</td>\n",
       "      <td>130142.79</td>\n",
       "      <td>1</td>\n",
       "      <td>1</td>\n",
       "      <td>0</td>\n",
       "      <td>38190.78</td>\n",
       "      <td>0</td>\n",
       "    </tr>\n",
       "  </tbody>\n",
       "</table>\n",
       "</div>"
      ],
      "text/plain": [
       "        userid  score            City Gender  Age  Objects    Balance  \\\n",
       "9995  15648965    771       Ярославль      М   39        5        NaN   \n",
       "9996  15612628    516       Ярославль      М   35       10   57369.61   \n",
       "9997  15627268    709       Ярославль      Ж   36        7        NaN   \n",
       "9998  15725091    772  Ростов Великий      М   42        3   75075.31   \n",
       "9999  15671055    792       Ярославль      Ж   28        4  130142.79   \n",
       "\n",
       "      Products  CreditCard  Loyalty  estimated_salary  Churn  \n",
       "9995         2           1        0          96270.64      0  \n",
       "9996         1           1        1         101699.77      0  \n",
       "9997         1           0        1          42085.58      1  \n",
       "9998         2           1        0          92888.52      1  \n",
       "9999         1           1        0          38190.78      0  "
      ]
     },
     "execution_count": 92,
     "metadata": {},
     "output_type": "execute_result"
    }
   ],
   "source": [
    "df.tail()"
   ]
  },
  {
   "cell_type": "code",
   "execution_count": 93,
   "id": "ad4740db",
   "metadata": {},
   "outputs": [
    {
     "data": {
      "text/plain": [
       "(10000, 12)"
      ]
     },
     "execution_count": 93,
     "metadata": {},
     "output_type": "execute_result"
    }
   ],
   "source": [
    "df.shape"
   ]
  },
  {
   "cell_type": "markdown",
   "id": "cbda2039",
   "metadata": {},
   "source": [
    "в  датасете 10 тысяч строк и 12 столбцов"
   ]
  },
  {
   "cell_type": "code",
   "execution_count": 94,
   "id": "53becb03",
   "metadata": {},
   "outputs": [],
   "source": [
    "# приведем названия столбцов к нижнему регистру \n",
    "\n",
    "df.columns = df.columns.str.lower()"
   ]
  },
  {
   "cell_type": "code",
   "execution_count": 95,
   "id": "3718458a",
   "metadata": {},
   "outputs": [
    {
     "data": {
      "text/plain": [
       "Index(['userid', 'score', 'city', 'gender', 'age', 'objects', 'balance',\n",
       "       'products', 'creditcard', 'loyalty', 'estimated_salary', 'churn'],\n",
       "      dtype='object')"
      ]
     },
     "execution_count": 95,
     "metadata": {},
     "output_type": "execute_result"
    }
   ],
   "source": [
    "df.columns"
   ]
  },
  {
   "cell_type": "code",
   "execution_count": 96,
   "id": "48d067fb",
   "metadata": {},
   "outputs": [],
   "source": [
    "df.rename(columns = {'userid':'user_id'}, inplace = True)"
   ]
  },
  {
   "cell_type": "code",
   "execution_count": 97,
   "id": "1bdfb12f",
   "metadata": {},
   "outputs": [
    {
     "data": {
      "text/html": [
       "<div>\n",
       "<style scoped>\n",
       "    .dataframe tbody tr th:only-of-type {\n",
       "        vertical-align: middle;\n",
       "    }\n",
       "\n",
       "    .dataframe tbody tr th {\n",
       "        vertical-align: top;\n",
       "    }\n",
       "\n",
       "    .dataframe thead th {\n",
       "        text-align: right;\n",
       "    }\n",
       "</style>\n",
       "<table border=\"1\" class=\"dataframe\">\n",
       "  <thead>\n",
       "    <tr style=\"text-align: right;\">\n",
       "      <th></th>\n",
       "      <th>user_id</th>\n",
       "      <th>score</th>\n",
       "      <th>age</th>\n",
       "      <th>objects</th>\n",
       "      <th>balance</th>\n",
       "      <th>products</th>\n",
       "      <th>creditcard</th>\n",
       "      <th>loyalty</th>\n",
       "      <th>estimated_salary</th>\n",
       "      <th>churn</th>\n",
       "    </tr>\n",
       "  </thead>\n",
       "  <tbody>\n",
       "    <tr>\n",
       "      <th>count</th>\n",
       "      <td>1.000000e+04</td>\n",
       "      <td>10000.000000</td>\n",
       "      <td>10000.000000</td>\n",
       "      <td>10000.000000</td>\n",
       "      <td>6383.000000</td>\n",
       "      <td>10000.000000</td>\n",
       "      <td>10000.00000</td>\n",
       "      <td>10000.000000</td>\n",
       "      <td>10000.000000</td>\n",
       "      <td>10000.000000</td>\n",
       "    </tr>\n",
       "    <tr>\n",
       "      <th>mean</th>\n",
       "      <td>1.573368e+07</td>\n",
       "      <td>650.528800</td>\n",
       "      <td>38.921800</td>\n",
       "      <td>5.012800</td>\n",
       "      <td>119827.493793</td>\n",
       "      <td>1.530200</td>\n",
       "      <td>0.70550</td>\n",
       "      <td>0.515100</td>\n",
       "      <td>100090.239881</td>\n",
       "      <td>0.203700</td>\n",
       "    </tr>\n",
       "    <tr>\n",
       "      <th>std</th>\n",
       "      <td>7.193619e+04</td>\n",
       "      <td>96.653299</td>\n",
       "      <td>10.487806</td>\n",
       "      <td>2.892174</td>\n",
       "      <td>30095.056462</td>\n",
       "      <td>0.581654</td>\n",
       "      <td>0.45584</td>\n",
       "      <td>0.499797</td>\n",
       "      <td>57510.492818</td>\n",
       "      <td>0.402769</td>\n",
       "    </tr>\n",
       "    <tr>\n",
       "      <th>min</th>\n",
       "      <td>1.560844e+07</td>\n",
       "      <td>350.000000</td>\n",
       "      <td>18.000000</td>\n",
       "      <td>0.000000</td>\n",
       "      <td>3768.690000</td>\n",
       "      <td>1.000000</td>\n",
       "      <td>0.00000</td>\n",
       "      <td>0.000000</td>\n",
       "      <td>11.580000</td>\n",
       "      <td>0.000000</td>\n",
       "    </tr>\n",
       "    <tr>\n",
       "      <th>25%</th>\n",
       "      <td>1.567126e+07</td>\n",
       "      <td>584.000000</td>\n",
       "      <td>32.000000</td>\n",
       "      <td>3.000000</td>\n",
       "      <td>100181.975000</td>\n",
       "      <td>1.000000</td>\n",
       "      <td>0.00000</td>\n",
       "      <td>0.000000</td>\n",
       "      <td>51002.110000</td>\n",
       "      <td>0.000000</td>\n",
       "    </tr>\n",
       "    <tr>\n",
       "      <th>50%</th>\n",
       "      <td>1.573347e+07</td>\n",
       "      <td>652.000000</td>\n",
       "      <td>37.000000</td>\n",
       "      <td>5.000000</td>\n",
       "      <td>119839.690000</td>\n",
       "      <td>1.000000</td>\n",
       "      <td>1.00000</td>\n",
       "      <td>1.000000</td>\n",
       "      <td>100193.915000</td>\n",
       "      <td>0.000000</td>\n",
       "    </tr>\n",
       "    <tr>\n",
       "      <th>75%</th>\n",
       "      <td>1.579597e+07</td>\n",
       "      <td>718.000000</td>\n",
       "      <td>44.000000</td>\n",
       "      <td>7.000000</td>\n",
       "      <td>139512.290000</td>\n",
       "      <td>2.000000</td>\n",
       "      <td>1.00000</td>\n",
       "      <td>1.000000</td>\n",
       "      <td>149388.247500</td>\n",
       "      <td>0.000000</td>\n",
       "    </tr>\n",
       "    <tr>\n",
       "      <th>max</th>\n",
       "      <td>1.585843e+07</td>\n",
       "      <td>850.000000</td>\n",
       "      <td>92.000000</td>\n",
       "      <td>10.000000</td>\n",
       "      <td>250898.090000</td>\n",
       "      <td>4.000000</td>\n",
       "      <td>1.00000</td>\n",
       "      <td>1.000000</td>\n",
       "      <td>199992.480000</td>\n",
       "      <td>1.000000</td>\n",
       "    </tr>\n",
       "  </tbody>\n",
       "</table>\n",
       "</div>"
      ],
      "text/plain": [
       "            user_id         score           age       objects        balance  \\\n",
       "count  1.000000e+04  10000.000000  10000.000000  10000.000000    6383.000000   \n",
       "mean   1.573368e+07    650.528800     38.921800      5.012800  119827.493793   \n",
       "std    7.193619e+04     96.653299     10.487806      2.892174   30095.056462   \n",
       "min    1.560844e+07    350.000000     18.000000      0.000000    3768.690000   \n",
       "25%    1.567126e+07    584.000000     32.000000      3.000000  100181.975000   \n",
       "50%    1.573347e+07    652.000000     37.000000      5.000000  119839.690000   \n",
       "75%    1.579597e+07    718.000000     44.000000      7.000000  139512.290000   \n",
       "max    1.585843e+07    850.000000     92.000000     10.000000  250898.090000   \n",
       "\n",
       "           products   creditcard       loyalty  estimated_salary         churn  \n",
       "count  10000.000000  10000.00000  10000.000000      10000.000000  10000.000000  \n",
       "mean       1.530200      0.70550      0.515100     100090.239881      0.203700  \n",
       "std        0.581654      0.45584      0.499797      57510.492818      0.402769  \n",
       "min        1.000000      0.00000      0.000000         11.580000      0.000000  \n",
       "25%        1.000000      0.00000      0.000000      51002.110000      0.000000  \n",
       "50%        1.000000      1.00000      1.000000     100193.915000      0.000000  \n",
       "75%        2.000000      1.00000      1.000000     149388.247500      0.000000  \n",
       "max        4.000000      1.00000      1.000000     199992.480000      1.000000  "
      ]
     },
     "execution_count": 97,
     "metadata": {},
     "output_type": "execute_result"
    }
   ],
   "source": [
    "df.describe()"
   ]
  },
  {
   "cell_type": "code",
   "execution_count": 98,
   "id": "6f88b4f1",
   "metadata": {
    "scrolled": false
   },
   "outputs": [
    {
     "name": "stdout",
     "output_type": "stream",
     "text": [
      "<class 'pandas.core.frame.DataFrame'>\n",
      "RangeIndex: 10000 entries, 0 to 9999\n",
      "Data columns (total 12 columns):\n",
      " #   Column            Non-Null Count  Dtype  \n",
      "---  ------            --------------  -----  \n",
      " 0   user_id           10000 non-null  int64  \n",
      " 1   score             10000 non-null  int64  \n",
      " 2   city              10000 non-null  object \n",
      " 3   gender            10000 non-null  object \n",
      " 4   age               10000 non-null  int64  \n",
      " 5   objects           10000 non-null  int64  \n",
      " 6   balance           6383 non-null   float64\n",
      " 7   products          10000 non-null  int64  \n",
      " 8   creditcard        10000 non-null  int64  \n",
      " 9   loyalty           10000 non-null  int64  \n",
      " 10  estimated_salary  10000 non-null  float64\n",
      " 11  churn             10000 non-null  int64  \n",
      "dtypes: float64(2), int64(8), object(2)\n",
      "memory usage: 937.6+ KB\n"
     ]
    }
   ],
   "source": [
    "df.info()"
   ]
  },
  {
   "cell_type": "markdown",
   "id": "3eb6364a",
   "metadata": {},
   "source": [
    "Из всех типов данных коррекции требует только столбец с зарплатой. Со всеми остальными столбцами все ок, ничего менять не нужно.  "
   ]
  },
  {
   "cell_type": "markdown",
   "id": "9f28c567",
   "metadata": {},
   "source": [
    "Пропуски есть только в столбце с балансом. "
   ]
  },
  {
   "cell_type": "code",
   "execution_count": 99,
   "id": "ca928721",
   "metadata": {},
   "outputs": [],
   "source": [
    "# для более удобной дальнейшей работы приведем столбец с зарплатой к целочисленному типу\n",
    "# копейки в данном случае нам совершенно ни к чему\n",
    "\n",
    "df['estimated_salary'] = df['estimated_salary'].astype('int')"
   ]
  },
  {
   "cell_type": "code",
   "execution_count": 100,
   "id": "59bffab2",
   "metadata": {},
   "outputs": [
    {
     "data": {
      "text/plain": [
       "0"
      ]
     },
     "execution_count": 100,
     "metadata": {},
     "output_type": "execute_result"
    }
   ],
   "source": [
    "df.duplicated().sum()"
   ]
  },
  {
   "cell_type": "markdown",
   "id": "6afd302b",
   "metadata": {},
   "source": [
    "дубликатов нет"
   ]
  },
  {
   "cell_type": "code",
   "execution_count": 101,
   "id": "c87cef0b",
   "metadata": {},
   "outputs": [
    {
     "data": {
      "text/plain": [
       "3617"
      ]
     },
     "execution_count": 101,
     "metadata": {},
     "output_type": "execute_result"
    }
   ],
   "source": [
    "len(df[df['balance'].isna()])"
   ]
  },
  {
   "cell_type": "code",
   "execution_count": 102,
   "id": "b55f2498",
   "metadata": {},
   "outputs": [
    {
     "data": {
      "text/html": [
       "<div>\n",
       "<style scoped>\n",
       "    .dataframe tbody tr th:only-of-type {\n",
       "        vertical-align: middle;\n",
       "    }\n",
       "\n",
       "    .dataframe tbody tr th {\n",
       "        vertical-align: top;\n",
       "    }\n",
       "\n",
       "    .dataframe thead th {\n",
       "        text-align: right;\n",
       "    }\n",
       "</style>\n",
       "<table border=\"1\" class=\"dataframe\">\n",
       "  <thead>\n",
       "    <tr style=\"text-align: right;\">\n",
       "      <th></th>\n",
       "      <th>user_id</th>\n",
       "      <th>score</th>\n",
       "      <th>city</th>\n",
       "      <th>gender</th>\n",
       "      <th>age</th>\n",
       "      <th>objects</th>\n",
       "      <th>balance</th>\n",
       "      <th>products</th>\n",
       "      <th>creditcard</th>\n",
       "      <th>loyalty</th>\n",
       "      <th>estimated_salary</th>\n",
       "      <th>churn</th>\n",
       "    </tr>\n",
       "  </thead>\n",
       "  <tbody>\n",
       "    <tr>\n",
       "      <th>0</th>\n",
       "      <td>15677338</td>\n",
       "      <td>619</td>\n",
       "      <td>Ярославль</td>\n",
       "      <td>Ж</td>\n",
       "      <td>42</td>\n",
       "      <td>2</td>\n",
       "      <td>NaN</td>\n",
       "      <td>1</td>\n",
       "      <td>1</td>\n",
       "      <td>1</td>\n",
       "      <td>101348</td>\n",
       "      <td>1</td>\n",
       "    </tr>\n",
       "    <tr>\n",
       "      <th>3</th>\n",
       "      <td>15744090</td>\n",
       "      <td>699</td>\n",
       "      <td>Ярославль</td>\n",
       "      <td>Ж</td>\n",
       "      <td>39</td>\n",
       "      <td>1</td>\n",
       "      <td>NaN</td>\n",
       "      <td>2</td>\n",
       "      <td>0</td>\n",
       "      <td>0</td>\n",
       "      <td>93826</td>\n",
       "      <td>0</td>\n",
       "    </tr>\n",
       "    <tr>\n",
       "      <th>6</th>\n",
       "      <td>15635267</td>\n",
       "      <td>822</td>\n",
       "      <td>Ярославль</td>\n",
       "      <td>М</td>\n",
       "      <td>50</td>\n",
       "      <td>7</td>\n",
       "      <td>NaN</td>\n",
       "      <td>2</td>\n",
       "      <td>1</td>\n",
       "      <td>1</td>\n",
       "      <td>10062</td>\n",
       "      <td>0</td>\n",
       "    </tr>\n",
       "    <tr>\n",
       "      <th>11</th>\n",
       "      <td>15779909</td>\n",
       "      <td>497</td>\n",
       "      <td>Рыбинск</td>\n",
       "      <td>М</td>\n",
       "      <td>24</td>\n",
       "      <td>3</td>\n",
       "      <td>NaN</td>\n",
       "      <td>2</td>\n",
       "      <td>1</td>\n",
       "      <td>0</td>\n",
       "      <td>76390</td>\n",
       "      <td>0</td>\n",
       "    </tr>\n",
       "    <tr>\n",
       "      <th>12</th>\n",
       "      <td>15675000</td>\n",
       "      <td>476</td>\n",
       "      <td>Ярославль</td>\n",
       "      <td>Ж</td>\n",
       "      <td>34</td>\n",
       "      <td>10</td>\n",
       "      <td>NaN</td>\n",
       "      <td>2</td>\n",
       "      <td>1</td>\n",
       "      <td>0</td>\n",
       "      <td>26260</td>\n",
       "      <td>0</td>\n",
       "    </tr>\n",
       "    <tr>\n",
       "      <th>13</th>\n",
       "      <td>15734219</td>\n",
       "      <td>549</td>\n",
       "      <td>Ярославль</td>\n",
       "      <td>Ж</td>\n",
       "      <td>25</td>\n",
       "      <td>5</td>\n",
       "      <td>NaN</td>\n",
       "      <td>2</td>\n",
       "      <td>0</td>\n",
       "      <td>0</td>\n",
       "      <td>190857</td>\n",
       "      <td>0</td>\n",
       "    </tr>\n",
       "    <tr>\n",
       "      <th>14</th>\n",
       "      <td>15643618</td>\n",
       "      <td>635</td>\n",
       "      <td>Рыбинск</td>\n",
       "      <td>Ж</td>\n",
       "      <td>35</td>\n",
       "      <td>7</td>\n",
       "      <td>NaN</td>\n",
       "      <td>2</td>\n",
       "      <td>1</td>\n",
       "      <td>1</td>\n",
       "      <td>65951</td>\n",
       "      <td>0</td>\n",
       "    </tr>\n",
       "    <tr>\n",
       "      <th>17</th>\n",
       "      <td>15830954</td>\n",
       "      <td>549</td>\n",
       "      <td>Рыбинск</td>\n",
       "      <td>Ж</td>\n",
       "      <td>24</td>\n",
       "      <td>9</td>\n",
       "      <td>NaN</td>\n",
       "      <td>2</td>\n",
       "      <td>1</td>\n",
       "      <td>1</td>\n",
       "      <td>14406</td>\n",
       "      <td>0</td>\n",
       "    </tr>\n",
       "    <tr>\n",
       "      <th>18</th>\n",
       "      <td>15704243</td>\n",
       "      <td>587</td>\n",
       "      <td>Рыбинск</td>\n",
       "      <td>М</td>\n",
       "      <td>45</td>\n",
       "      <td>6</td>\n",
       "      <td>NaN</td>\n",
       "      <td>1</td>\n",
       "      <td>0</td>\n",
       "      <td>0</td>\n",
       "      <td>158684</td>\n",
       "      <td>0</td>\n",
       "    </tr>\n",
       "    <tr>\n",
       "      <th>19</th>\n",
       "      <td>15611718</td>\n",
       "      <td>726</td>\n",
       "      <td>Ярославль</td>\n",
       "      <td>Ж</td>\n",
       "      <td>24</td>\n",
       "      <td>6</td>\n",
       "      <td>NaN</td>\n",
       "      <td>2</td>\n",
       "      <td>1</td>\n",
       "      <td>1</td>\n",
       "      <td>54724</td>\n",
       "      <td>0</td>\n",
       "    </tr>\n",
       "  </tbody>\n",
       "</table>\n",
       "</div>"
      ],
      "text/plain": [
       "     user_id  score       city gender  age  objects  balance  products  \\\n",
       "0   15677338    619  Ярославль      Ж   42        2      NaN         1   \n",
       "3   15744090    699  Ярославль      Ж   39        1      NaN         2   \n",
       "6   15635267    822  Ярославль      М   50        7      NaN         2   \n",
       "11  15779909    497    Рыбинск      М   24        3      NaN         2   \n",
       "12  15675000    476  Ярославль      Ж   34       10      NaN         2   \n",
       "13  15734219    549  Ярославль      Ж   25        5      NaN         2   \n",
       "14  15643618    635    Рыбинск      Ж   35        7      NaN         2   \n",
       "17  15830954    549    Рыбинск      Ж   24        9      NaN         2   \n",
       "18  15704243    587    Рыбинск      М   45        6      NaN         1   \n",
       "19  15611718    726  Ярославль      Ж   24        6      NaN         2   \n",
       "\n",
       "    creditcard  loyalty  estimated_salary  churn  \n",
       "0            1        1            101348      1  \n",
       "3            0        0             93826      0  \n",
       "6            1        1             10062      0  \n",
       "11           1        0             76390      0  \n",
       "12           1        0             26260      0  \n",
       "13           0        0            190857      0  \n",
       "14           1        1             65951      0  \n",
       "17           1        1             14406      0  \n",
       "18           0        0            158684      0  \n",
       "19           1        1             54724      0  "
      ]
     },
     "execution_count": 102,
     "metadata": {},
     "output_type": "execute_result"
    }
   ],
   "source": [
    "df[df['balance'].isna()].head(10)"
   ]
  },
  {
   "cell_type": "code",
   "execution_count": 103,
   "id": "50d9fcf2",
   "metadata": {},
   "outputs": [
    {
     "name": "stdout",
     "output_type": "stream",
     "text": [
      "Минимальный рейтинг кредитного скоринга: 350\n",
      "Максимальный рейтинг кредитного скоринга: 850\n"
     ]
    }
   ],
   "source": [
    "print('Минимальный рейтинг кредитного скоринга:', df['score'].min())\n",
    "print('Максимальный рейтинг кредитного скоринга:', df['score'].max())"
   ]
  },
  {
   "cell_type": "markdown",
   "id": "938efc1e",
   "metadata": {},
   "source": [
    "Для того, чтобы получить кредит, клиент должен иметь больше 600 баллов кредитного скоринга."
   ]
  },
  {
   "cell_type": "code",
   "execution_count": 104,
   "id": "fe4a246d",
   "metadata": {},
   "outputs": [
    {
     "data": {
      "text/plain": [
       "array(['Ярославль', 'Рыбинск', 'Ростов Великий'], dtype=object)"
      ]
     },
     "execution_count": 104,
     "metadata": {},
     "output_type": "execute_result"
    }
   ],
   "source": [
    "df['city'].unique()"
   ]
  },
  {
   "cell_type": "code",
   "execution_count": 105,
   "id": "1c9ebb91",
   "metadata": {
    "scrolled": true
   },
   "outputs": [
    {
     "data": {
      "text/plain": [
       "'Самый молодой клиент:'"
      ]
     },
     "metadata": {},
     "output_type": "display_data"
    },
    {
     "data": {
      "text/plain": [
       "18"
      ]
     },
     "metadata": {},
     "output_type": "display_data"
    },
    {
     "data": {
      "text/plain": [
       "'Самый старый клиент:'"
      ]
     },
     "metadata": {},
     "output_type": "display_data"
    },
    {
     "data": {
      "text/plain": [
       "92"
      ]
     },
     "metadata": {},
     "output_type": "display_data"
    }
   ],
   "source": [
    "display('Самый молодой клиент:', df['age'].min())\n",
    "display('Самый старый клиент:', df['age'].max())"
   ]
  },
  {
   "cell_type": "markdown",
   "id": "4f07d295",
   "metadata": {},
   "source": [
    "Аномальных значений в столбце с возрастом нет. Несмотря на то, что максимальный возраст для получения кредита в РФ - 60 лет, я не вижу ничего удивительного в том, что есть клиенты за 90 лет потому, что они могут присутствовать в базе потому, что пользуются дебетовой картой (на которую им может приходить пенсия).   \n",
    "\n",
    "Если бы у нас были клиенты младше 16-ти лет (чаще всего требования банков по поводу минимального возраста заемщиков - это 18 лет, но некоторые дают с 16-ти при условии, если заемщик имеет официальную работу и \"белую\" зарплату), это абсолютно точно были бы неправдоподобные данные. Это к слову о проверке данных на реалистичность, о которой я писала в плане работы (декомпозиции). "
   ]
  },
  {
   "cell_type": "code",
   "execution_count": 106,
   "id": "b4b8fb96",
   "metadata": {},
   "outputs": [
    {
     "name": "stdout",
     "output_type": "stream",
     "text": [
      "Самая маленькая зарплата клиента: 11\n",
      "Самая большая зарплата: 199992\n"
     ]
    }
   ],
   "source": [
    "print('Самая маленькая зарплата клиента:', df['estimated_salary'].min())\n",
    "print('Самая большая зарплата:', df['estimated_salary'].max())"
   ]
  },
  {
   "cell_type": "markdown",
   "id": "e9339380",
   "metadata": {},
   "source": [
    "Минимальная заработная плата выглядит слишком низкой - 11 рублей. Первое, что приходит на ум - это то, что произошел сбой при выгрузке данных и три нуля отбросились. Или изначально по ошибке указали без трех нулей после 11.  \n",
    "\n",
    "Минимальная зарплата в России в 2022 году -  13890 руб, но бывает такое, когда человек получает пенсию по инвалидности (она очень часто меньше МРОТ. Бывает, что и намного),  или работает на 1/4 ставки по сдельной оплате и получает меньше минималки (лично знаю такие случаи). \n",
    "\n",
    "Так же возможен вариант, что данные не предоставили и значения были получены при расчетах специальной моделью. Посмотрим на строки, где зарплата клиента ниже минимальной по России."
   ]
  },
  {
   "cell_type": "markdown",
   "id": "8e8bb23d",
   "metadata": {},
   "source": [
    "Сначала посчитаем, сколько всего у нас таких значений в датасете:"
   ]
  },
  {
   "cell_type": "code",
   "execution_count": 107,
   "id": "b56e4899",
   "metadata": {},
   "outputs": [
    {
     "data": {
      "text/plain": [
       "694"
      ]
     },
     "execution_count": 107,
     "metadata": {},
     "output_type": "execute_result"
    }
   ],
   "source": [
    "df_very_low_salary = df[df['estimated_salary'] < 13890]\n",
    "len(df_very_low_salary)"
   ]
  },
  {
   "cell_type": "markdown",
   "id": "b2e1e93a",
   "metadata": {},
   "source": [
    "694 человека имеет доход ниже минималки"
   ]
  },
  {
   "cell_type": "code",
   "execution_count": 108,
   "id": "1a7591a3",
   "metadata": {
    "scrolled": true
   },
   "outputs": [
    {
     "data": {
      "text/html": [
       "<div>\n",
       "<style scoped>\n",
       "    .dataframe tbody tr th:only-of-type {\n",
       "        vertical-align: middle;\n",
       "    }\n",
       "\n",
       "    .dataframe tbody tr th {\n",
       "        vertical-align: top;\n",
       "    }\n",
       "\n",
       "    .dataframe thead th {\n",
       "        text-align: right;\n",
       "    }\n",
       "</style>\n",
       "<table border=\"1\" class=\"dataframe\">\n",
       "  <thead>\n",
       "    <tr style=\"text-align: right;\">\n",
       "      <th></th>\n",
       "      <th>user_id</th>\n",
       "      <th>score</th>\n",
       "      <th>city</th>\n",
       "      <th>gender</th>\n",
       "      <th>age</th>\n",
       "      <th>objects</th>\n",
       "      <th>balance</th>\n",
       "      <th>products</th>\n",
       "      <th>creditcard</th>\n",
       "      <th>loyalty</th>\n",
       "      <th>estimated_salary</th>\n",
       "      <th>churn</th>\n",
       "    </tr>\n",
       "  </thead>\n",
       "  <tbody>\n",
       "    <tr>\n",
       "      <th>1466</th>\n",
       "      <td>15693127</td>\n",
       "      <td>633</td>\n",
       "      <td>Ярославль</td>\n",
       "      <td>Ж</td>\n",
       "      <td>29</td>\n",
       "      <td>7</td>\n",
       "      <td>169988.35</td>\n",
       "      <td>1</td>\n",
       "      <td>1</td>\n",
       "      <td>0</td>\n",
       "      <td>4272</td>\n",
       "      <td>0</td>\n",
       "    </tr>\n",
       "    <tr>\n",
       "      <th>564</th>\n",
       "      <td>15830862</td>\n",
       "      <td>689</td>\n",
       "      <td>Рыбинск</td>\n",
       "      <td>Ж</td>\n",
       "      <td>38</td>\n",
       "      <td>6</td>\n",
       "      <td>121021.05</td>\n",
       "      <td>1</td>\n",
       "      <td>1</td>\n",
       "      <td>1</td>\n",
       "      <td>12182</td>\n",
       "      <td>0</td>\n",
       "    </tr>\n",
       "    <tr>\n",
       "      <th>4933</th>\n",
       "      <td>15830333</td>\n",
       "      <td>420</td>\n",
       "      <td>Ростов Великий</td>\n",
       "      <td>Ж</td>\n",
       "      <td>31</td>\n",
       "      <td>1</td>\n",
       "      <td>108377.75</td>\n",
       "      <td>2</td>\n",
       "      <td>1</td>\n",
       "      <td>1</td>\n",
       "      <td>9904</td>\n",
       "      <td>0</td>\n",
       "    </tr>\n",
       "    <tr>\n",
       "      <th>9555</th>\n",
       "      <td>15698096</td>\n",
       "      <td>782</td>\n",
       "      <td>Ростов Великий</td>\n",
       "      <td>Ж</td>\n",
       "      <td>72</td>\n",
       "      <td>5</td>\n",
       "      <td>148666.99</td>\n",
       "      <td>1</td>\n",
       "      <td>1</td>\n",
       "      <td>0</td>\n",
       "      <td>2605</td>\n",
       "      <td>1</td>\n",
       "    </tr>\n",
       "    <tr>\n",
       "      <th>1607</th>\n",
       "      <td>15691457</td>\n",
       "      <td>711</td>\n",
       "      <td>Ярославль</td>\n",
       "      <td>М</td>\n",
       "      <td>64</td>\n",
       "      <td>4</td>\n",
       "      <td>NaN</td>\n",
       "      <td>2</td>\n",
       "      <td>1</td>\n",
       "      <td>1</td>\n",
       "      <td>3185</td>\n",
       "      <td>0</td>\n",
       "    </tr>\n",
       "    <tr>\n",
       "      <th>8668</th>\n",
       "      <td>15730455</td>\n",
       "      <td>532</td>\n",
       "      <td>Рыбинск</td>\n",
       "      <td>Ж</td>\n",
       "      <td>37</td>\n",
       "      <td>5</td>\n",
       "      <td>NaN</td>\n",
       "      <td>2</td>\n",
       "      <td>0</td>\n",
       "      <td>1</td>\n",
       "      <td>6761</td>\n",
       "      <td>0</td>\n",
       "    </tr>\n",
       "    <tr>\n",
       "      <th>1506</th>\n",
       "      <td>15642692</td>\n",
       "      <td>747</td>\n",
       "      <td>Ярославль</td>\n",
       "      <td>М</td>\n",
       "      <td>27</td>\n",
       "      <td>10</td>\n",
       "      <td>NaN</td>\n",
       "      <td>2</td>\n",
       "      <td>0</td>\n",
       "      <td>0</td>\n",
       "      <td>13007</td>\n",
       "      <td>0</td>\n",
       "    </tr>\n",
       "    <tr>\n",
       "      <th>9722</th>\n",
       "      <td>15739324</td>\n",
       "      <td>679</td>\n",
       "      <td>Ярославль</td>\n",
       "      <td>Ж</td>\n",
       "      <td>36</td>\n",
       "      <td>3</td>\n",
       "      <td>NaN</td>\n",
       "      <td>2</td>\n",
       "      <td>1</td>\n",
       "      <td>1</td>\n",
       "      <td>2243</td>\n",
       "      <td>0</td>\n",
       "    </tr>\n",
       "    <tr>\n",
       "      <th>1645</th>\n",
       "      <td>15642846</td>\n",
       "      <td>506</td>\n",
       "      <td>Ростов Великий</td>\n",
       "      <td>Ж</td>\n",
       "      <td>41</td>\n",
       "      <td>3</td>\n",
       "      <td>57745.76</td>\n",
       "      <td>1</td>\n",
       "      <td>1</td>\n",
       "      <td>0</td>\n",
       "      <td>4035</td>\n",
       "      <td>0</td>\n",
       "    </tr>\n",
       "    <tr>\n",
       "      <th>4032</th>\n",
       "      <td>15636291</td>\n",
       "      <td>430</td>\n",
       "      <td>Ярославль</td>\n",
       "      <td>М</td>\n",
       "      <td>38</td>\n",
       "      <td>9</td>\n",
       "      <td>NaN</td>\n",
       "      <td>2</td>\n",
       "      <td>1</td>\n",
       "      <td>1</td>\n",
       "      <td>12050</td>\n",
       "      <td>0</td>\n",
       "    </tr>\n",
       "  </tbody>\n",
       "</table>\n",
       "</div>"
      ],
      "text/plain": [
       "       user_id  score            city gender  age  objects    balance  \\\n",
       "1466  15693127    633       Ярославль      Ж   29        7  169988.35   \n",
       "564   15830862    689         Рыбинск      Ж   38        6  121021.05   \n",
       "4933  15830333    420  Ростов Великий      Ж   31        1  108377.75   \n",
       "9555  15698096    782  Ростов Великий      Ж   72        5  148666.99   \n",
       "1607  15691457    711       Ярославль      М   64        4        NaN   \n",
       "8668  15730455    532         Рыбинск      Ж   37        5        NaN   \n",
       "1506  15642692    747       Ярославль      М   27       10        NaN   \n",
       "9722  15739324    679       Ярославль      Ж   36        3        NaN   \n",
       "1645  15642846    506  Ростов Великий      Ж   41        3   57745.76   \n",
       "4032  15636291    430       Ярославль      М   38        9        NaN   \n",
       "\n",
       "      products  creditcard  loyalty  estimated_salary  churn  \n",
       "1466         1           1        0              4272      0  \n",
       "564          1           1        1             12182      0  \n",
       "4933         2           1        1              9904      0  \n",
       "9555         1           1        0              2605      1  \n",
       "1607         2           1        1              3185      0  \n",
       "8668         2           0        1              6761      0  \n",
       "1506         2           0        0             13007      0  \n",
       "9722         2           1        1              2243      0  \n",
       "1645         1           1        0              4035      0  \n",
       "4032         2           1        1             12050      0  "
      ]
     },
     "execution_count": 108,
     "metadata": {},
     "output_type": "execute_result"
    }
   ],
   "source": [
    "df_very_low_salary.sample(10)"
   ]
  },
  {
   "cell_type": "markdown",
   "id": "afa2c87b",
   "metadata": {},
   "source": [
    "Посмотрим, для каких городов больше всего характерно такое явление, как зп ниже минималки. И сопоставить эти цифры с тем, сколько у нас вообще клиентов в разных городах. "
   ]
  },
  {
   "cell_type": "code",
   "execution_count": 109,
   "id": "b4822c46",
   "metadata": {},
   "outputs": [
    {
     "data": {
      "text/plain": [
       "Ярославль         5014\n",
       "Ростов Великий    2509\n",
       "Рыбинск           2477\n",
       "Name: city, dtype: int64"
      ]
     },
     "execution_count": 109,
     "metadata": {},
     "output_type": "execute_result"
    }
   ],
   "source": [
    "df['city'].value_counts()"
   ]
  },
  {
   "cell_type": "code",
   "execution_count": 110,
   "id": "12f220a8",
   "metadata": {},
   "outputs": [
    {
     "data": {
      "text/plain": [
       "Ярославль         351\n",
       "Рыбинск           178\n",
       "Ростов Великий    165\n",
       "Name: city, dtype: int64"
      ]
     },
     "execution_count": 110,
     "metadata": {},
     "output_type": "execute_result"
    }
   ],
   "source": [
    "df_very_low_salary['city'].value_counts()"
   ]
  },
  {
   "cell_type": "markdown",
   "id": "b71232e2",
   "metadata": {},
   "source": [
    "Больше всего клиентов с зарплатой ниже минималки -  в Ярославле. Что касается Рыбинска и Ростова Великого, то там таких клиентов почти в 2 раза меньше и примерно поровну в обоих городах.\n",
    "\n",
    "Эти пропорции совпадают с тем, сколько у нас всего клиентов в вышеупомянутых городах."
   ]
  },
  {
   "cell_type": "code",
   "execution_count": 111,
   "id": "a54505ac",
   "metadata": {},
   "outputs": [
    {
     "data": {
      "text/plain": [
       "0    7963\n",
       "1    2037\n",
       "Name: churn, dtype: int64"
      ]
     },
     "execution_count": 111,
     "metadata": {},
     "output_type": "execute_result"
    }
   ],
   "source": [
    "df['churn'].value_counts()"
   ]
  },
  {
   "cell_type": "code",
   "execution_count": 112,
   "id": "6a845a40",
   "metadata": {
    "scrolled": true
   },
   "outputs": [
    {
     "data": {
      "text/plain": [
       "0    558\n",
       "1    136\n",
       "Name: churn, dtype: int64"
      ]
     },
     "execution_count": 112,
     "metadata": {},
     "output_type": "execute_result"
    }
   ],
   "source": [
    "df_very_low_salary['churn'].value_counts()"
   ]
  },
  {
   "cell_type": "code",
   "execution_count": 113,
   "id": "912fdb26",
   "metadata": {
    "scrolled": true
   },
   "outputs": [
    {
     "data": {
      "text/html": [
       "<div>\n",
       "<style scoped>\n",
       "    .dataframe tbody tr th:only-of-type {\n",
       "        vertical-align: middle;\n",
       "    }\n",
       "\n",
       "    .dataframe tbody tr th {\n",
       "        vertical-align: top;\n",
       "    }\n",
       "\n",
       "    .dataframe thead th {\n",
       "        text-align: right;\n",
       "    }\n",
       "</style>\n",
       "<table border=\"1\" class=\"dataframe\">\n",
       "  <thead>\n",
       "    <tr style=\"text-align: right;\">\n",
       "      <th></th>\n",
       "      <th>user_id</th>\n",
       "      <th>score</th>\n",
       "      <th>age</th>\n",
       "      <th>objects</th>\n",
       "      <th>balance</th>\n",
       "      <th>products</th>\n",
       "      <th>creditcard</th>\n",
       "      <th>loyalty</th>\n",
       "      <th>estimated_salary</th>\n",
       "      <th>churn</th>\n",
       "    </tr>\n",
       "  </thead>\n",
       "  <tbody>\n",
       "    <tr>\n",
       "      <th>count</th>\n",
       "      <td>6.940000e+02</td>\n",
       "      <td>694.000000</td>\n",
       "      <td>694.000000</td>\n",
       "      <td>694.000000</td>\n",
       "      <td>406.000000</td>\n",
       "      <td>694.000000</td>\n",
       "      <td>694.000000</td>\n",
       "      <td>694.000000</td>\n",
       "      <td>694.000000</td>\n",
       "      <td>694.000000</td>\n",
       "    </tr>\n",
       "    <tr>\n",
       "      <th>mean</th>\n",
       "      <td>1.573108e+07</td>\n",
       "      <td>645.194524</td>\n",
       "      <td>38.766571</td>\n",
       "      <td>4.883285</td>\n",
       "      <td>118137.986650</td>\n",
       "      <td>1.534582</td>\n",
       "      <td>0.672911</td>\n",
       "      <td>0.520173</td>\n",
       "      <td>6821.963977</td>\n",
       "      <td>0.195965</td>\n",
       "    </tr>\n",
       "    <tr>\n",
       "      <th>std</th>\n",
       "      <td>7.179728e+04</td>\n",
       "      <td>99.514005</td>\n",
       "      <td>10.659778</td>\n",
       "      <td>2.852696</td>\n",
       "      <td>28676.769276</td>\n",
       "      <td>0.579434</td>\n",
       "      <td>0.469489</td>\n",
       "      <td>0.499953</td>\n",
       "      <td>4033.059791</td>\n",
       "      <td>0.397228</td>\n",
       "    </tr>\n",
       "    <tr>\n",
       "      <th>min</th>\n",
       "      <td>1.560895e+07</td>\n",
       "      <td>412.000000</td>\n",
       "      <td>18.000000</td>\n",
       "      <td>0.000000</td>\n",
       "      <td>27517.150000</td>\n",
       "      <td>1.000000</td>\n",
       "      <td>0.000000</td>\n",
       "      <td>0.000000</td>\n",
       "      <td>11.000000</td>\n",
       "      <td>0.000000</td>\n",
       "    </tr>\n",
       "    <tr>\n",
       "      <th>25%</th>\n",
       "      <td>1.567117e+07</td>\n",
       "      <td>578.250000</td>\n",
       "      <td>31.000000</td>\n",
       "      <td>2.000000</td>\n",
       "      <td>98085.600000</td>\n",
       "      <td>1.000000</td>\n",
       "      <td>0.000000</td>\n",
       "      <td>0.000000</td>\n",
       "      <td>3368.500000</td>\n",
       "      <td>0.000000</td>\n",
       "    </tr>\n",
       "    <tr>\n",
       "      <th>50%</th>\n",
       "      <td>1.572970e+07</td>\n",
       "      <td>645.000000</td>\n",
       "      <td>37.000000</td>\n",
       "      <td>5.000000</td>\n",
       "      <td>118039.645000</td>\n",
       "      <td>1.000000</td>\n",
       "      <td>1.000000</td>\n",
       "      <td>1.000000</td>\n",
       "      <td>6856.000000</td>\n",
       "      <td>0.000000</td>\n",
       "    </tr>\n",
       "    <tr>\n",
       "      <th>75%</th>\n",
       "      <td>1.579225e+07</td>\n",
       "      <td>711.000000</td>\n",
       "      <td>44.000000</td>\n",
       "      <td>7.000000</td>\n",
       "      <td>137534.807500</td>\n",
       "      <td>2.000000</td>\n",
       "      <td>1.000000</td>\n",
       "      <td>1.000000</td>\n",
       "      <td>10105.750000</td>\n",
       "      <td>0.000000</td>\n",
       "    </tr>\n",
       "    <tr>\n",
       "      <th>max</th>\n",
       "      <td>1.585816e+07</td>\n",
       "      <td>850.000000</td>\n",
       "      <td>77.000000</td>\n",
       "      <td>10.000000</td>\n",
       "      <td>204510.940000</td>\n",
       "      <td>4.000000</td>\n",
       "      <td>1.000000</td>\n",
       "      <td>1.000000</td>\n",
       "      <td>13889.000000</td>\n",
       "      <td>1.000000</td>\n",
       "    </tr>\n",
       "  </tbody>\n",
       "</table>\n",
       "</div>"
      ],
      "text/plain": [
       "            user_id       score         age     objects        balance  \\\n",
       "count  6.940000e+02  694.000000  694.000000  694.000000     406.000000   \n",
       "mean   1.573108e+07  645.194524   38.766571    4.883285  118137.986650   \n",
       "std    7.179728e+04   99.514005   10.659778    2.852696   28676.769276   \n",
       "min    1.560895e+07  412.000000   18.000000    0.000000   27517.150000   \n",
       "25%    1.567117e+07  578.250000   31.000000    2.000000   98085.600000   \n",
       "50%    1.572970e+07  645.000000   37.000000    5.000000  118039.645000   \n",
       "75%    1.579225e+07  711.000000   44.000000    7.000000  137534.807500   \n",
       "max    1.585816e+07  850.000000   77.000000   10.000000  204510.940000   \n",
       "\n",
       "         products  creditcard     loyalty  estimated_salary       churn  \n",
       "count  694.000000  694.000000  694.000000        694.000000  694.000000  \n",
       "mean     1.534582    0.672911    0.520173       6821.963977    0.195965  \n",
       "std      0.579434    0.469489    0.499953       4033.059791    0.397228  \n",
       "min      1.000000    0.000000    0.000000         11.000000    0.000000  \n",
       "25%      1.000000    0.000000    0.000000       3368.500000    0.000000  \n",
       "50%      1.000000    1.000000    1.000000       6856.000000    0.000000  \n",
       "75%      2.000000    1.000000    1.000000      10105.750000    0.000000  \n",
       "max      4.000000    1.000000    1.000000      13889.000000    1.000000  "
      ]
     },
     "execution_count": 113,
     "metadata": {},
     "output_type": "execute_result"
    }
   ],
   "source": [
    "df_very_low_salary.describe()"
   ]
  },
  {
   "cell_type": "markdown",
   "id": "1c38adff",
   "metadata": {},
   "source": [
    "Среди таких клиентов средняя сумма дохода 6821 руб. При этом подавляющее большинство (75%) клиентов имеет на счету сумму 98 тысяч рублей и более. Если бы у них в самом деле были такие низкие доходы, то у них не было бы таких больших вкладов. В собственности у них в среднем - 4-5 обьектов недвижимости. Учитывая, каких денег она стоит (даже в Ярославле и области), люди явно небедные, не сходится это с доходами в 6-7 тысяч рублей в месяц."
   ]
  },
  {
   "cell_type": "code",
   "execution_count": 114,
   "id": "1bbe64a6",
   "metadata": {},
   "outputs": [
    {
     "data": {
      "text/plain": [
       "3617"
      ]
     },
     "execution_count": 114,
     "metadata": {},
     "output_type": "execute_result"
    }
   ],
   "source": [
    "df['balance'].isna().sum()"
   ]
  },
  {
   "cell_type": "markdown",
   "id": "0a8cc2a8",
   "metadata": {},
   "source": [
    "В столбце с балансом 3617 строк имеют пропуски"
   ]
  },
  {
   "cell_type": "markdown",
   "id": "46b02dec",
   "metadata": {},
   "source": [
    "Посмотрим, какова доля пропусков от общего числа строк в датасете:"
   ]
  },
  {
   "cell_type": "code",
   "execution_count": 115,
   "id": "ba0b937b",
   "metadata": {},
   "outputs": [
    {
     "data": {
      "text/plain": [
       "0.3617"
      ]
     },
     "execution_count": 115,
     "metadata": {},
     "output_type": "execute_result"
    }
   ],
   "source": [
    "df['balance'].isna().sum() / len(df['balance'])"
   ]
  },
  {
   "cell_type": "markdown",
   "id": "cab9ba3b",
   "metadata": {},
   "source": [
    " 500 клиентов ушли в отток, 3117 остались. Это значит, что 5 из 6 клиентов остаются в банке, а каждый 6й - уходит."
   ]
  },
  {
   "cell_type": "markdown",
   "id": "340d46bb",
   "metadata": {},
   "source": [
    "По активнсти отток и не отток среди таких клиентов почти равны."
   ]
  },
  {
   "cell_type": "markdown",
   "id": "fe066e9c",
   "metadata": {},
   "source": [
    "Более чем у 2/3 таких клиентов есть кредитная карта. В целом можно предположить, что действительно система в случае отсутствия у клиента дебетовой карты дает такой сбой и это происходит не во всех городах. Но какого-то явного очевидного признака не обнаружено."
   ]
  },
  {
   "cell_type": "code",
   "execution_count": 116,
   "id": "b5d572bf",
   "metadata": {},
   "outputs": [
    {
     "data": {
      "text/plain": [
       "0"
      ]
     },
     "execution_count": 116,
     "metadata": {},
     "output_type": "execute_result"
    }
   ],
   "source": [
    "df.duplicated().sum()"
   ]
  },
  {
   "cell_type": "markdown",
   "id": "bb386bc8",
   "metadata": {},
   "source": [
    "В данных нет дубликатов.\n",
    "\n",
    "Посмотрим на случайную выборку из данных."
   ]
  },
  {
   "cell_type": "code",
   "execution_count": 117,
   "id": "b97cda04",
   "metadata": {},
   "outputs": [
    {
     "data": {
      "text/html": [
       "<div>\n",
       "<style scoped>\n",
       "    .dataframe tbody tr th:only-of-type {\n",
       "        vertical-align: middle;\n",
       "    }\n",
       "\n",
       "    .dataframe tbody tr th {\n",
       "        vertical-align: top;\n",
       "    }\n",
       "\n",
       "    .dataframe thead th {\n",
       "        text-align: right;\n",
       "    }\n",
       "</style>\n",
       "<table border=\"1\" class=\"dataframe\">\n",
       "  <thead>\n",
       "    <tr style=\"text-align: right;\">\n",
       "      <th></th>\n",
       "      <th>user_id</th>\n",
       "      <th>score</th>\n",
       "      <th>city</th>\n",
       "      <th>gender</th>\n",
       "      <th>age</th>\n",
       "      <th>objects</th>\n",
       "      <th>balance</th>\n",
       "      <th>products</th>\n",
       "      <th>creditcard</th>\n",
       "      <th>loyalty</th>\n",
       "      <th>estimated_salary</th>\n",
       "      <th>churn</th>\n",
       "    </tr>\n",
       "  </thead>\n",
       "  <tbody>\n",
       "    <tr>\n",
       "      <th>7025</th>\n",
       "      <td>15754182</td>\n",
       "      <td>569</td>\n",
       "      <td>Рыбинск</td>\n",
       "      <td>Ж</td>\n",
       "      <td>51</td>\n",
       "      <td>3</td>\n",
       "      <td>NaN</td>\n",
       "      <td>3</td>\n",
       "      <td>1</td>\n",
       "      <td>0</td>\n",
       "      <td>75084</td>\n",
       "      <td>1</td>\n",
       "    </tr>\n",
       "    <tr>\n",
       "      <th>5772</th>\n",
       "      <td>15705904</td>\n",
       "      <td>665</td>\n",
       "      <td>Ярославль</td>\n",
       "      <td>М</td>\n",
       "      <td>35</td>\n",
       "      <td>8</td>\n",
       "      <td>110934.54</td>\n",
       "      <td>1</td>\n",
       "      <td>1</td>\n",
       "      <td>0</td>\n",
       "      <td>169287</td>\n",
       "      <td>0</td>\n",
       "    </tr>\n",
       "    <tr>\n",
       "      <th>478</th>\n",
       "      <td>15720274</td>\n",
       "      <td>569</td>\n",
       "      <td>Ярославль</td>\n",
       "      <td>М</td>\n",
       "      <td>38</td>\n",
       "      <td>7</td>\n",
       "      <td>NaN</td>\n",
       "      <td>1</td>\n",
       "      <td>1</td>\n",
       "      <td>1</td>\n",
       "      <td>108469</td>\n",
       "      <td>0</td>\n",
       "    </tr>\n",
       "    <tr>\n",
       "      <th>4553</th>\n",
       "      <td>15806349</td>\n",
       "      <td>581</td>\n",
       "      <td>Ярославль</td>\n",
       "      <td>М</td>\n",
       "      <td>30</td>\n",
       "      <td>1</td>\n",
       "      <td>NaN</td>\n",
       "      <td>2</td>\n",
       "      <td>1</td>\n",
       "      <td>0</td>\n",
       "      <td>199464</td>\n",
       "      <td>0</td>\n",
       "    </tr>\n",
       "    <tr>\n",
       "      <th>2226</th>\n",
       "      <td>15793544</td>\n",
       "      <td>790</td>\n",
       "      <td>Рыбинск</td>\n",
       "      <td>М</td>\n",
       "      <td>46</td>\n",
       "      <td>2</td>\n",
       "      <td>131365.37</td>\n",
       "      <td>2</td>\n",
       "      <td>1</td>\n",
       "      <td>1</td>\n",
       "      <td>180290</td>\n",
       "      <td>0</td>\n",
       "    </tr>\n",
       "    <tr>\n",
       "      <th>1046</th>\n",
       "      <td>15686936</td>\n",
       "      <td>807</td>\n",
       "      <td>Рыбинск</td>\n",
       "      <td>Ж</td>\n",
       "      <td>42</td>\n",
       "      <td>1</td>\n",
       "      <td>NaN</td>\n",
       "      <td>1</td>\n",
       "      <td>1</td>\n",
       "      <td>0</td>\n",
       "      <td>16500</td>\n",
       "      <td>1</td>\n",
       "    </tr>\n",
       "    <tr>\n",
       "      <th>931</th>\n",
       "      <td>15743212</td>\n",
       "      <td>564</td>\n",
       "      <td>Ростов Великий</td>\n",
       "      <td>М</td>\n",
       "      <td>41</td>\n",
       "      <td>9</td>\n",
       "      <td>103522.75</td>\n",
       "      <td>2</td>\n",
       "      <td>1</td>\n",
       "      <td>1</td>\n",
       "      <td>34338</td>\n",
       "      <td>0</td>\n",
       "    </tr>\n",
       "    <tr>\n",
       "      <th>691</th>\n",
       "      <td>15730987</td>\n",
       "      <td>767</td>\n",
       "      <td>Ярославль</td>\n",
       "      <td>М</td>\n",
       "      <td>43</td>\n",
       "      <td>1</td>\n",
       "      <td>76408.85</td>\n",
       "      <td>2</td>\n",
       "      <td>1</td>\n",
       "      <td>0</td>\n",
       "      <td>77837</td>\n",
       "      <td>0</td>\n",
       "    </tr>\n",
       "    <tr>\n",
       "      <th>6228</th>\n",
       "      <td>15775874</td>\n",
       "      <td>663</td>\n",
       "      <td>Ростов Великий</td>\n",
       "      <td>М</td>\n",
       "      <td>42</td>\n",
       "      <td>5</td>\n",
       "      <td>90248.79</td>\n",
       "      <td>1</td>\n",
       "      <td>1</td>\n",
       "      <td>1</td>\n",
       "      <td>79169</td>\n",
       "      <td>0</td>\n",
       "    </tr>\n",
       "    <tr>\n",
       "      <th>9929</th>\n",
       "      <td>15739124</td>\n",
       "      <td>755</td>\n",
       "      <td>Ростов Великий</td>\n",
       "      <td>М</td>\n",
       "      <td>38</td>\n",
       "      <td>4</td>\n",
       "      <td>111096.91</td>\n",
       "      <td>1</td>\n",
       "      <td>1</td>\n",
       "      <td>1</td>\n",
       "      <td>19762</td>\n",
       "      <td>0</td>\n",
       "    </tr>\n",
       "  </tbody>\n",
       "</table>\n",
       "</div>"
      ],
      "text/plain": [
       "       user_id  score            city gender  age  objects    balance  \\\n",
       "7025  15754182    569         Рыбинск      Ж   51        3        NaN   \n",
       "5772  15705904    665       Ярославль      М   35        8  110934.54   \n",
       "478   15720274    569       Ярославль      М   38        7        NaN   \n",
       "4553  15806349    581       Ярославль      М   30        1        NaN   \n",
       "2226  15793544    790         Рыбинск      М   46        2  131365.37   \n",
       "1046  15686936    807         Рыбинск      Ж   42        1        NaN   \n",
       "931   15743212    564  Ростов Великий      М   41        9  103522.75   \n",
       "691   15730987    767       Ярославль      М   43        1   76408.85   \n",
       "6228  15775874    663  Ростов Великий      М   42        5   90248.79   \n",
       "9929  15739124    755  Ростов Великий      М   38        4  111096.91   \n",
       "\n",
       "      products  creditcard  loyalty  estimated_salary  churn  \n",
       "7025         3           1        0             75084      1  \n",
       "5772         1           1        0            169287      0  \n",
       "478          1           1        1            108469      0  \n",
       "4553         2           1        0            199464      0  \n",
       "2226         2           1        1            180290      0  \n",
       "1046         1           1        0             16500      1  \n",
       "931          2           1        1             34338      0  \n",
       "691          2           1        0             77837      0  \n",
       "6228         1           1        1             79169      0  \n",
       "9929         1           1        1             19762      0  "
      ]
     },
     "execution_count": 117,
     "metadata": {},
     "output_type": "execute_result"
    }
   ],
   "source": [
    "df.sample(10)"
   ]
  },
  {
   "cell_type": "markdown",
   "id": "513dedfb",
   "metadata": {},
   "source": [
    "## Вывод  \n",
    "\n",
    "- В датасете 10 000 строк, пропуски есть только в столбце с балансом.\n",
    "\n",
    "- Заменили названия столбцов на snake case, проверили корректность данных, проверили данные на аномалии и дубликаты.  \n",
    "\n",
    "- Была обнаружена особенность, что у некоторых клиентов значение заработной платы ниже минимальной ставки, при эом на балансе у них лежат крупные суммы. Стоит разобраться в природе появления таких значений более детально.  \n",
    "\n",
    "- В столбце с балансом на счете клиента были пропущенные значения. Предположительно, природа их появления - техническая. Возможно, система таким образом распознает клиентов, не имеющих дебетовой карты. Следовательно, было принято решение приравнять эти значения к нулю.  Причина появления данных пропусков может иметь технический характер, если что-то произошло при выгрузке или же клиент не имеет дебетовой карты и отображается в базе таким образом.\n",
    "\n",
    "- Создали новый столбец с признаком о наличии или отсутствии у клиента действующего счета\n"
   ]
  },
  {
   "cell_type": "markdown",
   "id": "b3c4306e",
   "metadata": {},
   "source": [
    "## Категоризация данных"
   ]
  },
  {
   "cell_type": "code",
   "execution_count": 118,
   "id": "3a0040cc",
   "metadata": {},
   "outputs": [
    {
     "data": {
      "text/html": [
       "<div>\n",
       "<style scoped>\n",
       "    .dataframe tbody tr th:only-of-type {\n",
       "        vertical-align: middle;\n",
       "    }\n",
       "\n",
       "    .dataframe tbody tr th {\n",
       "        vertical-align: top;\n",
       "    }\n",
       "\n",
       "    .dataframe thead th {\n",
       "        text-align: right;\n",
       "    }\n",
       "</style>\n",
       "<table border=\"1\" class=\"dataframe\">\n",
       "  <thead>\n",
       "    <tr style=\"text-align: right;\">\n",
       "      <th></th>\n",
       "      <th>user_id</th>\n",
       "      <th>score</th>\n",
       "      <th>age</th>\n",
       "      <th>objects</th>\n",
       "      <th>balance</th>\n",
       "      <th>products</th>\n",
       "      <th>creditcard</th>\n",
       "      <th>loyalty</th>\n",
       "      <th>estimated_salary</th>\n",
       "      <th>churn</th>\n",
       "    </tr>\n",
       "  </thead>\n",
       "  <tbody>\n",
       "    <tr>\n",
       "      <th>count</th>\n",
       "      <td>1.000000e+04</td>\n",
       "      <td>10000.000000</td>\n",
       "      <td>10000.000000</td>\n",
       "      <td>10000.000000</td>\n",
       "      <td>6383.000000</td>\n",
       "      <td>10000.000000</td>\n",
       "      <td>10000.00000</td>\n",
       "      <td>10000.000000</td>\n",
       "      <td>10000.000000</td>\n",
       "      <td>10000.000000</td>\n",
       "    </tr>\n",
       "    <tr>\n",
       "      <th>mean</th>\n",
       "      <td>1.573368e+07</td>\n",
       "      <td>650.528800</td>\n",
       "      <td>38.921800</td>\n",
       "      <td>5.012800</td>\n",
       "      <td>119827.493793</td>\n",
       "      <td>1.530200</td>\n",
       "      <td>0.70550</td>\n",
       "      <td>0.515100</td>\n",
       "      <td>100089.748400</td>\n",
       "      <td>0.203700</td>\n",
       "    </tr>\n",
       "    <tr>\n",
       "      <th>std</th>\n",
       "      <td>7.193619e+04</td>\n",
       "      <td>96.653299</td>\n",
       "      <td>10.487806</td>\n",
       "      <td>2.892174</td>\n",
       "      <td>30095.056462</td>\n",
       "      <td>0.581654</td>\n",
       "      <td>0.45584</td>\n",
       "      <td>0.499797</td>\n",
       "      <td>57510.491042</td>\n",
       "      <td>0.402769</td>\n",
       "    </tr>\n",
       "    <tr>\n",
       "      <th>min</th>\n",
       "      <td>1.560844e+07</td>\n",
       "      <td>350.000000</td>\n",
       "      <td>18.000000</td>\n",
       "      <td>0.000000</td>\n",
       "      <td>3768.690000</td>\n",
       "      <td>1.000000</td>\n",
       "      <td>0.00000</td>\n",
       "      <td>0.000000</td>\n",
       "      <td>11.000000</td>\n",
       "      <td>0.000000</td>\n",
       "    </tr>\n",
       "    <tr>\n",
       "      <th>25%</th>\n",
       "      <td>1.567126e+07</td>\n",
       "      <td>584.000000</td>\n",
       "      <td>32.000000</td>\n",
       "      <td>3.000000</td>\n",
       "      <td>100181.975000</td>\n",
       "      <td>1.000000</td>\n",
       "      <td>0.00000</td>\n",
       "      <td>0.000000</td>\n",
       "      <td>51001.750000</td>\n",
       "      <td>0.000000</td>\n",
       "    </tr>\n",
       "    <tr>\n",
       "      <th>50%</th>\n",
       "      <td>1.573347e+07</td>\n",
       "      <td>652.000000</td>\n",
       "      <td>37.000000</td>\n",
       "      <td>5.000000</td>\n",
       "      <td>119839.690000</td>\n",
       "      <td>1.000000</td>\n",
       "      <td>1.00000</td>\n",
       "      <td>1.000000</td>\n",
       "      <td>100193.500000</td>\n",
       "      <td>0.000000</td>\n",
       "    </tr>\n",
       "    <tr>\n",
       "      <th>75%</th>\n",
       "      <td>1.579597e+07</td>\n",
       "      <td>718.000000</td>\n",
       "      <td>44.000000</td>\n",
       "      <td>7.000000</td>\n",
       "      <td>139512.290000</td>\n",
       "      <td>2.000000</td>\n",
       "      <td>1.00000</td>\n",
       "      <td>1.000000</td>\n",
       "      <td>149387.750000</td>\n",
       "      <td>0.000000</td>\n",
       "    </tr>\n",
       "    <tr>\n",
       "      <th>max</th>\n",
       "      <td>1.585843e+07</td>\n",
       "      <td>850.000000</td>\n",
       "      <td>92.000000</td>\n",
       "      <td>10.000000</td>\n",
       "      <td>250898.090000</td>\n",
       "      <td>4.000000</td>\n",
       "      <td>1.00000</td>\n",
       "      <td>1.000000</td>\n",
       "      <td>199992.000000</td>\n",
       "      <td>1.000000</td>\n",
       "    </tr>\n",
       "  </tbody>\n",
       "</table>\n",
       "</div>"
      ],
      "text/plain": [
       "            user_id         score           age       objects        balance  \\\n",
       "count  1.000000e+04  10000.000000  10000.000000  10000.000000    6383.000000   \n",
       "mean   1.573368e+07    650.528800     38.921800      5.012800  119827.493793   \n",
       "std    7.193619e+04     96.653299     10.487806      2.892174   30095.056462   \n",
       "min    1.560844e+07    350.000000     18.000000      0.000000    3768.690000   \n",
       "25%    1.567126e+07    584.000000     32.000000      3.000000  100181.975000   \n",
       "50%    1.573347e+07    652.000000     37.000000      5.000000  119839.690000   \n",
       "75%    1.579597e+07    718.000000     44.000000      7.000000  139512.290000   \n",
       "max    1.585843e+07    850.000000     92.000000     10.000000  250898.090000   \n",
       "\n",
       "           products   creditcard       loyalty  estimated_salary         churn  \n",
       "count  10000.000000  10000.00000  10000.000000      10000.000000  10000.000000  \n",
       "mean       1.530200      0.70550      0.515100     100089.748400      0.203700  \n",
       "std        0.581654      0.45584      0.499797      57510.491042      0.402769  \n",
       "min        1.000000      0.00000      0.000000         11.000000      0.000000  \n",
       "25%        1.000000      0.00000      0.000000      51001.750000      0.000000  \n",
       "50%        1.000000      1.00000      1.000000     100193.500000      0.000000  \n",
       "75%        2.000000      1.00000      1.000000     149387.750000      0.000000  \n",
       "max        4.000000      1.00000      1.000000     199992.000000      1.000000  "
      ]
     },
     "execution_count": 118,
     "metadata": {},
     "output_type": "execute_result"
    }
   ],
   "source": [
    "df.describe()"
   ]
  },
  {
   "cell_type": "markdown",
   "id": "dd2cd6e2",
   "metadata": {},
   "source": [
    "### Категоризация по уровню дохода"
   ]
  },
  {
   "cell_type": "code",
   "execution_count": 119,
   "id": "5e85ec9b",
   "metadata": {},
   "outputs": [
    {
     "data": {
      "text/html": [
       "<div>\n",
       "<style scoped>\n",
       "    .dataframe tbody tr th:only-of-type {\n",
       "        vertical-align: middle;\n",
       "    }\n",
       "\n",
       "    .dataframe tbody tr th {\n",
       "        vertical-align: top;\n",
       "    }\n",
       "\n",
       "    .dataframe thead th {\n",
       "        text-align: right;\n",
       "    }\n",
       "</style>\n",
       "<table border=\"1\" class=\"dataframe\">\n",
       "  <thead>\n",
       "    <tr style=\"text-align: right;\">\n",
       "      <th></th>\n",
       "      <th>user_id</th>\n",
       "      <th>score</th>\n",
       "      <th>city</th>\n",
       "      <th>gender</th>\n",
       "      <th>age</th>\n",
       "      <th>objects</th>\n",
       "      <th>balance</th>\n",
       "      <th>products</th>\n",
       "      <th>creditcard</th>\n",
       "      <th>loyalty</th>\n",
       "      <th>estimated_salary</th>\n",
       "      <th>churn</th>\n",
       "      <th>salary_category</th>\n",
       "    </tr>\n",
       "  </thead>\n",
       "  <tbody>\n",
       "    <tr>\n",
       "      <th>0</th>\n",
       "      <td>15677338</td>\n",
       "      <td>619</td>\n",
       "      <td>Ярославль</td>\n",
       "      <td>Ж</td>\n",
       "      <td>42</td>\n",
       "      <td>2</td>\n",
       "      <td>NaN</td>\n",
       "      <td>1</td>\n",
       "      <td>1</td>\n",
       "      <td>1</td>\n",
       "      <td>101348</td>\n",
       "      <td>1</td>\n",
       "      <td>высокий достаток</td>\n",
       "    </tr>\n",
       "    <tr>\n",
       "      <th>1</th>\n",
       "      <td>15690047</td>\n",
       "      <td>608</td>\n",
       "      <td>Рыбинск</td>\n",
       "      <td>Ж</td>\n",
       "      <td>41</td>\n",
       "      <td>1</td>\n",
       "      <td>83807.86</td>\n",
       "      <td>1</td>\n",
       "      <td>0</td>\n",
       "      <td>1</td>\n",
       "      <td>112542</td>\n",
       "      <td>0</td>\n",
       "      <td>высокий достаток</td>\n",
       "    </tr>\n",
       "    <tr>\n",
       "      <th>2</th>\n",
       "      <td>15662040</td>\n",
       "      <td>502</td>\n",
       "      <td>Ярославль</td>\n",
       "      <td>Ж</td>\n",
       "      <td>42</td>\n",
       "      <td>8</td>\n",
       "      <td>159660.80</td>\n",
       "      <td>3</td>\n",
       "      <td>1</td>\n",
       "      <td>0</td>\n",
       "      <td>113931</td>\n",
       "      <td>1</td>\n",
       "      <td>высокий достаток</td>\n",
       "    </tr>\n",
       "  </tbody>\n",
       "</table>\n",
       "</div>"
      ],
      "text/plain": [
       "    user_id  score       city gender  age  objects    balance  products  \\\n",
       "0  15677338    619  Ярославль      Ж   42        2        NaN         1   \n",
       "1  15690047    608    Рыбинск      Ж   41        1   83807.86         1   \n",
       "2  15662040    502  Ярославль      Ж   42        8  159660.80         3   \n",
       "\n",
       "   creditcard  loyalty  estimated_salary  churn   salary_category  \n",
       "0           1        1            101348      1  высокий достаток  \n",
       "1           0        1            112542      0  высокий достаток  \n",
       "2           1        0            113931      1  высокий достаток  "
      ]
     },
     "execution_count": 119,
     "metadata": {},
     "output_type": "execute_result"
    }
   ],
   "source": [
    "#напишем функцию, которая распределяет уровень дохода по категориям\n",
    "\n",
    "def salary_category(df):\n",
    "    \n",
    "    if df['estimated_salary'] <= 50000:\n",
    "        return 'низкий достаток'\n",
    "    \n",
    "    elif df['estimated_salary'] <= 100000:\n",
    "        return 'средний достаток'\n",
    "    \n",
    "    else:\n",
    "        return 'высокий достаток'\n",
    "\n",
    "#добавим новый столбец в таблицу\n",
    "\n",
    "df['salary_category'] = df.apply(salary_category, axis=1)\n",
    "\n",
    "#выведем первые 3 строки таблицы, чтобы проверить новый столбец\n",
    "\n",
    "df.head(3)"
   ]
  },
  {
   "cell_type": "code",
   "execution_count": 120,
   "id": "d6bbd7f0",
   "metadata": {},
   "outputs": [
    {
     "data": {
      "text/plain": [
       "высокий достаток    5010\n",
       "средний достаток    2537\n",
       "низкий достаток     2453\n",
       "Name: salary_category, dtype: int64"
      ]
     },
     "execution_count": 120,
     "metadata": {},
     "output_type": "execute_result"
    }
   ],
   "source": [
    "df['salary_category'].value_counts()"
   ]
  },
  {
   "cell_type": "code",
   "execution_count": 121,
   "id": "43648933",
   "metadata": {},
   "outputs": [
    {
     "data": {
      "text/plain": [
       "Text(0.5, 1.0, 'Кол-во клиентов по уровню достатка')"
      ]
     },
     "execution_count": 121,
     "metadata": {},
     "output_type": "execute_result"
    },
    {
     "data": {
      "image/png": "[encoded data removed]",
      "text/plain": [
       "<Figure size 432x288 with 1 Axes>"
      ]
     },
     "metadata": {},
     "output_type": "display_data"
    }
   ],
   "source": [
    "sns.countplot(x = 'salary_category', data = df, palette = 'viridis')\n",
    "plt.title('Кол-во клиентов по уровню достатка')"
   ]
  },
  {
   "cell_type": "markdown",
   "id": "29aff978",
   "metadata": {},
   "source": [
    "В данной выборке половина клиентов имеет высокий достаток."
   ]
  },
  {
   "cell_type": "markdown",
   "id": "f595f842",
   "metadata": {},
   "source": [
    "#### Категоризация по возрасту"
   ]
  },
  {
   "cell_type": "code",
   "execution_count": 122,
   "id": "b523ffc4",
   "metadata": {},
   "outputs": [
    {
     "data": {
      "text/html": [
       "<div>\n",
       "<style scoped>\n",
       "    .dataframe tbody tr th:only-of-type {\n",
       "        vertical-align: middle;\n",
       "    }\n",
       "\n",
       "    .dataframe tbody tr th {\n",
       "        vertical-align: top;\n",
       "    }\n",
       "\n",
       "    .dataframe thead th {\n",
       "        text-align: right;\n",
       "    }\n",
       "</style>\n",
       "<table border=\"1\" class=\"dataframe\">\n",
       "  <thead>\n",
       "    <tr style=\"text-align: right;\">\n",
       "      <th></th>\n",
       "      <th>user_id</th>\n",
       "      <th>score</th>\n",
       "      <th>city</th>\n",
       "      <th>gender</th>\n",
       "      <th>age</th>\n",
       "      <th>objects</th>\n",
       "      <th>balance</th>\n",
       "      <th>products</th>\n",
       "      <th>creditcard</th>\n",
       "      <th>loyalty</th>\n",
       "      <th>estimated_salary</th>\n",
       "      <th>churn</th>\n",
       "      <th>salary_category</th>\n",
       "      <th>age_category</th>\n",
       "    </tr>\n",
       "  </thead>\n",
       "  <tbody>\n",
       "    <tr>\n",
       "      <th>0</th>\n",
       "      <td>15677338</td>\n",
       "      <td>619</td>\n",
       "      <td>Ярославль</td>\n",
       "      <td>Ж</td>\n",
       "      <td>42</td>\n",
       "      <td>2</td>\n",
       "      <td>NaN</td>\n",
       "      <td>1</td>\n",
       "      <td>1</td>\n",
       "      <td>1</td>\n",
       "      <td>101348</td>\n",
       "      <td>1</td>\n",
       "      <td>высокий достаток</td>\n",
       "      <td>18-45 лет</td>\n",
       "    </tr>\n",
       "    <tr>\n",
       "      <th>1</th>\n",
       "      <td>15690047</td>\n",
       "      <td>608</td>\n",
       "      <td>Рыбинск</td>\n",
       "      <td>Ж</td>\n",
       "      <td>41</td>\n",
       "      <td>1</td>\n",
       "      <td>83807.86</td>\n",
       "      <td>1</td>\n",
       "      <td>0</td>\n",
       "      <td>1</td>\n",
       "      <td>112542</td>\n",
       "      <td>0</td>\n",
       "      <td>высокий достаток</td>\n",
       "      <td>18-45 лет</td>\n",
       "    </tr>\n",
       "    <tr>\n",
       "      <th>2</th>\n",
       "      <td>15662040</td>\n",
       "      <td>502</td>\n",
       "      <td>Ярославль</td>\n",
       "      <td>Ж</td>\n",
       "      <td>42</td>\n",
       "      <td>8</td>\n",
       "      <td>159660.80</td>\n",
       "      <td>3</td>\n",
       "      <td>1</td>\n",
       "      <td>0</td>\n",
       "      <td>113931</td>\n",
       "      <td>1</td>\n",
       "      <td>высокий достаток</td>\n",
       "      <td>18-45 лет</td>\n",
       "    </tr>\n",
       "  </tbody>\n",
       "</table>\n",
       "</div>"
      ],
      "text/plain": [
       "    user_id  score       city gender  age  objects    balance  products  \\\n",
       "0  15677338    619  Ярославль      Ж   42        2        NaN         1   \n",
       "1  15690047    608    Рыбинск      Ж   41        1   83807.86         1   \n",
       "2  15662040    502  Ярославль      Ж   42        8  159660.80         3   \n",
       "\n",
       "   creditcard  loyalty  estimated_salary  churn   salary_category age_category  \n",
       "0           1        1            101348      1  высокий достаток    18-45 лет  \n",
       "1           0        1            112542      0  высокий достаток    18-45 лет  \n",
       "2           1        0            113931      1  высокий достаток    18-45 лет  "
      ]
     },
     "execution_count": 122,
     "metadata": {},
     "output_type": "execute_result"
    }
   ],
   "source": [
    "#напишем функцию, которая распределяет возраст по категориям\n",
    "\n",
    "def age_category(df):\n",
    "    \n",
    "    if 18 <= df['age'] <= 45:\n",
    "        return '18-45 лет'\n",
    "    \n",
    "    elif 46 <= df['age'] <= 60:\n",
    "        return '46-60 лет'\n",
    "    \n",
    "    else:\n",
    "        return '61 год и старше'\n",
    "\n",
    "#добавим новый столбец в таблицу\n",
    "\n",
    "df['age_category'] = df.apply(age_category, axis=1)\n",
    "\n",
    "df.head(3)"
   ]
  },
  {
   "cell_type": "code",
   "execution_count": 123,
   "id": "4998deb3",
   "metadata": {
    "scrolled": false
   },
   "outputs": [
    {
     "data": {
      "image/png": "[encoded data removed]",
      "text/plain": [
       "<Figure size 432x288 with 1 Axes>"
      ]
     },
     "metadata": {},
     "output_type": "display_data"
    },
    {
     "data": {
      "image/png": "[encoded data removed]",
      "text/plain": [
       "<Figure size 432x288 with 1 Axes>"
      ]
     },
     "metadata": {},
     "output_type": "display_data"
    },
    {
     "data": {
      "text/plain": [
       "<AxesSubplot:xlabel='age', ylabel='churn'>"
      ]
     },
     "execution_count": 123,
     "metadata": {},
     "output_type": "execute_result"
    },
    {
     "data": {
      "image/png": "[encoded data removed]",
      "text/plain": [
       "<Figure size 432x288 with 1 Axes>"
      ]
     },
     "metadata": {},
     "output_type": "display_data"
    }
   ],
   "source": [
    "sns.histplot(\n",
    "    data = df[['churn', 'age']],\n",
    "    x='age',\n",
    "    stat='probability',\n",
    "    common_norm=False,\n",
    "    hue='churn',\n",
    "    kde=True);\n",
    "\n",
    "plt.show()\n",
    "\n",
    "sns.histplot(\n",
    "    data = df[['churn', 'age']],\n",
    "    x='age',\n",
    "    hue='churn',\n",
    "    kde=True);\n",
    "\n",
    "plt.show()\n",
    "\n",
    "sns.lineplot(\n",
    "    data=df,\n",
    "    x=\"age\",\n",
    "    y=\"churn\")"
   ]
  },
  {
   "cell_type": "code",
   "execution_count": 124,
   "id": "f4a7fdba",
   "metadata": {},
   "outputs": [
    {
     "data": {
      "text/plain": [
       "churn    0.446154\n",
       "dtype: float64"
      ]
     },
     "execution_count": 124,
     "metadata": {},
     "output_type": "execute_result"
    }
   ],
   "source": [
    "report = df.query('age >= 42 and age >=45').agg({\"churn\": \"mean\"})\n",
    "report"
   ]
  },
  {
   "cell_type": "code",
   "execution_count": 125,
   "id": "55ea6ea2",
   "metadata": {},
   "outputs": [
    {
     "data": {
      "text/plain": [
       "churn    0.082707\n",
       "dtype: float64"
      ]
     },
     "execution_count": 125,
     "metadata": {},
     "output_type": "execute_result"
    }
   ],
   "source": [
    "report = df.query('age >= 65 and age >=71').agg({\"churn\": \"mean\"})\n",
    "report"
   ]
  },
  {
   "cell_type": "code",
   "execution_count": 126,
   "id": "3644e1e3",
   "metadata": {},
   "outputs": [
    {
     "data": {
      "text/html": [
       "<div>\n",
       "<style scoped>\n",
       "    .dataframe tbody tr th:only-of-type {\n",
       "        vertical-align: middle;\n",
       "    }\n",
       "\n",
       "    .dataframe tbody tr th {\n",
       "        vertical-align: top;\n",
       "    }\n",
       "\n",
       "    .dataframe thead th {\n",
       "        text-align: right;\n",
       "    }\n",
       "</style>\n",
       "<table border=\"1\" class=\"dataframe\">\n",
       "  <thead>\n",
       "    <tr style=\"text-align: right;\">\n",
       "      <th></th>\n",
       "      <th>user_id</th>\n",
       "      <th>score</th>\n",
       "      <th>age</th>\n",
       "      <th>objects</th>\n",
       "      <th>balance</th>\n",
       "      <th>products</th>\n",
       "      <th>creditcard</th>\n",
       "      <th>loyalty</th>\n",
       "      <th>estimated_salary</th>\n",
       "      <th>churn</th>\n",
       "    </tr>\n",
       "  </thead>\n",
       "  <tbody>\n",
       "    <tr>\n",
       "      <th>count</th>\n",
       "      <td>3.260000e+02</td>\n",
       "      <td>326.000000</td>\n",
       "      <td>326.000000</td>\n",
       "      <td>326.000000</td>\n",
       "      <td>214.000000</td>\n",
       "      <td>326.000000</td>\n",
       "      <td>326.000000</td>\n",
       "      <td>326.000000</td>\n",
       "      <td>326.000000</td>\n",
       "      <td>326.000000</td>\n",
       "    </tr>\n",
       "    <tr>\n",
       "      <th>mean</th>\n",
       "      <td>1.573768e+07</td>\n",
       "      <td>649.113497</td>\n",
       "      <td>43.653374</td>\n",
       "      <td>5.058282</td>\n",
       "      <td>120074.314953</td>\n",
       "      <td>3.184049</td>\n",
       "      <td>0.708589</td>\n",
       "      <td>0.435583</td>\n",
       "      <td>104399.677914</td>\n",
       "      <td>0.858896</td>\n",
       "    </tr>\n",
       "    <tr>\n",
       "      <th>std</th>\n",
       "      <td>7.333764e+04</td>\n",
       "      <td>96.200413</td>\n",
       "      <td>10.148108</td>\n",
       "      <td>2.889713</td>\n",
       "      <td>30697.506247</td>\n",
       "      <td>0.388120</td>\n",
       "      <td>0.455111</td>\n",
       "      <td>0.496595</td>\n",
       "      <td>55759.795981</td>\n",
       "      <td>0.348664</td>\n",
       "    </tr>\n",
       "    <tr>\n",
       "      <th>min</th>\n",
       "      <td>1.560905e+07</td>\n",
       "      <td>358.000000</td>\n",
       "      <td>21.000000</td>\n",
       "      <td>0.000000</td>\n",
       "      <td>43772.660000</td>\n",
       "      <td>3.000000</td>\n",
       "      <td>0.000000</td>\n",
       "      <td>0.000000</td>\n",
       "      <td>3440.000000</td>\n",
       "      <td>0.000000</td>\n",
       "    </tr>\n",
       "    <tr>\n",
       "      <th>25%</th>\n",
       "      <td>1.567627e+07</td>\n",
       "      <td>587.250000</td>\n",
       "      <td>37.000000</td>\n",
       "      <td>3.000000</td>\n",
       "      <td>102639.192500</td>\n",
       "      <td>3.000000</td>\n",
       "      <td>0.000000</td>\n",
       "      <td>0.000000</td>\n",
       "      <td>64344.500000</td>\n",
       "      <td>1.000000</td>\n",
       "    </tr>\n",
       "    <tr>\n",
       "      <th>50%</th>\n",
       "      <td>1.573500e+07</td>\n",
       "      <td>650.000000</td>\n",
       "      <td>43.000000</td>\n",
       "      <td>5.000000</td>\n",
       "      <td>120003.275000</td>\n",
       "      <td>3.000000</td>\n",
       "      <td>1.000000</td>\n",
       "      <td>0.000000</td>\n",
       "      <td>103874.000000</td>\n",
       "      <td>1.000000</td>\n",
       "    </tr>\n",
       "    <tr>\n",
       "      <th>75%</th>\n",
       "      <td>1.580044e+07</td>\n",
       "      <td>711.000000</td>\n",
       "      <td>50.000000</td>\n",
       "      <td>8.000000</td>\n",
       "      <td>138941.252500</td>\n",
       "      <td>3.000000</td>\n",
       "      <td>1.000000</td>\n",
       "      <td>1.000000</td>\n",
       "      <td>151150.750000</td>\n",
       "      <td>1.000000</td>\n",
       "    </tr>\n",
       "    <tr>\n",
       "      <th>max</th>\n",
       "      <td>1.585823e+07</td>\n",
       "      <td>850.000000</td>\n",
       "      <td>77.000000</td>\n",
       "      <td>10.000000</td>\n",
       "      <td>250898.090000</td>\n",
       "      <td>4.000000</td>\n",
       "      <td>1.000000</td>\n",
       "      <td>1.000000</td>\n",
       "      <td>199357.000000</td>\n",
       "      <td>1.000000</td>\n",
       "    </tr>\n",
       "  </tbody>\n",
       "</table>\n",
       "</div>"
      ],
      "text/plain": [
       "            user_id       score         age     objects        balance  \\\n",
       "count  3.260000e+02  326.000000  326.000000  326.000000     214.000000   \n",
       "mean   1.573768e+07  649.113497   43.653374    5.058282  120074.314953   \n",
       "std    7.333764e+04   96.200413   10.148108    2.889713   30697.506247   \n",
       "min    1.560905e+07  358.000000   21.000000    0.000000   43772.660000   \n",
       "25%    1.567627e+07  587.250000   37.000000    3.000000  102639.192500   \n",
       "50%    1.573500e+07  650.000000   43.000000    5.000000  120003.275000   \n",
       "75%    1.580044e+07  711.000000   50.000000    8.000000  138941.252500   \n",
       "max    1.585823e+07  850.000000   77.000000   10.000000  250898.090000   \n",
       "\n",
       "         products  creditcard     loyalty  estimated_salary       churn  \n",
       "count  326.000000  326.000000  326.000000        326.000000  326.000000  \n",
       "mean     3.184049    0.708589    0.435583     104399.677914    0.858896  \n",
       "std      0.388120    0.455111    0.496595      55759.795981    0.348664  \n",
       "min      3.000000    0.000000    0.000000       3440.000000    0.000000  \n",
       "25%      3.000000    0.000000    0.000000      64344.500000    1.000000  \n",
       "50%      3.000000    1.000000    0.000000     103874.000000    1.000000  \n",
       "75%      3.000000    1.000000    1.000000     151150.750000    1.000000  \n",
       "max      4.000000    1.000000    1.000000     199357.000000    1.000000  "
      ]
     },
     "execution_count": 126,
     "metadata": {},
     "output_type": "execute_result"
    }
   ],
   "source": [
    "df.query('products >= 3').describe()"
   ]
  },
  {
   "cell_type": "code",
   "execution_count": 127,
   "id": "5a64b6d0",
   "metadata": {},
   "outputs": [
    {
     "data": {
      "text/plain": [
       "Text(0.5, 1.0, 'Кол-во клиентов в категорях по числу объектов в собственности')"
      ]
     },
     "execution_count": 127,
     "metadata": {},
     "output_type": "execute_result"
    },
    {
     "data": {
      "image/png": "[encoded data removed]",
      "text/plain": [
       "<Figure size 432x288 with 1 Axes>"
      ]
     },
     "metadata": {},
     "output_type": "display_data"
    }
   ],
   "source": [
    "sns.countplot(x = 'objects', data = df, palette = 'viridis')\n",
    "plt.title('Кол-во клиентов в категорях по числу объектов в собственности')"
   ]
  },
  {
   "cell_type": "markdown",
   "id": "1748c085",
   "metadata": {},
   "source": [
    "Довольно неожиданно, но у большинства клиентов в данной выборки в собственности более 5 объектов."
   ]
  },
  {
   "cell_type": "code",
   "execution_count": 128,
   "id": "bd9a86d9",
   "metadata": {},
   "outputs": [
    {
     "data": {
      "image/png": "[encoded data removed]",
      "text/plain": [
       "<Figure size 432x288 with 1 Axes>"
      ]
     },
     "metadata": {},
     "output_type": "display_data"
    }
   ],
   "source": [
    "df.objects.hist(bins=range(12));"
   ]
  },
  {
   "cell_type": "markdown",
   "id": "ffcb92e6",
   "metadata": {},
   "source": [
    "#### Категоризация по уровню кредитного скоринга"
   ]
  },
  {
   "cell_type": "code",
   "execution_count": 129,
   "id": "047cf4c5",
   "metadata": {},
   "outputs": [
    {
     "data": {
      "text/html": [
       "<div>\n",
       "<style scoped>\n",
       "    .dataframe tbody tr th:only-of-type {\n",
       "        vertical-align: middle;\n",
       "    }\n",
       "\n",
       "    .dataframe tbody tr th {\n",
       "        vertical-align: top;\n",
       "    }\n",
       "\n",
       "    .dataframe thead th {\n",
       "        text-align: right;\n",
       "    }\n",
       "</style>\n",
       "<table border=\"1\" class=\"dataframe\">\n",
       "  <thead>\n",
       "    <tr style=\"text-align: right;\">\n",
       "      <th></th>\n",
       "      <th>user_id</th>\n",
       "      <th>score</th>\n",
       "      <th>city</th>\n",
       "      <th>gender</th>\n",
       "      <th>age</th>\n",
       "      <th>objects</th>\n",
       "      <th>balance</th>\n",
       "      <th>products</th>\n",
       "      <th>creditcard</th>\n",
       "      <th>loyalty</th>\n",
       "      <th>estimated_salary</th>\n",
       "      <th>churn</th>\n",
       "      <th>salary_category</th>\n",
       "      <th>age_category</th>\n",
       "      <th>score_category</th>\n",
       "    </tr>\n",
       "  </thead>\n",
       "  <tbody>\n",
       "    <tr>\n",
       "      <th>0</th>\n",
       "      <td>15677338</td>\n",
       "      <td>619</td>\n",
       "      <td>Ярославль</td>\n",
       "      <td>Ж</td>\n",
       "      <td>42</td>\n",
       "      <td>2</td>\n",
       "      <td>NaN</td>\n",
       "      <td>1</td>\n",
       "      <td>1</td>\n",
       "      <td>1</td>\n",
       "      <td>101348</td>\n",
       "      <td>1</td>\n",
       "      <td>высокий достаток</td>\n",
       "      <td>18-45 лет</td>\n",
       "      <td>средний уровень</td>\n",
       "    </tr>\n",
       "    <tr>\n",
       "      <th>1</th>\n",
       "      <td>15690047</td>\n",
       "      <td>608</td>\n",
       "      <td>Рыбинск</td>\n",
       "      <td>Ж</td>\n",
       "      <td>41</td>\n",
       "      <td>1</td>\n",
       "      <td>83807.86</td>\n",
       "      <td>1</td>\n",
       "      <td>0</td>\n",
       "      <td>1</td>\n",
       "      <td>112542</td>\n",
       "      <td>0</td>\n",
       "      <td>высокий достаток</td>\n",
       "      <td>18-45 лет</td>\n",
       "      <td>средний уровень</td>\n",
       "    </tr>\n",
       "    <tr>\n",
       "      <th>2</th>\n",
       "      <td>15662040</td>\n",
       "      <td>502</td>\n",
       "      <td>Ярославль</td>\n",
       "      <td>Ж</td>\n",
       "      <td>42</td>\n",
       "      <td>8</td>\n",
       "      <td>159660.80</td>\n",
       "      <td>3</td>\n",
       "      <td>1</td>\n",
       "      <td>0</td>\n",
       "      <td>113931</td>\n",
       "      <td>1</td>\n",
       "      <td>высокий достаток</td>\n",
       "      <td>18-45 лет</td>\n",
       "      <td>средний уровень</td>\n",
       "    </tr>\n",
       "    <tr>\n",
       "      <th>3</th>\n",
       "      <td>15744090</td>\n",
       "      <td>699</td>\n",
       "      <td>Ярославль</td>\n",
       "      <td>Ж</td>\n",
       "      <td>39</td>\n",
       "      <td>1</td>\n",
       "      <td>NaN</td>\n",
       "      <td>2</td>\n",
       "      <td>0</td>\n",
       "      <td>0</td>\n",
       "      <td>93826</td>\n",
       "      <td>0</td>\n",
       "      <td>средний достаток</td>\n",
       "      <td>18-45 лет</td>\n",
       "      <td>средний уровень</td>\n",
       "    </tr>\n",
       "    <tr>\n",
       "      <th>4</th>\n",
       "      <td>15780624</td>\n",
       "      <td>850</td>\n",
       "      <td>Рыбинск</td>\n",
       "      <td>Ж</td>\n",
       "      <td>43</td>\n",
       "      <td>2</td>\n",
       "      <td>125510.82</td>\n",
       "      <td>1</td>\n",
       "      <td>1</td>\n",
       "      <td>1</td>\n",
       "      <td>79084</td>\n",
       "      <td>0</td>\n",
       "      <td>средний достаток</td>\n",
       "      <td>18-45 лет</td>\n",
       "      <td>высокий уровень</td>\n",
       "    </tr>\n",
       "  </tbody>\n",
       "</table>\n",
       "</div>"
      ],
      "text/plain": [
       "    user_id  score       city gender  age  objects    balance  products  \\\n",
       "0  15677338    619  Ярославль      Ж   42        2        NaN         1   \n",
       "1  15690047    608    Рыбинск      Ж   41        1   83807.86         1   \n",
       "2  15662040    502  Ярославль      Ж   42        8  159660.80         3   \n",
       "3  15744090    699  Ярославль      Ж   39        1        NaN         2   \n",
       "4  15780624    850    Рыбинск      Ж   43        2  125510.82         1   \n",
       "\n",
       "   creditcard  loyalty  estimated_salary  churn   salary_category  \\\n",
       "0           1        1            101348      1  высокий достаток   \n",
       "1           0        1            112542      0  высокий достаток   \n",
       "2           1        0            113931      1  высокий достаток   \n",
       "3           0        0             93826      0  средний достаток   \n",
       "4           1        1             79084      0  средний достаток   \n",
       "\n",
       "  age_category   score_category  \n",
       "0    18-45 лет  средний уровень  \n",
       "1    18-45 лет  средний уровень  \n",
       "2    18-45 лет  средний уровень  \n",
       "3    18-45 лет  средний уровень  \n",
       "4    18-45 лет  высокий уровень  "
      ]
     },
     "execution_count": 129,
     "metadata": {},
     "output_type": "execute_result"
    }
   ],
   "source": [
    "#напишем функцию, которая распределяет уровень score по категориям\n",
    "\n",
    "def score_category(df):\n",
    "    \n",
    "    if df['score'] < 500:\n",
    "        return 'низкий уровень'\n",
    "    \n",
    "    elif df['score'] <= 700:\n",
    "        return 'средний уровень'\n",
    "    \n",
    "    else:\n",
    "        return 'высокий уровень'\n",
    "\n",
    "#добавим новый столбец в таблицу\n",
    "\n",
    "df['score_category'] = df.apply(score_category, axis=1)\n",
    "\n",
    "df.head()"
   ]
  },
  {
   "cell_type": "code",
   "execution_count": 130,
   "id": "69dd0c22",
   "metadata": {},
   "outputs": [
    {
     "data": {
      "text/plain": [
       "средний уровень    6252\n",
       "высокий уровень    3116\n",
       "низкий уровень      632\n",
       "Name: score_category, dtype: int64"
      ]
     },
     "execution_count": 130,
     "metadata": {},
     "output_type": "execute_result"
    }
   ],
   "source": [
    "df['score_category'].value_counts()"
   ]
  },
  {
   "cell_type": "code",
   "execution_count": 131,
   "id": "70aa8190",
   "metadata": {},
   "outputs": [
    {
     "data": {
      "text/plain": [
       "Text(0.5, 1.0, 'Кол-во клиентов в категорях по банковскому скорингу')"
      ]
     },
     "execution_count": 131,
     "metadata": {},
     "output_type": "execute_result"
    },
    {
     "data": {
      "image/png": "[encoded data removed]",
      "text/plain": [
       "<Figure size 432x288 with 1 Axes>"
      ]
     },
     "metadata": {},
     "output_type": "display_data"
    }
   ],
   "source": [
    "sns.countplot(x = 'score_category', data = df, palette = 'viridis')\n",
    "plt.title('Кол-во клиентов в категорях по банковскому скорингу')"
   ]
  },
  {
   "cell_type": "markdown",
   "id": "3a778f93",
   "metadata": {},
   "source": [
    "#### Категоризация по балансу счета клиента"
   ]
  },
  {
   "cell_type": "code",
   "execution_count": 132,
   "id": "9b3693d6",
   "metadata": {},
   "outputs": [
    {
     "data": {
      "text/html": [
       "<div>\n",
       "<style scoped>\n",
       "    .dataframe tbody tr th:only-of-type {\n",
       "        vertical-align: middle;\n",
       "    }\n",
       "\n",
       "    .dataframe tbody tr th {\n",
       "        vertical-align: top;\n",
       "    }\n",
       "\n",
       "    .dataframe thead th {\n",
       "        text-align: right;\n",
       "    }\n",
       "</style>\n",
       "<table border=\"1\" class=\"dataframe\">\n",
       "  <thead>\n",
       "    <tr style=\"text-align: right;\">\n",
       "      <th></th>\n",
       "      <th>user_id</th>\n",
       "      <th>score</th>\n",
       "      <th>city</th>\n",
       "      <th>gender</th>\n",
       "      <th>age</th>\n",
       "      <th>objects</th>\n",
       "      <th>balance</th>\n",
       "      <th>products</th>\n",
       "      <th>creditcard</th>\n",
       "      <th>loyalty</th>\n",
       "      <th>estimated_salary</th>\n",
       "      <th>churn</th>\n",
       "      <th>salary_category</th>\n",
       "      <th>age_category</th>\n",
       "      <th>score_category</th>\n",
       "      <th>balance_category</th>\n",
       "    </tr>\n",
       "  </thead>\n",
       "  <tbody>\n",
       "    <tr>\n",
       "      <th>0</th>\n",
       "      <td>15677338</td>\n",
       "      <td>619</td>\n",
       "      <td>Ярославль</td>\n",
       "      <td>Ж</td>\n",
       "      <td>42</td>\n",
       "      <td>2</td>\n",
       "      <td>NaN</td>\n",
       "      <td>1</td>\n",
       "      <td>1</td>\n",
       "      <td>1</td>\n",
       "      <td>101348</td>\n",
       "      <td>1</td>\n",
       "      <td>высокий достаток</td>\n",
       "      <td>18-45 лет</td>\n",
       "      <td>средний уровень</td>\n",
       "      <td>более 100 000р</td>\n",
       "    </tr>\n",
       "    <tr>\n",
       "      <th>1</th>\n",
       "      <td>15690047</td>\n",
       "      <td>608</td>\n",
       "      <td>Рыбинск</td>\n",
       "      <td>Ж</td>\n",
       "      <td>41</td>\n",
       "      <td>1</td>\n",
       "      <td>83807.86</td>\n",
       "      <td>1</td>\n",
       "      <td>0</td>\n",
       "      <td>1</td>\n",
       "      <td>112542</td>\n",
       "      <td>0</td>\n",
       "      <td>высокий достаток</td>\n",
       "      <td>18-45 лет</td>\n",
       "      <td>средний уровень</td>\n",
       "      <td>более 100 000р</td>\n",
       "    </tr>\n",
       "    <tr>\n",
       "      <th>2</th>\n",
       "      <td>15662040</td>\n",
       "      <td>502</td>\n",
       "      <td>Ярославль</td>\n",
       "      <td>Ж</td>\n",
       "      <td>42</td>\n",
       "      <td>8</td>\n",
       "      <td>159660.80</td>\n",
       "      <td>3</td>\n",
       "      <td>1</td>\n",
       "      <td>0</td>\n",
       "      <td>113931</td>\n",
       "      <td>1</td>\n",
       "      <td>высокий достаток</td>\n",
       "      <td>18-45 лет</td>\n",
       "      <td>средний уровень</td>\n",
       "      <td>более 100 000р</td>\n",
       "    </tr>\n",
       "    <tr>\n",
       "      <th>3</th>\n",
       "      <td>15744090</td>\n",
       "      <td>699</td>\n",
       "      <td>Ярославль</td>\n",
       "      <td>Ж</td>\n",
       "      <td>39</td>\n",
       "      <td>1</td>\n",
       "      <td>NaN</td>\n",
       "      <td>2</td>\n",
       "      <td>0</td>\n",
       "      <td>0</td>\n",
       "      <td>93826</td>\n",
       "      <td>0</td>\n",
       "      <td>средний достаток</td>\n",
       "      <td>18-45 лет</td>\n",
       "      <td>средний уровень</td>\n",
       "      <td>более 100 000р</td>\n",
       "    </tr>\n",
       "    <tr>\n",
       "      <th>4</th>\n",
       "      <td>15780624</td>\n",
       "      <td>850</td>\n",
       "      <td>Рыбинск</td>\n",
       "      <td>Ж</td>\n",
       "      <td>43</td>\n",
       "      <td>2</td>\n",
       "      <td>125510.82</td>\n",
       "      <td>1</td>\n",
       "      <td>1</td>\n",
       "      <td>1</td>\n",
       "      <td>79084</td>\n",
       "      <td>0</td>\n",
       "      <td>средний достаток</td>\n",
       "      <td>18-45 лет</td>\n",
       "      <td>высокий уровень</td>\n",
       "      <td>более 100 000р</td>\n",
       "    </tr>\n",
       "  </tbody>\n",
       "</table>\n",
       "</div>"
      ],
      "text/plain": [
       "    user_id  score       city gender  age  objects    balance  products  \\\n",
       "0  15677338    619  Ярославль      Ж   42        2        NaN         1   \n",
       "1  15690047    608    Рыбинск      Ж   41        1   83807.86         1   \n",
       "2  15662040    502  Ярославль      Ж   42        8  159660.80         3   \n",
       "3  15744090    699  Ярославль      Ж   39        1        NaN         2   \n",
       "4  15780624    850    Рыбинск      Ж   43        2  125510.82         1   \n",
       "\n",
       "   creditcard  loyalty  estimated_salary  churn   salary_category  \\\n",
       "0           1        1            101348      1  высокий достаток   \n",
       "1           0        1            112542      0  высокий достаток   \n",
       "2           1        0            113931      1  высокий достаток   \n",
       "3           0        0             93826      0  средний достаток   \n",
       "4           1        1             79084      0  средний достаток   \n",
       "\n",
       "  age_category   score_category balance_category  \n",
       "0    18-45 лет  средний уровень   более 100 000р  \n",
       "1    18-45 лет  средний уровень   более 100 000р  \n",
       "2    18-45 лет  средний уровень   более 100 000р  \n",
       "3    18-45 лет  средний уровень   более 100 000р  \n",
       "4    18-45 лет  высокий уровень   более 100 000р  "
      ]
     },
     "execution_count": 132,
     "metadata": {},
     "output_type": "execute_result"
    }
   ],
   "source": [
    "#напишем функцию, которая распределяет баланс на счету по категориям\n",
    "\n",
    "def balance_category(df):\n",
    "    \n",
    "    if df['balance'] <= 5000:\n",
    "        return 'менее 5000р'\n",
    "    \n",
    "    elif df['balance'] <= 30000:\n",
    "        return '5 000 - 30 000р'\n",
    "    \n",
    "    elif df['balance'] <= 50000:\n",
    "        return '30 000 - 50 000р'\n",
    "    \n",
    "    elif df['balance'] <= 50000:\n",
    "        return '50 000 - 100 000р'\n",
    "    \n",
    "    else:\n",
    "        return 'более 100 000р'\n",
    "\n",
    "\n",
    "#добавим новый столбец в таблицу\n",
    "\n",
    "df['balance_category'] = df.apply(balance_category, axis=1)\n",
    "\n",
    "df.head()"
   ]
  },
  {
   "cell_type": "code",
   "execution_count": 133,
   "id": "badc8b1a",
   "metadata": {},
   "outputs": [
    {
     "data": {
      "text/plain": [
       "Text(0.5, 1.0, 'Кол-во клиентов в категориях по уровню баланса счета')"
      ]
     },
     "execution_count": 133,
     "metadata": {},
     "output_type": "execute_result"
    },
    {
     "data": {
      "image/png": "[encoded data removed]",
      "text/plain": [
       "<Figure size 432x288 with 1 Axes>"
      ]
     },
     "metadata": {},
     "output_type": "display_data"
    }
   ],
   "source": [
    "sns.countplot(x = 'balance_category', data = df, palette = 'viridis')\n",
    "plt.title('Кол-во клиентов в категориях по уровню баланса счета')"
   ]
  },
  {
   "cell_type": "code",
   "execution_count": 134,
   "id": "3edc70d5",
   "metadata": {},
   "outputs": [
    {
     "data": {
      "text/plain": [
       "более 100 000р      9925\n",
       "30 000 - 50 000р      63\n",
       "5 000 - 30 000р       11\n",
       "менее 5000р            1\n",
       "Name: balance_category, dtype: int64"
      ]
     },
     "execution_count": 134,
     "metadata": {},
     "output_type": "execute_result"
    }
   ],
   "source": [
    "df['balance_category'].value_counts()"
   ]
  },
  {
   "cell_type": "markdown",
   "id": "746eeb86",
   "metadata": {},
   "source": [
    "### Вывод  \n",
    "\n",
    "Провели классификацию клиентов по уровню дохода, возрасту, числу объектов в собственности и кредитному скорингу. В данной выборке преобладают клиенты среднего возраста, с высоким достатком, средним уровнем кредитного скоринга, у которых во владении более 5 объектов и более 100 000р на балансе. "
   ]
  },
  {
   "cell_type": "markdown",
   "id": "adcd4fd7",
   "metadata": {},
   "source": [
    "# Исследовательский анализ данных. \n",
    "\n",
    "\n",
    "- сначала будем делать **анализ признаков без группировки** при помощи гистограмм и боксплотов (строить **общий портрет клиента**). Исследуем датасет без разделения на группы, при разделении на группы, кроме средних значений, посмотрим на распределение  по количественным признакам.    \n",
    "\n",
    "- посмотрим **кол-во уникальных значений каждого признака клиента** (возраст, пол, город проживания и т.д.). Оценим, каких значений больше, каких меньше. \n",
    "\n",
    "- посмотрим **средние значения признаков в группах** тех, кто попал в отток и тех, кто остался (есть ли связь оттока клиентов с возрастом, полом, зарплатой, и т.д.) при помощи средств визуализации данных - boxplot, hist, и т.п. \n",
    "\n",
    "- построим **матрицу корреляции признаков**. Посмотрим, какие признаки (не)коррелируют между собой. Подготовим данные для матрицы корелляций. Для того, чтобы смотреть корреляции какого-то числового показателя с категориальным неупорядоченным, можно применить one-hot кодирование при помощи pandas.get_dummies"
   ]
  },
  {
   "cell_type": "markdown",
   "id": "ebb2f182",
   "metadata": {},
   "source": [
    "## Анализ средних значений признаков и стандартного отклонения\n"
   ]
  },
  {
   "cell_type": "code",
   "execution_count": 135,
   "id": "cf03440e",
   "metadata": {},
   "outputs": [],
   "source": [
    "df_new = df.copy()"
   ]
  },
  {
   "cell_type": "markdown",
   "id": "24928ce9",
   "metadata": {},
   "source": [
    "Заменим пол на единицы и нули, чтобы посмотреть статистику п полу."
   ]
  },
  {
   "cell_type": "code",
   "execution_count": 136,
   "id": "efe6bc4b",
   "metadata": {},
   "outputs": [],
   "source": [
    "df_new['gender'] = df_new['gender'].replace({'Ж':0, 'М': 1})"
   ]
  },
  {
   "cell_type": "markdown",
   "id": "35fdc889",
   "metadata": {},
   "source": [
    "Составим общий портрет клиента"
   ]
  },
  {
   "cell_type": "code",
   "execution_count": 137,
   "id": "00668a18",
   "metadata": {},
   "outputs": [
    {
     "data": {
      "text/html": [
       "<div>\n",
       "<style scoped>\n",
       "    .dataframe tbody tr th:only-of-type {\n",
       "        vertical-align: middle;\n",
       "    }\n",
       "\n",
       "    .dataframe tbody tr th {\n",
       "        vertical-align: top;\n",
       "    }\n",
       "\n",
       "    .dataframe thead th {\n",
       "        text-align: right;\n",
       "    }\n",
       "</style>\n",
       "<table border=\"1\" class=\"dataframe\">\n",
       "  <thead>\n",
       "    <tr style=\"text-align: right;\">\n",
       "      <th></th>\n",
       "      <th>user_id</th>\n",
       "      <th>score</th>\n",
       "      <th>gender</th>\n",
       "      <th>age</th>\n",
       "      <th>objects</th>\n",
       "      <th>balance</th>\n",
       "      <th>products</th>\n",
       "      <th>creditcard</th>\n",
       "      <th>loyalty</th>\n",
       "      <th>estimated_salary</th>\n",
       "      <th>churn</th>\n",
       "    </tr>\n",
       "  </thead>\n",
       "  <tbody>\n",
       "    <tr>\n",
       "      <th>count</th>\n",
       "      <td>1.000000e+04</td>\n",
       "      <td>10000.000000</td>\n",
       "      <td>10000.000000</td>\n",
       "      <td>10000.000000</td>\n",
       "      <td>10000.000000</td>\n",
       "      <td>6383.000000</td>\n",
       "      <td>10000.000000</td>\n",
       "      <td>10000.00000</td>\n",
       "      <td>10000.000000</td>\n",
       "      <td>10000.000000</td>\n",
       "      <td>10000.000000</td>\n",
       "    </tr>\n",
       "    <tr>\n",
       "      <th>mean</th>\n",
       "      <td>1.573368e+07</td>\n",
       "      <td>650.528800</td>\n",
       "      <td>0.545700</td>\n",
       "      <td>38.921800</td>\n",
       "      <td>5.012800</td>\n",
       "      <td>119827.493793</td>\n",
       "      <td>1.530200</td>\n",
       "      <td>0.70550</td>\n",
       "      <td>0.515100</td>\n",
       "      <td>100089.748400</td>\n",
       "      <td>0.203700</td>\n",
       "    </tr>\n",
       "    <tr>\n",
       "      <th>std</th>\n",
       "      <td>7.193619e+04</td>\n",
       "      <td>96.653299</td>\n",
       "      <td>0.497932</td>\n",
       "      <td>10.487806</td>\n",
       "      <td>2.892174</td>\n",
       "      <td>30095.056462</td>\n",
       "      <td>0.581654</td>\n",
       "      <td>0.45584</td>\n",
       "      <td>0.499797</td>\n",
       "      <td>57510.491042</td>\n",
       "      <td>0.402769</td>\n",
       "    </tr>\n",
       "    <tr>\n",
       "      <th>min</th>\n",
       "      <td>1.560844e+07</td>\n",
       "      <td>350.000000</td>\n",
       "      <td>0.000000</td>\n",
       "      <td>18.000000</td>\n",
       "      <td>0.000000</td>\n",
       "      <td>3768.690000</td>\n",
       "      <td>1.000000</td>\n",
       "      <td>0.00000</td>\n",
       "      <td>0.000000</td>\n",
       "      <td>11.000000</td>\n",
       "      <td>0.000000</td>\n",
       "    </tr>\n",
       "    <tr>\n",
       "      <th>25%</th>\n",
       "      <td>1.567126e+07</td>\n",
       "      <td>584.000000</td>\n",
       "      <td>0.000000</td>\n",
       "      <td>32.000000</td>\n",
       "      <td>3.000000</td>\n",
       "      <td>100181.975000</td>\n",
       "      <td>1.000000</td>\n",
       "      <td>0.00000</td>\n",
       "      <td>0.000000</td>\n",
       "      <td>51001.750000</td>\n",
       "      <td>0.000000</td>\n",
       "    </tr>\n",
       "    <tr>\n",
       "      <th>50%</th>\n",
       "      <td>1.573347e+07</td>\n",
       "      <td>652.000000</td>\n",
       "      <td>1.000000</td>\n",
       "      <td>37.000000</td>\n",
       "      <td>5.000000</td>\n",
       "      <td>119839.690000</td>\n",
       "      <td>1.000000</td>\n",
       "      <td>1.00000</td>\n",
       "      <td>1.000000</td>\n",
       "      <td>100193.500000</td>\n",
       "      <td>0.000000</td>\n",
       "    </tr>\n",
       "    <tr>\n",
       "      <th>75%</th>\n",
       "      <td>1.579597e+07</td>\n",
       "      <td>718.000000</td>\n",
       "      <td>1.000000</td>\n",
       "      <td>44.000000</td>\n",
       "      <td>7.000000</td>\n",
       "      <td>139512.290000</td>\n",
       "      <td>2.000000</td>\n",
       "      <td>1.00000</td>\n",
       "      <td>1.000000</td>\n",
       "      <td>149387.750000</td>\n",
       "      <td>0.000000</td>\n",
       "    </tr>\n",
       "    <tr>\n",
       "      <th>max</th>\n",
       "      <td>1.585843e+07</td>\n",
       "      <td>850.000000</td>\n",
       "      <td>1.000000</td>\n",
       "      <td>92.000000</td>\n",
       "      <td>10.000000</td>\n",
       "      <td>250898.090000</td>\n",
       "      <td>4.000000</td>\n",
       "      <td>1.00000</td>\n",
       "      <td>1.000000</td>\n",
       "      <td>199992.000000</td>\n",
       "      <td>1.000000</td>\n",
       "    </tr>\n",
       "  </tbody>\n",
       "</table>\n",
       "</div>"
      ],
      "text/plain": [
       "            user_id         score        gender           age       objects  \\\n",
       "count  1.000000e+04  10000.000000  10000.000000  10000.000000  10000.000000   \n",
       "mean   1.573368e+07    650.528800      0.545700     38.921800      5.012800   \n",
       "std    7.193619e+04     96.653299      0.497932     10.487806      2.892174   \n",
       "min    1.560844e+07    350.000000      0.000000     18.000000      0.000000   \n",
       "25%    1.567126e+07    584.000000      0.000000     32.000000      3.000000   \n",
       "50%    1.573347e+07    652.000000      1.000000     37.000000      5.000000   \n",
       "75%    1.579597e+07    718.000000      1.000000     44.000000      7.000000   \n",
       "max    1.585843e+07    850.000000      1.000000     92.000000     10.000000   \n",
       "\n",
       "             balance      products   creditcard       loyalty  \\\n",
       "count    6383.000000  10000.000000  10000.00000  10000.000000   \n",
       "mean   119827.493793      1.530200      0.70550      0.515100   \n",
       "std     30095.056462      0.581654      0.45584      0.499797   \n",
       "min      3768.690000      1.000000      0.00000      0.000000   \n",
       "25%    100181.975000      1.000000      0.00000      0.000000   \n",
       "50%    119839.690000      1.000000      1.00000      1.000000   \n",
       "75%    139512.290000      2.000000      1.00000      1.000000   \n",
       "max    250898.090000      4.000000      1.00000      1.000000   \n",
       "\n",
       "       estimated_salary         churn  \n",
       "count      10000.000000  10000.000000  \n",
       "mean      100089.748400      0.203700  \n",
       "std        57510.491042      0.402769  \n",
       "min           11.000000      0.000000  \n",
       "25%        51001.750000      0.000000  \n",
       "50%       100193.500000      0.000000  \n",
       "75%       149387.750000      0.000000  \n",
       "max       199992.000000      1.000000  "
      ]
     },
     "execution_count": 137,
     "metadata": {},
     "output_type": "execute_result"
    }
   ],
   "source": [
    "df_new.describe()"
   ]
  },
  {
   "cell_type": "markdown",
   "id": "6816ca2f",
   "metadata": {},
   "source": [
    "• В данной выборке у нас все клиенты уникальные и их **10 000 чел**. \n",
    "\n",
    "• В среднем это стабильные клиенты, имеющие **результат кредитного скоринга равный в среднем 650 баллов**, что уже достаточно для получения кредита, хотя разброс тут достаточно большой. \n",
    "\n",
    "• Клиентам **от 18 до 92 лет**, что означает, что все совершеннолетние и **в среднем клиенту около 40 лет**.  \n",
    "\n",
    "• Мужчин и женщин примерно поровну.  \n",
    "\n",
    "• В среднем у клиентов **в собственности 5 объектов**.  \n",
    "\n",
    "• На счету у них в среднем **около 80 000р**, если не брать в расчет клиентов, у которых отсутствует дебетовая карта, то **около 120 000р**.  \n",
    "\n",
    "• В среднем клиенты пользуются **1-2 продуктами**, стандартное отклонение довольно большое, что говорит о большом разбросе.  \n",
    "\n",
    "• Клиенты в среднем скорее **имеют кредитную карту**, чем нет, а вот по активности картина уже так себе, **активны всего около половины клиентов**.  \n",
    "\n",
    "• Зарплаты так же у клиентов в данной выборке на неплохом уровне для региональных городов - **около 100 000р** и это не смотря на клиентов, с зп ниже официального минимума.  \n",
    "\n",
    "• Более чем у половны клиентов есть действующий счет в банке. \n",
    "\n",
    "• В данной выборке **средний отток составляет 20%**."
   ]
  },
  {
   "cell_type": "markdown",
   "id": "55dce064",
   "metadata": {},
   "source": [
    "### Анализ средних значений признаков в двух группах — тех, кто ушел в отток и тех, кто остался"
   ]
  },
  {
   "cell_type": "code",
   "execution_count": 170,
   "id": "72cfe295",
   "metadata": {},
   "outputs": [
    {
     "data": {
      "text/html": [
       "<div>\n",
       "<style scoped>\n",
       "    .dataframe tbody tr th:only-of-type {\n",
       "        vertical-align: middle;\n",
       "    }\n",
       "\n",
       "    .dataframe tbody tr th {\n",
       "        vertical-align: top;\n",
       "    }\n",
       "\n",
       "    .dataframe thead th {\n",
       "        text-align: right;\n",
       "    }\n",
       "</style>\n",
       "<table border=\"1\" class=\"dataframe\">\n",
       "  <thead>\n",
       "    <tr style=\"text-align: right;\">\n",
       "      <th>churn</th>\n",
       "      <th>0</th>\n",
       "      <th>1</th>\n",
       "    </tr>\n",
       "  </thead>\n",
       "  <tbody>\n",
       "    <tr>\n",
       "      <th>user_id</th>\n",
       "      <td>1.573390e+07</td>\n",
       "      <td>1.573279e+07</td>\n",
       "    </tr>\n",
       "    <tr>\n",
       "      <th>score</th>\n",
       "      <td>6.518532e+02</td>\n",
       "      <td>6.453515e+02</td>\n",
       "    </tr>\n",
       "    <tr>\n",
       "      <th>gender</th>\n",
       "      <td>5.725229e-01</td>\n",
       "      <td>4.408444e-01</td>\n",
       "    </tr>\n",
       "    <tr>\n",
       "      <th>age</th>\n",
       "      <td>3.740839e+01</td>\n",
       "      <td>4.483800e+01</td>\n",
       "    </tr>\n",
       "    <tr>\n",
       "      <th>objects</th>\n",
       "      <td>5.033279e+00</td>\n",
       "      <td>4.932744e+00</td>\n",
       "    </tr>\n",
       "    <tr>\n",
       "      <th>balance</th>\n",
       "      <td>1.195359e+05</td>\n",
       "      <td>1.207470e+05</td>\n",
       "    </tr>\n",
       "    <tr>\n",
       "      <th>products</th>\n",
       "      <td>1.544267e+00</td>\n",
       "      <td>1.475209e+00</td>\n",
       "    </tr>\n",
       "    <tr>\n",
       "      <th>creditcard</th>\n",
       "      <td>7.071455e-01</td>\n",
       "      <td>6.990673e-01</td>\n",
       "    </tr>\n",
       "    <tr>\n",
       "      <th>loyalty</th>\n",
       "      <td>5.545649e-01</td>\n",
       "      <td>3.608247e-01</td>\n",
       "    </tr>\n",
       "    <tr>\n",
       "      <th>estimated_salary</th>\n",
       "      <td>9.973790e+04</td>\n",
       "      <td>1.014652e+05</td>\n",
       "    </tr>\n",
       "  </tbody>\n",
       "</table>\n",
       "</div>"
      ],
      "text/plain": [
       "churn                        0             1\n",
       "user_id           1.573390e+07  1.573279e+07\n",
       "score             6.518532e+02  6.453515e+02\n",
       "gender            5.725229e-01  4.408444e-01\n",
       "age               3.740839e+01  4.483800e+01\n",
       "objects           5.033279e+00  4.932744e+00\n",
       "balance           1.195359e+05  1.207470e+05\n",
       "products          1.544267e+00  1.475209e+00\n",
       "creditcard        7.071455e-01  6.990673e-01\n",
       "loyalty           5.545649e-01  3.608247e-01\n",
       "estimated_salary  9.973790e+04  1.014652e+05"
      ]
     },
     "execution_count": 170,
     "metadata": {},
     "output_type": "execute_result"
    }
   ],
   "source": [
    "df_new.groupby('churn').agg('mean').T"
   ]
  },
  {
   "cell_type": "markdown",
   "id": "db09373a",
   "metadata": {},
   "source": [
    "При первом взгляде на данные создается ощущение, что клиенты, ушедшие в отток почти ничем значительно не отличаются от лояльных клиентов, кроме активности (**в отток чаще попадают клиенты, не являющиеся активными**), так же можно сказать, что **в оттоке чуть больше женщин**. Есть небольшое отличие в балансе счета, в оттоке средняя зп выше. Остальные признаки отличаются не значительно."
   ]
  },
  {
   "cell_type": "markdown",
   "id": "24121e5f",
   "metadata": {},
   "source": [
    "### Изучение распределений признаков для тех, кто ушёл (отток) и тех, кто остался (не попали в отток)\n"
   ]
  },
  {
   "cell_type": "code",
   "execution_count": 139,
   "id": "aa7c45e1",
   "metadata": {
    "scrolled": true
   },
   "outputs": [
    {
     "data": {
      "image/png": "[encoded data removed]",
      "text/plain": [
       "<Figure size 432x288 with 1 Axes>"
      ]
     },
     "metadata": {},
     "output_type": "display_data"
    }
   ],
   "source": [
    "sns.barplot(\n",
    "    data=df,\n",
    "    y=\"churn\",\n",
    "    x=\"creditcard\");"
   ]
  },
  {
   "cell_type": "markdown",
   "id": "bad75858",
   "metadata": {},
   "source": [
    "нет значимой разницы в оттоке между клиентами, у которых есть кредитная карта и теми, у кого ее нет."
   ]
  },
  {
   "cell_type": "markdown",
   "id": "1102860f",
   "metadata": {},
   "source": [
    "Можно сказать, что большая часть клиентов в данной выборке, которые остаются **верными банку, проживает в Ярославле** (но и половина клиентов проживает там). Что касается **отточников - Ростов Великий и Ярославль** идут \"ноздря в ноздрю\", а меньше всего в отток уходят жители Рыбинска (в данной выборке там проживает меньше всего клиентов)."
   ]
  },
  {
   "cell_type": "code",
   "execution_count": 140,
   "id": "0181136c",
   "metadata": {
    "scrolled": true
   },
   "outputs": [
    {
     "data": {
      "image/png": "[encoded data removed]",
      "text/plain": [
       "<Figure size 864x288 with 2 Axes>"
      ]
     },
     "metadata": {},
     "output_type": "display_data"
    }
   ],
   "source": [
    "viz_data = df\\\n",
    "    .pivot_table(\n",
    "        index='loyalty',\n",
    "        columns='city',\n",
    "        values='churn',\n",
    "        aggfunc='mean'\n",
    "    )\n",
    "plt.figure(figsize=(12, 4))\n",
    "sns.heatmap(viz_data, cmap='Oranges', annot=True, fmt='.1%',vmin=0, vmax=1)\n",
    "plt.title('Уровень оттока по географии и активности')\n",
    "plt.show()"
   ]
  },
  {
   "cell_type": "code",
   "execution_count": 141,
   "id": "2574b7b0",
   "metadata": {
    "scrolled": true
   },
   "outputs": [
    {
     "data": {
      "image/png": "[encoded data removed]",
      "text/plain": [
       "<Figure size 864x288 with 2 Axes>"
      ]
     },
     "metadata": {},
     "output_type": "display_data"
    }
   ],
   "source": [
    "viz_data = df.assign(\n",
    "    age = df.age.round(-1))\\\n",
    "    .pivot_table(\n",
    "        index='age',\n",
    "        columns='gender',\n",
    "        values='churn',\n",
    "        aggfunc='mean'\n",
    "    )\n",
    "plt.figure(figsize=(12, 4))\n",
    "sns.heatmap(viz_data, cmap='Oranges', annot=True, fmt='.1%',vmin=0, vmax=1)\n",
    "plt.title('Уровень оттока по полу и возрасту')\n",
    "plt.show()\n",
    "# тут группы вида 30: 25-35 и т.д."
   ]
  },
  {
   "cell_type": "markdown",
   "id": "99734871",
   "metadata": {},
   "source": [
    "<a class=\"anchor\" id=\"9bullet\"></a>"
   ]
  },
  {
   "cell_type": "code",
   "execution_count": 142,
   "id": "15c68fdd",
   "metadata": {
    "scrolled": true
   },
   "outputs": [
    {
     "data": {
      "image/png": "[encoded data removed]",
      "text/plain": [
       "<Figure size 504x720 with 2 Axes>"
      ]
     },
     "metadata": {},
     "output_type": "display_data"
    }
   ],
   "source": [
    "plt.figure(figsize=(7, 10))\n",
    "heatmap = sns.heatmap(df.corr()[['churn']].sort_values(by='churn', ascending=False).drop(['churn'], axis=0), \\\n",
    "                      vmin=-0.25, vmax=0.35, annot=True, annot_kws={\"size\":12}, cmap='Purples')\n",
    "plt.tick_params(axis='y', labelsize=15)\n",
    "heatmap.set_title('Корреляция с оттоком')\n",
    "plt.show()"
   ]
  },
  {
   "cell_type": "markdown",
   "id": "63544753",
   "metadata": {},
   "source": [
    "самая сильная корреляция оттока - с возрастом. После него по выраженности идет корелляция с балансом (с большим отрывом от корелляции с возрастом) и с зарплатой.  \n",
    "\n",
    "Самые слабые корелляции с оттоком - это по скорингу, кол-ву продуктов, используемых клиентом, и по лояльности к банку.  "
   ]
  },
  {
   "cell_type": "markdown",
   "id": "389b8e2b",
   "metadata": {},
   "source": [
    "### Изучение распределений признаков без привязки к признаку ухода в отток"
   ]
  },
  {
   "cell_type": "markdown",
   "id": "b4ca43ad",
   "metadata": {},
   "source": [
    "#### Построим диаграмму размаха по возрасту и полу клиентов."
   ]
  },
  {
   "cell_type": "code",
   "execution_count": 143,
   "id": "f2935c0f",
   "metadata": {},
   "outputs": [
    {
     "data": {
      "text/plain": [
       "Text(0.5, 1.0, 'Диаграмма размаха по возрасту и полу клиентов')"
      ]
     },
     "execution_count": 143,
     "metadata": {},
     "output_type": "execute_result"
    },
    {
     "data": {
      "image/png": "[encoded data removed]",
      "text/plain": [
       "<Figure size 1166.4x432 with 1 Axes>"
      ]
     },
     "metadata": {},
     "output_type": "display_data"
    }
   ],
   "source": [
    "sns.catplot(x='gender', y=\"age\", kind=\"box\", data=df, height=6, aspect=2.7)\n",
    "plt.title('Диаграмма размаха по возрасту и полу клиентов')\n",
    "#sns.set(rc={'figure.figsize':(14,14)})\n",
    "#_ = plt.ylim(0, 3)"
   ]
  },
  {
   "cell_type": "markdown",
   "id": "c4074b17",
   "metadata": {},
   "source": [
    "По графику видно, что в данной выборке в общей массе в среднем мужчины немного моложе, женщин, но в то же время среди мужчин встречаются \"выбросы\" в виде очень пожилых клиентов (до 92 лет). "
   ]
  },
  {
   "cell_type": "markdown",
   "id": "311e070f",
   "metadata": {},
   "source": [
    "#### Построим диаграмму размаха по полу и уровню дохода клиентов."
   ]
  },
  {
   "cell_type": "code",
   "execution_count": 144,
   "id": "242c60c8",
   "metadata": {},
   "outputs": [
    {
     "data": {
      "text/plain": [
       "Text(0.5, 1.0, 'Диаграмма размаха по полу  и уровню дохода клиентов')"
      ]
     },
     "execution_count": 144,
     "metadata": {},
     "output_type": "execute_result"
    },
    {
     "data": {
      "image/png": "[encoded data removed]",
      "text/plain": [
       "<Figure size 1166.4x432 with 1 Axes>"
      ]
     },
     "metadata": {},
     "output_type": "display_data"
    }
   ],
   "source": [
    "sns.catplot(x='gender', y=\"estimated_salary\", kind=\"box\", data=df, height=6, aspect=2.7)\n",
    "plt.title('Диаграмма размаха по полу  и уровню дохода клиентов')"
   ]
  },
  {
   "cell_type": "markdown",
   "id": "334188c0",
   "metadata": {},
   "source": [
    "Явных различий по уровню дохода у клиентов мужского и женского пола не обнаружено."
   ]
  },
  {
   "cell_type": "markdown",
   "id": "ee67ae7a",
   "metadata": {},
   "source": [
    "#### Построим countplot-графики для бинарных признаков по активности клиентов"
   ]
  },
  {
   "cell_type": "markdown",
   "id": "98ead907",
   "metadata": {},
   "source": [
    "• Можно сделать вывод, что **мужчины более активные клиенты банка**, чем женщины.  \n",
    "• Так же **более активны клиенты имеющие кредитную карту** и действующий аккаунт в банке."
   ]
  },
  {
   "cell_type": "markdown",
   "id": "291fd461",
   "metadata": {},
   "source": [
    "#### Построим kdeplot-графики для небинарных признаков по активности клиентов."
   ]
  },
  {
   "cell_type": "code",
   "execution_count": 145,
   "id": "bcd98d70",
   "metadata": {},
   "outputs": [
    {
     "data": {
      "image/png": "[encoded data removed]",
      "text/plain": [
       "<Figure size 360x360 with 1 Axes>"
      ]
     },
     "metadata": {},
     "output_type": "display_data"
    },
    {
     "data": {
      "image/png": "[encoded data removed]",
      "text/plain": [
       "<Figure size 360x360 with 1 Axes>"
      ]
     },
     "metadata": {},
     "output_type": "display_data"
    },
    {
     "data": {
      "image/png": "[encoded data removed]",
      "text/plain": [
       "<Figure size 360x360 with 1 Axes>"
      ]
     },
     "metadata": {},
     "output_type": "display_data"
    },
    {
     "data": {
      "image/png": "[encoded data removed]",
      "text/plain": [
       "<Figure size 360x360 with 1 Axes>"
      ]
     },
     "metadata": {},
     "output_type": "display_data"
    },
    {
     "data": {
      "image/png": "[encoded data removed]",
      "text/plain": [
       "<Figure size 360x360 with 1 Axes>"
      ]
     },
     "metadata": {},
     "output_type": "display_data"
    },
    {
     "data": {
      "image/png": "[encoded data removed]",
      "text/plain": [
       "<Figure size 360x360 with 1 Axes>"
      ]
     },
     "metadata": {},
     "output_type": "display_data"
    }
   ],
   "source": [
    "for column in ['score', 'age', 'objects', 'balance', 'products', 'estimated_salary']:\n",
    "    plt.figure(figsize=(5, 5))\n",
    "    plt.title(column)   \n",
    "    sns.kdeplot(df.query('loyalty==0')[column], label = 'Неактивные')\n",
    "    sns.kdeplot(df.query('loyalty==1')[column], label = 'Активные')\n",
    "    \n",
    "    sns.set_style('whitegrid')\n",
    "    plt.legend()\n",
    "    plt.show()"
   ]
  },
  {
   "cell_type": "markdown",
   "id": "3280c8fb",
   "metadata": {},
   "source": [
    "• Среди неактивных клиентов чаще встречаются клиенты среднего возраста около **40 лет**.  \n",
    "\n",
    "• Клиенты имеющие **в собственности 8 и более объектов** чаще неактивны, в то время как клиенты, имеющие **в собственности 1-2 объекта** являются самыми активными.  \n",
    "\n",
    "• Клиенты с заработной платой около **100 000 руб** чаще не активны, в то время как клиенты с заработной платой около **50 000 руб** наиболее активные."
   ]
  },
  {
   "cell_type": "code",
   "execution_count": 146,
   "id": "f7002ffd",
   "metadata": {},
   "outputs": [
    {
     "data": {
      "image/png": "[encoded data removed]",
      "text/plain": [
       "<Figure size 864x288 with 2 Axes>"
      ]
     },
     "metadata": {},
     "output_type": "display_data"
    }
   ],
   "source": [
    "viz_data = df\\\n",
    "    .pivot_table(\n",
    "        index='city',\n",
    "        columns='products',\n",
    "        values='user_id',\n",
    "        aggfunc='count'\n",
    "    )\n",
    "plt.figure(figsize=(12, 4))\n",
    "sns.heatmap(viz_data, cmap='Oranges', annot=True, fmt='.0f')\n",
    "plt.title('Тепловая карта для признака - количество продуктов, которыми пользуется клиент')\n",
    "plt.show()"
   ]
  },
  {
   "cell_type": "markdown",
   "id": "ff62993c",
   "metadata": {},
   "source": [
    "• Использование 3-4 продуктов не популярно среди клиентов банка и как мы помним - это сильный признак того, что клиенты уйдут или уже ушли в отток. Больше всего таких клиентов проживает в Ярославле, на следующем месте Ростов Великий.  \n",
    "\n",
    "• Больше всего клиентов пользуются 1 продуктом. "
   ]
  },
  {
   "cell_type": "markdown",
   "id": "f0753607",
   "metadata": {},
   "source": [
    "### Корреляционный анализ"
   ]
  },
  {
   "cell_type": "code",
   "execution_count": 147,
   "id": "165a25ce",
   "metadata": {},
   "outputs": [
    {
     "data": {
      "image/png": "[encoded data removed]",
      "text/plain": [
       "<Figure size 1008x720 with 2 Axes>"
      ]
     },
     "metadata": {},
     "output_type": "display_data"
    }
   ],
   "source": [
    "corr_matrix = df.corr()\n",
    "plt.figure(figsize=(14, 10))\n",
    "sns.heatmap(corr_matrix , annot = True, fmt = '0.2f', linewidths=.5, cmap=\"seismic\")\n",
    "plt.show()"
   ]
  },
  {
   "cell_type": "markdown",
   "id": "fc9af670",
   "metadata": {},
   "source": [
    "• По матрице корреляций можно сказать, что влияние на отток имеют такие признаки как **возраст (слабая корреляция)**, **активность (очень слабая корреляция)** и **пол (очень слабая корреляция)**. Так же влияние имеют **баланс** и **наличие действующего счета в банке (оба признака так же очень слабая корреляция)**.  \n",
    "\n",
    "• Мультиколлинеарные признаки в данном случае это баланс и наличие действующего счета в банке. Это ожидаемо, потому что мы обозначили счета с нулевым балансом как отсутствие действующего счета. \n",
    "\n",
    "• Признаков имеющих нулевую корреляцию с целевой переменной нет, но большая часть почти нулевая (очень слабая, равная 0.01).  \n",
    "\n",
    "• Такие признаки как заработная плата, наличие кредитной карты, количество объектов в собственности имеют корреляцию всего 0.01 (или -0.01), что говорит о том, что они почти никак не влияют.  \n",
    "\n",
    "• Так же мы видим, что **баланс счета довольно сильно коррелирует с количеством продуктов, которыми пользуется клиент**. \n",
    "\n",
    "  \n",
    "**В целом можно сказать, что мы имеем довольно слабые признаки.** Нет ни одного признака, который коррелировал бы с целевой переменной выше уровня слабой корреляции, в данном случае это не больше 0.29. Следовательно, у нас нет какого-то очевидного признака, по которому мы могли бы явно выявить  склонность клиентов к оттоку."
   ]
  },
  {
   "cell_type": "code",
   "execution_count": 148,
   "id": "bbc29a31",
   "metadata": {},
   "outputs": [
    {
     "data": {
      "text/html": [
       "<div>\n",
       "<style scoped>\n",
       "    .dataframe tbody tr th:only-of-type {\n",
       "        vertical-align: middle;\n",
       "    }\n",
       "\n",
       "    .dataframe tbody tr th {\n",
       "        vertical-align: top;\n",
       "    }\n",
       "\n",
       "    .dataframe thead th {\n",
       "        text-align: right;\n",
       "    }\n",
       "</style>\n",
       "<table border=\"1\" class=\"dataframe\">\n",
       "  <thead>\n",
       "    <tr style=\"text-align: right;\">\n",
       "      <th></th>\n",
       "      <th>age</th>\n",
       "      <th>churn</th>\n",
       "    </tr>\n",
       "  </thead>\n",
       "  <tbody>\n",
       "    <tr>\n",
       "      <th>19</th>\n",
       "      <td>37</td>\n",
       "      <td>478</td>\n",
       "    </tr>\n",
       "    <tr>\n",
       "      <th>20</th>\n",
       "      <td>38</td>\n",
       "      <td>477</td>\n",
       "    </tr>\n",
       "    <tr>\n",
       "      <th>17</th>\n",
       "      <td>35</td>\n",
       "      <td>474</td>\n",
       "    </tr>\n",
       "    <tr>\n",
       "      <th>18</th>\n",
       "      <td>36</td>\n",
       "      <td>456</td>\n",
       "    </tr>\n",
       "    <tr>\n",
       "      <th>16</th>\n",
       "      <td>34</td>\n",
       "      <td>447</td>\n",
       "    </tr>\n",
       "    <tr>\n",
       "      <th>...</th>\n",
       "      <td>...</td>\n",
       "      <td>...</td>\n",
       "    </tr>\n",
       "    <tr>\n",
       "      <th>69</th>\n",
       "      <td>92</td>\n",
       "      <td>2</td>\n",
       "    </tr>\n",
       "    <tr>\n",
       "      <th>64</th>\n",
       "      <td>82</td>\n",
       "      <td>1</td>\n",
       "    </tr>\n",
       "    <tr>\n",
       "      <th>65</th>\n",
       "      <td>83</td>\n",
       "      <td>1</td>\n",
       "    </tr>\n",
       "    <tr>\n",
       "      <th>67</th>\n",
       "      <td>85</td>\n",
       "      <td>1</td>\n",
       "    </tr>\n",
       "    <tr>\n",
       "      <th>68</th>\n",
       "      <td>88</td>\n",
       "      <td>1</td>\n",
       "    </tr>\n",
       "  </tbody>\n",
       "</table>\n",
       "<p>70 rows × 2 columns</p>\n",
       "</div>"
      ],
      "text/plain": [
       "    age  churn\n",
       "19   37    478\n",
       "20   38    477\n",
       "17   35    474\n",
       "18   36    456\n",
       "16   34    447\n",
       "..  ...    ...\n",
       "69   92      2\n",
       "64   82      1\n",
       "65   83      1\n",
       "67   85      1\n",
       "68   88      1\n",
       "\n",
       "[70 rows x 2 columns]"
      ]
     },
     "execution_count": 148,
     "metadata": {},
     "output_type": "execute_result"
    }
   ],
   "source": [
    "age = df.groupby('age')['churn'].count().reset_index()\n",
    "age.sort_values(by='churn', ascending=False)"
   ]
  },
  {
   "cell_type": "markdown",
   "id": "d997fc11",
   "metadata": {},
   "source": [
    "**В отток чаще всего уходят клиенты \"медианного\" возраста.** Но как мы уже видели ранее, таких клиентов больше всего в данной выборке."
   ]
  },
  {
   "cell_type": "code",
   "execution_count": 149,
   "id": "277d9f47",
   "metadata": {},
   "outputs": [
    {
     "data": {
      "text/html": [
       "<div>\n",
       "<style scoped>\n",
       "    .dataframe tbody tr th:only-of-type {\n",
       "        vertical-align: middle;\n",
       "    }\n",
       "\n",
       "    .dataframe tbody tr th {\n",
       "        vertical-align: top;\n",
       "    }\n",
       "\n",
       "    .dataframe thead th {\n",
       "        text-align: right;\n",
       "    }\n",
       "</style>\n",
       "<table border=\"1\" class=\"dataframe\">\n",
       "  <thead>\n",
       "    <tr style=\"text-align: right;\">\n",
       "      <th></th>\n",
       "      <th>age</th>\n",
       "      <th>balance</th>\n",
       "      <th>gender</th>\n",
       "      <th>loyalty</th>\n",
       "      <th>products</th>\n",
       "    </tr>\n",
       "    <tr>\n",
       "      <th>churn</th>\n",
       "      <th></th>\n",
       "      <th></th>\n",
       "      <th></th>\n",
       "      <th></th>\n",
       "      <th></th>\n",
       "    </tr>\n",
       "  </thead>\n",
       "  <tbody>\n",
       "    <tr>\n",
       "      <th>0</th>\n",
       "      <td>36</td>\n",
       "      <td>119791.215</td>\n",
       "      <td>1</td>\n",
       "      <td>1</td>\n",
       "      <td>2</td>\n",
       "    </tr>\n",
       "    <tr>\n",
       "      <th>1</th>\n",
       "      <td>45</td>\n",
       "      <td>119948.090</td>\n",
       "      <td>0</td>\n",
       "      <td>0</td>\n",
       "      <td>1</td>\n",
       "    </tr>\n",
       "  </tbody>\n",
       "</table>\n",
       "</div>"
      ],
      "text/plain": [
       "       age     balance  gender  loyalty  products\n",
       "churn                                            \n",
       "0       36  119791.215       1        1         2\n",
       "1       45  119948.090       0        0         1"
      ]
     },
     "execution_count": 149,
     "metadata": {},
     "output_type": "execute_result"
    }
   ],
   "source": [
    "medians = df_new.pivot_table(index='churn', values=['age', 'gender', 'products', 'loyalty', 'balance'], aggfunc='median')\n",
    "medians"
   ]
  },
  {
   "cell_type": "markdown",
   "id": "0906c362",
   "metadata": {},
   "source": [
    "Глядя на медианные значения, можно сделать вывод:  \n",
    "\n",
    "• \"в среднем по больнице\" **в отток** уходят скорее **женщины среднего возраста, пользующиеся одним продуктом и являющимися неактивными клиентами банка**.  \n",
    "\n",
    "• **лояльными клиентами** являются в большинстве **мужчины среднего возраста, пользующиеся 2 и боле продуктами**.  \n",
    "\n",
    "• наличие действующего счета в банке не отличается в оттоке и не оттоке"
   ]
  },
  {
   "cell_type": "markdown",
   "id": "40463be9",
   "metadata": {},
   "source": [
    "# Выведение портрета клиентов, которые склонны и не склонны уходить из банка на основе EDA\n"
   ]
  },
  {
   "cell_type": "markdown",
   "id": "394bd0ce",
   "metadata": {},
   "source": [
    "По итогам проведения анализа предварительно можно выделить такие признаки клиентов. \n",
    "\n",
    "\n",
    "**<font size=\"5\" color='red' >Признаки клиентов, которые склонны уходить в отток: </font>**\n",
    "\n",
    "\n",
    "- клиенты проживают в Ярославле или Ростове Великом\n",
    "- в отток чаще попадают женщины\n",
    "- клиенты среднего возраста (около 35-40 лет). Так же стоит обратить внимание на клиентов пенсионного возраста, их всего 8% от общего числа клиентов в данной выборке, но в этой категории самый высокий процент оттока - 37% (от общего числа в этой категории).  \n",
    "- клиенты имеют более 5 объектов в собственности, таких клиентов больше всего в данной выборке. Стоит обратить внимание на клиентов не имеющих объектов в собственности, тут отточников 23% (от общего числа в этой категории).\n",
    "- клиенты со средним уровнем кредитного скоринга (менее 500 баллов), таких клиентов большинство в выборке. Стоит обратить внимание на клиентов с низким уровнем скоринга, среди них в отток уходит 23% (от общего числа в этой категории).\n",
    "- неактивные клиенты \n",
    "- у клиента есть кредитная карта\n",
    "- клиенты с высоким уровнем дохода (более 100к).\n",
    "- клиенты пользующиеся 3-4 продуктами (в случае 4 продуктов это 100%-ый отток).  \n",
    "\n",
    "**<font size=\"5\" color='red' >Признаки клиентов, которые не склонны уходить в отток: </font>** \n",
    "\n",
    "- клиенты проживающие в Рыбинске  \n",
    "- в большей массе это мужчины  \n",
    "- клиенты среднего возраста, их большинство в выборке. По категориям самые стабильные молодые клиенты (до 30 лет), их 92% лояльных.  \n",
    "- имеют более 5 объектов, внутри этой категории так же процент лояльности самый большой - 80%\n",
    "- клиенты со средним уровнем кредитного скоринга, их большая чсть в выборке, однако по категориям самой лояльной категорией являются клиенты с высоким уровнем скора - 80% не в оттоке.  \n",
    "- активные клиенты\n",
    "- с высоким достатком, однако внутри категорий более лояльными являются категории с низким и средним достатком, у них не в оттоке 80% клиентов внутри категорий.  \n",
    "- клиенты использующие 1-2 продукта."
   ]
  },
  {
   "cell_type": "code",
   "execution_count": 150,
   "id": "7bbafe51",
   "metadata": {},
   "outputs": [
    {
     "data": {
      "text/html": [
       "<style  type=\"text/css\" >\n",
       "</style><table id=\"T_9b461_\" ><thead>    <tr>        <th class=\"blank level0\" ></th>        <th class=\"col_heading level0 col0\" >count</th>        <th class=\"col_heading level0 col1\" >churn_suplus</th>    </tr></thead><tbody>\n",
       "                <tr>\n",
       "                        <th id=\"T_9b461_level0_row0\" class=\"row_heading level0 row0\" >в возрасте с одним продуктом</th>\n",
       "                        <td id=\"T_9b461_row0_col0\" class=\"data row0 col0\" >1_749</td>\n",
       "                        <td id=\"T_9b461_row0_col1\" class=\"data row0 col1\" >19.7%</td>\n",
       "            </tr>\n",
       "            <tr>\n",
       "                        <th id=\"T_9b461_level0_row1\" class=\"row_heading level0 row1\" >неактивные женщины</th>\n",
       "                        <td id=\"T_9b461_row1_col0\" class=\"data row1 col0\" >2_259</td>\n",
       "                        <td id=\"T_9b461_row1_col1\" class=\"data row1 col1\" >11.7%</td>\n",
       "            </tr>\n",
       "            <tr>\n",
       "                        <th id=\"T_9b461_level0_row2\" class=\"row_heading level0 row2\" >неактивные ростовчане</th>\n",
       "                        <td id=\"T_9b461_row2_col0\" class=\"data row2 col0\" >1_261</td>\n",
       "                        <td id=\"T_9b461_row2_col1\" class=\"data row2 col1\" >20.7%</td>\n",
       "            </tr>\n",
       "            <tr>\n",
       "                        <th id=\"T_9b461_level0_row3\" class=\"row_heading level0 row3\" >пользователи 3 и 4 продуктов</th>\n",
       "                        <td id=\"T_9b461_row3_col0\" class=\"data row3 col0\" >326</td>\n",
       "                        <td id=\"T_9b461_row3_col1\" class=\"data row3 col1\" >65.5%</td>\n",
       "            </tr>\n",
       "            <tr>\n",
       "                        <th id=\"T_9b461_level0_row4\" class=\"row_heading level0 row4\" >средние запасы</th>\n",
       "                        <td id=\"T_9b461_row4_col0\" class=\"data row4 col0\" >3_250</td>\n",
       "                        <td id=\"T_9b461_row4_col1\" class=\"data row4 col1\" >5.9%</td>\n",
       "            </tr>\n",
       "            <tr>\n",
       "                        <th id=\"T_9b461_level0_row5\" class=\"row_heading level0 row5\" >большие запасы</th>\n",
       "                        <td id=\"T_9b461_row5_col0\" class=\"data row5 col0\" >1_549</td>\n",
       "                        <td id=\"T_9b461_row5_col1\" class=\"data row5 col1\" >2.7%</td>\n",
       "            </tr>\n",
       "            <tr>\n",
       "                        <th id=\"T_9b461_level0_row6\" class=\"row_heading level0 row6\" >большие доходы</th>\n",
       "                        <td id=\"T_9b461_row6_col0\" class=\"data row6 col0\" >2_455</td>\n",
       "                        <td id=\"T_9b461_row6_col1\" class=\"data row6 col1\" >1.1%</td>\n",
       "            </tr>\n",
       "            <tr>\n",
       "                        <th id=\"T_9b461_level0_row7\" class=\"row_heading level0 row7\" >люди с низким скором и кредиткой</th>\n",
       "                        <td id=\"T_9b461_row7_col0\" class=\"data row7 col0\" >137</td>\n",
       "                        <td id=\"T_9b461_row7_col1\" class=\"data row7 col1\" >15.4%</td>\n",
       "            </tr>\n",
       "            <tr>\n",
       "                        <th id=\"T_9b461_level0_row8\" class=\"row_heading level0 row8\" >владельцы 8 объектов без кредитки</th>\n",
       "                        <td id=\"T_9b461_row8_col0\" class=\"data row8 col0\" >283</td>\n",
       "                        <td id=\"T_9b461_row8_col1\" class=\"data row8 col1\" >6.1%</td>\n",
       "            </tr>\n",
       "            <tr>\n",
       "                        <th id=\"T_9b461_level0_row9\" class=\"row_heading level0 row9\" >малые запасы</th>\n",
       "                        <td id=\"T_9b461_row9_col0\" class=\"data row9 col0\" >1_581</td>\n",
       "                        <td id=\"T_9b461_row9_col1\" class=\"data row9 col1\" >0.1%</td>\n",
       "            </tr>\n",
       "            <tr>\n",
       "                        <th id=\"T_9b461_level0_row10\" class=\"row_heading level0 row10\" >без запасов</th>\n",
       "                        <td id=\"T_9b461_row10_col0\" class=\"data row10 col0\" >3</td>\n",
       "                        <td id=\"T_9b461_row10_col1\" class=\"data row10 col1\" >46.3%</td>\n",
       "            </tr>\n",
       "            <tr>\n",
       "                        <th id=\"T_9b461_level0_row11\" class=\"row_heading level0 row11\" >доходы выше средних</th>\n",
       "                        <td id=\"T_9b461_row11_col0\" class=\"data row11 col0\" >2_555</td>\n",
       "                        <td id=\"T_9b461_row11_col1\" class=\"data row11 col1\" >-0.1%</td>\n",
       "            </tr>\n",
       "            <tr>\n",
       "                        <th id=\"T_9b461_level0_row12\" class=\"row_heading level0 row12\" >малые доходы</th>\n",
       "                        <td id=\"T_9b461_row12_col0\" class=\"data row12 col0\" >2_453</td>\n",
       "                        <td id=\"T_9b461_row12_col1\" class=\"data row12 col1\" >-0.4%</td>\n",
       "            </tr>\n",
       "            <tr>\n",
       "                        <th id=\"T_9b461_level0_row13\" class=\"row_heading level0 row13\" >доходы ниже средних</th>\n",
       "                        <td id=\"T_9b461_row13_col0\" class=\"data row13 col0\" >2_537</td>\n",
       "                        <td id=\"T_9b461_row13_col1\" class=\"data row13 col1\" >-0.5%</td>\n",
       "            </tr>\n",
       "    </tbody></table>"
      ],
      "text/plain": [
       "<pandas.io.formats.style.Styler at 0x7fd470068070>"
      ]
     },
     "execution_count": 150,
     "metadata": {},
     "output_type": "execute_result"
    }
   ],
   "source": [
    "examples = [\n",
    "    (\"люди с низким скором и кредиткой\", 'score < 450 and creditcard == 1'),\n",
    "    (\"владельцы 8 объектов без кредитки\", 'objects == 8 and creditcard == 0'),\n",
    "    (\"неактивные ростовчане\", 'city == \"Ростов Великий\" and loyalty == 0'),\n",
    "    (\"неактивные женщины\", 'gender == \"Ж\" and loyalty == 0'),\n",
    "    (\"пользователи 3 и 4 продуктов\",'products > 2'),\n",
    "    (\"без запасов\",'balance < 15000'),\n",
    "    (\"малые запасы\",'balance >= 15000 and balance < 100000'),\n",
    "    (\"средние запасы\",'balance >= 100000 and balance < 140000'),\n",
    "    (\"большие запасы\",'balance >= 140000'),\n",
    "    (\"малые доходы\",'estimated_salary < 50000'),\n",
    "    (\"доходы ниже средних\",'estimated_salary >= 50000 and estimated_salary < 100000'),\n",
    "    (\"доходы выше средних\",'estimated_salary >= 100000 and estimated_salary < 150000'),\n",
    "    (\"большие доходы\",'estimated_salary >= 150000'),\n",
    "    (\"в возрасте с одним продуктом\",'age > 38 and age <= 51 and products == 1'),\n",
    "]\n",
    "dfs_temp = []\n",
    "for text, query in examples:\n",
    "    result = df.query(query)\\\n",
    "              .agg({\"churn\":[\"mean\",\"count\"]}).T\n",
    "    result.index = [text]\n",
    "    dfs_temp.append(result)\n",
    "df_temp = pd.concat(dfs_temp)\n",
    "df_temp['churn_suplus'] = df_temp['mean'] - df.churn.mean()\n",
    "df_temp['idx'] = df_temp['count'] * df_temp['churn_suplus']\n",
    "df_temp.sort_values(\"idx\", ascending=False)\\\n",
    "       .drop([\"idx\",\"mean\"],axis=1)\\\n",
    "       .style.format(\"{:.1%}\",subset=[\"churn_suplus\"])\\\n",
    "       .format(\"{:_.0f}\",subset=[\"count\"])"
   ]
  },
  {
   "cell_type": "markdown",
   "id": "65672c06",
   "metadata": {},
   "source": [
    "#  Статистический анализ данных. Проверка гипотез.\n",
    "\n",
    "- Проверим гипотезу различия дохода между теми клиентами, которые пользуются двумя продуктами банка, и теми, которые пользуются одним\n",
    "- Проверим гипотезу различия score между теми клиентами, которые ушли и теми, которые остались"
   ]
  },
  {
   "cell_type": "markdown",
   "id": "99feab7d",
   "metadata": {},
   "source": [
    "Критерий t Стьюдента направлен на оценку различий величин средних Х¯¯¯ и У¯¯¯ двух выборок X и Y, которые распределены по нормальному закону.\n",
    "\n",
    "Для применения t-критерия Стьюдента необходимо, чтобы исходные данные имели нормальное распределение. Также имеет значение равенство дисперсий (распределения) сравниваемых групп. При неравных дисперсиях применяется t-критерий в модификации Уэлча."
   ]
  },
  {
   "cell_type": "markdown",
   "id": "9ea65e25",
   "metadata": {},
   "source": [
    "Проверим данные на нормальность"
   ]
  },
  {
   "cell_type": "code",
   "execution_count": 151,
   "id": "069f9c92",
   "metadata": {},
   "outputs": [],
   "source": [
    "df_churn_0=df.query(\"churn==0\")\n",
    "df_churn_1=df.query(\"churn==1\")"
   ]
  },
  {
   "cell_type": "code",
   "execution_count": 152,
   "id": "6cdccf57",
   "metadata": {},
   "outputs": [
    {
     "name": "stderr",
     "output_type": "stream",
     "text": [
      "/opt/conda/lib/python3.9/site-packages/seaborn/distributions.py:2557: FutureWarning: `distplot` is a deprecated function and will be removed in a future version. Please adapt your code to use either `displot` (a figure-level function with similar flexibility) or `histplot` (an axes-level function for histograms).\n",
      "  warnings.warn(msg, FutureWarning)\n",
      "/opt/conda/lib/python3.9/site-packages/seaborn/distributions.py:2557: FutureWarning: `distplot` is a deprecated function and will be removed in a future version. Please adapt your code to use either `displot` (a figure-level function with similar flexibility) or `histplot` (an axes-level function for histograms).\n",
      "  warnings.warn(msg, FutureWarning)\n"
     ]
    },
    {
     "data": {
      "image/png": "[encoded data removed]",
      "text/plain": [
       "<Figure size 432x288 with 1 Axes>"
      ]
     },
     "metadata": {},
     "output_type": "display_data"
    }
   ],
   "source": [
    "sns.distplot(df_churn_1['estimated_salary'],label='1')\n",
    "sns.distplot(df_churn_0['estimated_salary'],label='0')\n",
    "plt.title('Распределение estimated_salary',fontsize=16)\n",
    "plt.legend()\n",
    "plt.show()"
   ]
  },
  {
   "cell_type": "markdown",
   "id": "3b89935a",
   "metadata": {},
   "source": [
    "распределены нормально, поэтому проведем t-test."
   ]
  },
  {
   "cell_type": "markdown",
   "id": "13bfd2ae",
   "metadata": {},
   "source": [
    "Проверим гипотезу различия дохода между теми клиентами, которые ушли и теми, которые остались. Нулевая гипотеза- средняя выручка между оставшимися и ушедними пользователями равна Альтернативная гипотеза - средняя выручка между оставшимися и ушедними пользователями отличается"
   ]
  },
  {
   "cell_type": "code",
   "execution_count": 153,
   "id": "1f307e17",
   "metadata": {},
   "outputs": [
    {
     "name": "stdout",
     "output_type": "stream",
     "text": [
      "Дисперсия ушедших: 3353848819.5174017\n",
      "Дисперсия оставшихся: 3295400995.0256743\n"
     ]
    }
   ],
   "source": [
    "alpha=0.05\n",
    "\n",
    "print('Дисперсия ушедших:',df_churn_1['estimated_salary'].var())\n",
    "print('Дисперсия оставшихся:',df_churn_0['estimated_salary'].var())"
   ]
  },
  {
   "cell_type": "markdown",
   "id": "451e4be1",
   "metadata": {},
   "source": [
    "Дисперсии равны"
   ]
  },
  {
   "cell_type": "code",
   "execution_count": 154,
   "id": "5365e740",
   "metadata": {},
   "outputs": [],
   "source": [
    "results = st.ttest_ind(\n",
    "    df_churn_0['estimated_salary'], \n",
    "    df_churn_1['estimated_salary'])"
   ]
  },
  {
   "cell_type": "code",
   "execution_count": 155,
   "id": "0d25a85e",
   "metadata": {},
   "outputs": [],
   "source": [
    "p_value = results.pvalue"
   ]
  },
  {
   "cell_type": "code",
   "execution_count": 156,
   "id": "d1b102ea",
   "metadata": {},
   "outputs": [
    {
     "name": "stdout",
     "output_type": "stream",
     "text": [
      "p-значение: 0.22644173695461328\n"
     ]
    }
   ],
   "source": [
    "print('p-значение:', results.pvalue)"
   ]
  },
  {
   "cell_type": "code",
   "execution_count": 157,
   "id": "41f63f74",
   "metadata": {},
   "outputs": [
    {
     "name": "stdout",
     "output_type": "stream",
     "text": [
      "Не получилось отвергнуть нулевую гипотезу\n"
     ]
    }
   ],
   "source": [
    "if (results.pvalue < alpha):\n",
    "    print(\"Отвергаем нулевую гипотезу\")\n",
    "else:\n",
    "    print(\"Не получилось отвергнуть нулевую гипотезу\")"
   ]
  },
  {
   "cell_type": "markdown",
   "id": "9311b69f",
   "metadata": {},
   "source": [
    "Мы выяснили, что дисперсии ушедших и оставшихся равны и средняя выручка между оставшимися и ушедними пользователями равна\n",
    "\n",
    "Проведем аналогичный анализ для score. Сначала проведем проверку на нормальность"
   ]
  },
  {
   "cell_type": "code",
   "execution_count": 158,
   "id": "76759b99",
   "metadata": {},
   "outputs": [
    {
     "name": "stderr",
     "output_type": "stream",
     "text": [
      "/opt/conda/lib/python3.9/site-packages/seaborn/distributions.py:2557: FutureWarning: `distplot` is a deprecated function and will be removed in a future version. Please adapt your code to use either `displot` (a figure-level function with similar flexibility) or `histplot` (an axes-level function for histograms).\n",
      "  warnings.warn(msg, FutureWarning)\n",
      "/opt/conda/lib/python3.9/site-packages/seaborn/distributions.py:2557: FutureWarning: `distplot` is a deprecated function and will be removed in a future version. Please adapt your code to use either `displot` (a figure-level function with similar flexibility) or `histplot` (an axes-level function for histograms).\n",
      "  warnings.warn(msg, FutureWarning)\n"
     ]
    },
    {
     "data": {
      "image/png": "[encoded data removed]",
      "text/plain": [
       "<Figure size 432x288 with 1 Axes>"
      ]
     },
     "metadata": {},
     "output_type": "display_data"
    }
   ],
   "source": [
    "sns.distplot(df_churn_1['score'],label='1')\n",
    "sns.distplot(df_churn_0['score'],label='0')\n",
    "plt.title('Распределение score')\n",
    "plt.legend()\n",
    "plt.show()"
   ]
  },
  {
   "cell_type": "markdown",
   "id": "6fc55fcd",
   "metadata": {},
   "source": [
    "Данные можно считать распределенными нормально."
   ]
  },
  {
   "cell_type": "code",
   "execution_count": 159,
   "id": "45bdfeaa",
   "metadata": {},
   "outputs": [
    {
     "name": "stdout",
     "output_type": "stream",
     "text": [
      "Дисперсия ушедних: 10064.403893876835\n",
      "Дисперсия оставшихся: 9149.656541843884\n"
     ]
    }
   ],
   "source": [
    "alpha=0.05\n",
    "\n",
    "print('Дисперсия ушедних:',df_churn_1['score'].var())\n",
    "print('Дисперсия оставшихся:',df_churn_0['score'].var())"
   ]
  },
  {
   "cell_type": "markdown",
   "id": "4ec11ad8",
   "metadata": {},
   "source": [
    "Проверим гипотезу различия score между теми клиентами, которые ушли и теми, которые остались. Нулевая гипотеза- средний счет между оставшимися и ушедними пользователями равен. Альтернативная гипотеза - средний счет между оставшимися и ушедними пользователями отличается."
   ]
  },
  {
   "cell_type": "code",
   "execution_count": 160,
   "id": "7a2dacc9",
   "metadata": {},
   "outputs": [],
   "source": [
    "results = st.ttest_ind(\n",
    "    df_churn_0['score'], \n",
    "    df_churn_1['score'], equal_var=False)"
   ]
  },
  {
   "cell_type": "code",
   "execution_count": 161,
   "id": "466dc680",
   "metadata": {},
   "outputs": [],
   "source": [
    "p_value = results.pvalue"
   ]
  },
  {
   "cell_type": "code",
   "execution_count": 162,
   "id": "51cd185c",
   "metadata": {
    "scrolled": true
   },
   "outputs": [
    {
     "name": "stdout",
     "output_type": "stream",
     "text": [
      "p-значение: 0.008464728991832877\n",
      "Отвергаем нулевую гипотезу\n"
     ]
    }
   ],
   "source": [
    "print('p-значение:', results.pvalue)\n",
    "\n",
    "if (results.pvalue < alpha):\n",
    "    print(\"Отвергаем нулевую гипотезу\")\n",
    "else:\n",
    "    print(\"Не получилось отвергнуть нулевую гипотезу\")"
   ]
  },
  {
   "cell_type": "markdown",
   "id": "7f9dfebf",
   "metadata": {},
   "source": [
    "Мы отвергли гипотезу о равестве средних score ушедших и оставшихся. Получается, уходящие пользователи становятся менее заинтересованными и их активнсть немного падает."
   ]
  },
  {
   "cell_type": "markdown",
   "id": "190a92ab",
   "metadata": {},
   "source": [
    "# Сегментация пользователей по потреблению.\n",
    "\n",
    "- проанализиуем **факторы, влияющие на отток пользователей**: зависит ли отток от пола, возраста, города проживания, дохода, кол-ва обьектов недвижимости в собственности, и т.п. Какие факторы коррелируют между собой, а какие - нет. \n",
    "\n",
    "- **построим модель прогнозирования оттока клиентов**\n",
    "\n",
    "- **Разделим выборки на тренировочную и валидационную**\n",
    "\n",
    "- **Построим модель логистической регрессии** (модель классификации). Необходимо будет данные масштабировать (нормализовать). Обучим модель, извлечем и интерпретируем (коэффициенты? уровни значимости признаков? Разрезы, по которым дерево решит разделить датасет?). Оценим ее работу на тех частях выборки (вышеуказанные возраст, пол, город проживания и т.д.), которые мы решили отделить. \n"
   ]
  },
  {
   "cell_type": "markdown",
   "id": "575d7d51",
   "metadata": {},
   "source": [
    "Построим модель прогнозирования оттока клиентов"
   ]
  },
  {
   "cell_type": "code",
   "execution_count": 163,
   "id": "d4e40d76",
   "metadata": {
    "scrolled": true
   },
   "outputs": [],
   "source": [
    "data_for_ml = df[df.columns[1::]]\n",
    "data_for_ml = pd.get_dummies(data_for_ml[df.columns[1::]])"
   ]
  },
  {
   "cell_type": "code",
   "execution_count": 164,
   "id": "28cdf91e",
   "metadata": {},
   "outputs": [
    {
     "data": {
      "text/html": [
       "<div>\n",
       "<style scoped>\n",
       "    .dataframe tbody tr th:only-of-type {\n",
       "        vertical-align: middle;\n",
       "    }\n",
       "\n",
       "    .dataframe tbody tr th {\n",
       "        vertical-align: top;\n",
       "    }\n",
       "\n",
       "    .dataframe thead th {\n",
       "        text-align: right;\n",
       "    }\n",
       "</style>\n",
       "<table border=\"1\" class=\"dataframe\">\n",
       "  <thead>\n",
       "    <tr style=\"text-align: right;\">\n",
       "      <th></th>\n",
       "      <th>score</th>\n",
       "      <th>age</th>\n",
       "      <th>objects</th>\n",
       "      <th>balance</th>\n",
       "      <th>products</th>\n",
       "      <th>creditcard</th>\n",
       "      <th>loyalty</th>\n",
       "      <th>estimated_salary</th>\n",
       "      <th>churn</th>\n",
       "      <th>city_Ростов Великий</th>\n",
       "      <th>...</th>\n",
       "      <th>age_category_18-45 лет</th>\n",
       "      <th>age_category_46-60 лет</th>\n",
       "      <th>age_category_61 год и старше</th>\n",
       "      <th>score_category_высокий уровень</th>\n",
       "      <th>score_category_низкий уровень</th>\n",
       "      <th>score_category_средний уровень</th>\n",
       "      <th>balance_category_30 000 - 50 000р</th>\n",
       "      <th>balance_category_5 000 - 30 000р</th>\n",
       "      <th>balance_category_более 100 000р</th>\n",
       "      <th>balance_category_менее 5000р</th>\n",
       "    </tr>\n",
       "  </thead>\n",
       "  <tbody>\n",
       "    <tr>\n",
       "      <th>0</th>\n",
       "      <td>619</td>\n",
       "      <td>42</td>\n",
       "      <td>2</td>\n",
       "      <td>NaN</td>\n",
       "      <td>1</td>\n",
       "      <td>1</td>\n",
       "      <td>1</td>\n",
       "      <td>101348</td>\n",
       "      <td>1</td>\n",
       "      <td>0</td>\n",
       "      <td>...</td>\n",
       "      <td>1</td>\n",
       "      <td>0</td>\n",
       "      <td>0</td>\n",
       "      <td>0</td>\n",
       "      <td>0</td>\n",
       "      <td>1</td>\n",
       "      <td>0</td>\n",
       "      <td>0</td>\n",
       "      <td>1</td>\n",
       "      <td>0</td>\n",
       "    </tr>\n",
       "    <tr>\n",
       "      <th>1</th>\n",
       "      <td>608</td>\n",
       "      <td>41</td>\n",
       "      <td>1</td>\n",
       "      <td>83807.86</td>\n",
       "      <td>1</td>\n",
       "      <td>0</td>\n",
       "      <td>1</td>\n",
       "      <td>112542</td>\n",
       "      <td>0</td>\n",
       "      <td>0</td>\n",
       "      <td>...</td>\n",
       "      <td>1</td>\n",
       "      <td>0</td>\n",
       "      <td>0</td>\n",
       "      <td>0</td>\n",
       "      <td>0</td>\n",
       "      <td>1</td>\n",
       "      <td>0</td>\n",
       "      <td>0</td>\n",
       "      <td>1</td>\n",
       "      <td>0</td>\n",
       "    </tr>\n",
       "    <tr>\n",
       "      <th>2</th>\n",
       "      <td>502</td>\n",
       "      <td>42</td>\n",
       "      <td>8</td>\n",
       "      <td>159660.80</td>\n",
       "      <td>3</td>\n",
       "      <td>1</td>\n",
       "      <td>0</td>\n",
       "      <td>113931</td>\n",
       "      <td>1</td>\n",
       "      <td>0</td>\n",
       "      <td>...</td>\n",
       "      <td>1</td>\n",
       "      <td>0</td>\n",
       "      <td>0</td>\n",
       "      <td>0</td>\n",
       "      <td>0</td>\n",
       "      <td>1</td>\n",
       "      <td>0</td>\n",
       "      <td>0</td>\n",
       "      <td>1</td>\n",
       "      <td>0</td>\n",
       "    </tr>\n",
       "    <tr>\n",
       "      <th>3</th>\n",
       "      <td>699</td>\n",
       "      <td>39</td>\n",
       "      <td>1</td>\n",
       "      <td>NaN</td>\n",
       "      <td>2</td>\n",
       "      <td>0</td>\n",
       "      <td>0</td>\n",
       "      <td>93826</td>\n",
       "      <td>0</td>\n",
       "      <td>0</td>\n",
       "      <td>...</td>\n",
       "      <td>1</td>\n",
       "      <td>0</td>\n",
       "      <td>0</td>\n",
       "      <td>0</td>\n",
       "      <td>0</td>\n",
       "      <td>1</td>\n",
       "      <td>0</td>\n",
       "      <td>0</td>\n",
       "      <td>1</td>\n",
       "      <td>0</td>\n",
       "    </tr>\n",
       "    <tr>\n",
       "      <th>4</th>\n",
       "      <td>850</td>\n",
       "      <td>43</td>\n",
       "      <td>2</td>\n",
       "      <td>125510.82</td>\n",
       "      <td>1</td>\n",
       "      <td>1</td>\n",
       "      <td>1</td>\n",
       "      <td>79084</td>\n",
       "      <td>0</td>\n",
       "      <td>0</td>\n",
       "      <td>...</td>\n",
       "      <td>1</td>\n",
       "      <td>0</td>\n",
       "      <td>0</td>\n",
       "      <td>1</td>\n",
       "      <td>0</td>\n",
       "      <td>0</td>\n",
       "      <td>0</td>\n",
       "      <td>0</td>\n",
       "      <td>1</td>\n",
       "      <td>0</td>\n",
       "    </tr>\n",
       "    <tr>\n",
       "      <th>...</th>\n",
       "      <td>...</td>\n",
       "      <td>...</td>\n",
       "      <td>...</td>\n",
       "      <td>...</td>\n",
       "      <td>...</td>\n",
       "      <td>...</td>\n",
       "      <td>...</td>\n",
       "      <td>...</td>\n",
       "      <td>...</td>\n",
       "      <td>...</td>\n",
       "      <td>...</td>\n",
       "      <td>...</td>\n",
       "      <td>...</td>\n",
       "      <td>...</td>\n",
       "      <td>...</td>\n",
       "      <td>...</td>\n",
       "      <td>...</td>\n",
       "      <td>...</td>\n",
       "      <td>...</td>\n",
       "      <td>...</td>\n",
       "      <td>...</td>\n",
       "    </tr>\n",
       "    <tr>\n",
       "      <th>9995</th>\n",
       "      <td>771</td>\n",
       "      <td>39</td>\n",
       "      <td>5</td>\n",
       "      <td>NaN</td>\n",
       "      <td>2</td>\n",
       "      <td>1</td>\n",
       "      <td>0</td>\n",
       "      <td>96270</td>\n",
       "      <td>0</td>\n",
       "      <td>0</td>\n",
       "      <td>...</td>\n",
       "      <td>1</td>\n",
       "      <td>0</td>\n",
       "      <td>0</td>\n",
       "      <td>1</td>\n",
       "      <td>0</td>\n",
       "      <td>0</td>\n",
       "      <td>0</td>\n",
       "      <td>0</td>\n",
       "      <td>1</td>\n",
       "      <td>0</td>\n",
       "    </tr>\n",
       "    <tr>\n",
       "      <th>9996</th>\n",
       "      <td>516</td>\n",
       "      <td>35</td>\n",
       "      <td>10</td>\n",
       "      <td>57369.61</td>\n",
       "      <td>1</td>\n",
       "      <td>1</td>\n",
       "      <td>1</td>\n",
       "      <td>101699</td>\n",
       "      <td>0</td>\n",
       "      <td>0</td>\n",
       "      <td>...</td>\n",
       "      <td>1</td>\n",
       "      <td>0</td>\n",
       "      <td>0</td>\n",
       "      <td>0</td>\n",
       "      <td>0</td>\n",
       "      <td>1</td>\n",
       "      <td>0</td>\n",
       "      <td>0</td>\n",
       "      <td>1</td>\n",
       "      <td>0</td>\n",
       "    </tr>\n",
       "    <tr>\n",
       "      <th>9997</th>\n",
       "      <td>709</td>\n",
       "      <td>36</td>\n",
       "      <td>7</td>\n",
       "      <td>NaN</td>\n",
       "      <td>1</td>\n",
       "      <td>0</td>\n",
       "      <td>1</td>\n",
       "      <td>42085</td>\n",
       "      <td>1</td>\n",
       "      <td>0</td>\n",
       "      <td>...</td>\n",
       "      <td>1</td>\n",
       "      <td>0</td>\n",
       "      <td>0</td>\n",
       "      <td>1</td>\n",
       "      <td>0</td>\n",
       "      <td>0</td>\n",
       "      <td>0</td>\n",
       "      <td>0</td>\n",
       "      <td>1</td>\n",
       "      <td>0</td>\n",
       "    </tr>\n",
       "    <tr>\n",
       "      <th>9998</th>\n",
       "      <td>772</td>\n",
       "      <td>42</td>\n",
       "      <td>3</td>\n",
       "      <td>75075.31</td>\n",
       "      <td>2</td>\n",
       "      <td>1</td>\n",
       "      <td>0</td>\n",
       "      <td>92888</td>\n",
       "      <td>1</td>\n",
       "      <td>1</td>\n",
       "      <td>...</td>\n",
       "      <td>1</td>\n",
       "      <td>0</td>\n",
       "      <td>0</td>\n",
       "      <td>1</td>\n",
       "      <td>0</td>\n",
       "      <td>0</td>\n",
       "      <td>0</td>\n",
       "      <td>0</td>\n",
       "      <td>1</td>\n",
       "      <td>0</td>\n",
       "    </tr>\n",
       "    <tr>\n",
       "      <th>9999</th>\n",
       "      <td>792</td>\n",
       "      <td>28</td>\n",
       "      <td>4</td>\n",
       "      <td>130142.79</td>\n",
       "      <td>1</td>\n",
       "      <td>1</td>\n",
       "      <td>0</td>\n",
       "      <td>38190</td>\n",
       "      <td>0</td>\n",
       "      <td>0</td>\n",
       "      <td>...</td>\n",
       "      <td>1</td>\n",
       "      <td>0</td>\n",
       "      <td>0</td>\n",
       "      <td>1</td>\n",
       "      <td>0</td>\n",
       "      <td>0</td>\n",
       "      <td>0</td>\n",
       "      <td>0</td>\n",
       "      <td>1</td>\n",
       "      <td>0</td>\n",
       "    </tr>\n",
       "  </tbody>\n",
       "</table>\n",
       "<p>10000 rows × 27 columns</p>\n",
       "</div>"
      ],
      "text/plain": [
       "      score  age  objects    balance  products  creditcard  loyalty  \\\n",
       "0       619   42        2        NaN         1           1        1   \n",
       "1       608   41        1   83807.86         1           0        1   \n",
       "2       502   42        8  159660.80         3           1        0   \n",
       "3       699   39        1        NaN         2           0        0   \n",
       "4       850   43        2  125510.82         1           1        1   \n",
       "...     ...  ...      ...        ...       ...         ...      ...   \n",
       "9995    771   39        5        NaN         2           1        0   \n",
       "9996    516   35       10   57369.61         1           1        1   \n",
       "9997    709   36        7        NaN         1           0        1   \n",
       "9998    772   42        3   75075.31         2           1        0   \n",
       "9999    792   28        4  130142.79         1           1        0   \n",
       "\n",
       "      estimated_salary  churn  city_Ростов Великий  ...  \\\n",
       "0               101348      1                    0  ...   \n",
       "1               112542      0                    0  ...   \n",
       "2               113931      1                    0  ...   \n",
       "3                93826      0                    0  ...   \n",
       "4                79084      0                    0  ...   \n",
       "...                ...    ...                  ...  ...   \n",
       "9995             96270      0                    0  ...   \n",
       "9996            101699      0                    0  ...   \n",
       "9997             42085      1                    0  ...   \n",
       "9998             92888      1                    1  ...   \n",
       "9999             38190      0                    0  ...   \n",
       "\n",
       "      age_category_18-45 лет  age_category_46-60 лет  \\\n",
       "0                          1                       0   \n",
       "1                          1                       0   \n",
       "2                          1                       0   \n",
       "3                          1                       0   \n",
       "4                          1                       0   \n",
       "...                      ...                     ...   \n",
       "9995                       1                       0   \n",
       "9996                       1                       0   \n",
       "9997                       1                       0   \n",
       "9998                       1                       0   \n",
       "9999                       1                       0   \n",
       "\n",
       "      age_category_61 год и старше  score_category_высокий уровень  \\\n",
       "0                                0                               0   \n",
       "1                                0                               0   \n",
       "2                                0                               0   \n",
       "3                                0                               0   \n",
       "4                                0                               1   \n",
       "...                            ...                             ...   \n",
       "9995                             0                               1   \n",
       "9996                             0                               0   \n",
       "9997                             0                               1   \n",
       "9998                             0                               1   \n",
       "9999                             0                               1   \n",
       "\n",
       "      score_category_низкий уровень  score_category_средний уровень  \\\n",
       "0                                 0                               1   \n",
       "1                                 0                               1   \n",
       "2                                 0                               1   \n",
       "3                                 0                               1   \n",
       "4                                 0                               0   \n",
       "...                             ...                             ...   \n",
       "9995                              0                               0   \n",
       "9996                              0                               1   \n",
       "9997                              0                               0   \n",
       "9998                              0                               0   \n",
       "9999                              0                               0   \n",
       "\n",
       "      balance_category_30 000 - 50 000р  balance_category_5 000 - 30 000р  \\\n",
       "0                                     0                                 0   \n",
       "1                                     0                                 0   \n",
       "2                                     0                                 0   \n",
       "3                                     0                                 0   \n",
       "4                                     0                                 0   \n",
       "...                                 ...                               ...   \n",
       "9995                                  0                                 0   \n",
       "9996                                  0                                 0   \n",
       "9997                                  0                                 0   \n",
       "9998                                  0                                 0   \n",
       "9999                                  0                                 0   \n",
       "\n",
       "      balance_category_более 100 000р  balance_category_менее 5000р  \n",
       "0                                   1                             0  \n",
       "1                                   1                             0  \n",
       "2                                   1                             0  \n",
       "3                                   1                             0  \n",
       "4                                   1                             0  \n",
       "...                               ...                           ...  \n",
       "9995                                1                             0  \n",
       "9996                                1                             0  \n",
       "9997                                1                             0  \n",
       "9998                                1                             0  \n",
       "9999                                1                             0  \n",
       "\n",
       "[10000 rows x 27 columns]"
      ]
     },
     "execution_count": 164,
     "metadata": {},
     "output_type": "execute_result"
    }
   ],
   "source": [
    "data_for_ml"
   ]
  },
  {
   "cell_type": "code",
   "execution_count": 165,
   "id": "4b64c020",
   "metadata": {},
   "outputs": [],
   "source": [
    "X = data_for_ml[data_for_ml.columns[1::]].drop(columns='churn')\n",
    "y = data_for_ml['churn']"
   ]
  },
  {
   "cell_type": "markdown",
   "id": "70969044",
   "metadata": {},
   "source": [
    "Разделим выборки на тренировочную и валидационную"
   ]
  },
  {
   "cell_type": "code",
   "execution_count": 166,
   "id": "2941fb6b",
   "metadata": {},
   "outputs": [],
   "source": [
    "X_train, X_test,y_train,y_test = train_test_split(X,y,test_size=0.2,random_state=0)\n",
    "scaler = StandardScaler()\n",
    "scaler.fit(X_train)\n",
    "X_train_sc = scaler.transform(X_train)\n",
    "X_test_sc = scaler.transform(X_test)"
   ]
  },
  {
   "cell_type": "code",
   "execution_count": 167,
   "id": "4b2bf4fe",
   "metadata": {},
   "outputs": [],
   "source": [
    "def train_model(m):\n",
    "    'Функция тренирует модель m на тестовых данных и рассчитывает все необходимые метрики'\n",
    "    print(m)\n",
    "    model=m\n",
    "    model.fit(X_train_sc,y_train)\n",
    "    y_pred=model.predict(X_test_sc)\n",
    "    print('Accuracy',accuracy_score(y_test,y_pred), \n",
    "         '\\nRecall',recall_score(y_test,y_pred),\n",
    "         '\\nPrecision',precision_score(y_test,y_pred),'\\n')"
   ]
  },
  {
   "cell_type": "code",
   "execution_count": 169,
   "id": "fb513a5a",
   "metadata": {},
   "outputs": [
    {
     "name": "stdout",
     "output_type": "stream",
     "text": [
      "Constant dummy\n",
      "Accuracy 0.7975\n",
      "Recall 0.0\n",
      "Precision 0.0\n",
      "\n",
      "Random dummy\n",
      "Accuracy 0.5055\n",
      "Recall 0.5308641975308642\n",
      "Precision 0.21203155818540434\n"
     ]
    },
    {
     "name": "stderr",
     "output_type": "stream",
     "text": [
      "/opt/conda/lib/python3.9/site-packages/sklearn/metrics/_classification.py:1245: UndefinedMetricWarning: Precision is ill-defined and being set to 0.0 due to no predicted samples. Use `zero_division` parameter to control this behavior.\n",
      "  _warn_prf(average, modifier, msg_start, len(result))\n"
     ]
    }
   ],
   "source": [
    "\n",
    "const_pred = np.zeros(y_test.size)\n",
    "print('Constant dummy',\n",
    "     f'Accuracy {accuracy_score(y_test,const_pred)}', \n",
    "     f'Recall {recall_score(y_test,const_pred)}',\n",
    "     f'Precision {precision_score(y_test,const_pred)}',\n",
    "     sep='\\n')\n",
    "rand_pred = np.random.randint(2,size=y_test.size)\n",
    "print('\\nRandom dummy',\n",
    "     f'Accuracy {accuracy_score(y_test,rand_pred)}', \n",
    "     f'Recall {recall_score(y_test,rand_pred)}',\n",
    "     f'Precision {precision_score(y_test,rand_pred)}',\n",
    "     sep='\\n')"
   ]
  },
  {
   "cell_type": "markdown",
   "id": "830f6987",
   "metadata": {},
   "source": [
    "**Вывод**  \n",
    "\n",
    "Accuracy высокая у обоих моделей, но это обусловлено тем, что данные распределены неравномерно(ушедших всего 20%).\n",
    "В данном проекте наиболее важной метрикой является recall (мы предсказали, что пользователь не уйдет, а он ушел). \n",
    "Эта метрика хоть и больше у случайного леса в два раза, однако недостаточно велика. Из этого можно сделать вывод, \n",
    "что на этих данных мы можем обучить только слаботочные модели, для повышения точности нужно больше данных"
   ]
  },
  {
   "cell_type": "markdown",
   "id": "2dca442e",
   "metadata": {},
   "source": [
    "# Выводы"
   ]
  },
  {
   "cell_type": "markdown",
   "id": "e8f707b4",
   "metadata": {},
   "source": [
    "доход клиентов не влияет на факт оттока - статистический тест подтвердил гипотезу о том, что средний доход клиентов, ушедших в отток, не имеет статистически значимых различий со средним доходом клиентов, которые остались с банком;  \n",
    "\n",
    "портрет клиента, склонного к оттоку в целом таков:  \n",
    "средний возраст 45 лет;  \n",
    "проживает в основном в Ярославле и Ростове Великом (доли практически равные);  \n",
    "70% этих клиентов имеют кредитную карту;  \n",
    "низкая активность;  \n",
    "в среднем 5 объектов в собственности;  \n",
    "в среднем оформлено 1,5 продукта;  \n",
    "гендерный состав неравномерный - 45% мужчины, 55% женщины;  \n",
    "кредитный рейтинг в среднем такой же, как у тех, кто остался.  "
   ]
  },
  {
   "cell_type": "markdown",
   "id": "c1df721d",
   "metadata": {},
   "source": [
    "# Рекомендации  \n",
    "\n",
    "Следует провести анализ качества предоставляемых услуг в городе Ростов Великий, предоставить дополнительные услуги/льготы для людей 45-65 лет.  Провести акции по удержанию пользователей старших лет и женщин, постараться увеличить используемость продукции в месяц.  \n",
    "\n",
    "Сформировать выгодные предложения для людей пенсионного возраста ввести льготы на продукты и услуги, так как они наиболее склонны к оттоку(в рамках своей категории).    \n",
    "\n",
    "На нулевой баланс стоит обратить внимание. Возможно, это происходит из-за того, что клиент пользуется другим банком. В таком случае необходимо изучить предложения банков-конкурентов и внедрить у себя аналогичные/похожие, которые могли бы удержать клиента. Если нет акции cashback, то она нужна. Можно добавить процент на ежемесячный остаток по счету, чтобы клиент оставлял средства на карте данного банка на длительно время или хранение.  "
   ]
  },
  {
   "cell_type": "markdown",
   "id": "5d78ed21",
   "metadata": {},
   "source": [
    "# Презентация (на основе дашборда)\n",
    "\n",
    "- В каком положении оказался банк. Насколько эффективна его текущая работа по удержанию клиентов   \n",
    "- общий портет клиента  \n",
    "- портрет клиента, попадающего в отток  \n",
    "- средние значения признаков в группах тех, кто попал в отток и тех, кто остался (есть ли связь оттока клиентов с возрастом, полом, зарплатой, и т.д.) при помощи средств визуализации данных - boxplot, hist, и т.п.  \n",
    "- матрица корреляции признаков. Посмотрим, какие признаки (не)коррелируют между собой  \n",
    "- факторы, влияющие на отток пользователей  \n",
    "- Выводы и рекомендации банку: как уменьшить отток клиентов (и вместе с этим - уменьшить убытки банка)"
   ]
  }
 ],
 "metadata": {
  "ExecuteTimeLog": [
   {
    "duration": 1246,
    "start_time": "2022-06-11T10:12:46.404Z"
   },
   {
    "duration": 19,
    "start_time": "2022-06-11T10:12:47.652Z"
   },
   {
    "duration": 36,
    "start_time": "2022-06-11T10:12:47.672Z"
   },
   {
    "duration": 13,
    "start_time": "2022-06-11T10:12:47.710Z"
   },
   {
    "duration": 10,
    "start_time": "2022-06-11T10:12:47.724Z"
   },
   {
    "duration": 3,
    "start_time": "2022-06-11T10:12:47.752Z"
   },
   {
    "duration": 8,
    "start_time": "2022-06-11T10:12:47.757Z"
   },
   {
    "duration": 6,
    "start_time": "2022-06-11T10:12:47.767Z"
   },
   {
    "duration": 4,
    "start_time": "2022-06-11T10:12:47.775Z"
   },
   {
    "duration": 40,
    "start_time": "2022-06-11T10:12:47.782Z"
   },
   {
    "duration": 10,
    "start_time": "2022-06-11T10:12:47.824Z"
   },
   {
    "duration": 3,
    "start_time": "2022-06-11T10:12:47.852Z"
   },
   {
    "duration": 23,
    "start_time": "2022-06-11T10:12:47.857Z"
   },
   {
    "duration": 7,
    "start_time": "2022-06-11T10:12:47.881Z"
   },
   {
    "duration": 14,
    "start_time": "2022-06-11T10:12:47.889Z"
   },
   {
    "duration": 4,
    "start_time": "2022-06-11T10:12:47.905Z"
   },
   {
    "duration": 7,
    "start_time": "2022-06-11T10:12:47.911Z"
   },
   {
    "duration": 35,
    "start_time": "2022-06-11T10:12:47.920Z"
   },
   {
    "duration": 4,
    "start_time": "2022-06-11T10:12:47.957Z"
   },
   {
    "duration": 9,
    "start_time": "2022-06-11T10:12:47.962Z"
   },
   {
    "duration": 13,
    "start_time": "2022-06-11T10:12:47.972Z"
   },
   {
    "duration": 7,
    "start_time": "2022-06-11T10:12:47.987Z"
   },
   {
    "duration": 13,
    "start_time": "2022-06-11T10:12:47.996Z"
   },
   {
    "duration": 11,
    "start_time": "2022-06-11T10:12:48.011Z"
   },
   {
    "duration": 11,
    "start_time": "2022-06-11T10:12:48.023Z"
   },
   {
    "duration": 44,
    "start_time": "2022-06-11T10:12:48.035Z"
   },
   {
    "duration": 4,
    "start_time": "2022-06-11T10:12:48.081Z"
   },
   {
    "duration": 7,
    "start_time": "2022-06-11T10:12:48.089Z"
   },
   {
    "duration": 7,
    "start_time": "2022-06-11T10:12:48.097Z"
   },
   {
    "duration": 7,
    "start_time": "2022-06-11T10:12:48.105Z"
   },
   {
    "duration": 13,
    "start_time": "2022-06-11T10:12:48.113Z"
   },
   {
    "duration": 36,
    "start_time": "2022-06-11T10:12:48.128Z"
   },
   {
    "duration": 6,
    "start_time": "2022-06-11T10:12:48.166Z"
   },
   {
    "duration": 9,
    "start_time": "2022-06-11T10:12:48.174Z"
   },
   {
    "duration": 13,
    "start_time": "2022-06-11T10:12:48.184Z"
   },
   {
    "duration": 14,
    "start_time": "2022-06-11T10:12:48.199Z"
   },
   {
    "duration": 20,
    "start_time": "2022-06-11T10:12:48.215Z"
   },
   {
    "duration": 25,
    "start_time": "2022-06-11T10:12:48.237Z"
   },
   {
    "duration": 47,
    "start_time": "2022-06-11T10:12:48.264Z"
   },
   {
    "duration": 107,
    "start_time": "2022-06-11T10:12:48.312Z"
   },
   {
    "duration": 6,
    "start_time": "2022-06-11T10:12:48.420Z"
   },
   {
    "duration": 127,
    "start_time": "2022-06-11T10:12:48.427Z"
   },
   {
    "duration": 98,
    "start_time": "2022-06-11T10:12:48.555Z"
   },
   {
    "duration": 6,
    "start_time": "2022-06-11T10:12:48.654Z"
   },
   {
    "duration": 124,
    "start_time": "2022-06-11T10:12:48.662Z"
   },
   {
    "duration": 126,
    "start_time": "2022-06-11T10:12:48.787Z"
   },
   {
    "duration": 6,
    "start_time": "2022-06-11T10:12:48.914Z"
   },
   {
    "duration": 120,
    "start_time": "2022-06-11T10:12:48.921Z"
   },
   {
    "duration": 99,
    "start_time": "2022-06-11T10:12:49.043Z"
   },
   {
    "duration": 10,
    "start_time": "2022-06-11T10:12:49.144Z"
   },
   {
    "duration": 119,
    "start_time": "2022-06-11T10:12:49.155Z"
   },
   {
    "duration": 123,
    "start_time": "2022-06-11T10:12:49.276Z"
   },
   {
    "duration": 185,
    "start_time": "2022-06-11T10:12:49.401Z"
   },
   {
    "duration": 6,
    "start_time": "2022-06-11T10:12:49.588Z"
   },
   {
    "duration": 6,
    "start_time": "2022-06-11T10:12:49.595Z"
   },
   {
    "duration": 9,
    "start_time": "2022-06-11T10:12:49.603Z"
   },
   {
    "duration": 59,
    "start_time": "2022-06-11T10:12:49.613Z"
   },
   {
    "duration": 13,
    "start_time": "2022-06-11T10:12:49.673Z"
   },
   {
    "duration": 510,
    "start_time": "2022-06-11T10:12:49.687Z"
   },
   {
    "duration": 342,
    "start_time": "2022-06-11T10:12:50.199Z"
   },
   {
    "duration": 286,
    "start_time": "2022-06-11T10:12:50.543Z"
   },
   {
    "duration": 311,
    "start_time": "2022-06-11T10:12:50.831Z"
   },
   {
    "duration": 290,
    "start_time": "2022-06-11T10:12:51.144Z"
   },
   {
    "duration": 316,
    "start_time": "2022-06-11T10:12:51.436Z"
   },
   {
    "duration": 28,
    "start_time": "2022-06-11T10:12:51.753Z"
   },
   {
    "duration": 282,
    "start_time": "2022-06-11T10:12:51.783Z"
   },
   {
    "duration": 5,
    "start_time": "2022-06-11T10:12:52.067Z"
   },
   {
    "duration": 357,
    "start_time": "2022-06-11T10:12:52.073Z"
   },
   {
    "duration": 356,
    "start_time": "2022-06-11T10:12:52.431Z"
   },
   {
    "duration": 324,
    "start_time": "2022-06-11T10:12:52.789Z"
   },
   {
    "duration": 1297,
    "start_time": "2022-06-11T10:12:53.115Z"
   },
   {
    "duration": 348,
    "start_time": "2022-06-11T10:12:54.413Z"
   },
   {
    "duration": 315,
    "start_time": "2022-06-11T10:12:54.763Z"
   },
   {
    "duration": 340,
    "start_time": "2022-06-11T10:12:55.079Z"
   },
   {
    "duration": 461,
    "start_time": "2022-06-11T10:12:55.420Z"
   },
   {
    "duration": 305,
    "start_time": "2022-06-11T10:12:55.883Z"
   },
   {
    "duration": 14,
    "start_time": "2022-06-11T10:12:56.189Z"
   },
   {
    "duration": 7,
    "start_time": "2022-06-11T10:12:56.205Z"
   },
   {
    "duration": 1125,
    "start_time": "2022-06-11T10:12:56.213Z"
   },
   {
    "duration": 19,
    "start_time": "2022-06-11T10:12:57.340Z"
   },
   {
    "duration": 17,
    "start_time": "2022-06-11T10:12:57.360Z"
   },
   {
    "duration": 9,
    "start_time": "2022-06-11T10:12:57.383Z"
   },
   {
    "duration": 310,
    "start_time": "2022-06-11T10:12:57.393Z"
   },
   {
    "duration": 5,
    "start_time": "2022-06-11T10:12:57.705Z"
   },
   {
    "duration": 11,
    "start_time": "2022-06-11T10:12:57.712Z"
   },
   {
    "duration": 6,
    "start_time": "2022-06-11T10:12:57.725Z"
   },
   {
    "duration": 9,
    "start_time": "2022-06-11T10:12:57.733Z"
   },
   {
    "duration": 9,
    "start_time": "2022-06-11T10:12:57.743Z"
   },
   {
    "duration": 347,
    "start_time": "2022-06-11T10:12:57.754Z"
   },
   {
    "duration": 5,
    "start_time": "2022-06-11T10:12:58.103Z"
   },
   {
    "duration": 15,
    "start_time": "2022-06-11T10:12:58.109Z"
   },
   {
    "duration": 23,
    "start_time": "2022-06-11T10:12:58.126Z"
   },
   {
    "duration": 11,
    "start_time": "2022-06-11T10:12:58.152Z"
   },
   {
    "duration": 29,
    "start_time": "2022-06-11T10:12:58.165Z"
   },
   {
    "duration": 28,
    "start_time": "2022-06-11T10:12:58.196Z"
   },
   {
    "duration": 7,
    "start_time": "2022-06-11T10:12:58.226Z"
   },
   {
    "duration": 35,
    "start_time": "2022-06-11T10:12:58.235Z"
   },
   {
    "duration": 4,
    "start_time": "2022-06-11T10:12:58.272Z"
   },
   {
    "duration": 1422,
    "start_time": "2022-06-11T10:12:58.278Z"
   },
   {
    "duration": 31,
    "start_time": "2022-06-11T10:20:39.913Z"
   },
   {
    "duration": 408,
    "start_time": "2022-06-11T10:20:59.620Z"
   },
   {
    "duration": 550,
    "start_time": "2022-06-11T10:22:00.158Z"
   },
   {
    "duration": 689,
    "start_time": "2022-06-11T10:22:38.852Z"
   },
   {
    "duration": 935,
    "start_time": "2022-06-11T10:22:53.276Z"
   },
   {
    "duration": 13,
    "start_time": "2022-06-11T10:24:09.745Z"
   },
   {
    "duration": 179,
    "start_time": "2022-06-11T10:24:15.404Z"
   },
   {
    "duration": 1228,
    "start_time": "2022-06-11T10:24:47.988Z"
   },
   {
    "duration": 1985,
    "start_time": "2022-06-11T10:25:27.705Z"
   },
   {
    "duration": 19947,
    "start_time": "2022-06-11T10:29:02.678Z"
   },
   {
    "duration": 149,
    "start_time": "2022-06-11T10:29:28.301Z"
   },
   {
    "duration": 151,
    "start_time": "2022-06-11T10:29:50.142Z"
   },
   {
    "duration": 20,
    "start_time": "2022-06-11T10:33:09.262Z"
   },
   {
    "duration": 153,
    "start_time": "2022-06-11T10:34:14.659Z"
   },
   {
    "duration": 188,
    "start_time": "2022-06-11T10:34:22.783Z"
   },
   {
    "duration": 185,
    "start_time": "2022-06-11T10:34:42.678Z"
   },
   {
    "duration": 364,
    "start_time": "2022-06-11T10:38:38.217Z"
   },
   {
    "duration": 113,
    "start_time": "2022-06-11T10:40:06.578Z"
   },
   {
    "duration": 21,
    "start_time": "2022-06-11T10:40:23.917Z"
   },
   {
    "duration": 310,
    "start_time": "2022-06-11T10:40:31.999Z"
   },
   {
    "duration": 307,
    "start_time": "2022-06-11T10:40:40.736Z"
   },
   {
    "duration": 305,
    "start_time": "2022-06-11T10:42:22.347Z"
   },
   {
    "duration": 20,
    "start_time": "2022-06-11T10:43:35.907Z"
   },
   {
    "duration": 19,
    "start_time": "2022-06-11T10:43:54.817Z"
   },
   {
    "duration": 315,
    "start_time": "2022-06-11T10:44:51.584Z"
   },
   {
    "duration": 4,
    "start_time": "2022-06-11T10:56:01.518Z"
   },
   {
    "duration": 11,
    "start_time": "2022-06-11T10:56:07.457Z"
   },
   {
    "duration": 8,
    "start_time": "2022-06-11T10:57:08.113Z"
   },
   {
    "duration": 4,
    "start_time": "2022-06-11T10:58:26.037Z"
   },
   {
    "duration": 4,
    "start_time": "2022-06-11T10:58:38.244Z"
   },
   {
    "duration": 12,
    "start_time": "2022-06-11T10:59:30.157Z"
   },
   {
    "duration": 12,
    "start_time": "2022-06-11T10:59:37.433Z"
   },
   {
    "duration": 14,
    "start_time": "2022-06-11T10:59:48.103Z"
   },
   {
    "duration": 1995,
    "start_time": "2022-06-13T17:52:59.417Z"
   },
   {
    "duration": 24,
    "start_time": "2022-06-13T17:53:01.415Z"
   },
   {
    "duration": 103,
    "start_time": "2022-06-13T17:53:01.441Z"
   },
   {
    "duration": 15,
    "start_time": "2022-06-13T17:53:01.547Z"
   },
   {
    "duration": 45,
    "start_time": "2022-06-13T17:53:01.564Z"
   },
   {
    "duration": 12,
    "start_time": "2022-06-13T17:53:01.611Z"
   },
   {
    "duration": 27,
    "start_time": "2022-06-13T17:53:01.624Z"
   },
   {
    "duration": 54,
    "start_time": "2022-06-13T17:53:01.653Z"
   },
   {
    "duration": 19,
    "start_time": "2022-06-13T17:53:01.709Z"
   },
   {
    "duration": 58,
    "start_time": "2022-06-13T17:53:01.731Z"
   },
   {
    "duration": 15,
    "start_time": "2022-06-13T17:53:01.791Z"
   },
   {
    "duration": 13,
    "start_time": "2022-06-13T17:53:01.810Z"
   },
   {
    "duration": 29,
    "start_time": "2022-06-13T17:53:01.825Z"
   },
   {
    "duration": 30,
    "start_time": "2022-06-13T17:53:01.856Z"
   },
   {
    "duration": 127,
    "start_time": "2022-06-13T17:53:01.888Z"
   },
   {
    "duration": 41,
    "start_time": "2022-06-13T17:53:02.017Z"
   },
   {
    "duration": 65,
    "start_time": "2022-06-13T17:53:02.060Z"
   },
   {
    "duration": 18,
    "start_time": "2022-06-13T17:53:02.128Z"
   },
   {
    "duration": 13,
    "start_time": "2022-06-13T17:53:02.149Z"
   },
   {
    "duration": 63,
    "start_time": "2022-06-13T17:53:02.163Z"
   },
   {
    "duration": 28,
    "start_time": "2022-06-13T17:53:02.228Z"
   },
   {
    "duration": 47,
    "start_time": "2022-06-13T17:53:02.261Z"
   },
   {
    "duration": 11,
    "start_time": "2022-06-13T17:53:02.311Z"
   },
   {
    "duration": 20,
    "start_time": "2022-06-13T17:53:02.325Z"
   },
   {
    "duration": 41,
    "start_time": "2022-06-13T17:53:02.348Z"
   },
   {
    "duration": 47,
    "start_time": "2022-06-13T17:53:02.392Z"
   },
   {
    "duration": 5,
    "start_time": "2022-06-13T17:53:02.441Z"
   },
   {
    "duration": 44,
    "start_time": "2022-06-13T17:53:02.450Z"
   },
   {
    "duration": 18,
    "start_time": "2022-06-13T17:53:02.495Z"
   },
   {
    "duration": 15,
    "start_time": "2022-06-13T17:53:02.515Z"
   },
   {
    "duration": 57,
    "start_time": "2022-06-13T17:53:02.532Z"
   },
   {
    "duration": 117,
    "start_time": "2022-06-13T17:53:02.591Z"
   },
   {
    "duration": 7,
    "start_time": "2022-06-13T17:53:02.710Z"
   },
   {
    "duration": 195,
    "start_time": "2022-06-13T17:53:02.719Z"
   },
   {
    "duration": 120,
    "start_time": "2022-06-13T17:53:02.916Z"
   },
   {
    "duration": 2647,
    "start_time": "2022-06-13T17:53:03.039Z"
   },
   {
    "duration": 19,
    "start_time": "2022-06-13T17:53:05.688Z"
   },
   {
    "duration": 17,
    "start_time": "2022-06-13T17:53:05.709Z"
   },
   {
    "duration": 62,
    "start_time": "2022-06-13T17:53:05.728Z"
   },
   {
    "duration": 138,
    "start_time": "2022-06-13T17:53:05.791Z"
   },
   {
    "duration": 0,
    "start_time": "2022-06-13T17:53:05.931Z"
   },
   {
    "duration": 0,
    "start_time": "2022-06-13T17:53:05.933Z"
   },
   {
    "duration": 0,
    "start_time": "2022-06-13T17:53:05.934Z"
   },
   {
    "duration": 0,
    "start_time": "2022-06-13T17:53:05.935Z"
   },
   {
    "duration": 0,
    "start_time": "2022-06-13T17:53:05.936Z"
   },
   {
    "duration": 0,
    "start_time": "2022-06-13T17:53:05.938Z"
   },
   {
    "duration": 0,
    "start_time": "2022-06-13T17:53:05.939Z"
   },
   {
    "duration": 0,
    "start_time": "2022-06-13T17:53:05.940Z"
   },
   {
    "duration": 0,
    "start_time": "2022-06-13T17:53:05.941Z"
   },
   {
    "duration": 0,
    "start_time": "2022-06-13T17:53:05.942Z"
   },
   {
    "duration": 0,
    "start_time": "2022-06-13T17:53:05.961Z"
   },
   {
    "duration": 0,
    "start_time": "2022-06-13T17:53:05.962Z"
   },
   {
    "duration": 0,
    "start_time": "2022-06-13T17:53:05.964Z"
   },
   {
    "duration": 0,
    "start_time": "2022-06-13T17:53:05.965Z"
   },
   {
    "duration": 0,
    "start_time": "2022-06-13T17:53:05.966Z"
   },
   {
    "duration": 0,
    "start_time": "2022-06-13T17:53:05.967Z"
   },
   {
    "duration": 0,
    "start_time": "2022-06-13T17:53:05.968Z"
   },
   {
    "duration": 0,
    "start_time": "2022-06-13T17:53:05.971Z"
   },
   {
    "duration": 0,
    "start_time": "2022-06-13T17:53:05.972Z"
   },
   {
    "duration": 0,
    "start_time": "2022-06-13T17:53:05.972Z"
   },
   {
    "duration": 0,
    "start_time": "2022-06-13T17:53:05.973Z"
   },
   {
    "duration": 0,
    "start_time": "2022-06-13T17:53:05.975Z"
   },
   {
    "duration": 0,
    "start_time": "2022-06-13T17:53:05.976Z"
   },
   {
    "duration": 0,
    "start_time": "2022-06-13T17:53:05.976Z"
   },
   {
    "duration": 0,
    "start_time": "2022-06-13T17:53:05.979Z"
   },
   {
    "duration": 0,
    "start_time": "2022-06-13T17:53:05.982Z"
   },
   {
    "duration": 0,
    "start_time": "2022-06-13T17:53:05.983Z"
   },
   {
    "duration": 0,
    "start_time": "2022-06-13T17:53:05.984Z"
   },
   {
    "duration": 0,
    "start_time": "2022-06-13T17:53:05.986Z"
   },
   {
    "duration": 0,
    "start_time": "2022-06-13T17:53:05.987Z"
   },
   {
    "duration": 0,
    "start_time": "2022-06-13T17:53:05.989Z"
   },
   {
    "duration": 0,
    "start_time": "2022-06-13T17:53:05.990Z"
   },
   {
    "duration": 0,
    "start_time": "2022-06-13T17:53:05.991Z"
   },
   {
    "duration": 0,
    "start_time": "2022-06-13T17:53:05.993Z"
   },
   {
    "duration": 0,
    "start_time": "2022-06-13T17:53:05.994Z"
   },
   {
    "duration": 0,
    "start_time": "2022-06-13T17:53:05.995Z"
   },
   {
    "duration": 0,
    "start_time": "2022-06-13T17:53:05.997Z"
   },
   {
    "duration": 0,
    "start_time": "2022-06-13T17:53:05.998Z"
   },
   {
    "duration": 0,
    "start_time": "2022-06-13T17:53:05.999Z"
   },
   {
    "duration": 0,
    "start_time": "2022-06-13T17:53:06.001Z"
   },
   {
    "duration": 0,
    "start_time": "2022-06-13T17:53:06.002Z"
   },
   {
    "duration": 5,
    "start_time": "2022-06-13T18:03:36.503Z"
   },
   {
    "duration": 25,
    "start_time": "2022-06-13T18:04:16.990Z"
   },
   {
    "duration": 18,
    "start_time": "2022-06-13T18:10:04.711Z"
   },
   {
    "duration": 0,
    "start_time": "2022-06-13T18:10:04.731Z"
   },
   {
    "duration": 0,
    "start_time": "2022-06-13T18:10:04.734Z"
   },
   {
    "duration": 1185,
    "start_time": "2022-06-13T18:10:04.737Z"
   },
   {
    "duration": 0,
    "start_time": "2022-06-13T18:10:05.925Z"
   },
   {
    "duration": 0,
    "start_time": "2022-06-13T18:10:05.927Z"
   },
   {
    "duration": 0,
    "start_time": "2022-06-13T18:10:05.928Z"
   },
   {
    "duration": 0,
    "start_time": "2022-06-13T18:10:05.930Z"
   },
   {
    "duration": 0,
    "start_time": "2022-06-13T18:10:05.932Z"
   },
   {
    "duration": 0,
    "start_time": "2022-06-13T18:10:05.934Z"
   },
   {
    "duration": 0,
    "start_time": "2022-06-13T18:10:05.935Z"
   },
   {
    "duration": 0,
    "start_time": "2022-06-13T18:10:05.936Z"
   },
   {
    "duration": 0,
    "start_time": "2022-06-13T18:10:05.938Z"
   },
   {
    "duration": 0,
    "start_time": "2022-06-13T18:10:05.939Z"
   },
   {
    "duration": 0,
    "start_time": "2022-06-13T18:10:05.940Z"
   },
   {
    "duration": 0,
    "start_time": "2022-06-13T18:10:05.941Z"
   },
   {
    "duration": 0,
    "start_time": "2022-06-13T18:10:05.943Z"
   },
   {
    "duration": 0,
    "start_time": "2022-06-13T18:10:05.944Z"
   },
   {
    "duration": 0,
    "start_time": "2022-06-13T18:10:05.945Z"
   },
   {
    "duration": 0,
    "start_time": "2022-06-13T18:10:05.947Z"
   },
   {
    "duration": 0,
    "start_time": "2022-06-13T18:10:05.949Z"
   },
   {
    "duration": 0,
    "start_time": "2022-06-13T18:10:05.950Z"
   },
   {
    "duration": 1,
    "start_time": "2022-06-13T18:10:05.951Z"
   },
   {
    "duration": 0,
    "start_time": "2022-06-13T18:10:05.953Z"
   },
   {
    "duration": 0,
    "start_time": "2022-06-13T18:10:05.955Z"
   },
   {
    "duration": 0,
    "start_time": "2022-06-13T18:10:05.956Z"
   },
   {
    "duration": 0,
    "start_time": "2022-06-13T18:10:05.957Z"
   },
   {
    "duration": 0,
    "start_time": "2022-06-13T18:10:05.958Z"
   },
   {
    "duration": 0,
    "start_time": "2022-06-13T18:10:05.959Z"
   },
   {
    "duration": 0,
    "start_time": "2022-06-13T18:10:05.969Z"
   },
   {
    "duration": 0,
    "start_time": "2022-06-13T18:10:05.974Z"
   },
   {
    "duration": 0,
    "start_time": "2022-06-13T18:10:05.976Z"
   },
   {
    "duration": 0,
    "start_time": "2022-06-13T18:10:05.981Z"
   },
   {
    "duration": 0,
    "start_time": "2022-06-13T18:10:05.982Z"
   },
   {
    "duration": 0,
    "start_time": "2022-06-13T18:10:05.984Z"
   },
   {
    "duration": 0,
    "start_time": "2022-06-13T18:10:05.988Z"
   },
   {
    "duration": 0,
    "start_time": "2022-06-13T18:10:05.989Z"
   },
   {
    "duration": 0,
    "start_time": "2022-06-13T18:10:05.990Z"
   },
   {
    "duration": 0,
    "start_time": "2022-06-13T18:10:05.991Z"
   },
   {
    "duration": 0,
    "start_time": "2022-06-13T18:10:05.992Z"
   },
   {
    "duration": 1,
    "start_time": "2022-06-13T18:10:05.997Z"
   },
   {
    "duration": 0,
    "start_time": "2022-06-13T18:10:05.998Z"
   },
   {
    "duration": 872,
    "start_time": "2022-06-13T18:10:37.253Z"
   },
   {
    "duration": 0,
    "start_time": "2022-06-13T18:10:38.127Z"
   },
   {
    "duration": 0,
    "start_time": "2022-06-13T18:10:38.128Z"
   },
   {
    "duration": 0,
    "start_time": "2022-06-13T18:10:38.129Z"
   },
   {
    "duration": 0,
    "start_time": "2022-06-13T18:10:38.131Z"
   },
   {
    "duration": 0,
    "start_time": "2022-06-13T18:10:38.132Z"
   },
   {
    "duration": 0,
    "start_time": "2022-06-13T18:10:38.133Z"
   },
   {
    "duration": 0,
    "start_time": "2022-06-13T18:10:38.134Z"
   },
   {
    "duration": 0,
    "start_time": "2022-06-13T18:10:38.135Z"
   },
   {
    "duration": 0,
    "start_time": "2022-06-13T18:10:38.136Z"
   },
   {
    "duration": 0,
    "start_time": "2022-06-13T18:10:38.137Z"
   },
   {
    "duration": 0,
    "start_time": "2022-06-13T18:10:38.139Z"
   },
   {
    "duration": 0,
    "start_time": "2022-06-13T18:10:38.140Z"
   },
   {
    "duration": 0,
    "start_time": "2022-06-13T18:10:38.141Z"
   },
   {
    "duration": 0,
    "start_time": "2022-06-13T18:10:38.143Z"
   },
   {
    "duration": 0,
    "start_time": "2022-06-13T18:10:38.144Z"
   },
   {
    "duration": 0,
    "start_time": "2022-06-13T18:10:38.145Z"
   },
   {
    "duration": 0,
    "start_time": "2022-06-13T18:10:38.146Z"
   },
   {
    "duration": 0,
    "start_time": "2022-06-13T18:10:38.147Z"
   },
   {
    "duration": 0,
    "start_time": "2022-06-13T18:10:38.149Z"
   },
   {
    "duration": 0,
    "start_time": "2022-06-13T18:10:38.150Z"
   },
   {
    "duration": 0,
    "start_time": "2022-06-13T18:10:38.151Z"
   },
   {
    "duration": 0,
    "start_time": "2022-06-13T18:10:38.152Z"
   },
   {
    "duration": 0,
    "start_time": "2022-06-13T18:10:38.153Z"
   },
   {
    "duration": 0,
    "start_time": "2022-06-13T18:10:38.154Z"
   },
   {
    "duration": 0,
    "start_time": "2022-06-13T18:10:38.155Z"
   },
   {
    "duration": 0,
    "start_time": "2022-06-13T18:10:38.157Z"
   },
   {
    "duration": 4,
    "start_time": "2022-06-13T18:10:38.158Z"
   },
   {
    "duration": 1,
    "start_time": "2022-06-13T18:10:38.162Z"
   },
   {
    "duration": 0,
    "start_time": "2022-06-13T18:10:38.163Z"
   },
   {
    "duration": 0,
    "start_time": "2022-06-13T18:10:38.169Z"
   },
   {
    "duration": 0,
    "start_time": "2022-06-13T18:10:38.178Z"
   },
   {
    "duration": 0,
    "start_time": "2022-06-13T18:10:38.179Z"
   },
   {
    "duration": 0,
    "start_time": "2022-06-13T18:10:38.182Z"
   },
   {
    "duration": 1,
    "start_time": "2022-06-13T18:10:38.183Z"
   },
   {
    "duration": 0,
    "start_time": "2022-06-13T18:10:38.185Z"
   },
   {
    "duration": 0,
    "start_time": "2022-06-13T18:10:38.186Z"
   },
   {
    "duration": 0,
    "start_time": "2022-06-13T18:10:38.187Z"
   },
   {
    "duration": 0,
    "start_time": "2022-06-13T18:10:38.188Z"
   },
   {
    "duration": 15,
    "start_time": "2022-06-13T18:10:52.598Z"
   },
   {
    "duration": 182,
    "start_time": "2022-06-13T18:10:56.414Z"
   },
   {
    "duration": 142,
    "start_time": "2022-06-13T18:10:59.196Z"
   },
   {
    "duration": 9,
    "start_time": "2022-06-13T18:11:01.939Z"
   },
   {
    "duration": 4,
    "start_time": "2022-06-13T18:11:11.601Z"
   },
   {
    "duration": 13,
    "start_time": "2022-06-13T18:11:11.607Z"
   },
   {
    "duration": 78,
    "start_time": "2022-06-13T18:11:11.622Z"
   },
   {
    "duration": 17,
    "start_time": "2022-06-13T18:11:11.704Z"
   },
   {
    "duration": 285,
    "start_time": "2022-06-13T18:11:11.724Z"
   },
   {
    "duration": 433,
    "start_time": "2022-06-13T18:11:12.012Z"
   },
   {
    "duration": 457,
    "start_time": "2022-06-13T18:11:12.448Z"
   },
   {
    "duration": 479,
    "start_time": "2022-06-13T18:11:12.909Z"
   },
   {
    "duration": 439,
    "start_time": "2022-06-13T18:11:13.391Z"
   },
   {
    "duration": 449,
    "start_time": "2022-06-13T18:11:13.833Z"
   },
   {
    "duration": 3006,
    "start_time": "2022-06-13T18:11:14.287Z"
   },
   {
    "duration": 821,
    "start_time": "2022-06-13T18:11:17.296Z"
   },
   {
    "duration": 1551,
    "start_time": "2022-06-13T18:11:18.120Z"
   },
   {
    "duration": 21,
    "start_time": "2022-06-13T18:11:19.674Z"
   },
   {
    "duration": 20,
    "start_time": "2022-06-13T18:11:19.698Z"
   },
   {
    "duration": 11,
    "start_time": "2022-06-13T18:11:19.720Z"
   },
   {
    "duration": 405,
    "start_time": "2022-06-13T18:11:19.733Z"
   },
   {
    "duration": 6,
    "start_time": "2022-06-13T18:11:20.140Z"
   },
   {
    "duration": 17,
    "start_time": "2022-06-13T18:11:20.167Z"
   },
   {
    "duration": 8,
    "start_time": "2022-06-13T18:11:20.197Z"
   },
   {
    "duration": 8,
    "start_time": "2022-06-13T18:11:20.207Z"
   },
   {
    "duration": 13,
    "start_time": "2022-06-13T18:11:20.218Z"
   },
   {
    "duration": 641,
    "start_time": "2022-06-13T18:11:20.233Z"
   },
   {
    "duration": 13,
    "start_time": "2022-06-13T18:11:20.882Z"
   },
   {
    "duration": 30,
    "start_time": "2022-06-13T18:11:20.897Z"
   },
   {
    "duration": 7,
    "start_time": "2022-06-13T18:11:20.930Z"
   },
   {
    "duration": 7,
    "start_time": "2022-06-13T18:11:20.939Z"
   },
   {
    "duration": 48,
    "start_time": "2022-06-13T18:11:20.949Z"
   },
   {
    "duration": 30,
    "start_time": "2022-06-13T18:11:21.002Z"
   },
   {
    "duration": 8,
    "start_time": "2022-06-13T18:11:21.034Z"
   },
   {
    "duration": 47,
    "start_time": "2022-06-13T18:11:21.045Z"
   },
   {
    "duration": 4,
    "start_time": "2022-06-13T18:11:21.102Z"
   },
   {
    "duration": 4,
    "start_time": "2022-06-13T18:11:21.109Z"
   },
   {
    "duration": 27,
    "start_time": "2022-06-13T18:11:21.115Z"
   },
   {
    "duration": 31,
    "start_time": "2022-06-13T18:13:57.301Z"
   },
   {
    "duration": 23,
    "start_time": "2022-06-13T18:14:10.573Z"
   },
   {
    "duration": 30,
    "start_time": "2022-06-13T18:14:22.789Z"
   },
   {
    "duration": 20,
    "start_time": "2022-06-13T18:14:53.888Z"
   },
   {
    "duration": 5,
    "start_time": "2022-06-13T18:15:51.041Z"
   },
   {
    "duration": 9,
    "start_time": "2022-06-13T18:15:55.223Z"
   },
   {
    "duration": 26,
    "start_time": "2022-06-13T18:17:44.675Z"
   },
   {
    "duration": 8,
    "start_time": "2022-06-13T18:17:58.527Z"
   },
   {
    "duration": 63,
    "start_time": "2022-06-13T18:19:47.778Z"
   },
   {
    "duration": 273,
    "start_time": "2022-06-13T18:20:58.418Z"
   },
   {
    "duration": 33,
    "start_time": "2022-06-13T18:23:45.695Z"
   },
   {
    "duration": 32,
    "start_time": "2022-06-13T18:24:33.877Z"
   },
   {
    "duration": 19,
    "start_time": "2022-06-13T18:24:42.433Z"
   },
   {
    "duration": 24,
    "start_time": "2022-06-13T18:24:49.507Z"
   },
   {
    "duration": 38,
    "start_time": "2022-06-13T18:25:41.454Z"
   },
   {
    "duration": 17,
    "start_time": "2022-06-13T18:26:45.513Z"
   },
   {
    "duration": 126,
    "start_time": "2022-06-13T18:27:29.184Z"
   },
   {
    "duration": 121,
    "start_time": "2022-06-13T18:28:01.420Z"
   },
   {
    "duration": 97,
    "start_time": "2022-06-13T18:28:06.057Z"
   },
   {
    "duration": 22,
    "start_time": "2022-06-13T18:29:09.824Z"
   },
   {
    "duration": 157,
    "start_time": "2022-06-13T18:29:31.955Z"
   },
   {
    "duration": 44,
    "start_time": "2022-06-13T19:23:49.087Z"
   },
   {
    "duration": 33,
    "start_time": "2022-06-13T19:30:49.624Z"
   },
   {
    "duration": 7,
    "start_time": "2022-06-13T19:53:22.835Z"
   },
   {
    "duration": 7,
    "start_time": "2022-06-13T19:53:33.614Z"
   },
   {
    "duration": 1405,
    "start_time": "2022-06-13T19:54:10.342Z"
   },
   {
    "duration": 40,
    "start_time": "2022-06-13T19:54:11.748Z"
   },
   {
    "duration": 130,
    "start_time": "2022-06-13T19:54:11.792Z"
   },
   {
    "duration": 12,
    "start_time": "2022-06-13T19:54:11.924Z"
   },
   {
    "duration": 9,
    "start_time": "2022-06-13T19:54:11.937Z"
   },
   {
    "duration": 7,
    "start_time": "2022-06-13T19:54:11.947Z"
   },
   {
    "duration": 6,
    "start_time": "2022-06-13T19:54:11.955Z"
   },
   {
    "duration": 11,
    "start_time": "2022-06-13T19:54:11.962Z"
   },
   {
    "duration": 17,
    "start_time": "2022-06-13T19:54:11.975Z"
   },
   {
    "duration": 35,
    "start_time": "2022-06-13T19:54:12.122Z"
   },
   {
    "duration": 11,
    "start_time": "2022-06-13T19:54:12.302Z"
   },
   {
    "duration": 3,
    "start_time": "2022-06-13T19:54:13.774Z"
   },
   {
    "duration": 10,
    "start_time": "2022-06-13T19:54:14.134Z"
   },
   {
    "duration": 5,
    "start_time": "2022-06-13T19:54:14.734Z"
   },
   {
    "duration": 12,
    "start_time": "2022-06-13T19:54:15.014Z"
   },
   {
    "duration": 4,
    "start_time": "2022-06-13T19:54:15.414Z"
   },
   {
    "duration": 4,
    "start_time": "2022-06-13T19:54:16.010Z"
   },
   {
    "duration": 20,
    "start_time": "2022-06-13T19:54:16.274Z"
   },
   {
    "duration": 4,
    "start_time": "2022-06-13T19:54:16.893Z"
   },
   {
    "duration": 7,
    "start_time": "2022-06-13T19:54:17.842Z"
   },
   {
    "duration": 10,
    "start_time": "2022-06-13T19:54:18.395Z"
   },
   {
    "duration": 6,
    "start_time": "2022-06-13T19:54:19.014Z"
   },
   {
    "duration": 5,
    "start_time": "2022-06-13T19:54:19.294Z"
   },
   {
    "duration": 5,
    "start_time": "2022-06-13T19:54:19.855Z"
   },
   {
    "duration": 5,
    "start_time": "2022-06-13T19:54:20.135Z"
   },
   {
    "duration": 48,
    "start_time": "2022-06-13T19:54:20.374Z"
   },
   {
    "duration": 5,
    "start_time": "2022-06-13T19:54:20.934Z"
   },
   {
    "duration": 4,
    "start_time": "2022-06-13T19:54:21.813Z"
   },
   {
    "duration": 12,
    "start_time": "2022-06-13T19:54:23.362Z"
   },
   {
    "duration": 22,
    "start_time": "2022-06-13T19:54:23.769Z"
   },
   {
    "duration": 36,
    "start_time": "2022-06-13T19:54:24.722Z"
   },
   {
    "duration": 100,
    "start_time": "2022-06-13T19:54:25.293Z"
   },
   {
    "duration": 6,
    "start_time": "2022-06-13T19:54:25.595Z"
   },
   {
    "duration": 124,
    "start_time": "2022-06-13T19:54:25.875Z"
   },
   {
    "duration": 77,
    "start_time": "2022-06-13T19:54:27.121Z"
   },
   {
    "duration": 2006,
    "start_time": "2022-06-13T19:54:29.037Z"
   },
   {
    "duration": 8,
    "start_time": "2022-06-13T19:54:31.045Z"
   },
   {
    "duration": 20,
    "start_time": "2022-06-13T19:54:31.054Z"
   },
   {
    "duration": 49,
    "start_time": "2022-06-13T19:54:31.075Z"
   },
   {
    "duration": 74,
    "start_time": "2022-06-13T19:54:31.126Z"
   },
   {
    "duration": 151,
    "start_time": "2022-06-13T19:54:58.847Z"
   },
   {
    "duration": 151,
    "start_time": "2022-06-13T19:55:11.277Z"
   },
   {
    "duration": 106,
    "start_time": "2022-06-13T19:55:11.647Z"
   },
   {
    "duration": 6,
    "start_time": "2022-06-13T19:55:11.798Z"
   },
   {
    "duration": 132,
    "start_time": "2022-06-13T19:55:11.972Z"
   },
   {
    "duration": 157,
    "start_time": "2022-06-13T19:55:12.976Z"
   },
   {
    "duration": 128,
    "start_time": "2022-06-13T19:55:13.160Z"
   },
   {
    "duration": 11,
    "start_time": "2022-06-13T19:55:13.476Z"
   },
   {
    "duration": 3,
    "start_time": "2022-06-13T19:55:15.211Z"
   },
   {
    "duration": 6,
    "start_time": "2022-06-13T19:55:15.602Z"
   },
   {
    "duration": 36,
    "start_time": "2022-06-13T19:55:16.013Z"
   },
   {
    "duration": 14,
    "start_time": "2022-06-13T19:55:16.689Z"
   },
   {
    "duration": 233,
    "start_time": "2022-06-13T19:55:17.854Z"
   },
   {
    "duration": 375,
    "start_time": "2022-06-13T20:06:22.733Z"
   },
   {
    "duration": 332,
    "start_time": "2022-06-13T20:06:23.215Z"
   },
   {
    "duration": 461,
    "start_time": "2022-06-13T20:06:23.548Z"
   },
   {
    "duration": 288,
    "start_time": "2022-06-13T20:06:24.292Z"
   },
   {
    "duration": 307,
    "start_time": "2022-06-13T20:06:25.202Z"
   },
   {
    "duration": 1237,
    "start_time": "2022-06-13T20:06:26.209Z"
   },
   {
    "duration": 378,
    "start_time": "2022-06-13T20:06:27.448Z"
   },
   {
    "duration": 996,
    "start_time": "2022-06-13T20:06:27.828Z"
   },
   {
    "duration": 11,
    "start_time": "2022-06-13T20:06:28.826Z"
   },
   {
    "duration": 20,
    "start_time": "2022-06-13T20:06:28.839Z"
   },
   {
    "duration": 140,
    "start_time": "2022-06-13T20:06:29.855Z"
   },
   {
    "duration": 7,
    "start_time": "2022-06-13T20:06:31.002Z"
   },
   {
    "duration": 308,
    "start_time": "2022-06-13T20:06:31.189Z"
   },
   {
    "duration": 4,
    "start_time": "2022-06-13T20:06:32.130Z"
   },
   {
    "duration": 4,
    "start_time": "2022-06-13T20:06:32.614Z"
   },
   {
    "duration": 3,
    "start_time": "2022-06-13T20:06:32.800Z"
   },
   {
    "duration": 3,
    "start_time": "2022-06-13T20:06:33.058Z"
   },
   {
    "duration": 4,
    "start_time": "2022-06-13T20:06:33.254Z"
   },
   {
    "duration": 332,
    "start_time": "2022-06-13T20:06:33.701Z"
   },
   {
    "duration": 4,
    "start_time": "2022-06-13T20:06:34.165Z"
   },
   {
    "duration": 4,
    "start_time": "2022-06-13T20:06:35.522Z"
   },
   {
    "duration": 7,
    "start_time": "2022-06-13T20:06:35.976Z"
   },
   {
    "duration": 3,
    "start_time": "2022-06-13T20:06:36.134Z"
   },
   {
    "duration": 21,
    "start_time": "2022-06-13T20:06:37.081Z"
   },
   {
    "duration": 22,
    "start_time": "2022-06-13T20:06:37.295Z"
   },
   {
    "duration": 7,
    "start_time": "2022-06-13T20:06:37.816Z"
   },
   {
    "duration": 17,
    "start_time": "2022-06-13T20:06:38.255Z"
   },
   {
    "duration": 3,
    "start_time": "2022-06-13T20:06:38.493Z"
   },
   {
    "duration": 4,
    "start_time": "2022-06-13T20:06:38.693Z"
   },
   {
    "duration": 28,
    "start_time": "2022-06-13T20:06:39.374Z"
   },
   {
    "duration": 3,
    "start_time": "2022-06-13T20:09:06.610Z"
   },
   {
    "duration": 226,
    "start_time": "2022-06-13T20:09:07.221Z"
   },
   {
    "duration": 92,
    "start_time": "2022-06-13T20:09:07.520Z"
   },
   {
    "duration": 15,
    "start_time": "2022-06-13T20:09:08.085Z"
   },
   {
    "duration": 10,
    "start_time": "2022-06-13T20:09:08.401Z"
   },
   {
    "duration": 4,
    "start_time": "2022-06-13T20:09:08.694Z"
   },
   {
    "duration": 4,
    "start_time": "2022-06-13T20:09:09.327Z"
   },
   {
    "duration": 4,
    "start_time": "2022-06-13T20:09:09.729Z"
   },
   {
    "duration": 4,
    "start_time": "2022-06-13T20:09:10.015Z"
   },
   {
    "duration": 34,
    "start_time": "2022-06-13T20:09:10.315Z"
   },
   {
    "duration": 16,
    "start_time": "2022-06-13T20:09:10.894Z"
   },
   {
    "duration": 3,
    "start_time": "2022-06-13T20:09:11.543Z"
   },
   {
    "duration": 9,
    "start_time": "2022-06-13T20:09:11.834Z"
   },
   {
    "duration": 6,
    "start_time": "2022-06-13T20:09:12.442Z"
   },
   {
    "duration": 14,
    "start_time": "2022-06-13T20:09:12.978Z"
   },
   {
    "duration": 12,
    "start_time": "2022-06-13T20:09:12.993Z"
   },
   {
    "duration": 4,
    "start_time": "2022-06-13T20:09:13.494Z"
   },
   {
    "duration": 8,
    "start_time": "2022-06-13T20:09:13.795Z"
   },
   {
    "duration": 4,
    "start_time": "2022-06-13T20:09:14.646Z"
   },
   {
    "duration": 6,
    "start_time": "2022-06-13T20:09:15.210Z"
   },
   {
    "duration": 11,
    "start_time": "2022-06-13T20:09:15.793Z"
   },
   {
    "duration": 6,
    "start_time": "2022-06-13T20:09:16.333Z"
   },
   {
    "duration": 5,
    "start_time": "2022-06-13T20:09:16.656Z"
   },
   {
    "duration": 5,
    "start_time": "2022-06-13T20:09:17.263Z"
   },
   {
    "duration": 9,
    "start_time": "2022-06-13T20:09:17.601Z"
   },
   {
    "duration": 40,
    "start_time": "2022-06-13T20:09:17.886Z"
   },
   {
    "duration": 4,
    "start_time": "2022-06-13T20:09:18.516Z"
   },
   {
    "duration": 5,
    "start_time": "2022-06-13T20:09:19.297Z"
   },
   {
    "duration": 10,
    "start_time": "2022-06-13T20:09:21.095Z"
   },
   {
    "duration": 17,
    "start_time": "2022-06-13T20:09:21.474Z"
   },
   {
    "duration": 38,
    "start_time": "2022-06-13T20:09:22.531Z"
   },
   {
    "duration": 134,
    "start_time": "2022-06-13T20:09:23.053Z"
   },
   {
    "duration": 7,
    "start_time": "2022-06-13T20:09:23.453Z"
   },
   {
    "duration": 131,
    "start_time": "2022-06-13T20:09:23.769Z"
   },
   {
    "duration": 78,
    "start_time": "2022-06-13T20:09:42.293Z"
   },
   {
    "duration": 2245,
    "start_time": "2022-06-13T20:09:44.213Z"
   },
   {
    "duration": 22,
    "start_time": "2022-06-13T20:09:46.459Z"
   },
   {
    "duration": 14,
    "start_time": "2022-06-13T20:09:46.482Z"
   },
   {
    "duration": 33,
    "start_time": "2022-06-13T20:09:46.523Z"
   },
   {
    "duration": 153,
    "start_time": "2022-06-13T20:09:48.654Z"
   },
   {
    "duration": 142,
    "start_time": "2022-06-13T20:09:54.508Z"
   },
   {
    "duration": 98,
    "start_time": "2022-06-13T20:09:55.292Z"
   },
   {
    "duration": 7,
    "start_time": "2022-06-13T20:09:55.754Z"
   },
   {
    "duration": 121,
    "start_time": "2022-06-13T20:09:56.255Z"
   },
   {
    "duration": 153,
    "start_time": "2022-06-13T20:09:57.141Z"
   },
   {
    "duration": 127,
    "start_time": "2022-06-13T20:09:57.609Z"
   },
   {
    "duration": 6,
    "start_time": "2022-06-13T20:09:58.044Z"
   },
   {
    "duration": 3,
    "start_time": "2022-06-13T20:10:06.854Z"
   },
   {
    "duration": 7,
    "start_time": "2022-06-13T20:10:07.524Z"
   },
   {
    "duration": 44,
    "start_time": "2022-06-13T20:10:08.208Z"
   },
   {
    "duration": 12,
    "start_time": "2022-06-13T20:10:09.214Z"
   },
   {
    "duration": 179,
    "start_time": "2022-06-13T20:10:11.314Z"
   },
   {
    "duration": 307,
    "start_time": "2022-06-13T20:10:14.163Z"
   },
   {
    "duration": 338,
    "start_time": "2022-06-13T20:10:14.477Z"
   },
   {
    "duration": 330,
    "start_time": "2022-06-13T20:10:15.091Z"
   },
   {
    "duration": 313,
    "start_time": "2022-06-13T20:10:16.394Z"
   },
   {
    "duration": 333,
    "start_time": "2022-06-13T20:10:17.294Z"
   },
   {
    "duration": 1361,
    "start_time": "2022-06-13T20:10:18.863Z"
   },
   {
    "duration": 372,
    "start_time": "2022-06-13T20:10:20.226Z"
   },
   {
    "duration": 853,
    "start_time": "2022-06-13T20:10:20.769Z"
   },
   {
    "duration": 9,
    "start_time": "2022-06-13T20:10:22.057Z"
   },
   {
    "duration": 17,
    "start_time": "2022-06-13T20:10:22.754Z"
   },
   {
    "duration": 64,
    "start_time": "2022-06-13T20:10:24.973Z"
   },
   {
    "duration": 8,
    "start_time": "2022-06-13T20:10:26.290Z"
   },
   {
    "duration": 252,
    "start_time": "2022-06-13T20:10:26.496Z"
   },
   {
    "duration": 5,
    "start_time": "2022-06-13T20:10:27.413Z"
   },
   {
    "duration": 3,
    "start_time": "2022-06-13T20:10:28.019Z"
   },
   {
    "duration": 2,
    "start_time": "2022-06-13T20:10:28.334Z"
   },
   {
    "duration": 4,
    "start_time": "2022-06-13T20:10:28.789Z"
   },
   {
    "duration": 3,
    "start_time": "2022-06-13T20:10:28.995Z"
   },
   {
    "duration": 302,
    "start_time": "2022-06-13T20:10:29.693Z"
   },
   {
    "duration": 5,
    "start_time": "2022-06-13T20:10:30.289Z"
   },
   {
    "duration": 4,
    "start_time": "2022-06-13T20:10:31.144Z"
   },
   {
    "duration": 3,
    "start_time": "2022-06-13T20:10:31.450Z"
   },
   {
    "duration": 3,
    "start_time": "2022-06-13T20:10:31.715Z"
   },
   {
    "duration": 16,
    "start_time": "2022-06-13T20:10:33.158Z"
   },
   {
    "duration": 26,
    "start_time": "2022-06-13T20:10:33.435Z"
   },
   {
    "duration": 5,
    "start_time": "2022-06-13T20:10:33.737Z"
   },
   {
    "duration": 15,
    "start_time": "2022-06-13T20:10:34.413Z"
   },
   {
    "duration": 4,
    "start_time": "2022-06-13T20:10:34.647Z"
   },
   {
    "duration": 2,
    "start_time": "2022-06-13T20:10:34.924Z"
   },
   {
    "duration": 11,
    "start_time": "2022-06-13T20:10:35.816Z"
   },
   {
    "duration": 11,
    "start_time": "2022-06-13T20:12:15.854Z"
   }
  ],
  "kernelspec": {
   "display_name": "Python 3 (ipykernel)",
   "language": "python",
   "name": "python3"
  },
  "language_info": {
   "codemirror_mode": {
    "name": "ipython",
    "version": 3
   },
   "file_extension": ".py",
   "mimetype": "text/x-python",
   "name": "python",
   "nbconvert_exporter": "python",
   "pygments_lexer": "ipython3",
   "version": "3.9.9"
  },
  "toc": {
   "base_numbering": 1,
   "nav_menu": {},
   "number_sections": true,
   "sideBar": true,
   "skip_h1_title": false,
   "title_cell": "Содержание",
   "title_sidebar": "Содержание",
   "toc_cell": false,
   "toc_position": {
    "height": "calc(100% - 180px)",
    "left": "10px",
    "top": "150px",
    "width": "247.003px"
   },
   "toc_section_display": true,
   "toc_window_display": true
  },
  "varInspector": {
   "cols": {
    "lenName": 16,
    "lenType": 16,
    "lenVar": 40
   },
   "kernels_config": {
    "python": {
     "delete_cmd_postfix": "",
     "delete_cmd_prefix": "del ",
     "library": "var_list.py",
     "varRefreshCmd": "print(var_dic_list())"
    },
    "r": {
     "delete_cmd_postfix": ") ",
     "delete_cmd_prefix": "rm(",
     "library": "var_list.r",
     "varRefreshCmd": "cat(var_dic_list()) "
    }
   },
   "types_to_exclude": [
    "module",
    "function",
    "builtin_function_or_method",
    "instance",
    "_Feature"
   ],
   "window_display": false
  }
 },
 "nbformat": 4,
 "nbformat_minor": 5
}
