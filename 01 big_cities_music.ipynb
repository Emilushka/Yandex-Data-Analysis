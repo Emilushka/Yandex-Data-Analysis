{
 "cells": [
  {
   "cell_type": "markdown",
   "metadata": {},
   "source": [
    "<h1>Содержание<span class=\"tocSkip\"></span></h1>\n",
    "<div class=\"toc\"><ul class=\"toc-item\"><li><span><a href=\"#Обзор-данных\" data-toc-modified-id=\"Обзор-данных-1\"><span class=\"toc-item-num\">1&nbsp;&nbsp;</span>Обзор данных</a></span></li><li><span><a href=\"#Предобработка-данных\" data-toc-modified-id=\"Предобработка-данных-2\"><span class=\"toc-item-num\">2&nbsp;&nbsp;</span>Предобработка данных</a></span><ul class=\"toc-item\"><li><span><a href=\"#Стиль-заголовков\" data-toc-modified-id=\"Стиль-заголовков-2.1\"><span class=\"toc-item-num\">2.1&nbsp;&nbsp;</span>Стиль заголовков</a></span></li><li><span><a href=\"#Пропуски-значений\" data-toc-modified-id=\"Пропуски-значений-2.2\"><span class=\"toc-item-num\">2.2&nbsp;&nbsp;</span>Пропуски значений</a></span></li><li><span><a href=\"#Дубликаты\" data-toc-modified-id=\"Дубликаты-2.3\"><span class=\"toc-item-num\">2.3&nbsp;&nbsp;</span>Дубликаты</a></span></li></ul></li><li><span><a href=\"#Проверка-гипотез\" data-toc-modified-id=\"Проверка-гипотез-3\"><span class=\"toc-item-num\">3&nbsp;&nbsp;</span>Проверка гипотез</a></span><ul class=\"toc-item\"><li><span><a href=\"#Сравнение-поведения-пользователей-двух-столиц\" data-toc-modified-id=\"Сравнение-поведения-пользователей-двух-столиц-3.1\"><span class=\"toc-item-num\">3.1&nbsp;&nbsp;</span>Сравнение поведения пользователей двух столиц</a></span></li><li><span><a href=\"#Музыка-в-начале-и-в-конце-недели\" data-toc-modified-id=\"Музыка-в-начале-и-в-конце-недели-3.2\"><span class=\"toc-item-num\">3.2&nbsp;&nbsp;</span>Музыка в начале и в конце недели</a></span></li><li><span><a href=\"#Жанровые-предпочтения-в-Москве-и-Петербурге\" data-toc-modified-id=\"Жанровые-предпочтения-в-Москве-и-Петербурге-3.3\"><span class=\"toc-item-num\">3.3&nbsp;&nbsp;</span>Жанровые предпочтения в Москве и Петербурге</a></span></li></ul></li><li><span><a href=\"#Итоги\" data-toc-modified-id=\"Итоги-4\"><span class=\"toc-item-num\">4&nbsp;&nbsp;</span>Итоги</a></span></li></ul></div>"
   ]
  },
  {
   "cell_type": "markdown",
   "metadata": {},
   "source": [
    "# Яндекс.Музыка"
   ]
  },
  {
   "cell_type": "markdown",
   "metadata": {
    "id": "VUC88oWjTJw2"
   },
   "source": [
    "Сравнение Москвы и Петербурга окружено мифами. Например:\n",
    " * Москва — мегаполис, подчинённый жёсткому ритму рабочей недели;\n",
    " * Петербург — культурная столица, со своими вкусами.\n",
    "\n",
    "На данных Яндекс.Музыки вы сравните поведение пользователей двух столиц.\n",
    "\n",
    "**Цель исследования** — проверьте три гипотезы:\n",
    "1. Активность пользователей зависит от дня недели. Причём в Москве и Петербурге это проявляется по-разному.\n",
    "2. В понедельник утром в Москве преобладают одни жанры, а в Петербурге — другие. Так же и вечером пятницы преобладают разные жанры — в зависимости от города. \n",
    "3. Москва и Петербург предпочитают разные жанры музыки. В Москве чаще слушают поп-музыку, в Петербурге — русский рэп.\n",
    "\n",
    "**Ход исследования**\n",
    "\n",
    "Данные о поведении пользователей вы получите из файла `yandex_music_project.csv`. О качестве данных ничего не известно. Поэтому перед проверкой гипотез понадобится обзор данных. \n",
    "\n",
    "Вы проверите данные на ошибки и оцените их влияние на исследование. Затем, на этапе предобработки вы поищете возможность исправить самые критичные ошибки данных.\n",
    " \n",
    "Таким образом, исследование пройдёт в три этапа:\n",
    " 1. Обзор данных.\n",
    " 2. Предобработка данных.\n",
    " 3. Проверка гипотез.\n",
    "\n"
   ]
  },
  {
   "cell_type": "markdown",
   "metadata": {
    "id": "Ml1hmfXC_Zcs"
   },
   "source": [
    "## Обзор данных\n",
    "\n",
    "Составьте первое представление о данных Яндекс.Музыки.\n",
    "\n",
    "\n"
   ]
  },
  {
   "cell_type": "markdown",
   "metadata": {
    "id": "57eAOGIz_Zcs"
   },
   "source": [
    "Основной инструмент аналитика — `pandas`. Импортируйте эту библиотеку."
   ]
  },
  {
   "cell_type": "code",
   "execution_count": 1,
   "metadata": {
    "id": "AXN7PHPN_Zcs"
   },
   "outputs": [],
   "source": [
    "import pandas as pd"
   ]
  },
  {
   "cell_type": "markdown",
   "metadata": {
    "id": "SG23P8tt_Zcs"
   },
   "source": [
    "Прочитайте файл `yandex_music_project.csv` из папки `/datasets` и сохраните его в переменной `df`:"
   ]
  },
  {
   "cell_type": "code",
   "execution_count": 2,
   "metadata": {
    "id": "fFVu7vqh_Zct"
   },
   "outputs": [],
   "source": [
    "df = pd.read_csv('/datasets/yandex_music_project.csv')"
   ]
  },
  {
   "cell_type": "markdown",
   "metadata": {
    "id": "rDoOMd3uTqnZ"
   },
   "source": [
    "Выведите на экран первые десять строк таблицы:"
   ]
  },
  {
   "cell_type": "code",
   "execution_count": 3,
   "metadata": {
    "id": "oWTVX3gW_Zct"
   },
   "outputs": [
    {
     "data": {
      "text/html": [
       "<div>\n",
       "<style scoped>\n",
       "    .dataframe tbody tr th:only-of-type {\n",
       "        vertical-align: middle;\n",
       "    }\n",
       "\n",
       "    .dataframe tbody tr th {\n",
       "        vertical-align: top;\n",
       "    }\n",
       "\n",
       "    .dataframe thead th {\n",
       "        text-align: right;\n",
       "    }\n",
       "</style>\n",
       "<table border=\"1\" class=\"dataframe\">\n",
       "  <thead>\n",
       "    <tr style=\"text-align: right;\">\n",
       "      <th></th>\n",
       "      <th>userID</th>\n",
       "      <th>Track</th>\n",
       "      <th>artist</th>\n",
       "      <th>genre</th>\n",
       "      <th>City</th>\n",
       "      <th>time</th>\n",
       "      <th>Day</th>\n",
       "    </tr>\n",
       "  </thead>\n",
       "  <tbody>\n",
       "    <tr>\n",
       "      <th>0</th>\n",
       "      <td>FFB692EC</td>\n",
       "      <td>Kamigata To Boots</td>\n",
       "      <td>The Mass Missile</td>\n",
       "      <td>rock</td>\n",
       "      <td>Saint-Petersburg</td>\n",
       "      <td>20:28:33</td>\n",
       "      <td>Wednesday</td>\n",
       "    </tr>\n",
       "    <tr>\n",
       "      <th>1</th>\n",
       "      <td>55204538</td>\n",
       "      <td>Delayed Because of Accident</td>\n",
       "      <td>Andreas Rönnberg</td>\n",
       "      <td>rock</td>\n",
       "      <td>Moscow</td>\n",
       "      <td>14:07:09</td>\n",
       "      <td>Friday</td>\n",
       "    </tr>\n",
       "    <tr>\n",
       "      <th>2</th>\n",
       "      <td>20EC38</td>\n",
       "      <td>Funiculì funiculà</td>\n",
       "      <td>Mario Lanza</td>\n",
       "      <td>pop</td>\n",
       "      <td>Saint-Petersburg</td>\n",
       "      <td>20:58:07</td>\n",
       "      <td>Wednesday</td>\n",
       "    </tr>\n",
       "    <tr>\n",
       "      <th>3</th>\n",
       "      <td>A3DD03C9</td>\n",
       "      <td>Dragons in the Sunset</td>\n",
       "      <td>Fire + Ice</td>\n",
       "      <td>folk</td>\n",
       "      <td>Saint-Petersburg</td>\n",
       "      <td>08:37:09</td>\n",
       "      <td>Monday</td>\n",
       "    </tr>\n",
       "    <tr>\n",
       "      <th>4</th>\n",
       "      <td>E2DC1FAE</td>\n",
       "      <td>Soul People</td>\n",
       "      <td>Space Echo</td>\n",
       "      <td>dance</td>\n",
       "      <td>Moscow</td>\n",
       "      <td>08:34:34</td>\n",
       "      <td>Monday</td>\n",
       "    </tr>\n",
       "    <tr>\n",
       "      <th>5</th>\n",
       "      <td>842029A1</td>\n",
       "      <td>Преданная</td>\n",
       "      <td>IMPERVTOR</td>\n",
       "      <td>rusrap</td>\n",
       "      <td>Saint-Petersburg</td>\n",
       "      <td>13:09:41</td>\n",
       "      <td>Friday</td>\n",
       "    </tr>\n",
       "    <tr>\n",
       "      <th>6</th>\n",
       "      <td>4CB90AA5</td>\n",
       "      <td>True</td>\n",
       "      <td>Roman Messer</td>\n",
       "      <td>dance</td>\n",
       "      <td>Moscow</td>\n",
       "      <td>13:00:07</td>\n",
       "      <td>Wednesday</td>\n",
       "    </tr>\n",
       "    <tr>\n",
       "      <th>7</th>\n",
       "      <td>F03E1C1F</td>\n",
       "      <td>Feeling This Way</td>\n",
       "      <td>Polina Griffith</td>\n",
       "      <td>dance</td>\n",
       "      <td>Moscow</td>\n",
       "      <td>20:47:49</td>\n",
       "      <td>Wednesday</td>\n",
       "    </tr>\n",
       "    <tr>\n",
       "      <th>8</th>\n",
       "      <td>8FA1D3BE</td>\n",
       "      <td>И вновь продолжается бой</td>\n",
       "      <td>NaN</td>\n",
       "      <td>ruspop</td>\n",
       "      <td>Moscow</td>\n",
       "      <td>09:17:40</td>\n",
       "      <td>Friday</td>\n",
       "    </tr>\n",
       "    <tr>\n",
       "      <th>9</th>\n",
       "      <td>E772D5C0</td>\n",
       "      <td>Pessimist</td>\n",
       "      <td>NaN</td>\n",
       "      <td>dance</td>\n",
       "      <td>Saint-Petersburg</td>\n",
       "      <td>21:20:49</td>\n",
       "      <td>Wednesday</td>\n",
       "    </tr>\n",
       "  </tbody>\n",
       "</table>\n",
       "</div>"
      ],
      "text/plain": [
       "     userID                        Track            artist   genre  \\\n",
       "0  FFB692EC            Kamigata To Boots  The Mass Missile    rock   \n",
       "1  55204538  Delayed Because of Accident  Andreas Rönnberg    rock   \n",
       "2    20EC38            Funiculì funiculà       Mario Lanza     pop   \n",
       "3  A3DD03C9        Dragons in the Sunset        Fire + Ice    folk   \n",
       "4  E2DC1FAE                  Soul People        Space Echo   dance   \n",
       "5  842029A1                    Преданная         IMPERVTOR  rusrap   \n",
       "6  4CB90AA5                         True      Roman Messer   dance   \n",
       "7  F03E1C1F             Feeling This Way   Polina Griffith   dance   \n",
       "8  8FA1D3BE     И вновь продолжается бой               NaN  ruspop   \n",
       "9  E772D5C0                    Pessimist               NaN   dance   \n",
       "\n",
       "             City        time        Day  \n",
       "0  Saint-Petersburg  20:28:33  Wednesday  \n",
       "1            Moscow  14:07:09     Friday  \n",
       "2  Saint-Petersburg  20:58:07  Wednesday  \n",
       "3  Saint-Petersburg  08:37:09     Monday  \n",
       "4            Moscow  08:34:34     Monday  \n",
       "5  Saint-Petersburg  13:09:41     Friday  \n",
       "6            Moscow  13:00:07  Wednesday  \n",
       "7            Moscow  20:47:49  Wednesday  \n",
       "8            Moscow  09:17:40     Friday  \n",
       "9  Saint-Petersburg  21:20:49  Wednesday  "
      ]
     },
     "execution_count": 3,
     "metadata": {},
     "output_type": "execute_result"
    }
   ],
   "source": [
    "df.head(10)"
   ]
  },
  {
   "cell_type": "markdown",
   "metadata": {
    "id": "EO73Kwic_Zct"
   },
   "source": [
    "Одной командой получить общую информацию о таблице:"
   ]
  },
  {
   "cell_type": "code",
   "execution_count": 4,
   "metadata": {
    "id": "DSf2kIb-_Zct"
   },
   "outputs": [
    {
     "name": "stdout",
     "output_type": "stream",
     "text": [
      "<class 'pandas.core.frame.DataFrame'>\n",
      "RangeIndex: 65079 entries, 0 to 65078\n",
      "Data columns (total 7 columns):\n",
      " #   Column    Non-Null Count  Dtype \n",
      "---  ------    --------------  ----- \n",
      " 0     userID  65079 non-null  object\n",
      " 1   Track     63848 non-null  object\n",
      " 2   artist    57876 non-null  object\n",
      " 3   genre     63881 non-null  object\n",
      " 4     City    65079 non-null  object\n",
      " 5   time      65079 non-null  object\n",
      " 6   Day       65079 non-null  object\n",
      "dtypes: object(7)\n",
      "memory usage: 3.5+ MB\n"
     ]
    }
   ],
   "source": [
    "df.info()"
   ]
  },
  {
   "cell_type": "markdown",
   "metadata": {
    "id": "TaQ2Iwbr_Zct"
   },
   "source": [
    "Итак, в таблице семь столбцов. Тип данных во всех столбцах — `object`.\n",
    "\n",
    "Согласно документации к данным:\n",
    "* `userID` — идентификатор пользователя;\n",
    "* `Track` — название трека;  \n",
    "* `artist` — имя исполнителя;\n",
    "* `genre` — название жанра;\n",
    "* `City` — город пользователя;\n",
    "* `time` — время начала прослушивания;\n",
    "* `Day` — день недели.\n",
    "\n",
    "В названиях колонок видны три нарушения стиля:\n",
    "1. Строчные буквы сочетаются с прописными.\n",
    "2. Встречаются пробелы.\n",
    "3. Найдите ещё одну проблему в названии колонок и опишите её в этом пункте. - нет нижнего подчеркивания в столбце userID - по правилам хорошего стиля нужно было написать user_ID\n",
    "\n",
    "\n",
    "\n",
    "Количество значений в столбцах различается. Значит, в данных есть пропущенные значения.\n"
   ]
  },
  {
   "cell_type": "markdown",
   "metadata": {
    "id": "MCB6-dXG_Zct"
   },
   "source": [
    "**Выводы**\n",
    "\n",
    "В каждой строке таблицы — данные о прослушанном треке. Часть колонок описывает саму композицию: название, исполнителя и жанр. Остальные данные рассказывают о пользователе: из какого он города, когда он слушал музыку. \n",
    "\n",
    "Предварительно можно утверждать, что, данных достаточно для проверки гипотез. Но встречаются пропуски в данных, а в названиях колонок — расхождения с хорошим стилем.\n",
    "\n",
    "Чтобы двигаться дальше, нужно устранить проблемы в данных."
   ]
  },
  {
   "cell_type": "markdown",
   "metadata": {
    "id": "SjYF6Ub9_Zct"
   },
   "source": [
    "## Предобработка данных\n",
    "Исправьте стиль в заголовках столбцов, исключите пропуски. Затем проверьте данные на дубликаты."
   ]
  },
  {
   "cell_type": "markdown",
   "metadata": {
    "id": "dIaKXr29_Zct"
   },
   "source": [
    "### Стиль заголовков\n",
    "Выведите на экран названия столбцов:"
   ]
  },
  {
   "cell_type": "code",
   "execution_count": 5,
   "metadata": {
    "id": "oKOTdF_Q_Zct"
   },
   "outputs": [
    {
     "data": {
      "text/plain": [
       "Index(['  userID', 'Track', 'artist', 'genre', '  City  ', 'time', 'Day'], dtype='object')"
      ]
     },
     "execution_count": 5,
     "metadata": {},
     "output_type": "execute_result"
    }
   ],
   "source": [
    "df.columns"
   ]
  },
  {
   "cell_type": "markdown",
   "metadata": {
    "id": "zj5534cv_Zct"
   },
   "source": [
    "Приведите названия в соответствие с хорошим стилем:\n",
    "* несколько слов в названии запишите в «змеином_регистре»,\n",
    "* все символы сделайте строчными,\n",
    "* устраните пробелы.\n",
    "\n",
    "Для этого переименуйте колонки так:\n",
    "* `'  userID'` → `'user_id'`;\n",
    "* `'Track'` → `'track'`;\n",
    "* `'  City  '` → `'city'`;\n",
    "* `'Day'` → `'day'`."
   ]
  },
  {
   "cell_type": "code",
   "execution_count": 6,
   "metadata": {
    "id": "ISlFqs5y_Zct"
   },
   "outputs": [],
   "source": [
    "df = df.rename(columns={'  userID': 'user_id', 'Track': 'track', '  City  ': 'city', 'Day': 'day'})"
   ]
  },
  {
   "cell_type": "markdown",
   "metadata": {
    "id": "1dqbh00J_Zct"
   },
   "source": [
    "Проверьте результат. Для этого ещё раз выведите на экран названия столбцов:"
   ]
  },
  {
   "cell_type": "code",
   "execution_count": 7,
   "metadata": {
    "id": "d4NOAmTW_Zct"
   },
   "outputs": [
    {
     "data": {
      "text/plain": [
       "Index(['user_id', 'track', 'artist', 'genre', 'city', 'time', 'day'], dtype='object')"
      ]
     },
     "execution_count": 7,
     "metadata": {},
     "output_type": "execute_result"
    }
   ],
   "source": [
    "df.columns"
   ]
  },
  {
   "cell_type": "markdown",
   "metadata": {
    "id": "5ISfbcfY_Zct"
   },
   "source": [
    "### Пропуски значений\n",
    "Сначала посчитайте, сколько в таблице пропущенных значений. Для этого достаточно двух методов `pandas`:"
   ]
  },
  {
   "cell_type": "code",
   "execution_count": 8,
   "metadata": {
    "id": "RskX29qr_Zct"
   },
   "outputs": [
    {
     "data": {
      "text/plain": [
       "user_id       0\n",
       "track      1231\n",
       "artist     7203\n",
       "genre      1198\n",
       "city          0\n",
       "time          0\n",
       "day           0\n",
       "dtype: int64"
      ]
     },
     "execution_count": 8,
     "metadata": {},
     "output_type": "execute_result"
    }
   ],
   "source": [
    "df.isna().sum()"
   ]
  },
  {
   "cell_type": "markdown",
   "metadata": {
    "id": "qubhgnlO_Zct"
   },
   "source": [
    "Не все пропущенные значения влияют на исследование. Так в `track` и `artist` пропуски не важны для вашей работы. Достаточно заменить их явными обозначениями.\n",
    "\n",
    "Но пропуски в `genre` могут помешать сравнению музыкальных вкусов в Москве и Санкт-Петербурге. На практике было бы правильно установить причину пропусков и восстановить данные. Такой возможности нет в учебном проекте. Придётся:\n",
    "* заполнить и эти пропуски явными обозначениями,\n",
    "* оценить, насколько они повредят расчётам. "
   ]
  },
  {
   "cell_type": "markdown",
   "metadata": {
    "id": "fSv2laPA_Zct"
   },
   "source": [
    "Замените пропущенные значения в столбцах `track`, `artist` и `genre` на строку `'unknown'`. Для этого создайте список `columns_to_replace`, переберите его элементы циклом `for` и для каждого столбца выполните замену пропущенных значений:"
   ]
  },
  {
   "cell_type": "code",
   "execution_count": 9,
   "metadata": {
    "id": "KplB5qWs_Zct"
   },
   "outputs": [],
   "source": [
    "# перебор названий столбцов в цикле и замена пропущенных значений на 'unknown'\n",
    "\n",
    "columns_to_replace = ['track', 'artist','genre']\n",
    "for element in columns_to_replace:\n",
    "    df[element].fillna('unknown',inplace=True)"
   ]
  },
  {
   "cell_type": "markdown",
   "metadata": {
    "id": "Ilsm-MZo_Zct"
   },
   "source": [
    "Убедитесь, что в таблице не осталось пропусков. Для этого ещё раз посчитайте пропущенные значения."
   ]
  },
  {
   "cell_type": "code",
   "execution_count": 10,
   "metadata": {
    "id": "Tq4nYRX4_Zct"
   },
   "outputs": [
    {
     "data": {
      "text/plain": [
       "user_id    0\n",
       "track      0\n",
       "artist     0\n",
       "genre      0\n",
       "city       0\n",
       "time       0\n",
       "day        0\n",
       "dtype: int64"
      ]
     },
     "execution_count": 10,
     "metadata": {},
     "output_type": "execute_result"
    }
   ],
   "source": [
    "# подсчёт пропусков\n",
    "\n",
    "df.isna().sum()"
   ]
  },
  {
   "cell_type": "markdown",
   "metadata": {
    "id": "BWKRtBJ3_Zct"
   },
   "source": [
    "### Дубликаты\n",
    "Посчитайте явные дубликаты в таблице одной командой:"
   ]
  },
  {
   "cell_type": "code",
   "execution_count": 11,
   "metadata": {
    "id": "36eES_S0_Zct"
   },
   "outputs": [
    {
     "data": {
      "text/plain": [
       "3826"
      ]
     },
     "execution_count": 11,
     "metadata": {},
     "output_type": "execute_result"
    }
   ],
   "source": [
    "# подсчёт явных дубликатов\n",
    "\n",
    "df.duplicated().sum()"
   ]
  },
  {
   "cell_type": "markdown",
   "metadata": {
    "id": "Ot25h6XR_Zct"
   },
   "source": [
    "Вызовите специальный метод `pandas`, чтобы удалить явные дубликаты:"
   ]
  },
  {
   "cell_type": "code",
   "execution_count": 12,
   "metadata": {
    "id": "exFHq6tt_Zct"
   },
   "outputs": [],
   "source": [
    "# удаление явных дубликатов (с удалением старых индексов и формированием новых)\n",
    "\n",
    "df = df.drop_duplicates().reset_index(drop = True)"
   ]
  },
  {
   "cell_type": "markdown",
   "metadata": {
    "id": "Im2YwBEG_Zct"
   },
   "source": [
    "Ещё раз посчитайте явные дубликаты в таблице — убедитесь, что полностью от них избавились:"
   ]
  },
  {
   "cell_type": "code",
   "execution_count": 13,
   "metadata": {
    "id": "-8PuNWQ0_Zct"
   },
   "outputs": [
    {
     "data": {
      "text/plain": [
       "0"
      ]
     },
     "execution_count": 13,
     "metadata": {},
     "output_type": "execute_result"
    }
   ],
   "source": [
    "# проверка на отсутствие дубликатов\n",
    "\n",
    "df.duplicated().sum()"
   ]
  },
  {
   "cell_type": "markdown",
   "metadata": {
    "id": "QlFBsxAr_Zct"
   },
   "source": [
    "Теперь избавьтесь от неявных дубликатов в колонке `genre`. Например, название одного и того же жанра может быть записано немного по-разному. Такие ошибки тоже повлияют на результат исследования."
   ]
  },
  {
   "cell_type": "markdown",
   "metadata": {
    "id": "eSjWwsOh_Zct"
   },
   "source": [
    "Выведите на экран список уникальных названий жанров, отсортированный в алфавитном порядке. Для этого:\n",
    "* извлеките нужный столбец датафрейма, \n",
    "* примените к нему метод сортировки,\n",
    "* для отсортированного столбца вызовите метод, который вернёт уникальные значения из столбца."
   ]
  },
  {
   "cell_type": "code",
   "execution_count": 14,
   "metadata": {
    "id": "JIUcqzZN_Zct"
   },
   "outputs": [
    {
     "data": {
      "text/plain": [
       "array(['acid', 'acoustic', 'action', 'adult', 'africa', 'afrikaans',\n",
       "       'alternative', 'alternativepunk', 'ambient', 'americana',\n",
       "       'animated', 'anime', 'arabesk', 'arabic', 'arena',\n",
       "       'argentinetango', 'art', 'audiobook', 'author', 'avantgarde',\n",
       "       'axé', 'baile', 'balkan', 'beats', 'bigroom', 'black', 'bluegrass',\n",
       "       'blues', 'bollywood', 'bossa', 'brazilian', 'breakbeat', 'breaks',\n",
       "       'broadway', 'cantautori', 'cantopop', 'canzone', 'caribbean',\n",
       "       'caucasian', 'celtic', 'chamber', 'chanson', 'children', 'chill',\n",
       "       'chinese', 'choral', 'christian', 'christmas', 'classical',\n",
       "       'classicmetal', 'club', 'colombian', 'comedy', 'conjazz',\n",
       "       'contemporary', 'country', 'cuban', 'dance', 'dancehall',\n",
       "       'dancepop', 'dark', 'death', 'deep', 'deutschrock', 'deutschspr',\n",
       "       'dirty', 'disco', 'dnb', 'documentary', 'downbeat', 'downtempo',\n",
       "       'drum', 'dub', 'dubstep', 'eastern', 'easy', 'electronic',\n",
       "       'electropop', 'emo', 'entehno', 'epicmetal', 'estrada', 'ethnic',\n",
       "       'eurofolk', 'european', 'experimental', 'extrememetal', 'fado',\n",
       "       'fairytail', 'film', 'fitness', 'flamenco', 'folk', 'folklore',\n",
       "       'folkmetal', 'folkrock', 'folktronica', 'forró', 'frankreich',\n",
       "       'französisch', 'french', 'funk', 'future', 'gangsta', 'garage',\n",
       "       'german', 'ghazal', 'gitarre', 'glitch', 'gospel', 'gothic',\n",
       "       'grime', 'grunge', 'gypsy', 'handsup', \"hard'n'heavy\", 'hardcore',\n",
       "       'hardstyle', 'hardtechno', 'hip', 'hip-hop', 'hiphop',\n",
       "       'historisch', 'holiday', 'hop', 'horror', 'house', 'hymn', 'idm',\n",
       "       'independent', 'indian', 'indie', 'indipop', 'industrial',\n",
       "       'inspirational', 'instrumental', 'international', 'irish', 'jam',\n",
       "       'japanese', 'jazz', 'jewish', 'jpop', 'jungle', 'k-pop',\n",
       "       'karadeniz', 'karaoke', 'kayokyoku', 'korean', 'laiko', 'latin',\n",
       "       'latino', 'leftfield', 'local', 'lounge', 'loungeelectronic',\n",
       "       'lovers', 'malaysian', 'mandopop', 'marschmusik', 'meditative',\n",
       "       'mediterranean', 'melodic', 'metal', 'metalcore', 'mexican',\n",
       "       'middle', 'minimal', 'miscellaneous', 'modern', 'mood', 'mpb',\n",
       "       'muslim', 'native', 'neoklassik', 'neue', 'new', 'newage',\n",
       "       'newwave', 'nu', 'nujazz', 'numetal', 'oceania', 'old', 'opera',\n",
       "       'orchestral', 'other', 'piano', 'podcasts', 'pop', 'popdance',\n",
       "       'popelectronic', 'popeurodance', 'poprussian', 'post',\n",
       "       'posthardcore', 'postrock', 'power', 'progmetal', 'progressive',\n",
       "       'psychedelic', 'punjabi', 'punk', 'quebecois', 'ragga', 'ram',\n",
       "       'rancheras', 'rap', 'rave', 'reggae', 'reggaeton', 'regional',\n",
       "       'relax', 'religious', 'retro', 'rhythm', 'rnb', 'rnr', 'rock',\n",
       "       'rockabilly', 'rockalternative', 'rockindie', 'rockother',\n",
       "       'romance', 'roots', 'ruspop', 'rusrap', 'rusrock', 'russian',\n",
       "       'salsa', 'samba', 'scenic', 'schlager', 'self', 'sertanejo',\n",
       "       'shanson', 'shoegazing', 'showtunes', 'singer', 'ska', 'skarock',\n",
       "       'slow', 'smooth', 'soft', 'soul', 'soulful', 'sound', 'soundtrack',\n",
       "       'southern', 'specialty', 'speech', 'spiritual', 'sport',\n",
       "       'stonerrock', 'surf', 'swing', 'synthpop', 'synthrock',\n",
       "       'sängerportrait', 'tango', 'tanzorchester', 'taraftar', 'tatar',\n",
       "       'tech', 'techno', 'teen', 'thrash', 'top', 'traditional',\n",
       "       'tradjazz', 'trance', 'tribal', 'trip', 'triphop', 'tropical',\n",
       "       'türk', 'türkçe', 'ukrrock', 'unknown', 'urban', 'uzbek',\n",
       "       'variété', 'vi', 'videogame', 'vocal', 'western', 'world',\n",
       "       'worldbeat', 'ïîï', 'электроника'], dtype=object)"
      ]
     },
     "execution_count": 14,
     "metadata": {},
     "output_type": "execute_result"
    }
   ],
   "source": [
    "# Просмотр уникальных названий жанров\n",
    "\n",
    "df['genre'].sort_values().unique()"
   ]
  },
  {
   "cell_type": "markdown",
   "metadata": {
    "id": "qej-Qmuo_Zct"
   },
   "source": [
    "Просмотрите список и найдите неявные дубликаты названия `hiphop`. Это могут быть названия с ошибками или альтернативные названия того же жанра.\n",
    "\n",
    "Вы увидите следующие неявные дубликаты:\n",
    "* *hip*,\n",
    "* *hop*,\n",
    "* *hip-hop*.\n",
    "\n",
    "Чтобы очистить от них таблицу, напишите функцию `replace_wrong_genres()` с двумя параметрами: \n",
    "* `wrong_genres` — список дубликатов,\n",
    "* `correct_genre` — строка с правильным значением.\n",
    "\n",
    "Функция должна исправить колонку `genre` в таблице `df`: заменить каждое значение из списка `wrong_genres` на значение из `correct_genre`."
   ]
  },
  {
   "cell_type": "code",
   "execution_count": 15,
   "metadata": {
    "id": "ErNDkmns_Zct"
   },
   "outputs": [],
   "source": [
    "# Функция для замены неявных дубликатов\n",
    "\n",
    "def replace_wrong_genres(wrong_genres, correct_genre):\n",
    "    for genre in wrong_genres:\n",
    "        df['genre'] = df['genre'].replace(genre, correct_genre)"
   ]
  },
  {
   "cell_type": "markdown",
   "metadata": {
    "id": "aDoBJxbA_Zct"
   },
   "source": [
    "Вызовите `replace_wrong_genres()` и передайте ей такие аргументы, чтобы она устранила неявные дубликаты: вместо `hip`, `hop` и `hip-hop` в таблице должно быть значение `hiphop`:"
   ]
  },
  {
   "cell_type": "code",
   "execution_count": 16,
   "metadata": {
    "id": "YN5i2hpmSo09"
   },
   "outputs": [],
   "source": [
    "# Устранение неявных дубликатов\n",
    "\n",
    "replace_wrong_genres(['hip', 'hop', 'hip-hop'], 'hiphop')"
   ]
  },
  {
   "cell_type": "markdown",
   "metadata": {
    "id": "zQKF16_RG15m"
   },
   "source": [
    "Проверьте, что заменили неправильные названия:\n",
    "\n",
    "*   hip\n",
    "*   hop\n",
    "*   hip-hop\n",
    "\n",
    "Выведите отсортированный список уникальных значений столбца `genre`:"
   ]
  },
  {
   "cell_type": "code",
   "execution_count": 17,
   "metadata": {
    "id": "wvixALnFG15m"
   },
   "outputs": [
    {
     "data": {
      "text/plain": [
       "array(['acid', 'acoustic', 'action', 'adult', 'africa', 'afrikaans',\n",
       "       'alternative', 'alternativepunk', 'ambient', 'americana',\n",
       "       'animated', 'anime', 'arabesk', 'arabic', 'arena',\n",
       "       'argentinetango', 'art', 'audiobook', 'author', 'avantgarde',\n",
       "       'axé', 'baile', 'balkan', 'beats', 'bigroom', 'black', 'bluegrass',\n",
       "       'blues', 'bollywood', 'bossa', 'brazilian', 'breakbeat', 'breaks',\n",
       "       'broadway', 'cantautori', 'cantopop', 'canzone', 'caribbean',\n",
       "       'caucasian', 'celtic', 'chamber', 'chanson', 'children', 'chill',\n",
       "       'chinese', 'choral', 'christian', 'christmas', 'classical',\n",
       "       'classicmetal', 'club', 'colombian', 'comedy', 'conjazz',\n",
       "       'contemporary', 'country', 'cuban', 'dance', 'dancehall',\n",
       "       'dancepop', 'dark', 'death', 'deep', 'deutschrock', 'deutschspr',\n",
       "       'dirty', 'disco', 'dnb', 'documentary', 'downbeat', 'downtempo',\n",
       "       'drum', 'dub', 'dubstep', 'eastern', 'easy', 'electronic',\n",
       "       'electropop', 'emo', 'entehno', 'epicmetal', 'estrada', 'ethnic',\n",
       "       'eurofolk', 'european', 'experimental', 'extrememetal', 'fado',\n",
       "       'fairytail', 'film', 'fitness', 'flamenco', 'folk', 'folklore',\n",
       "       'folkmetal', 'folkrock', 'folktronica', 'forró', 'frankreich',\n",
       "       'französisch', 'french', 'funk', 'future', 'gangsta', 'garage',\n",
       "       'german', 'ghazal', 'gitarre', 'glitch', 'gospel', 'gothic',\n",
       "       'grime', 'grunge', 'gypsy', 'handsup', \"hard'n'heavy\", 'hardcore',\n",
       "       'hardstyle', 'hardtechno', 'hiphop', 'historisch', 'holiday',\n",
       "       'horror', 'house', 'hymn', 'idm', 'independent', 'indian', 'indie',\n",
       "       'indipop', 'industrial', 'inspirational', 'instrumental',\n",
       "       'international', 'irish', 'jam', 'japanese', 'jazz', 'jewish',\n",
       "       'jpop', 'jungle', 'k-pop', 'karadeniz', 'karaoke', 'kayokyoku',\n",
       "       'korean', 'laiko', 'latin', 'latino', 'leftfield', 'local',\n",
       "       'lounge', 'loungeelectronic', 'lovers', 'malaysian', 'mandopop',\n",
       "       'marschmusik', 'meditative', 'mediterranean', 'melodic', 'metal',\n",
       "       'metalcore', 'mexican', 'middle', 'minimal', 'miscellaneous',\n",
       "       'modern', 'mood', 'mpb', 'muslim', 'native', 'neoklassik', 'neue',\n",
       "       'new', 'newage', 'newwave', 'nu', 'nujazz', 'numetal', 'oceania',\n",
       "       'old', 'opera', 'orchestral', 'other', 'piano', 'podcasts', 'pop',\n",
       "       'popdance', 'popelectronic', 'popeurodance', 'poprussian', 'post',\n",
       "       'posthardcore', 'postrock', 'power', 'progmetal', 'progressive',\n",
       "       'psychedelic', 'punjabi', 'punk', 'quebecois', 'ragga', 'ram',\n",
       "       'rancheras', 'rap', 'rave', 'reggae', 'reggaeton', 'regional',\n",
       "       'relax', 'religious', 'retro', 'rhythm', 'rnb', 'rnr', 'rock',\n",
       "       'rockabilly', 'rockalternative', 'rockindie', 'rockother',\n",
       "       'romance', 'roots', 'ruspop', 'rusrap', 'rusrock', 'russian',\n",
       "       'salsa', 'samba', 'scenic', 'schlager', 'self', 'sertanejo',\n",
       "       'shanson', 'shoegazing', 'showtunes', 'singer', 'ska', 'skarock',\n",
       "       'slow', 'smooth', 'soft', 'soul', 'soulful', 'sound', 'soundtrack',\n",
       "       'southern', 'specialty', 'speech', 'spiritual', 'sport',\n",
       "       'stonerrock', 'surf', 'swing', 'synthpop', 'synthrock',\n",
       "       'sängerportrait', 'tango', 'tanzorchester', 'taraftar', 'tatar',\n",
       "       'tech', 'techno', 'teen', 'thrash', 'top', 'traditional',\n",
       "       'tradjazz', 'trance', 'tribal', 'trip', 'triphop', 'tropical',\n",
       "       'türk', 'türkçe', 'ukrrock', 'unknown', 'urban', 'uzbek',\n",
       "       'variété', 'vi', 'videogame', 'vocal', 'western', 'world',\n",
       "       'worldbeat', 'ïîï', 'электроника'], dtype=object)"
      ]
     },
     "execution_count": 17,
     "metadata": {},
     "output_type": "execute_result"
    }
   ],
   "source": [
    "df['genre'].sort_values().unique()"
   ]
  },
  {
   "cell_type": "markdown",
   "metadata": {
    "id": "jz6a9-7HQUDd"
   },
   "source": [
    "**Выводы**\n",
    "\n",
    "Предобработка обнаружила три проблемы в данных:\n",
    "\n",
    "- нарушения в стиле заголовков,\n",
    "- пропущенные значения,\n",
    "- дубликаты — явные и неявные.\n",
    "\n",
    "Вы исправили заголовки, чтобы упростить работу с таблицей. Без дубликатов исследование станет более точным.\n",
    "\n",
    "Пропущенные значения вы заменили на `'unknown'`. Ещё предстоит увидеть, не повредят ли исследованию пропуски в колонке `genre`.\n",
    "\n",
    "Теперь можно перейти к проверке гипотез. "
   ]
  },
  {
   "cell_type": "markdown",
   "metadata": {
    "id": "WttZHXH0SqKk"
   },
   "source": [
    "## Проверка гипотез"
   ]
  },
  {
   "cell_type": "markdown",
   "metadata": {
    "id": "Im936VVi_Zcu"
   },
   "source": [
    "### Сравнение поведения пользователей двух столиц"
   ]
  },
  {
   "cell_type": "markdown",
   "metadata": {
    "id": "nwt_MuaL_Zcu"
   },
   "source": [
    "Первая гипотеза утверждает, что пользователи по-разному слушают музыку в Москве и Санкт-Петербурге. Проверьте это предположение по данным о трёх днях недели — понедельнике, среде и пятнице. Для этого:\n",
    "\n",
    "* Разделите пользователей Москвы и Санкт-Петербурга\n",
    "* Сравните, сколько треков послушала каждая группа пользователей в понедельник, среду и пятницу.\n"
   ]
  },
  {
   "cell_type": "markdown",
   "metadata": {
    "id": "8Dw_YMmT_Zcu"
   },
   "source": [
    "Для тренировки сначала выполните каждый из расчётов по отдельности. \n",
    "\n",
    "Оцените активность пользователей в каждом городе. Сгруппируйте данные по городу и посчитайте прослушивания в каждой группе.\n",
    "\n"
   ]
  },
  {
   "cell_type": "code",
   "execution_count": 18,
   "metadata": {
    "id": "0_Qs96oh_Zcu"
   },
   "outputs": [
    {
     "data": {
      "text/plain": [
       "city\n",
       "Moscow              42741\n",
       "Saint-Petersburg    18512\n",
       "Name: user_id, dtype: int64"
      ]
     },
     "metadata": {},
     "output_type": "display_data"
    }
   ],
   "source": [
    "#Подсчёт прослушиваний в каждом городе\n",
    "\n",
    "cities_tracks_grouped = df.groupby('city')['user_id'].count()\n",
    "display(cities_tracks_grouped)"
   ]
  },
  {
   "cell_type": "markdown",
   "metadata": {
    "id": "dzli3w8o_Zcu"
   },
   "source": [
    "В Москве прослушиваний больше, чем в Петербурге. Из этого не следует, что московские пользователи чаще слушают музыку. Просто самих пользователей в Москве больше.\n",
    "\n",
    "Теперь сгруппируйте данные по дню недели и подсчитайте прослушивания в понедельник, среду и пятницу. Учтите, что в данных есть информация только о прослушиваниях только за эти дни.\n"
   ]
  },
  {
   "cell_type": "code",
   "execution_count": 19,
   "metadata": {
    "id": "uZMKjiJz_Zcu"
   },
   "outputs": [
    {
     "data": {
      "text/plain": [
       "day\n",
       "Friday       21840\n",
       "Monday       21354\n",
       "Wednesday    18059\n",
       "Name: user_id, dtype: int64"
      ]
     },
     "metadata": {},
     "output_type": "display_data"
    }
   ],
   "source": [
    "# Подсчёт прослушиваний в каждый из трёх дней\n",
    "\n",
    "day_track = df.groupby('day')['user_id'].count()\n",
    "display(day_track)"
   ]
  },
  {
   "cell_type": "markdown",
   "metadata": {
    "id": "cC2tNrlL_Zcu"
   },
   "source": [
    "В среднем пользователи из двух городов менее активны по средам. Но картина может измениться, если рассмотреть каждый город в отдельности."
   ]
  },
  {
   "cell_type": "markdown",
   "metadata": {
    "id": "POzs8bGa_Zcu"
   },
   "source": [
    "Вы видели, как работает группировка по городу и по дням недели. Теперь напишите функцию, которая объединит два эти расчёта.\n",
    "\n",
    "Создайте функцию `number_tracks()`, которая посчитает прослушивания для заданного дня и города. Ей понадобятся два параметра:\n",
    "* день недели,\n",
    "* название города.\n",
    "\n",
    "В функции сохраните в переменную строки исходной таблицы, у которых значение:\n",
    "  * в колонке `day` равно параметру `day`,\n",
    "  * в колонке `city` равно параметру `city`.\n",
    "\n",
    "Для этого примените последовательную фильтрацию с логической индексацией.\n",
    "\n",
    "Затем посчитайте значения в столбце `user_id` получившейся таблицы. Результат сохраните в новую переменную. Верните эту переменную из функции."
   ]
  },
  {
   "cell_type": "code",
   "execution_count": 20,
   "metadata": {
    "id": "Nz3GdQB1_Zcu"
   },
   "outputs": [
    {
     "data": {
      "text/plain": [
       "15740"
      ]
     },
     "metadata": {},
     "output_type": "display_data"
    },
    {
     "data": {
      "text/plain": [
       "5614"
      ]
     },
     "metadata": {},
     "output_type": "display_data"
    }
   ],
   "source": [
    "# <создание функции number_tracks()>\n",
    "\n",
    "# Объявляется функция с двумя параметрами: day, city.\n",
    "# В переменной track_list сохраняются те строки таблицы df, для которых \n",
    "# значение в столбце 'day' равно параметру day и одновременно значение\n",
    "# в столбце 'city' равно параметру city (используйте последовательную фильтрацию\n",
    "# с помощью логической индексации).\n",
    "# В переменной track_list_count сохраняется число значений столбца 'user_id',\n",
    "# рассчитанное методом count() для таблицы track_list.\n",
    "# Функция возвращает число - значение track_list_count.\n",
    "\n",
    "# Функция для подсчёта прослушиваний для конкретного города и дня.\n",
    "# С помощью последовательной фильтрации с логической индексацией она \n",
    "# сначала получит из исходной таблицы строки с нужным днём,\n",
    "# затем из результата отфильтрует строки с нужным городом,\n",
    "# методом count() посчитает количество значений в колонке user_id. \n",
    "# Это количество функция вернёт в качестве результата\n",
    "\n",
    "def number_tracks(day, city):\n",
    "    track_list = df[(df['day'] == day) & (df['city'] == city)]\n",
    " \n",
    "    track_list_count = track_list['user_id'].count()\n",
    "    return track_list_count\n",
    "\n",
    "day = 'Monday'\n",
    "city = 'Moscow'\n",
    "display(number_tracks(day, city))\n",
    "   \n",
    "day = 'Monday'\n",
    "city = 'Saint-Petersburg'\n",
    "display(number_tracks(day, city))"
   ]
  },
  {
   "cell_type": "markdown",
   "metadata": {
    "id": "ytf7xFrFJQ2r"
   },
   "source": [
    "Вызовите `number_tracks()` шесть раз, меняя значение параметров — так, чтобы получить данные для каждого города в каждый из трёх дней."
   ]
  },
  {
   "cell_type": "code",
   "execution_count": 21,
   "metadata": {
    "id": "rJcRATNQ_Zcu"
   },
   "outputs": [
    {
     "data": {
      "text/plain": [
       "15740"
      ]
     },
     "metadata": {},
     "output_type": "display_data"
    }
   ],
   "source": [
    "# количество прослушиваний в Москве по понедельникам\n",
    " \n",
    "day = 'Monday'\n",
    "city = 'Moscow'\n",
    "display(number_tracks(day, city))"
   ]
  },
  {
   "cell_type": "code",
   "execution_count": 22,
   "metadata": {
    "id": "hq_ncZ5T_Zcu"
   },
   "outputs": [
    {
     "data": {
      "text/plain": [
       "5614"
      ]
     },
     "metadata": {},
     "output_type": "display_data"
    }
   ],
   "source": [
    "# количество прослушиваний в Санкт-Петербурге по понедельникам\n",
    "\n",
    "day = 'Monday'\n",
    "city = 'Saint-Petersburg'\n",
    "display(number_tracks(day, city))"
   ]
  },
  {
   "cell_type": "code",
   "execution_count": 23,
   "metadata": {
    "id": "_NTy2VPU_Zcu"
   },
   "outputs": [
    {
     "data": {
      "text/plain": [
       "11056"
      ]
     },
     "metadata": {},
     "output_type": "display_data"
    }
   ],
   "source": [
    "# количество прослушиваний в Москве по средам\n",
    "\n",
    "day = 'Wednesday' \n",
    "city = 'Moscow'\n",
    "display(number_tracks(day, city))"
   ]
  },
  {
   "cell_type": "code",
   "execution_count": 24,
   "metadata": {
    "id": "j2y3TAwo_Zcu"
   },
   "outputs": [
    {
     "data": {
      "text/plain": [
       "7003"
      ]
     },
     "metadata": {},
     "output_type": "display_data"
    }
   ],
   "source": [
    "# количество прослушиваний в Санкт-Петербурге по средам\n",
    "\n",
    "day = 'Wednesday'\n",
    "city = 'Saint-Petersburg'\n",
    "display(number_tracks(day, city))"
   ]
  },
  {
   "cell_type": "code",
   "execution_count": 25,
   "metadata": {
    "id": "vYDw5u_K_Zcu"
   },
   "outputs": [
    {
     "data": {
      "text/plain": [
       "15945"
      ]
     },
     "metadata": {},
     "output_type": "display_data"
    }
   ],
   "source": [
    "# количество прослушиваний в Москве по пятницам\n",
    "\n",
    "day = 'Friday'\n",
    "city = 'Moscow'\n",
    "display(number_tracks(day, city))"
   ]
  },
  {
   "cell_type": "code",
   "execution_count": 26,
   "metadata": {
    "id": "8_yzFtW3_Zcu"
   },
   "outputs": [
    {
     "data": {
      "text/plain": [
       "5895"
      ]
     },
     "metadata": {},
     "output_type": "display_data"
    }
   ],
   "source": [
    "# количество прослушиваний в Санкт-Петербурге по пятницам\n",
    "\n",
    "day = 'Friday'\n",
    "city = 'Saint-Petersburg'\n",
    "display(number_tracks(day, city))"
   ]
  },
  {
   "cell_type": "markdown",
   "metadata": {
    "id": "7QXffbO-_Zcu"
   },
   "source": [
    "Создайте c помощью конструктора `pd.DataFrame` таблицу, где\n",
    "* названия колонок — `['city', 'monday', 'wednesday', 'friday']`;\n",
    "* данные — результаты, которые вы получили с помощью `number_tracks`."
   ]
  },
  {
   "cell_type": "code",
   "execution_count": 27,
   "metadata": {
    "id": "APAcLpOr_Zcu",
    "scrolled": true
   },
   "outputs": [
    {
     "data": {
      "text/html": [
       "<div>\n",
       "<style scoped>\n",
       "    .dataframe tbody tr th:only-of-type {\n",
       "        vertical-align: middle;\n",
       "    }\n",
       "\n",
       "    .dataframe tbody tr th {\n",
       "        vertical-align: top;\n",
       "    }\n",
       "\n",
       "    .dataframe thead th {\n",
       "        text-align: right;\n",
       "    }\n",
       "</style>\n",
       "<table border=\"1\" class=\"dataframe\">\n",
       "  <thead>\n",
       "    <tr style=\"text-align: right;\">\n",
       "      <th></th>\n",
       "      <th>city</th>\n",
       "      <th>monday</th>\n",
       "      <th>wednesday</th>\n",
       "      <th>friday</th>\n",
       "    </tr>\n",
       "  </thead>\n",
       "  <tbody>\n",
       "    <tr>\n",
       "      <th>0</th>\n",
       "      <td>Moscow</td>\n",
       "      <td>15740</td>\n",
       "      <td>11056</td>\n",
       "      <td>15945</td>\n",
       "    </tr>\n",
       "    <tr>\n",
       "      <th>1</th>\n",
       "      <td>Saint-Petersburg</td>\n",
       "      <td>5614</td>\n",
       "      <td>7003</td>\n",
       "      <td>5895</td>\n",
       "    </tr>\n",
       "  </tbody>\n",
       "</table>\n",
       "</div>"
      ],
      "text/plain": [
       "               city  monday  wednesday  friday\n",
       "0            Moscow   15740      11056   15945\n",
       "1  Saint-Petersburg    5614       7003    5895"
      ]
     },
     "metadata": {},
     "output_type": "display_data"
    }
   ],
   "source": [
    "12 # Таблица с результатами\n",
    "\n",
    "columns = ['city', 'monday', 'wednesday', 'friday']\n",
    "data = [['Moscow', 15740, 11056, 15945],\n",
    "       ['Saint-Petersburg', 5614, 7003, 5895]]\n",
    "research_day_result = pd.DataFrame(data=data,columns=columns)\n",
    "display(research_day_result)"
   ]
  },
  {
   "cell_type": "markdown",
   "metadata": {
    "id": "-EgPIHYu_Zcu"
   },
   "source": [
    "**Выводы**\n",
    "\n",
    "Данные показывают разницу поведения пользователей:\n",
    "\n",
    "- В Москве пик прослушиваний приходится на понедельник и пятницу, а в среду заметен спад.\n",
    "- В Петербурге, наоборот, больше слушают музыку по средам. Активность в понедельник и пятницу здесь почти в равной мере уступает среде.\n",
    "\n",
    "Значит, данные говорят в пользу первой гипотезы."
   ]
  },
  {
   "cell_type": "markdown",
   "metadata": {
    "id": "atZAxtq4_Zcu"
   },
   "source": [
    "### Музыка в начале и в конце недели"
   ]
  },
  {
   "cell_type": "markdown",
   "metadata": {
    "id": "eXrQqXFH_Zcu"
   },
   "source": [
    "Согласно второй гипотезе, утром в понедельник в Москве преобладают одни жанры, а в Петербурге — другие. Так же и вечером пятницы преобладают разные жанры — в зависимости от города."
   ]
  },
  {
   "cell_type": "markdown",
   "metadata": {
    "id": "S8UcW6Hw_Zcu"
   },
   "source": [
    "Сохраните таблицы с данными в две переменные:\n",
    "* по Москве — в `moscow_general`;\n",
    "* по Санкт-Петербургу — в `spb_general`."
   ]
  },
  {
   "cell_type": "code",
   "execution_count": 28,
   "metadata": {
    "id": "qeaFfM_P_Zcu"
   },
   "outputs": [
    {
     "data": {
      "text/html": [
       "<div>\n",
       "<style scoped>\n",
       "    .dataframe tbody tr th:only-of-type {\n",
       "        vertical-align: middle;\n",
       "    }\n",
       "\n",
       "    .dataframe tbody tr th {\n",
       "        vertical-align: top;\n",
       "    }\n",
       "\n",
       "    .dataframe thead th {\n",
       "        text-align: right;\n",
       "    }\n",
       "</style>\n",
       "<table border=\"1\" class=\"dataframe\">\n",
       "  <thead>\n",
       "    <tr style=\"text-align: right;\">\n",
       "      <th></th>\n",
       "      <th>user_id</th>\n",
       "      <th>track</th>\n",
       "      <th>artist</th>\n",
       "      <th>genre</th>\n",
       "      <th>city</th>\n",
       "      <th>time</th>\n",
       "      <th>day</th>\n",
       "    </tr>\n",
       "  </thead>\n",
       "  <tbody>\n",
       "    <tr>\n",
       "      <th>1</th>\n",
       "      <td>55204538</td>\n",
       "      <td>Delayed Because of Accident</td>\n",
       "      <td>Andreas Rönnberg</td>\n",
       "      <td>rock</td>\n",
       "      <td>Moscow</td>\n",
       "      <td>14:07:09</td>\n",
       "      <td>Friday</td>\n",
       "    </tr>\n",
       "    <tr>\n",
       "      <th>4</th>\n",
       "      <td>E2DC1FAE</td>\n",
       "      <td>Soul People</td>\n",
       "      <td>Space Echo</td>\n",
       "      <td>dance</td>\n",
       "      <td>Moscow</td>\n",
       "      <td>08:34:34</td>\n",
       "      <td>Monday</td>\n",
       "    </tr>\n",
       "    <tr>\n",
       "      <th>6</th>\n",
       "      <td>4CB90AA5</td>\n",
       "      <td>True</td>\n",
       "      <td>Roman Messer</td>\n",
       "      <td>dance</td>\n",
       "      <td>Moscow</td>\n",
       "      <td>13:00:07</td>\n",
       "      <td>Wednesday</td>\n",
       "    </tr>\n",
       "    <tr>\n",
       "      <th>7</th>\n",
       "      <td>F03E1C1F</td>\n",
       "      <td>Feeling This Way</td>\n",
       "      <td>Polina Griffith</td>\n",
       "      <td>dance</td>\n",
       "      <td>Moscow</td>\n",
       "      <td>20:47:49</td>\n",
       "      <td>Wednesday</td>\n",
       "    </tr>\n",
       "    <tr>\n",
       "      <th>8</th>\n",
       "      <td>8FA1D3BE</td>\n",
       "      <td>И вновь продолжается бой</td>\n",
       "      <td>unknown</td>\n",
       "      <td>ruspop</td>\n",
       "      <td>Moscow</td>\n",
       "      <td>09:17:40</td>\n",
       "      <td>Friday</td>\n",
       "    </tr>\n",
       "  </tbody>\n",
       "</table>\n",
       "</div>"
      ],
      "text/plain": [
       "    user_id                        track            artist   genre    city  \\\n",
       "1  55204538  Delayed Because of Accident  Andreas Rönnberg    rock  Moscow   \n",
       "4  E2DC1FAE                  Soul People        Space Echo   dance  Moscow   \n",
       "6  4CB90AA5                         True      Roman Messer   dance  Moscow   \n",
       "7  F03E1C1F             Feeling This Way   Polina Griffith   dance  Moscow   \n",
       "8  8FA1D3BE     И вновь продолжается бой           unknown  ruspop  Moscow   \n",
       "\n",
       "       time        day  \n",
       "1  14:07:09     Friday  \n",
       "4  08:34:34     Monday  \n",
       "6  13:00:07  Wednesday  \n",
       "7  20:47:49  Wednesday  \n",
       "8  09:17:40     Friday  "
      ]
     },
     "metadata": {},
     "output_type": "display_data"
    }
   ],
   "source": [
    "# получение таблицы moscow_general из тех строк таблицы df, \n",
    "# для которых значение в столбце 'city' равно 'Moscow'\n",
    "\n",
    "moscow_general = df[df['city'] == 'Moscow']\n",
    "display(moscow_general.head())"
   ]
  },
  {
   "cell_type": "code",
   "execution_count": 29,
   "metadata": {
    "id": "ORaVRKto_Zcu"
   },
   "outputs": [
    {
     "data": {
      "text/html": [
       "<div>\n",
       "<style scoped>\n",
       "    .dataframe tbody tr th:only-of-type {\n",
       "        vertical-align: middle;\n",
       "    }\n",
       "\n",
       "    .dataframe tbody tr th {\n",
       "        vertical-align: top;\n",
       "    }\n",
       "\n",
       "    .dataframe thead th {\n",
       "        text-align: right;\n",
       "    }\n",
       "</style>\n",
       "<table border=\"1\" class=\"dataframe\">\n",
       "  <thead>\n",
       "    <tr style=\"text-align: right;\">\n",
       "      <th></th>\n",
       "      <th>user_id</th>\n",
       "      <th>track</th>\n",
       "      <th>artist</th>\n",
       "      <th>genre</th>\n",
       "      <th>city</th>\n",
       "      <th>time</th>\n",
       "      <th>day</th>\n",
       "    </tr>\n",
       "  </thead>\n",
       "  <tbody>\n",
       "    <tr>\n",
       "      <th>0</th>\n",
       "      <td>FFB692EC</td>\n",
       "      <td>Kamigata To Boots</td>\n",
       "      <td>The Mass Missile</td>\n",
       "      <td>rock</td>\n",
       "      <td>Saint-Petersburg</td>\n",
       "      <td>20:28:33</td>\n",
       "      <td>Wednesday</td>\n",
       "    </tr>\n",
       "    <tr>\n",
       "      <th>2</th>\n",
       "      <td>20EC38</td>\n",
       "      <td>Funiculì funiculà</td>\n",
       "      <td>Mario Lanza</td>\n",
       "      <td>pop</td>\n",
       "      <td>Saint-Petersburg</td>\n",
       "      <td>20:58:07</td>\n",
       "      <td>Wednesday</td>\n",
       "    </tr>\n",
       "    <tr>\n",
       "      <th>3</th>\n",
       "      <td>A3DD03C9</td>\n",
       "      <td>Dragons in the Sunset</td>\n",
       "      <td>Fire + Ice</td>\n",
       "      <td>folk</td>\n",
       "      <td>Saint-Petersburg</td>\n",
       "      <td>08:37:09</td>\n",
       "      <td>Monday</td>\n",
       "    </tr>\n",
       "    <tr>\n",
       "      <th>5</th>\n",
       "      <td>842029A1</td>\n",
       "      <td>Преданная</td>\n",
       "      <td>IMPERVTOR</td>\n",
       "      <td>rusrap</td>\n",
       "      <td>Saint-Petersburg</td>\n",
       "      <td>13:09:41</td>\n",
       "      <td>Friday</td>\n",
       "    </tr>\n",
       "    <tr>\n",
       "      <th>9</th>\n",
       "      <td>E772D5C0</td>\n",
       "      <td>Pessimist</td>\n",
       "      <td>unknown</td>\n",
       "      <td>dance</td>\n",
       "      <td>Saint-Petersburg</td>\n",
       "      <td>21:20:49</td>\n",
       "      <td>Wednesday</td>\n",
       "    </tr>\n",
       "  </tbody>\n",
       "</table>\n",
       "</div>"
      ],
      "text/plain": [
       "    user_id                  track            artist   genre  \\\n",
       "0  FFB692EC      Kamigata To Boots  The Mass Missile    rock   \n",
       "2    20EC38      Funiculì funiculà       Mario Lanza     pop   \n",
       "3  A3DD03C9  Dragons in the Sunset        Fire + Ice    folk   \n",
       "5  842029A1              Преданная         IMPERVTOR  rusrap   \n",
       "9  E772D5C0              Pessimist           unknown   dance   \n",
       "\n",
       "               city      time        day  \n",
       "0  Saint-Petersburg  20:28:33  Wednesday  \n",
       "2  Saint-Petersburg  20:58:07  Wednesday  \n",
       "3  Saint-Petersburg  08:37:09     Monday  \n",
       "5  Saint-Petersburg  13:09:41     Friday  \n",
       "9  Saint-Petersburg  21:20:49  Wednesday  "
      ]
     },
     "metadata": {},
     "output_type": "display_data"
    }
   ],
   "source": [
    "# получение таблицы spb_general из тех строк таблицы df,\n",
    "# для которых значение в столбце 'city' равно 'Saint-Petersburg'\n",
    "\n",
    "spb_general = df[df['city'] == 'Saint-Petersburg']\n",
    "display(spb_general.head())"
   ]
  },
  {
   "cell_type": "markdown",
   "metadata": {
    "id": "MEJV-CX2_Zcu"
   },
   "source": [
    "Создайте функцию `genre_weekday()` с четырьмя параметрами:\n",
    "* таблица (датафрейм) с данными,\n",
    "* день недели,\n",
    "* начальная временная метка в формате 'hh:mm', \n",
    "* последняя временная метка в формате 'hh:mm'.\n",
    "\n",
    "Функция должна вернуть информацию о топ-10 жанров тех треков, которые прослушивали в указанный день, в промежутке между двумя отметками времени."
   ]
  },
  {
   "cell_type": "code",
   "execution_count": 30,
   "metadata": {
    "id": "laJT9BYl_Zcu"
   },
   "outputs": [
    {
     "data": {
      "text/plain": [
       "genre\n",
       "pop            781\n",
       "dance          549\n",
       "electronic     480\n",
       "rock           474\n",
       "hiphop         286\n",
       "ruspop         186\n",
       "world          181\n",
       "rusrap         175\n",
       "alternative    164\n",
       "unknown        161\n",
       "Name: user_id, dtype: int64"
      ]
     },
     "execution_count": 30,
     "metadata": {},
     "output_type": "execute_result"
    }
   ],
   "source": [
    "# Объявление функции genre_weekday() с параметрами table, day, time1, time2,\n",
    "# которая возвращает информацию о самых популярных жанрах в указанный день в\n",
    "# заданное время:\n",
    "# 1) в переменную genre_df сохраняются те строки переданного датафрейма table, для\n",
    "#    которых одновременно:\n",
    "#    - значение в столбце day равно значению аргумента day\n",
    "#    - значение в столбце time больше значения аргумента time1\n",
    "#    - значение в столбце time меньше значения аргумента time2\n",
    "#    Используйте последовательную фильтрацию с помощью логической индексации.\n",
    "# 2)     сгруппировать датафрейм genre_df по столбцу genre, \n",
    "#    взять один из его   столбцов и посчитать методом count() количество записей для каждого из   присутствующих жанров, \n",
    "#    получившийся Series записать в переменную genre_df_count\n",
    "# 3) отсортировать genre_df_count по убыванию встречаемости и сохранить\n",
    "#    в переменную genre_df_sorted\n",
    "# 4) вернуть Series из 10 первых значений genre_df_sorted, это будут топ-10\n",
    "#    популярных жанров (в указанный день, в заданное время)\n",
    "\n",
    "def genre_weekday(table, day, time1, time2):\n",
    "    genre_df = table[table['day'] == day]\n",
    "    genre_df = genre_df[genre_df['time'] > time1]\n",
    "    genre_df = genre_df[genre_df['time'] < time2]\n",
    "    genre_df_count = genre_df.groupby('genre')['user_id'].count()\n",
    "    genre_df_sorted = genre_df_count.sort_values(ascending = False)\n",
    "    return genre_df_sorted.head(10)\n",
    "\n",
    "table = moscow_general\n",
    "day = 'Monday'\n",
    "time1 = '07:00'\n",
    "time2 = '11:00'\n",
    "genre_weekday(table, day, time1, time2)"
   ]
  },
  {
   "cell_type": "markdown",
   "metadata": {
    "id": "la2s2_PF_Zcu"
   },
   "source": [
    "Cравните результаты функции `genre_weekday()` для Москвы и Санкт-Петербурга в понедельник утром (с 7:00 до 11:00) и в пятницу вечером (с 17:00 до 23:00):"
   ]
  },
  {
   "cell_type": "code",
   "execution_count": 31,
   "metadata": {
    "id": "yz7itPUQ_Zcu"
   },
   "outputs": [
    {
     "data": {
      "text/plain": [
       "genre\n",
       "pop            781\n",
       "dance          549\n",
       "electronic     480\n",
       "rock           474\n",
       "hiphop         286\n",
       "ruspop         186\n",
       "world          181\n",
       "rusrap         175\n",
       "alternative    164\n",
       "unknown        161\n",
       "Name: user_id, dtype: int64"
      ]
     },
     "execution_count": 31,
     "metadata": {},
     "output_type": "execute_result"
    }
   ],
   "source": [
    "# вызов функции для утра понедельника в Москве (вместо df — таблица moscow_general)\n",
    "# объекты, хранящие время, являются строками и сравниваются как строки\n",
    "# пример вызова: genre_weekday(moscow_general, 'Monday', '07:00', '11:00')\n",
    "\n",
    "genre_weekday(moscow_general, 'Monday', '07:00', '11:00')"
   ]
  },
  {
   "cell_type": "code",
   "execution_count": 32,
   "metadata": {
    "id": "kwUcHPdy_Zcu"
   },
   "outputs": [
    {
     "data": {
      "text/plain": [
       "genre\n",
       "pop            218\n",
       "dance          182\n",
       "rock           162\n",
       "electronic     147\n",
       "hiphop          80\n",
       "ruspop          64\n",
       "alternative     58\n",
       "rusrap          55\n",
       "jazz            44\n",
       "classical       40\n",
       "Name: user_id, dtype: int64"
      ]
     },
     "execution_count": 32,
     "metadata": {},
     "output_type": "execute_result"
    }
   ],
   "source": [
    "# вызов функции для утра понедельника в Петербурге (вместо df — таблица spb_general)\n",
    "\n",
    "genre_weekday(spb_general, 'Monday', '07:00', '11:00')"
   ]
  },
  {
   "cell_type": "code",
   "execution_count": 33,
   "metadata": {
    "id": "EzXVRE1o_Zcu"
   },
   "outputs": [
    {
     "data": {
      "text/plain": [
       "genre\n",
       "pop            713\n",
       "rock           517\n",
       "dance          495\n",
       "electronic     482\n",
       "hiphop         273\n",
       "world          208\n",
       "ruspop         170\n",
       "alternative    163\n",
       "classical      163\n",
       "rusrap         142\n",
       "Name: user_id, dtype: int64"
      ]
     },
     "execution_count": 33,
     "metadata": {},
     "output_type": "execute_result"
    }
   ],
   "source": [
    "# вызов функции для вечера пятницы в Москве\n",
    "\n",
    "genre_weekday(moscow_general, 'Friday', '17:00', '23:00')"
   ]
  },
  {
   "cell_type": "code",
   "execution_count": 34,
   "metadata": {
    "id": "JZaEKu5v_Zcu"
   },
   "outputs": [
    {
     "data": {
      "text/plain": [
       "genre\n",
       "pop            256\n",
       "electronic     216\n",
       "rock           216\n",
       "dance          210\n",
       "hiphop          97\n",
       "alternative     63\n",
       "jazz            61\n",
       "classical       60\n",
       "rusrap          59\n",
       "world           54\n",
       "Name: user_id, dtype: int64"
      ]
     },
     "execution_count": 34,
     "metadata": {},
     "output_type": "execute_result"
    }
   ],
   "source": [
    "# вызов функции для вечера пятницы в Петербурге\n",
    "\n",
    "genre_weekday(spb_general, 'Friday', '17:00', '23:00')"
   ]
  },
  {
   "cell_type": "markdown",
   "metadata": {
    "id": "wrCe4MNX_Zcu"
   },
   "source": [
    "**Выводы**\n",
    "\n",
    "Если сравнить топ-10 жанров в понедельник утром, можно сделать такие выводы:\n",
    "\n",
    "1. В Москве и Петербурге слушают похожую музыку. Единственное отличие — в московский рейтинг вошёл жанр “world”, а в петербургский — джаз и классика.\n",
    "\n",
    "2. В Москве пропущенных значений оказалось так много, что значение `'unknown'` заняло десятое место среди самых популярных жанров. Значит, пропущенные значения занимают существенную долю в данных и угрожают достоверности исследования.\n",
    "\n",
    "Вечер пятницы не меняет эту картину. Некоторые жанры поднимаются немного выше, другие спускаются, но в целом топ-10 остаётся тем же самым.\n",
    "\n",
    "Таким образом, вторая гипотеза подтвердилась лишь частично:\n",
    "* Пользователи слушают похожую музыку в начале недели и в конце.\n",
    "* Разница между Москвой и Петербургом не слишком выражена. В Москве чаще слушают русскую популярную музыку, в Петербурге — джаз.\n",
    "\n",
    "Однако пропуски в данных ставят под сомнение этот результат. В Москве их так много, что рейтинг топ-10 мог бы выглядеть иначе, если бы не утерянные  данные о жанрах."
   ]
  },
  {
   "cell_type": "markdown",
   "metadata": {
    "id": "JolODAqr_Zcu"
   },
   "source": [
    "### Жанровые предпочтения в Москве и Петербурге\n",
    "\n",
    "Гипотеза: Петербург — столица рэпа, музыку этого жанра там слушают чаще, чем в Москве.  А Москва — город контрастов, в котором, тем не менее, преобладает поп-музыка."
   ]
  },
  {
   "cell_type": "markdown",
   "metadata": {
    "id": "DlegSvaT_Zcu"
   },
   "source": [
    "Гипотеза: Петербург — столица рэпа, музыку этого жанра там слушают чаще, чем в Москве. А Москва — город контрастов, в котором, тем не менее, преобладает поп-музыка.\n",
    "Сгруппируйте таблицу moscow_general по жанру и посчитайте прослушивания треков каждого жанра методом count(). Затем отсортируйте результат в порядке убывания и сохраните его в таблице moscow_genres.\n"
   ]
  },
  {
   "cell_type": "code",
   "execution_count": 35,
   "metadata": {
    "id": "r19lIPke_Zcu"
   },
   "outputs": [
    {
     "data": {
      "text/plain": [
       "genre\n",
       "pop            5892\n",
       "dance          4435\n",
       "rock           3965\n",
       "electronic     3786\n",
       "hiphop         2096\n",
       "classical      1616\n",
       "world          1432\n",
       "alternative    1379\n",
       "ruspop         1372\n",
       "rusrap         1161\n",
       "Name: user_id, dtype: int64"
      ]
     },
     "metadata": {},
     "output_type": "display_data"
    }
   ],
   "source": [
    "# одной строкой: группировка таблицы moscow_general по столбцу 'genre', \n",
    "# подсчёт числа значений 'genre' в этой группировке методом count(), \n",
    "# сортировка получившегося Series в порядке убывания и сохранение в moscow_genres\n",
    "\n",
    "\n",
    "moscow_genres = moscow_general.groupby('genre')['user_id'].count()\n",
    "moscow_genres = moscow_genres.sort_values(ascending=False)\n",
    "display(moscow_genres.head(10))"
   ]
  },
  {
   "cell_type": "markdown",
   "metadata": {
    "id": "6kMuomxTiIr8"
   },
   "source": [
    "Выведите на экран первые десять строк `moscow_genres`:"
   ]
  },
  {
   "cell_type": "code",
   "execution_count": 36,
   "metadata": {
    "id": "WhCSooF8_Zcv"
   },
   "outputs": [
    {
     "data": {
      "text/plain": [
       "genre\n",
       "pop            5892\n",
       "dance          4435\n",
       "rock           3965\n",
       "electronic     3786\n",
       "hiphop         2096\n",
       "classical      1616\n",
       "world          1432\n",
       "alternative    1379\n",
       "ruspop         1372\n",
       "rusrap         1161\n",
       "Name: user_id, dtype: int64"
      ]
     },
     "metadata": {},
     "output_type": "display_data"
    }
   ],
   "source": [
    "# просмотр первых 10 строк moscow_genres\n",
    "\n",
    "display(moscow_genres.head(10))"
   ]
  },
  {
   "cell_type": "markdown",
   "metadata": {
    "id": "cnPG2vnN_Zcv"
   },
   "source": [
    "Теперь повторите то же и для Петербурга.\n",
    "\n",
    "Сгруппируйте таблицу `spb_general` по жанру. Посчитайте прослушивания треков каждого жанра. Результат отсортируйте в порядке убывания и сохраните в таблице `spb_genres`:\n"
   ]
  },
  {
   "cell_type": "code",
   "execution_count": 37,
   "metadata": {
    "id": "gluLIpE7_Zcv"
   },
   "outputs": [
    {
     "data": {
      "text/plain": [
       "genre\n",
       "pop            2431\n",
       "dance          1932\n",
       "rock           1879\n",
       "electronic     1736\n",
       "hiphop          960\n",
       "alternative     649\n",
       "classical       646\n",
       "rusrap          564\n",
       "ruspop          538\n",
       "world           515\n",
       "Name: user_id, dtype: int64"
      ]
     },
     "metadata": {},
     "output_type": "display_data"
    }
   ],
   "source": [
    "# одной строкой: группировка таблицы spb_general по столбцу 'genre', \n",
    "# подсчёт числа значений 'genre' в этой группировке методом count(), \n",
    "# сортировка получившегося Series в порядке убывания и сохранение в spb_genres\n",
    "\n",
    "spb_genres = spb_general.groupby('genre')['user_id'].count()\n",
    "spb_genres = spb_genres.sort_values(ascending=False)\n",
    "display(spb_genres.head(10))"
   ]
  },
  {
   "cell_type": "markdown",
   "metadata": {
    "id": "5Doha_ODgyQ8"
   },
   "source": [
    "Выведите на экран первые десять строк spb_genres:"
   ]
  },
  {
   "cell_type": "code",
   "execution_count": 38,
   "metadata": {
    "id": "uaGJHjVU_Zcv"
   },
   "outputs": [
    {
     "data": {
      "text/plain": [
       "genre\n",
       "pop            2431\n",
       "dance          1932\n",
       "rock           1879\n",
       "electronic     1736\n",
       "hiphop          960\n",
       "alternative     649\n",
       "classical       646\n",
       "rusrap          564\n",
       "ruspop          538\n",
       "world           515\n",
       "Name: user_id, dtype: int64"
      ]
     },
     "metadata": {},
     "output_type": "display_data"
    }
   ],
   "source": [
    "# просмотр первых 10 строк spb_genres\n",
    "\n",
    "display(spb_genres.head(10))"
   ]
  },
  {
   "cell_type": "markdown",
   "metadata": {
    "id": "RY51YJYu_Zcv"
   },
   "source": [
    "**Выводы**"
   ]
  },
  {
   "cell_type": "markdown",
   "metadata": {
    "id": "nVhnJEm__Zcv"
   },
   "source": [
    "Гипотеза частично подтвердилась:\n",
    "* Поп-музыка — самый популярный жанр в Москве, как и предполагала гипотеза. Более того, в топ-10 жанров встречается близкий жанр — русская популярная музыка.\n",
    "* Вопреки ожиданиям, рэп одинаково популярен в Москве и Петербурге. \n"
   ]
  },
  {
   "cell_type": "markdown",
   "metadata": {
    "id": "ykKQ0N65_Zcv"
   },
   "source": [
    "## Итоги"
   ]
  },
  {
   "cell_type": "markdown",
   "metadata": {
    "id": "tjUwbHb3_Zcv"
   },
   "source": [
    "Вы проверили три гипотезы и установили:\n",
    "\n",
    "1. День недели по-разному влияет на активность пользователей в Москве и Петербурге. \n",
    "\n",
    "Первая гипотеза полностью подтвердилась.\n",
    "\n",
    "2. Музыкальные предпочтения не сильно меняются в течение недели — будь то Москва или Петербург. Небольшие различия заметны в начале недели, по понедельникам:\n",
    "* в Москве слушают музыку жанра “world”,\n",
    "* в Петербурге — джаз и классику.\n",
    "\n",
    "Таким образом, вторая гипотеза подтвердилась лишь отчасти. Этот результат мог оказаться иным, если бы не пропуски в данных.\n",
    "\n",
    "3. Во вкусах пользователей Москвы и Петербурга больше общего чем различий. Вопреки ожиданиям, предпочтения жанров в Петербурге напоминают московские.\n",
    "\n",
    "Третья гипотеза не подтвердилась. Если различия в предпочтениях и существуют, на основной массе пользователей они незаметны.\n",
    "\n",
    "**На практике исследования содержат проверки статистических гипотез.**\n",
    "Из данных одного сервиса не всегда можно сделать вывод о всех жителях города.\n",
    "Проверки статистических гипотез покажут, насколько они достоверны, исходя из имеющихся данных. \n",
    "С методами проверок гипотез вы ещё познакомитесь в следующих темах."
   ]
  }
 ],
 "metadata": {
  "ExecuteTimeLog": [
   {
    "duration": 6,
    "start_time": "2021-11-14T14:46:06.415Z"
   },
   {
    "duration": 4,
    "start_time": "2021-11-14T14:46:47.945Z"
   },
   {
    "duration": 5,
    "start_time": "2021-11-14T14:46:55.568Z"
   },
   {
    "duration": 376,
    "start_time": "2021-11-14T14:48:01.254Z"
   },
   {
    "duration": 726,
    "start_time": "2021-11-14T14:48:18.700Z"
   },
   {
    "duration": 182,
    "start_time": "2021-11-14T14:48:32.852Z"
   },
   {
    "duration": 198,
    "start_time": "2021-11-14T14:48:37.418Z"
   },
   {
    "duration": 11,
    "start_time": "2021-11-14T14:48:51.067Z"
   },
   {
    "duration": 36,
    "start_time": "2021-11-14T14:53:49.375Z"
   },
   {
    "duration": 4,
    "start_time": "2021-11-14T14:54:01.335Z"
   },
   {
    "duration": 192,
    "start_time": "2021-11-14T14:54:06.020Z"
   },
   {
    "duration": 10,
    "start_time": "2021-11-14T14:54:08.856Z"
   },
   {
    "duration": 103,
    "start_time": "2021-11-14T14:56:10.303Z"
   },
   {
    "duration": 5,
    "start_time": "2021-11-14T14:56:17.088Z"
   },
   {
    "duration": 759,
    "start_time": "2021-11-20T15:57:02.752Z"
   },
   {
    "duration": 186,
    "start_time": "2021-11-20T15:57:06.649Z"
   },
   {
    "duration": 11,
    "start_time": "2021-11-20T15:57:19.540Z"
   },
   {
    "duration": 10,
    "start_time": "2021-11-20T15:57:28.620Z"
   },
   {
    "duration": 32,
    "start_time": "2021-11-20T15:57:43.167Z"
   },
   {
    "duration": 6,
    "start_time": "2021-11-20T16:10:47.178Z"
   },
   {
    "duration": 6,
    "start_time": "2021-11-20T16:11:48.008Z"
   },
   {
    "duration": 43,
    "start_time": "2021-11-20T16:35:59.363Z"
   },
   {
    "duration": 88,
    "start_time": "2021-11-20T16:37:45.866Z"
   },
   {
    "duration": 91,
    "start_time": "2021-11-20T16:38:50.163Z"
   },
   {
    "duration": 57,
    "start_time": "2021-11-20T16:42:08.137Z"
   },
   {
    "duration": 117,
    "start_time": "2021-11-20T16:45:45.244Z"
   },
   {
    "duration": 30,
    "start_time": "2021-11-20T16:48:22.674Z"
   },
   {
    "duration": 6,
    "start_time": "2021-11-20T16:48:37.904Z"
   },
   {
    "duration": 6,
    "start_time": "2021-11-20T16:50:19.843Z"
   },
   {
    "duration": 31,
    "start_time": "2021-11-20T16:50:34.444Z"
   },
   {
    "duration": 35,
    "start_time": "2021-11-20T16:52:18.954Z"
   },
   {
    "duration": 6,
    "start_time": "2021-11-20T16:52:22.014Z"
   },
   {
    "duration": 6,
    "start_time": "2021-11-20T16:52:26.342Z"
   },
   {
    "duration": 4,
    "start_time": "2021-11-20T16:53:16.858Z"
   },
   {
    "duration": 32,
    "start_time": "2021-11-20T16:53:30.753Z"
   },
   {
    "duration": 7,
    "start_time": "2021-11-20T16:53:37.093Z"
   },
   {
    "duration": 4,
    "start_time": "2021-11-20T16:53:54.028Z"
   },
   {
    "duration": 29,
    "start_time": "2021-11-20T17:02:20.341Z"
   },
   {
    "duration": 429,
    "start_time": "2021-11-20T17:05:20.996Z"
   },
   {
    "duration": 114,
    "start_time": "2021-11-20T17:06:44.513Z"
   },
   {
    "duration": 335,
    "start_time": "2021-11-20T17:07:11.234Z"
   },
   {
    "duration": 342,
    "start_time": "2021-11-20T17:07:59.851Z"
   },
   {
    "duration": 389,
    "start_time": "2021-11-20T17:12:00.826Z"
   },
   {
    "duration": 59,
    "start_time": "2021-11-20T17:12:16.829Z"
   },
   {
    "duration": 63,
    "start_time": "2021-11-20T17:12:22.084Z"
   },
   {
    "duration": 109,
    "start_time": "2021-11-20T17:12:38.355Z"
   },
   {
    "duration": 61,
    "start_time": "2021-11-20T17:12:44.804Z"
   },
   {
    "duration": 28,
    "start_time": "2021-11-20T17:13:25.625Z"
   },
   {
    "duration": 123,
    "start_time": "2021-11-20T18:21:34.302Z"
   },
   {
    "duration": 80,
    "start_time": "2021-11-20T18:21:36.720Z"
   },
   {
    "duration": 108,
    "start_time": "2021-11-20T18:25:03.199Z"
   },
   {
    "duration": 107,
    "start_time": "2021-11-20T18:25:12.915Z"
   },
   {
    "duration": 105,
    "start_time": "2021-11-20T18:25:41.395Z"
   },
   {
    "duration": 79,
    "start_time": "2021-11-20T18:26:51.883Z"
   },
   {
    "duration": 79,
    "start_time": "2021-11-20T18:26:59.459Z"
   },
   {
    "duration": 324,
    "start_time": "2021-11-20T18:56:40.130Z"
   },
   {
    "duration": 438,
    "start_time": "2021-11-20T18:58:47.940Z"
   },
   {
    "duration": 410,
    "start_time": "2021-11-20T18:59:02.781Z"
   },
   {
    "duration": 129,
    "start_time": "2021-11-20T18:59:26.080Z"
   },
   {
    "duration": 83,
    "start_time": "2021-11-20T18:59:34.510Z"
   },
   {
    "duration": 84,
    "start_time": "2021-11-20T18:59:37.921Z"
   },
   {
    "duration": 85,
    "start_time": "2021-11-20T19:00:11.231Z"
   },
   {
    "duration": 61,
    "start_time": "2021-11-20T19:12:49.181Z"
   },
   {
    "duration": 114,
    "start_time": "2021-11-20T21:56:06.030Z"
   },
   {
    "duration": 4,
    "start_time": "2021-11-20T21:56:45.155Z"
   },
   {
    "duration": 5,
    "start_time": "2021-11-20T21:56:49.344Z"
   },
   {
    "duration": 5,
    "start_time": "2021-11-20T21:56:55.949Z"
   },
   {
    "duration": 5,
    "start_time": "2021-11-20T22:06:06.884Z"
   },
   {
    "duration": 4,
    "start_time": "2021-11-20T22:06:14.872Z"
   },
   {
    "duration": 5,
    "start_time": "2021-11-20T22:06:20.484Z"
   },
   {
    "duration": 4,
    "start_time": "2021-11-20T22:06:22.443Z"
   },
   {
    "duration": 4,
    "start_time": "2021-11-20T22:06:26.461Z"
   },
   {
    "duration": 341,
    "start_time": "2021-11-20T22:21:56.846Z"
   },
   {
    "duration": 363,
    "start_time": "2021-11-20T22:22:03.554Z"
   },
   {
    "duration": 388,
    "start_time": "2021-11-20T22:22:18.532Z"
   },
   {
    "duration": 361,
    "start_time": "2021-11-20T22:24:50.207Z"
   },
   {
    "duration": 357,
    "start_time": "2021-11-20T22:25:00.736Z"
   },
   {
    "duration": 396,
    "start_time": "2021-11-20T22:26:07.506Z"
   },
   {
    "duration": 340,
    "start_time": "2021-11-20T22:26:23.806Z"
   },
   {
    "duration": 357,
    "start_time": "2021-11-20T22:27:23.785Z"
   },
   {
    "duration": 5,
    "start_time": "2021-11-20T22:33:18.445Z"
   },
   {
    "duration": 5,
    "start_time": "2021-11-20T22:33:22.306Z"
   },
   {
    "duration": 4,
    "start_time": "2021-11-20T22:33:24.645Z"
   },
   {
    "duration": 4,
    "start_time": "2021-11-20T22:33:38.886Z"
   },
   {
    "duration": 4,
    "start_time": "2021-11-20T22:33:41.156Z"
   },
   {
    "duration": 4,
    "start_time": "2021-11-20T22:34:23.926Z"
   },
   {
    "duration": 524,
    "start_time": "2021-11-20T22:34:44.705Z"
   },
   {
    "duration": 7,
    "start_time": "2021-11-20T22:34:55.727Z"
   },
   {
    "duration": 5,
    "start_time": "2021-11-20T22:35:13.896Z"
   },
   {
    "duration": 4,
    "start_time": "2021-11-20T22:35:38.272Z"
   },
   {
    "duration": 8,
    "start_time": "2021-11-20T22:36:35.979Z"
   },
   {
    "duration": 61,
    "start_time": "2021-11-20T22:37:17.384Z"
   },
   {
    "duration": 1772,
    "start_time": "2021-11-20T22:43:15.814Z"
   },
   {
    "duration": 695,
    "start_time": "2021-11-20T22:43:50.024Z"
   },
   {
    "duration": 368,
    "start_time": "2021-11-20T22:46:18.756Z"
   },
   {
    "duration": 329,
    "start_time": "2021-11-20T22:46:40.106Z"
   },
   {
    "duration": 1107,
    "start_time": "2021-11-20T22:47:03.506Z"
   },
   {
    "duration": 347,
    "start_time": "2021-11-20T22:48:05.335Z"
   },
   {
    "duration": 328,
    "start_time": "2021-11-20T22:48:13.996Z"
   },
   {
    "duration": 341,
    "start_time": "2021-11-20T22:49:50.406Z"
   },
   {
    "duration": 351,
    "start_time": "2021-11-20T22:50:01.457Z"
   },
   {
    "duration": 4,
    "start_time": "2021-11-20T22:51:09.787Z"
   },
   {
    "duration": 324,
    "start_time": "2021-11-20T22:51:16.166Z"
   },
   {
    "duration": 360,
    "start_time": "2021-11-20T22:51:28.086Z"
   },
   {
    "duration": 5,
    "start_time": "2021-11-20T22:51:34.796Z"
   },
   {
    "duration": 351,
    "start_time": "2021-11-20T22:53:56.806Z"
   },
   {
    "duration": 8,
    "start_time": "2021-11-20T22:54:15.218Z"
   },
   {
    "duration": 8,
    "start_time": "2021-11-20T22:54:51.287Z"
   },
   {
    "duration": 695,
    "start_time": "2021-11-20T22:59:36.816Z"
   },
   {
    "duration": 26,
    "start_time": "2021-11-20T23:02:23.529Z"
   },
   {
    "duration": 28,
    "start_time": "2021-11-20T23:09:08.225Z"
   },
   {
    "duration": 38,
    "start_time": "2021-11-20T23:10:40.037Z"
   },
   {
    "duration": 342,
    "start_time": "2021-11-20T23:13:27.367Z"
   },
   {
    "duration": 335,
    "start_time": "2021-11-20T23:13:36.458Z"
   },
   {
    "duration": 330,
    "start_time": "2021-11-20T23:13:54.538Z"
   },
   {
    "duration": -1625,
    "start_time": "2021-11-20T23:14:11.359Z"
   },
   {
    "duration": -1581,
    "start_time": "2021-11-20T23:14:18.887Z"
   },
   {
    "duration": 4632,
    "start_time": "2021-11-20T23:14:19.998Z"
   },
   {
    "duration": 41,
    "start_time": "2021-11-20T23:18:38.449Z"
   },
   {
    "duration": 22,
    "start_time": "2021-11-20T23:24:48.416Z"
   },
   {
    "duration": 20,
    "start_time": "2021-11-20T23:25:00.387Z"
   },
   {
    "duration": 19,
    "start_time": "2021-11-20T23:25:44.900Z"
   },
   {
    "duration": 21,
    "start_time": "2021-11-20T23:26:26.400Z"
   },
   {
    "duration": 19,
    "start_time": "2021-11-20T23:26:28.128Z"
   },
   {
    "duration": 22,
    "start_time": "2021-11-20T23:26:48.476Z"
   },
   {
    "duration": 22,
    "start_time": "2021-11-20T23:26:50.247Z"
   },
   {
    "duration": 34,
    "start_time": "2021-11-20T23:27:05.318Z"
   },
   {
    "duration": -1477,
    "start_time": "2021-11-20T23:47:04.337Z"
   },
   {
    "duration": 324,
    "start_time": "2021-11-20T23:47:04.652Z"
   },
   {
    "duration": 5,
    "start_time": "2021-11-20T23:48:39.729Z"
   },
   {
    "duration": 6,
    "start_time": "2021-11-20T23:50:58.462Z"
   },
   {
    "duration": 24,
    "start_time": "2021-11-20T23:52:38.027Z"
   },
   {
    "duration": 3,
    "start_time": "2021-11-20T23:53:35.766Z"
   },
   {
    "duration": 36,
    "start_time": "2021-11-20T23:54:39.397Z"
   },
   {
    "duration": 38,
    "start_time": "2021-11-20T23:54:59.644Z"
   },
   {
    "duration": 609,
    "start_time": "2021-11-20T23:57:17.423Z"
   },
   {
    "duration": 346,
    "start_time": "2021-11-20T23:57:37.119Z"
   },
   {
    "duration": 335,
    "start_time": "2021-11-20T23:58:36.171Z"
   },
   {
    "duration": 372,
    "start_time": "2021-11-20T23:59:41.010Z"
   },
   {
    "duration": 438,
    "start_time": "2021-11-20T23:59:53.317Z"
   },
   {
    "duration": 17,
    "start_time": "2021-11-21T00:05:50.841Z"
   },
   {
    "duration": 543,
    "start_time": "2021-11-21T00:08:54.141Z"
   },
   {
    "duration": 324,
    "start_time": "2021-11-21T00:09:50.501Z"
   },
   {
    "duration": 571,
    "start_time": "2021-11-21T00:09:56.543Z"
   },
   {
    "duration": 108,
    "start_time": "2021-11-21T00:16:38.401Z"
   },
   {
    "duration": 113,
    "start_time": "2021-11-21T00:16:49.681Z"
   },
   {
    "duration": 109,
    "start_time": "2021-11-21T00:17:02.134Z"
   },
   {
    "duration": 5,
    "start_time": "2021-11-21T00:22:22.909Z"
   },
   {
    "duration": 364,
    "start_time": "2021-11-21T00:22:30.630Z"
   },
   {
    "duration": 344,
    "start_time": "2021-11-21T00:25:42.530Z"
   },
   {
    "duration": 347,
    "start_time": "2021-11-21T00:26:00.721Z"
   },
   {
    "duration": 345,
    "start_time": "2021-11-21T00:26:16.600Z"
   },
   {
    "duration": 339,
    "start_time": "2021-11-21T00:26:43.172Z"
   },
   {
    "duration": 687,
    "start_time": "2021-11-21T00:26:49.121Z"
   },
   {
    "duration": 1402,
    "start_time": "2021-11-21T00:37:32.615Z"
   },
   {
    "duration": 5,
    "start_time": "2021-11-21T00:37:41.125Z"
   },
   {
    "duration": 4,
    "start_time": "2021-11-21T00:38:08.655Z"
   },
   {
    "duration": 5,
    "start_time": "2021-11-21T00:38:11.798Z"
   },
   {
    "duration": 76,
    "start_time": "2021-11-21T00:39:55.748Z"
   },
   {
    "duration": 69,
    "start_time": "2021-11-21T00:40:10.398Z"
   },
   {
    "duration": 370,
    "start_time": "2021-11-21T00:51:07.969Z"
   },
   {
    "duration": 70,
    "start_time": "2021-11-21T00:51:17.839Z"
   },
   {
    "duration": 78,
    "start_time": "2021-11-21T00:55:06.508Z"
   },
   {
    "duration": 338,
    "start_time": "2021-11-21T00:58:28.358Z"
   },
   {
    "duration": 340,
    "start_time": "2021-11-21T00:58:44.878Z"
   },
   {
    "duration": 109,
    "start_time": "2021-11-21T01:01:21.929Z"
   },
   {
    "duration": 49,
    "start_time": "2021-11-21T01:01:34.018Z"
   },
   {
    "duration": 46,
    "start_time": "2021-11-21T01:01:46.459Z"
   },
   {
    "duration": 138,
    "start_time": "2021-11-21T01:02:18.278Z"
   },
   {
    "duration": 120,
    "start_time": "2021-11-21T01:03:00.107Z"
   },
   {
    "duration": 126,
    "start_time": "2021-11-21T01:03:15.828Z"
   },
   {
    "duration": 78,
    "start_time": "2021-11-21T01:04:59.799Z"
   },
   {
    "duration": 424,
    "start_time": "2021-11-21T01:13:41.329Z"
   },
   {
    "duration": 363,
    "start_time": "2021-11-21T01:14:01.588Z"
   },
   {
    "duration": 350,
    "start_time": "2021-11-21T01:14:15.538Z"
   },
   {
    "duration": 340,
    "start_time": "2021-11-21T01:18:23.573Z"
   },
   {
    "duration": 3,
    "start_time": "2021-11-21T01:18:27.612Z"
   },
   {
    "duration": 359,
    "start_time": "2021-11-21T01:20:30.752Z"
   },
   {
    "duration": 9,
    "start_time": "2021-11-21T01:22:06.519Z"
   },
   {
    "duration": 16,
    "start_time": "2021-11-21T01:22:25.212Z"
   },
   {
    "duration": 16,
    "start_time": "2021-11-21T01:25:10.503Z"
   },
   {
    "duration": 21,
    "start_time": "2021-11-21T01:25:29.072Z"
   },
   {
    "duration": 20,
    "start_time": "2021-11-21T01:26:11.753Z"
   },
   {
    "duration": 544,
    "start_time": "2021-11-21T01:28:09.252Z"
   },
   {
    "duration": 361,
    "start_time": "2021-11-21T01:30:04.732Z"
   },
   {
    "duration": 361,
    "start_time": "2021-11-21T01:30:22.880Z"
   },
   {
    "duration": 10,
    "start_time": "2021-11-21T01:30:28.763Z"
   },
   {
    "duration": 24,
    "start_time": "2021-11-21T01:31:37.077Z"
   },
   {
    "duration": 19,
    "start_time": "2021-11-21T01:31:39.172Z"
   },
   {
    "duration": 339,
    "start_time": "2021-11-21T01:32:12.642Z"
   },
   {
    "duration": 11,
    "start_time": "2021-11-21T01:32:18.324Z"
   },
   {
    "duration": 24,
    "start_time": "2021-11-21T01:33:48.421Z"
   },
   {
    "duration": 408,
    "start_time": "2021-11-21T01:34:56.192Z"
   },
   {
    "duration": 395,
    "start_time": "2021-11-21T01:35:08.952Z"
   },
   {
    "duration": 23,
    "start_time": "2021-11-21T01:35:16.263Z"
   },
   {
    "duration": 367,
    "start_time": "2021-11-21T01:36:10.992Z"
   },
   {
    "duration": 26,
    "start_time": "2021-11-21T01:36:27.782Z"
   },
   {
    "duration": 19,
    "start_time": "2021-11-21T01:41:17.308Z"
   },
   {
    "duration": 25,
    "start_time": "2021-11-21T01:41:27.783Z"
   },
   {
    "duration": 131,
    "start_time": "2021-11-21T01:52:00.921Z"
   },
   {
    "duration": 112,
    "start_time": "2021-11-21T01:52:30.461Z"
   },
   {
    "duration": 354,
    "start_time": "2021-11-21T01:53:52.934Z"
   },
   {
    "duration": 20,
    "start_time": "2021-11-21T01:54:26.711Z"
   },
   {
    "duration": 24,
    "start_time": "2021-11-21T01:54:31.551Z"
   },
   {
    "duration": 372,
    "start_time": "2021-11-21T01:55:49.273Z"
   },
   {
    "duration": 362,
    "start_time": "2021-11-21T01:56:21.991Z"
   },
   {
    "duration": 354,
    "start_time": "2021-11-21T02:00:36.224Z"
   },
   {
    "duration": 536,
    "start_time": "2021-11-21T02:01:25.412Z"
   },
   {
    "duration": 353,
    "start_time": "2021-11-21T02:02:57.660Z"
   },
   {
    "duration": 355,
    "start_time": "2021-11-21T02:05:25.911Z"
   },
   {
    "duration": 307,
    "start_time": "2021-11-21T09:11:20.094Z"
   },
   {
    "duration": 233,
    "start_time": "2021-11-21T09:18:57.795Z"
   },
   {
    "duration": 258,
    "start_time": "2021-11-21T09:25:19.288Z"
   },
   {
    "duration": 239,
    "start_time": "2021-11-21T09:27:30.610Z"
   },
   {
    "duration": 239,
    "start_time": "2021-11-21T09:27:39.770Z"
   },
   {
    "duration": 1324,
    "start_time": "2021-11-21T09:27:54.488Z"
   },
   {
    "duration": 256,
    "start_time": "2021-11-21T09:28:39.268Z"
   },
   {
    "duration": 391,
    "start_time": "2021-11-21T09:29:04.849Z"
   },
   {
    "duration": 378,
    "start_time": "2021-11-21T09:29:13.407Z"
   },
   {
    "duration": 412,
    "start_time": "2021-11-21T09:29:21.620Z"
   },
   {
    "duration": 279,
    "start_time": "2021-11-21T09:39:51.808Z"
   },
   {
    "duration": 244,
    "start_time": "2021-11-21T09:39:59.127Z"
   },
   {
    "duration": 241,
    "start_time": "2021-11-21T09:41:49.329Z"
   },
   {
    "duration": 401,
    "start_time": "2021-11-21T09:54:18.762Z"
   },
   {
    "duration": 371,
    "start_time": "2021-11-21T09:54:33.889Z"
   },
   {
    "duration": 391,
    "start_time": "2021-11-21T09:55:03.170Z"
   },
   {
    "duration": 466,
    "start_time": "2021-11-21T09:55:11.359Z"
   },
   {
    "duration": 377,
    "start_time": "2021-11-21T09:55:25.170Z"
   },
   {
    "duration": 449,
    "start_time": "2021-11-21T09:56:11.562Z"
   },
   {
    "duration": 398,
    "start_time": "2021-11-21T09:56:20.919Z"
   },
   {
    "duration": 375,
    "start_time": "2021-11-21T09:57:09.070Z"
   },
   {
    "duration": 438,
    "start_time": "2021-11-21T09:57:21.950Z"
   },
   {
    "duration": 3,
    "start_time": "2021-11-21T10:05:01.026Z"
   },
   {
    "duration": 141,
    "start_time": "2021-11-21T10:05:05.157Z"
   },
   {
    "duration": 7,
    "start_time": "2021-11-21T10:05:07.847Z"
   },
   {
    "duration": 26,
    "start_time": "2021-11-21T10:05:09.984Z"
   },
   {
    "duration": 24,
    "start_time": "2021-11-21T10:05:33.690Z"
   },
   {
    "duration": 26,
    "start_time": "2021-11-21T10:09:09.563Z"
   },
   {
    "duration": 24,
    "start_time": "2021-11-21T10:09:12.354Z"
   },
   {
    "duration": 25,
    "start_time": "2021-11-21T10:09:14.035Z"
   },
   {
    "duration": 7,
    "start_time": "2021-11-21T10:12:07.033Z"
   },
   {
    "duration": 41,
    "start_time": "2021-11-21T10:14:54.297Z"
   },
   {
    "duration": 35,
    "start_time": "2021-11-21T10:17:58.533Z"
   },
   {
    "duration": 11,
    "start_time": "2021-11-21T10:18:18.875Z"
   },
   {
    "duration": 26,
    "start_time": "2021-11-21T10:24:35.254Z"
   },
   {
    "duration": 12,
    "start_time": "2021-11-21T10:35:15.921Z"
   },
   {
    "duration": 14,
    "start_time": "2021-11-21T10:35:19.055Z"
   },
   {
    "duration": 15,
    "start_time": "2021-11-21T10:35:25.911Z"
   },
   {
    "duration": 14,
    "start_time": "2021-11-21T10:35:28.214Z"
   },
   {
    "duration": 13,
    "start_time": "2021-11-21T10:35:29.472Z"
   },
   {
    "duration": 14,
    "start_time": "2021-11-21T10:35:30.115Z"
   },
   {
    "duration": 14,
    "start_time": "2021-11-21T10:35:30.524Z"
   },
   {
    "duration": 15,
    "start_time": "2021-11-21T10:35:30.902Z"
   },
   {
    "duration": 14,
    "start_time": "2021-11-21T10:37:35.883Z"
   },
   {
    "duration": 24,
    "start_time": "2021-11-21T10:37:51.294Z"
   },
   {
    "duration": 20,
    "start_time": "2021-11-21T10:39:05.324Z"
   },
   {
    "duration": 81,
    "start_time": "2021-11-21T12:51:36.088Z"
   },
   {
    "duration": 82,
    "start_time": "2021-11-21T13:05:18.744Z"
   },
   {
    "duration": 122,
    "start_time": "2021-11-21T13:17:36.965Z"
   },
   {
    "duration": 645,
    "start_time": "2021-11-21T13:17:48.722Z"
   },
   {
    "duration": 119,
    "start_time": "2021-11-21T13:19:45.458Z"
   },
   {
    "duration": 30,
    "start_time": "2021-11-21T13:20:47.476Z"
   },
   {
    "duration": 297,
    "start_time": "2021-11-21T13:26:33.531Z"
   },
   {
    "duration": 392,
    "start_time": "2021-11-21T14:02:14.413Z"
   },
   {
    "duration": 20,
    "start_time": "2021-11-21T14:03:13.502Z"
   },
   {
    "duration": 22,
    "start_time": "2021-11-21T14:16:26.766Z"
   },
   {
    "duration": 22,
    "start_time": "2021-11-21T14:16:56.089Z"
   },
   {
    "duration": 22,
    "start_time": "2021-11-21T14:17:41.813Z"
   },
   {
    "duration": 24,
    "start_time": "2021-11-21T14:18:49.366Z"
   },
   {
    "duration": 27,
    "start_time": "2021-11-21T14:19:04.779Z"
   },
   {
    "duration": 22,
    "start_time": "2021-11-21T14:19:43.764Z"
   },
   {
    "duration": 22,
    "start_time": "2021-11-21T14:19:46.244Z"
   },
   {
    "duration": 24,
    "start_time": "2021-11-21T14:19:48.513Z"
   },
   {
    "duration": 26,
    "start_time": "2021-11-21T14:19:50.749Z"
   },
   {
    "duration": 19,
    "start_time": "2021-11-21T14:24:01.788Z"
   },
   {
    "duration": 18,
    "start_time": "2021-11-21T14:24:06.325Z"
   },
   {
    "duration": 18,
    "start_time": "2021-11-21T14:24:07.445Z"
   },
   {
    "duration": 17,
    "start_time": "2021-11-21T14:24:08.315Z"
   },
   {
    "duration": 538,
    "start_time": "2021-11-21T15:01:04.096Z"
   },
   {
    "duration": 298,
    "start_time": "2021-11-21T17:28:56.004Z"
   },
   {
    "duration": 304,
    "start_time": "2021-11-21T17:29:08.411Z"
   },
   {
    "duration": 247,
    "start_time": "2021-11-21T17:29:26.874Z"
   },
   {
    "duration": 4,
    "start_time": "2021-11-21T17:29:47.478Z"
   },
   {
    "duration": 272,
    "start_time": "2021-11-21T17:30:40.103Z"
   },
   {
    "duration": 256,
    "start_time": "2021-11-21T17:33:11.548Z"
   },
   {
    "duration": 231,
    "start_time": "2021-11-21T17:49:07.769Z"
   },
   {
    "duration": 297,
    "start_time": "2021-11-21T17:50:11.689Z"
   },
   {
    "duration": 309,
    "start_time": "2021-11-21T18:03:39.203Z"
   },
   {
    "duration": 3,
    "start_time": "2021-11-21T18:04:04.021Z"
   },
   {
    "duration": 2,
    "start_time": "2021-11-21T18:04:04.341Z"
   },
   {
    "duration": 242,
    "start_time": "2021-11-21T18:04:59.581Z"
   },
   {
    "duration": 254,
    "start_time": "2021-11-21T18:10:47.918Z"
   },
   {
    "duration": 268,
    "start_time": "2021-11-21T18:14:38.602Z"
   },
   {
    "duration": 277,
    "start_time": "2021-11-21T18:14:50.380Z"
   },
   {
    "duration": 281,
    "start_time": "2021-11-21T18:18:00.266Z"
   },
   {
    "duration": 261,
    "start_time": "2021-11-21T18:19:13.766Z"
   },
   {
    "duration": 247,
    "start_time": "2021-11-21T18:19:20.559Z"
   },
   {
    "duration": 766,
    "start_time": "2021-11-22T04:12:51.215Z"
   },
   {
    "duration": 198,
    "start_time": "2021-11-22T04:12:51.984Z"
   },
   {
    "duration": 10,
    "start_time": "2021-11-22T04:12:52.185Z"
   },
   {
    "duration": 35,
    "start_time": "2021-11-22T04:12:52.198Z"
   },
   {
    "duration": 5,
    "start_time": "2021-11-22T04:12:52.235Z"
   },
   {
    "duration": 53,
    "start_time": "2021-11-22T04:12:52.242Z"
   },
   {
    "duration": 6,
    "start_time": "2021-11-22T04:12:52.298Z"
   },
   {
    "duration": 59,
    "start_time": "2021-11-22T04:12:52.308Z"
   },
   {
    "duration": 67,
    "start_time": "2021-11-22T04:12:52.371Z"
   },
   {
    "duration": 45,
    "start_time": "2021-11-22T04:12:52.441Z"
   },
   {
    "duration": 107,
    "start_time": "2021-11-22T04:12:52.489Z"
   },
   {
    "duration": 109,
    "start_time": "2021-11-22T04:12:52.599Z"
   },
   {
    "duration": 91,
    "start_time": "2021-11-22T04:12:52.710Z"
   },
   {
    "duration": 71,
    "start_time": "2021-11-22T04:12:52.804Z"
   },
   {
    "duration": 4,
    "start_time": "2021-11-22T04:12:52.878Z"
   },
   {
    "duration": 7,
    "start_time": "2021-11-22T04:12:52.884Z"
   },
   {
    "duration": 80,
    "start_time": "2021-11-22T04:12:52.893Z"
   },
   {
    "duration": 584,
    "start_time": "2021-11-22T04:12:52.975Z"
   },
   {
    "duration": -59,
    "start_time": "2021-11-22T04:12:53.621Z"
   },
   {
    "duration": -70,
    "start_time": "2021-11-22T04:12:53.633Z"
   },
   {
    "duration": -72,
    "start_time": "2021-11-22T04:12:53.637Z"
   },
   {
    "duration": -91,
    "start_time": "2021-11-22T04:12:53.657Z"
   },
   {
    "duration": -94,
    "start_time": "2021-11-22T04:12:53.662Z"
   },
   {
    "duration": -103,
    "start_time": "2021-11-22T04:12:53.672Z"
   },
   {
    "duration": -108,
    "start_time": "2021-11-22T04:12:53.678Z"
   },
   {
    "duration": -150,
    "start_time": "2021-11-22T04:12:53.721Z"
   },
   {
    "duration": -157,
    "start_time": "2021-11-22T04:12:53.730Z"
   },
   {
    "duration": -163,
    "start_time": "2021-11-22T04:12:53.737Z"
   },
   {
    "duration": -166,
    "start_time": "2021-11-22T04:12:53.741Z"
   },
   {
    "duration": -181,
    "start_time": "2021-11-22T04:12:53.757Z"
   },
   {
    "duration": -195,
    "start_time": "2021-11-22T04:12:53.773Z"
   },
   {
    "duration": -199,
    "start_time": "2021-11-22T04:12:53.778Z"
   },
   {
    "duration": -210,
    "start_time": "2021-11-22T04:12:53.790Z"
   },
   {
    "duration": -216,
    "start_time": "2021-11-22T04:12:53.797Z"
   },
   {
    "duration": -231,
    "start_time": "2021-11-22T04:12:53.814Z"
   },
   {
    "duration": -236,
    "start_time": "2021-11-22T04:12:53.820Z"
   },
   {
    "duration": -247,
    "start_time": "2021-11-22T04:12:53.832Z"
   },
   {
    "duration": -258,
    "start_time": "2021-11-22T04:12:53.844Z"
   },
   {
    "duration": 408,
    "start_time": "2021-11-22T04:42:37.475Z"
   },
   {
    "duration": 39,
    "start_time": "2021-11-22T04:42:46.856Z"
   },
   {
    "duration": 35,
    "start_time": "2021-11-22T04:42:50.170Z"
   },
   {
    "duration": 31,
    "start_time": "2021-11-22T04:43:33.295Z"
   },
   {
    "duration": 18,
    "start_time": "2021-11-22T04:47:13.738Z"
   },
   {
    "duration": 16,
    "start_time": "2021-11-22T04:48:18.225Z"
   },
   {
    "duration": 43,
    "start_time": "2021-11-22T04:50:49.663Z"
   },
   {
    "duration": 26,
    "start_time": "2021-11-22T04:50:55.845Z"
   },
   {
    "duration": 24,
    "start_time": "2021-11-22T04:50:57.969Z"
   },
   {
    "duration": 25,
    "start_time": "2021-11-22T04:50:58.765Z"
   },
   {
    "duration": 20,
    "start_time": "2021-11-22T04:50:59.382Z"
   },
   {
    "duration": 23,
    "start_time": "2021-11-22T04:50:59.983Z"
   },
   {
    "duration": 20,
    "start_time": "2021-11-22T04:51:00.574Z"
   },
   {
    "duration": 367,
    "start_time": "2021-11-22T04:51:05.352Z"
   },
   {
    "duration": -39,
    "start_time": "2021-11-22T04:51:05.762Z"
   },
   {
    "duration": -42,
    "start_time": "2021-11-22T04:51:05.767Z"
   },
   {
    "duration": -79,
    "start_time": "2021-11-22T04:51:05.806Z"
   },
   {
    "duration": -84,
    "start_time": "2021-11-22T04:51:05.813Z"
   },
   {
    "duration": -89,
    "start_time": "2021-11-22T04:51:05.820Z"
   },
   {
    "duration": -92,
    "start_time": "2021-11-22T04:51:05.825Z"
   },
   {
    "duration": -102,
    "start_time": "2021-11-22T04:51:05.838Z"
   },
   {
    "duration": -106,
    "start_time": "2021-11-22T04:51:05.844Z"
   },
   {
    "duration": -110,
    "start_time": "2021-11-22T04:51:05.851Z"
   },
   {
    "duration": -113,
    "start_time": "2021-11-22T04:51:05.856Z"
   },
   {
    "duration": -126,
    "start_time": "2021-11-22T04:51:05.871Z"
   },
   {
    "duration": 33,
    "start_time": "2021-11-22T04:54:20.553Z"
   },
   {
    "duration": 512,
    "start_time": "2021-11-22T04:54:20.590Z"
   },
   {
    "duration": 122,
    "start_time": "2021-11-22T04:54:21.106Z"
   },
   {
    "duration": 83,
    "start_time": "2021-11-22T04:54:21.232Z"
   },
   {
    "duration": 104,
    "start_time": "2021-11-22T04:54:21.318Z"
   },
   {
    "duration": 100,
    "start_time": "2021-11-22T04:54:21.425Z"
   },
   {
    "duration": 85,
    "start_time": "2021-11-22T04:54:21.528Z"
   },
   {
    "duration": 545,
    "start_time": "2021-11-22T04:54:21.616Z"
   },
   {
    "duration": -73,
    "start_time": "2021-11-22T04:54:22.237Z"
   },
   {
    "duration": -97,
    "start_time": "2021-11-22T04:54:22.262Z"
   },
   {
    "duration": -101,
    "start_time": "2021-11-22T04:54:22.268Z"
   },
   {
    "duration": 57,
    "start_time": "2021-11-22T04:57:59.570Z"
   },
   {
    "duration": 25,
    "start_time": "2021-11-22T04:59:00.869Z"
   },
   {
    "duration": 12,
    "start_time": "2021-11-22T05:04:27.213Z"
   },
   {
    "duration": 1141,
    "start_time": "2021-11-22T09:16:54.771Z"
   },
   {
    "duration": 302,
    "start_time": "2021-11-22T09:17:37.212Z"
   },
   {
    "duration": 248,
    "start_time": "2021-11-22T09:17:49.783Z"
   },
   {
    "duration": 244,
    "start_time": "2021-11-22T09:18:07.914Z"
   },
   {
    "duration": 269,
    "start_time": "2021-11-22T09:18:34.540Z"
   },
   {
    "duration": 2,
    "start_time": "2021-11-22T09:21:17.554Z"
   },
   {
    "duration": 3,
    "start_time": "2021-11-22T09:21:21.543Z"
   },
   {
    "duration": 418,
    "start_time": "2021-11-22T09:21:25.439Z"
   },
   {
    "duration": 5,
    "start_time": "2021-11-22T09:21:33.802Z"
   },
   {
    "duration": 292,
    "start_time": "2021-11-22T09:43:02.333Z"
   },
   {
    "duration": 125,
    "start_time": "2021-11-22T14:30:39.523Z"
   },
   {
    "duration": 449,
    "start_time": "2021-11-22T14:30:49.572Z"
   },
   {
    "duration": 810,
    "start_time": "2021-11-22T14:33:15.903Z"
   },
   {
    "duration": 394,
    "start_time": "2021-11-22T14:33:18.822Z"
   },
   {
    "duration": 194,
    "start_time": "2021-11-22T14:33:28.140Z"
   },
   {
    "duration": 30,
    "start_time": "2021-11-22T14:33:32.772Z"
   },
   {
    "duration": 33,
    "start_time": "2021-11-22T14:35:09.214Z"
   },
   {
    "duration": 15,
    "start_time": "2021-11-22T14:35:18.756Z"
   },
   {
    "duration": 130,
    "start_time": "2021-11-22T14:36:09.115Z"
   },
   {
    "duration": 108,
    "start_time": "2021-11-22T14:36:18.274Z"
   },
   {
    "duration": -502,
    "start_time": "2021-11-22T14:40:04.375Z"
   },
   {
    "duration": 6,
    "start_time": "2021-11-22T14:40:12.596Z"
   },
   {
    "duration": 107,
    "start_time": "2021-11-22T14:40:26.591Z"
   },
   {
    "duration": 16,
    "start_time": "2021-11-22T14:40:30.693Z"
   },
   {
    "duration": 611,
    "start_time": "2021-11-22T21:15:49.612Z"
   },
   {
    "duration": 132,
    "start_time": "2021-11-22T21:15:50.225Z"
   },
   {
    "duration": 17,
    "start_time": "2021-11-22T21:15:50.359Z"
   },
   {
    "duration": 22,
    "start_time": "2021-11-22T21:15:50.378Z"
   },
   {
    "duration": 7,
    "start_time": "2021-11-22T21:15:50.402Z"
   },
   {
    "duration": 43,
    "start_time": "2021-11-22T21:15:50.411Z"
   },
   {
    "duration": 7,
    "start_time": "2021-11-22T21:15:50.456Z"
   },
   {
    "duration": 41,
    "start_time": "2021-11-22T21:15:50.464Z"
   },
   {
    "duration": 37,
    "start_time": "2021-11-22T21:15:50.509Z"
   },
   {
    "duration": 22,
    "start_time": "2021-11-22T21:15:50.549Z"
   },
   {
    "duration": 71,
    "start_time": "2021-11-22T21:15:50.573Z"
   },
   {
    "duration": 69,
    "start_time": "2021-11-22T21:15:50.646Z"
   },
   {
    "duration": 65,
    "start_time": "2021-11-22T21:15:50.717Z"
   },
   {
    "duration": 41,
    "start_time": "2021-11-22T21:15:50.784Z"
   },
   {
    "duration": 4,
    "start_time": "2021-11-22T21:15:50.827Z"
   },
   {
    "duration": 3,
    "start_time": "2021-11-22T21:15:50.845Z"
   },
   {
    "duration": 44,
    "start_time": "2021-11-22T21:15:50.850Z"
   },
   {
    "duration": 302,
    "start_time": "2021-11-22T21:15:50.896Z"
   },
   {
    "duration": -300,
    "start_time": "2021-11-22T21:15:51.500Z"
   },
   {
    "duration": -317,
    "start_time": "2021-11-22T21:15:51.519Z"
   },
   {
    "duration": -327,
    "start_time": "2021-11-22T21:15:51.530Z"
   },
   {
    "duration": -330,
    "start_time": "2021-11-22T21:15:51.535Z"
   },
   {
    "duration": -339,
    "start_time": "2021-11-22T21:15:51.545Z"
   },
   {
    "duration": -342,
    "start_time": "2021-11-22T21:15:51.549Z"
   },
   {
    "duration": -344,
    "start_time": "2021-11-22T21:15:51.553Z"
   },
   {
    "duration": -352,
    "start_time": "2021-11-22T21:15:51.562Z"
   },
   {
    "duration": -354,
    "start_time": "2021-11-22T21:15:51.566Z"
   },
   {
    "duration": -358,
    "start_time": "2021-11-22T21:15:51.571Z"
   },
   {
    "duration": -366,
    "start_time": "2021-11-22T21:15:51.580Z"
   },
   {
    "duration": -368,
    "start_time": "2021-11-22T21:15:51.584Z"
   },
   {
    "duration": -371,
    "start_time": "2021-11-22T21:15:51.588Z"
   },
   {
    "duration": -379,
    "start_time": "2021-11-22T21:15:51.597Z"
   },
   {
    "duration": -380,
    "start_time": "2021-11-22T21:15:51.600Z"
   },
   {
    "duration": -384,
    "start_time": "2021-11-22T21:15:51.605Z"
   },
   {
    "duration": -390,
    "start_time": "2021-11-22T21:15:51.613Z"
   },
   {
    "duration": -393,
    "start_time": "2021-11-22T21:15:51.617Z"
   },
   {
    "duration": -396,
    "start_time": "2021-11-22T21:15:51.621Z"
   },
   {
    "duration": -402,
    "start_time": "2021-11-22T21:15:51.629Z"
   },
   {
    "duration": 22,
    "start_time": "2021-11-22T21:17:07.703Z"
   },
   {
    "duration": 21,
    "start_time": "2021-11-22T21:17:13.782Z"
   },
   {
    "duration": 364,
    "start_time": "2021-11-26T17:35:56.327Z"
   },
   {
    "duration": 244,
    "start_time": "2021-11-26T17:36:28.092Z"
   },
   {
    "duration": 244,
    "start_time": "2021-11-26T17:41:33.613Z"
   },
   {
    "duration": 244,
    "start_time": "2021-11-26T17:44:42.407Z"
   },
   {
    "duration": 266,
    "start_time": "2021-11-26T17:45:58.776Z"
   },
   {
    "duration": 252,
    "start_time": "2021-11-26T17:46:06.064Z"
   },
   {
    "duration": 254,
    "start_time": "2021-11-26T17:46:23.938Z"
   },
   {
    "duration": 246,
    "start_time": "2021-11-26T17:46:35.787Z"
   },
   {
    "duration": 267,
    "start_time": "2021-11-26T17:46:41.011Z"
   },
   {
    "duration": 251,
    "start_time": "2021-11-26T17:47:05.043Z"
   },
   {
    "duration": 830,
    "start_time": "2021-11-26T17:47:19.693Z"
   },
   {
    "duration": 3,
    "start_time": "2021-11-26T17:47:21.656Z"
   },
   {
    "duration": 5,
    "start_time": "2021-11-26T17:47:23.976Z"
   },
   {
    "duration": 191,
    "start_time": "2021-11-26T17:47:37.891Z"
   },
   {
    "duration": 26,
    "start_time": "2021-11-26T17:47:42.455Z"
   },
   {
    "duration": 32,
    "start_time": "2021-11-26T17:47:51.848Z"
   },
   {
    "duration": 6,
    "start_time": "2021-11-26T17:48:06.930Z"
   },
   {
    "duration": 272,
    "start_time": "2021-11-26T17:48:13.496Z"
   },
   {
    "duration": 5,
    "start_time": "2021-11-26T17:48:16.820Z"
   },
   {
    "duration": 26,
    "start_time": "2021-11-26T17:48:54.890Z"
   },
   {
    "duration": 29,
    "start_time": "2021-11-26T17:48:57.724Z"
   },
   {
    "duration": 5,
    "start_time": "2021-11-26T17:49:10.709Z"
   },
   {
    "duration": 6,
    "start_time": "2021-11-26T17:49:21.610Z"
   },
   {
    "duration": 36,
    "start_time": "2021-11-26T17:49:33.509Z"
   },
   {
    "duration": 5,
    "start_time": "2021-11-26T17:50:11.295Z"
   },
   {
    "duration": 5,
    "start_time": "2021-11-26T17:50:14.805Z"
   },
   {
    "duration": 6,
    "start_time": "2021-11-26T17:50:22.640Z"
   },
   {
    "duration": 30,
    "start_time": "2021-11-26T17:52:05.655Z"
   },
   {
    "duration": 19,
    "start_time": "2021-11-26T17:52:09.764Z"
   },
   {
    "duration": 18,
    "start_time": "2021-11-26T17:52:16.490Z"
   },
   {
    "duration": 32,
    "start_time": "2021-11-26T17:52:20.970Z"
   },
   {
    "duration": 83,
    "start_time": "2021-11-26T17:54:52.225Z"
   },
   {
    "duration": 208,
    "start_time": "2021-11-26T17:55:38.330Z"
   },
   {
    "duration": 76,
    "start_time": "2021-11-26T18:01:37.764Z"
   },
   {
    "duration": 57,
    "start_time": "2021-11-26T18:01:46.626Z"
   },
   {
    "duration": 4,
    "start_time": "2021-11-26T18:01:59.699Z"
   },
   {
    "duration": 5,
    "start_time": "2021-11-26T18:08:50.890Z"
   },
   {
    "duration": 3,
    "start_time": "2021-11-26T18:09:15.251Z"
   },
   {
    "duration": 59,
    "start_time": "2021-11-26T18:09:28.506Z"
   },
   {
    "duration": 60,
    "start_time": "2021-11-26T18:10:11.896Z"
   },
   {
    "duration": 59,
    "start_time": "2021-11-26T18:13:11.489Z"
   },
   {
    "duration": 195,
    "start_time": "2021-11-26T18:14:44.531Z"
   },
   {
    "duration": 74,
    "start_time": "2021-11-26T18:14:49.529Z"
   },
   {
    "duration": 59,
    "start_time": "2021-11-26T18:16:38.768Z"
   },
   {
    "duration": 59,
    "start_time": "2021-11-26T18:18:25.965Z"
   },
   {
    "duration": 58,
    "start_time": "2021-11-26T18:18:29.006Z"
   },
   {
    "duration": 325,
    "start_time": "2021-11-26T18:59:15.457Z"
   },
   {
    "duration": 16,
    "start_time": "2021-11-26T19:00:28.282Z"
   },
   {
    "duration": 234,
    "start_time": "2021-11-26T20:50:15.454Z"
   },
   {
    "duration": 265,
    "start_time": "2021-11-26T20:50:19.275Z"
   },
   {
    "duration": 246,
    "start_time": "2021-11-26T20:50:22.073Z"
   },
   {
    "duration": 246,
    "start_time": "2021-11-26T20:50:24.465Z"
   },
   {
    "duration": 243,
    "start_time": "2021-11-26T20:50:29.017Z"
   },
   {
    "duration": 24,
    "start_time": "2021-11-26T20:51:11.069Z"
   },
   {
    "duration": 20,
    "start_time": "2021-11-26T20:51:16.105Z"
   },
   {
    "duration": 21,
    "start_time": "2021-11-26T20:51:19.759Z"
   },
   {
    "duration": 20,
    "start_time": "2021-11-26T20:51:22.737Z"
   },
   {
    "duration": 228,
    "start_time": "2021-11-26T20:51:26.595Z"
   },
   {
    "duration": 25,
    "start_time": "2021-11-26T20:51:41.665Z"
   },
   {
    "duration": 18,
    "start_time": "2021-11-26T20:51:49.542Z"
   },
   {
    "duration": 19,
    "start_time": "2021-11-26T20:51:54.814Z"
   },
   {
    "duration": 20,
    "start_time": "2021-11-26T20:51:58.106Z"
   },
   {
    "duration": 20,
    "start_time": "2021-11-26T20:52:05.575Z"
   },
   {
    "duration": 266,
    "start_time": "2021-11-26T20:52:12.253Z"
   },
   {
    "duration": 22,
    "start_time": "2021-11-26T20:52:25.588Z"
   },
   {
    "duration": 17,
    "start_time": "2021-11-26T20:52:39.665Z"
   },
   {
    "duration": 9,
    "start_time": "2021-11-26T20:53:46.465Z"
   },
   {
    "duration": 29,
    "start_time": "2021-11-26T20:55:38.576Z"
   },
   {
    "duration": 30,
    "start_time": "2021-11-26T20:55:41.356Z"
   },
   {
    "duration": 32,
    "start_time": "2021-11-26T20:55:48.103Z"
   },
   {
    "duration": 31,
    "start_time": "2021-11-26T20:55:52.537Z"
   },
   {
    "duration": 27,
    "start_time": "2021-11-26T20:56:05.625Z"
   },
   {
    "duration": 9,
    "start_time": "2021-11-26T20:56:13.117Z"
   },
   {
    "duration": 32,
    "start_time": "2021-11-26T20:59:08.165Z"
   },
   {
    "duration": 37,
    "start_time": "2021-11-26T20:59:44.343Z"
   },
   {
    "duration": 30,
    "start_time": "2021-11-26T20:59:51.547Z"
   },
   {
    "duration": 21,
    "start_time": "2021-11-26T21:00:08.424Z"
   },
   {
    "duration": 22,
    "start_time": "2021-11-26T21:00:10.340Z"
   },
   {
    "duration": 17,
    "start_time": "2021-11-26T21:00:12.790Z"
   },
   {
    "duration": 285,
    "start_time": "2021-11-26T21:02:22.237Z"
   },
   {
    "duration": 13,
    "start_time": "2021-11-26T21:03:39.539Z"
   },
   {
    "duration": 285,
    "start_time": "2021-11-26T21:05:14.103Z"
   },
   {
    "duration": 13,
    "start_time": "2021-11-26T21:05:46.035Z"
   },
   {
    "duration": 269,
    "start_time": "2021-11-26T21:05:54.787Z"
   },
   {
    "duration": 13,
    "start_time": "2021-11-26T21:07:01.100Z"
   },
   {
    "duration": 3,
    "start_time": "2021-11-26T21:08:24.171Z"
   },
   {
    "duration": 191,
    "start_time": "2021-11-26T21:08:28.045Z"
   },
   {
    "duration": 15,
    "start_time": "2021-11-26T21:08:31.468Z"
   },
   {
    "duration": 31,
    "start_time": "2021-11-26T21:08:34.946Z"
   },
   {
    "duration": 6,
    "start_time": "2021-11-26T21:08:48.526Z"
   },
   {
    "duration": 29,
    "start_time": "2021-11-26T21:08:54.614Z"
   },
   {
    "duration": 7,
    "start_time": "2021-11-26T21:08:56.555Z"
   },
   {
    "duration": 30,
    "start_time": "2021-11-26T21:09:01.316Z"
   },
   {
    "duration": 21,
    "start_time": "2021-11-26T21:09:07.606Z"
   },
   {
    "duration": 31,
    "start_time": "2021-11-26T21:09:17.784Z"
   },
   {
    "duration": 82,
    "start_time": "2021-11-26T21:09:22.895Z"
   },
   {
    "duration": 210,
    "start_time": "2021-11-26T21:09:27.624Z"
   },
   {
    "duration": 73,
    "start_time": "2021-11-26T21:09:36.005Z"
   },
   {
    "duration": 69,
    "start_time": "2021-11-26T21:09:55.475Z"
   },
   {
    "duration": 4,
    "start_time": "2021-11-26T21:10:04.606Z"
   },
   {
    "duration": 4,
    "start_time": "2021-11-26T21:10:16.325Z"
   },
   {
    "duration": 4,
    "start_time": "2021-11-26T21:10:18.334Z"
   },
   {
    "duration": 57,
    "start_time": "2021-11-26T21:10:25.225Z"
   },
   {
    "duration": 35,
    "start_time": "2021-11-26T21:10:39.075Z"
   },
   {
    "duration": 15,
    "start_time": "2021-11-26T21:10:50.546Z"
   },
   {
    "duration": 36,
    "start_time": "2021-11-26T21:11:07.734Z"
   },
   {
    "duration": 22,
    "start_time": "2021-11-26T21:11:14.640Z"
   },
   {
    "duration": 18,
    "start_time": "2021-11-26T21:11:15.736Z"
   },
   {
    "duration": 20,
    "start_time": "2021-11-26T21:11:16.773Z"
   },
   {
    "duration": 18,
    "start_time": "2021-11-26T21:11:19.401Z"
   },
   {
    "duration": 21,
    "start_time": "2021-11-26T21:11:20.256Z"
   },
   {
    "duration": 28,
    "start_time": "2021-11-26T21:11:21.036Z"
   },
   {
    "duration": 9,
    "start_time": "2021-11-26T21:11:29.253Z"
   },
   {
    "duration": 30,
    "start_time": "2021-11-26T21:11:38.243Z"
   },
   {
    "duration": 33,
    "start_time": "2021-11-26T21:11:46.304Z"
   },
   {
    "duration": 33,
    "start_time": "2021-11-26T21:12:22.997Z"
   },
   {
    "duration": 43,
    "start_time": "2021-11-26T21:12:26.111Z"
   },
   {
    "duration": 24,
    "start_time": "2021-11-26T21:12:30.017Z"
   },
   {
    "duration": 17,
    "start_time": "2021-11-26T21:12:32.946Z"
   },
   {
    "duration": 24,
    "start_time": "2021-11-26T21:12:33.955Z"
   },
   {
    "duration": 20,
    "start_time": "2021-11-26T21:12:36.737Z"
   },
   {
    "duration": 294,
    "start_time": "2021-11-26T21:12:42.621Z"
   },
   {
    "duration": 12,
    "start_time": "2021-11-26T21:12:59.205Z"
   },
   {
    "duration": 349,
    "start_time": "2021-11-26T21:13:01.978Z"
   },
   {
    "duration": 13,
    "start_time": "2021-11-26T21:13:08.587Z"
   },
   {
    "duration": 20,
    "start_time": "2021-11-26T21:13:45.419Z"
   },
   {
    "duration": 17,
    "start_time": "2021-11-26T21:13:47.368Z"
   },
   {
    "duration": 29,
    "start_time": "2021-11-26T21:13:56.467Z"
   },
   {
    "duration": 91,
    "start_time": "2021-11-26T21:14:01.395Z"
   },
   {
    "duration": 31,
    "start_time": "2021-11-26T21:14:46.717Z"
   },
   {
    "duration": 19,
    "start_time": "2021-11-26T21:14:55.386Z"
   },
   {
    "duration": 25,
    "start_time": "2021-11-26T21:15:03.429Z"
   },
   {
    "duration": 19,
    "start_time": "2021-11-26T21:15:10.574Z"
   },
   {
    "duration": 16,
    "start_time": "2021-11-26T21:15:16.285Z"
   },
   {
    "duration": 843,
    "start_time": "2021-11-26T21:21:17.131Z"
   },
   {
    "duration": 191,
    "start_time": "2021-11-26T21:21:17.976Z"
   },
   {
    "duration": 25,
    "start_time": "2021-11-26T21:21:18.170Z"
   },
   {
    "duration": 49,
    "start_time": "2021-11-26T21:21:18.198Z"
   },
   {
    "duration": 5,
    "start_time": "2021-11-26T21:21:18.250Z"
   },
   {
    "duration": 32,
    "start_time": "2021-11-26T21:21:18.257Z"
   },
   {
    "duration": 5,
    "start_time": "2021-11-26T21:21:18.292Z"
   },
   {
    "duration": 55,
    "start_time": "2021-11-26T21:21:18.301Z"
   },
   {
    "duration": 19,
    "start_time": "2021-11-26T21:21:18.359Z"
   },
   {
    "duration": 56,
    "start_time": "2021-11-26T21:21:18.380Z"
   },
   {
    "duration": 95,
    "start_time": "2021-11-26T21:21:18.438Z"
   },
   {
    "duration": 202,
    "start_time": "2021-11-26T21:21:18.536Z"
   },
   {
    "duration": 76,
    "start_time": "2021-11-26T21:21:18.740Z"
   },
   {
    "duration": 57,
    "start_time": "2021-11-26T21:21:18.829Z"
   },
   {
    "duration": 6,
    "start_time": "2021-11-26T21:21:18.888Z"
   },
   {
    "duration": 13,
    "start_time": "2021-11-26T21:21:18.896Z"
   },
   {
    "duration": 58,
    "start_time": "2021-11-26T21:21:18.929Z"
   },
   {
    "duration": 356,
    "start_time": "2021-11-26T21:21:18.989Z"
   },
   {
    "duration": -171,
    "start_time": "2021-11-26T21:21:19.519Z"
   },
   {
    "duration": -176,
    "start_time": "2021-11-26T21:21:19.525Z"
   },
   {
    "duration": -180,
    "start_time": "2021-11-26T21:21:19.531Z"
   },
   {
    "duration": -183,
    "start_time": "2021-11-26T21:21:19.535Z"
   },
   {
    "duration": -186,
    "start_time": "2021-11-26T21:21:19.539Z"
   },
   {
    "duration": -190,
    "start_time": "2021-11-26T21:21:19.544Z"
   },
   {
    "duration": -193,
    "start_time": "2021-11-26T21:21:19.548Z"
   },
   {
    "duration": -194,
    "start_time": "2021-11-26T21:21:19.551Z"
   },
   {
    "duration": -204,
    "start_time": "2021-11-26T21:21:19.562Z"
   },
   {
    "duration": -207,
    "start_time": "2021-11-26T21:21:19.566Z"
   },
   {
    "duration": -210,
    "start_time": "2021-11-26T21:21:19.570Z"
   },
   {
    "duration": -211,
    "start_time": "2021-11-26T21:21:19.573Z"
   },
   {
    "duration": -215,
    "start_time": "2021-11-26T21:21:19.578Z"
   },
   {
    "duration": -218,
    "start_time": "2021-11-26T21:21:19.582Z"
   },
   {
    "duration": -220,
    "start_time": "2021-11-26T21:21:19.585Z"
   },
   {
    "duration": -223,
    "start_time": "2021-11-26T21:21:19.589Z"
   },
   {
    "duration": -226,
    "start_time": "2021-11-26T21:21:19.593Z"
   },
   {
    "duration": -228,
    "start_time": "2021-11-26T21:21:19.597Z"
   },
   {
    "duration": -231,
    "start_time": "2021-11-26T21:21:19.601Z"
   },
   {
    "duration": -234,
    "start_time": "2021-11-26T21:21:19.605Z"
   },
   {
    "duration": 28,
    "start_time": "2021-11-26T21:27:35.316Z"
   },
   {
    "duration": 24,
    "start_time": "2021-11-26T21:27:44.141Z"
   },
   {
    "duration": 29,
    "start_time": "2021-11-26T21:28:23.765Z"
   },
   {
    "duration": 263,
    "start_time": "2021-11-26T21:36:48.860Z"
   },
   {
    "duration": 271,
    "start_time": "2021-11-26T21:36:53.411Z"
   },
   {
    "duration": 14,
    "start_time": "2021-11-26T21:37:01.935Z"
   },
   {
    "duration": 3,
    "start_time": "2021-11-26T21:37:17.686Z"
   },
   {
    "duration": 213,
    "start_time": "2021-11-26T21:37:17.691Z"
   },
   {
    "duration": 36,
    "start_time": "2021-11-26T21:37:17.907Z"
   },
   {
    "duration": 37,
    "start_time": "2021-11-26T21:37:17.945Z"
   },
   {
    "duration": 5,
    "start_time": "2021-11-26T21:37:17.985Z"
   },
   {
    "duration": 51,
    "start_time": "2021-11-26T21:37:17.992Z"
   },
   {
    "duration": 6,
    "start_time": "2021-11-26T21:37:18.046Z"
   },
   {
    "duration": 34,
    "start_time": "2021-11-26T21:37:18.055Z"
   },
   {
    "duration": 51,
    "start_time": "2021-11-26T21:37:18.093Z"
   },
   {
    "duration": 31,
    "start_time": "2021-11-26T21:37:18.146Z"
   },
   {
    "duration": 109,
    "start_time": "2021-11-26T21:37:18.179Z"
   },
   {
    "duration": 206,
    "start_time": "2021-11-26T21:37:18.290Z"
   },
   {
    "duration": 88,
    "start_time": "2021-11-26T21:37:18.498Z"
   },
   {
    "duration": 71,
    "start_time": "2021-11-26T21:37:18.588Z"
   },
   {
    "duration": 5,
    "start_time": "2021-11-26T21:37:18.662Z"
   },
   {
    "duration": 11,
    "start_time": "2021-11-26T21:37:18.670Z"
   },
   {
    "duration": 91,
    "start_time": "2021-11-26T21:37:18.684Z"
   },
   {
    "duration": 303,
    "start_time": "2021-11-26T21:37:18.777Z"
   },
   {
    "duration": -197,
    "start_time": "2021-11-26T21:37:19.281Z"
   },
   {
    "duration": -204,
    "start_time": "2021-11-26T21:37:19.290Z"
   },
   {
    "duration": -209,
    "start_time": "2021-11-26T21:37:19.296Z"
   },
   {
    "duration": -212,
    "start_time": "2021-11-26T21:37:19.300Z"
   },
   {
    "duration": -215,
    "start_time": "2021-11-26T21:37:19.305Z"
   },
   {
    "duration": -218,
    "start_time": "2021-11-26T21:37:19.309Z"
   },
   {
    "duration": -221,
    "start_time": "2021-11-26T21:37:19.313Z"
   },
   {
    "duration": -230,
    "start_time": "2021-11-26T21:37:19.324Z"
   },
   {
    "duration": -235,
    "start_time": "2021-11-26T21:37:19.330Z"
   },
   {
    "duration": -238,
    "start_time": "2021-11-26T21:37:19.334Z"
   },
   {
    "duration": -240,
    "start_time": "2021-11-26T21:37:19.337Z"
   },
   {
    "duration": -242,
    "start_time": "2021-11-26T21:37:19.341Z"
   },
   {
    "duration": -245,
    "start_time": "2021-11-26T21:37:19.345Z"
   },
   {
    "duration": -247,
    "start_time": "2021-11-26T21:37:19.348Z"
   },
   {
    "duration": -249,
    "start_time": "2021-11-26T21:37:19.352Z"
   },
   {
    "duration": -252,
    "start_time": "2021-11-26T21:37:19.356Z"
   },
   {
    "duration": -255,
    "start_time": "2021-11-26T21:37:19.361Z"
   },
   {
    "duration": -258,
    "start_time": "2021-11-26T21:37:19.365Z"
   },
   {
    "duration": -260,
    "start_time": "2021-11-26T21:37:19.368Z"
   },
   {
    "duration": -270,
    "start_time": "2021-11-26T21:37:19.379Z"
   },
   {
    "duration": 38,
    "start_time": "2021-11-26T21:38:06.146Z"
   },
   {
    "duration": 33,
    "start_time": "2021-11-26T21:38:08.509Z"
   },
   {
    "duration": 18,
    "start_time": "2021-11-26T21:38:09.456Z"
   },
   {
    "duration": 20,
    "start_time": "2021-11-26T21:38:10.504Z"
   },
   {
    "duration": 20,
    "start_time": "2021-11-26T21:38:11.416Z"
   },
   {
    "duration": 23,
    "start_time": "2021-11-26T21:38:12.097Z"
   },
   {
    "duration": 18,
    "start_time": "2021-11-26T21:38:12.719Z"
   },
   {
    "duration": 10,
    "start_time": "2021-11-26T21:38:15.279Z"
   },
   {
    "duration": 736,
    "start_time": "2021-11-26T21:38:44.062Z"
   },
   {
    "duration": 189,
    "start_time": "2021-11-26T21:38:44.801Z"
   },
   {
    "duration": 36,
    "start_time": "2021-11-26T21:38:44.993Z"
   },
   {
    "duration": 33,
    "start_time": "2021-11-26T21:38:45.031Z"
   },
   {
    "duration": 9,
    "start_time": "2021-11-26T21:38:45.067Z"
   },
   {
    "duration": 52,
    "start_time": "2021-11-26T21:38:45.079Z"
   },
   {
    "duration": 13,
    "start_time": "2021-11-26T21:38:45.133Z"
   },
   {
    "duration": 32,
    "start_time": "2021-11-26T21:38:45.150Z"
   },
   {
    "duration": 20,
    "start_time": "2021-11-26T21:38:45.185Z"
   },
   {
    "duration": 30,
    "start_time": "2021-11-26T21:38:45.230Z"
   },
   {
    "duration": 109,
    "start_time": "2021-11-26T21:38:45.263Z"
   },
   {
    "duration": 220,
    "start_time": "2021-11-26T21:38:45.375Z"
   },
   {
    "duration": 93,
    "start_time": "2021-11-26T21:38:45.598Z"
   },
   {
    "duration": 65,
    "start_time": "2021-11-26T21:38:45.694Z"
   },
   {
    "duration": 4,
    "start_time": "2021-11-26T21:38:45.762Z"
   },
   {
    "duration": 8,
    "start_time": "2021-11-26T21:38:45.768Z"
   },
   {
    "duration": 86,
    "start_time": "2021-11-26T21:38:45.779Z"
   },
   {
    "duration": 345,
    "start_time": "2021-11-26T21:38:45.867Z"
   },
   {
    "duration": -137,
    "start_time": "2021-11-26T21:38:46.352Z"
   },
   {
    "duration": -162,
    "start_time": "2021-11-26T21:38:46.379Z"
   },
   {
    "duration": -174,
    "start_time": "2021-11-26T21:38:46.393Z"
   },
   {
    "duration": -177,
    "start_time": "2021-11-26T21:38:46.397Z"
   },
   {
    "duration": -180,
    "start_time": "2021-11-26T21:38:46.402Z"
   },
   {
    "duration": -184,
    "start_time": "2021-11-26T21:38:46.408Z"
   },
   {
    "duration": -186,
    "start_time": "2021-11-26T21:38:46.412Z"
   },
   {
    "duration": -189,
    "start_time": "2021-11-26T21:38:46.417Z"
   },
   {
    "duration": -204,
    "start_time": "2021-11-26T21:38:46.433Z"
   },
   {
    "duration": -210,
    "start_time": "2021-11-26T21:38:46.440Z"
   },
   {
    "duration": -213,
    "start_time": "2021-11-26T21:38:46.445Z"
   },
   {
    "duration": -215,
    "start_time": "2021-11-26T21:38:46.449Z"
   },
   {
    "duration": -221,
    "start_time": "2021-11-26T21:38:46.456Z"
   },
   {
    "duration": -225,
    "start_time": "2021-11-26T21:38:46.461Z"
   },
   {
    "duration": -227,
    "start_time": "2021-11-26T21:38:46.465Z"
   },
   {
    "duration": -230,
    "start_time": "2021-11-26T21:38:46.469Z"
   },
   {
    "duration": -242,
    "start_time": "2021-11-26T21:38:46.482Z"
   },
   {
    "duration": -245,
    "start_time": "2021-11-26T21:38:46.487Z"
   },
   {
    "duration": -251,
    "start_time": "2021-11-26T21:38:46.494Z"
   },
   {
    "duration": -254,
    "start_time": "2021-11-26T21:38:46.498Z"
   },
   {
    "duration": 13,
    "start_time": "2021-11-26T21:39:24.981Z"
   },
   {
    "duration": 43,
    "start_time": "2021-11-26T21:40:04.424Z"
   },
   {
    "duration": 20,
    "start_time": "2021-11-26T21:40:16.666Z"
   },
   {
    "duration": 3,
    "start_time": "2021-11-26T21:40:34.661Z"
   },
   {
    "duration": 198,
    "start_time": "2021-11-26T21:40:35.143Z"
   },
   {
    "duration": 15,
    "start_time": "2021-11-26T21:40:35.619Z"
   },
   {
    "duration": 35,
    "start_time": "2021-11-26T21:40:36.119Z"
   },
   {
    "duration": 6,
    "start_time": "2021-11-26T21:40:37.086Z"
   },
   {
    "duration": 22,
    "start_time": "2021-11-26T21:40:37.611Z"
   },
   {
    "duration": 6,
    "start_time": "2021-11-26T21:40:38.111Z"
   },
   {
    "duration": 31,
    "start_time": "2021-11-26T21:40:38.621Z"
   },
   {
    "duration": 19,
    "start_time": "2021-11-26T21:40:39.272Z"
   },
   {
    "duration": 30,
    "start_time": "2021-11-26T21:40:39.797Z"
   },
   {
    "duration": 84,
    "start_time": "2021-11-26T21:40:40.333Z"
   },
   {
    "duration": 194,
    "start_time": "2021-11-26T21:40:40.861Z"
   },
   {
    "duration": 74,
    "start_time": "2021-11-26T21:40:41.403Z"
   },
   {
    "duration": 62,
    "start_time": "2021-11-26T21:40:42.088Z"
   },
   {
    "duration": 4,
    "start_time": "2021-11-26T21:40:42.747Z"
   },
   {
    "duration": 4,
    "start_time": "2021-11-26T21:40:43.372Z"
   },
   {
    "duration": 61,
    "start_time": "2021-11-26T21:40:43.891Z"
   },
   {
    "duration": 35,
    "start_time": "2021-11-26T21:40:45.255Z"
   },
   {
    "duration": 15,
    "start_time": "2021-11-26T21:40:45.781Z"
   },
   {
    "duration": 38,
    "start_time": "2021-11-26T21:40:46.497Z"
   },
   {
    "duration": 23,
    "start_time": "2021-11-26T21:40:46.871Z"
   },
   {
    "duration": 18,
    "start_time": "2021-11-26T21:40:47.103Z"
   },
   {
    "duration": 21,
    "start_time": "2021-11-26T21:40:47.321Z"
   },
   {
    "duration": 18,
    "start_time": "2021-11-26T21:40:47.527Z"
   },
   {
    "duration": 21,
    "start_time": "2021-11-26T21:40:47.710Z"
   },
   {
    "duration": 19,
    "start_time": "2021-11-26T21:40:47.931Z"
   },
   {
    "duration": 12,
    "start_time": "2021-11-26T21:40:48.680Z"
   },
   {
    "duration": 26,
    "start_time": "2021-11-26T21:40:50.029Z"
   },
   {
    "duration": 24,
    "start_time": "2021-11-26T21:40:50.471Z"
   },
   {
    "duration": 32,
    "start_time": "2021-11-26T21:40:51.123Z"
   },
   {
    "duration": 31,
    "start_time": "2021-11-26T21:40:51.820Z"
   },
   {
    "duration": 20,
    "start_time": "2021-11-26T21:40:52.027Z"
   },
   {
    "duration": 24,
    "start_time": "2021-11-26T21:40:52.244Z"
   },
   {
    "duration": 16,
    "start_time": "2021-11-26T21:40:52.462Z"
   },
   {
    "duration": 301,
    "start_time": "2021-11-26T21:40:53.521Z"
   },
   {
    "duration": 12,
    "start_time": "2021-11-26T21:40:56.110Z"
   },
   {
    "duration": 290,
    "start_time": "2021-11-26T21:40:58.551Z"
   },
   {
    "duration": 14,
    "start_time": "2021-11-26T21:41:01.563Z"
   },
   {
    "duration": 781,
    "start_time": "2021-11-26T21:44:37.692Z"
   },
   {
    "duration": 201,
    "start_time": "2021-11-26T21:44:38.476Z"
   },
   {
    "duration": 26,
    "start_time": "2021-11-26T21:44:38.680Z"
   },
   {
    "duration": 50,
    "start_time": "2021-11-26T21:44:38.708Z"
   },
   {
    "duration": 5,
    "start_time": "2021-11-26T21:44:38.761Z"
   },
   {
    "duration": 33,
    "start_time": "2021-11-26T21:44:38.769Z"
   },
   {
    "duration": 26,
    "start_time": "2021-11-26T21:44:38.805Z"
   },
   {
    "duration": 33,
    "start_time": "2021-11-26T21:44:38.835Z"
   },
   {
    "duration": 19,
    "start_time": "2021-11-26T21:44:38.871Z"
   },
   {
    "duration": 62,
    "start_time": "2021-11-26T21:44:38.893Z"
   },
   {
    "duration": 101,
    "start_time": "2021-11-26T21:44:38.957Z"
   },
   {
    "duration": 209,
    "start_time": "2021-11-26T21:44:39.061Z"
   },
   {
    "duration": 83,
    "start_time": "2021-11-26T21:44:39.272Z"
   },
   {
    "duration": 72,
    "start_time": "2021-11-26T21:44:39.358Z"
   },
   {
    "duration": 4,
    "start_time": "2021-11-26T21:44:39.433Z"
   },
   {
    "duration": 6,
    "start_time": "2021-11-26T21:44:39.439Z"
   },
   {
    "duration": 60,
    "start_time": "2021-11-26T21:44:39.447Z"
   },
   {
    "duration": 358,
    "start_time": "2021-11-26T21:44:39.529Z"
   },
   {
    "duration": -137,
    "start_time": "2021-11-26T21:44:40.028Z"
   },
   {
    "duration": -141,
    "start_time": "2021-11-26T21:44:40.033Z"
   },
   {
    "duration": -144,
    "start_time": "2021-11-26T21:44:40.037Z"
   },
   {
    "duration": -148,
    "start_time": "2021-11-26T21:44:40.043Z"
   },
   {
    "duration": -151,
    "start_time": "2021-11-26T21:44:40.047Z"
   },
   {
    "duration": -153,
    "start_time": "2021-11-26T21:44:40.051Z"
   },
   {
    "duration": -163,
    "start_time": "2021-11-26T21:44:40.062Z"
   },
   {
    "duration": -167,
    "start_time": "2021-11-26T21:44:40.067Z"
   },
   {
    "duration": -171,
    "start_time": "2021-11-26T21:44:40.072Z"
   },
   {
    "duration": -174,
    "start_time": "2021-11-26T21:44:40.077Z"
   },
   {
    "duration": -177,
    "start_time": "2021-11-26T21:44:40.081Z"
   },
   {
    "duration": -179,
    "start_time": "2021-11-26T21:44:40.085Z"
   },
   {
    "duration": -183,
    "start_time": "2021-11-26T21:44:40.090Z"
   },
   {
    "duration": -185,
    "start_time": "2021-11-26T21:44:40.094Z"
   },
   {
    "duration": -188,
    "start_time": "2021-11-26T21:44:40.098Z"
   },
   {
    "duration": -191,
    "start_time": "2021-11-26T21:44:40.102Z"
   },
   {
    "duration": -194,
    "start_time": "2021-11-26T21:44:40.107Z"
   },
   {
    "duration": -197,
    "start_time": "2021-11-26T21:44:40.111Z"
   },
   {
    "duration": -199,
    "start_time": "2021-11-26T21:44:40.115Z"
   },
   {
    "duration": -202,
    "start_time": "2021-11-26T21:44:40.119Z"
   },
   {
    "duration": 779,
    "start_time": "2021-11-27T05:34:02.112Z"
   },
   {
    "duration": 188,
    "start_time": "2021-11-27T05:34:02.894Z"
   },
   {
    "duration": 26,
    "start_time": "2021-11-27T05:34:03.085Z"
   },
   {
    "duration": 33,
    "start_time": "2021-11-27T05:34:03.114Z"
   },
   {
    "duration": 34,
    "start_time": "2021-11-27T05:34:03.149Z"
   },
   {
    "duration": 27,
    "start_time": "2021-11-27T05:34:03.186Z"
   },
   {
    "duration": 11,
    "start_time": "2021-11-27T05:34:03.215Z"
   },
   {
    "duration": 52,
    "start_time": "2021-11-27T05:34:03.231Z"
   },
   {
    "duration": 19,
    "start_time": "2021-11-27T05:34:03.287Z"
   },
   {
    "duration": 32,
    "start_time": "2021-11-27T05:34:03.309Z"
   },
   {
    "duration": 151,
    "start_time": "2021-11-27T05:34:03.344Z"
   },
   {
    "duration": 294,
    "start_time": "2021-11-27T05:34:03.498Z"
   },
   {
    "duration": 121,
    "start_time": "2021-11-27T05:34:03.796Z"
   },
   {
    "duration": 109,
    "start_time": "2021-11-27T05:34:03.920Z"
   },
   {
    "duration": 5,
    "start_time": "2021-11-27T05:34:04.032Z"
   },
   {
    "duration": 9,
    "start_time": "2021-11-27T05:34:04.040Z"
   },
   {
    "duration": 84,
    "start_time": "2021-11-27T05:34:04.052Z"
   },
   {
    "duration": 507,
    "start_time": "2021-11-27T05:34:04.138Z"
   },
   {
    "duration": -95,
    "start_time": "2021-11-27T05:34:04.743Z"
   },
   {
    "duration": -100,
    "start_time": "2021-11-27T05:34:04.750Z"
   },
   {
    "duration": -104,
    "start_time": "2021-11-27T05:34:04.756Z"
   },
   {
    "duration": -108,
    "start_time": "2021-11-27T05:34:04.763Z"
   },
   {
    "duration": -141,
    "start_time": "2021-11-27T05:34:04.798Z"
   },
   {
    "duration": -146,
    "start_time": "2021-11-27T05:34:04.805Z"
   },
   {
    "duration": -151,
    "start_time": "2021-11-27T05:34:04.812Z"
   },
   {
    "duration": -156,
    "start_time": "2021-11-27T05:34:04.819Z"
   },
   {
    "duration": -161,
    "start_time": "2021-11-27T05:34:04.826Z"
   },
   {
    "duration": -165,
    "start_time": "2021-11-27T05:34:04.832Z"
   },
   {
    "duration": -170,
    "start_time": "2021-11-27T05:34:04.839Z"
   },
   {
    "duration": -173,
    "start_time": "2021-11-27T05:34:04.844Z"
   },
   {
    "duration": -179,
    "start_time": "2021-11-27T05:34:04.852Z"
   },
   {
    "duration": -185,
    "start_time": "2021-11-27T05:34:04.860Z"
   },
   {
    "duration": -191,
    "start_time": "2021-11-27T05:34:04.868Z"
   },
   {
    "duration": -194,
    "start_time": "2021-11-27T05:34:04.873Z"
   },
   {
    "duration": -201,
    "start_time": "2021-11-27T05:34:04.882Z"
   },
   {
    "duration": -204,
    "start_time": "2021-11-27T05:34:04.887Z"
   },
   {
    "duration": -208,
    "start_time": "2021-11-27T05:34:04.893Z"
   },
   {
    "duration": -213,
    "start_time": "2021-11-27T05:34:04.900Z"
   },
   {
    "duration": 75,
    "start_time": "2021-11-27T12:08:53.246Z"
   },
   {
    "duration": 2,
    "start_time": "2021-11-27T12:09:37.226Z"
   },
   {
    "duration": 4,
    "start_time": "2021-11-27T12:09:39.396Z"
   },
   {
    "duration": 273,
    "start_time": "2021-11-27T12:27:09.601Z"
   },
   {
    "duration": 231,
    "start_time": "2021-11-27T12:28:45.466Z"
   },
   {
    "duration": 561,
    "start_time": "2021-11-27T12:32:50.304Z"
   },
   {
    "duration": 132,
    "start_time": "2021-11-27T12:32:50.867Z"
   },
   {
    "duration": 20,
    "start_time": "2021-11-27T12:32:51.002Z"
   },
   {
    "duration": 23,
    "start_time": "2021-11-27T12:32:51.024Z"
   },
   {
    "duration": 5,
    "start_time": "2021-11-27T12:32:51.048Z"
   },
   {
    "duration": 46,
    "start_time": "2021-11-27T12:32:51.054Z"
   },
   {
    "duration": 4,
    "start_time": "2021-11-27T12:32:51.103Z"
   },
   {
    "duration": 24,
    "start_time": "2021-11-27T12:32:51.109Z"
   },
   {
    "duration": 14,
    "start_time": "2021-11-27T12:32:51.135Z"
   },
   {
    "duration": 23,
    "start_time": "2021-11-27T12:32:51.151Z"
   },
   {
    "duration": 75,
    "start_time": "2021-11-27T12:32:51.176Z"
   },
   {
    "duration": 125,
    "start_time": "2021-11-27T12:32:51.253Z"
   },
   {
    "duration": 48,
    "start_time": "2021-11-27T12:32:51.379Z"
   },
   {
    "duration": 36,
    "start_time": "2021-11-27T12:32:51.428Z"
   },
   {
    "duration": 96,
    "start_time": "2021-11-27T12:32:51.466Z"
   },
   {
    "duration": -670,
    "start_time": "2021-11-27T12:32:52.234Z"
   },
   {
    "duration": -674,
    "start_time": "2021-11-27T12:32:52.239Z"
   },
   {
    "duration": -686,
    "start_time": "2021-11-27T12:32:52.253Z"
   },
   {
    "duration": -690,
    "start_time": "2021-11-27T12:32:52.258Z"
   },
   {
    "duration": -694,
    "start_time": "2021-11-27T12:32:52.264Z"
   },
   {
    "duration": -706,
    "start_time": "2021-11-27T12:32:52.277Z"
   },
   {
    "duration": -711,
    "start_time": "2021-11-27T12:32:52.283Z"
   },
   {
    "duration": -714,
    "start_time": "2021-11-27T12:32:52.287Z"
   },
   {
    "duration": -720,
    "start_time": "2021-11-27T12:32:52.295Z"
   },
   {
    "duration": -725,
    "start_time": "2021-11-27T12:32:52.301Z"
   },
   {
    "duration": -736,
    "start_time": "2021-11-27T12:32:52.314Z"
   },
   {
    "duration": -740,
    "start_time": "2021-11-27T12:32:52.319Z"
   },
   {
    "duration": -744,
    "start_time": "2021-11-27T12:32:52.324Z"
   },
   {
    "duration": -747,
    "start_time": "2021-11-27T12:32:52.329Z"
   },
   {
    "duration": -752,
    "start_time": "2021-11-27T12:32:52.335Z"
   },
   {
    "duration": -755,
    "start_time": "2021-11-27T12:32:52.339Z"
   },
   {
    "duration": -829,
    "start_time": "2021-11-27T12:32:52.415Z"
   },
   {
    "duration": -832,
    "start_time": "2021-11-27T12:32:52.419Z"
   },
   {
    "duration": -835,
    "start_time": "2021-11-27T12:32:52.424Z"
   },
   {
    "duration": -839,
    "start_time": "2021-11-27T12:32:52.429Z"
   },
   {
    "duration": -843,
    "start_time": "2021-11-27T12:32:52.435Z"
   },
   {
    "duration": -846,
    "start_time": "2021-11-27T12:32:52.438Z"
   },
   {
    "duration": -851,
    "start_time": "2021-11-27T12:32:52.444Z"
   },
   {
    "duration": 12,
    "start_time": "2021-11-27T12:35:20.151Z"
   },
   {
    "duration": 12,
    "start_time": "2021-11-27T12:35:23.323Z"
   },
   {
    "duration": 13,
    "start_time": "2021-11-27T12:35:25.133Z"
   },
   {
    "duration": 12,
    "start_time": "2021-11-27T12:35:27.410Z"
   },
   {
    "duration": 632,
    "start_time": "2021-11-28T11:23:54.044Z"
   },
   {
    "duration": 156,
    "start_time": "2021-11-28T11:23:54.678Z"
   },
   {
    "duration": 18,
    "start_time": "2021-11-28T11:23:54.837Z"
   },
   {
    "duration": 46,
    "start_time": "2021-11-28T11:23:54.864Z"
   },
   {
    "duration": 36,
    "start_time": "2021-11-28T11:23:54.912Z"
   },
   {
    "duration": 62,
    "start_time": "2021-11-28T11:23:54.950Z"
   },
   {
    "duration": 50,
    "start_time": "2021-11-28T11:23:55.014Z"
   },
   {
    "duration": 67,
    "start_time": "2021-11-28T11:23:55.067Z"
   },
   {
    "duration": 64,
    "start_time": "2021-11-28T11:23:55.136Z"
   },
   {
    "duration": 85,
    "start_time": "2021-11-28T11:23:55.202Z"
   },
   {
    "duration": 119,
    "start_time": "2021-11-28T11:23:55.288Z"
   },
   {
    "duration": 174,
    "start_time": "2021-11-28T11:23:55.408Z"
   },
   {
    "duration": 52,
    "start_time": "2021-11-28T11:23:55.584Z"
   },
   {
    "duration": 55,
    "start_time": "2021-11-28T11:23:55.638Z"
   },
   {
    "duration": 136,
    "start_time": "2021-11-28T11:23:55.695Z"
   },
   {
    "duration": -83,
    "start_time": "2021-11-28T11:23:55.916Z"
   },
   {
    "duration": -87,
    "start_time": "2021-11-28T11:23:55.921Z"
   },
   {
    "duration": -89,
    "start_time": "2021-11-28T11:23:55.925Z"
   },
   {
    "duration": -94,
    "start_time": "2021-11-28T11:23:55.931Z"
   },
   {
    "duration": -98,
    "start_time": "2021-11-28T11:23:55.936Z"
   },
   {
    "duration": -102,
    "start_time": "2021-11-28T11:23:55.941Z"
   },
   {
    "duration": -113,
    "start_time": "2021-11-28T11:23:55.953Z"
   },
   {
    "duration": -116,
    "start_time": "2021-11-28T11:23:55.957Z"
   },
   {
    "duration": -119,
    "start_time": "2021-11-28T11:23:55.961Z"
   },
   {
    "duration": -123,
    "start_time": "2021-11-28T11:23:55.966Z"
   },
   {
    "duration": -127,
    "start_time": "2021-11-28T11:23:55.971Z"
   },
   {
    "duration": -131,
    "start_time": "2021-11-28T11:23:55.976Z"
   },
   {
    "duration": -135,
    "start_time": "2021-11-28T11:23:55.981Z"
   },
   {
    "duration": -139,
    "start_time": "2021-11-28T11:23:55.986Z"
   },
   {
    "duration": -142,
    "start_time": "2021-11-28T11:23:55.990Z"
   },
   {
    "duration": -146,
    "start_time": "2021-11-28T11:23:55.995Z"
   },
   {
    "duration": -149,
    "start_time": "2021-11-28T11:23:55.999Z"
   },
   {
    "duration": -152,
    "start_time": "2021-11-28T11:23:56.003Z"
   },
   {
    "duration": -155,
    "start_time": "2021-11-28T11:23:56.007Z"
   },
   {
    "duration": -158,
    "start_time": "2021-11-28T11:23:56.011Z"
   },
   {
    "duration": -162,
    "start_time": "2021-11-28T11:23:56.016Z"
   },
   {
    "duration": -165,
    "start_time": "2021-11-28T11:23:56.020Z"
   },
   {
    "duration": -167,
    "start_time": "2021-11-28T11:23:56.024Z"
   },
   {
    "duration": 3,
    "start_time": "2021-11-28T11:43:10.044Z"
   },
   {
    "duration": 45,
    "start_time": "2021-11-28T11:43:10.050Z"
   },
   {
    "duration": 346,
    "start_time": "2021-11-28T11:43:10.097Z"
   },
   {
    "duration": -67,
    "start_time": "2021-11-28T11:43:10.512Z"
   },
   {
    "duration": -82,
    "start_time": "2021-11-28T11:43:10.528Z"
   },
   {
    "duration": -87,
    "start_time": "2021-11-28T11:43:10.535Z"
   },
   {
    "duration": -102,
    "start_time": "2021-11-28T11:43:10.550Z"
   },
   {
    "duration": -107,
    "start_time": "2021-11-28T11:43:10.557Z"
   },
   {
    "duration": -112,
    "start_time": "2021-11-28T11:43:10.562Z"
   },
   {
    "duration": -116,
    "start_time": "2021-11-28T11:43:10.567Z"
   },
   {
    "duration": -122,
    "start_time": "2021-11-28T11:43:10.574Z"
   },
   {
    "duration": -126,
    "start_time": "2021-11-28T11:43:10.579Z"
   },
   {
    "duration": -131,
    "start_time": "2021-11-28T11:43:10.584Z"
   },
   {
    "duration": -137,
    "start_time": "2021-11-28T11:43:10.591Z"
   },
   {
    "duration": -142,
    "start_time": "2021-11-28T11:43:10.597Z"
   },
   {
    "duration": -145,
    "start_time": "2021-11-28T11:43:10.601Z"
   },
   {
    "duration": -151,
    "start_time": "2021-11-28T11:43:10.607Z"
   },
   {
    "duration": -156,
    "start_time": "2021-11-28T11:43:10.613Z"
   },
   {
    "duration": -160,
    "start_time": "2021-11-28T11:43:10.618Z"
   },
   {
    "duration": -165,
    "start_time": "2021-11-28T11:43:10.624Z"
   },
   {
    "duration": -181,
    "start_time": "2021-11-28T11:43:10.641Z"
   },
   {
    "duration": -185,
    "start_time": "2021-11-28T11:43:10.646Z"
   },
   {
    "duration": -189,
    "start_time": "2021-11-28T11:43:10.651Z"
   },
   {
    "duration": 12,
    "start_time": "2021-11-28T11:50:04.936Z"
   },
   {
    "duration": 31,
    "start_time": "2021-11-28T11:50:04.951Z"
   },
   {
    "duration": 16,
    "start_time": "2021-11-28T11:50:04.984Z"
   },
   {
    "duration": 15,
    "start_time": "2021-11-28T11:50:05.002Z"
   },
   {
    "duration": 45,
    "start_time": "2021-11-28T11:50:05.019Z"
   },
   {
    "duration": 15,
    "start_time": "2021-11-28T11:50:05.066Z"
   },
   {
    "duration": 19,
    "start_time": "2021-11-28T11:50:05.083Z"
   },
   {
    "duration": 15,
    "start_time": "2021-11-28T11:50:05.105Z"
   },
   {
    "duration": 9,
    "start_time": "2021-11-28T11:50:05.122Z"
   },
   {
    "duration": 19,
    "start_time": "2021-11-28T11:50:05.164Z"
   },
   {
    "duration": 17,
    "start_time": "2021-11-28T11:50:05.185Z"
   },
   {
    "duration": 27,
    "start_time": "2021-11-28T11:50:05.203Z"
   },
   {
    "duration": 48,
    "start_time": "2021-11-28T11:50:05.232Z"
   },
   {
    "duration": 13,
    "start_time": "2021-11-28T11:50:05.281Z"
   },
   {
    "duration": 17,
    "start_time": "2021-11-28T11:50:05.296Z"
   },
   {
    "duration": 12,
    "start_time": "2021-11-28T11:50:05.315Z"
   },
   {
    "duration": 280,
    "start_time": "2021-11-28T11:50:05.364Z"
   },
   {
    "duration": -63,
    "start_time": "2021-11-28T11:50:05.709Z"
   },
   {
    "duration": -66,
    "start_time": "2021-11-28T11:50:05.714Z"
   },
   {
    "duration": -70,
    "start_time": "2021-11-28T11:50:05.719Z"
   },
   {
    "duration": 9,
    "start_time": "2021-11-28T12:03:19.901Z"
   },
   {
    "duration": 276,
    "start_time": "2021-11-28T12:03:28.365Z"
   },
   {
    "duration": 11,
    "start_time": "2021-11-28T12:03:30.484Z"
   },
   {
    "duration": 469,
    "start_time": "2021-11-28T13:06:12.047Z"
   },
   {
    "duration": 610,
    "start_time": "2021-11-28T13:06:21.321Z"
   },
   {
    "duration": 156,
    "start_time": "2021-11-28T13:06:24.270Z"
   },
   {
    "duration": 18,
    "start_time": "2021-11-28T13:06:27.887Z"
   },
   {
    "duration": 11,
    "start_time": "2021-11-28T13:06:45.051Z"
   },
   {
    "duration": 26,
    "start_time": "2021-11-28T13:37:42.992Z"
   },
   {
    "duration": 5,
    "start_time": "2021-11-28T13:38:06.063Z"
   },
   {
    "duration": 11,
    "start_time": "2021-11-28T13:40:26.131Z"
   },
   {
    "duration": -2407,
    "start_time": "2021-11-28T13:41:23.889Z"
   },
   {
    "duration": 28,
    "start_time": "2021-11-28T13:45:33.418Z"
   },
   {
    "duration": 26,
    "start_time": "2021-11-28T13:45:42.716Z"
   },
   {
    "duration": 66,
    "start_time": "2021-11-28T13:45:44.011Z"
   },
   {
    "duration": 173,
    "start_time": "2021-11-28T13:45:55.465Z"
   },
   {
    "duration": 67,
    "start_time": "2021-11-28T13:46:21.831Z"
   },
   {
    "duration": 44,
    "start_time": "2021-11-28T13:46:29.880Z"
   },
   {
    "duration": 83,
    "start_time": "2021-11-28T13:47:49.428Z"
   },
   {
    "duration": 78,
    "start_time": "2021-11-28T13:49:02.562Z"
   },
   {
    "duration": 3,
    "start_time": "2021-11-28T13:50:49.160Z"
   },
   {
    "duration": 3,
    "start_time": "2021-11-28T13:52:28.579Z"
   },
   {
    "duration": 4,
    "start_time": "2021-11-28T13:52:31.787Z"
   },
   {
    "duration": 4,
    "start_time": "2021-11-28T13:52:33.428Z"
   },
   {
    "duration": 4,
    "start_time": "2021-11-28T13:53:59.439Z"
   },
   {
    "duration": 3,
    "start_time": "2021-11-28T13:54:42.485Z"
   },
   {
    "duration": 44,
    "start_time": "2021-11-28T14:08:22.068Z"
   },
   {
    "duration": 5,
    "start_time": "2021-11-28T14:08:55.162Z"
   },
   {
    "duration": 21,
    "start_time": "2021-11-28T14:08:57.236Z"
   },
   {
    "duration": 4,
    "start_time": "2021-11-28T14:09:00.813Z"
   },
   {
    "duration": 24,
    "start_time": "2021-11-28T14:09:08.257Z"
   },
   {
    "duration": 14,
    "start_time": "2021-11-28T14:09:18.088Z"
   },
   {
    "duration": 22,
    "start_time": "2021-11-28T14:10:45.571Z"
   },
   {
    "duration": 68,
    "start_time": "2021-11-28T14:10:51.077Z"
   },
   {
    "duration": 137,
    "start_time": "2021-11-28T14:24:11.670Z"
   },
   {
    "duration": 52,
    "start_time": "2021-11-28T14:24:16.856Z"
   },
   {
    "duration": 42,
    "start_time": "2021-11-28T14:24:45.877Z"
   },
   {
    "duration": 3,
    "start_time": "2021-11-28T14:25:04.493Z"
   },
   {
    "duration": 3,
    "start_time": "2021-11-28T14:25:10.592Z"
   },
   {
    "duration": 42,
    "start_time": "2021-11-28T14:25:13.522Z"
   },
   {
    "duration": 240,
    "start_time": "2021-11-28T14:25:24.718Z"
   },
   {
    "duration": 12,
    "start_time": "2021-11-28T14:31:47.571Z"
   },
   {
    "duration": 12,
    "start_time": "2021-11-28T14:43:58.270Z"
   },
   {
    "duration": 18,
    "start_time": "2021-11-28T14:44:32.405Z"
   },
   {
    "duration": 18,
    "start_time": "2021-11-28T14:44:42.058Z"
   },
   {
    "duration": 29,
    "start_time": "2021-11-28T14:47:51.631Z"
   },
   {
    "duration": 33,
    "start_time": "2021-11-28T14:48:29.544Z"
   },
   {
    "duration": 31,
    "start_time": "2021-11-28T14:50:44.636Z"
   },
   {
    "duration": 34,
    "start_time": "2021-11-28T15:09:39.033Z"
   },
   {
    "duration": 19,
    "start_time": "2021-11-28T15:09:53.405Z"
   },
   {
    "duration": 18,
    "start_time": "2021-11-28T15:11:40.834Z"
   },
   {
    "duration": 18,
    "start_time": "2021-11-28T15:12:00.260Z"
   },
   {
    "duration": 16,
    "start_time": "2021-11-28T15:12:01.862Z"
   },
   {
    "duration": 25,
    "start_time": "2021-11-28T15:12:02.692Z"
   },
   {
    "duration": 23,
    "start_time": "2021-11-28T15:12:05.245Z"
   },
   {
    "duration": 27,
    "start_time": "2021-11-28T15:12:06.326Z"
   },
   {
    "duration": 22,
    "start_time": "2021-11-28T15:12:09.637Z"
   },
   {
    "duration": 4,
    "start_time": "2021-11-28T15:13:33.155Z"
   },
   {
    "duration": 3,
    "start_time": "2021-11-28T15:13:35.098Z"
   },
   {
    "duration": 3,
    "start_time": "2021-11-28T15:14:27.640Z"
   },
   {
    "duration": 15,
    "start_time": "2021-11-28T15:25:20.015Z"
   },
   {
    "duration": -495,
    "start_time": "2021-11-28T15:30:08.385Z"
   },
   {
    "duration": -596,
    "start_time": "2021-11-28T15:30:18.057Z"
   },
   {
    "duration": 6891,
    "start_time": "2021-11-28T15:30:26.796Z"
   },
   {
    "duration": 15,
    "start_time": "2021-11-28T15:30:48.186Z"
   },
   {
    "duration": -495,
    "start_time": "2021-11-28T15:36:22.994Z"
   },
   {
    "duration": 6710,
    "start_time": "2021-11-28T15:36:23.886Z"
   },
   {
    "duration": 7054,
    "start_time": "2021-11-28T15:36:48.233Z"
   },
   {
    "duration": -1164,
    "start_time": "2021-11-28T15:37:14.647Z"
   },
   {
    "duration": -459,
    "start_time": "2021-11-28T15:37:30.204Z"
   },
   {
    "duration": 7301,
    "start_time": "2021-11-28T15:37:42.864Z"
   },
   {
    "duration": 7787,
    "start_time": "2021-11-28T15:38:56.183Z"
   },
   {
    "duration": 14,
    "start_time": "2021-11-28T15:39:17.953Z"
   },
   {
    "duration": 30,
    "start_time": "2021-11-28T15:39:27.744Z"
   },
   {
    "duration": 14,
    "start_time": "2021-11-28T15:39:29.911Z"
   },
   {
    "duration": -1437,
    "start_time": "2021-11-28T15:40:03.912Z"
   },
   {
    "duration": 6229,
    "start_time": "2021-11-28T15:40:30.755Z"
   },
   {
    "duration": 14,
    "start_time": "2021-11-28T15:40:44.436Z"
   },
   {
    "duration": 23,
    "start_time": "2021-11-28T15:41:31.064Z"
   },
   {
    "duration": 82,
    "start_time": "2021-11-28T15:42:18.125Z"
   },
   {
    "duration": 84,
    "start_time": "2021-11-28T15:49:14.424Z"
   },
   {
    "duration": 86,
    "start_time": "2021-11-28T15:49:16.928Z"
   },
   {
    "duration": 81,
    "start_time": "2021-11-28T15:49:18.998Z"
   },
   {
    "duration": 69,
    "start_time": "2021-11-28T15:49:24.439Z"
   },
   {
    "duration": 5,
    "start_time": "2021-11-28T15:49:46.391Z"
   },
   {
    "duration": 3,
    "start_time": "2021-11-28T15:50:15.507Z"
   },
   {
    "duration": 4,
    "start_time": "2021-11-28T15:50:56.281Z"
   },
   {
    "duration": 557,
    "start_time": "2021-11-28T17:07:56.511Z"
   },
   {
    "duration": 155,
    "start_time": "2021-11-28T17:07:58.120Z"
   },
   {
    "duration": 17,
    "start_time": "2021-11-28T17:07:58.505Z"
   },
   {
    "duration": 25,
    "start_time": "2021-11-28T17:08:02.341Z"
   },
   {
    "duration": 4,
    "start_time": "2021-11-28T17:08:02.872Z"
   },
   {
    "duration": 21,
    "start_time": "2021-11-28T17:08:03.412Z"
   },
   {
    "duration": 6,
    "start_time": "2021-11-28T17:08:04.542Z"
   },
   {
    "duration": 24,
    "start_time": "2021-11-28T17:08:05.101Z"
   },
   {
    "duration": 5,
    "start_time": "2021-11-28T17:08:20.495Z"
   },
   {
    "duration": 26,
    "start_time": "2021-11-28T17:08:20.502Z"
   },
   {
    "duration": 4,
    "start_time": "2021-11-28T17:08:22.059Z"
   },
   {
    "duration": 24,
    "start_time": "2021-11-28T17:08:25.475Z"
   },
   {
    "duration": 15,
    "start_time": "2021-11-28T17:08:26.813Z"
   },
   {
    "duration": 23,
    "start_time": "2021-11-28T17:08:29.865Z"
   },
   {
    "duration": 65,
    "start_time": "2021-11-28T17:08:30.707Z"
   },
   {
    "duration": 138,
    "start_time": "2021-11-28T17:08:31.218Z"
   },
   {
    "duration": 55,
    "start_time": "2021-11-28T17:08:31.947Z"
   },
   {
    "duration": 41,
    "start_time": "2021-11-28T17:08:33.295Z"
   },
   {
    "duration": 4,
    "start_time": "2021-11-28T17:08:34.443Z"
   },
   {
    "duration": 305,
    "start_time": "2021-11-28T17:08:35.722Z"
   },
   {
    "duration": 39,
    "start_time": "2021-11-28T17:08:36.335Z"
   },
   {
    "duration": 12,
    "start_time": "2021-11-28T17:08:38.049Z"
   },
   {
    "duration": 12,
    "start_time": "2021-11-28T17:08:38.170Z"
   },
   {
    "duration": 30,
    "start_time": "2021-11-28T17:08:38.956Z"
   },
   {
    "duration": 18,
    "start_time": "2021-11-28T17:08:39.501Z"
   },
   {
    "duration": 16,
    "start_time": "2021-11-28T17:08:40.321Z"
   },
   {
    "duration": 21,
    "start_time": "2021-11-28T17:08:40.510Z"
   },
   {
    "duration": 16,
    "start_time": "2021-11-28T17:08:40.974Z"
   },
   {
    "duration": 17,
    "start_time": "2021-11-28T17:08:41.065Z"
   },
   {
    "duration": 15,
    "start_time": "2021-11-28T17:08:41.263Z"
   },
   {
    "duration": 5,
    "start_time": "2021-11-28T17:09:30.733Z"
   },
   {
    "duration": 19,
    "start_time": "2021-11-28T17:09:34.098Z"
   },
   {
    "duration": 6,
    "start_time": "2021-11-28T17:09:35.150Z"
   },
   {
    "duration": 22,
    "start_time": "2021-11-28T17:09:37.215Z"
   },
   {
    "duration": 16,
    "start_time": "2021-11-28T17:09:38.836Z"
   },
   {
    "duration": 22,
    "start_time": "2021-11-28T17:09:42.559Z"
   },
   {
    "duration": 4,
    "start_time": "2021-11-28T17:10:06.783Z"
   },
   {
    "duration": 4,
    "start_time": "2021-11-28T17:10:48.495Z"
   },
   {
    "duration": 23,
    "start_time": "2021-11-28T17:10:55.428Z"
   },
   {
    "duration": 24,
    "start_time": "2021-11-28T17:11:10.301Z"
   },
   {
    "duration": 14,
    "start_time": "2021-11-28T17:11:25.880Z"
   },
   {
    "duration": 14,
    "start_time": "2021-11-28T17:11:27.854Z"
   },
   {
    "duration": 23,
    "start_time": "2021-11-28T17:11:37.784Z"
   },
   {
    "duration": 51,
    "start_time": "2021-11-28T17:11:42.444Z"
   },
   {
    "duration": 145,
    "start_time": "2021-11-28T17:11:49.858Z"
   },
   {
    "duration": 52,
    "start_time": "2021-11-28T17:14:24.432Z"
   },
   {
    "duration": 44,
    "start_time": "2021-11-28T17:14:31.587Z"
   },
   {
    "duration": 3,
    "start_time": "2021-11-28T17:14:45.998Z"
   },
   {
    "duration": 4,
    "start_time": "2021-11-28T17:14:56.200Z"
   },
   {
    "duration": 4,
    "start_time": "2021-11-28T17:16:41.006Z"
   },
   {
    "duration": 240,
    "start_time": "2021-11-28T17:16:46.447Z"
   },
   {
    "duration": 230,
    "start_time": "2021-11-28T17:18:07.328Z"
   },
   {
    "duration": 3,
    "start_time": "2021-11-28T17:18:23.231Z"
   },
   {
    "duration": 3,
    "start_time": "2021-11-28T17:18:25.352Z"
   },
   {
    "duration": 4,
    "start_time": "2021-11-28T17:18:42.656Z"
   },
   {
    "duration": 41,
    "start_time": "2021-11-28T17:18:49.183Z"
   },
   {
    "duration": 12,
    "start_time": "2021-11-28T17:19:25.498Z"
   },
   {
    "duration": 11,
    "start_time": "2021-11-28T17:20:05.195Z"
   },
   {
    "duration": 31,
    "start_time": "2021-11-28T17:20:21.183Z"
   },
   {
    "duration": 18,
    "start_time": "2021-11-28T17:20:24.785Z"
   },
   {
    "duration": 17,
    "start_time": "2021-11-28T17:20:27.727Z"
   },
   {
    "duration": 18,
    "start_time": "2021-11-28T17:20:29.642Z"
   },
   {
    "duration": 24,
    "start_time": "2021-11-28T17:20:30.021Z"
   },
   {
    "duration": 26,
    "start_time": "2021-11-28T17:20:30.626Z"
   },
   {
    "duration": 24,
    "start_time": "2021-11-28T17:20:31.112Z"
   },
   {
    "duration": 12,
    "start_time": "2021-11-28T17:21:10.180Z"
   },
   {
    "duration": 20,
    "start_time": "2021-11-28T17:21:29.080Z"
   },
   {
    "duration": 18,
    "start_time": "2021-11-28T17:21:52.441Z"
   },
   {
    "duration": 23,
    "start_time": "2021-11-28T17:21:59.264Z"
   },
   {
    "duration": 29,
    "start_time": "2021-11-28T17:22:23.295Z"
   },
   {
    "duration": 19,
    "start_time": "2021-11-28T17:22:23.991Z"
   },
   {
    "duration": 27,
    "start_time": "2021-11-28T17:22:24.625Z"
   },
   {
    "duration": 20,
    "start_time": "2021-11-28T17:22:25.280Z"
   },
   {
    "duration": 27,
    "start_time": "2021-11-28T17:25:23.168Z"
   },
   {
    "duration": 19,
    "start_time": "2021-11-28T17:25:25.531Z"
   },
   {
    "duration": 31,
    "start_time": "2021-11-28T17:25:30.002Z"
   },
   {
    "duration": 20,
    "start_time": "2021-11-28T17:27:04.248Z"
   },
   {
    "duration": 14,
    "start_time": "2021-11-28T17:27:06.597Z"
   },
   {
    "duration": 18,
    "start_time": "2021-11-28T17:27:07.414Z"
   },
   {
    "duration": 14,
    "start_time": "2021-11-28T17:27:08.100Z"
   },
   {
    "duration": 294,
    "start_time": "2021-11-28T17:27:12.227Z"
   },
   {
    "duration": 11,
    "start_time": "2021-11-28T17:41:57.393Z"
   },
   {
    "duration": 12,
    "start_time": "2021-11-28T17:42:14.079Z"
   },
   {
    "duration": 12,
    "start_time": "2021-11-28T17:42:18.664Z"
   },
   {
    "duration": 6,
    "start_time": "2021-11-28T17:52:49.664Z"
   },
   {
    "duration": 10,
    "start_time": "2021-11-28T17:56:02.319Z"
   },
   {
    "duration": 12,
    "start_time": "2021-11-28T17:56:08.240Z"
   },
   {
    "duration": 5,
    "start_time": "2021-11-28T17:56:10.138Z"
   },
   {
    "duration": 2,
    "start_time": "2021-11-28T17:56:24.609Z"
   },
   {
    "duration": 147,
    "start_time": "2021-11-28T17:56:25.078Z"
   },
   {
    "duration": 10,
    "start_time": "2021-11-28T17:56:25.579Z"
   },
   {
    "duration": 25,
    "start_time": "2021-11-28T17:56:25.999Z"
   },
   {
    "duration": 4,
    "start_time": "2021-11-28T17:56:27.148Z"
   },
   {
    "duration": 16,
    "start_time": "2021-11-28T17:56:27.831Z"
   },
   {
    "duration": 4,
    "start_time": "2021-11-28T17:56:28.343Z"
   },
   {
    "duration": 24,
    "start_time": "2021-11-28T17:56:29.060Z"
   },
   {
    "duration": 15,
    "start_time": "2021-11-28T17:56:29.789Z"
   },
   {
    "duration": 24,
    "start_time": "2021-11-28T17:56:30.639Z"
   },
   {
    "duration": 62,
    "start_time": "2021-11-28T17:56:31.389Z"
   },
   {
    "duration": 141,
    "start_time": "2021-11-28T17:56:31.928Z"
   },
   {
    "duration": 56,
    "start_time": "2021-11-28T17:56:32.629Z"
   },
   {
    "duration": 45,
    "start_time": "2021-11-28T17:56:33.719Z"
   },
   {
    "duration": 3,
    "start_time": "2021-11-28T17:56:34.589Z"
   },
   {
    "duration": 3,
    "start_time": "2021-11-28T17:56:35.589Z"
   },
   {
    "duration": 45,
    "start_time": "2021-11-28T17:56:36.148Z"
   },
   {
    "duration": 12,
    "start_time": "2021-11-28T17:56:37.789Z"
   },
   {
    "duration": 11,
    "start_time": "2021-11-28T17:56:38.320Z"
   },
   {
    "duration": 30,
    "start_time": "2021-11-28T17:56:39.070Z"
   },
   {
    "duration": 17,
    "start_time": "2021-11-28T17:56:39.598Z"
   },
   {
    "duration": 15,
    "start_time": "2021-11-28T17:56:40.077Z"
   },
   {
    "duration": 17,
    "start_time": "2021-11-28T17:56:40.296Z"
   },
   {
    "duration": 16,
    "start_time": "2021-11-28T17:56:40.469Z"
   },
   {
    "duration": 17,
    "start_time": "2021-11-28T17:56:40.703Z"
   },
   {
    "duration": 25,
    "start_time": "2021-11-28T17:56:40.904Z"
   },
   {
    "duration": 9,
    "start_time": "2021-11-28T17:56:41.859Z"
   },
   {
    "duration": 18,
    "start_time": "2021-11-28T17:56:43.327Z"
   },
   {
    "duration": 18,
    "start_time": "2021-11-28T17:56:43.949Z"
   },
   {
    "duration": 24,
    "start_time": "2021-11-28T17:56:44.790Z"
   },
   {
    "duration": 21,
    "start_time": "2021-11-28T17:56:45.639Z"
   },
   {
    "duration": 14,
    "start_time": "2021-11-28T17:56:45.828Z"
   },
   {
    "duration": 18,
    "start_time": "2021-11-28T17:56:46.062Z"
   },
   {
    "duration": 13,
    "start_time": "2021-11-28T17:56:46.273Z"
   },
   {
    "duration": 12,
    "start_time": "2021-11-28T17:56:47.502Z"
   },
   {
    "duration": 5,
    "start_time": "2021-11-28T17:56:48.236Z"
   },
   {
    "duration": 10,
    "start_time": "2021-11-28T17:56:48.943Z"
   },
   {
    "duration": 5,
    "start_time": "2021-11-28T17:56:49.383Z"
   },
   {
    "duration": 26,
    "start_time": "2021-11-28T18:02:56.438Z"
   },
   {
    "duration": 52,
    "start_time": "2021-11-28T18:03:03.364Z"
   },
   {
    "duration": 128,
    "start_time": "2021-11-28T18:03:08.584Z"
   },
   {
    "duration": 129,
    "start_time": "2021-11-28T18:03:50.692Z"
   },
   {
    "duration": 52,
    "start_time": "2021-11-28T18:04:14.537Z"
   },
   {
    "duration": 42,
    "start_time": "2021-11-28T18:04:29.630Z"
   },
   {
    "duration": 3,
    "start_time": "2021-11-28T18:04:43.749Z"
   },
   {
    "duration": 3,
    "start_time": "2021-11-28T18:05:13.792Z"
   },
   {
    "duration": 41,
    "start_time": "2021-11-28T18:05:15.914Z"
   },
   {
    "duration": 11,
    "start_time": "2021-11-28T18:05:26.386Z"
   },
   {
    "duration": 13,
    "start_time": "2021-11-28T18:05:29.947Z"
   },
   {
    "duration": 32,
    "start_time": "2021-11-28T18:05:37.985Z"
   },
   {
    "duration": 17,
    "start_time": "2021-11-28T18:05:41.150Z"
   },
   {
    "duration": 20,
    "start_time": "2021-11-28T18:05:42.865Z"
   },
   {
    "duration": 17,
    "start_time": "2021-11-28T18:05:43.927Z"
   },
   {
    "duration": 16,
    "start_time": "2021-11-28T18:05:44.730Z"
   },
   {
    "duration": 30,
    "start_time": "2021-11-28T18:05:45.285Z"
   },
   {
    "duration": 16,
    "start_time": "2021-11-28T18:05:45.730Z"
   },
   {
    "duration": 9,
    "start_time": "2021-11-28T18:05:52.644Z"
   },
   {
    "duration": 20,
    "start_time": "2021-11-28T18:06:04.845Z"
   },
   {
    "duration": 18,
    "start_time": "2021-11-28T18:06:08.880Z"
   },
   {
    "duration": 22,
    "start_time": "2021-11-28T18:06:15.588Z"
   },
   {
    "duration": 21,
    "start_time": "2021-11-28T18:06:23.492Z"
   },
   {
    "duration": 14,
    "start_time": "2021-11-28T18:06:23.927Z"
   },
   {
    "duration": 20,
    "start_time": "2021-11-28T18:06:25.030Z"
   },
   {
    "duration": 14,
    "start_time": "2021-11-28T18:06:26.182Z"
   },
   {
    "duration": 13,
    "start_time": "2021-11-28T18:06:30.396Z"
   },
   {
    "duration": 12,
    "start_time": "2021-11-28T18:06:33.275Z"
   },
   {
    "duration": 5,
    "start_time": "2021-11-28T18:06:43.992Z"
   },
   {
    "duration": 10,
    "start_time": "2021-11-28T18:06:48.317Z"
   },
   {
    "duration": 5,
    "start_time": "2021-11-28T18:06:51.698Z"
   },
   {
    "duration": 309,
    "start_time": "2021-11-28T21:51:01.567Z"
   },
   {
    "duration": 74,
    "start_time": "2021-11-28T21:55:00.062Z"
   },
   {
    "duration": 53,
    "start_time": "2021-11-28T21:55:36.240Z"
   },
   {
    "duration": 42,
    "start_time": "2021-11-28T21:55:40.371Z"
   },
   {
    "duration": 4,
    "start_time": "2021-11-28T21:55:41.624Z"
   },
   {
    "duration": 3,
    "start_time": "2021-11-28T21:55:42.375Z"
   },
   {
    "duration": 40,
    "start_time": "2021-11-28T21:55:42.842Z"
   },
   {
    "duration": 11,
    "start_time": "2021-11-28T21:55:44.047Z"
   },
   {
    "duration": 11,
    "start_time": "2021-11-28T21:55:44.509Z"
   },
   {
    "duration": 30,
    "start_time": "2021-11-28T21:55:45.453Z"
   },
   {
    "duration": 16,
    "start_time": "2021-11-28T21:55:45.613Z"
   },
   {
    "duration": 14,
    "start_time": "2021-11-28T21:55:45.932Z"
   },
   {
    "duration": 16,
    "start_time": "2021-11-28T21:55:46.086Z"
   },
   {
    "duration": 17,
    "start_time": "2021-11-28T21:55:46.246Z"
   },
   {
    "duration": 26,
    "start_time": "2021-11-28T21:55:46.419Z"
   },
   {
    "duration": 22,
    "start_time": "2021-11-28T21:55:46.741Z"
   },
   {
    "duration": 13,
    "start_time": "2021-11-28T21:55:47.555Z"
   },
   {
    "duration": 18,
    "start_time": "2021-11-28T21:55:48.822Z"
   },
   {
    "duration": 19,
    "start_time": "2021-11-28T21:55:49.335Z"
   },
   {
    "duration": 25,
    "start_time": "2021-11-28T21:55:49.955Z"
   },
   {
    "duration": 28,
    "start_time": "2021-11-28T21:55:53.419Z"
   },
   {
    "duration": 20,
    "start_time": "2021-11-28T21:55:53.508Z"
   },
   {
    "duration": 27,
    "start_time": "2021-11-28T21:55:53.679Z"
   },
   {
    "duration": 19,
    "start_time": "2021-11-28T21:55:53.841Z"
   },
   {
    "duration": 17,
    "start_time": "2021-11-28T21:55:54.852Z"
   },
   {
    "duration": 6,
    "start_time": "2021-11-28T21:55:55.501Z"
   },
   {
    "duration": 11,
    "start_time": "2021-11-28T21:55:56.150Z"
   },
   {
    "duration": 8,
    "start_time": "2021-11-28T21:55:56.636Z"
   },
   {
    "duration": 81,
    "start_time": "2021-11-28T21:58:14.523Z"
   },
   {
    "duration": 84,
    "start_time": "2021-11-28T21:58:20.942Z"
   },
   {
    "duration": 70,
    "start_time": "2021-11-28T21:58:32.764Z"
   },
   {
    "duration": 57,
    "start_time": "2021-11-28T21:58:39.980Z"
   },
   {
    "duration": 69,
    "start_time": "2021-11-28T21:58:48.872Z"
   },
   {
    "duration": 4,
    "start_time": "2021-11-28T21:58:56.123Z"
   },
   {
    "duration": 5,
    "start_time": "2021-11-28T21:59:02.363Z"
   },
   {
    "duration": 42,
    "start_time": "2021-11-28T21:59:05.712Z"
   },
   {
    "duration": 14,
    "start_time": "2021-11-28T21:59:13.769Z"
   },
   {
    "duration": 11,
    "start_time": "2021-11-28T21:59:17.582Z"
   },
   {
    "duration": 51,
    "start_time": "2021-11-28T21:59:21.973Z"
   },
   {
    "duration": 17,
    "start_time": "2021-11-28T21:59:25.728Z"
   },
   {
    "duration": 16,
    "start_time": "2021-11-28T21:59:28.039Z"
   },
   {
    "duration": 16,
    "start_time": "2021-11-28T21:59:28.378Z"
   },
   {
    "duration": 17,
    "start_time": "2021-11-28T21:59:30.698Z"
   },
   {
    "duration": 22,
    "start_time": "2021-11-28T21:59:30.878Z"
   },
   {
    "duration": 23,
    "start_time": "2021-11-28T21:59:31.555Z"
   },
   {
    "duration": 17,
    "start_time": "2021-11-28T21:59:40.387Z"
   },
   {
    "duration": 11,
    "start_time": "2021-11-28T21:59:47.918Z"
   },
   {
    "duration": 33,
    "start_time": "2021-11-28T21:59:52.075Z"
   },
   {
    "duration": 19,
    "start_time": "2021-11-28T21:59:54.972Z"
   },
   {
    "duration": 23,
    "start_time": "2021-11-28T21:59:56.300Z"
   },
   {
    "duration": 23,
    "start_time": "2021-11-28T21:59:57.028Z"
   },
   {
    "duration": 23,
    "start_time": "2021-11-28T21:59:57.684Z"
   },
   {
    "duration": 32,
    "start_time": "2021-11-28T21:59:58.361Z"
   },
   {
    "duration": 16,
    "start_time": "2021-11-28T21:59:59.020Z"
   },
   {
    "duration": 9,
    "start_time": "2021-11-28T22:00:01.626Z"
   },
   {
    "duration": 28,
    "start_time": "2021-11-28T22:00:05.763Z"
   },
   {
    "duration": 19,
    "start_time": "2021-11-28T22:00:07.386Z"
   },
   {
    "duration": 26,
    "start_time": "2021-11-28T22:00:11.215Z"
   },
   {
    "duration": 19,
    "start_time": "2021-11-28T22:00:16.003Z"
   },
   {
    "duration": 14,
    "start_time": "2021-11-28T22:00:16.515Z"
   },
   {
    "duration": 18,
    "start_time": "2021-11-28T22:00:17.037Z"
   },
   {
    "duration": 18,
    "start_time": "2021-11-28T22:00:17.666Z"
   },
   {
    "duration": 17,
    "start_time": "2021-11-28T22:00:20.816Z"
   },
   {
    "duration": 6,
    "start_time": "2021-11-28T22:00:24.521Z"
   },
   {
    "duration": 14,
    "start_time": "2021-11-28T22:00:33.187Z"
   },
   {
    "duration": 6,
    "start_time": "2021-11-28T22:00:34.219Z"
   },
   {
    "duration": 821,
    "start_time": "2021-11-29T12:53:38.267Z"
   },
   {
    "duration": 206,
    "start_time": "2021-11-29T12:53:39.091Z"
   },
   {
    "duration": 26,
    "start_time": "2021-11-29T12:53:39.300Z"
   },
   {
    "duration": 59,
    "start_time": "2021-11-29T12:53:39.329Z"
   },
   {
    "duration": 10,
    "start_time": "2021-11-29T12:53:39.392Z"
   },
   {
    "duration": 26,
    "start_time": "2021-11-29T12:53:39.405Z"
   },
   {
    "duration": 15,
    "start_time": "2021-11-29T12:53:39.434Z"
   },
   {
    "duration": 36,
    "start_time": "2021-11-29T12:53:39.470Z"
   },
   {
    "duration": 20,
    "start_time": "2021-11-29T12:53:39.509Z"
   },
   {
    "duration": 75,
    "start_time": "2021-11-29T12:53:39.531Z"
   },
   {
    "duration": 105,
    "start_time": "2021-11-29T12:53:39.608Z"
   },
   {
    "duration": 167,
    "start_time": "2021-11-29T12:53:39.716Z"
   },
   {
    "duration": 95,
    "start_time": "2021-11-29T12:53:39.887Z"
   },
   {
    "duration": 60,
    "start_time": "2021-11-29T12:53:39.984Z"
   },
   {
    "duration": 22,
    "start_time": "2021-11-29T12:53:40.046Z"
   },
   {
    "duration": 19,
    "start_time": "2021-11-29T12:53:40.071Z"
   },
   {
    "duration": 78,
    "start_time": "2021-11-29T12:53:40.094Z"
   },
   {
    "duration": 16,
    "start_time": "2021-11-29T12:53:40.175Z"
   },
   {
    "duration": 22,
    "start_time": "2021-11-29T12:53:40.194Z"
   },
   {
    "duration": 86,
    "start_time": "2021-11-29T12:53:40.219Z"
   },
   {
    "duration": 22,
    "start_time": "2021-11-29T12:53:40.308Z"
   },
   {
    "duration": 50,
    "start_time": "2021-11-29T12:53:40.333Z"
   },
   {
    "duration": 20,
    "start_time": "2021-11-29T12:53:40.388Z"
   },
   {
    "duration": 18,
    "start_time": "2021-11-29T12:53:40.411Z"
   },
   {
    "duration": 56,
    "start_time": "2021-11-29T12:53:40.432Z"
   },
   {
    "duration": 32,
    "start_time": "2021-11-29T12:53:40.491Z"
   },
   {
    "duration": 12,
    "start_time": "2021-11-29T12:53:40.526Z"
   },
   {
    "duration": 53,
    "start_time": "2021-11-29T12:53:40.541Z"
   },
   {
    "duration": 24,
    "start_time": "2021-11-29T12:53:40.596Z"
   },
   {
    "duration": 70,
    "start_time": "2021-11-29T12:53:40.623Z"
   },
   {
    "duration": 25,
    "start_time": "2021-11-29T12:53:40.696Z"
   },
   {
    "duration": 17,
    "start_time": "2021-11-29T12:53:40.724Z"
   },
   {
    "duration": 22,
    "start_time": "2021-11-29T12:53:40.768Z"
   },
   {
    "duration": 16,
    "start_time": "2021-11-29T12:53:40.793Z"
   },
   {
    "duration": 15,
    "start_time": "2021-11-29T12:53:40.812Z"
   },
   {
    "duration": 6,
    "start_time": "2021-11-29T12:53:40.867Z"
   },
   {
    "duration": 23,
    "start_time": "2021-11-29T12:53:40.876Z"
   },
   {
    "duration": 9,
    "start_time": "2021-11-29T12:53:40.903Z"
   },
   {
    "duration": 5,
    "start_time": "2021-11-29T16:45:20.200Z"
   },
   {
    "duration": 5,
    "start_time": "2021-11-29T16:45:22.731Z"
   },
   {
    "duration": 4,
    "start_time": "2021-11-29T16:57:16.930Z"
   },
   {
    "duration": 259,
    "start_time": "2021-11-30T19:54:16.284Z"
   },
   {
    "duration": 178,
    "start_time": "2021-11-30T19:55:13.966Z"
   },
   {
    "duration": 173,
    "start_time": "2021-11-30T19:56:23.278Z"
   },
   {
    "duration": 500,
    "start_time": "2021-11-30T19:56:38.452Z"
   },
   {
    "duration": 146,
    "start_time": "2021-11-30T19:56:38.954Z"
   },
   {
    "duration": 17,
    "start_time": "2021-11-30T19:56:39.320Z"
   },
   {
    "duration": 23,
    "start_time": "2021-11-30T19:56:40.568Z"
   },
   {
    "duration": 4,
    "start_time": "2021-11-30T19:56:44.043Z"
   },
   {
    "duration": 21,
    "start_time": "2021-11-30T19:56:45.103Z"
   },
   {
    "duration": 10,
    "start_time": "2021-11-30T19:56:46.291Z"
   },
   {
    "duration": 26,
    "start_time": "2021-11-30T19:56:47.620Z"
   },
   {
    "duration": 15,
    "start_time": "2021-11-30T19:56:49.250Z"
   },
   {
    "duration": 22,
    "start_time": "2021-11-30T19:56:50.715Z"
   },
   {
    "duration": 58,
    "start_time": "2021-11-30T19:56:52.322Z"
   },
   {
    "duration": 75,
    "start_time": "2021-11-30T19:56:53.362Z"
   },
   {
    "duration": 57,
    "start_time": "2021-11-30T19:57:02.299Z"
   },
   {
    "duration": 196,
    "start_time": "2021-11-30T20:00:04.083Z"
   },
   {
    "duration": 57,
    "start_time": "2021-11-30T20:00:07.390Z"
   },
   {
    "duration": 61,
    "start_time": "2021-11-30T20:04:46.289Z"
   },
   {
    "duration": 3,
    "start_time": "2021-11-30T20:05:55.966Z"
   },
   {
    "duration": 206,
    "start_time": "2021-11-30T20:12:01.794Z"
   },
   {
    "duration": 178,
    "start_time": "2021-11-30T20:12:20.419Z"
   },
   {
    "duration": 181,
    "start_time": "2021-11-30T20:18:05.014Z"
   },
   {
    "duration": 3,
    "start_time": "2021-11-30T20:26:48.320Z"
   },
   {
    "duration": 75,
    "start_time": "2021-11-30T20:31:54.634Z"
   },
   {
    "duration": 3,
    "start_time": "2021-11-30T20:32:02.989Z"
   },
   {
    "duration": 58,
    "start_time": "2021-11-30T20:32:32.173Z"
   },
   {
    "duration": 62,
    "start_time": "2021-11-30T20:34:57.183Z"
   },
   {
    "duration": 3,
    "start_time": "2021-11-30T20:35:54.179Z"
   },
   {
    "duration": 3,
    "start_time": "2021-11-30T20:37:00.422Z"
   },
   {
    "duration": 58,
    "start_time": "2021-11-30T20:37:49.868Z"
   },
   {
    "duration": 59,
    "start_time": "2021-11-30T20:38:03.256Z"
   },
   {
    "duration": 4,
    "start_time": "2021-11-30T20:38:22.474Z"
   },
   {
    "duration": 179,
    "start_time": "2021-11-30T20:56:03.136Z"
   },
   {
    "duration": 3,
    "start_time": "2021-11-30T20:56:44.963Z"
   },
   {
    "duration": 152,
    "start_time": "2021-11-30T20:56:45.423Z"
   },
   {
    "duration": 10,
    "start_time": "2021-11-30T20:56:45.874Z"
   },
   {
    "duration": 23,
    "start_time": "2021-11-30T20:56:46.324Z"
   },
   {
    "duration": 4,
    "start_time": "2021-11-30T20:56:47.255Z"
   },
   {
    "duration": 14,
    "start_time": "2021-11-30T20:56:47.816Z"
   },
   {
    "duration": 4,
    "start_time": "2021-11-30T20:56:48.392Z"
   },
   {
    "duration": 21,
    "start_time": "2021-11-30T20:56:49.230Z"
   },
   {
    "duration": 15,
    "start_time": "2021-11-30T20:56:49.876Z"
   },
   {
    "duration": 23,
    "start_time": "2021-11-30T20:56:50.558Z"
   },
   {
    "duration": 59,
    "start_time": "2021-11-30T20:56:51.259Z"
   },
   {
    "duration": 70,
    "start_time": "2021-11-30T20:56:51.754Z"
   },
   {
    "duration": 48,
    "start_time": "2021-11-30T20:56:52.735Z"
   },
   {
    "duration": 43,
    "start_time": "2021-11-30T20:56:53.564Z"
   },
   {
    "duration": 3,
    "start_time": "2021-11-30T20:56:54.141Z"
   },
   {
    "duration": 2,
    "start_time": "2021-11-30T20:56:55.045Z"
   },
   {
    "duration": 38,
    "start_time": "2021-11-30T20:56:55.635Z"
   },
   {
    "duration": 11,
    "start_time": "2021-11-30T20:56:57.225Z"
   },
   {
    "duration": 11,
    "start_time": "2021-11-30T20:56:57.844Z"
   },
   {
    "duration": 30,
    "start_time": "2021-11-30T20:56:58.454Z"
   },
   {
    "duration": 17,
    "start_time": "2021-11-30T20:56:59.043Z"
   },
   {
    "duration": 16,
    "start_time": "2021-11-30T20:56:59.505Z"
   },
   {
    "duration": 16,
    "start_time": "2021-11-30T20:56:59.666Z"
   },
   {
    "duration": 16,
    "start_time": "2021-11-30T20:56:59.814Z"
   },
   {
    "duration": 21,
    "start_time": "2021-11-30T20:56:59.999Z"
   },
   {
    "duration": 15,
    "start_time": "2021-11-30T20:57:00.129Z"
   },
   {
    "duration": 7,
    "start_time": "2021-11-30T20:57:00.965Z"
   },
   {
    "duration": 22,
    "start_time": "2021-11-30T20:57:02.195Z"
   },
   {
    "duration": 22,
    "start_time": "2021-11-30T20:57:02.693Z"
   },
   {
    "duration": 21,
    "start_time": "2021-11-30T20:57:03.328Z"
   },
   {
    "duration": 20,
    "start_time": "2021-11-30T20:57:03.972Z"
   },
   {
    "duration": 15,
    "start_time": "2021-11-30T20:57:04.109Z"
   },
   {
    "duration": 25,
    "start_time": "2021-11-30T20:57:04.284Z"
   },
   {
    "duration": 12,
    "start_time": "2021-11-30T20:57:04.423Z"
   },
   {
    "duration": 11,
    "start_time": "2021-11-30T20:57:05.416Z"
   },
   {
    "duration": 8,
    "start_time": "2021-11-30T20:57:06.504Z"
   },
   {
    "duration": 9,
    "start_time": "2021-11-30T20:57:07.345Z"
   },
   {
    "duration": 6,
    "start_time": "2021-11-30T20:57:07.793Z"
   },
   {
    "duration": 17,
    "start_time": "2021-11-30T21:08:30.074Z"
   },
   {
    "duration": 10,
    "start_time": "2021-11-30T21:31:33.664Z"
   },
   {
    "duration": 10,
    "start_time": "2021-11-30T21:32:34.189Z"
   },
   {
    "duration": 3,
    "start_time": "2021-11-30T21:34:45.739Z"
   },
   {
    "duration": 158,
    "start_time": "2021-11-30T21:34:46.177Z"
   },
   {
    "duration": 10,
    "start_time": "2021-11-30T21:34:46.758Z"
   },
   {
    "duration": 24,
    "start_time": "2021-11-30T21:34:47.209Z"
   },
   {
    "duration": 4,
    "start_time": "2021-11-30T21:34:48.292Z"
   },
   {
    "duration": 19,
    "start_time": "2021-11-30T21:34:48.822Z"
   },
   {
    "duration": 4,
    "start_time": "2021-11-30T21:34:49.357Z"
   },
   {
    "duration": 22,
    "start_time": "2021-11-30T21:34:50.788Z"
   },
   {
    "duration": 30,
    "start_time": "2021-11-30T21:34:50.811Z"
   },
   {
    "duration": 22,
    "start_time": "2021-11-30T21:34:51.365Z"
   },
   {
    "duration": 57,
    "start_time": "2021-11-30T21:34:52.108Z"
   },
   {
    "duration": 60,
    "start_time": "2021-11-30T21:34:52.552Z"
   },
   {
    "duration": 49,
    "start_time": "2021-11-30T21:34:53.449Z"
   },
   {
    "duration": 38,
    "start_time": "2021-11-30T21:34:54.427Z"
   },
   {
    "duration": 3,
    "start_time": "2021-11-30T21:34:55.317Z"
   },
   {
    "duration": 2,
    "start_time": "2021-11-30T21:34:56.434Z"
   },
   {
    "duration": 40,
    "start_time": "2021-11-30T21:34:56.928Z"
   },
   {
    "duration": 11,
    "start_time": "2021-11-30T21:34:58.807Z"
   },
   {
    "duration": 10,
    "start_time": "2021-11-30T21:34:59.931Z"
   },
   {
    "duration": 30,
    "start_time": "2021-11-30T21:35:00.705Z"
   },
   {
    "duration": 18,
    "start_time": "2021-11-30T21:35:01.282Z"
   },
   {
    "duration": 15,
    "start_time": "2021-11-30T21:35:01.917Z"
   },
   {
    "duration": 16,
    "start_time": "2021-11-30T21:35:02.060Z"
   },
   {
    "duration": 15,
    "start_time": "2021-11-30T21:35:02.375Z"
   },
   {
    "duration": 17,
    "start_time": "2021-11-30T21:35:02.548Z"
   },
   {
    "duration": 16,
    "start_time": "2021-11-30T21:35:02.677Z"
   },
   {
    "duration": 9,
    "start_time": "2021-11-30T21:35:03.578Z"
   },
   {
    "duration": 20,
    "start_time": "2021-11-30T21:35:05.041Z"
   },
   {
    "duration": 17,
    "start_time": "2021-11-30T21:35:05.736Z"
   },
   {
    "duration": 23,
    "start_time": "2021-11-30T21:35:06.398Z"
   },
   {
    "duration": 19,
    "start_time": "2021-11-30T21:35:07.078Z"
   },
   {
    "duration": 13,
    "start_time": "2021-11-30T21:35:07.252Z"
   },
   {
    "duration": 22,
    "start_time": "2021-11-30T21:35:07.577Z"
   },
   {
    "duration": 18,
    "start_time": "2021-11-30T21:35:07.792Z"
   },
   {
    "duration": 15,
    "start_time": "2021-11-30T21:35:08.794Z"
   },
   {
    "duration": 5,
    "start_time": "2021-11-30T21:35:10.648Z"
   },
   {
    "duration": 12,
    "start_time": "2021-11-30T21:35:11.484Z"
   },
   {
    "duration": 6,
    "start_time": "2021-11-30T21:35:11.928Z"
   },
   {
    "duration": 539,
    "start_time": "2021-11-30T21:37:05.312Z"
   },
   {
    "duration": 132,
    "start_time": "2021-11-30T21:37:05.852Z"
   },
   {
    "duration": 16,
    "start_time": "2021-11-30T21:37:05.986Z"
   },
   {
    "duration": 26,
    "start_time": "2021-11-30T21:37:06.004Z"
   },
   {
    "duration": 4,
    "start_time": "2021-11-30T21:37:06.032Z"
   },
   {
    "duration": 27,
    "start_time": "2021-11-30T21:37:06.038Z"
   },
   {
    "duration": 11,
    "start_time": "2021-11-30T21:37:06.066Z"
   },
   {
    "duration": 21,
    "start_time": "2021-11-30T21:37:06.092Z"
   },
   {
    "duration": 14,
    "start_time": "2021-11-30T21:37:06.116Z"
   },
   {
    "duration": 26,
    "start_time": "2021-11-30T21:37:06.132Z"
   },
   {
    "duration": 76,
    "start_time": "2021-11-30T21:37:06.159Z"
   },
   {
    "duration": 78,
    "start_time": "2021-11-30T21:37:06.236Z"
   },
   {
    "duration": 49,
    "start_time": "2021-11-30T21:37:06.316Z"
   },
   {
    "duration": 50,
    "start_time": "2021-11-30T21:37:06.367Z"
   },
   {
    "duration": 3,
    "start_time": "2021-11-30T21:37:06.418Z"
   },
   {
    "duration": 5,
    "start_time": "2021-11-30T21:37:06.423Z"
   },
   {
    "duration": 47,
    "start_time": "2021-11-30T21:37:06.430Z"
   },
   {
    "duration": 19,
    "start_time": "2021-11-30T21:37:06.479Z"
   },
   {
    "duration": 10,
    "start_time": "2021-11-30T21:37:06.500Z"
   },
   {
    "duration": 26,
    "start_time": "2021-11-30T21:37:06.512Z"
   },
   {
    "duration": 21,
    "start_time": "2021-11-30T21:37:06.539Z"
   },
   {
    "duration": 35,
    "start_time": "2021-11-30T21:37:06.562Z"
   },
   {
    "duration": 24,
    "start_time": "2021-11-30T21:37:06.599Z"
   },
   {
    "duration": 24,
    "start_time": "2021-11-30T21:37:06.624Z"
   },
   {
    "duration": 30,
    "start_time": "2021-11-30T21:37:06.650Z"
   },
   {
    "duration": 20,
    "start_time": "2021-11-30T21:37:06.681Z"
   },
   {
    "duration": 19,
    "start_time": "2021-11-30T21:37:06.703Z"
   },
   {
    "duration": 25,
    "start_time": "2021-11-30T21:37:06.724Z"
   },
   {
    "duration": 23,
    "start_time": "2021-11-30T21:37:06.750Z"
   },
   {
    "duration": 19,
    "start_time": "2021-11-30T21:37:06.775Z"
   },
   {
    "duration": 26,
    "start_time": "2021-11-30T21:37:06.796Z"
   },
   {
    "duration": 16,
    "start_time": "2021-11-30T21:37:06.824Z"
   },
   {
    "duration": 29,
    "start_time": "2021-11-30T21:37:06.841Z"
   },
   {
    "duration": 13,
    "start_time": "2021-11-30T21:37:06.872Z"
   },
   {
    "duration": 16,
    "start_time": "2021-11-30T21:37:06.890Z"
   },
   {
    "duration": 5,
    "start_time": "2021-11-30T21:37:06.908Z"
   },
   {
    "duration": 18,
    "start_time": "2021-11-30T21:37:06.914Z"
   },
   {
    "duration": 10,
    "start_time": "2021-11-30T21:37:06.934Z"
   },
   {
    "duration": 640,
    "start_time": "2021-12-01T05:37:27.739Z"
   },
   {
    "duration": 148,
    "start_time": "2021-12-01T05:37:28.380Z"
   },
   {
    "duration": 16,
    "start_time": "2021-12-01T05:37:28.531Z"
   },
   {
    "duration": 40,
    "start_time": "2021-12-01T05:37:28.549Z"
   },
   {
    "duration": 11,
    "start_time": "2021-12-01T05:37:28.591Z"
   },
   {
    "duration": 40,
    "start_time": "2021-12-01T05:37:28.603Z"
   },
   {
    "duration": 31,
    "start_time": "2021-12-01T05:37:28.645Z"
   },
   {
    "duration": 36,
    "start_time": "2021-12-01T05:37:28.678Z"
   },
   {
    "duration": 19,
    "start_time": "2021-12-01T05:37:28.716Z"
   },
   {
    "duration": 42,
    "start_time": "2021-12-01T05:37:28.737Z"
   },
   {
    "duration": 69,
    "start_time": "2021-12-01T05:37:28.780Z"
   },
   {
    "duration": 79,
    "start_time": "2021-12-01T05:37:28.851Z"
   },
   {
    "duration": 61,
    "start_time": "2021-12-01T05:37:28.932Z"
   },
   {
    "duration": 41,
    "start_time": "2021-12-01T05:37:28.995Z"
   },
   {
    "duration": 3,
    "start_time": "2021-12-01T05:37:29.038Z"
   },
   {
    "duration": 4,
    "start_time": "2021-12-01T05:37:29.063Z"
   },
   {
    "duration": 46,
    "start_time": "2021-12-01T05:37:29.069Z"
   },
   {
    "duration": 13,
    "start_time": "2021-12-01T05:37:29.117Z"
   },
   {
    "duration": 38,
    "start_time": "2021-12-01T05:37:29.131Z"
   },
   {
    "duration": 32,
    "start_time": "2021-12-01T05:37:29.171Z"
   },
   {
    "duration": 19,
    "start_time": "2021-12-01T05:37:29.205Z"
   },
   {
    "duration": 44,
    "start_time": "2021-12-01T05:37:29.227Z"
   },
   {
    "duration": 17,
    "start_time": "2021-12-01T05:37:29.275Z"
   },
   {
    "duration": 15,
    "start_time": "2021-12-01T05:37:29.295Z"
   },
   {
    "duration": 41,
    "start_time": "2021-12-01T05:37:29.311Z"
   },
   {
    "duration": 22,
    "start_time": "2021-12-01T05:37:29.353Z"
   },
   {
    "duration": 8,
    "start_time": "2021-12-01T05:37:29.377Z"
   },
   {
    "duration": 33,
    "start_time": "2021-12-01T05:37:29.387Z"
   },
   {
    "duration": 16,
    "start_time": "2021-12-01T05:37:29.422Z"
   },
   {
    "duration": 42,
    "start_time": "2021-12-01T05:37:29.439Z"
   },
   {
    "duration": 23,
    "start_time": "2021-12-01T05:37:29.482Z"
   },
   {
    "duration": 12,
    "start_time": "2021-12-01T05:37:29.506Z"
   },
   {
    "duration": 16,
    "start_time": "2021-12-01T05:37:29.520Z"
   },
   {
    "duration": 38,
    "start_time": "2021-12-01T05:37:29.537Z"
   },
   {
    "duration": 10,
    "start_time": "2021-12-01T05:37:29.576Z"
   },
   {
    "duration": 5,
    "start_time": "2021-12-01T05:37:29.588Z"
   },
   {
    "duration": 11,
    "start_time": "2021-12-01T05:37:29.594Z"
   },
   {
    "duration": 4,
    "start_time": "2021-12-01T05:37:29.607Z"
   },
   {
    "duration": 103,
    "start_time": "2021-12-01T12:08:56.339Z"
   },
   {
    "duration": 90,
    "start_time": "2021-12-01T12:15:23.008Z"
   },
   {
    "duration": 122,
    "start_time": "2021-12-01T12:15:48.274Z"
   },
   {
    "duration": 119,
    "start_time": "2021-12-01T12:16:05.174Z"
   },
   {
    "duration": 3,
    "start_time": "2021-12-01T12:16:22.527Z"
   },
   {
    "duration": 3,
    "start_time": "2021-12-01T12:16:49.818Z"
   },
   {
    "duration": 2,
    "start_time": "2021-12-01T12:16:51.065Z"
   },
   {
    "duration": 312,
    "start_time": "2021-12-01T12:16:51.554Z"
   },
   {
    "duration": 276,
    "start_time": "2021-12-01T12:16:53.652Z"
   },
   {
    "duration": 284,
    "start_time": "2021-12-01T12:16:54.194Z"
   },
   {
    "duration": 466,
    "start_time": "2021-12-01T12:16:54.769Z"
   },
   {
    "duration": 629,
    "start_time": "2021-12-01T12:16:55.446Z"
   },
   {
    "duration": -1801,
    "start_time": "2021-12-01T12:16:57.877Z"
   },
   {
    "duration": -1831,
    "start_time": "2021-12-01T12:16:57.908Z"
   },
   {
    "duration": 578,
    "start_time": "2021-12-01T12:16:56.219Z"
   },
   {
    "duration": -1829,
    "start_time": "2021-12-01T12:16:58.628Z"
   },
   {
    "duration": -1858,
    "start_time": "2021-12-01T12:16:58.658Z"
   },
   {
    "duration": 306,
    "start_time": "2021-12-01T12:16:57.330Z"
   },
   {
    "duration": 594,
    "start_time": "2021-12-01T12:17:12.214Z"
   },
   {
    "duration": 126,
    "start_time": "2021-12-01T12:17:12.810Z"
   },
   {
    "duration": 16,
    "start_time": "2021-12-01T12:17:13.148Z"
   },
   {
    "duration": 21,
    "start_time": "2021-12-01T12:17:13.624Z"
   },
   {
    "duration": 4,
    "start_time": "2021-12-01T12:17:14.525Z"
   },
   {
    "duration": 21,
    "start_time": "2021-12-01T12:17:14.983Z"
   },
   {
    "duration": 4,
    "start_time": "2021-12-01T12:17:15.415Z"
   },
   {
    "duration": 21,
    "start_time": "2021-12-01T12:17:16.166Z"
   },
   {
    "duration": 13,
    "start_time": "2021-12-01T12:17:17.114Z"
   },
   {
    "duration": 22,
    "start_time": "2021-12-01T12:17:17.795Z"
   },
   {
    "duration": 53,
    "start_time": "2021-12-01T12:17:18.536Z"
   },
   {
    "duration": 57,
    "start_time": "2021-12-01T12:17:18.944Z"
   },
   {
    "duration": 48,
    "start_time": "2021-12-01T12:17:19.745Z"
   },
   {
    "duration": 37,
    "start_time": "2021-12-01T12:17:20.695Z"
   },
   {
    "duration": 4,
    "start_time": "2021-12-01T12:17:21.366Z"
   },
   {
    "duration": 3,
    "start_time": "2021-12-01T12:17:22.584Z"
   },
   {
    "duration": 42,
    "start_time": "2021-12-01T12:17:23.204Z"
   },
   {
    "duration": 15,
    "start_time": "2021-12-01T12:17:25.085Z"
   },
   {
    "duration": 12,
    "start_time": "2021-12-01T12:17:25.804Z"
   },
   {
    "duration": 37,
    "start_time": "2021-12-01T12:17:26.665Z"
   },
   {
    "duration": 15,
    "start_time": "2021-12-01T12:17:27.648Z"
   },
   {
    "duration": 14,
    "start_time": "2021-12-01T12:17:28.245Z"
   },
   {
    "duration": 14,
    "start_time": "2021-12-01T12:17:28.403Z"
   },
   {
    "duration": 13,
    "start_time": "2021-12-01T12:17:28.609Z"
   },
   {
    "duration": 15,
    "start_time": "2021-12-01T12:17:28.769Z"
   },
   {
    "duration": 16,
    "start_time": "2021-12-01T12:17:28.969Z"
   },
   {
    "duration": 8,
    "start_time": "2021-12-01T12:17:30.432Z"
   },
   {
    "duration": 18,
    "start_time": "2021-12-01T12:17:31.485Z"
   },
   {
    "duration": 15,
    "start_time": "2021-12-01T12:17:32.046Z"
   },
   {
    "duration": 21,
    "start_time": "2021-12-01T12:17:32.667Z"
   },
   {
    "duration": 17,
    "start_time": "2021-12-01T12:17:33.215Z"
   },
   {
    "duration": 14,
    "start_time": "2021-12-01T12:17:33.344Z"
   },
   {
    "duration": 15,
    "start_time": "2021-12-01T12:17:33.472Z"
   },
   {
    "duration": 12,
    "start_time": "2021-12-01T12:17:33.650Z"
   },
   {
    "duration": 23,
    "start_time": "2021-12-01T12:17:34.545Z"
   },
   {
    "duration": 4,
    "start_time": "2021-12-01T12:17:35.753Z"
   },
   {
    "duration": 9,
    "start_time": "2021-12-01T12:17:36.505Z"
   },
   {
    "duration": 4,
    "start_time": "2021-12-01T12:17:36.945Z"
   },
   {
    "duration": 3,
    "start_time": "2021-12-01T12:18:54.294Z"
   },
   {
    "duration": 3,
    "start_time": "2021-12-01T12:18:57.855Z"
   },
   {
    "duration": 3,
    "start_time": "2021-12-01T12:19:00.645Z"
   },
   {
    "duration": 4,
    "start_time": "2021-12-01T12:23:04.586Z"
   },
   {
    "duration": 3,
    "start_time": "2021-12-01T12:23:06.906Z"
   },
   {
    "duration": 2,
    "start_time": "2021-12-01T12:23:08.144Z"
   },
   {
    "duration": 39,
    "start_time": "2021-12-01T12:23:08.845Z"
   },
   {
    "duration": 9,
    "start_time": "2021-12-01T12:26:57.602Z"
   },
   {
    "duration": 131,
    "start_time": "2021-12-01T14:33:08.475Z"
   },
   {
    "duration": 5,
    "start_time": "2021-12-01T14:33:16.854Z"
   },
   {
    "duration": 4,
    "start_time": "2021-12-01T14:33:20.045Z"
   },
   {
    "duration": 779,
    "start_time": "2021-12-01T14:33:25.885Z"
   },
   {
    "duration": 184,
    "start_time": "2021-12-01T14:33:26.667Z"
   },
   {
    "duration": 27,
    "start_time": "2021-12-01T14:33:27.222Z"
   },
   {
    "duration": 32,
    "start_time": "2021-12-01T14:33:27.695Z"
   },
   {
    "duration": 5,
    "start_time": "2021-12-01T14:33:28.710Z"
   },
   {
    "duration": 28,
    "start_time": "2021-12-01T14:33:29.195Z"
   },
   {
    "duration": 7,
    "start_time": "2021-12-01T14:33:29.693Z"
   },
   {
    "duration": 31,
    "start_time": "2021-12-01T14:33:30.515Z"
   },
   {
    "duration": 19,
    "start_time": "2021-12-01T14:33:31.112Z"
   },
   {
    "duration": 29,
    "start_time": "2021-12-01T14:33:31.758Z"
   },
   {
    "duration": 82,
    "start_time": "2021-12-01T14:33:32.395Z"
   },
   {
    "duration": 98,
    "start_time": "2021-12-01T14:33:32.861Z"
   },
   {
    "duration": 74,
    "start_time": "2021-12-01T14:33:33.772Z"
   },
   {
    "duration": 58,
    "start_time": "2021-12-01T14:33:34.542Z"
   },
   {
    "duration": 4,
    "start_time": "2021-12-01T14:33:35.194Z"
   },
   {
    "duration": 4,
    "start_time": "2021-12-01T14:33:36.453Z"
   },
   {
    "duration": 57,
    "start_time": "2021-12-01T14:33:36.986Z"
   },
   {
    "duration": 15,
    "start_time": "2021-12-01T14:33:38.775Z"
   },
   {
    "duration": 14,
    "start_time": "2021-12-01T14:33:39.437Z"
   },
   {
    "duration": 37,
    "start_time": "2021-12-01T14:33:40.118Z"
   },
   {
    "duration": 21,
    "start_time": "2021-12-01T14:33:40.798Z"
   },
   {
    "duration": 21,
    "start_time": "2021-12-01T14:33:41.527Z"
   },
   {
    "duration": 19,
    "start_time": "2021-12-01T14:33:41.796Z"
   },
   {
    "duration": 19,
    "start_time": "2021-12-01T14:33:42.045Z"
   },
   {
    "duration": 20,
    "start_time": "2021-12-01T14:33:42.374Z"
   },
   {
    "duration": 19,
    "start_time": "2021-12-01T14:33:42.515Z"
   },
   {
    "duration": 12,
    "start_time": "2021-12-01T14:33:43.555Z"
   },
   {
    "duration": 26,
    "start_time": "2021-12-01T14:33:45.555Z"
   },
   {
    "duration": 24,
    "start_time": "2021-12-01T14:33:46.353Z"
   },
   {
    "duration": 30,
    "start_time": "2021-12-01T14:33:47.538Z"
   },
   {
    "duration": 26,
    "start_time": "2021-12-01T14:33:48.374Z"
   },
   {
    "duration": 17,
    "start_time": "2021-12-01T14:33:48.635Z"
   },
   {
    "duration": 23,
    "start_time": "2021-12-01T14:33:49.047Z"
   },
   {
    "duration": 16,
    "start_time": "2021-12-01T14:33:49.318Z"
   },
   {
    "duration": 17,
    "start_time": "2021-12-01T14:33:50.359Z"
   },
   {
    "duration": 7,
    "start_time": "2021-12-01T14:33:51.717Z"
   },
   {
    "duration": 13,
    "start_time": "2021-12-01T14:33:52.754Z"
   },
   {
    "duration": 6,
    "start_time": "2021-12-01T14:33:53.314Z"
   },
   {
    "duration": 4,
    "start_time": "2021-12-01T14:35:44.558Z"
   },
   {
    "duration": 5,
    "start_time": "2021-12-01T14:35:46.301Z"
   },
   {
    "duration": 3,
    "start_time": "2021-12-01T14:35:55.502Z"
   },
   {
    "duration": 203,
    "start_time": "2021-12-01T14:35:56.001Z"
   },
   {
    "duration": 16,
    "start_time": "2021-12-01T14:35:56.440Z"
   },
   {
    "duration": 31,
    "start_time": "2021-12-01T14:35:57.041Z"
   },
   {
    "duration": 5,
    "start_time": "2021-12-01T14:35:57.937Z"
   },
   {
    "duration": 20,
    "start_time": "2021-12-01T14:35:58.357Z"
   },
   {
    "duration": 6,
    "start_time": "2021-12-01T14:35:58.939Z"
   },
   {
    "duration": 30,
    "start_time": "2021-12-01T14:35:59.656Z"
   },
   {
    "duration": 19,
    "start_time": "2021-12-01T14:36:00.208Z"
   },
   {
    "duration": 31,
    "start_time": "2021-12-01T14:36:00.768Z"
   },
   {
    "duration": 84,
    "start_time": "2021-12-01T14:36:01.463Z"
   },
   {
    "duration": 93,
    "start_time": "2021-12-01T14:36:01.911Z"
   },
   {
    "duration": 90,
    "start_time": "2021-12-01T14:36:02.827Z"
   },
   {
    "duration": 57,
    "start_time": "2021-12-01T14:36:03.710Z"
   },
   {
    "duration": 4,
    "start_time": "2021-12-01T14:36:06.600Z"
   },
   {
    "duration": 3,
    "start_time": "2021-12-01T14:36:07.918Z"
   },
   {
    "duration": 57,
    "start_time": "2021-12-01T14:36:08.489Z"
   },
   {
    "duration": 16,
    "start_time": "2021-12-01T14:36:11.979Z"
   },
   {
    "duration": 14,
    "start_time": "2021-12-01T14:36:11.998Z"
   },
   {
    "duration": 38,
    "start_time": "2021-12-01T14:36:12.221Z"
   },
   {
    "duration": 21,
    "start_time": "2021-12-01T14:36:12.947Z"
   },
   {
    "duration": 18,
    "start_time": "2021-12-01T14:36:13.549Z"
   },
   {
    "duration": 19,
    "start_time": "2021-12-01T14:36:13.740Z"
   },
   {
    "duration": 30,
    "start_time": "2021-12-01T14:36:13.968Z"
   },
   {
    "duration": 20,
    "start_time": "2021-12-01T14:36:14.172Z"
   },
   {
    "duration": 19,
    "start_time": "2021-12-01T14:36:14.369Z"
   },
   {
    "duration": 12,
    "start_time": "2021-12-01T14:36:15.287Z"
   },
   {
    "duration": 28,
    "start_time": "2021-12-01T14:36:16.610Z"
   },
   {
    "duration": 27,
    "start_time": "2021-12-01T14:36:17.162Z"
   },
   {
    "duration": 33,
    "start_time": "2021-12-01T14:36:17.853Z"
   },
   {
    "duration": 26,
    "start_time": "2021-12-01T14:36:18.660Z"
   },
   {
    "duration": 18,
    "start_time": "2021-12-01T14:36:18.860Z"
   },
   {
    "duration": 22,
    "start_time": "2021-12-01T14:36:19.041Z"
   },
   {
    "duration": 17,
    "start_time": "2021-12-01T14:36:19.217Z"
   },
   {
    "duration": 16,
    "start_time": "2021-12-01T14:36:20.100Z"
   },
   {
    "duration": 7,
    "start_time": "2021-12-01T14:36:21.047Z"
   },
   {
    "duration": 13,
    "start_time": "2021-12-01T14:36:21.771Z"
   },
   {
    "duration": 6,
    "start_time": "2021-12-01T14:36:22.147Z"
   },
   {
    "duration": 55,
    "start_time": "2021-12-01T14:36:52.214Z"
   },
   {
    "duration": 3,
    "start_time": "2021-12-01T14:41:12.510Z"
   },
   {
    "duration": 184,
    "start_time": "2021-12-01T14:41:12.951Z"
   },
   {
    "duration": 15,
    "start_time": "2021-12-01T14:41:13.418Z"
   },
   {
    "duration": 35,
    "start_time": "2021-12-01T14:41:13.889Z"
   },
   {
    "duration": 6,
    "start_time": "2021-12-01T14:41:14.870Z"
   },
   {
    "duration": 14,
    "start_time": "2021-12-01T14:41:15.321Z"
   },
   {
    "duration": 5,
    "start_time": "2021-12-01T14:41:15.765Z"
   },
   {
    "duration": 38,
    "start_time": "2021-12-01T14:41:16.470Z"
   },
   {
    "duration": 21,
    "start_time": "2021-12-01T14:41:17.220Z"
   },
   {
    "duration": 31,
    "start_time": "2021-12-01T14:41:17.790Z"
   },
   {
    "duration": 84,
    "start_time": "2021-12-01T14:41:18.351Z"
   },
   {
    "duration": 96,
    "start_time": "2021-12-01T14:41:18.750Z"
   },
   {
    "duration": 77,
    "start_time": "2021-12-01T14:41:19.470Z"
   },
   {
    "duration": 58,
    "start_time": "2021-12-01T14:41:20.213Z"
   },
   {
    "duration": 4,
    "start_time": "2021-12-01T14:41:20.854Z"
   },
   {
    "duration": 4,
    "start_time": "2021-12-01T14:41:21.858Z"
   },
   {
    "duration": 57,
    "start_time": "2021-12-01T14:41:22.408Z"
   },
   {
    "duration": 17,
    "start_time": "2021-12-01T14:41:24.206Z"
   },
   {
    "duration": 16,
    "start_time": "2021-12-01T14:41:24.982Z"
   },
   {
    "duration": 39,
    "start_time": "2021-12-01T14:41:25.573Z"
   },
   {
    "duration": 23,
    "start_time": "2021-12-01T14:41:26.162Z"
   },
   {
    "duration": 21,
    "start_time": "2021-12-01T14:41:26.572Z"
   },
   {
    "duration": 20,
    "start_time": "2021-12-01T14:41:26.720Z"
   },
   {
    "duration": 19,
    "start_time": "2021-12-01T14:41:26.891Z"
   },
   {
    "duration": 20,
    "start_time": "2021-12-01T14:41:27.039Z"
   },
   {
    "duration": 18,
    "start_time": "2021-12-01T14:41:27.191Z"
   },
   {
    "duration": 12,
    "start_time": "2021-12-01T14:41:27.991Z"
   },
   {
    "duration": 26,
    "start_time": "2021-12-01T14:41:29.190Z"
   },
   {
    "duration": 25,
    "start_time": "2021-12-01T14:41:29.670Z"
   },
   {
    "duration": 30,
    "start_time": "2021-12-01T14:41:30.509Z"
   },
   {
    "duration": 26,
    "start_time": "2021-12-01T14:41:31.172Z"
   },
   {
    "duration": 17,
    "start_time": "2021-12-01T14:41:31.334Z"
   },
   {
    "duration": 23,
    "start_time": "2021-12-01T14:41:31.613Z"
   },
   {
    "duration": 17,
    "start_time": "2021-12-01T14:41:31.783Z"
   },
   {
    "duration": 16,
    "start_time": "2021-12-01T14:41:32.570Z"
   },
   {
    "duration": 6,
    "start_time": "2021-12-01T14:41:33.591Z"
   },
   {
    "duration": 14,
    "start_time": "2021-12-01T14:41:34.428Z"
   },
   {
    "duration": 6,
    "start_time": "2021-12-01T14:41:34.699Z"
   },
   {
    "duration": 4,
    "start_time": "2021-12-01T14:43:37.146Z"
   },
   {
    "duration": 5,
    "start_time": "2021-12-01T14:57:38.735Z"
   },
   {
    "duration": 4,
    "start_time": "2021-12-01T14:57:40.352Z"
   },
   {
    "duration": 3,
    "start_time": "2021-12-01T14:57:45.217Z"
   },
   {
    "duration": 191,
    "start_time": "2021-12-01T14:57:45.668Z"
   },
   {
    "duration": 17,
    "start_time": "2021-12-01T14:57:46.129Z"
   },
   {
    "duration": 36,
    "start_time": "2021-12-01T14:57:46.521Z"
   },
   {
    "duration": 6,
    "start_time": "2021-12-01T14:57:47.643Z"
   },
   {
    "duration": 19,
    "start_time": "2021-12-01T14:57:48.091Z"
   },
   {
    "duration": 6,
    "start_time": "2021-12-01T14:57:48.535Z"
   },
   {
    "duration": 31,
    "start_time": "2021-12-01T14:57:49.742Z"
   },
   {
    "duration": 22,
    "start_time": "2021-12-01T14:57:50.372Z"
   },
   {
    "duration": 46,
    "start_time": "2021-12-01T14:57:51.132Z"
   },
   {
    "duration": 82,
    "start_time": "2021-12-01T14:57:51.789Z"
   },
   {
    "duration": 94,
    "start_time": "2021-12-01T14:57:52.250Z"
   },
   {
    "duration": 74,
    "start_time": "2021-12-01T14:57:53.238Z"
   },
   {
    "duration": 57,
    "start_time": "2021-12-01T14:57:54.197Z"
   },
   {
    "duration": 4,
    "start_time": "2021-12-01T14:57:54.811Z"
   },
   {
    "duration": 4,
    "start_time": "2021-12-01T14:57:55.890Z"
   },
   {
    "duration": 57,
    "start_time": "2021-12-01T14:57:56.331Z"
   },
   {
    "duration": 14,
    "start_time": "2021-12-01T14:57:57.782Z"
   },
   {
    "duration": 14,
    "start_time": "2021-12-01T14:57:58.510Z"
   },
   {
    "duration": 39,
    "start_time": "2021-12-01T14:57:59.131Z"
   },
   {
    "duration": 20,
    "start_time": "2021-12-01T14:57:59.774Z"
   },
   {
    "duration": 19,
    "start_time": "2021-12-01T14:58:00.337Z"
   },
   {
    "duration": 19,
    "start_time": "2021-12-01T14:58:00.540Z"
   },
   {
    "duration": 19,
    "start_time": "2021-12-01T14:58:00.749Z"
   },
   {
    "duration": 23,
    "start_time": "2021-12-01T14:58:00.929Z"
   },
   {
    "duration": 18,
    "start_time": "2021-12-01T14:58:01.089Z"
   },
   {
    "duration": 13,
    "start_time": "2021-12-01T14:58:01.910Z"
   },
   {
    "duration": 29,
    "start_time": "2021-12-01T14:58:03.041Z"
   },
   {
    "duration": 25,
    "start_time": "2021-12-01T14:58:03.548Z"
   },
   {
    "duration": 33,
    "start_time": "2021-12-01T14:58:04.331Z"
   },
   {
    "duration": 25,
    "start_time": "2021-12-01T14:58:04.991Z"
   },
   {
    "duration": 19,
    "start_time": "2021-12-01T14:58:05.131Z"
   },
   {
    "duration": 22,
    "start_time": "2021-12-01T14:58:05.282Z"
   },
   {
    "duration": 19,
    "start_time": "2021-12-01T14:58:05.551Z"
   },
   {
    "duration": 16,
    "start_time": "2021-12-01T14:58:06.260Z"
   },
   {
    "duration": 6,
    "start_time": "2021-12-01T14:58:07.161Z"
   },
   {
    "duration": 13,
    "start_time": "2021-12-01T14:58:07.950Z"
   },
   {
    "duration": 7,
    "start_time": "2021-12-01T14:58:08.459Z"
   },
   {
    "duration": 934,
    "start_time": "2021-12-01T15:02:37.670Z"
   },
   {
    "duration": 197,
    "start_time": "2021-12-01T15:02:38.606Z"
   },
   {
    "duration": 27,
    "start_time": "2021-12-01T15:02:38.806Z"
   },
   {
    "duration": 66,
    "start_time": "2021-12-01T15:02:38.836Z"
   },
   {
    "duration": 7,
    "start_time": "2021-12-01T15:02:38.905Z"
   },
   {
    "duration": 56,
    "start_time": "2021-12-01T15:02:38.914Z"
   },
   {
    "duration": 10,
    "start_time": "2021-12-01T15:02:38.972Z"
   },
   {
    "duration": 36,
    "start_time": "2021-12-01T15:02:38.984Z"
   },
   {
    "duration": 36,
    "start_time": "2021-12-01T15:02:39.025Z"
   },
   {
    "duration": 40,
    "start_time": "2021-12-01T15:02:39.064Z"
   },
   {
    "duration": 96,
    "start_time": "2021-12-01T15:02:39.107Z"
   },
   {
    "duration": 106,
    "start_time": "2021-12-01T15:02:39.206Z"
   },
   {
    "duration": 91,
    "start_time": "2021-12-01T15:02:39.315Z"
   },
   {
    "duration": 74,
    "start_time": "2021-12-01T15:02:39.409Z"
   },
   {
    "duration": 5,
    "start_time": "2021-12-01T15:02:39.486Z"
   },
   {
    "duration": 7,
    "start_time": "2021-12-01T15:02:39.494Z"
   },
   {
    "duration": 85,
    "start_time": "2021-12-01T15:02:39.504Z"
   },
   {
    "duration": 16,
    "start_time": "2021-12-01T15:02:39.592Z"
   },
   {
    "duration": 17,
    "start_time": "2021-12-01T15:02:39.610Z"
   },
   {
    "duration": 68,
    "start_time": "2021-12-01T15:02:39.629Z"
   },
   {
    "duration": 20,
    "start_time": "2021-12-01T15:02:39.699Z"
   },
   {
    "duration": 51,
    "start_time": "2021-12-01T15:02:39.722Z"
   },
   {
    "duration": 20,
    "start_time": "2021-12-01T15:02:39.776Z"
   },
   {
    "duration": 21,
    "start_time": "2021-12-01T15:02:39.799Z"
   },
   {
    "duration": 56,
    "start_time": "2021-12-01T15:02:39.823Z"
   },
   {
    "duration": 22,
    "start_time": "2021-12-01T15:02:39.882Z"
   },
   {
    "duration": 51,
    "start_time": "2021-12-01T15:02:39.911Z"
   },
   {
    "duration": 34,
    "start_time": "2021-12-01T15:02:39.966Z"
   },
   {
    "duration": 23,
    "start_time": "2021-12-01T15:02:40.002Z"
   },
   {
    "duration": 31,
    "start_time": "2021-12-01T15:02:40.060Z"
   },
   {
    "duration": 28,
    "start_time": "2021-12-01T15:02:40.093Z"
   },
   {
    "duration": 42,
    "start_time": "2021-12-01T15:02:40.123Z"
   },
   {
    "duration": 24,
    "start_time": "2021-12-01T15:02:40.168Z"
   },
   {
    "duration": 16,
    "start_time": "2021-12-01T15:02:40.194Z"
   },
   {
    "duration": 52,
    "start_time": "2021-12-01T15:02:40.212Z"
   },
   {
    "duration": 6,
    "start_time": "2021-12-01T15:02:40.267Z"
   },
   {
    "duration": 15,
    "start_time": "2021-12-01T15:02:40.275Z"
   },
   {
    "duration": 7,
    "start_time": "2021-12-01T15:02:40.292Z"
   },
   {
    "duration": 722,
    "start_time": "2021-12-01T15:03:11.456Z"
   },
   {
    "duration": 4,
    "start_time": "2021-12-01T15:03:23.670Z"
   },
   {
    "duration": 5,
    "start_time": "2021-12-01T15:03:27.468Z"
   },
   {
    "duration": 3,
    "start_time": "2021-12-01T15:03:32.211Z"
   },
   {
    "duration": 196,
    "start_time": "2021-12-01T15:03:32.638Z"
   },
   {
    "duration": 16,
    "start_time": "2021-12-01T15:03:33.040Z"
   },
   {
    "duration": 32,
    "start_time": "2021-12-01T15:03:33.600Z"
   },
   {
    "duration": 5,
    "start_time": "2021-12-01T15:03:34.551Z"
   },
   {
    "duration": 22,
    "start_time": "2021-12-01T15:03:35.000Z"
   },
   {
    "duration": 6,
    "start_time": "2021-12-01T15:03:35.580Z"
   },
   {
    "duration": 31,
    "start_time": "2021-12-01T15:03:36.318Z"
   },
   {
    "duration": 19,
    "start_time": "2021-12-01T15:03:36.910Z"
   },
   {
    "duration": 30,
    "start_time": "2021-12-01T15:03:37.440Z"
   },
   {
    "duration": 78,
    "start_time": "2021-12-01T15:03:38.231Z"
   },
   {
    "duration": 98,
    "start_time": "2021-12-01T15:03:38.750Z"
   },
   {
    "duration": 77,
    "start_time": "2021-12-01T15:03:39.594Z"
   },
   {
    "duration": 58,
    "start_time": "2021-12-01T15:03:40.370Z"
   },
   {
    "duration": 5,
    "start_time": "2021-12-01T15:03:40.968Z"
   },
   {
    "duration": 4,
    "start_time": "2021-12-01T15:03:41.891Z"
   },
   {
    "duration": 57,
    "start_time": "2021-12-01T15:03:42.292Z"
   },
   {
    "duration": 17,
    "start_time": "2021-12-01T15:03:43.680Z"
   },
   {
    "duration": 16,
    "start_time": "2021-12-01T15:03:44.441Z"
   },
   {
    "duration": 40,
    "start_time": "2021-12-01T15:03:45.247Z"
   },
   {
    "duration": 20,
    "start_time": "2021-12-01T15:03:45.960Z"
   },
   {
    "duration": 19,
    "start_time": "2021-12-01T15:03:46.394Z"
   },
   {
    "duration": 20,
    "start_time": "2021-12-01T15:03:46.703Z"
   },
   {
    "duration": 18,
    "start_time": "2021-12-01T15:03:46.840Z"
   },
   {
    "duration": 21,
    "start_time": "2021-12-01T15:03:47.012Z"
   },
   {
    "duration": 18,
    "start_time": "2021-12-01T15:03:47.145Z"
   },
   {
    "duration": 12,
    "start_time": "2021-12-01T15:03:47.920Z"
   },
   {
    "duration": 26,
    "start_time": "2021-12-01T15:03:49.175Z"
   },
   {
    "duration": 25,
    "start_time": "2021-12-01T15:03:49.681Z"
   },
   {
    "duration": 30,
    "start_time": "2021-12-01T15:03:50.431Z"
   },
   {
    "duration": 25,
    "start_time": "2021-12-01T15:03:51.455Z"
   },
   {
    "duration": 19,
    "start_time": "2021-12-01T15:03:51.860Z"
   },
   {
    "duration": 22,
    "start_time": "2021-12-01T15:03:52.194Z"
   },
   {
    "duration": 18,
    "start_time": "2021-12-01T15:03:52.568Z"
   },
   {
    "duration": 16,
    "start_time": "2021-12-01T15:03:53.431Z"
   },
   {
    "duration": 6,
    "start_time": "2021-12-01T15:03:54.342Z"
   },
   {
    "duration": 12,
    "start_time": "2021-12-01T15:03:54.971Z"
   },
   {
    "duration": 6,
    "start_time": "2021-12-01T15:03:55.410Z"
   },
   {
    "duration": 4,
    "start_time": "2021-12-01T15:05:17.579Z"
   },
   {
    "duration": 4,
    "start_time": "2021-12-01T15:05:19.396Z"
   },
   {
    "duration": 4,
    "start_time": "2021-12-01T15:05:28.201Z"
   },
   {
    "duration": 189,
    "start_time": "2021-12-01T15:05:28.623Z"
   },
   {
    "duration": 17,
    "start_time": "2021-12-01T15:05:29.101Z"
   },
   {
    "duration": 34,
    "start_time": "2021-12-01T15:05:29.762Z"
   },
   {
    "duration": 6,
    "start_time": "2021-12-01T15:05:30.621Z"
   },
   {
    "duration": 21,
    "start_time": "2021-12-01T15:05:31.355Z"
   },
   {
    "duration": 6,
    "start_time": "2021-12-01T15:05:31.850Z"
   },
   {
    "duration": 31,
    "start_time": "2021-12-01T15:05:32.631Z"
   },
   {
    "duration": 18,
    "start_time": "2021-12-01T15:05:33.250Z"
   },
   {
    "duration": 32,
    "start_time": "2021-12-01T15:05:33.983Z"
   },
   {
    "duration": 81,
    "start_time": "2021-12-01T15:05:34.772Z"
   },
   {
    "duration": 100,
    "start_time": "2021-12-01T15:05:35.247Z"
   },
   {
    "duration": 84,
    "start_time": "2021-12-01T15:05:36.070Z"
   },
   {
    "duration": 58,
    "start_time": "2021-12-01T15:05:36.751Z"
   },
   {
    "duration": 4,
    "start_time": "2021-12-01T15:05:37.299Z"
   },
   {
    "duration": 4,
    "start_time": "2021-12-01T15:05:38.491Z"
   },
   {
    "duration": 57,
    "start_time": "2021-12-01T15:05:38.960Z"
   },
   {
    "duration": 15,
    "start_time": "2021-12-01T15:05:40.710Z"
   },
   {
    "duration": 15,
    "start_time": "2021-12-01T15:05:41.418Z"
   },
   {
    "duration": 40,
    "start_time": "2021-12-01T15:05:42.162Z"
   },
   {
    "duration": 21,
    "start_time": "2021-12-01T15:05:42.789Z"
   },
   {
    "duration": 18,
    "start_time": "2021-12-01T15:05:43.271Z"
   },
   {
    "duration": 19,
    "start_time": "2021-12-01T15:05:43.460Z"
   },
   {
    "duration": 19,
    "start_time": "2021-12-01T15:05:43.620Z"
   },
   {
    "duration": 21,
    "start_time": "2021-12-01T15:05:43.791Z"
   },
   {
    "duration": 21,
    "start_time": "2021-12-01T15:05:43.965Z"
   },
   {
    "duration": 13,
    "start_time": "2021-12-01T15:05:44.896Z"
   },
   {
    "duration": 27,
    "start_time": "2021-12-01T15:05:46.201Z"
   },
   {
    "duration": 24,
    "start_time": "2021-12-01T15:05:46.720Z"
   },
   {
    "duration": 31,
    "start_time": "2021-12-01T15:05:47.366Z"
   },
   {
    "duration": 24,
    "start_time": "2021-12-01T15:05:48.102Z"
   },
   {
    "duration": 16,
    "start_time": "2021-12-01T15:05:48.272Z"
   },
   {
    "duration": 23,
    "start_time": "2021-12-01T15:05:48.445Z"
   },
   {
    "duration": 18,
    "start_time": "2021-12-01T15:05:48.596Z"
   },
   {
    "duration": 14,
    "start_time": "2021-12-01T15:05:49.433Z"
   },
   {
    "duration": 6,
    "start_time": "2021-12-01T15:05:50.505Z"
   },
   {
    "duration": 12,
    "start_time": "2021-12-01T15:05:51.230Z"
   },
   {
    "duration": 6,
    "start_time": "2021-12-01T15:05:51.631Z"
   },
   {
    "duration": 917,
    "start_time": "2021-12-01T15:06:10.313Z"
   },
   {
    "duration": 213,
    "start_time": "2021-12-01T15:06:11.234Z"
   },
   {
    "duration": 32,
    "start_time": "2021-12-01T15:06:11.450Z"
   },
   {
    "duration": 47,
    "start_time": "2021-12-01T15:06:11.486Z"
   },
   {
    "duration": 8,
    "start_time": "2021-12-01T15:06:11.535Z"
   },
   {
    "duration": 27,
    "start_time": "2021-12-01T15:06:11.560Z"
   },
   {
    "duration": 14,
    "start_time": "2021-12-01T15:06:11.590Z"
   },
   {
    "duration": 56,
    "start_time": "2021-12-01T15:06:11.606Z"
   },
   {
    "duration": 23,
    "start_time": "2021-12-01T15:06:11.666Z"
   },
   {
    "duration": 46,
    "start_time": "2021-12-01T15:06:11.692Z"
   },
   {
    "duration": 101,
    "start_time": "2021-12-01T15:06:11.741Z"
   },
   {
    "duration": 127,
    "start_time": "2021-12-01T15:06:11.845Z"
   },
   {
    "duration": 97,
    "start_time": "2021-12-01T15:06:11.974Z"
   },
   {
    "duration": 67,
    "start_time": "2021-12-01T15:06:12.073Z"
   },
   {
    "duration": 17,
    "start_time": "2021-12-01T15:06:12.143Z"
   },
   {
    "duration": 15,
    "start_time": "2021-12-01T15:06:12.163Z"
   },
   {
    "duration": 79,
    "start_time": "2021-12-01T15:06:12.181Z"
   },
   {
    "duration": 18,
    "start_time": "2021-12-01T15:06:12.263Z"
   },
   {
    "duration": 20,
    "start_time": "2021-12-01T15:06:12.284Z"
   },
   {
    "duration": 69,
    "start_time": "2021-12-01T15:06:12.306Z"
   },
   {
    "duration": 21,
    "start_time": "2021-12-01T15:06:12.377Z"
   },
   {
    "duration": 41,
    "start_time": "2021-12-01T15:06:12.401Z"
   },
   {
    "duration": 21,
    "start_time": "2021-12-01T15:06:12.460Z"
   },
   {
    "duration": 21,
    "start_time": "2021-12-01T15:06:12.484Z"
   },
   {
    "duration": 20,
    "start_time": "2021-12-01T15:06:12.507Z"
   },
   {
    "duration": 44,
    "start_time": "2021-12-01T15:06:12.530Z"
   },
   {
    "duration": 30,
    "start_time": "2021-12-01T15:06:12.579Z"
   },
   {
    "duration": 33,
    "start_time": "2021-12-01T15:06:12.612Z"
   },
   {
    "duration": 29,
    "start_time": "2021-12-01T15:06:12.648Z"
   },
   {
    "duration": 29,
    "start_time": "2021-12-01T15:06:12.679Z"
   },
   {
    "duration": 52,
    "start_time": "2021-12-01T15:06:12.710Z"
   },
   {
    "duration": 16,
    "start_time": "2021-12-01T15:06:12.764Z"
   },
   {
    "duration": 35,
    "start_time": "2021-12-01T15:06:12.782Z"
   },
   {
    "duration": 40,
    "start_time": "2021-12-01T15:06:12.819Z"
   },
   {
    "duration": 16,
    "start_time": "2021-12-01T15:06:12.862Z"
   },
   {
    "duration": 6,
    "start_time": "2021-12-01T15:06:12.881Z"
   },
   {
    "duration": 17,
    "start_time": "2021-12-01T15:06:12.889Z"
   },
   {
    "duration": 7,
    "start_time": "2021-12-01T15:06:12.908Z"
   },
   {
    "duration": 858,
    "start_time": "2021-12-01T17:16:51.917Z"
   },
   {
    "duration": 193,
    "start_time": "2021-12-01T17:16:52.778Z"
   },
   {
    "duration": 27,
    "start_time": "2021-12-01T17:16:52.974Z"
   },
   {
    "duration": 35,
    "start_time": "2021-12-01T17:16:53.086Z"
   },
   {
    "duration": 6,
    "start_time": "2021-12-01T17:16:54.299Z"
   },
   {
    "duration": 26,
    "start_time": "2021-12-01T17:16:54.771Z"
   },
   {
    "duration": 5,
    "start_time": "2021-12-01T17:16:55.235Z"
   },
   {
    "duration": 31,
    "start_time": "2021-12-01T17:16:55.902Z"
   },
   {
    "duration": 18,
    "start_time": "2021-12-01T17:16:56.484Z"
   },
   {
    "duration": 30,
    "start_time": "2021-12-01T17:16:57.212Z"
   },
   {
    "duration": 82,
    "start_time": "2021-12-01T17:16:57.855Z"
   },
   {
    "duration": 98,
    "start_time": "2021-12-01T17:16:58.365Z"
   },
   {
    "duration": 73,
    "start_time": "2021-12-01T17:16:59.268Z"
   },
   {
    "duration": 57,
    "start_time": "2021-12-01T17:17:00.200Z"
   },
   {
    "duration": 4,
    "start_time": "2021-12-01T17:17:00.908Z"
   },
   {
    "duration": 3,
    "start_time": "2021-12-01T17:17:02.831Z"
   },
   {
    "duration": 55,
    "start_time": "2021-12-01T17:17:03.118Z"
   },
   {
    "duration": 14,
    "start_time": "2021-12-01T17:17:04.628Z"
   },
   {
    "duration": 14,
    "start_time": "2021-12-01T17:17:05.326Z"
   },
   {
    "duration": 38,
    "start_time": "2021-12-01T17:17:05.885Z"
   },
   {
    "duration": 20,
    "start_time": "2021-12-01T17:17:06.445Z"
   },
   {
    "duration": 19,
    "start_time": "2021-12-01T17:17:07.132Z"
   },
   {
    "duration": 19,
    "start_time": "2021-12-01T17:17:07.302Z"
   },
   {
    "duration": 18,
    "start_time": "2021-12-01T17:17:07.462Z"
   },
   {
    "duration": 21,
    "start_time": "2021-12-01T17:17:07.603Z"
   },
   {
    "duration": 17,
    "start_time": "2021-12-01T17:17:07.768Z"
   },
   {
    "duration": 13,
    "start_time": "2021-12-01T17:17:08.782Z"
   },
   {
    "duration": 25,
    "start_time": "2021-12-01T17:17:09.772Z"
   },
   {
    "duration": 22,
    "start_time": "2021-12-01T17:17:10.172Z"
   },
   {
    "duration": 28,
    "start_time": "2021-12-01T17:17:10.732Z"
   },
   {
    "duration": 24,
    "start_time": "2021-12-01T17:17:11.281Z"
   },
   {
    "duration": 17,
    "start_time": "2021-12-01T17:17:11.391Z"
   },
   {
    "duration": 22,
    "start_time": "2021-12-01T17:17:11.541Z"
   },
   {
    "duration": 17,
    "start_time": "2021-12-01T17:17:11.662Z"
   },
   {
    "duration": 16,
    "start_time": "2021-12-01T17:17:12.400Z"
   },
   {
    "duration": 7,
    "start_time": "2021-12-01T17:17:13.292Z"
   },
   {
    "duration": 12,
    "start_time": "2021-12-01T17:17:14.138Z"
   },
   {
    "duration": 6,
    "start_time": "2021-12-01T17:17:14.550Z"
   },
   {
    "duration": 156,
    "start_time": "2021-12-01T17:17:34.552Z"
   },
   {
    "duration": 4,
    "start_time": "2021-12-01T17:17:48.809Z"
   },
   {
    "duration": 4,
    "start_time": "2021-12-01T17:17:52.108Z"
   },
   {
    "duration": 5,
    "start_time": "2021-12-01T17:19:25.776Z"
   },
   {
    "duration": 5,
    "start_time": "2021-12-01T17:41:28.242Z"
   },
   {
    "duration": 5,
    "start_time": "2021-12-01T17:41:31.348Z"
   },
   {
    "duration": 4,
    "start_time": "2021-12-01T17:41:43.156Z"
   },
   {
    "duration": 3,
    "start_time": "2021-12-01T17:41:56.485Z"
   },
   {
    "duration": 179,
    "start_time": "2021-12-01T17:41:57.066Z"
   },
   {
    "duration": 16,
    "start_time": "2021-12-01T17:41:57.516Z"
   },
   {
    "duration": 33,
    "start_time": "2021-12-01T17:41:57.954Z"
   },
   {
    "duration": 6,
    "start_time": "2021-12-01T17:41:58.797Z"
   },
   {
    "duration": 25,
    "start_time": "2021-12-01T17:41:59.242Z"
   },
   {
    "duration": 6,
    "start_time": "2021-12-01T17:41:59.748Z"
   },
   {
    "duration": 31,
    "start_time": "2021-12-01T17:42:00.366Z"
   },
   {
    "duration": 18,
    "start_time": "2021-12-01T17:42:00.926Z"
   },
   {
    "duration": 30,
    "start_time": "2021-12-01T17:42:02.044Z"
   },
   {
    "duration": 80,
    "start_time": "2021-12-01T17:42:02.681Z"
   },
   {
    "duration": 86,
    "start_time": "2021-12-01T17:42:03.154Z"
   },
   {
    "duration": 79,
    "start_time": "2021-12-01T17:42:04.081Z"
   },
   {
    "duration": 58,
    "start_time": "2021-12-01T17:42:04.848Z"
   },
   {
    "duration": 5,
    "start_time": "2021-12-01T17:42:05.608Z"
   },
   {
    "duration": 4,
    "start_time": "2021-12-01T17:42:07.177Z"
   },
   {
    "duration": 67,
    "start_time": "2021-12-01T17:42:07.757Z"
   },
   {
    "duration": 15,
    "start_time": "2021-12-01T17:42:09.220Z"
   },
   {
    "duration": 15,
    "start_time": "2021-12-01T17:42:09.784Z"
   },
   {
    "duration": 38,
    "start_time": "2021-12-01T17:42:10.377Z"
   },
   {
    "duration": 29,
    "start_time": "2021-12-01T17:42:10.962Z"
   },
   {
    "duration": 19,
    "start_time": "2021-12-01T17:42:11.387Z"
   },
   {
    "duration": 18,
    "start_time": "2021-12-01T17:42:11.518Z"
   },
   {
    "duration": 18,
    "start_time": "2021-12-01T17:42:11.696Z"
   },
   {
    "duration": 20,
    "start_time": "2021-12-01T17:42:11.816Z"
   },
   {
    "duration": 18,
    "start_time": "2021-12-01T17:42:12.102Z"
   },
   {
    "duration": 12,
    "start_time": "2021-12-01T17:42:12.796Z"
   },
   {
    "duration": 24,
    "start_time": "2021-12-01T17:42:14.157Z"
   },
   {
    "duration": 26,
    "start_time": "2021-12-01T17:42:14.587Z"
   },
   {
    "duration": 32,
    "start_time": "2021-12-01T17:42:15.158Z"
   },
   {
    "duration": 25,
    "start_time": "2021-12-01T17:42:15.799Z"
   },
   {
    "duration": 18,
    "start_time": "2021-12-01T17:42:15.918Z"
   },
   {
    "duration": 24,
    "start_time": "2021-12-01T17:42:16.055Z"
   },
   {
    "duration": 19,
    "start_time": "2021-12-01T17:42:16.228Z"
   },
   {
    "duration": 16,
    "start_time": "2021-12-01T17:42:17.024Z"
   },
   {
    "duration": 6,
    "start_time": "2021-12-01T17:42:18.157Z"
   },
   {
    "duration": 13,
    "start_time": "2021-12-01T17:42:18.908Z"
   },
   {
    "duration": 7,
    "start_time": "2021-12-01T17:42:19.446Z"
   },
   {
    "duration": 126,
    "start_time": "2021-12-01T17:43:24.676Z"
   },
   {
    "duration": 4,
    "start_time": "2021-12-01T17:43:31.378Z"
   },
   {
    "duration": 4,
    "start_time": "2021-12-01T18:06:19.879Z"
   },
   {
    "duration": 4,
    "start_time": "2021-12-01T18:06:23.470Z"
   },
   {
    "duration": 4,
    "start_time": "2021-12-01T18:06:28.350Z"
   },
   {
    "duration": 182,
    "start_time": "2021-12-01T18:06:28.746Z"
   },
   {
    "duration": 17,
    "start_time": "2021-12-01T18:06:29.178Z"
   },
   {
    "duration": 31,
    "start_time": "2021-12-01T18:06:29.581Z"
   },
   {
    "duration": 6,
    "start_time": "2021-12-01T18:06:30.421Z"
   },
   {
    "duration": 17,
    "start_time": "2021-12-01T18:06:31.032Z"
   },
   {
    "duration": 6,
    "start_time": "2021-12-01T18:06:31.597Z"
   },
   {
    "duration": 30,
    "start_time": "2021-12-01T18:06:32.490Z"
   },
   {
    "duration": 18,
    "start_time": "2021-12-01T18:06:33.173Z"
   },
   {
    "duration": 32,
    "start_time": "2021-12-01T18:06:33.851Z"
   },
   {
    "duration": 81,
    "start_time": "2021-12-01T18:06:34.461Z"
   },
   {
    "duration": 94,
    "start_time": "2021-12-01T18:06:34.918Z"
   },
   {
    "duration": 73,
    "start_time": "2021-12-01T18:06:35.668Z"
   },
   {
    "duration": 58,
    "start_time": "2021-12-01T18:06:36.552Z"
   },
   {
    "duration": 5,
    "start_time": "2021-12-01T18:06:37.920Z"
   },
   {
    "duration": 4,
    "start_time": "2021-12-01T18:06:38.943Z"
   },
   {
    "duration": 60,
    "start_time": "2021-12-01T18:06:39.320Z"
   },
   {
    "duration": 15,
    "start_time": "2021-12-01T18:06:40.774Z"
   },
   {
    "duration": 16,
    "start_time": "2021-12-01T18:06:41.369Z"
   },
   {
    "duration": 36,
    "start_time": "2021-12-01T18:06:43.492Z"
   },
   {
    "duration": 19,
    "start_time": "2021-12-01T18:06:43.531Z"
   },
   {
    "duration": 17,
    "start_time": "2021-12-01T18:06:43.553Z"
   },
   {
    "duration": 18,
    "start_time": "2021-12-01T18:06:43.573Z"
   },
   {
    "duration": 17,
    "start_time": "2021-12-01T18:06:43.593Z"
   },
   {
    "duration": 56,
    "start_time": "2021-12-01T18:06:43.613Z"
   },
   {
    "duration": 20,
    "start_time": "2021-12-01T18:06:43.749Z"
   },
   {
    "duration": 12,
    "start_time": "2021-12-01T18:06:44.528Z"
   },
   {
    "duration": 26,
    "start_time": "2021-12-01T18:06:45.680Z"
   },
   {
    "duration": 24,
    "start_time": "2021-12-01T18:06:46.240Z"
   },
   {
    "duration": 32,
    "start_time": "2021-12-01T18:06:47.030Z"
   },
   {
    "duration": 24,
    "start_time": "2021-12-01T18:06:47.743Z"
   },
   {
    "duration": 18,
    "start_time": "2021-12-01T18:06:47.906Z"
   },
   {
    "duration": 21,
    "start_time": "2021-12-01T18:06:48.071Z"
   },
   {
    "duration": 16,
    "start_time": "2021-12-01T18:06:48.269Z"
   },
   {
    "duration": 16,
    "start_time": "2021-12-01T18:06:49.065Z"
   },
   {
    "duration": 6,
    "start_time": "2021-12-01T18:06:49.899Z"
   },
   {
    "duration": 12,
    "start_time": "2021-12-01T18:06:50.661Z"
   },
   {
    "duration": 6,
    "start_time": "2021-12-01T18:06:51.150Z"
   },
   {
    "duration": 489,
    "start_time": "2021-12-02T07:48:52.912Z"
   },
   {
    "duration": 497,
    "start_time": "2021-12-02T08:07:57.741Z"
   },
   {
    "duration": 441,
    "start_time": "2021-12-02T08:10:00.579Z"
   },
   {
    "duration": 529,
    "start_time": "2021-12-02T08:10:16.992Z"
   },
   {
    "duration": 546,
    "start_time": "2021-12-02T08:10:22.896Z"
   },
   {
    "duration": 432,
    "start_time": "2021-12-02T08:25:59.292Z"
   },
   {
    "duration": 10,
    "start_time": "2021-12-02T08:26:06.211Z"
   },
   {
    "duration": 10,
    "start_time": "2021-12-02T08:26:10.172Z"
   },
   {
    "duration": 3,
    "start_time": "2021-12-02T08:26:14.644Z"
   },
   {
    "duration": 38,
    "start_time": "2021-12-02T08:26:15.480Z"
   },
   {
    "duration": 2,
    "start_time": "2021-12-02T08:53:21.541Z"
   },
   {
    "duration": 145,
    "start_time": "2021-12-02T08:53:22.510Z"
   },
   {
    "duration": 9,
    "start_time": "2021-12-02T08:53:22.951Z"
   },
   {
    "duration": 23,
    "start_time": "2021-12-02T08:53:23.400Z"
   },
   {
    "duration": 5,
    "start_time": "2021-12-02T08:53:24.330Z"
   },
   {
    "duration": 19,
    "start_time": "2021-12-02T08:53:24.780Z"
   },
   {
    "duration": 4,
    "start_time": "2021-12-02T08:53:25.261Z"
   },
   {
    "duration": 22,
    "start_time": "2021-12-02T08:53:26.069Z"
   },
   {
    "duration": 14,
    "start_time": "2021-12-02T08:53:26.730Z"
   },
   {
    "duration": 22,
    "start_time": "2021-12-02T08:53:27.359Z"
   },
   {
    "duration": 57,
    "start_time": "2021-12-02T08:53:27.990Z"
   },
   {
    "duration": 62,
    "start_time": "2021-12-02T08:53:28.490Z"
   },
   {
    "duration": 45,
    "start_time": "2021-12-02T08:53:29.252Z"
   },
   {
    "duration": 46,
    "start_time": "2021-12-02T08:53:29.990Z"
   },
   {
    "duration": 10,
    "start_time": "2021-12-02T08:53:30.931Z"
   },
   {
    "duration": 3,
    "start_time": "2021-12-02T08:53:31.978Z"
   },
   {
    "duration": 38,
    "start_time": "2021-12-02T08:53:32.425Z"
   },
   {
    "duration": 11,
    "start_time": "2021-12-02T08:53:33.961Z"
   },
   {
    "duration": 10,
    "start_time": "2021-12-02T08:53:34.561Z"
   },
   {
    "duration": 26,
    "start_time": "2021-12-02T08:53:35.204Z"
   },
   {
    "duration": 15,
    "start_time": "2021-12-02T08:53:35.822Z"
   },
   {
    "duration": 14,
    "start_time": "2021-12-02T08:53:36.337Z"
   },
   {
    "duration": 16,
    "start_time": "2021-12-02T08:53:36.500Z"
   },
   {
    "duration": 16,
    "start_time": "2021-12-02T08:53:36.699Z"
   },
   {
    "duration": 18,
    "start_time": "2021-12-02T08:53:36.861Z"
   },
   {
    "duration": 15,
    "start_time": "2021-12-02T08:53:37.019Z"
   },
   {
    "duration": 8,
    "start_time": "2021-12-02T08:53:37.839Z"
   },
   {
    "duration": 18,
    "start_time": "2021-12-02T08:53:39.021Z"
   },
   {
    "duration": 17,
    "start_time": "2021-12-02T08:53:39.520Z"
   },
   {
    "duration": 21,
    "start_time": "2021-12-02T08:53:40.512Z"
   },
   {
    "duration": 18,
    "start_time": "2021-12-02T08:53:41.215Z"
   },
   {
    "duration": 13,
    "start_time": "2021-12-02T08:53:41.381Z"
   },
   {
    "duration": 16,
    "start_time": "2021-12-02T08:53:41.570Z"
   },
   {
    "duration": 12,
    "start_time": "2021-12-02T08:53:41.740Z"
   },
   {
    "duration": 10,
    "start_time": "2021-12-02T08:53:42.591Z"
   },
   {
    "duration": 4,
    "start_time": "2021-12-02T08:53:43.550Z"
   },
   {
    "duration": 8,
    "start_time": "2021-12-02T08:53:44.341Z"
   },
   {
    "duration": 5,
    "start_time": "2021-12-02T08:53:44.829Z"
   },
   {
    "duration": 3,
    "start_time": "2021-12-02T09:05:54.020Z"
   },
   {
    "duration": 133,
    "start_time": "2021-12-02T09:05:54.460Z"
   },
   {
    "duration": 10,
    "start_time": "2021-12-02T09:05:54.910Z"
   },
   {
    "duration": 23,
    "start_time": "2021-12-02T09:05:55.361Z"
   },
   {
    "duration": 4,
    "start_time": "2021-12-02T09:05:56.290Z"
   },
   {
    "duration": 18,
    "start_time": "2021-12-02T09:05:56.881Z"
   },
   {
    "duration": 5,
    "start_time": "2021-12-02T09:05:57.501Z"
   },
   {
    "duration": 22,
    "start_time": "2021-12-02T09:05:58.281Z"
   },
   {
    "duration": 13,
    "start_time": "2021-12-02T09:05:58.891Z"
   },
   {
    "duration": 34,
    "start_time": "2021-12-02T09:05:59.521Z"
   },
   {
    "duration": 53,
    "start_time": "2021-12-02T09:06:00.134Z"
   },
   {
    "duration": 58,
    "start_time": "2021-12-02T09:06:00.621Z"
   },
   {
    "duration": 50,
    "start_time": "2021-12-02T09:06:01.422Z"
   },
   {
    "duration": 44,
    "start_time": "2021-12-02T09:06:02.190Z"
   },
   {
    "duration": 9,
    "start_time": "2021-12-02T09:06:02.781Z"
   },
   {
    "duration": 2,
    "start_time": "2021-12-02T09:06:03.861Z"
   },
   {
    "duration": 41,
    "start_time": "2021-12-02T09:06:04.280Z"
   },
   {
    "duration": 11,
    "start_time": "2021-12-02T09:06:05.828Z"
   },
   {
    "duration": 11,
    "start_time": "2021-12-02T09:06:06.420Z"
   },
   {
    "duration": 26,
    "start_time": "2021-12-02T09:06:07.023Z"
   },
   {
    "duration": 15,
    "start_time": "2021-12-02T09:06:07.650Z"
   },
   {
    "duration": 14,
    "start_time": "2021-12-02T09:06:08.160Z"
   },
   {
    "duration": 15,
    "start_time": "2021-12-02T09:06:08.311Z"
   },
   {
    "duration": 13,
    "start_time": "2021-12-02T09:06:08.499Z"
   },
   {
    "duration": 16,
    "start_time": "2021-12-02T09:06:08.650Z"
   },
   {
    "duration": 14,
    "start_time": "2021-12-02T09:06:08.810Z"
   },
   {
    "duration": 8,
    "start_time": "2021-12-02T09:06:09.707Z"
   },
   {
    "duration": 16,
    "start_time": "2021-12-02T09:06:10.770Z"
   },
   {
    "duration": 17,
    "start_time": "2021-12-02T09:06:11.229Z"
   },
   {
    "duration": 23,
    "start_time": "2021-12-02T09:06:11.782Z"
   },
   {
    "duration": 19,
    "start_time": "2021-12-02T09:06:12.358Z"
   },
   {
    "duration": 13,
    "start_time": "2021-12-02T09:06:12.474Z"
   },
   {
    "duration": 17,
    "start_time": "2021-12-02T09:06:12.664Z"
   },
   {
    "duration": 14,
    "start_time": "2021-12-02T09:06:12.785Z"
   },
   {
    "duration": 10,
    "start_time": "2021-12-02T09:06:13.582Z"
   },
   {
    "duration": 5,
    "start_time": "2021-12-02T09:06:15.615Z"
   },
   {
    "duration": 10,
    "start_time": "2021-12-02T09:06:15.621Z"
   },
   {
    "duration": 4,
    "start_time": "2021-12-02T09:06:15.962Z"
   },
   {
    "duration": 2,
    "start_time": "2021-12-02T09:32:32.525Z"
   },
   {
    "duration": 127,
    "start_time": "2021-12-02T09:32:32.964Z"
   },
   {
    "duration": 10,
    "start_time": "2021-12-02T09:32:33.431Z"
   },
   {
    "duration": 22,
    "start_time": "2021-12-02T09:32:33.863Z"
   },
   {
    "duration": 4,
    "start_time": "2021-12-02T09:32:34.753Z"
   },
   {
    "duration": 14,
    "start_time": "2021-12-02T09:32:35.353Z"
   },
   {
    "duration": 3,
    "start_time": "2021-12-02T09:32:35.823Z"
   },
   {
    "duration": 21,
    "start_time": "2021-12-02T09:32:36.593Z"
   },
   {
    "duration": 14,
    "start_time": "2021-12-02T09:32:37.183Z"
   },
   {
    "duration": 22,
    "start_time": "2021-12-02T09:32:37.804Z"
   },
   {
    "duration": 54,
    "start_time": "2021-12-02T09:32:38.403Z"
   },
   {
    "duration": 57,
    "start_time": "2021-12-02T09:32:38.839Z"
   },
   {
    "duration": 46,
    "start_time": "2021-12-02T09:32:39.633Z"
   },
   {
    "duration": 38,
    "start_time": "2021-12-02T09:32:40.383Z"
   },
   {
    "duration": 10,
    "start_time": "2021-12-02T09:32:43.053Z"
   },
   {
    "duration": 3,
    "start_time": "2021-12-02T09:32:44.143Z"
   },
   {
    "duration": 37,
    "start_time": "2021-12-02T09:32:44.604Z"
   },
   {
    "duration": 11,
    "start_time": "2021-12-02T09:32:46.205Z"
   },
   {
    "duration": 11,
    "start_time": "2021-12-02T09:32:46.853Z"
   },
   {
    "duration": 28,
    "start_time": "2021-12-02T09:32:47.502Z"
   },
   {
    "duration": 16,
    "start_time": "2021-12-02T09:32:48.134Z"
   },
   {
    "duration": 21,
    "start_time": "2021-12-02T09:32:48.616Z"
   },
   {
    "duration": 22,
    "start_time": "2021-12-02T09:32:48.767Z"
   },
   {
    "duration": 20,
    "start_time": "2021-12-02T09:32:48.928Z"
   },
   {
    "duration": 15,
    "start_time": "2021-12-02T09:32:49.083Z"
   },
   {
    "duration": 15,
    "start_time": "2021-12-02T09:32:49.223Z"
   },
   {
    "duration": 7,
    "start_time": "2021-12-02T09:32:49.953Z"
   },
   {
    "duration": 16,
    "start_time": "2021-12-02T09:32:51.022Z"
   },
   {
    "duration": 16,
    "start_time": "2021-12-02T09:32:51.463Z"
   },
   {
    "duration": 22,
    "start_time": "2021-12-02T09:32:52.052Z"
   },
   {
    "duration": 17,
    "start_time": "2021-12-02T09:32:52.684Z"
   },
   {
    "duration": 13,
    "start_time": "2021-12-02T09:32:52.803Z"
   },
   {
    "duration": 17,
    "start_time": "2021-12-02T09:32:52.983Z"
   },
   {
    "duration": 13,
    "start_time": "2021-12-02T09:32:53.133Z"
   },
   {
    "duration": 10,
    "start_time": "2021-12-02T09:32:53.914Z"
   },
   {
    "duration": 4,
    "start_time": "2021-12-02T09:32:54.883Z"
   },
   {
    "duration": 9,
    "start_time": "2021-12-02T09:32:55.673Z"
   },
   {
    "duration": 4,
    "start_time": "2021-12-02T09:32:56.176Z"
   },
   {
    "duration": 3,
    "start_time": "2021-12-02T10:22:06.777Z"
   },
   {
    "duration": 2,
    "start_time": "2021-12-02T10:22:08.668Z"
   },
   {
    "duration": 9,
    "start_time": "2021-12-02T10:24:05.776Z"
   },
   {
    "duration": 9,
    "start_time": "2021-12-02T10:24:07.558Z"
   },
   {
    "duration": 39,
    "start_time": "2021-12-02T10:24:38.738Z"
   },
   {
    "duration": 3,
    "start_time": "2021-12-02T10:24:59.469Z"
   },
   {
    "duration": 3,
    "start_time": "2021-12-02T10:27:06.556Z"
   },
   {
    "duration": 126,
    "start_time": "2021-12-02T10:27:06.997Z"
   },
   {
    "duration": 10,
    "start_time": "2021-12-02T10:27:07.419Z"
   },
   {
    "duration": 22,
    "start_time": "2021-12-02T10:27:07.878Z"
   },
   {
    "duration": 4,
    "start_time": "2021-12-02T10:27:08.816Z"
   },
   {
    "duration": 14,
    "start_time": "2021-12-02T10:27:09.279Z"
   },
   {
    "duration": 4,
    "start_time": "2021-12-02T10:27:09.764Z"
   },
   {
    "duration": 23,
    "start_time": "2021-12-02T10:27:10.518Z"
   },
   {
    "duration": 14,
    "start_time": "2021-12-02T10:27:11.124Z"
   },
   {
    "duration": 23,
    "start_time": "2021-12-02T10:27:11.695Z"
   },
   {
    "duration": 50,
    "start_time": "2021-12-02T10:27:12.239Z"
   },
   {
    "duration": 58,
    "start_time": "2021-12-02T10:27:12.661Z"
   },
   {
    "duration": 54,
    "start_time": "2021-12-02T10:27:13.438Z"
   },
   {
    "duration": 39,
    "start_time": "2021-12-02T10:27:14.185Z"
   },
   {
    "duration": 3,
    "start_time": "2021-12-02T10:27:14.847Z"
   },
   {
    "duration": 9,
    "start_time": "2021-12-02T10:27:15.918Z"
   },
   {
    "duration": 38,
    "start_time": "2021-12-02T10:27:16.379Z"
   },
   {
    "duration": 10,
    "start_time": "2021-12-02T10:27:18.168Z"
   },
   {
    "duration": 15,
    "start_time": "2021-12-02T10:27:18.609Z"
   },
   {
    "duration": 26,
    "start_time": "2021-12-02T10:27:19.280Z"
   },
   {
    "duration": 16,
    "start_time": "2021-12-02T10:27:19.948Z"
   },
   {
    "duration": 14,
    "start_time": "2021-12-02T10:27:20.428Z"
   },
   {
    "duration": 15,
    "start_time": "2021-12-02T10:27:20.662Z"
   },
   {
    "duration": 14,
    "start_time": "2021-12-02T10:27:20.856Z"
   },
   {
    "duration": 15,
    "start_time": "2021-12-02T10:27:20.895Z"
   },
   {
    "duration": 15,
    "start_time": "2021-12-02T10:27:21.023Z"
   },
   {
    "duration": 8,
    "start_time": "2021-12-02T10:27:21.816Z"
   },
   {
    "duration": 17,
    "start_time": "2021-12-02T10:27:22.919Z"
   },
   {
    "duration": 17,
    "start_time": "2021-12-02T10:27:23.399Z"
   },
   {
    "duration": 22,
    "start_time": "2021-12-02T10:27:23.980Z"
   },
   {
    "duration": 18,
    "start_time": "2021-12-02T10:27:24.589Z"
   },
   {
    "duration": 13,
    "start_time": "2021-12-02T10:27:24.738Z"
   },
   {
    "duration": 17,
    "start_time": "2021-12-02T10:27:24.899Z"
   },
   {
    "duration": 12,
    "start_time": "2021-12-02T10:27:25.039Z"
   },
   {
    "duration": 10,
    "start_time": "2021-12-02T10:27:25.859Z"
   },
   {
    "duration": 5,
    "start_time": "2021-12-02T10:27:26.807Z"
   },
   {
    "duration": 9,
    "start_time": "2021-12-02T10:27:27.621Z"
   },
   {
    "duration": 6,
    "start_time": "2021-12-02T10:27:28.108Z"
   },
   {
    "duration": 4,
    "start_time": "2021-12-02T10:56:14.453Z"
   },
   {
    "duration": 147,
    "start_time": "2021-12-02T10:56:14.888Z"
   },
   {
    "duration": 23,
    "start_time": "2021-12-02T10:56:15.337Z"
   },
   {
    "duration": 22,
    "start_time": "2021-12-02T10:56:15.789Z"
   },
   {
    "duration": 4,
    "start_time": "2021-12-02T10:56:16.708Z"
   },
   {
    "duration": 15,
    "start_time": "2021-12-02T10:56:17.181Z"
   },
   {
    "duration": 4,
    "start_time": "2021-12-02T10:56:17.666Z"
   },
   {
    "duration": 21,
    "start_time": "2021-12-02T10:56:18.398Z"
   },
   {
    "duration": 14,
    "start_time": "2021-12-02T10:56:20.136Z"
   },
   {
    "duration": 41,
    "start_time": "2021-12-02T10:56:20.151Z"
   },
   {
    "duration": 56,
    "start_time": "2021-12-02T10:56:20.624Z"
   },
   {
    "duration": 66,
    "start_time": "2021-12-02T10:56:21.199Z"
   },
   {
    "duration": 56,
    "start_time": "2021-12-02T10:56:22.223Z"
   },
   {
    "duration": 39,
    "start_time": "2021-12-02T10:56:23.249Z"
   },
   {
    "duration": 4,
    "start_time": "2021-12-02T10:56:24.683Z"
   },
   {
    "duration": 13,
    "start_time": "2021-12-02T10:56:25.759Z"
   },
   {
    "duration": 53,
    "start_time": "2021-12-02T10:56:26.349Z"
   },
   {
    "duration": 10,
    "start_time": "2021-12-02T10:56:28.030Z"
   },
   {
    "duration": 11,
    "start_time": "2021-12-02T10:56:28.628Z"
   },
   {
    "duration": 33,
    "start_time": "2021-12-02T10:56:29.261Z"
   },
   {
    "duration": 18,
    "start_time": "2021-12-02T10:56:30.077Z"
   },
   {
    "duration": 13,
    "start_time": "2021-12-02T10:56:30.597Z"
   },
   {
    "duration": 17,
    "start_time": "2021-12-02T10:56:30.759Z"
   },
   {
    "duration": 13,
    "start_time": "2021-12-02T10:56:30.921Z"
   },
   {
    "duration": 19,
    "start_time": "2021-12-02T10:56:31.078Z"
   },
   {
    "duration": 13,
    "start_time": "2021-12-02T10:56:31.225Z"
   },
   {
    "duration": 9,
    "start_time": "2021-12-02T10:56:32.078Z"
   },
   {
    "duration": 16,
    "start_time": "2021-12-02T10:56:33.309Z"
   },
   {
    "duration": 19,
    "start_time": "2021-12-02T10:56:33.901Z"
   },
   {
    "duration": 23,
    "start_time": "2021-12-02T10:56:34.569Z"
   },
   {
    "duration": 18,
    "start_time": "2021-12-02T10:56:35.247Z"
   },
   {
    "duration": 14,
    "start_time": "2021-12-02T10:56:35.399Z"
   },
   {
    "duration": 16,
    "start_time": "2021-12-02T10:56:35.558Z"
   },
   {
    "duration": 11,
    "start_time": "2021-12-02T10:56:35.728Z"
   },
   {
    "duration": 10,
    "start_time": "2021-12-02T10:56:36.598Z"
   },
   {
    "duration": 5,
    "start_time": "2021-12-02T10:56:37.788Z"
   },
   {
    "duration": 9,
    "start_time": "2021-12-02T10:56:38.739Z"
   },
   {
    "duration": 5,
    "start_time": "2021-12-02T10:56:39.405Z"
   },
   {
    "duration": 8,
    "start_time": "2021-12-02T11:02:29.304Z"
   },
   {
    "duration": 3,
    "start_time": "2021-12-02T11:02:35.326Z"
   },
   {
    "duration": 132,
    "start_time": "2021-12-02T11:02:36.258Z"
   },
   {
    "duration": 15,
    "start_time": "2021-12-02T11:02:36.742Z"
   },
   {
    "duration": 24,
    "start_time": "2021-12-02T11:02:37.239Z"
   },
   {
    "duration": 4,
    "start_time": "2021-12-02T11:02:38.189Z"
   },
   {
    "duration": 14,
    "start_time": "2021-12-02T11:02:38.638Z"
   },
   {
    "duration": 4,
    "start_time": "2021-12-02T11:02:39.119Z"
   },
   {
    "duration": 28,
    "start_time": "2021-12-02T11:02:39.935Z"
   },
   {
    "duration": 14,
    "start_time": "2021-12-02T11:02:40.697Z"
   },
   {
    "duration": 23,
    "start_time": "2021-12-02T11:02:41.302Z"
   },
   {
    "duration": 79,
    "start_time": "2021-12-02T11:02:41.983Z"
   },
   {
    "duration": 59,
    "start_time": "2021-12-02T11:02:42.663Z"
   },
   {
    "duration": 75,
    "start_time": "2021-12-02T11:02:43.458Z"
   },
   {
    "duration": 41,
    "start_time": "2021-12-02T11:02:44.248Z"
   },
   {
    "duration": 3,
    "start_time": "2021-12-02T11:02:44.887Z"
   },
   {
    "duration": 10,
    "start_time": "2021-12-02T11:02:45.979Z"
   },
   {
    "duration": 37,
    "start_time": "2021-12-02T11:02:46.480Z"
   },
   {
    "duration": 12,
    "start_time": "2021-12-02T11:02:48.126Z"
   },
   {
    "duration": 11,
    "start_time": "2021-12-02T11:02:48.780Z"
   },
   {
    "duration": 30,
    "start_time": "2021-12-02T11:02:49.448Z"
   },
   {
    "duration": 25,
    "start_time": "2021-12-02T11:02:50.140Z"
   },
   {
    "duration": 15,
    "start_time": "2021-12-02T11:02:50.668Z"
   },
   {
    "duration": 15,
    "start_time": "2021-12-02T11:02:50.901Z"
   },
   {
    "duration": 15,
    "start_time": "2021-12-02T11:02:51.104Z"
   },
   {
    "duration": 17,
    "start_time": "2021-12-02T11:02:51.340Z"
   },
   {
    "duration": 14,
    "start_time": "2021-12-02T11:02:51.508Z"
   },
   {
    "duration": 9,
    "start_time": "2021-12-02T11:02:52.780Z"
   },
   {
    "duration": 18,
    "start_time": "2021-12-02T11:02:54.560Z"
   },
   {
    "duration": 16,
    "start_time": "2021-12-02T11:02:55.181Z"
   },
   {
    "duration": 21,
    "start_time": "2021-12-02T11:02:56.200Z"
   },
   {
    "duration": 19,
    "start_time": "2021-12-02T11:02:57.059Z"
   },
   {
    "duration": 13,
    "start_time": "2021-12-02T11:02:57.240Z"
   },
   {
    "duration": 18,
    "start_time": "2021-12-02T11:02:57.380Z"
   },
   {
    "duration": 13,
    "start_time": "2021-12-02T11:02:57.566Z"
   },
   {
    "duration": 10,
    "start_time": "2021-12-02T11:02:58.340Z"
   },
   {
    "duration": 4,
    "start_time": "2021-12-02T11:02:59.687Z"
   },
   {
    "duration": 8,
    "start_time": "2021-12-02T11:03:00.517Z"
   },
   {
    "duration": 5,
    "start_time": "2021-12-02T11:03:00.998Z"
   },
   {
    "duration": 650,
    "start_time": "2021-12-02T11:04:48.348Z"
   },
   {
    "duration": 181,
    "start_time": "2021-12-02T11:04:49.000Z"
   },
   {
    "duration": 16,
    "start_time": "2021-12-02T11:04:49.183Z"
   },
   {
    "duration": 26,
    "start_time": "2021-12-02T11:04:49.201Z"
   },
   {
    "duration": 4,
    "start_time": "2021-12-02T11:04:49.228Z"
   },
   {
    "duration": 26,
    "start_time": "2021-12-02T11:04:49.244Z"
   },
   {
    "duration": 4,
    "start_time": "2021-12-02T11:04:49.272Z"
   },
   {
    "duration": 23,
    "start_time": "2021-12-02T11:04:49.279Z"
   },
   {
    "duration": 39,
    "start_time": "2021-12-02T11:04:49.305Z"
   },
   {
    "duration": 24,
    "start_time": "2021-12-02T11:04:49.346Z"
   },
   {
    "duration": 78,
    "start_time": "2021-12-02T11:04:49.372Z"
   },
   {
    "duration": 70,
    "start_time": "2021-12-02T11:04:49.452Z"
   },
   {
    "duration": 65,
    "start_time": "2021-12-02T11:04:49.524Z"
   },
   {
    "duration": 55,
    "start_time": "2021-12-02T11:04:49.591Z"
   },
   {
    "duration": 4,
    "start_time": "2021-12-02T11:04:49.648Z"
   },
   {
    "duration": 15,
    "start_time": "2021-12-02T11:04:49.654Z"
   },
   {
    "duration": 48,
    "start_time": "2021-12-02T11:04:49.671Z"
   },
   {
    "duration": 30,
    "start_time": "2021-12-02T11:04:49.721Z"
   },
   {
    "duration": 9,
    "start_time": "2021-12-02T11:04:49.753Z"
   },
   {
    "duration": 28,
    "start_time": "2021-12-02T11:04:49.763Z"
   },
   {
    "duration": 15,
    "start_time": "2021-12-02T11:04:49.792Z"
   },
   {
    "duration": 47,
    "start_time": "2021-12-02T11:04:49.809Z"
   },
   {
    "duration": 15,
    "start_time": "2021-12-02T11:04:49.859Z"
   },
   {
    "duration": 13,
    "start_time": "2021-12-02T11:04:49.876Z"
   },
   {
    "duration": 15,
    "start_time": "2021-12-02T11:04:49.891Z"
   },
   {
    "duration": 39,
    "start_time": "2021-12-02T11:04:49.907Z"
   },
   {
    "duration": 9,
    "start_time": "2021-12-02T11:04:49.947Z"
   },
   {
    "duration": 18,
    "start_time": "2021-12-02T11:04:49.957Z"
   },
   {
    "duration": 16,
    "start_time": "2021-12-02T11:04:49.977Z"
   },
   {
    "duration": 62,
    "start_time": "2021-12-02T11:04:49.996Z"
   },
   {
    "duration": 26,
    "start_time": "2021-12-02T11:04:50.060Z"
   },
   {
    "duration": 17,
    "start_time": "2021-12-02T11:04:50.087Z"
   },
   {
    "duration": 43,
    "start_time": "2021-12-02T11:04:50.106Z"
   },
   {
    "duration": 17,
    "start_time": "2021-12-02T11:04:50.151Z"
   },
   {
    "duration": 13,
    "start_time": "2021-12-02T11:04:50.170Z"
   },
   {
    "duration": 5,
    "start_time": "2021-12-02T11:04:50.185Z"
   },
   {
    "duration": 11,
    "start_time": "2021-12-02T11:04:50.191Z"
   },
   {
    "duration": 4,
    "start_time": "2021-12-02T11:04:50.204Z"
   },
   {
    "duration": 11,
    "start_time": "2021-12-02T11:10:14.685Z"
   },
   {
    "duration": 762,
    "start_time": "2021-12-03T09:37:22.988Z"
   },
   {
    "duration": 193,
    "start_time": "2021-12-03T09:37:23.752Z"
   },
   {
    "duration": 36,
    "start_time": "2021-12-03T09:37:23.948Z"
   },
   {
    "duration": 33,
    "start_time": "2021-12-03T09:37:23.987Z"
   },
   {
    "duration": 8,
    "start_time": "2021-12-03T09:37:24.022Z"
   },
   {
    "duration": 52,
    "start_time": "2021-12-03T09:37:24.032Z"
   },
   {
    "duration": 13,
    "start_time": "2021-12-03T09:37:24.086Z"
   },
   {
    "duration": 31,
    "start_time": "2021-12-03T09:37:24.104Z"
   },
   {
    "duration": 44,
    "start_time": "2021-12-03T09:37:24.140Z"
   },
   {
    "duration": 36,
    "start_time": "2021-12-03T09:37:24.186Z"
   },
   {
    "duration": 109,
    "start_time": "2021-12-03T09:37:24.225Z"
   },
   {
    "duration": 114,
    "start_time": "2021-12-03T09:37:24.337Z"
   },
   {
    "duration": 88,
    "start_time": "2021-12-03T09:37:24.453Z"
   },
   {
    "duration": 71,
    "start_time": "2021-12-03T09:37:24.544Z"
   },
   {
    "duration": 5,
    "start_time": "2021-12-03T09:37:24.618Z"
   },
   {
    "duration": 44,
    "start_time": "2021-12-03T09:37:24.625Z"
   },
   {
    "duration": 63,
    "start_time": "2021-12-03T09:37:24.671Z"
   },
   {
    "duration": 38,
    "start_time": "2021-12-03T09:37:24.737Z"
   },
   {
    "duration": 16,
    "start_time": "2021-12-03T09:37:24.778Z"
   },
   {
    "duration": 70,
    "start_time": "2021-12-03T09:37:24.797Z"
   },
   {
    "duration": 22,
    "start_time": "2021-12-03T09:37:24.870Z"
   },
   {
    "duration": 19,
    "start_time": "2021-12-03T09:37:24.895Z"
   },
   {
    "duration": 56,
    "start_time": "2021-12-03T09:37:24.919Z"
   },
   {
    "duration": 17,
    "start_time": "2021-12-03T09:37:24.977Z"
   },
   {
    "duration": 24,
    "start_time": "2021-12-03T09:37:24.996Z"
   },
   {
    "duration": 46,
    "start_time": "2021-12-03T09:37:25.023Z"
   },
   {
    "duration": 13,
    "start_time": "2021-12-03T09:37:25.071Z"
   },
   {
    "duration": 30,
    "start_time": "2021-12-03T09:37:25.086Z"
   },
   {
    "duration": 49,
    "start_time": "2021-12-03T09:37:25.118Z"
   },
   {
    "duration": 30,
    "start_time": "2021-12-03T09:37:25.170Z"
   },
   {
    "duration": 26,
    "start_time": "2021-12-03T09:37:25.203Z"
   },
   {
    "duration": 48,
    "start_time": "2021-12-03T09:37:25.231Z"
   },
   {
    "duration": 22,
    "start_time": "2021-12-03T09:37:25.282Z"
   },
   {
    "duration": 17,
    "start_time": "2021-12-03T09:37:25.306Z"
   },
   {
    "duration": 53,
    "start_time": "2021-12-03T09:37:25.325Z"
   },
   {
    "duration": 9,
    "start_time": "2021-12-03T09:37:25.380Z"
   },
   {
    "duration": 13,
    "start_time": "2021-12-03T09:37:25.392Z"
   },
   {
    "duration": 10,
    "start_time": "2021-12-03T09:37:25.408Z"
   }
  ],
  "colab": {
   "collapsed_sections": [
    "E0vqbgi9ay0H",
    "VUC88oWjTJw2"
   ],
   "name": "yandex_music_project_2021.2.ipynb",
   "provenance": []
  },
  "kernelspec": {
   "display_name": "Python 3 (ipykernel)",
   "language": "python",
   "name": "python3"
  },
  "language_info": {
   "codemirror_mode": {
    "name": "ipython",
    "version": 3
   },
   "file_extension": ".py",
   "mimetype": "text/x-python",
   "name": "python",
   "nbconvert_exporter": "python",
   "pygments_lexer": "ipython3",
   "version": "3.9.9"
  },
  "toc": {
   "base_numbering": 1,
   "nav_menu": {},
   "number_sections": true,
   "sideBar": true,
   "skip_h1_title": true,
   "title_cell": "Содержание",
   "title_sidebar": "Содержание",
   "toc_cell": false,
   "toc_position": {
    "height": "calc(100% - 180px)",
    "left": "10px",
    "top": "150px",
    "width": "405.764px"
   },
   "toc_section_display": true,
   "toc_window_display": true
  },
  "varInspector": {
   "cols": {
    "lenName": 16,
    "lenType": 16,
    "lenVar": 40
   },
   "kernels_config": {
    "python": {
     "delete_cmd_postfix": "",
     "delete_cmd_prefix": "del ",
     "library": "var_list.py",
     "varRefreshCmd": "print(var_dic_list())"
    },
    "r": {
     "delete_cmd_postfix": ") ",
     "delete_cmd_prefix": "rm(",
     "library": "var_list.r",
     "varRefreshCmd": "cat(var_dic_list()) "
    }
   },
   "types_to_exclude": [
    "module",
    "function",
    "builtin_function_or_method",
    "instance",
    "_Feature"
   ],
   "window_display": false
  }
 },
 "nbformat": 4,
 "nbformat_minor": 1
}
