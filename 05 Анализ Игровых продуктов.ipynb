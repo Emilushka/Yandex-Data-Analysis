{
 "cells": [
  {
   "cell_type": "markdown",
   "id": "8254dda1",
   "metadata": {
    "toc": true
   },
   "source": [
    "<h1>Содержание<span class=\"tocSkip\"></span></h1>\n",
    "<div class=\"toc\"><ul class=\"toc-item\"><li><span><a href=\"#-Описание-столбцов-данных-в-датасете:-\" data-toc-modified-id=\"-Описание-столбцов-данных-в-датасете:--1\"><span class=\"toc-item-num\">1&nbsp;&nbsp;</span><strong><font color=\"Fuchsia\"> Описание столбцов данных в датасете: </font></strong></a></span></li><li><span><a href=\"#-Предобработка-данных.-\" data-toc-modified-id=\"-Предобработка-данных.--2\"><span class=\"toc-item-num\">2&nbsp;&nbsp;</span><strong><font color=\"Orchid\"> Предобработка данных. </font></strong></a></span><ul class=\"toc-item\"><li><span><a href=\"#-Ознакомление.-\" data-toc-modified-id=\"-Ознакомление.--2.1\"><span class=\"toc-item-num\">2.1&nbsp;&nbsp;</span><strong><font color=\"Fuchsia\"> Ознакомление. </font></strong></a></span></li><li><span><a href=\"#-Причины-появления-пропусков:-\" data-toc-modified-id=\"-Причины-появления-пропусков:--2.2\"><span class=\"toc-item-num\">2.2&nbsp;&nbsp;</span><strong><font color=\"Magenta\"> Причины появления пропусков: </font></strong></a></span></li></ul></li><li><span><a href=\"#-Анализ-данных.-\" data-toc-modified-id=\"-Анализ-данных.--3\"><span class=\"toc-item-num\">3&nbsp;&nbsp;</span><strong><font color=\"MediumOrchid\"> Анализ данных. </font></strong></a></span><ul class=\"toc-item\"><li><span><a href=\"#-Посчитаем-количество-выпусков-игр-по-годам.-\" data-toc-modified-id=\"-Посчитаем-количество-выпусков-игр-по-годам.--3.1\"><span class=\"toc-item-num\">3.1&nbsp;&nbsp;</span><strong><font color=\"MediumPurple\"> Посчитаем количество выпусков игр по годам. </font></strong></a></span></li><li><span><a href=\"#-График-выпуска-игр.-\" data-toc-modified-id=\"-График-выпуска-игр.--3.2\"><span class=\"toc-item-num\">3.2&nbsp;&nbsp;</span><strong><font color=\"BlueViolet\"> График выпуска игр. </font></strong></a></span></li><li><span><a href=\"#-Анализ-продаж-по-платформам.-\" data-toc-modified-id=\"-Анализ-продаж-по-платформам.--3.3\"><span class=\"toc-item-num\">3.3&nbsp;&nbsp;</span><strong><font color=\"DarkViolet\"> Анализ продаж по платформам. </font></strong></a></span><ul class=\"toc-item\"><li><span><a href=\"#-Определение-актуального-периода-для-построения-прогноза-продаж-в-2017-году.-\" data-toc-modified-id=\"-Определение-актуального-периода-для-построения-прогноза-продаж-в-2017-году.--3.3.1\"><span class=\"toc-item-num\">3.3.1&nbsp;&nbsp;</span><strong><font color=\"DarkOrchid\"> Определение актуального периода для построения прогноза продаж в 2017 году. </font></strong></a></span></li><li><span><a href=\"#-Выбор-лидирующих--платформ-к-2016-году.-\" data-toc-modified-id=\"-Выбор-лидирующих--платформ-к-2016-году.--3.3.2\"><span class=\"toc-item-num\">3.3.2&nbsp;&nbsp;</span><strong><font color=\"DarkMagenta\"> Выбор лидирующих  платформ к 2016 году. </font></strong></a></span></li><li><span><a href=\"#-Данные-о-продажах-игр,-выпущенных-в-2016-году,-по-платформам.-\" data-toc-modified-id=\"-Данные-о-продажах-игр,-выпущенных-в-2016-году,-по-платформам.--3.3.3\"><span class=\"toc-item-num\">3.3.3&nbsp;&nbsp;</span><strong><font color=\"Purple\"> Данные о продажах игр, выпущенных в 2016 году, по платформам. </font></strong></a></span></li><li><span><a href=\"#-Ящик-с-усами---графики-продаж-игр-по-платформам.-\" data-toc-modified-id=\"-Ящик-с-усами---графики-продаж-игр-по-платформам.--3.3.4\"><span class=\"toc-item-num\">3.3.4&nbsp;&nbsp;</span><strong><font color=\"Indigo\"> Ящик с усами - графики продаж игр по платформам. </font></strong></a></span><ul class=\"toc-item\"><li><span><a href=\"#-Присвою-переменную-с-актуальными-для-анализа-платформами-и-сделаю-по-ним-срез-данных-по-всем-годам\" data-toc-modified-id=\"-Присвою-переменную-с-актуальными-для-анализа-платформами-и-сделаю-по-ним-срез-данных-по-всем-годам-3.3.4.1\"><span class=\"toc-item-num\">3.3.4.1&nbsp;&nbsp;</span><strong><font color=\"SlateBlue\"> Присвою переменную с актуальными для анализа платформами и сделаю по ним срез данных по всем годам</font></strong></a></span></li><li><span><a href=\"#-Общие,-средние-и-медианные-продажи-по-платформам-\" data-toc-modified-id=\"-Общие,-средние-и-медианные-продажи-по-платформам--3.3.4.2\"><span class=\"toc-item-num\">3.3.4.2&nbsp;&nbsp;</span><strong><font color=\"DarkSlateBlue\"> Общие, средние и медианные продажи по платформам </font></strong></a></span></li></ul></li><li><span><a href=\"#-Влияние-отзывов-пользователей-и-критиков-на-продажи-по-платформам.-\" data-toc-modified-id=\"-Влияние-отзывов-пользователей-и-критиков-на-продажи-по-платформам.--3.3.5\"><span class=\"toc-item-num\">3.3.5&nbsp;&nbsp;</span><strong><font color=\"SlateBlue\"> Влияние отзывов пользователей и критиков на продажи по платформам. </font></strong></a></span></li><li><span><a href=\"#-Соотнесите-выводы-с-продажами-игр-на-других-платформах--\" data-toc-modified-id=\"-Соотнесите-выводы-с-продажами-игр-на-других-платформах---3.3.6\"><span class=\"toc-item-num\">3.3.6&nbsp;&nbsp;</span><strong><font color=\"Indigo\"> Соотнесите выводы с продажами игр на других платформах  </font></strong></a></span><ul class=\"toc-item\"><li><span><a href=\"#-Подготовка-таблицы-с-общими-продажами,-медианой,-средним-продаж-по-платформам-лидерам-за-всё-время-продаж-игр.-\" data-toc-modified-id=\"-Подготовка-таблицы-с-общими-продажами,-медианой,-средним-продаж-по-платформам-лидерам-за-всё-время-продаж-игр.--3.3.6.1\"><span class=\"toc-item-num\">3.3.6.1&nbsp;&nbsp;</span><strong><font color=\"Purple\"> Подготовка таблицы с общими продажами, медианой, средним продаж по платформам-лидерам за всё время продаж игр. </font></strong></a></span></li></ul></li><li><span><a href=\"#-Распределение-игр-по-жанрам.--\" data-toc-modified-id=\"-Распределение-игр-по-жанрам.---3.3.7\"><span class=\"toc-item-num\">3.3.7&nbsp;&nbsp;</span><strong><font color=\"DarkMagenta\"> Распределение игр по жанрам.  </font></strong></a></span></li><li><span><a href=\"#-Составить-портрет-пользователя-каждого-региона.-\" data-toc-modified-id=\"-Составить-портрет-пользователя-каждого-региона.--3.3.8\"><span class=\"toc-item-num\">3.3.8&nbsp;&nbsp;</span><strong><font color=\"DarkOrchid\"> Составить портрет пользователя каждого региона. </font></strong></a></span><ul class=\"toc-item\"><li><span><a href=\"#-Выделение-топ-5-платформ-по-количеству-проданных-игр-в-каждом-регионе.-\" data-toc-modified-id=\"-Выделение-топ-5-платформ-по-количеству-проданных-игр-в-каждом-регионе.--3.3.8.1\"><span class=\"toc-item-num\">3.3.8.1&nbsp;&nbsp;</span><strong><font color=\"BlueViolet\"> Выделение топ-5 платформ по количеству проданных игр в каждом регионе. </font></strong></a></span></li><li><span><a href=\"#-Выделение-топ-5-жанров-по-количеству-проданных-игр-в-каждом-регионе.-\" data-toc-modified-id=\"-Выделение-топ-5-жанров-по-количеству-проданных-игр-в-каждом-регионе.--3.3.8.2\"><span class=\"toc-item-num\">3.3.8.2&nbsp;&nbsp;</span><strong><font color=\"MediumPurple\"> Выделение топ-5 жанров по количеству проданных игр в каждом регионе. </font></strong></a></span></li></ul></li><li><span><a href=\"#--Влияет-ли-рейтинг-ESRB-на-продажи-в-отдельном-регионе?-\" data-toc-modified-id=\"--Влияет-ли-рейтинг-ESRB-на-продажи-в-отдельном-регионе?--3.3.9\"><span class=\"toc-item-num\">3.3.9&nbsp;&nbsp;</span><strong><font color=\"MediumOrchid\">  Влияет ли рейтинг ESRB на продажи в отдельном регионе? </font></strong></a></span></li><li><span><a href=\"#-Проверка-гипотез.-\" data-toc-modified-id=\"-Проверка-гипотез.--3.3.10\"><span class=\"toc-item-num\">3.3.10&nbsp;&nbsp;</span><strong><font color=\"Magenta\"> Проверка гипотез. </font></strong></a></span></li><li><span><a href=\"#-1.-\" data-toc-modified-id=\"-1.--3.3.11\"><span class=\"toc-item-num\">3.3.11&nbsp;&nbsp;</span><strong><font color=\"Fuchsia\"> 1. </font></strong></a></span></li><li><span><a href=\"#-2.-\" data-toc-modified-id=\"-2.--3.3.12\"><span class=\"toc-item-num\">3.3.12&nbsp;&nbsp;</span><strong><font color=\"Orchid\"> 2. </font></strong></a></span></li></ul></li><li><span><a href=\"#-Интересный-момент-состоит-в-том,-что-в-исследовании-обеих-гипотез-средние-были-примерно-равны,-однако,-статистический-тест-показал-существенную-разницу---в-первом-случае-нулевая-гипотеза-не-была-отвергнута,-во-втором---ее-пришлось-отвергнуть.-\" data-toc-modified-id=\"-Интересный-момент-состоит-в-том,-что-в-исследовании-обеих-гипотез-средние-были-примерно-равны,-однако,-статистический-тест-показал-существенную-разницу---в-первом-случае-нулевая-гипотеза-не-была-отвергнута,-во-втором---ее-пришлось-отвергнуть.--3.4\"><span class=\"toc-item-num\">3.4&nbsp;&nbsp;</span><strong><font color=\"Plum\"> Интересный момент состоит в том, что в исследовании обеих гипотез средние были примерно равны, однако, статистический тест показал существенную разницу - в первом случае нулевая гипотеза не была отвергнута, во втором - ее пришлось отвергнуть. </font></strong></a></span></li></ul></li></ul></div>"
   ]
  },
  {
   "cell_type": "markdown",
   "id": "ec66ed57",
   "metadata": {},
   "source": [
    "**СБОРНЫЙ ПРОЕКТ - 1**"
   ]
  },
  {
   "cell_type": "markdown",
   "id": "1db1e500",
   "metadata": {},
   "source": [
    "---\n",
    "# Проект по выявлению закономерностей, определяющих успешность компьютерной игры на основании данных по продажам интернет-магазина за 2016 год.\n",
    "---\n",
    "___"
   ]
  },
  {
   "cell_type": "markdown",
   "id": "208bf894",
   "metadata": {},
   "source": [
    "**Описание проекта**  \n",
    "\n",
    "Вы работаете в интернет-магазине «Стримчик», который продаёт по всему миру компьютерные игры. Из открытых источников доступны исторические данные о продажах игр, оценки пользователей и экспертов, жанры и платформы (например, Xbox или PlayStation). \n",
    "\n",
    "**<font color='red'> Цель исследования  </font>** - выявить определяющие успешность игры закономерности . Это позволит сделать ставку на потенциально популярный продукт и спланировать рекламные кампании.\n",
    "Перед вами данные до 2016 года. Представим, что сейчас декабрь 2016 г., и вы планируете кампанию на 2017-й. Нужно отработать принцип работы с данными. Неважно, прогнозируете ли вы продажи на 2017 год по данным 2016-го или же 2027-й — по данным 2026 года.  \n",
    "\n",
    "В наборе данных попадается аббревиатура ESRB (Entertainment Software Rating Board) — это ассоциация, определяющая возрастной рейтинг компьютерных игр. ESRB оценивает игровой контент и присваивает ему подходящую возрастную категорию, например, «Для взрослых», «Для детей младшего возраста» или «Для подростков»."
   ]
  },
  {
   "cell_type": "markdown",
   "id": "06e34ad6",
   "metadata": {},
   "source": [
    "## **<font color='Fuchsia'> Описание столбцов данных в датасете: </font>** \n",
    "**<font color='LightSalmon'> Name </font>**  — название игры  \n",
    "**<font color='LightSalmon'> Platform </font>**  — платформа  \n",
    "**<font color='LightSalmon'> Year_of_Release </font>**  — год выпуска  \n",
    "**<font color='LightSalmon'> Genre </font>**  — жанр игры  \n",
    "**<font color='LightSalmon'> NA_sales </font>**  — продажи в Северной Америке (миллионы долларов)  \n",
    "**<font color='LightSalmon'> EU_sales </font>**  — продажи в Европе (миллионы долларов)  \n",
    "**<font color='LightSalmon'> JP_sales </font>**  — продажи в Японии (миллионы долларов)  \n",
    "**<font color='LightSalmon'> Other_sales </font>**  — продажи в других странах (миллионы долларов)  \n",
    "**<font color='LightSalmon'> Critic_Score </font>**  — оценка критиков (максимум 100)  \n",
    "**<font color='LightSalmon'> User_Score </font>**  — оценка пользователей (максимум 10)  \n",
    "**<font color='LightSalmon'> Rating </font>**  — рейтинг от организации ESRB (англ. Entertainment Software Rating Board). Эта ассоциация определяет рейтинг компьютерных игр и присваивает им подходящую возрастную категорию."
   ]
  },
  {
   "cell_type": "markdown",
   "id": "af4f894c",
   "metadata": {},
   "source": [
    "# **<font color='OrangeRed'> План работы: </font>** \n",
    "    1. Ознакомление с данными.\n",
    "    2. Предобработка данных.\n",
    "    3. Анализ, визуализация.\n",
    "    4. Вывод."
   ]
  },
  {
   "cell_type": "markdown",
   "id": "6599f262",
   "metadata": {},
   "source": [
    "## **<font color='Orchid'> Предобработка данных. </font>** "
   ]
  },
  {
   "cell_type": "markdown",
   "id": "20ad3ac0",
   "metadata": {},
   "source": [
    "### **<font color='Fuchsia'> Ознакомление. </font>** "
   ]
  },
  {
   "cell_type": "code",
   "execution_count": 1,
   "id": "141add99",
   "metadata": {},
   "outputs": [],
   "source": [
    "import pandas as pd\n",
    "import numpy as np\n",
    "import matplotlib.pyplot as plt\n",
    "import seaborn as sns\n",
    "from scipy import stats as st\n",
    "import datetime as dt"
   ]
  },
  {
   "cell_type": "code",
   "execution_count": 2,
   "id": "de7de65d",
   "metadata": {},
   "outputs": [],
   "source": [
    "df = pd.read_csv('/datasets/games.csv')\n",
    "\n",
    "#pd.options.display.max_rows = 1000"
   ]
  },
  {
   "cell_type": "code",
   "execution_count": 1,
   "id": "b937ec30",
   "metadata": {},
   "outputs": [
    {
     "data": {
      "text/html": [
       "<font color='blue'>синий текст</font>"
      ],
      "text/plain": [
       "<IPython.core.display.HTML object>"
      ]
     },
     "metadata": {},
     "output_type": "display_data"
    },
    {
     "data": {
      "text/html": [
       "<font color='maroon'>коричневый текст</font>"
      ],
      "text/plain": [
       "<IPython.core.display.HTML object>"
      ]
     },
     "metadata": {},
     "output_type": "display_data"
    },
    {
     "data": {
      "text/html": [
       "<font color='olive'>текст оливкогового цвета</font>"
      ],
      "text/plain": [
       "<IPython.core.display.HTML object>"
      ]
     },
     "metadata": {},
     "output_type": "display_data"
    },
    {
     "data": {
      "text/html": [
       "<font color='navy'>темно-синий текст</font>"
      ],
      "text/plain": [
       "<IPython.core.display.HTML object>"
      ]
     },
     "metadata": {},
     "output_type": "display_data"
    },
    {
     "data": {
      "text/html": [
       "<font color='purple'> фиолетовый текст</font>"
      ],
      "text/plain": [
       "<IPython.core.display.HTML object>"
      ]
     },
     "metadata": {},
     "output_type": "display_data"
    },
    {
     "data": {
      "text/html": [
       "<font color='teal'>бирюзовый текст</font>"
      ],
      "text/plain": [
       "<IPython.core.display.HTML object>"
      ]
     },
     "metadata": {},
     "output_type": "display_data"
    },
    {
     "data": {
      "text/html": [
       "<font color='gray'>серый текст</font>"
      ],
      "text/plain": [
       "<IPython.core.display.HTML object>"
      ]
     },
     "metadata": {},
     "output_type": "display_data"
    },
    {
     "data": {
      "text/html": [
       "<font color='lime'>светло-зеленый текст</font>"
      ],
      "text/plain": [
       "<IPython.core.display.HTML object>"
      ]
     },
     "metadata": {},
     "output_type": "display_data"
    },
    {
     "data": {
      "text/html": [
       "<font color='green'>зеленый текст</font>"
      ],
      "text/plain": [
       "<IPython.core.display.HTML object>"
      ]
     },
     "metadata": {},
     "output_type": "display_data"
    },
    {
     "data": {
      "text/html": [
       "<font color='yellow'>желтый текст</font>"
      ],
      "text/plain": [
       "<IPython.core.display.HTML object>"
      ]
     },
     "metadata": {},
     "output_type": "display_data"
    },
    {
     "data": {
      "text/html": [
       "<font color='FUCHSIA'> розовый текст</font>"
      ],
      "text/plain": [
       "<IPython.core.display.HTML object>"
      ]
     },
     "metadata": {},
     "output_type": "display_data"
    },
    {
     "data": {
      "text/html": [
       "<font color='AQUA'> голубой текст</font>"
      ],
      "text/plain": [
       "<IPython.core.display.HTML object>"
      ]
     },
     "metadata": {},
     "output_type": "display_data"
    }
   ],
   "source": [
    "#добавим красоты в оформление проекта \n",
    "\n",
    "from IPython.core.display import display, HTML\n",
    "\n",
    "display(HTML(\"<font color='blue'>синий текст</font>\"))\n",
    "display(HTML(\"<font color='maroon'>коричневый текст</font>\"))\n",
    "display(HTML(\"<font color='olive'>текст оливкогового цвета</font>\"))\n",
    "display(HTML(\"<font color='navy'>темно-синий текст</font>\"))\n",
    "display(HTML(\"<font color='purple'> фиолетовый текст</font>\"))\n",
    "display(HTML(\"<font color='teal'>бирюзовый текст</font>\"))\n",
    "display(HTML(\"<font color='gray'>серый текст</font>\"))\n",
    "display(HTML(\"<font color='lime'>светло-зеленый текст</font>\"))\n",
    "display(HTML(\"<font color='green'>зеленый текст</font>\"))\n",
    "display(HTML(\"<font color='yellow'>желтый текст</font>\"))\n",
    "display(HTML(\"<font color='FUCHSIA'> розовый текст</font>\"))\n",
    "display(HTML(\"<font color='AQUA'> голубой текст</font>\"))"
   ]
  },
  {
   "cell_type": "markdown",
   "id": "8a693516",
   "metadata": {},
   "source": [
    "Переведем названия столбцов в нижний регистр."
   ]
  },
  {
   "cell_type": "code",
   "execution_count": 3,
   "id": "cc0ed9d4",
   "metadata": {},
   "outputs": [],
   "source": [
    "df.columns = df.columns.str.lower()"
   ]
  },
  {
   "cell_type": "code",
   "execution_count": 4,
   "id": "cf5fffd5",
   "metadata": {},
   "outputs": [
    {
     "name": "stdout",
     "output_type": "stream",
     "text": [
      "<class 'pandas.core.frame.DataFrame'>\n",
      "RangeIndex: 16715 entries, 0 to 16714\n",
      "Data columns (total 11 columns):\n",
      "name               16713 non-null object\n",
      "platform           16715 non-null object\n",
      "year_of_release    16446 non-null float64\n",
      "genre              16713 non-null object\n",
      "na_sales           16715 non-null float64\n",
      "eu_sales           16715 non-null float64\n",
      "jp_sales           16715 non-null float64\n",
      "other_sales        16715 non-null float64\n",
      "critic_score       8137 non-null float64\n",
      "user_score         10014 non-null object\n",
      "rating             9949 non-null object\n",
      "dtypes: float64(6), object(5)\n",
      "memory usage: 1.4+ MB\n"
     ]
    }
   ],
   "source": [
    "df.info()"
   ]
  },
  {
   "cell_type": "markdown",
   "id": "7c8d062d",
   "metadata": {},
   "source": [
    "Удалим 2 строки в столбце 'name', в которых нет названий игр и информации о жанре. Это ошибка в базе данных"
   ]
  },
  {
   "cell_type": "code",
   "execution_count": 5,
   "id": "d539d21d",
   "metadata": {},
   "outputs": [
    {
     "data": {
      "text/html": [
       "<div>\n",
       "<style scoped>\n",
       "    .dataframe tbody tr th:only-of-type {\n",
       "        vertical-align: middle;\n",
       "    }\n",
       "\n",
       "    .dataframe tbody tr th {\n",
       "        vertical-align: top;\n",
       "    }\n",
       "\n",
       "    .dataframe thead th {\n",
       "        text-align: right;\n",
       "    }\n",
       "</style>\n",
       "<table border=\"1\" class=\"dataframe\">\n",
       "  <thead>\n",
       "    <tr style=\"text-align: right;\">\n",
       "      <th></th>\n",
       "      <th>name</th>\n",
       "      <th>platform</th>\n",
       "      <th>year_of_release</th>\n",
       "      <th>genre</th>\n",
       "      <th>na_sales</th>\n",
       "      <th>eu_sales</th>\n",
       "      <th>jp_sales</th>\n",
       "      <th>other_sales</th>\n",
       "      <th>critic_score</th>\n",
       "      <th>user_score</th>\n",
       "      <th>rating</th>\n",
       "    </tr>\n",
       "  </thead>\n",
       "  <tbody>\n",
       "  </tbody>\n",
       "</table>\n",
       "</div>"
      ],
      "text/plain": [
       "Empty DataFrame\n",
       "Columns: [name, platform, year_of_release, genre, na_sales, eu_sales, jp_sales, other_sales, critic_score, user_score, rating]\n",
       "Index: []"
      ]
     },
     "execution_count": 5,
     "metadata": {},
     "output_type": "execute_result"
    }
   ],
   "source": [
    "df.dropna(subset = ['name'], inplace = True) \n",
    "df[df['name'].isna()]"
   ]
  },
  {
   "cell_type": "markdown",
   "id": "24413032",
   "metadata": {},
   "source": [
    "В 269 записях не указан год выпуска. Заполню значением 3000, чтобы всегда было понятно, что это выброс. Также эти данные пригодны для анализа по другим признакам."
   ]
  },
  {
   "cell_type": "code",
   "execution_count": 6,
   "id": "ee967eb3",
   "metadata": {},
   "outputs": [
    {
     "data": {
      "text/html": [
       "<div>\n",
       "<style scoped>\n",
       "    .dataframe tbody tr th:only-of-type {\n",
       "        vertical-align: middle;\n",
       "    }\n",
       "\n",
       "    .dataframe tbody tr th {\n",
       "        vertical-align: top;\n",
       "    }\n",
       "\n",
       "    .dataframe thead th {\n",
       "        text-align: right;\n",
       "    }\n",
       "</style>\n",
       "<table border=\"1\" class=\"dataframe\">\n",
       "  <thead>\n",
       "    <tr style=\"text-align: right;\">\n",
       "      <th></th>\n",
       "      <th>name</th>\n",
       "      <th>platform</th>\n",
       "      <th>year_of_release</th>\n",
       "      <th>genre</th>\n",
       "      <th>na_sales</th>\n",
       "      <th>eu_sales</th>\n",
       "      <th>jp_sales</th>\n",
       "      <th>other_sales</th>\n",
       "      <th>critic_score</th>\n",
       "      <th>user_score</th>\n",
       "      <th>rating</th>\n",
       "    </tr>\n",
       "  </thead>\n",
       "  <tbody>\n",
       "  </tbody>\n",
       "</table>\n",
       "</div>"
      ],
      "text/plain": [
       "Empty DataFrame\n",
       "Columns: [name, platform, year_of_release, genre, na_sales, eu_sales, jp_sales, other_sales, critic_score, user_score, rating]\n",
       "Index: []"
      ]
     },
     "execution_count": 6,
     "metadata": {},
     "output_type": "execute_result"
    }
   ],
   "source": [
    "df.loc[df['year_of_release'].isna(),'year_of_release'] = 3000\n",
    "df[df['year_of_release'].isna()]"
   ]
  },
  {
   "cell_type": "markdown",
   "id": "6d1469ff",
   "metadata": {},
   "source": [
    "Перевожу все строки в нижний регистр."
   ]
  },
  {
   "cell_type": "code",
   "execution_count": 7,
   "id": "9be1091e",
   "metadata": {},
   "outputs": [],
   "source": [
    "df['name'] = df['name'].str.lower()\n",
    "df['platform'] = df['platform'].str.lower()\n",
    "df['genre'] = df['genre'].str.lower()"
   ]
  },
  {
   "cell_type": "markdown",
   "id": "4d59eb1f",
   "metadata": {},
   "source": [
    "Заполняю все NaN в столбцах critic_score, user_score, rating значением 3000, чтобы легко было определить выброс."
   ]
  },
  {
   "cell_type": "code",
   "execution_count": 8,
   "id": "700c9db3",
   "metadata": {},
   "outputs": [],
   "source": [
    "df.loc[df['critic_score'].isnull(), 'critic_score'] = 3000\n",
    "df.loc[df['user_score'].isnull(), 'user_score'] = 3000\n",
    "df.loc[df['rating'].isnull(), 'rating'] = 'NEIZVESTNO'"
   ]
  },
  {
   "cell_type": "markdown",
   "id": "dfe53439",
   "metadata": {},
   "source": [
    "В столбце user_score 'TBD' = to be determined, означает, что рейтинг будет определён позднее. Заменю также на 3000."
   ]
  },
  {
   "cell_type": "code",
   "execution_count": 9,
   "id": "a57377f8",
   "metadata": {},
   "outputs": [],
   "source": [
    "df.loc[df['user_score'] == 'tbd', 'user_score'] = 3000"
   ]
  },
  {
   "cell_type": "markdown",
   "id": "5f7d9232",
   "metadata": {},
   "source": [
    "Приведем все столбцы к нужным типам данных."
   ]
  },
  {
   "cell_type": "code",
   "execution_count": 10,
   "id": "01a97e7a",
   "metadata": {},
   "outputs": [],
   "source": [
    "df['year_of_release'] = df['year_of_release'].astype('int')\n",
    "df['critic_score'] = df['critic_score'].astype('int')\n",
    "df['user_score'] = df['user_score'].astype('float')"
   ]
  },
  {
   "cell_type": "markdown",
   "id": "7b3f6d98",
   "metadata": {},
   "source": [
    "### **<font color='Magenta'> Причины появления пропусков: </font>** \n",
    "    1. year_of_release - непонятно. По идее, должны быть полные данные.\n",
    "    2. user_score - tbd - рейтинг не успел сформироваться. Отсутствие рейтинга в других случаях, на мой взгляд, является ошибкой.\n",
    "    3. rating - скорее всего ошибка загрузки или игра не пользуется популярностью."
   ]
  },
  {
   "cell_type": "markdown",
   "id": "117f2159",
   "metadata": {},
   "source": [
    "Посчитаем общие продажи во всех регионах."
   ]
  },
  {
   "cell_type": "code",
   "execution_count": 11,
   "id": "a3b33d4d",
   "metadata": {},
   "outputs": [],
   "source": [
    "df['total_sales'] = df['na_sales'] + df['eu_sales'] + df['jp_sales'] + df['other_sales']"
   ]
  },
  {
   "cell_type": "markdown",
   "id": "d3b6a8af",
   "metadata": {},
   "source": [
    "Проверим, есть ли  дубликаты"
   ]
  },
  {
   "cell_type": "code",
   "execution_count": 12,
   "id": "67f5083e",
   "metadata": {},
   "outputs": [
    {
     "data": {
      "text/plain": [
       "0"
      ]
     },
     "execution_count": 12,
     "metadata": {},
     "output_type": "execute_result"
    }
   ],
   "source": [
    "df.duplicated().sum()"
   ]
  },
  {
   "cell_type": "markdown",
   "id": "a1661924",
   "metadata": {},
   "source": [
    "дубликатов нет"
   ]
  },
  {
   "cell_type": "markdown",
   "id": "c949357a",
   "metadata": {},
   "source": [
    "Исправим ошибки в дате продаж игры на платформе ds. Данная игра была выпущена в 2007 году."
   ]
  },
  {
   "cell_type": "code",
   "execution_count": 13,
   "id": "e114c5a7",
   "metadata": {},
   "outputs": [],
   "source": [
    "df.loc[(df['platform']=='ds')&(df['year_of_release']==1985),'year_of_release']=2007"
   ]
  },
  {
   "cell_type": "code",
   "execution_count": 14,
   "id": "5112ef08",
   "metadata": {},
   "outputs": [
    {
     "data": {
      "text/plain": [
       "2008    1427\n",
       "2009    1426\n",
       "2010    1255\n",
       "2007    1198\n",
       "2011    1136\n",
       "2006    1006\n",
       "2005     939\n",
       "2002     829\n",
       "2003     775\n",
       "2004     762\n",
       "2012     653\n",
       "2015     606\n",
       "2014     581\n",
       "2013     544\n",
       "2016     502\n",
       "2001     482\n",
       "1998     379\n",
       "2000     350\n",
       "1999     338\n",
       "1997     289\n",
       "3000     269\n",
       "1996     263\n",
       "1995     219\n",
       "1994     121\n",
       "1993      60\n",
       "1981      46\n",
       "1992      43\n",
       "1991      41\n",
       "1982      36\n",
       "1986      21\n",
       "1983      17\n",
       "1989      17\n",
       "1987      16\n",
       "1990      16\n",
       "1988      15\n",
       "1984      14\n",
       "1985      13\n",
       "1980       9\n",
       "Name: year_of_release, dtype: int64"
      ]
     },
     "execution_count": 14,
     "metadata": {},
     "output_type": "execute_result"
    }
   ],
   "source": [
    "df['year_of_release'].value_counts()"
   ]
  },
  {
   "cell_type": "markdown",
   "id": "92cd3191",
   "metadata": {},
   "source": [
    "## **<font color='MediumOrchid'> Анализ данных. </font>** "
   ]
  },
  {
   "cell_type": "markdown",
   "id": "ed0550f0",
   "metadata": {},
   "source": [
    "### **<font color='MediumPurple'> Посчитаем количество выпусков игр по годам. </font>** "
   ]
  },
  {
   "cell_type": "markdown",
   "id": "24bcab2a",
   "metadata": {},
   "source": [
    "### **<font color='BlueViolet'> График выпуска игр. </font>** "
   ]
  },
  {
   "cell_type": "code",
   "execution_count": 15,
   "id": "26d36da1",
   "metadata": {
    "scrolled": false
   },
   "outputs": [
    {
     "data": {
      "image/png": "[encoded data removed]",
      "text/plain": [
       "<Figure size 432x288 with 1 Axes>"
      ]
     },
     "metadata": {
      "needs_background": "light"
     },
     "output_type": "display_data"
    },
    {
     "data": {
      "text/plain": [
       "<matplotlib.axes._subplots.AxesSubplot at 0x7feceb980250>"
      ]
     },
     "execution_count": 15,
     "metadata": {},
     "output_type": "execute_result"
    },
    {
     "data": {
      "image/png": "[encoded data removed]",
      "text/plain": [
       "<Figure size 720x216 with 1 Axes>"
      ]
     },
     "metadata": {
      "needs_background": "light"
     },
     "output_type": "display_data"
    }
   ],
   "source": [
    "#df.groupby('year_of_release')['total_sales'].sum().plot()\n",
    "plt.xlim(2013, 2017)\n",
    "sns.distplot(df.loc[df['year_of_release']<3000]['year_of_release'], bins=37)\n",
    "plt.show() \n",
    "df.loc[df['year_of_release']<3000]['year_of_release'].plot(kind='hist', range=(2013, 2016),bins=37,rot=45,figsize=(10, 3),xticks=[2013 + i for i in range(1, 5, 1)])"
   ]
  },
  {
   "cell_type": "markdown",
   "id": "949a5d1c",
   "metadata": {},
   "source": [
    "Посчитаем выпуски игр по годам."
   ]
  },
  {
   "cell_type": "code",
   "execution_count": 16,
   "id": "bf290a83",
   "metadata": {},
   "outputs": [],
   "source": [
    "df = df.query('year_of_release > 2013 and year_of_release <= 2016')"
   ]
  },
  {
   "cell_type": "code",
   "execution_count": 17,
   "id": "f39f72b1",
   "metadata": {},
   "outputs": [
    {
     "name": "stdout",
     "output_type": "stream",
     "text": [
      "   index  year_of_release\n",
      "0   2015              606\n",
      "1   2014              581\n",
      "2   2016              502 \n",
      " \n",
      "\n",
      "1.0\n",
      "1689\n",
      "1689\n"
     ]
    }
   ],
   "source": [
    "cct = df['year_of_release'].value_counts().reset_index()\n",
    "print(cct,'\\n','\\n')\n",
    "print(df[df['year_of_release']!=3000]['year_of_release'].count() / len(df))\n",
    "print(df[df['year_of_release']!=3000]['year_of_release'].count())\n",
    "print(len(df))"
   ]
  },
  {
   "cell_type": "markdown",
   "id": "24d52af0",
   "metadata": {},
   "source": [
    "Вывод:\n",
    "График похож скорее на распределение Пуассона наоборот. Но что мне скажет вид распределения в данном случае? Я думаю,  математические методы определения лет для анализа тут не совсем уместны. Есть смысл анализировать данные, начиная с 2000 года. В этот момент игры начали развиваться более обширно и это видно по графику. Ниже этого находится 1973 значений, ~11.81% от общего количества. Также не подлежат анализу значения года выпуска = 3000 (269 зачений, 1,61% от общего количества), которым были заполнены отсутствующие значения."
   ]
  },
  {
   "cell_type": "markdown",
   "id": "8e003369",
   "metadata": {},
   "source": [
    "### **<font color='DarkViolet'> Анализ продаж по платформам. </font>** \n"
   ]
  },
  {
   "cell_type": "code",
   "execution_count": 18,
   "id": "78adaf69",
   "metadata": {},
   "outputs": [
    {
     "data": {
      "text/plain": [
       "platform\n",
       "ps4     288.15\n",
       "xone    140.36\n",
       "3ds      86.68\n",
       "ps3      68.18\n",
       "x360     48.22\n",
       "wiiu     42.98\n",
       "pc       27.05\n",
       "psv      22.40\n",
       "wii       5.07\n",
       "psp       0.36\n",
       "Name: total_sales, dtype: float64"
      ]
     },
     "execution_count": 18,
     "metadata": {},
     "output_type": "execute_result"
    }
   ],
   "source": [
    "platforms = df.groupby('platform')['total_sales'].sum().sort_values(ascending=False)\n",
    "platforms.head(10)"
   ]
  },
  {
   "cell_type": "code",
   "execution_count": 19,
   "id": "deadab6e",
   "metadata": {},
   "outputs": [
    {
     "data": {
      "text/plain": [
       "<matplotlib.axes._subplots.AxesSubplot at 0x7fecf3a623d0>"
      ]
     },
     "execution_count": 19,
     "metadata": {},
     "output_type": "execute_result"
    },
    {
     "data": {
      "image/png": "[encoded data removed]",
      "text/plain": [
       "<Figure size 720x360 with 1 Axes>"
      ]
     },
     "metadata": {
      "needs_background": "light"
     },
     "output_type": "display_data"
    }
   ],
   "source": [
    "platforms.plot(kind='bar',rot=45,figsize=(10, 5),legend=True)"
   ]
  },
  {
   "cell_type": "code",
   "execution_count": 20,
   "id": "dab2c2a1",
   "metadata": {},
   "outputs": [
    {
     "data": {
      "text/html": [
       "<div>\n",
       "<style scoped>\n",
       "    .dataframe tbody tr th:only-of-type {\n",
       "        vertical-align: middle;\n",
       "    }\n",
       "\n",
       "    .dataframe tbody tr th {\n",
       "        vertical-align: top;\n",
       "    }\n",
       "\n",
       "    .dataframe thead th {\n",
       "        text-align: right;\n",
       "    }\n",
       "</style>\n",
       "<table border=\"1\" class=\"dataframe\">\n",
       "  <thead>\n",
       "    <tr style=\"text-align: right;\">\n",
       "      <th></th>\n",
       "      <th>platform</th>\n",
       "      <th>year_of_release</th>\n",
       "      <th>total_sales</th>\n",
       "    </tr>\n",
       "  </thead>\n",
       "  <tbody>\n",
       "    <tr>\n",
       "      <td>0</td>\n",
       "      <td>3ds</td>\n",
       "      <td>2014</td>\n",
       "      <td>43.76</td>\n",
       "    </tr>\n",
       "    <tr>\n",
       "      <td>1</td>\n",
       "      <td>3ds</td>\n",
       "      <td>2015</td>\n",
       "      <td>27.78</td>\n",
       "    </tr>\n",
       "    <tr>\n",
       "      <td>2</td>\n",
       "      <td>3ds</td>\n",
       "      <td>2016</td>\n",
       "      <td>15.14</td>\n",
       "    </tr>\n",
       "    <tr>\n",
       "      <td>3</td>\n",
       "      <td>ps3</td>\n",
       "      <td>2014</td>\n",
       "      <td>47.76</td>\n",
       "    </tr>\n",
       "    <tr>\n",
       "      <td>4</td>\n",
       "      <td>ps3</td>\n",
       "      <td>2015</td>\n",
       "      <td>16.82</td>\n",
       "    </tr>\n",
       "  </tbody>\n",
       "</table>\n",
       "</div>"
      ],
      "text/plain": [
       "  platform  year_of_release  total_sales\n",
       "0      3ds             2014        43.76\n",
       "1      3ds             2015        27.78\n",
       "2      3ds             2016        15.14\n",
       "3      ps3             2014        47.76\n",
       "4      ps3             2015        16.82"
      ]
     },
     "metadata": {},
     "output_type": "display_data"
    },
    {
     "data": {
      "text/plain": [
       "wiiu    3\n",
       "ps4     3\n",
       "ps3     3\n",
       "xone    3\n",
       "3ds     3\n",
       "x360    3\n",
       "Name: platform, dtype: int64"
      ]
     },
     "metadata": {},
     "output_type": "display_data"
    }
   ],
   "source": [
    "plats = platforms.index[0:6]\n",
    "plat_pivot = df[(df['platform'].isin(plats))&(df['year_of_release']!=3000)].pivot_table(index=['platform','year_of_release'],values='total_sales', aggfunc='sum').sort_index().reset_index()\n",
    "display(plat_pivot.head())\n",
    "display(plat_pivot['platform'].value_counts())"
   ]
  },
  {
   "cell_type": "markdown",
   "id": "cd430b53",
   "metadata": {},
   "source": [
    "Вывод:\n",
    "Выделила 6 основных платформ, имеющих максимальные продажи. Это  ps, ps2, ps3, x360, wii, ds. Игровые платформы в среднем продаются в течение 11 лет. Также замечена ошибка: в платформе ds у одной игры указан год продаж 1985. При этом платформа была анонсирована в 2004 году."
   ]
  },
  {
   "cell_type": "markdown",
   "id": "254c369c",
   "metadata": {},
   "source": [
    "#### **<font color='DarkOrchid'> Определение актуального периода для построения прогноза продаж в 2017 году. </font>** "
   ]
  },
  {
   "cell_type": "code",
   "execution_count": 21,
   "id": "5622e1fb",
   "metadata": {},
   "outputs": [
    {
     "data": {
      "text/plain": [
       "<matplotlib.axes._subplots.AxesSubplot at 0x7fecf3a61cd0>"
      ]
     },
     "execution_count": 21,
     "metadata": {},
     "output_type": "execute_result"
    },
    {
     "data": {
      "image/png": "[encoded data removed]",
      "text/plain": [
       "<Figure size 720x360 with 1 Axes>"
      ]
     },
     "metadata": {
      "needs_background": "light"
     },
     "output_type": "display_data"
    }
   ],
   "source": [
    "y_pivot = df.loc[df['year_of_release']<3000].pivot_table(index='year_of_release', values='total_sales', aggfunc='sum')\n",
    "y_pivot.plot(use_index=True, y='total_sales', grid=True, xticks=[2013 + i for i in range(1, 5, 1)],figsize=(10, 5),rot=90)"
   ]
  },
  {
   "cell_type": "code",
   "execution_count": 22,
   "id": "3acefe98",
   "metadata": {},
   "outputs": [
    {
     "data": {
      "text/plain": [
       "count      3.000000\n",
       "mean     243.150000\n",
       "std      103.063227\n",
       "min      129.940000\n",
       "25%      198.960000\n",
       "50%      267.980000\n",
       "75%      299.755000\n",
       "max      331.530000\n",
       "Name: total_sales, dtype: float64"
      ]
     },
     "execution_count": 22,
     "metadata": {},
     "output_type": "execute_result"
    }
   ],
   "source": [
    "y_pivot['total_sales'].describe()"
   ]
  },
  {
   "cell_type": "markdown",
   "id": "c5ae0fdf",
   "metadata": {},
   "source": [
    "Выводы:\n",
    "График продаж также не похож на график нормального распределения. Это подтверждают значения метода describe(), которые показывают, что нормальное распределение находится с 1981 до 2001 года. На мой взгляд, что этот график говорит о том, что популярность игр на платформах уходит в прошлое и постепенно уступает первенство играм на мобильном телефоне. Этот фактор предстоит также учитывать.\n",
    "  \n",
    "**В итоге**, основываясь на 11-ти летнем цикле жизни игровой платформы на рынке, считаю, что анализировать надо примерно с половины этого цикла, отсчитывая его от 2016 года, т.е. с 2010 года."
   ]
  },
  {
   "cell_type": "markdown",
   "id": "ed3376ce",
   "metadata": {},
   "source": [
    "#### **<font color='DarkMagenta'> Выбор лидирующих  платформ к 2016 году. </font>** "
   ]
  },
  {
   "cell_type": "code",
   "execution_count": 23,
   "id": "9ff35c6c",
   "metadata": {},
   "outputs": [
    {
     "data": {
      "image/png": "[encoded data removed]",
      "text/plain": [
       "<Figure size 1140.75x432 with 1 Axes>"
      ]
     },
     "metadata": {
      "needs_background": "light"
     },
     "output_type": "display_data"
    }
   ],
   "source": [
    "sns.catplot(x=\"year_of_release\", y=\"total_sales\", hue=\"platform\", kind=\"bar\", data=plat_pivot, height=6, aspect=2.5);"
   ]
  },
  {
   "cell_type": "markdown",
   "id": "ce8590d8",
   "metadata": {},
   "source": [
    "Промежуточный вывод:\n",
    "Все платформы, которые ранее были выбраны в качестве лидеров по продажам в предыдущем задании, к 2016 году пришли к окончанию своего цикла жизни на рынке, который в среднем равен 11 годам. Поэтому, в дальнейшем анализе рассмотрены не будут. Необходимо  посмотреть на другие платформы."
   ]
  },
  {
   "cell_type": "markdown",
   "id": "c1a0bd58",
   "metadata": {},
   "source": [
    "Подготовка данных."
   ]
  },
  {
   "cell_type": "code",
   "execution_count": 24,
   "id": "b676aad8",
   "metadata": {},
   "outputs": [
    {
     "data": {
      "text/html": [
       "<div>\n",
       "<style scoped>\n",
       "    .dataframe tbody tr th:only-of-type {\n",
       "        vertical-align: middle;\n",
       "    }\n",
       "\n",
       "    .dataframe tbody tr th {\n",
       "        vertical-align: top;\n",
       "    }\n",
       "\n",
       "    .dataframe thead th {\n",
       "        text-align: right;\n",
       "    }\n",
       "</style>\n",
       "<table border=\"1\" class=\"dataframe\">\n",
       "  <thead>\n",
       "    <tr style=\"text-align: right;\">\n",
       "      <th></th>\n",
       "      <th>platform</th>\n",
       "      <th>year_of_release</th>\n",
       "      <th>total_sales</th>\n",
       "    </tr>\n",
       "  </thead>\n",
       "  <tbody>\n",
       "    <tr>\n",
       "      <td>0</td>\n",
       "      <td>pc</td>\n",
       "      <td>2014</td>\n",
       "      <td>13.28</td>\n",
       "    </tr>\n",
       "    <tr>\n",
       "      <td>1</td>\n",
       "      <td>pc</td>\n",
       "      <td>2015</td>\n",
       "      <td>8.52</td>\n",
       "    </tr>\n",
       "    <tr>\n",
       "      <td>2</td>\n",
       "      <td>pc</td>\n",
       "      <td>2016</td>\n",
       "      <td>5.25</td>\n",
       "    </tr>\n",
       "    <tr>\n",
       "      <td>3</td>\n",
       "      <td>psp</td>\n",
       "      <td>2014</td>\n",
       "      <td>0.24</td>\n",
       "    </tr>\n",
       "    <tr>\n",
       "      <td>4</td>\n",
       "      <td>psp</td>\n",
       "      <td>2015</td>\n",
       "      <td>0.12</td>\n",
       "    </tr>\n",
       "  </tbody>\n",
       "</table>\n",
       "</div>"
      ],
      "text/plain": [
       "  platform  year_of_release  total_sales\n",
       "0       pc             2014        13.28\n",
       "1       pc             2015         8.52\n",
       "2       pc             2016         5.25\n",
       "3      psp             2014         0.24\n",
       "4      psp             2015         0.12"
      ]
     },
     "metadata": {},
     "output_type": "display_data"
    },
    {
     "data": {
      "text/plain": [
       "pc     3\n",
       "psv    3\n",
       "wii    3\n",
       "psp    2\n",
       "Name: platform, dtype: int64"
      ]
     },
     "metadata": {},
     "output_type": "display_data"
    }
   ],
   "source": [
    "p_pivot_new = df[~(df['platform'].isin(plats))&(df['year_of_release']<3000)&(df['year_of_release']>=2013)].pivot_table(index=['platform','year_of_release'],values='total_sales', aggfunc='sum').sort_index().reset_index()\n",
    "display(p_pivot_new.head())\n",
    "display(p_pivot_new['platform'].value_counts())"
   ]
  },
  {
   "cell_type": "code",
   "execution_count": 25,
   "id": "f9cad565",
   "metadata": {},
   "outputs": [
    {
     "data": {
      "image/png": "[encoded data removed]",
      "text/plain": [
       "<Figure size 917.75x432 with 1 Axes>"
      ]
     },
     "metadata": {
      "needs_background": "light"
     },
     "output_type": "display_data"
    }
   ],
   "source": [
    "sns.catplot(x=\"year_of_release\", y=\"total_sales\", hue=\"platform\", kind=\"bar\", data=p_pivot_new, height=6, aspect=2);"
   ]
  },
  {
   "cell_type": "markdown",
   "id": "9ba22c98",
   "metadata": {},
   "source": [
    "#### **<font color='Purple'> Данные о продажах игр, выпущенных в 2016 году, по платформам. </font>** "
   ]
  },
  {
   "cell_type": "code",
   "execution_count": 26,
   "id": "f48c94a1",
   "metadata": {},
   "outputs": [
    {
     "data": {
      "text/html": [
       "<div>\n",
       "<style scoped>\n",
       "    .dataframe tbody tr th:only-of-type {\n",
       "        vertical-align: middle;\n",
       "    }\n",
       "\n",
       "    .dataframe tbody tr th {\n",
       "        vertical-align: top;\n",
       "    }\n",
       "\n",
       "    .dataframe thead th {\n",
       "        text-align: right;\n",
       "    }\n",
       "</style>\n",
       "<table border=\"1\" class=\"dataframe\">\n",
       "  <thead>\n",
       "    <tr style=\"text-align: right;\">\n",
       "      <th></th>\n",
       "      <th>platform</th>\n",
       "      <th>year_of_release</th>\n",
       "      <th>total_sales</th>\n",
       "    </tr>\n",
       "  </thead>\n",
       "  <tbody>\n",
       "    <tr>\n",
       "      <td>2</td>\n",
       "      <td>pc</td>\n",
       "      <td>2016</td>\n",
       "      <td>5.25</td>\n",
       "    </tr>\n",
       "    <tr>\n",
       "      <td>7</td>\n",
       "      <td>psv</td>\n",
       "      <td>2016</td>\n",
       "      <td>4.25</td>\n",
       "    </tr>\n",
       "    <tr>\n",
       "      <td>10</td>\n",
       "      <td>wii</td>\n",
       "      <td>2016</td>\n",
       "      <td>0.18</td>\n",
       "    </tr>\n",
       "  </tbody>\n",
       "</table>\n",
       "</div>"
      ],
      "text/plain": [
       "   platform  year_of_release  total_sales\n",
       "2        pc             2016         5.25\n",
       "7       psv             2016         4.25\n",
       "10      wii             2016         0.18"
      ]
     },
     "execution_count": 26,
     "metadata": {},
     "output_type": "execute_result"
    }
   ],
   "source": [
    "p_pivot_new.loc[p_pivot_new['year_of_release']==2016].sort_values('total_sales', ascending=False)"
   ]
  },
  {
   "cell_type": "markdown",
   "id": "69f6abd1",
   "metadata": {},
   "source": [
    "Выводы:\n",
    "Итого, \"в живых\" остались следующие платформы: pc, psv, psp, 3ds, wiiu, xone, ps4.  \n",
    "Как видно на графике и в таблице, на 2016 год актуальными являются следующие платформы (в порядке убывания):\n",
    "    1. ps4\n",
    "    2. xone\n",
    "    3. 3ds\n",
    "    4. pc\n",
    "    5. wiiu\n",
    "    6. psv\n",
    "    \n",
    "Для платформы psp игры перестали выпускаться ещё в 2015 году."
   ]
  },
  {
   "cell_type": "markdown",
   "id": "20fac7f8",
   "metadata": {},
   "source": [
    "#### **<font color='Indigo'> Ящик с усами - графики продаж игр по платформам. </font>** "
   ]
  },
  {
   "cell_type": "markdown",
   "id": "eac0b26b",
   "metadata": {},
   "source": [
    "##### **<font color='SlateBlue'> Присвою переменную с актуальными для анализа платформами и сделаю по ним срез данных по всем годам</font>** "
   ]
  },
  {
   "cell_type": "code",
   "execution_count": 27,
   "id": "b392e9f2",
   "metadata": {
    "scrolled": true
   },
   "outputs": [],
   "source": [
    "p_2016 = p_pivot_new[p_pivot_new['year_of_release']>1988]['platform'].unique().tolist()\n",
    "platforms_actual = df.loc[df['platform'].isin(p_2016)]"
   ]
  },
  {
   "cell_type": "code",
   "execution_count": 28,
   "id": "be8cb563",
   "metadata": {},
   "outputs": [
    {
     "data": {
      "image/png": "[encoded data removed]",
      "text/plain": [
       "<Figure size 1296x432 with 1 Axes>"
      ]
     },
     "metadata": {
      "needs_background": "light"
     },
     "output_type": "display_data"
    }
   ],
   "source": [
    "g = sns.catplot(y=\"platform\", x=\"total_sales\", data=platforms_actual, kind=\"box\", orient=\"h\", height=6, aspect=3)"
   ]
  },
  {
   "cell_type": "code",
   "execution_count": 29,
   "id": "44cc08ef",
   "metadata": {},
   "outputs": [
    {
     "data": {
      "image/png": "[encoded data removed]",
      "text/plain": [
       "<Figure size 1296x432 with 1 Axes>"
      ]
     },
     "metadata": {
      "needs_background": "light"
     },
     "output_type": "display_data"
    }
   ],
   "source": [
    "g = sns.catplot(y=\"platform\", x=\"total_sales\", data=platforms_actual, kind=\"box\", orient=\"h\", height=6, aspect=3)\n",
    "g.set(xlim=(0,1.75));"
   ]
  },
  {
   "cell_type": "markdown",
   "id": "c3428a65",
   "metadata": {},
   "source": [
    "##### **<font color='DarkSlateBlue'> Общие, средние и медианные продажи по платформам </font>** "
   ]
  },
  {
   "cell_type": "code",
   "execution_count": 30,
   "id": "c6ac83b7",
   "metadata": {},
   "outputs": [
    {
     "data": {
      "text/html": [
       "<div>\n",
       "<style scoped>\n",
       "    .dataframe tbody tr th:only-of-type {\n",
       "        vertical-align: middle;\n",
       "    }\n",
       "\n",
       "    .dataframe tbody tr th {\n",
       "        vertical-align: top;\n",
       "    }\n",
       "\n",
       "    .dataframe thead th {\n",
       "        text-align: right;\n",
       "    }\n",
       "</style>\n",
       "<table border=\"1\" class=\"dataframe\">\n",
       "  <thead>\n",
       "    <tr style=\"text-align: right;\">\n",
       "      <th></th>\n",
       "      <th>platform</th>\n",
       "      <th>total</th>\n",
       "      <th>mean</th>\n",
       "      <th>median</th>\n",
       "      <th>difference</th>\n",
       "    </tr>\n",
       "  </thead>\n",
       "  <tbody>\n",
       "    <tr>\n",
       "      <td>0</td>\n",
       "      <td>pc</td>\n",
       "      <td>27.05</td>\n",
       "      <td>0.18</td>\n",
       "      <td>0.06</td>\n",
       "      <td>0.12</td>\n",
       "    </tr>\n",
       "    <tr>\n",
       "      <td>2</td>\n",
       "      <td>psv</td>\n",
       "      <td>22.40</td>\n",
       "      <td>0.08</td>\n",
       "      <td>0.04</td>\n",
       "      <td>0.04</td>\n",
       "    </tr>\n",
       "    <tr>\n",
       "      <td>3</td>\n",
       "      <td>wii</td>\n",
       "      <td>5.07</td>\n",
       "      <td>0.46</td>\n",
       "      <td>0.18</td>\n",
       "      <td>0.28</td>\n",
       "    </tr>\n",
       "    <tr>\n",
       "      <td>1</td>\n",
       "      <td>psp</td>\n",
       "      <td>0.36</td>\n",
       "      <td>0.03</td>\n",
       "      <td>0.02</td>\n",
       "      <td>0.01</td>\n",
       "    </tr>\n",
       "  </tbody>\n",
       "</table>\n",
       "</div>"
      ],
      "text/plain": [
       "  platform  total  mean  median  difference\n",
       "0       pc  27.05  0.18    0.06        0.12\n",
       "2      psv  22.40  0.08    0.04        0.04\n",
       "3      wii   5.07  0.46    0.18        0.28\n",
       "1      psp   0.36  0.03    0.02        0.01"
      ]
     },
     "execution_count": 30,
     "metadata": {},
     "output_type": "execute_result"
    }
   ],
   "source": [
    "data_actual=pd.DataFrame(columns=['platform','total','mean','median','difference'])\n",
    "\n",
    "for row in p_2016:\n",
    "    s_mean = round(platforms_actual.loc[platforms_actual['platform']==row]['total_sales'].mean(),2)\n",
    "    s_median = round(platforms_actual.loc[platforms_actual['platform']==row]['total_sales'].median(),2)\n",
    "    tot = round(platforms_actual.loc[platforms_actual['platform']==row]['total_sales'].sum(),2)    \n",
    "    diff = round(s_mean - s_median,2)\n",
    "    data_actual = data_actual.append({'platform':row,'mean':s_mean,'median':s_median,'difference':diff,'total':tot}, ignore_index=True)\n",
    "data_actual.sort_values('total',ascending=False,inplace=True)\n",
    "data_actual"
   ]
  },
  {
   "cell_type": "markdown",
   "id": "17686626",
   "metadata": {},
   "source": [
    "Выводы:\n",
    "1. Несмотря на существенно отличающийся объём продаж, графики платформ ps4 и xone в плане \"усов\" очень похожи.\n",
    "2. Графики продаж pc и psv довольно похожи. Однако, объём продаж у pc практически в пять раз выше.\n",
    "3. Медианные продажи для xone и wiiu одинаковые, несмотря на практически двухкратную разницу в объёме продаж.\n",
    "4. Несмотря на низкие средние и медианные продажи игр на pc, по объёму продаж данная платформа находится на втором месте.  \n",
    "\n",
    "Таким образом, анализируя график, можно иметь понимание о совокупном объёме продаж по количеству выбросов справа, несмотря на размер \"усов\", IQR, медиану и положение 1 и 3 квартилей."
   ]
  },
  {
   "cell_type": "markdown",
   "id": "dd4bde77",
   "metadata": {},
   "source": [
    "#### **<font color='SlateBlue'> Влияние отзывов пользователей и критиков на продажи по платформам. </font>** "
   ]
  },
  {
   "cell_type": "markdown",
   "id": "c3fe6774",
   "metadata": {},
   "source": [
    "Подготовка данных."
   ]
  },
  {
   "cell_type": "code",
   "execution_count": 31,
   "id": "5bcfb6d6",
   "metadata": {},
   "outputs": [
    {
     "data": {
      "text/html": [
       "<div>\n",
       "<style scoped>\n",
       "    .dataframe tbody tr th:only-of-type {\n",
       "        vertical-align: middle;\n",
       "    }\n",
       "\n",
       "    .dataframe tbody tr th {\n",
       "        vertical-align: top;\n",
       "    }\n",
       "\n",
       "    .dataframe thead th {\n",
       "        text-align: right;\n",
       "    }\n",
       "</style>\n",
       "<table border=\"1\" class=\"dataframe\">\n",
       "  <thead>\n",
       "    <tr style=\"text-align: right;\">\n",
       "      <th></th>\n",
       "      <th>platform</th>\n",
       "      <th>critic_score</th>\n",
       "      <th>user_score</th>\n",
       "      <th>total_sales</th>\n",
       "    </tr>\n",
       "  </thead>\n",
       "  <tbody>\n",
       "    <tr>\n",
       "      <td>458</td>\n",
       "      <td>pc</td>\n",
       "      <td>70</td>\n",
       "      <td>3.9</td>\n",
       "      <td>3.05</td>\n",
       "    </tr>\n",
       "    <tr>\n",
       "      <td>1530</td>\n",
       "      <td>pc</td>\n",
       "      <td>84</td>\n",
       "      <td>5.4</td>\n",
       "      <td>1.28</td>\n",
       "    </tr>\n",
       "    <tr>\n",
       "      <td>1730</td>\n",
       "      <td>pc</td>\n",
       "      <td>96</td>\n",
       "      <td>7.9</td>\n",
       "      <td>1.17</td>\n",
       "    </tr>\n",
       "    <tr>\n",
       "      <td>2303</td>\n",
       "      <td>pc</td>\n",
       "      <td>71</td>\n",
       "      <td>5.7</td>\n",
       "      <td>0.90</td>\n",
       "    </tr>\n",
       "    <tr>\n",
       "      <td>2784</td>\n",
       "      <td>pc</td>\n",
       "      <td>85</td>\n",
       "      <td>5.9</td>\n",
       "      <td>0.73</td>\n",
       "    </tr>\n",
       "    <tr>\n",
       "      <td>...</td>\n",
       "      <td>...</td>\n",
       "      <td>...</td>\n",
       "      <td>...</td>\n",
       "      <td>...</td>\n",
       "    </tr>\n",
       "    <tr>\n",
       "      <td>16423</td>\n",
       "      <td>pc</td>\n",
       "      <td>72</td>\n",
       "      <td>7.1</td>\n",
       "      <td>0.01</td>\n",
       "    </tr>\n",
       "    <tr>\n",
       "      <td>16453</td>\n",
       "      <td>pc</td>\n",
       "      <td>71</td>\n",
       "      <td>7.1</td>\n",
       "      <td>0.01</td>\n",
       "    </tr>\n",
       "    <tr>\n",
       "      <td>16463</td>\n",
       "      <td>pc</td>\n",
       "      <td>79</td>\n",
       "      <td>6.8</td>\n",
       "      <td>0.01</td>\n",
       "    </tr>\n",
       "    <tr>\n",
       "      <td>16509</td>\n",
       "      <td>pc</td>\n",
       "      <td>78</td>\n",
       "      <td>7.9</td>\n",
       "      <td>0.01</td>\n",
       "    </tr>\n",
       "    <tr>\n",
       "      <td>16692</td>\n",
       "      <td>pc</td>\n",
       "      <td>80</td>\n",
       "      <td>7.6</td>\n",
       "      <td>0.01</td>\n",
       "    </tr>\n",
       "  </tbody>\n",
       "</table>\n",
       "<p>168 rows × 4 columns</p>\n",
       "</div>"
      ],
      "text/plain": [
       "      platform  critic_score  user_score  total_sales\n",
       "458         pc            70         3.9         3.05\n",
       "1530        pc            84         5.4         1.28\n",
       "1730        pc            96         7.9         1.17\n",
       "2303        pc            71         5.7         0.90\n",
       "2784        pc            85         5.9         0.73\n",
       "...        ...           ...         ...          ...\n",
       "16423       pc            72         7.1         0.01\n",
       "16453       pc            71         7.1         0.01\n",
       "16463       pc            79         6.8         0.01\n",
       "16509       pc            78         7.9         0.01\n",
       "16692       pc            80         7.6         0.01\n",
       "\n",
       "[168 rows x 4 columns]"
      ]
     },
     "execution_count": 31,
     "metadata": {},
     "output_type": "execute_result"
    }
   ],
   "source": [
    "p_score = platforms_actual.loc[(platforms_actual['critic_score']!=3000)&(platforms_actual['user_score']!=3000)]\n",
    "p_score = p_score[['platform','critic_score','user_score','total_sales']]\n",
    "p_score"
   ]
  },
  {
   "cell_type": "code",
   "execution_count": 32,
   "id": "b6d05347",
   "metadata": {},
   "outputs": [
    {
     "data": {
      "image/png": "[encoded data removed]",
      "text/plain": [
       "<Figure size 432x216 with 2 Axes>"
      ]
     },
     "metadata": {
      "needs_background": "light"
     },
     "output_type": "display_data"
    },
    {
     "data": {
      "image/png": "[encoded data removed]",
      "text/plain": [
       "<Figure size 432x216 with 2 Axes>"
      ]
     },
     "metadata": {
      "needs_background": "light"
     },
     "output_type": "display_data"
    }
   ],
   "source": [
    "g = sns.FacetGrid(p_score, col=\"platform\")\n",
    "g = g.map(plt.scatter, \"critic_score\", \"total_sales\", edgecolor=\"w\")\n",
    "b = sns.FacetGrid(p_score, col=\"platform\")\n",
    "b = b.map(plt.scatter, \"user_score\", \"total_sales\", edgecolor=\"w\")"
   ]
  },
  {
   "cell_type": "code",
   "execution_count": 33,
   "id": "b4569172",
   "metadata": {},
   "outputs": [
    {
     "data": {
      "text/html": [
       "<div>\n",
       "<style scoped>\n",
       "    .dataframe tbody tr th:only-of-type {\n",
       "        vertical-align: middle;\n",
       "    }\n",
       "\n",
       "    .dataframe tbody tr th {\n",
       "        vertical-align: top;\n",
       "    }\n",
       "\n",
       "    .dataframe thead th {\n",
       "        text-align: right;\n",
       "    }\n",
       "</style>\n",
       "<table border=\"1\" class=\"dataframe\">\n",
       "  <thead>\n",
       "    <tr style=\"text-align: right;\">\n",
       "      <th></th>\n",
       "      <th>platform</th>\n",
       "      <th>correlation_critic_score</th>\n",
       "      <th>correlation_user_score</th>\n",
       "    </tr>\n",
       "  </thead>\n",
       "  <tbody>\n",
       "    <tr>\n",
       "      <td>0</td>\n",
       "      <td>pc</td>\n",
       "      <td>0.172061</td>\n",
       "      <td>-0.089974</td>\n",
       "    </tr>\n",
       "    <tr>\n",
       "      <td>1</td>\n",
       "      <td>psv</td>\n",
       "      <td>0.041029</td>\n",
       "      <td>0.023528</td>\n",
       "    </tr>\n",
       "  </tbody>\n",
       "</table>\n",
       "</div>"
      ],
      "text/plain": [
       "  platform  correlation_critic_score  correlation_user_score\n",
       "0       pc                  0.172061               -0.089974\n",
       "1      psv                  0.041029                0.023528"
      ]
     },
     "execution_count": 33,
     "metadata": {},
     "output_type": "execute_result"
    }
   ],
   "source": [
    "correlation=pd.DataFrame(columns=['platform','correlation_critic_score','correlation_user_score'])\n",
    "for row in p_score['platform'].unique().tolist():\n",
    "    data_slice = p_score[p_score['platform']==row]\n",
    "    corr_c = data_slice['total_sales'].corr(data_slice['critic_score'])\n",
    "    corr_u = data_slice['total_sales'].corr(data_slice['user_score'])\n",
    "    correlation = correlation.append({'platform':row,'correlation_critic_score':corr_c,'correlation_user_score':corr_u},ignore_index=True)\n",
    "correlation"
   ]
  },
  {
   "cell_type": "markdown",
   "id": "b7c04247",
   "metadata": {},
   "source": [
    "Выводы:\n",
    "Можно сказать, что имеются платформы с играми, продажи которых в некоторой степени чувствительны к отзывам пользователей и критков, а есть платформы, где отзывы практически не влияют на продажи. Отзывы пользователей на всех платформах, кроме wiiu, не влияют на продажи.\n",
    "\n",
    "Влияние оценок критиков и пользователей на продажи платформ:\n",
    "1. 3ds - слабо выраженное влияние критиков, нет влияния пользователей.\n",
    "2. ps4 - слабо выраженное влияние критиков, нет влияния пользователей.\n",
    "3. pc - очень слабо выраженное влияние, нет влияния пользователей.\n",
    "4. wiiu - слабо выраженное влияние и критиков, и пользователей.\n",
    "5. xone - слабо выраженное влияние критиков, нет влияния пользователей.\n",
    "6. psv - нет влияния ни критиков, ни пользователей."
   ]
  },
  {
   "cell_type": "markdown",
   "id": "ae4da599",
   "metadata": {},
   "source": [
    "#### **<font color='Indigo'> Соотнесите выводы с продажами игр на других платформах  </font>** \n",
    "Выводы были сделаны сразу для всех актуальных платформ."
   ]
  },
  {
   "cell_type": "markdown",
   "id": "ef489eea",
   "metadata": {},
   "source": [
    "##### **<font color='Purple'> Подготовка таблицы с общими продажами, медианой, средним продаж по платформам-лидерам за всё время продаж игр. </font>** "
   ]
  },
  {
   "cell_type": "code",
   "execution_count": 34,
   "id": "d295374e",
   "metadata": {},
   "outputs": [],
   "source": [
    "platforms = df[(df['platform'].isin(plats))]"
   ]
  },
  {
   "cell_type": "code",
   "execution_count": 35,
   "id": "f14b86f7",
   "metadata": {},
   "outputs": [
    {
     "data": {
      "text/html": [
       "<div>\n",
       "<style scoped>\n",
       "    .dataframe tbody tr th:only-of-type {\n",
       "        vertical-align: middle;\n",
       "    }\n",
       "\n",
       "    .dataframe tbody tr th {\n",
       "        vertical-align: top;\n",
       "    }\n",
       "\n",
       "    .dataframe thead th {\n",
       "        text-align: right;\n",
       "    }\n",
       "</style>\n",
       "<table border=\"1\" class=\"dataframe\">\n",
       "  <thead>\n",
       "    <tr style=\"text-align: right;\">\n",
       "      <th></th>\n",
       "      <th>platform</th>\n",
       "      <th>total</th>\n",
       "      <th>mean</th>\n",
       "      <th>median</th>\n",
       "      <th>difference</th>\n",
       "    </tr>\n",
       "  </thead>\n",
       "  <tbody>\n",
       "    <tr>\n",
       "      <td>0</td>\n",
       "      <td>pc</td>\n",
       "      <td>0.0</td>\n",
       "      <td>NaN</td>\n",
       "      <td>NaN</td>\n",
       "      <td>NaN</td>\n",
       "    </tr>\n",
       "    <tr>\n",
       "      <td>1</td>\n",
       "      <td>psp</td>\n",
       "      <td>0.0</td>\n",
       "      <td>NaN</td>\n",
       "      <td>NaN</td>\n",
       "      <td>NaN</td>\n",
       "    </tr>\n",
       "    <tr>\n",
       "      <td>2</td>\n",
       "      <td>psv</td>\n",
       "      <td>0.0</td>\n",
       "      <td>NaN</td>\n",
       "      <td>NaN</td>\n",
       "      <td>NaN</td>\n",
       "    </tr>\n",
       "    <tr>\n",
       "      <td>3</td>\n",
       "      <td>wii</td>\n",
       "      <td>0.0</td>\n",
       "      <td>NaN</td>\n",
       "      <td>NaN</td>\n",
       "      <td>NaN</td>\n",
       "    </tr>\n",
       "  </tbody>\n",
       "</table>\n",
       "</div>"
      ],
      "text/plain": [
       "  platform  total  mean  median  difference\n",
       "0       pc    0.0   NaN     NaN         NaN\n",
       "1      psp    0.0   NaN     NaN         NaN\n",
       "2      psv    0.0   NaN     NaN         NaN\n",
       "3      wii    0.0   NaN     NaN         NaN"
      ]
     },
     "execution_count": 35,
     "metadata": {},
     "output_type": "execute_result"
    }
   ],
   "source": [
    "platforms_old=pd.DataFrame(columns=['platform','total','mean','median','difference'])\n",
    "\n",
    "for row in p_2016:\n",
    "    s_mean = round(platforms.loc[platforms['platform']==row]['total_sales'].mean(),2)\n",
    "    s_median = round(platforms.loc[platforms['platform']==row]['total_sales'].median(),2)\n",
    "    tot = round(platforms.loc[platforms['platform']==row]['total_sales'].sum(),2)    \n",
    "    diff = round(s_mean - s_median,2)\n",
    "    platforms_old = platforms_old.append({'platform':row,'mean':s_mean,'median':s_median,'difference':diff,'total':tot}, ignore_index=True)\n",
    "platforms_old.sort_values('total',ascending=False,inplace=True)\n",
    "platforms_old"
   ]
  },
  {
   "cell_type": "code",
   "execution_count": 36,
   "id": "59fa06b8",
   "metadata": {},
   "outputs": [
    {
     "data": {
      "text/html": [
       "<div>\n",
       "<style scoped>\n",
       "    .dataframe tbody tr th:only-of-type {\n",
       "        vertical-align: middle;\n",
       "    }\n",
       "\n",
       "    .dataframe tbody tr th {\n",
       "        vertical-align: top;\n",
       "    }\n",
       "\n",
       "    .dataframe thead th {\n",
       "        text-align: right;\n",
       "    }\n",
       "</style>\n",
       "<table border=\"1\" class=\"dataframe\">\n",
       "  <thead>\n",
       "    <tr style=\"text-align: right;\">\n",
       "      <th></th>\n",
       "      <th>platform</th>\n",
       "      <th>total</th>\n",
       "      <th>mean</th>\n",
       "      <th>median</th>\n",
       "      <th>difference</th>\n",
       "    </tr>\n",
       "  </thead>\n",
       "  <tbody>\n",
       "    <tr>\n",
       "      <td>0</td>\n",
       "      <td>pc</td>\n",
       "      <td>27.05</td>\n",
       "      <td>0.18</td>\n",
       "      <td>0.06</td>\n",
       "      <td>0.12</td>\n",
       "    </tr>\n",
       "    <tr>\n",
       "      <td>2</td>\n",
       "      <td>psv</td>\n",
       "      <td>22.40</td>\n",
       "      <td>0.08</td>\n",
       "      <td>0.04</td>\n",
       "      <td>0.04</td>\n",
       "    </tr>\n",
       "    <tr>\n",
       "      <td>3</td>\n",
       "      <td>wii</td>\n",
       "      <td>5.07</td>\n",
       "      <td>0.46</td>\n",
       "      <td>0.18</td>\n",
       "      <td>0.28</td>\n",
       "    </tr>\n",
       "    <tr>\n",
       "      <td>1</td>\n",
       "      <td>psp</td>\n",
       "      <td>0.36</td>\n",
       "      <td>0.03</td>\n",
       "      <td>0.02</td>\n",
       "      <td>0.01</td>\n",
       "    </tr>\n",
       "  </tbody>\n",
       "</table>\n",
       "</div>"
      ],
      "text/plain": [
       "  platform  total  mean  median  difference\n",
       "0       pc  27.05  0.18    0.06        0.12\n",
       "2      psv  22.40  0.08    0.04        0.04\n",
       "3      wii   5.07  0.46    0.18        0.28\n",
       "1      psp   0.36  0.03    0.02        0.01"
      ]
     },
     "execution_count": 36,
     "metadata": {},
     "output_type": "execute_result"
    }
   ],
   "source": [
    "data_actual"
   ]
  },
  {
   "cell_type": "code",
   "execution_count": 37,
   "id": "c551c0a1",
   "metadata": {},
   "outputs": [
    {
     "data": {
      "image/png": "[encoded data removed]",
      "text/plain": [
       "<Figure size 1296x432 with 1 Axes>"
      ]
     },
     "metadata": {
      "needs_background": "light"
     },
     "output_type": "display_data"
    }
   ],
   "source": [
    "e = sns.catplot(y=\"platform\", x=\"total_sales\", data=platforms, kind=\"box\", orient=\"h\", height=6, aspect=3)"
   ]
  },
  {
   "cell_type": "code",
   "execution_count": 38,
   "id": "ca4809d4",
   "metadata": {},
   "outputs": [
    {
     "data": {
      "image/png": "[encoded data removed]",
      "text/plain": [
       "<Figure size 1296x432 with 1 Axes>"
      ]
     },
     "metadata": {
      "needs_background": "light"
     },
     "output_type": "display_data"
    }
   ],
   "source": [
    "e = sns.catplot(y=\"platform\", x=\"total_sales\", data=platforms, kind=\"box\", orient=\"h\", height=6, aspect=3)\n",
    "e.set(xlim=(0,1.75));"
   ]
  },
  {
   "cell_type": "markdown",
   "id": "1864d432",
   "metadata": {},
   "source": [
    "Выводы:\n",
    "1. Объемы продаж платформ-лидеров существенно выше тех, что остались к 2016 году.\n",
    "2. Их медианные продажи в основном выше, чем продажи актуальных к 2016 году платформ, это говорит о том, что в основном продажи каждой игры были выше и постепенно снизились к 2016 году.\n",
    "3. \"Ящики с усами\" платформ-лидеров примерно одинаковы, это говорит о том, что продажи были примерно равны. Так оно и есть, если взглянуть на общую таблицу продаж.\n",
    "4. Графики платформ-лидеров характеризуются большими выбросами справа, такого не наблюдается у платформ, актуальных к 2016 году."
   ]
  },
  {
   "cell_type": "markdown",
   "id": "29ec9531",
   "metadata": {},
   "source": [
    "#### **<font color='DarkMagenta'> Распределение игр по жанрам.  </font>** "
   ]
  },
  {
   "cell_type": "markdown",
   "id": "56a5c495",
   "metadata": {},
   "source": [
    "Средние продажи"
   ]
  },
  {
   "cell_type": "code",
   "execution_count": 39,
   "id": "079c6392",
   "metadata": {},
   "outputs": [
    {
     "data": {
      "text/html": [
       "<div>\n",
       "<style scoped>\n",
       "    .dataframe tbody tr th:only-of-type {\n",
       "        vertical-align: middle;\n",
       "    }\n",
       "\n",
       "    .dataframe tbody tr th {\n",
       "        vertical-align: top;\n",
       "    }\n",
       "\n",
       "    .dataframe thead th {\n",
       "        text-align: right;\n",
       "    }\n",
       "</style>\n",
       "<table border=\"1\" class=\"dataframe\">\n",
       "  <thead>\n",
       "    <tr style=\"text-align: right;\">\n",
       "      <th></th>\n",
       "      <th>genre</th>\n",
       "      <th>name</th>\n",
       "      <th>total_sales</th>\n",
       "    </tr>\n",
       "  </thead>\n",
       "  <tbody>\n",
       "    <tr>\n",
       "      <td>0</td>\n",
       "      <td>shooter</td>\n",
       "      <td>128</td>\n",
       "      <td>1.335469</td>\n",
       "    </tr>\n",
       "    <tr>\n",
       "      <td>1</td>\n",
       "      <td>sports</td>\n",
       "      <td>161</td>\n",
       "      <td>0.680000</td>\n",
       "    </tr>\n",
       "    <tr>\n",
       "      <td>2</td>\n",
       "      <td>platform</td>\n",
       "      <td>38</td>\n",
       "      <td>0.476053</td>\n",
       "    </tr>\n",
       "    <tr>\n",
       "      <td>3</td>\n",
       "      <td>fighting</td>\n",
       "      <td>60</td>\n",
       "      <td>0.470333</td>\n",
       "    </tr>\n",
       "    <tr>\n",
       "      <td>4</td>\n",
       "      <td>role-playing</td>\n",
       "      <td>221</td>\n",
       "      <td>0.459005</td>\n",
       "    </tr>\n",
       "    <tr>\n",
       "      <td>5</td>\n",
       "      <td>racing</td>\n",
       "      <td>69</td>\n",
       "      <td>0.398841</td>\n",
       "    </tr>\n",
       "    <tr>\n",
       "      <td>6</td>\n",
       "      <td>misc</td>\n",
       "      <td>113</td>\n",
       "      <td>0.332301</td>\n",
       "    </tr>\n",
       "    <tr>\n",
       "      <td>7</td>\n",
       "      <td>action</td>\n",
       "      <td>619</td>\n",
       "      <td>0.322068</td>\n",
       "    </tr>\n",
       "    <tr>\n",
       "      <td>8</td>\n",
       "      <td>simulation</td>\n",
       "      <td>44</td>\n",
       "      <td>0.298409</td>\n",
       "    </tr>\n",
       "    <tr>\n",
       "      <td>9</td>\n",
       "      <td>puzzle</td>\n",
       "      <td>14</td>\n",
       "      <td>0.157857</td>\n",
       "    </tr>\n",
       "    <tr>\n",
       "      <td>10</td>\n",
       "      <td>strategy</td>\n",
       "      <td>37</td>\n",
       "      <td>0.107027</td>\n",
       "    </tr>\n",
       "    <tr>\n",
       "      <td>11</td>\n",
       "      <td>adventure</td>\n",
       "      <td>185</td>\n",
       "      <td>0.094865</td>\n",
       "    </tr>\n",
       "  </tbody>\n",
       "</table>\n",
       "</div>"
      ],
      "text/plain": [
       "           genre  name  total_sales\n",
       "0        shooter   128     1.335469\n",
       "1         sports   161     0.680000\n",
       "2       platform    38     0.476053\n",
       "3       fighting    60     0.470333\n",
       "4   role-playing   221     0.459005\n",
       "5         racing    69     0.398841\n",
       "6           misc   113     0.332301\n",
       "7         action   619     0.322068\n",
       "8     simulation    44     0.298409\n",
       "9         puzzle    14     0.157857\n",
       "10      strategy    37     0.107027\n",
       "11     adventure   185     0.094865"
      ]
     },
     "execution_count": 39,
     "metadata": {},
     "output_type": "execute_result"
    }
   ],
   "source": [
    "by_genres_mean = df.pivot_table(index='genre', values=['name','total_sales'],\n",
    "                           aggfunc={'name':'count','total_sales': 'mean'}).sort_values('total_sales',ascending=False).reset_index()\n",
    "by_genres_mean"
   ]
  },
  {
   "cell_type": "markdown",
   "id": "c612baa9",
   "metadata": {},
   "source": [
    "Медианные продажи"
   ]
  },
  {
   "cell_type": "code",
   "execution_count": 40,
   "id": "76cef937",
   "metadata": {},
   "outputs": [
    {
     "data": {
      "text/html": [
       "<div>\n",
       "<style scoped>\n",
       "    .dataframe tbody tr th:only-of-type {\n",
       "        vertical-align: middle;\n",
       "    }\n",
       "\n",
       "    .dataframe tbody tr th {\n",
       "        vertical-align: top;\n",
       "    }\n",
       "\n",
       "    .dataframe thead th {\n",
       "        text-align: right;\n",
       "    }\n",
       "</style>\n",
       "<table border=\"1\" class=\"dataframe\">\n",
       "  <thead>\n",
       "    <tr style=\"text-align: right;\">\n",
       "      <th></th>\n",
       "      <th>genre</th>\n",
       "      <th>name</th>\n",
       "      <th>total_sales</th>\n",
       "    </tr>\n",
       "  </thead>\n",
       "  <tbody>\n",
       "    <tr>\n",
       "      <td>0</td>\n",
       "      <td>shooter</td>\n",
       "      <td>128</td>\n",
       "      <td>0.515</td>\n",
       "    </tr>\n",
       "    <tr>\n",
       "      <td>1</td>\n",
       "      <td>sports</td>\n",
       "      <td>161</td>\n",
       "      <td>0.180</td>\n",
       "    </tr>\n",
       "    <tr>\n",
       "      <td>2</td>\n",
       "      <td>platform</td>\n",
       "      <td>38</td>\n",
       "      <td>0.140</td>\n",
       "    </tr>\n",
       "    <tr>\n",
       "      <td>3</td>\n",
       "      <td>fighting</td>\n",
       "      <td>60</td>\n",
       "      <td>0.125</td>\n",
       "    </tr>\n",
       "    <tr>\n",
       "      <td>4</td>\n",
       "      <td>role-playing</td>\n",
       "      <td>221</td>\n",
       "      <td>0.110</td>\n",
       "    </tr>\n",
       "    <tr>\n",
       "      <td>5</td>\n",
       "      <td>simulation</td>\n",
       "      <td>44</td>\n",
       "      <td>0.100</td>\n",
       "    </tr>\n",
       "    <tr>\n",
       "      <td>6</td>\n",
       "      <td>action</td>\n",
       "      <td>619</td>\n",
       "      <td>0.090</td>\n",
       "    </tr>\n",
       "    <tr>\n",
       "      <td>7</td>\n",
       "      <td>misc</td>\n",
       "      <td>113</td>\n",
       "      <td>0.090</td>\n",
       "    </tr>\n",
       "    <tr>\n",
       "      <td>8</td>\n",
       "      <td>racing</td>\n",
       "      <td>69</td>\n",
       "      <td>0.090</td>\n",
       "    </tr>\n",
       "    <tr>\n",
       "      <td>9</td>\n",
       "      <td>strategy</td>\n",
       "      <td>37</td>\n",
       "      <td>0.060</td>\n",
       "    </tr>\n",
       "    <tr>\n",
       "      <td>10</td>\n",
       "      <td>puzzle</td>\n",
       "      <td>14</td>\n",
       "      <td>0.045</td>\n",
       "    </tr>\n",
       "    <tr>\n",
       "      <td>11</td>\n",
       "      <td>adventure</td>\n",
       "      <td>185</td>\n",
       "      <td>0.030</td>\n",
       "    </tr>\n",
       "  </tbody>\n",
       "</table>\n",
       "</div>"
      ],
      "text/plain": [
       "           genre  name  total_sales\n",
       "0        shooter   128        0.515\n",
       "1         sports   161        0.180\n",
       "2       platform    38        0.140\n",
       "3       fighting    60        0.125\n",
       "4   role-playing   221        0.110\n",
       "5     simulation    44        0.100\n",
       "6         action   619        0.090\n",
       "7           misc   113        0.090\n",
       "8         racing    69        0.090\n",
       "9       strategy    37        0.060\n",
       "10        puzzle    14        0.045\n",
       "11     adventure   185        0.030"
      ]
     },
     "execution_count": 40,
     "metadata": {},
     "output_type": "execute_result"
    }
   ],
   "source": [
    "by_genres = df.pivot_table(index='genre', values=['name','total_sales'],\n",
    "                           aggfunc={'name':'count','total_sales': 'median'}).sort_values('total_sales',ascending=False).reset_index()\n",
    "by_genres"
   ]
  },
  {
   "cell_type": "markdown",
   "id": "056fec96",
   "metadata": {},
   "source": [
    "Выводы:\n",
    "1. Можно чётко выделить жанры с высокими продажами и жанры с низкими продажами.\n",
    "2. Самые высокие средние продажи у тройки лидеров жанров по продажам - platform, shooter, role-playing. При этом если смотреть на медианные продажи, то тройка лидеров: platform, sports, shooter. Это может означать, что в жанре role-playing есть небольшое количество игр-звезд, тянущих за собой средние продажи, но в основном продажи не очень высокие. А в жанре sports, наоборот, меньше провалов, но и нет звезд.\n",
    "3. Самые низкие продажи у тройки аутсайдеров - puzzle, strategy, adventure.\n",
    "4. Имеются жанры, для которых выпущено очень много игр, но их продажи не оправдали себя."
   ]
  },
  {
   "cell_type": "markdown",
   "id": "f58fd9fa",
   "metadata": {},
   "source": [
    "#### **<font color='DarkOrchid'> Составить портрет пользователя каждого региона. </font>** "
   ]
  },
  {
   "cell_type": "markdown",
   "id": "1dda59bb",
   "metadata": {},
   "source": [
    "##### **<font color='BlueViolet'> Выделение топ-5 платформ по количеству проданных игр в каждом регионе. </font>** "
   ]
  },
  {
   "cell_type": "code",
   "execution_count": 41,
   "id": "34bd6bd3",
   "metadata": {},
   "outputs": [],
   "source": [
    "eu_platf = df.loc[(df['eu_sales']!=0)&(df['year_of_release']<3000)&(df['year_of_release']>=2013)]\n",
    "jp_platf = df.loc[(df['jp_sales']!=0)&(df['year_of_release']<3000)&(df['year_of_release']>=2013)]\n",
    "na_platf = df.loc[(df['na_sales']!=0)&(df['year_of_release']<3000)&(df['year_of_release']>=2013)]"
   ]
  },
  {
   "cell_type": "code",
   "execution_count": 42,
   "id": "75c6a0c1",
   "metadata": {},
   "outputs": [],
   "source": [
    "eu_reg = eu_platf.pivot_table(index='platform', values='eu_sales',aggfunc='count',margins=True,margins_name='total').reset_index()\n",
    "eu_reg['percent_from_total'] = round(eu_reg['eu_sales']*100/eu_reg.iloc[-1, 1], 2)\n",
    "eu_reg.drop(eu_reg.index[-1], inplace=True)"
   ]
  },
  {
   "cell_type": "code",
   "execution_count": 43,
   "id": "0cc279ee",
   "metadata": {},
   "outputs": [],
   "source": [
    "na_reg = na_platf.pivot_table(index='platform', values='na_sales',aggfunc='count',margins=True,margins_name='total').reset_index()\n",
    "na_reg['percent_from_total'] = round(na_reg['na_sales']*100/na_reg.iloc[-1, 1], 2)\n",
    "na_reg.drop(na_reg.index[-1], inplace=True)"
   ]
  },
  {
   "cell_type": "code",
   "execution_count": 44,
   "id": "83ebf53d",
   "metadata": {},
   "outputs": [],
   "source": [
    "jp_reg = jp_platf.pivot_table(index='platform', values='jp_sales',aggfunc='count',margins=True,margins_name='total').reset_index()\n",
    "jp_reg['percent_from_total'] = round(jp_reg['jp_sales']*100/jp_reg.iloc[-1, 1], 2)\n",
    "jp_reg.drop(jp_reg.index[-1], inplace=True)"
   ]
  },
  {
   "cell_type": "code",
   "execution_count": 45,
   "id": "de8dd54c",
   "metadata": {},
   "outputs": [
    {
     "name": "stdout",
     "output_type": "stream",
     "text": [
      "Регион - Европа\n"
     ]
    },
    {
     "data": {
      "text/html": [
       "<div>\n",
       "<style scoped>\n",
       "    .dataframe tbody tr th:only-of-type {\n",
       "        vertical-align: middle;\n",
       "    }\n",
       "\n",
       "    .dataframe tbody tr th {\n",
       "        vertical-align: top;\n",
       "    }\n",
       "\n",
       "    .dataframe thead th {\n",
       "        text-align: right;\n",
       "    }\n",
       "</style>\n",
       "<table border=\"1\" class=\"dataframe\">\n",
       "  <thead>\n",
       "    <tr style=\"text-align: right;\">\n",
       "      <th></th>\n",
       "      <th>index</th>\n",
       "      <th>platform</th>\n",
       "      <th>eu_sales</th>\n",
       "      <th>percent_from_total</th>\n",
       "    </tr>\n",
       "  </thead>\n",
       "  <tbody>\n",
       "    <tr>\n",
       "      <td>0</td>\n",
       "      <td>3</td>\n",
       "      <td>ps4</td>\n",
       "      <td>274</td>\n",
       "      <td>25.68</td>\n",
       "    </tr>\n",
       "    <tr>\n",
       "      <td>1</td>\n",
       "      <td>8</td>\n",
       "      <td>xone</td>\n",
       "      <td>199</td>\n",
       "      <td>18.65</td>\n",
       "    </tr>\n",
       "    <tr>\n",
       "      <td>2</td>\n",
       "      <td>1</td>\n",
       "      <td>pc</td>\n",
       "      <td>150</td>\n",
       "      <td>14.06</td>\n",
       "    </tr>\n",
       "    <tr>\n",
       "      <td>3</td>\n",
       "      <td>2</td>\n",
       "      <td>ps3</td>\n",
       "      <td>123</td>\n",
       "      <td>11.53</td>\n",
       "    </tr>\n",
       "    <tr>\n",
       "      <td>4</td>\n",
       "      <td>7</td>\n",
       "      <td>x360</td>\n",
       "      <td>101</td>\n",
       "      <td>9.47</td>\n",
       "    </tr>\n",
       "  </tbody>\n",
       "</table>\n",
       "</div>"
      ],
      "text/plain": [
       "   index platform  eu_sales  percent_from_total\n",
       "0      3      ps4       274               25.68\n",
       "1      8     xone       199               18.65\n",
       "2      1       pc       150               14.06\n",
       "3      2      ps3       123               11.53\n",
       "4      7     x360       101                9.47"
      ]
     },
     "metadata": {},
     "output_type": "display_data"
    },
    {
     "name": "stdout",
     "output_type": "stream",
     "text": [
      "Регион - Северная Америка\n"
     ]
    },
    {
     "data": {
      "text/html": [
       "<div>\n",
       "<style scoped>\n",
       "    .dataframe tbody tr th:only-of-type {\n",
       "        vertical-align: middle;\n",
       "    }\n",
       "\n",
       "    .dataframe tbody tr th {\n",
       "        vertical-align: top;\n",
       "    }\n",
       "\n",
       "    .dataframe thead th {\n",
       "        text-align: right;\n",
       "    }\n",
       "</style>\n",
       "<table border=\"1\" class=\"dataframe\">\n",
       "  <thead>\n",
       "    <tr style=\"text-align: right;\">\n",
       "      <th></th>\n",
       "      <th>index</th>\n",
       "      <th>platform</th>\n",
       "      <th>na_sales</th>\n",
       "      <th>percent_from_total</th>\n",
       "    </tr>\n",
       "  </thead>\n",
       "  <tbody>\n",
       "    <tr>\n",
       "      <td>0</td>\n",
       "      <td>3</td>\n",
       "      <td>ps4</td>\n",
       "      <td>278</td>\n",
       "      <td>28.34</td>\n",
       "    </tr>\n",
       "    <tr>\n",
       "      <td>1</td>\n",
       "      <td>8</td>\n",
       "      <td>xone</td>\n",
       "      <td>208</td>\n",
       "      <td>21.20</td>\n",
       "    </tr>\n",
       "    <tr>\n",
       "      <td>2</td>\n",
       "      <td>2</td>\n",
       "      <td>ps3</td>\n",
       "      <td>120</td>\n",
       "      <td>12.23</td>\n",
       "    </tr>\n",
       "    <tr>\n",
       "      <td>3</td>\n",
       "      <td>7</td>\n",
       "      <td>x360</td>\n",
       "      <td>103</td>\n",
       "      <td>10.50</td>\n",
       "    </tr>\n",
       "    <tr>\n",
       "      <td>4</td>\n",
       "      <td>0</td>\n",
       "      <td>3ds</td>\n",
       "      <td>85</td>\n",
       "      <td>8.66</td>\n",
       "    </tr>\n",
       "  </tbody>\n",
       "</table>\n",
       "</div>"
      ],
      "text/plain": [
       "   index platform  na_sales  percent_from_total\n",
       "0      3      ps4       278               28.34\n",
       "1      8     xone       208               21.20\n",
       "2      2      ps3       120               12.23\n",
       "3      7     x360       103               10.50\n",
       "4      0      3ds        85                8.66"
      ]
     },
     "metadata": {},
     "output_type": "display_data"
    },
    {
     "name": "stdout",
     "output_type": "stream",
     "text": [
      "Регион - Япония\n"
     ]
    },
    {
     "data": {
      "text/html": [
       "<div>\n",
       "<style scoped>\n",
       "    .dataframe tbody tr th:only-of-type {\n",
       "        vertical-align: middle;\n",
       "    }\n",
       "\n",
       "    .dataframe tbody tr th {\n",
       "        vertical-align: top;\n",
       "    }\n",
       "\n",
       "    .dataframe thead th {\n",
       "        text-align: right;\n",
       "    }\n",
       "</style>\n",
       "<table border=\"1\" class=\"dataframe\">\n",
       "  <thead>\n",
       "    <tr style=\"text-align: right;\">\n",
       "      <th></th>\n",
       "      <th>index</th>\n",
       "      <th>platform</th>\n",
       "      <th>jp_sales</th>\n",
       "      <th>percent_from_total</th>\n",
       "    </tr>\n",
       "  </thead>\n",
       "  <tbody>\n",
       "    <tr>\n",
       "      <td>0</td>\n",
       "      <td>4</td>\n",
       "      <td>psv</td>\n",
       "      <td>267</td>\n",
       "      <td>30.58</td>\n",
       "    </tr>\n",
       "    <tr>\n",
       "      <td>1</td>\n",
       "      <td>2</td>\n",
       "      <td>ps4</td>\n",
       "      <td>214</td>\n",
       "      <td>24.51</td>\n",
       "    </tr>\n",
       "    <tr>\n",
       "      <td>2</td>\n",
       "      <td>0</td>\n",
       "      <td>3ds</td>\n",
       "      <td>168</td>\n",
       "      <td>19.24</td>\n",
       "    </tr>\n",
       "    <tr>\n",
       "      <td>3</td>\n",
       "      <td>1</td>\n",
       "      <td>ps3</td>\n",
       "      <td>145</td>\n",
       "      <td>16.61</td>\n",
       "    </tr>\n",
       "    <tr>\n",
       "      <td>4</td>\n",
       "      <td>5</td>\n",
       "      <td>wiiu</td>\n",
       "      <td>39</td>\n",
       "      <td>4.47</td>\n",
       "    </tr>\n",
       "  </tbody>\n",
       "</table>\n",
       "</div>"
      ],
      "text/plain": [
       "   index platform  jp_sales  percent_from_total\n",
       "0      4      psv       267               30.58\n",
       "1      2      ps4       214               24.51\n",
       "2      0      3ds       168               19.24\n",
       "3      1      ps3       145               16.61\n",
       "4      5     wiiu        39                4.47"
      ]
     },
     "metadata": {},
     "output_type": "display_data"
    }
   ],
   "source": [
    "print(\"Регион - Европа\")\n",
    "display(eu_reg.sort_values('eu_sales',ascending=False).reset_index().head())\n",
    "print('Регион - Северная Америка')\n",
    "display(na_reg.sort_values('na_sales',ascending=False).reset_index().head())\n",
    "print('Регион - Япония')\n",
    "display(jp_reg.sort_values('jp_sales',ascending=False).reset_index().head())"
   ]
  },
  {
   "cell_type": "markdown",
   "id": "8be8f24f",
   "metadata": {},
   "source": [
    "**Вывод:**  \n",
    "1. ps3 лидирует в выборке каждого региона, x360 занимает второе место в Европе и Северной Америке, но не появляется в топ-5 по Японии.\n",
    "2. В Японии топ занимают платформы PlayStation и Nintendo, локальных производителей.\n",
    "3. ps4 во всех регионах занимает около 9% рынка, это может быть связано с тем, что она вышла только в 2013-2014 годах, а выборка с 2013 по 2016 год"
   ]
  },
  {
   "cell_type": "markdown",
   "id": "1deb2352",
   "metadata": {},
   "source": [
    "##### **<font color='MediumPurple'> Выделение топ-5 жанров по количеству проданных игр в каждом регионе. </font>** "
   ]
  },
  {
   "cell_type": "code",
   "execution_count": 46,
   "id": "62e454ae",
   "metadata": {},
   "outputs": [],
   "source": [
    "eu_gen = eu_platf.pivot_table(index='genre', values='eu_sales',aggfunc='count',margins=True,margins_name='total').reset_index()\n",
    "eu_gen['percent_from_total'] = round(eu_gen['eu_sales']*100/eu_gen.iloc[-1, 1], 2)\n",
    "eu_gen.drop(eu_gen.index[-1], inplace=True)"
   ]
  },
  {
   "cell_type": "code",
   "execution_count": 47,
   "id": "ed5058e0",
   "metadata": {},
   "outputs": [],
   "source": [
    "na_gen = na_platf.pivot_table(index='genre', values='na_sales',aggfunc='count',margins=True,margins_name='total').reset_index()\n",
    "na_gen['percent_from_total'] = round(na_gen['na_sales']*100/na_gen.iloc[-1, 1], 2)\n",
    "na_gen.drop(na_gen.index[-1], inplace=True)"
   ]
  },
  {
   "cell_type": "code",
   "execution_count": 48,
   "id": "92c6c5f6",
   "metadata": {},
   "outputs": [],
   "source": [
    "jp_gen = jp_platf.pivot_table(index='genre', values='jp_sales',aggfunc='count',margins=True,margins_name='total').reset_index()\n",
    "jp_gen['percent_from_total'] = round(jp_gen['jp_sales']*100/jp_gen.iloc[-1, 1], 2)\n",
    "jp_gen.drop(jp_gen.index[-1], inplace=True)"
   ]
  },
  {
   "cell_type": "code",
   "execution_count": 49,
   "id": "302e6a76",
   "metadata": {},
   "outputs": [
    {
     "name": "stdout",
     "output_type": "stream",
     "text": [
      "Регион - Европа\n"
     ]
    },
    {
     "data": {
      "text/html": [
       "<div>\n",
       "<style scoped>\n",
       "    .dataframe tbody tr th:only-of-type {\n",
       "        vertical-align: middle;\n",
       "    }\n",
       "\n",
       "    .dataframe tbody tr th {\n",
       "        vertical-align: top;\n",
       "    }\n",
       "\n",
       "    .dataframe thead th {\n",
       "        text-align: right;\n",
       "    }\n",
       "</style>\n",
       "<table border=\"1\" class=\"dataframe\">\n",
       "  <thead>\n",
       "    <tr style=\"text-align: right;\">\n",
       "      <th></th>\n",
       "      <th>index</th>\n",
       "      <th>genre</th>\n",
       "      <th>eu_sales</th>\n",
       "      <th>percent_from_total</th>\n",
       "    </tr>\n",
       "  </thead>\n",
       "  <tbody>\n",
       "    <tr>\n",
       "      <td>0</td>\n",
       "      <td>0</td>\n",
       "      <td>action</td>\n",
       "      <td>382</td>\n",
       "      <td>35.80</td>\n",
       "    </tr>\n",
       "    <tr>\n",
       "      <td>1</td>\n",
       "      <td>10</td>\n",
       "      <td>sports</td>\n",
       "      <td>134</td>\n",
       "      <td>12.56</td>\n",
       "    </tr>\n",
       "    <tr>\n",
       "      <td>2</td>\n",
       "      <td>7</td>\n",
       "      <td>role-playing</td>\n",
       "      <td>125</td>\n",
       "      <td>11.72</td>\n",
       "    </tr>\n",
       "    <tr>\n",
       "      <td>3</td>\n",
       "      <td>8</td>\n",
       "      <td>shooter</td>\n",
       "      <td>117</td>\n",
       "      <td>10.97</td>\n",
       "    </tr>\n",
       "    <tr>\n",
       "      <td>4</td>\n",
       "      <td>1</td>\n",
       "      <td>adventure</td>\n",
       "      <td>66</td>\n",
       "      <td>6.19</td>\n",
       "    </tr>\n",
       "  </tbody>\n",
       "</table>\n",
       "</div>"
      ],
      "text/plain": [
       "   index         genre  eu_sales  percent_from_total\n",
       "0      0        action       382               35.80\n",
       "1     10        sports       134               12.56\n",
       "2      7  role-playing       125               11.72\n",
       "3      8       shooter       117               10.97\n",
       "4      1     adventure        66                6.19"
      ]
     },
     "metadata": {},
     "output_type": "display_data"
    },
    {
     "name": "stdout",
     "output_type": "stream",
     "text": [
      "Регион - Северная Америка\n"
     ]
    },
    {
     "data": {
      "text/html": [
       "<div>\n",
       "<style scoped>\n",
       "    .dataframe tbody tr th:only-of-type {\n",
       "        vertical-align: middle;\n",
       "    }\n",
       "\n",
       "    .dataframe tbody tr th {\n",
       "        vertical-align: top;\n",
       "    }\n",
       "\n",
       "    .dataframe thead th {\n",
       "        text-align: right;\n",
       "    }\n",
       "</style>\n",
       "<table border=\"1\" class=\"dataframe\">\n",
       "  <thead>\n",
       "    <tr style=\"text-align: right;\">\n",
       "      <th></th>\n",
       "      <th>index</th>\n",
       "      <th>genre</th>\n",
       "      <th>na_sales</th>\n",
       "      <th>percent_from_total</th>\n",
       "    </tr>\n",
       "  </thead>\n",
       "  <tbody>\n",
       "    <tr>\n",
       "      <td>0</td>\n",
       "      <td>0</td>\n",
       "      <td>action</td>\n",
       "      <td>344</td>\n",
       "      <td>35.07</td>\n",
       "    </tr>\n",
       "    <tr>\n",
       "      <td>1</td>\n",
       "      <td>8</td>\n",
       "      <td>shooter</td>\n",
       "      <td>122</td>\n",
       "      <td>12.44</td>\n",
       "    </tr>\n",
       "    <tr>\n",
       "      <td>2</td>\n",
       "      <td>7</td>\n",
       "      <td>role-playing</td>\n",
       "      <td>121</td>\n",
       "      <td>12.33</td>\n",
       "    </tr>\n",
       "    <tr>\n",
       "      <td>3</td>\n",
       "      <td>10</td>\n",
       "      <td>sports</td>\n",
       "      <td>113</td>\n",
       "      <td>11.52</td>\n",
       "    </tr>\n",
       "    <tr>\n",
       "      <td>4</td>\n",
       "      <td>1</td>\n",
       "      <td>adventure</td>\n",
       "      <td>70</td>\n",
       "      <td>7.14</td>\n",
       "    </tr>\n",
       "  </tbody>\n",
       "</table>\n",
       "</div>"
      ],
      "text/plain": [
       "   index         genre  na_sales  percent_from_total\n",
       "0      0        action       344               35.07\n",
       "1      8       shooter       122               12.44\n",
       "2      7  role-playing       121               12.33\n",
       "3     10        sports       113               11.52\n",
       "4      1     adventure        70                7.14"
      ]
     },
     "metadata": {},
     "output_type": "display_data"
    },
    {
     "name": "stdout",
     "output_type": "stream",
     "text": [
      "Регион - Япония\n"
     ]
    },
    {
     "data": {
      "text/html": [
       "<div>\n",
       "<style scoped>\n",
       "    .dataframe tbody tr th:only-of-type {\n",
       "        vertical-align: middle;\n",
       "    }\n",
       "\n",
       "    .dataframe tbody tr th {\n",
       "        vertical-align: top;\n",
       "    }\n",
       "\n",
       "    .dataframe thead th {\n",
       "        text-align: right;\n",
       "    }\n",
       "</style>\n",
       "<table border=\"1\" class=\"dataframe\">\n",
       "  <thead>\n",
       "    <tr style=\"text-align: right;\">\n",
       "      <th></th>\n",
       "      <th>index</th>\n",
       "      <th>genre</th>\n",
       "      <th>jp_sales</th>\n",
       "      <th>percent_from_total</th>\n",
       "    </tr>\n",
       "  </thead>\n",
       "  <tbody>\n",
       "    <tr>\n",
       "      <td>0</td>\n",
       "      <td>0</td>\n",
       "      <td>action</td>\n",
       "      <td>324</td>\n",
       "      <td>37.11</td>\n",
       "    </tr>\n",
       "    <tr>\n",
       "      <td>1</td>\n",
       "      <td>7</td>\n",
       "      <td>role-playing</td>\n",
       "      <td>167</td>\n",
       "      <td>19.13</td>\n",
       "    </tr>\n",
       "    <tr>\n",
       "      <td>2</td>\n",
       "      <td>1</td>\n",
       "      <td>adventure</td>\n",
       "      <td>115</td>\n",
       "      <td>13.17</td>\n",
       "    </tr>\n",
       "    <tr>\n",
       "      <td>3</td>\n",
       "      <td>3</td>\n",
       "      <td>misc</td>\n",
       "      <td>63</td>\n",
       "      <td>7.22</td>\n",
       "    </tr>\n",
       "    <tr>\n",
       "      <td>4</td>\n",
       "      <td>8</td>\n",
       "      <td>shooter</td>\n",
       "      <td>46</td>\n",
       "      <td>5.27</td>\n",
       "    </tr>\n",
       "  </tbody>\n",
       "</table>\n",
       "</div>"
      ],
      "text/plain": [
       "   index         genre  jp_sales  percent_from_total\n",
       "0      0        action       324               37.11\n",
       "1      7  role-playing       167               19.13\n",
       "2      1     adventure       115               13.17\n",
       "3      3          misc        63                7.22\n",
       "4      8       shooter        46                5.27"
      ]
     },
     "metadata": {},
     "output_type": "display_data"
    }
   ],
   "source": [
    "print(\"Регион - Европа\")\n",
    "display(eu_gen.sort_values('eu_sales',ascending=False).reset_index().head())\n",
    "print('Регион - Северная Америка')\n",
    "display(na_gen.sort_values('na_sales',ascending=False).reset_index().head())\n",
    "print('Регион - Япония')\n",
    "display(jp_gen.sort_values('jp_sales',ascending=False).reset_index().head())"
   ]
  },
  {
   "cell_type": "markdown",
   "id": "7c963727",
   "metadata": {},
   "source": [
    "**Выводы.**  \n",
    "1. Регионы Европа и Северная Америка идентичны по своим предпочтениям жанров в топ-5.\n",
    "2. Жанры action, sports, misc популярны во всех трёх регионах.\n",
    "3. Средняя доля рынка, рассчитаная по топ-5 жанрам для каждого региона примерно одинакова и равна 13-13,5%.\n",
    "4. Япония отличается в своих предпочтениях по жанрам, отдавая предпочтение тем, которые непопулярны в других регионах."
   ]
  },
  {
   "cell_type": "markdown",
   "id": "0052b8b6",
   "metadata": {},
   "source": [
    "#### **<font color='MediumOrchid'>  Влияет ли рейтинг ESRB на продажи в отдельном регионе? </font>**"
   ]
  },
  {
   "cell_type": "code",
   "execution_count": 50,
   "id": "b9444d48",
   "metadata": {},
   "outputs": [],
   "source": [
    "ratings = df.copy()"
   ]
  },
  {
   "cell_type": "code",
   "execution_count": 51,
   "id": "b8ce4168",
   "metadata": {},
   "outputs": [],
   "source": [
    "cols= ['na_sales','eu_sales','jp_sales']\n",
    "cols1 = ['na','eu','jp']\n",
    "ratings[cols1] = ratings[cols].astype('bool')\n",
    "rp_na = ratings[ratings['na_sales']!=0].pivot_table(index='rating',values=['na','na_sales'],aggfunc='sum').sort_values('na',ascending=False)\n",
    "rp_eu = ratings[ratings['eu_sales']!=0].pivot_table(index='rating',values=['eu','eu_sales'],aggfunc='sum').sort_values('eu',ascending=False)\n",
    "rp_jp = ratings[ratings['jp_sales']!=0].pivot_table(index='rating',values=['jp','jp_sales'],aggfunc='sum').sort_values('jp',ascending=False)"
   ]
  },
  {
   "cell_type": "code",
   "execution_count": 52,
   "id": "a4cba4eb",
   "metadata": {},
   "outputs": [
    {
     "data": {
      "text/plain": [
       "'Северная Америка'"
      ]
     },
     "metadata": {},
     "output_type": "display_data"
    },
    {
     "data": {
      "text/html": [
       "<div>\n",
       "<style scoped>\n",
       "    .dataframe tbody tr th:only-of-type {\n",
       "        vertical-align: middle;\n",
       "    }\n",
       "\n",
       "    .dataframe tbody tr th {\n",
       "        vertical-align: top;\n",
       "    }\n",
       "\n",
       "    .dataframe thead th {\n",
       "        text-align: right;\n",
       "    }\n",
       "</style>\n",
       "<table border=\"1\" class=\"dataframe\">\n",
       "  <thead>\n",
       "    <tr style=\"text-align: right;\">\n",
       "      <th></th>\n",
       "      <th>na</th>\n",
       "      <th>na_sales</th>\n",
       "    </tr>\n",
       "    <tr>\n",
       "      <th>rating</th>\n",
       "      <th></th>\n",
       "      <th></th>\n",
       "    </tr>\n",
       "  </thead>\n",
       "  <tbody>\n",
       "    <tr>\n",
       "      <td>M</td>\n",
       "      <td>237.0</td>\n",
       "      <td>96.42</td>\n",
       "    </tr>\n",
       "    <tr>\n",
       "      <td>NEIZVESTNO</td>\n",
       "      <td>234.0</td>\n",
       "      <td>64.72</td>\n",
       "    </tr>\n",
       "    <tr>\n",
       "      <td>T</td>\n",
       "      <td>193.0</td>\n",
       "      <td>38.95</td>\n",
       "    </tr>\n",
       "    <tr>\n",
       "      <td>E10+</td>\n",
       "      <td>162.0</td>\n",
       "      <td>33.23</td>\n",
       "    </tr>\n",
       "    <tr>\n",
       "      <td>E</td>\n",
       "      <td>155.0</td>\n",
       "      <td>50.74</td>\n",
       "    </tr>\n",
       "  </tbody>\n",
       "</table>\n",
       "</div>"
      ],
      "text/plain": [
       "               na  na_sales\n",
       "rating                     \n",
       "M           237.0     96.42\n",
       "NEIZVESTNO  234.0     64.72\n",
       "T           193.0     38.95\n",
       "E10+        162.0     33.23\n",
       "E           155.0     50.74"
      ]
     },
     "metadata": {},
     "output_type": "display_data"
    },
    {
     "data": {
      "text/plain": [
       "'Европа'"
      ]
     },
     "metadata": {},
     "output_type": "display_data"
    },
    {
     "data": {
      "text/html": [
       "<div>\n",
       "<style scoped>\n",
       "    .dataframe tbody tr th:only-of-type {\n",
       "        vertical-align: middle;\n",
       "    }\n",
       "\n",
       "    .dataframe tbody tr th {\n",
       "        vertical-align: top;\n",
       "    }\n",
       "\n",
       "    .dataframe thead th {\n",
       "        text-align: right;\n",
       "    }\n",
       "</style>\n",
       "<table border=\"1\" class=\"dataframe\">\n",
       "  <thead>\n",
       "    <tr style=\"text-align: right;\">\n",
       "      <th></th>\n",
       "      <th>eu</th>\n",
       "      <th>eu_sales</th>\n",
       "    </tr>\n",
       "    <tr>\n",
       "      <th>rating</th>\n",
       "      <th></th>\n",
       "      <th></th>\n",
       "    </tr>\n",
       "  </thead>\n",
       "  <tbody>\n",
       "    <tr>\n",
       "      <td>NEIZVESTNO</td>\n",
       "      <td>264.0</td>\n",
       "      <td>58.95</td>\n",
       "    </tr>\n",
       "    <tr>\n",
       "      <td>M</td>\n",
       "      <td>242.0</td>\n",
       "      <td>93.44</td>\n",
       "    </tr>\n",
       "    <tr>\n",
       "      <td>T</td>\n",
       "      <td>203.0</td>\n",
       "      <td>34.07</td>\n",
       "    </tr>\n",
       "    <tr>\n",
       "      <td>E</td>\n",
       "      <td>190.0</td>\n",
       "      <td>58.06</td>\n",
       "    </tr>\n",
       "    <tr>\n",
       "      <td>E10+</td>\n",
       "      <td>168.0</td>\n",
       "      <td>26.16</td>\n",
       "    </tr>\n",
       "  </tbody>\n",
       "</table>\n",
       "</div>"
      ],
      "text/plain": [
       "               eu  eu_sales\n",
       "rating                     \n",
       "NEIZVESTNO  264.0     58.95\n",
       "M           242.0     93.44\n",
       "T           203.0     34.07\n",
       "E           190.0     58.06\n",
       "E10+        168.0     26.16"
      ]
     },
     "metadata": {},
     "output_type": "display_data"
    },
    {
     "data": {
      "text/plain": [
       "'Япония'"
      ]
     },
     "metadata": {},
     "output_type": "display_data"
    },
    {
     "data": {
      "text/html": [
       "<div>\n",
       "<style scoped>\n",
       "    .dataframe tbody tr th:only-of-type {\n",
       "        vertical-align: middle;\n",
       "    }\n",
       "\n",
       "    .dataframe tbody tr th {\n",
       "        vertical-align: top;\n",
       "    }\n",
       "\n",
       "    .dataframe thead th {\n",
       "        text-align: right;\n",
       "    }\n",
       "</style>\n",
       "<table border=\"1\" class=\"dataframe\">\n",
       "  <thead>\n",
       "    <tr style=\"text-align: right;\">\n",
       "      <th></th>\n",
       "      <th>jp</th>\n",
       "      <th>jp_sales</th>\n",
       "    </tr>\n",
       "    <tr>\n",
       "      <th>rating</th>\n",
       "      <th></th>\n",
       "      <th></th>\n",
       "    </tr>\n",
       "  </thead>\n",
       "  <tbody>\n",
       "    <tr>\n",
       "      <td>NEIZVESTNO</td>\n",
       "      <td>534.0</td>\n",
       "      <td>56.90</td>\n",
       "    </tr>\n",
       "    <tr>\n",
       "      <td>T</td>\n",
       "      <td>139.0</td>\n",
       "      <td>14.78</td>\n",
       "    </tr>\n",
       "    <tr>\n",
       "      <td>M</td>\n",
       "      <td>104.0</td>\n",
       "      <td>8.01</td>\n",
       "    </tr>\n",
       "    <tr>\n",
       "      <td>E</td>\n",
       "      <td>54.0</td>\n",
       "      <td>8.94</td>\n",
       "    </tr>\n",
       "    <tr>\n",
       "      <td>E10+</td>\n",
       "      <td>42.0</td>\n",
       "      <td>4.46</td>\n",
       "    </tr>\n",
       "  </tbody>\n",
       "</table>\n",
       "</div>"
      ],
      "text/plain": [
       "               jp  jp_sales\n",
       "rating                     \n",
       "NEIZVESTNO  534.0     56.90\n",
       "T           139.0     14.78\n",
       "M           104.0      8.01\n",
       "E            54.0      8.94\n",
       "E10+         42.0      4.46"
      ]
     },
     "metadata": {},
     "output_type": "display_data"
    }
   ],
   "source": [
    "display('Северная Америка', rp_na)\n",
    "display('Европа', rp_eu)\n",
    "display('Япония', rp_jp)"
   ]
  },
  {
   "cell_type": "markdown",
   "id": "284d23e2",
   "metadata": {},
   "source": [
    "**Выводы:**  \n",
    "1. Самые массовые продажи во всех трёх регионах показывают рейтинги: E, T, M, E10+, однако самая большая часть продаж в Японии и Европе приходится на игры с неизвестным рейтингом.\n",
    "2. Трудно сказать, оказывает ли рейтинг влияние на продажи, или это просто самые популярные игры имеют такой рейтинг и сам факт присвоения определённого рейтинга ни о чём не говорит.\n",
    "3. Для более точного понимания, влияет ли рейтинг ESRB на продажи buh, следует анализировать продажи до присвоения рейтинга и после."
   ]
  },
  {
   "cell_type": "markdown",
   "id": "4f6557ba",
   "metadata": {},
   "source": [
    "#### **<font color='Magenta'> Проверка гипотез. </font>** "
   ]
  },
  {
   "cell_type": "markdown",
   "id": "5a8132eb",
   "metadata": {},
   "source": [
    "#### **<font color='Fuchsia'> 1. </font>** \n",
    "H0 - cредние пользовательские рейтинги платформ Xbox One и PC одинаковые.  \n",
    "H1 - cредние пользовательские рейтинги платформ Xbox One и PC отличаются."
   ]
  },
  {
   "cell_type": "code",
   "execution_count": 53,
   "id": "ff5abb25",
   "metadata": {},
   "outputs": [],
   "source": [
    "ratings_pc = df[(df['user_score']!=3000)&(df['platform']=='pc')&\n",
    "                  (df['year_of_release']<3000)&(df['year_of_release']>=2013)]\n",
    "ratings_xone = df[(df['user_score']!=3000)&(df['platform']=='xone')&\n",
    "                  (df['year_of_release']<3000)&(df['year_of_release']>=2013)]"
   ]
  },
  {
   "cell_type": "code",
   "execution_count": 54,
   "id": "8da280a8",
   "metadata": {},
   "outputs": [
    {
     "name": "stdout",
     "output_type": "stream",
     "text": [
      "p-значение: 0.10450507919348415\n",
      "Не получилось отвергнуть нулевую гипотезу\n"
     ]
    }
   ],
   "source": [
    "alpha = 0.05\n",
    "results = st.ttest_ind(ratings_pc['user_score'], ratings_xone['user_score'])\n",
    "print('p-значение:', results.pvalue)\n",
    "\n",
    "if (results.pvalue < alpha):\n",
    "    print(\"Отвергаем нулевую гипотезу\")\n",
    "else:\n",
    "    print(\"Не получилось отвергнуть нулевую гипотезу\")"
   ]
  },
  {
   "cell_type": "markdown",
   "id": "f1893e4f",
   "metadata": {},
   "source": [
    "**Вывод:**  \n",
    "Для уровня значимости $\\alpha = 0.05$ нет оснований отвергнуть нулевую гипотезу о том, что средние пользовательские рейтинги платформ PC и Xbox One одинаковые."
   ]
  },
  {
   "cell_type": "markdown",
   "id": "d9469d30",
   "metadata": {},
   "source": [
    "#### **<font color='Orchid'> 2. </font>** \n",
    "H0 - средние пользовательские рейтинги жанров Action и Sports одинаковые.  \n",
    "H1 - средние пользовательские рейтинги жанров Action и Sports разные."
   ]
  },
  {
   "cell_type": "code",
   "execution_count": 55,
   "id": "f385ea9f",
   "metadata": {},
   "outputs": [],
   "source": [
    "ratings_action = df[(df['user_score']!=3000)&(df['genre']=='action')&\n",
    "                (df['year_of_release']<3000)&(df['year_of_release']>=2013)]\n",
    "ratings_sports = df[(df['user_score']!=3000)&(df['genre']=='sports')&\n",
    "                (df['year_of_release']<3000)&(df['year_of_release']>=2013)]"
   ]
  },
  {
   "cell_type": "code",
   "execution_count": 56,
   "id": "1d6ea601",
   "metadata": {},
   "outputs": [
    {
     "name": "stdout",
     "output_type": "stream",
     "text": [
      "p-значение: 2.8711147985105864e-19\n",
      "Отвергаем нулевую гипотезу\n"
     ]
    }
   ],
   "source": [
    "alpha = 0.05\n",
    "results = st.ttest_ind(ratings_action['user_score'], ratings_sports['user_score'])\n",
    "print('p-значение:', results.pvalue)\n",
    "\n",
    "if (results.pvalue < alpha):\n",
    "    print(\"Отвергаем нулевую гипотезу\")\n",
    "else:\n",
    "    print(\"Не получилось отвергнуть нулевую гипотезу\")"
   ]
  },
  {
   "cell_type": "markdown",
   "id": "7ea17193",
   "metadata": {},
   "source": [
    "**Вывод:**  \n",
    "Отвергаем нулевую гипотезу H0 - средние пользовательские рейтинги жанров Action и Sports одинаковые в пользу альтеративы."
   ]
  },
  {
   "cell_type": "markdown",
   "id": "a5d78756",
   "metadata": {},
   "source": [
    "### **<font color='Plum'> Интересный момент состоит в том, что в исследовании обеих гипотез средние были примерно равны, однако, статистический тест показал существенную разницу - в первом случае нулевая гипотеза не была отвергнута, во втором - ее пришлось отвергнуть. </font>** "
   ]
  },
  {
   "cell_type": "markdown",
   "id": "cf9fd10b",
   "metadata": {},
   "source": [
    "# **<font color='MediumVioletRed'> Выводы: </font>** \n",
    "Было проведено исследование исторических данных продаж игр для разных платформ с 2013 по 2016 годы.\n",
    "1. По результатам исследования получены данные о том, что среднее время актуального присутствия платформы на рынке составляет примерно 11 лет.\n",
    "2. Наиболее популярные по продажам за всё время платформы: ps2, x360, ps3, wii, ds, ps.\n",
    "3. Продажи игр достигли своего пика в 2008 году и с того времени неуклонно падают.\n",
    "4. В 2016 году актуальными остаются платформы pc, psv, 3ds, wiiu, xone, ps4.\n",
    "5. Продажи по ним будут ниже, чем в 2016 году.\n",
    "6. Наиболее популярные жанры - platform,shooter,sports\n",
    "7. Для некоторых платформ характерно слабое влияние на продажи рейтинга игр от критиков.\n",
    "8. Влияние рейтинга от пользователей на продажи игр практически отсутствует.\n",
    "9. Регионы Северная Америка и Европа похожи по своим предпочтениям по жанрам игр, Япония от них существенно отличается.\n",
    "10. В целом, считаю снижение продаж игр закономерным, вследствие переноса интереса пользователей в сторону:\n",
    "            * Игр на мобильных платформах (Android, IOS).\n",
    "            * Бесплатных онлайн-игр с донатами."
   ]
  },
  {
   "cell_type": "code",
   "execution_count": 1,
   "id": "88605d2c",
   "metadata": {},
   "outputs": [
    {
     "data": {
      "text/plain": [
       "'28.06.2022 16:13'"
      ]
     },
     "execution_count": 1,
     "metadata": {},
     "output_type": "execute_result"
    }
   ],
   "source": [
    "dt.datetime.now().strftime(\"%d.%m.%Y %H:%M\")"
   ]
  }
 ],
 "metadata": {
  "ExecuteTimeLog": [
   {
    "duration": 1119,
    "start_time": "2022-02-26T17:10:07.155Z"
   },
   {
    "duration": 30,
    "start_time": "2022-02-26T17:10:08.276Z"
   },
   {
    "duration": 3,
    "start_time": "2022-02-26T17:10:08.308Z"
   },
   {
    "duration": 20,
    "start_time": "2022-02-26T17:10:08.313Z"
   },
   {
    "duration": 16,
    "start_time": "2022-02-26T17:10:08.334Z"
   },
   {
    "duration": 10,
    "start_time": "2022-02-26T17:10:08.351Z"
   },
   {
    "duration": 19,
    "start_time": "2022-02-26T17:10:08.362Z"
   },
   {
    "duration": 9,
    "start_time": "2022-02-26T17:10:08.383Z"
   },
   {
    "duration": 5,
    "start_time": "2022-02-26T17:10:08.394Z"
   },
   {
    "duration": 7,
    "start_time": "2022-02-26T17:10:08.433Z"
   },
   {
    "duration": 5,
    "start_time": "2022-02-26T17:10:08.442Z"
   },
   {
    "duration": 15,
    "start_time": "2022-02-26T17:10:08.448Z"
   },
   {
    "duration": 8,
    "start_time": "2022-02-26T17:10:08.464Z"
   },
   {
    "duration": 541,
    "start_time": "2022-02-26T17:10:08.473Z"
   },
   {
    "duration": 20,
    "start_time": "2022-02-26T17:10:09.016Z"
   },
   {
    "duration": 7,
    "start_time": "2022-02-26T17:10:09.038Z"
   },
   {
    "duration": 315,
    "start_time": "2022-02-26T17:10:09.047Z"
   },
   {
    "duration": 25,
    "start_time": "2022-02-26T17:10:09.364Z"
   },
   {
    "duration": 309,
    "start_time": "2022-02-26T17:10:09.390Z"
   },
   {
    "duration": 7,
    "start_time": "2022-02-26T17:10:09.701Z"
   },
   {
    "duration": 1183,
    "start_time": "2022-02-26T17:10:09.709Z"
   },
   {
    "duration": 23,
    "start_time": "2022-02-26T17:10:10.893Z"
   },
   {
    "duration": 652,
    "start_time": "2022-02-26T17:10:10.920Z"
   },
   {
    "duration": 9,
    "start_time": "2022-02-26T17:10:11.574Z"
   },
   {
    "duration": 7,
    "start_time": "2022-02-26T17:10:11.584Z"
   },
   {
    "duration": 482,
    "start_time": "2022-02-26T17:10:11.592Z"
   },
   {
    "duration": 45,
    "start_time": "2022-02-26T17:10:12.075Z"
   },
   {
    "duration": 24,
    "start_time": "2022-02-26T17:10:12.121Z"
   },
   {
    "duration": 2386,
    "start_time": "2022-02-26T17:10:12.147Z"
   },
   {
    "duration": 30,
    "start_time": "2022-02-26T17:10:14.535Z"
   },
   {
    "duration": 3,
    "start_time": "2022-02-26T17:10:14.567Z"
   },
   {
    "duration": 6,
    "start_time": "2022-02-26T17:10:14.572Z"
   },
   {
    "duration": 80,
    "start_time": "2022-02-26T17:10:14.580Z"
   },
   {
    "duration": 7,
    "start_time": "2022-02-26T17:10:14.661Z"
   },
   {
    "duration": 478,
    "start_time": "2022-02-26T17:10:14.670Z"
   },
   {
    "duration": 17,
    "start_time": "2022-02-26T17:10:15.149Z"
   },
   {
    "duration": 10,
    "start_time": "2022-02-26T17:10:15.167Z"
   },
   {
    "duration": 17,
    "start_time": "2022-02-26T17:10:15.178Z"
   },
   {
    "duration": 46,
    "start_time": "2022-02-26T17:10:15.197Z"
   },
   {
    "duration": 16,
    "start_time": "2022-02-26T17:10:15.245Z"
   },
   {
    "duration": 21,
    "start_time": "2022-02-26T17:10:15.262Z"
   },
   {
    "duration": 16,
    "start_time": "2022-02-26T17:10:15.285Z"
   },
   {
    "duration": 42,
    "start_time": "2022-02-26T17:10:15.303Z"
   },
   {
    "duration": 17,
    "start_time": "2022-02-26T17:10:15.346Z"
   },
   {
    "duration": 23,
    "start_time": "2022-02-26T17:10:15.364Z"
   },
   {
    "duration": 6,
    "start_time": "2022-02-26T17:10:15.389Z"
   },
   {
    "duration": 63,
    "start_time": "2022-02-26T17:10:15.397Z"
   },
   {
    "duration": 16,
    "start_time": "2022-02-26T17:10:15.462Z"
   },
   {
    "duration": 8,
    "start_time": "2022-02-26T17:10:15.479Z"
   },
   {
    "duration": 5,
    "start_time": "2022-02-26T17:10:15.489Z"
   },
   {
    "duration": 43,
    "start_time": "2022-02-26T17:10:15.495Z"
   },
   {
    "duration": 5,
    "start_time": "2022-02-26T17:10:15.540Z"
   },
   {
    "duration": 1121,
    "start_time": "2022-02-26T17:37:08.115Z"
   },
   {
    "duration": 32,
    "start_time": "2022-02-26T17:37:09.238Z"
   },
   {
    "duration": 3,
    "start_time": "2022-02-26T17:37:09.273Z"
   },
   {
    "duration": 11,
    "start_time": "2022-02-26T17:37:09.278Z"
   },
   {
    "duration": 15,
    "start_time": "2022-02-26T17:37:09.290Z"
   },
   {
    "duration": 33,
    "start_time": "2022-02-26T17:37:09.307Z"
   },
   {
    "duration": 19,
    "start_time": "2022-02-26T17:37:09.342Z"
   },
   {
    "duration": 9,
    "start_time": "2022-02-26T17:37:09.363Z"
   },
   {
    "duration": 6,
    "start_time": "2022-02-26T17:37:09.375Z"
   },
   {
    "duration": 10,
    "start_time": "2022-02-26T17:37:09.384Z"
   },
   {
    "duration": 38,
    "start_time": "2022-02-26T17:37:09.396Z"
   },
   {
    "duration": 16,
    "start_time": "2022-02-26T17:37:09.436Z"
   },
   {
    "duration": 9,
    "start_time": "2022-02-26T17:37:09.454Z"
   },
   {
    "duration": 570,
    "start_time": "2022-02-26T17:37:09.464Z"
   },
   {
    "duration": 14,
    "start_time": "2022-02-26T17:37:10.036Z"
   },
   {
    "duration": 10,
    "start_time": "2022-02-26T17:37:10.052Z"
   },
   {
    "duration": 480,
    "start_time": "2022-02-26T17:37:10.064Z"
   },
   {
    "duration": 36,
    "start_time": "2022-02-26T17:37:10.546Z"
   },
   {
    "duration": 464,
    "start_time": "2022-02-26T17:37:10.584Z"
   },
   {
    "duration": 10,
    "start_time": "2022-02-26T17:37:11.050Z"
   },
   {
    "duration": 1225,
    "start_time": "2022-02-26T17:37:11.062Z"
   },
   {
    "duration": 23,
    "start_time": "2022-02-26T17:37:12.288Z"
   },
   {
    "duration": 676,
    "start_time": "2022-02-26T17:37:12.313Z"
   },
   {
    "duration": 9,
    "start_time": "2022-02-26T17:37:12.991Z"
   },
   {
    "duration": 10,
    "start_time": "2022-02-26T17:37:13.001Z"
   },
   {
    "duration": 492,
    "start_time": "2022-02-26T17:37:13.012Z"
   },
   {
    "duration": 55,
    "start_time": "2022-02-26T17:37:13.508Z"
   },
   {
    "duration": 13,
    "start_time": "2022-02-26T17:37:13.565Z"
   },
   {
    "duration": 2387,
    "start_time": "2022-02-26T17:37:13.580Z"
   },
   {
    "duration": 30,
    "start_time": "2022-02-26T17:37:15.969Z"
   },
   {
    "duration": 4,
    "start_time": "2022-02-26T17:37:16.000Z"
   },
   {
    "duration": 27,
    "start_time": "2022-02-26T17:37:16.006Z"
   },
   {
    "duration": 56,
    "start_time": "2022-02-26T17:37:16.034Z"
   },
   {
    "duration": 8,
    "start_time": "2022-02-26T17:37:16.091Z"
   },
   {
    "duration": 496,
    "start_time": "2022-02-26T17:37:16.100Z"
   },
   {
    "duration": 16,
    "start_time": "2022-02-26T17:37:16.598Z"
   },
   {
    "duration": 25,
    "start_time": "2022-02-26T17:37:16.615Z"
   },
   {
    "duration": 19,
    "start_time": "2022-02-26T17:37:16.642Z"
   },
   {
    "duration": 19,
    "start_time": "2022-02-26T17:37:16.663Z"
   },
   {
    "duration": 17,
    "start_time": "2022-02-26T17:37:16.684Z"
   },
   {
    "duration": 52,
    "start_time": "2022-02-26T17:37:16.703Z"
   },
   {
    "duration": 17,
    "start_time": "2022-02-26T17:37:16.756Z"
   },
   {
    "duration": 17,
    "start_time": "2022-02-26T17:37:16.774Z"
   },
   {
    "duration": 48,
    "start_time": "2022-02-26T17:37:16.792Z"
   },
   {
    "duration": 22,
    "start_time": "2022-02-26T17:37:16.841Z"
   },
   {
    "duration": 6,
    "start_time": "2022-02-26T17:37:16.865Z"
   },
   {
    "duration": 66,
    "start_time": "2022-02-26T17:37:16.873Z"
   },
   {
    "duration": 17,
    "start_time": "2022-02-26T17:37:16.940Z"
   },
   {
    "duration": 8,
    "start_time": "2022-02-26T17:37:16.958Z"
   },
   {
    "duration": 5,
    "start_time": "2022-02-26T17:37:16.968Z"
   },
   {
    "duration": 11,
    "start_time": "2022-02-26T17:37:16.974Z"
   },
   {
    "duration": 48,
    "start_time": "2022-02-26T17:37:16.987Z"
   },
   {
    "duration": 7,
    "start_time": "2022-02-26T17:37:17.037Z"
   },
   {
    "duration": 77,
    "start_time": "2022-03-02T19:09:54.336Z"
   },
   {
    "duration": 303,
    "start_time": "2022-03-02T19:10:01.472Z"
   },
   {
    "duration": 77,
    "start_time": "2022-03-02T19:10:16.858Z"
   },
   {
    "duration": 256,
    "start_time": "2022-03-02T19:12:47.525Z"
   },
   {
    "duration": 1672,
    "start_time": "2022-03-02T19:12:57.448Z"
   },
   {
    "duration": 49,
    "start_time": "2022-03-02T19:12:59.122Z"
   },
   {
    "duration": 5,
    "start_time": "2022-03-02T19:12:59.174Z"
   },
   {
    "duration": 21,
    "start_time": "2022-03-02T19:12:59.182Z"
   },
   {
    "duration": 51,
    "start_time": "2022-03-02T19:12:59.206Z"
   },
   {
    "duration": 17,
    "start_time": "2022-03-02T19:13:01.285Z"
   },
   {
    "duration": 33,
    "start_time": "2022-03-02T19:13:02.250Z"
   },
   {
    "duration": 17,
    "start_time": "2022-03-02T19:13:05.845Z"
   },
   {
    "duration": 11,
    "start_time": "2022-03-02T19:13:06.745Z"
   },
   {
    "duration": 9,
    "start_time": "2022-03-02T19:13:08.043Z"
   },
   {
    "duration": 8,
    "start_time": "2022-03-02T19:13:14.154Z"
   },
   {
    "duration": 23,
    "start_time": "2022-03-02T19:13:15.416Z"
   },
   {
    "duration": 13,
    "start_time": "2022-03-02T19:13:20.113Z"
   },
   {
    "duration": 7,
    "start_time": "2022-03-02T19:13:20.782Z"
   },
   {
    "duration": 8,
    "start_time": "2022-03-02T19:13:45.182Z"
   },
   {
    "duration": 85,
    "start_time": "2022-03-02T19:14:36.842Z"
   },
   {
    "duration": 9,
    "start_time": "2022-03-02T19:14:37.283Z"
   },
   {
    "duration": 74,
    "start_time": "2022-03-02T19:51:41.504Z"
   },
   {
    "duration": 309,
    "start_time": "2022-03-02T19:53:24.134Z"
   },
   {
    "duration": 213,
    "start_time": "2022-03-02T19:53:24.581Z"
   },
   {
    "duration": 1398,
    "start_time": "2022-03-02T19:53:45.408Z"
   },
   {
    "duration": 74,
    "start_time": "2022-03-02T19:53:46.809Z"
   },
   {
    "duration": 4,
    "start_time": "2022-03-02T19:53:46.886Z"
   },
   {
    "duration": 14,
    "start_time": "2022-03-02T19:53:46.893Z"
   },
   {
    "duration": 46,
    "start_time": "2022-03-02T19:53:46.910Z"
   },
   {
    "duration": 14,
    "start_time": "2022-03-02T19:53:46.959Z"
   },
   {
    "duration": 27,
    "start_time": "2022-03-02T19:53:46.976Z"
   },
   {
    "duration": 46,
    "start_time": "2022-03-02T19:53:47.005Z"
   },
   {
    "duration": 9,
    "start_time": "2022-03-02T19:53:47.055Z"
   },
   {
    "duration": 11,
    "start_time": "2022-03-02T19:53:47.067Z"
   },
   {
    "duration": 7,
    "start_time": "2022-03-02T19:53:47.080Z"
   },
   {
    "duration": 23,
    "start_time": "2022-03-02T19:53:47.089Z"
   },
   {
    "duration": 44,
    "start_time": "2022-03-02T19:53:47.115Z"
   },
   {
    "duration": 8,
    "start_time": "2022-03-02T19:53:47.162Z"
   },
   {
    "duration": 904,
    "start_time": "2022-03-02T19:53:47.172Z"
   },
   {
    "duration": 16,
    "start_time": "2022-03-02T19:53:48.078Z"
   },
   {
    "duration": 11,
    "start_time": "2022-03-02T19:53:48.096Z"
   },
   {
    "duration": 567,
    "start_time": "2022-03-02T19:53:48.109Z"
   },
   {
    "duration": 37,
    "start_time": "2022-03-02T19:53:48.678Z"
   },
   {
    "duration": 516,
    "start_time": "2022-03-02T19:53:48.717Z"
   },
   {
    "duration": 22,
    "start_time": "2022-03-02T19:53:49.235Z"
   },
   {
    "duration": 2010,
    "start_time": "2022-03-02T19:53:49.260Z"
   },
   {
    "duration": 35,
    "start_time": "2022-03-02T19:53:51.272Z"
   },
   {
    "duration": 1093,
    "start_time": "2022-03-02T19:53:51.309Z"
   },
   {
    "duration": 13,
    "start_time": "2022-03-02T19:53:52.405Z"
   },
   {
    "duration": 12,
    "start_time": "2022-03-02T19:53:52.421Z"
   },
   {
    "duration": 726,
    "start_time": "2022-03-02T19:53:52.453Z"
   },
   {
    "duration": 10,
    "start_time": "2022-03-02T19:53:53.182Z"
   },
   {
    "duration": 750,
    "start_time": "2022-03-02T19:53:53.195Z"
   },
   {
    "duration": 80,
    "start_time": "2022-03-02T19:53:53.951Z"
   },
   {
    "duration": 44,
    "start_time": "2022-03-02T19:53:54.034Z"
   },
   {
    "duration": 4229,
    "start_time": "2022-03-02T19:53:54.081Z"
   },
   {
    "duration": 72,
    "start_time": "2022-03-02T19:53:58.313Z"
   },
   {
    "duration": 5,
    "start_time": "2022-03-02T19:53:58.388Z"
   },
   {
    "duration": 9,
    "start_time": "2022-03-02T19:53:58.395Z"
   },
   {
    "duration": 112,
    "start_time": "2022-03-02T19:53:58.406Z"
   },
   {
    "duration": 13,
    "start_time": "2022-03-02T19:53:58.520Z"
   },
   {
    "duration": 796,
    "start_time": "2022-03-02T19:53:58.551Z"
   },
   {
    "duration": 27,
    "start_time": "2022-03-02T19:53:59.351Z"
   },
   {
    "duration": 13,
    "start_time": "2022-03-02T19:53:59.380Z"
   },
   {
    "duration": 75,
    "start_time": "2022-03-02T19:53:59.395Z"
   },
   {
    "duration": 41,
    "start_time": "2022-03-02T19:53:59.473Z"
   },
   {
    "duration": 48,
    "start_time": "2022-03-02T19:53:59.517Z"
   },
   {
    "duration": 40,
    "start_time": "2022-03-02T19:53:59.568Z"
   },
   {
    "duration": 70,
    "start_time": "2022-03-02T19:53:59.611Z"
   },
   {
    "duration": 40,
    "start_time": "2022-03-02T19:53:59.684Z"
   },
   {
    "duration": 57,
    "start_time": "2022-03-02T19:53:59.727Z"
   },
   {
    "duration": 79,
    "start_time": "2022-03-02T19:53:59.788Z"
   },
   {
    "duration": 12,
    "start_time": "2022-03-02T19:53:59.870Z"
   },
   {
    "duration": 99,
    "start_time": "2022-03-02T19:53:59.885Z"
   },
   {
    "duration": 36,
    "start_time": "2022-03-02T19:53:59.988Z"
   },
   {
    "duration": 33,
    "start_time": "2022-03-02T19:54:00.026Z"
   },
   {
    "duration": 8,
    "start_time": "2022-03-02T19:54:00.062Z"
   },
   {
    "duration": 13,
    "start_time": "2022-03-02T19:54:00.072Z"
   },
   {
    "duration": 7,
    "start_time": "2022-03-02T19:54:00.088Z"
   },
   {
    "duration": 7,
    "start_time": "2022-03-02T19:54:00.098Z"
   },
   {
    "duration": 512,
    "start_time": "2022-03-02T19:54:13.552Z"
   },
   {
    "duration": 1070,
    "start_time": "2022-03-02T19:54:20.529Z"
   },
   {
    "duration": 10,
    "start_time": "2022-03-02T19:55:09.101Z"
   },
   {
    "duration": 1088,
    "start_time": "2022-03-02T19:55:09.113Z"
   },
   {
    "duration": 2816,
    "start_time": "2022-03-02T19:55:14.413Z"
   },
   {
    "duration": 22492,
    "start_time": "2022-03-02T19:55:23.490Z"
   },
   {
    "duration": 48875,
    "start_time": "2022-03-02T19:55:55.391Z"
   },
   {
    "duration": 297,
    "start_time": "2022-03-02T19:58:51.264Z"
   },
   {
    "duration": 276,
    "start_time": "2022-03-02T19:58:51.721Z"
   },
   {
    "duration": 1439,
    "start_time": "2022-03-02T19:58:57.712Z"
   },
   {
    "duration": 48,
    "start_time": "2022-03-02T19:58:59.153Z"
   },
   {
    "duration": 4,
    "start_time": "2022-03-02T19:58:59.204Z"
   },
   {
    "duration": 15,
    "start_time": "2022-03-02T19:58:59.211Z"
   },
   {
    "duration": 35,
    "start_time": "2022-03-02T19:58:59.228Z"
   },
   {
    "duration": 15,
    "start_time": "2022-03-02T19:58:59.266Z"
   },
   {
    "duration": 28,
    "start_time": "2022-03-02T19:58:59.284Z"
   },
   {
    "duration": 49,
    "start_time": "2022-03-02T19:58:59.318Z"
   },
   {
    "duration": 7,
    "start_time": "2022-03-02T19:58:59.371Z"
   },
   {
    "duration": 10,
    "start_time": "2022-03-02T19:58:59.380Z"
   },
   {
    "duration": 9,
    "start_time": "2022-03-02T19:58:59.393Z"
   },
   {
    "duration": 62,
    "start_time": "2022-03-02T19:58:59.406Z"
   },
   {
    "duration": 12,
    "start_time": "2022-03-02T19:58:59.470Z"
   },
   {
    "duration": 7,
    "start_time": "2022-03-02T19:58:59.485Z"
   },
   {
    "duration": 961,
    "start_time": "2022-03-02T19:58:59.494Z"
   },
   {
    "duration": 17,
    "start_time": "2022-03-02T19:59:00.457Z"
   },
   {
    "duration": 10,
    "start_time": "2022-03-02T19:59:00.477Z"
   },
   {
    "duration": 721,
    "start_time": "2022-03-02T19:59:00.490Z"
   },
   {
    "duration": 50,
    "start_time": "2022-03-02T19:59:01.214Z"
   },
   {
    "duration": 536,
    "start_time": "2022-03-02T19:59:01.266Z"
   },
   {
    "duration": 12,
    "start_time": "2022-03-02T19:59:01.805Z"
   },
   {
    "duration": 2049,
    "start_time": "2022-03-02T19:59:01.819Z"
   },
   {
    "duration": 36,
    "start_time": "2022-03-02T19:59:03.874Z"
   },
   {
    "duration": 1030,
    "start_time": "2022-03-02T19:59:03.914Z"
   },
   {
    "duration": 14,
    "start_time": "2022-03-02T19:59:04.947Z"
   },
   {
    "duration": 9,
    "start_time": "2022-03-02T19:59:04.963Z"
   },
   {
    "duration": 754,
    "start_time": "2022-03-02T19:59:04.975Z"
   },
   {
    "duration": 9,
    "start_time": "2022-03-02T19:59:05.731Z"
   },
   {
    "duration": 109,
    "start_time": "2022-03-02T20:01:30.891Z"
   },
   {
    "duration": 60,
    "start_time": "2022-03-02T20:01:31.002Z"
   },
   {
    "duration": 4638,
    "start_time": "2022-03-02T20:01:31.066Z"
   },
   {
    "duration": 63,
    "start_time": "2022-03-02T20:01:35.707Z"
   },
   {
    "duration": 5,
    "start_time": "2022-03-02T20:01:35.773Z"
   },
   {
    "duration": 9,
    "start_time": "2022-03-02T20:01:35.781Z"
   },
   {
    "duration": 117,
    "start_time": "2022-03-02T20:01:35.793Z"
   },
   {
    "duration": 13,
    "start_time": "2022-03-02T20:01:35.913Z"
   },
   {
    "duration": 772,
    "start_time": "2022-03-02T20:01:35.929Z"
   },
   {
    "duration": 46,
    "start_time": "2022-03-02T20:01:36.705Z"
   },
   {
    "duration": 12,
    "start_time": "2022-03-02T20:01:36.754Z"
   },
   {
    "duration": 44,
    "start_time": "2022-03-02T20:01:36.769Z"
   },
   {
    "duration": 59,
    "start_time": "2022-03-02T20:01:36.816Z"
   },
   {
    "duration": 30,
    "start_time": "2022-03-02T20:01:36.878Z"
   },
   {
    "duration": 61,
    "start_time": "2022-03-02T20:01:36.910Z"
   },
   {
    "duration": 25,
    "start_time": "2022-03-02T20:01:36.974Z"
   },
   {
    "duration": 59,
    "start_time": "2022-03-02T20:01:37.001Z"
   },
   {
    "duration": 27,
    "start_time": "2022-03-02T20:01:37.063Z"
   },
   {
    "duration": 62,
    "start_time": "2022-03-02T20:01:37.092Z"
   },
   {
    "duration": 9,
    "start_time": "2022-03-02T20:01:37.156Z"
   },
   {
    "duration": 48,
    "start_time": "2022-03-02T20:01:37.168Z"
   },
   {
    "duration": 54,
    "start_time": "2022-03-02T20:01:37.219Z"
   },
   {
    "duration": 12,
    "start_time": "2022-03-02T20:01:37.275Z"
   },
   {
    "duration": 8,
    "start_time": "2022-03-02T20:01:37.289Z"
   },
   {
    "duration": 52,
    "start_time": "2022-03-02T20:01:37.299Z"
   },
   {
    "duration": 7,
    "start_time": "2022-03-02T20:01:37.353Z"
   },
   {
    "duration": 10,
    "start_time": "2022-03-02T20:01:37.362Z"
   },
   {
    "duration": 1478,
    "start_time": "2022-03-11T17:10:00.731Z"
   },
   {
    "duration": 2111,
    "start_time": "2022-03-11T17:10:02.213Z"
   },
   {
    "duration": 16,
    "start_time": "2022-03-11T17:10:04.313Z"
   },
   {
    "duration": 11,
    "start_time": "2022-03-11T17:10:04.320Z"
   },
   {
    "duration": 4,
    "start_time": "2022-03-11T17:10:04.328Z"
   },
   {
    "duration": 0,
    "start_time": "2022-03-11T17:10:04.334Z"
   },
   {
    "duration": -4,
    "start_time": "2022-03-11T17:10:04.340Z"
   },
   {
    "duration": -21,
    "start_time": "2022-03-11T17:10:04.359Z"
   },
   {
    "duration": -24,
    "start_time": "2022-03-11T17:10:04.363Z"
   },
   {
    "duration": -27,
    "start_time": "2022-03-11T17:10:04.368Z"
   },
   {
    "duration": -31,
    "start_time": "2022-03-11T17:10:04.373Z"
   },
   {
    "duration": -34,
    "start_time": "2022-03-11T17:10:04.378Z"
   },
   {
    "duration": -37,
    "start_time": "2022-03-11T17:10:04.382Z"
   },
   {
    "duration": -40,
    "start_time": "2022-03-11T17:10:04.387Z"
   },
   {
    "duration": -43,
    "start_time": "2022-03-11T17:10:04.391Z"
   },
   {
    "duration": -46,
    "start_time": "2022-03-11T17:10:04.395Z"
   },
   {
    "duration": -48,
    "start_time": "2022-03-11T17:10:04.399Z"
   },
   {
    "duration": -51,
    "start_time": "2022-03-11T17:10:04.403Z"
   },
   {
    "duration": -54,
    "start_time": "2022-03-11T17:10:04.407Z"
   },
   {
    "duration": -93,
    "start_time": "2022-03-11T17:10:04.448Z"
   },
   {
    "duration": -95,
    "start_time": "2022-03-11T17:10:04.451Z"
   },
   {
    "duration": -99,
    "start_time": "2022-03-11T17:10:04.456Z"
   },
   {
    "duration": -102,
    "start_time": "2022-03-11T17:10:04.461Z"
   },
   {
    "duration": -105,
    "start_time": "2022-03-11T17:10:04.465Z"
   },
   {
    "duration": -107,
    "start_time": "2022-03-11T17:10:04.469Z"
   },
   {
    "duration": -111,
    "start_time": "2022-03-11T17:10:04.474Z"
   },
   {
    "duration": -113,
    "start_time": "2022-03-11T17:10:04.478Z"
   },
   {
    "duration": -116,
    "start_time": "2022-03-11T17:10:04.482Z"
   },
   {
    "duration": -119,
    "start_time": "2022-03-11T17:10:04.486Z"
   },
   {
    "duration": -122,
    "start_time": "2022-03-11T17:10:04.491Z"
   },
   {
    "duration": -124,
    "start_time": "2022-03-11T17:10:04.494Z"
   },
   {
    "duration": -127,
    "start_time": "2022-03-11T17:10:04.498Z"
   },
   {
    "duration": -130,
    "start_time": "2022-03-11T17:10:04.503Z"
   },
   {
    "duration": -133,
    "start_time": "2022-03-11T17:10:04.507Z"
   },
   {
    "duration": -136,
    "start_time": "2022-03-11T17:10:04.511Z"
   },
   {
    "duration": -139,
    "start_time": "2022-03-11T17:10:04.516Z"
   },
   {
    "duration": -142,
    "start_time": "2022-03-11T17:10:04.520Z"
   },
   {
    "duration": -146,
    "start_time": "2022-03-11T17:10:04.525Z"
   },
   {
    "duration": -148,
    "start_time": "2022-03-11T17:10:04.529Z"
   },
   {
    "duration": -151,
    "start_time": "2022-03-11T17:10:04.533Z"
   },
   {
    "duration": -153,
    "start_time": "2022-03-11T17:10:04.537Z"
   },
   {
    "duration": -157,
    "start_time": "2022-03-11T17:10:04.542Z"
   },
   {
    "duration": -159,
    "start_time": "2022-03-11T17:10:04.546Z"
   },
   {
    "duration": -162,
    "start_time": "2022-03-11T17:10:04.551Z"
   },
   {
    "duration": -165,
    "start_time": "2022-03-11T17:10:04.555Z"
   },
   {
    "duration": -108,
    "start_time": "2022-03-11T17:10:04.559Z"
   },
   {
    "duration": -110,
    "start_time": "2022-03-11T17:10:04.563Z"
   },
   {
    "duration": -113,
    "start_time": "2022-03-11T17:10:04.567Z"
   },
   {
    "duration": -144,
    "start_time": "2022-03-11T17:10:04.600Z"
   },
   {
    "duration": -147,
    "start_time": "2022-03-11T17:10:04.604Z"
   },
   {
    "duration": -149,
    "start_time": "2022-03-11T17:10:04.608Z"
   },
   {
    "duration": -152,
    "start_time": "2022-03-11T17:10:04.612Z"
   },
   {
    "duration": -153,
    "start_time": "2022-03-11T17:10:04.615Z"
   },
   {
    "duration": -157,
    "start_time": "2022-03-11T17:10:04.620Z"
   },
   {
    "duration": -159,
    "start_time": "2022-03-11T17:10:04.624Z"
   },
   {
    "duration": -162,
    "start_time": "2022-03-11T17:10:04.628Z"
   },
   {
    "duration": 1448,
    "start_time": "2022-03-11T19:42:55.810Z"
   },
   {
    "duration": 1917,
    "start_time": "2022-03-11T19:42:57.261Z"
   },
   {
    "duration": -513,
    "start_time": "2022-03-11T19:42:59.696Z"
   },
   {
    "duration": -523,
    "start_time": "2022-03-11T19:42:59.708Z"
   },
   {
    "duration": -530,
    "start_time": "2022-03-11T19:42:59.716Z"
   },
   {
    "duration": -535,
    "start_time": "2022-03-11T19:42:59.723Z"
   },
   {
    "duration": -540,
    "start_time": "2022-03-11T19:42:59.729Z"
   },
   {
    "duration": -548,
    "start_time": "2022-03-11T19:42:59.739Z"
   },
   {
    "duration": -555,
    "start_time": "2022-03-11T19:42:59.747Z"
   },
   {
    "duration": -560,
    "start_time": "2022-03-11T19:42:59.754Z"
   },
   {
    "duration": -565,
    "start_time": "2022-03-11T19:42:59.760Z"
   },
   {
    "duration": -569,
    "start_time": "2022-03-11T19:42:59.766Z"
   },
   {
    "duration": -575,
    "start_time": "2022-03-11T19:42:59.773Z"
   },
   {
    "duration": -596,
    "start_time": "2022-03-11T19:42:59.796Z"
   },
   {
    "duration": -626,
    "start_time": "2022-03-11T19:42:59.827Z"
   },
   {
    "duration": -636,
    "start_time": "2022-03-11T19:42:59.838Z"
   },
   {
    "duration": -652,
    "start_time": "2022-03-11T19:42:59.855Z"
   },
   {
    "duration": -678,
    "start_time": "2022-03-11T19:42:59.883Z"
   },
   {
    "duration": -693,
    "start_time": "2022-03-11T19:42:59.899Z"
   },
   {
    "duration": -720,
    "start_time": "2022-03-11T19:42:59.927Z"
   },
   {
    "duration": -736,
    "start_time": "2022-03-11T19:42:59.945Z"
   },
   {
    "duration": -751,
    "start_time": "2022-03-11T19:42:59.961Z"
   },
   {
    "duration": -766,
    "start_time": "2022-03-11T19:42:59.977Z"
   },
   {
    "duration": -772,
    "start_time": "2022-03-11T19:42:59.984Z"
   },
   {
    "duration": -775,
    "start_time": "2022-03-11T19:42:59.989Z"
   },
   {
    "duration": -782,
    "start_time": "2022-03-11T19:42:59.997Z"
   },
   {
    "duration": -786,
    "start_time": "2022-03-11T19:43:00.002Z"
   },
   {
    "duration": -792,
    "start_time": "2022-03-11T19:43:00.009Z"
   },
   {
    "duration": -796,
    "start_time": "2022-03-11T19:43:00.015Z"
   },
   {
    "duration": -805,
    "start_time": "2022-03-11T19:43:00.025Z"
   },
   {
    "duration": -810,
    "start_time": "2022-03-11T19:43:00.031Z"
   },
   {
    "duration": -816,
    "start_time": "2022-03-11T19:43:00.039Z"
   },
   {
    "duration": -822,
    "start_time": "2022-03-11T19:43:00.046Z"
   },
   {
    "duration": -827,
    "start_time": "2022-03-11T19:43:00.052Z"
   },
   {
    "duration": -877,
    "start_time": "2022-03-11T19:43:00.104Z"
   },
   {
    "duration": -825,
    "start_time": "2022-03-11T19:43:00.112Z"
   },
   {
    "duration": -829,
    "start_time": "2022-03-11T19:43:00.117Z"
   },
   {
    "duration": -835,
    "start_time": "2022-03-11T19:43:00.124Z"
   },
   {
    "duration": -838,
    "start_time": "2022-03-11T19:43:00.129Z"
   },
   {
    "duration": -843,
    "start_time": "2022-03-11T19:43:00.135Z"
   },
   {
    "duration": -848,
    "start_time": "2022-03-11T19:43:00.141Z"
   },
   {
    "duration": -852,
    "start_time": "2022-03-11T19:43:00.147Z"
   },
   {
    "duration": -856,
    "start_time": "2022-03-11T19:43:00.152Z"
   },
   {
    "duration": -861,
    "start_time": "2022-03-11T19:43:00.158Z"
   },
   {
    "duration": -944,
    "start_time": "2022-03-11T19:43:00.242Z"
   },
   {
    "duration": -949,
    "start_time": "2022-03-11T19:43:00.248Z"
   },
   {
    "duration": -952,
    "start_time": "2022-03-11T19:43:00.253Z"
   },
   {
    "duration": -957,
    "start_time": "2022-03-11T19:43:00.259Z"
   },
   {
    "duration": -961,
    "start_time": "2022-03-11T19:43:00.264Z"
   },
   {
    "duration": -966,
    "start_time": "2022-03-11T19:43:00.270Z"
   },
   {
    "duration": -970,
    "start_time": "2022-03-11T19:43:00.275Z"
   },
   {
    "duration": -975,
    "start_time": "2022-03-11T19:43:00.281Z"
   },
   {
    "duration": -978,
    "start_time": "2022-03-11T19:43:00.286Z"
   },
   {
    "duration": -983,
    "start_time": "2022-03-11T19:43:00.292Z"
   },
   {
    "duration": -987,
    "start_time": "2022-03-11T19:43:00.297Z"
   },
   {
    "duration": -995,
    "start_time": "2022-03-11T19:43:00.306Z"
   },
   {
    "duration": 4,
    "start_time": "2022-03-11T19:43:10.575Z"
   },
   {
    "duration": 1774,
    "start_time": "2022-03-11T19:43:10.901Z"
   },
   {
    "duration": -534,
    "start_time": "2022-03-11T19:43:13.213Z"
   },
   {
    "duration": -539,
    "start_time": "2022-03-11T19:43:13.220Z"
   },
   {
    "duration": -548,
    "start_time": "2022-03-11T19:43:13.231Z"
   },
   {
    "duration": 248,
    "start_time": "2022-03-11T19:43:12.980Z"
   },
   {
    "duration": 268,
    "start_time": "2022-03-11T19:43:13.460Z"
   },
   {
    "duration": 239,
    "start_time": "2022-03-11T19:43:13.958Z"
   },
   {
    "duration": 236,
    "start_time": "2022-03-11T19:43:14.300Z"
   },
   {
    "duration": 232,
    "start_time": "2022-03-11T19:43:14.819Z"
   },
   {
    "duration": 1504,
    "start_time": "2022-03-11T19:43:56.360Z"
   },
   {
    "duration": 53,
    "start_time": "2022-03-11T19:43:57.867Z"
   },
   {
    "duration": 4,
    "start_time": "2022-03-11T19:43:57.923Z"
   },
   {
    "duration": 20,
    "start_time": "2022-03-11T19:43:57.930Z"
   },
   {
    "duration": 46,
    "start_time": "2022-03-11T19:43:57.952Z"
   },
   {
    "duration": 15,
    "start_time": "2022-03-11T19:43:58.000Z"
   },
   {
    "duration": 42,
    "start_time": "2022-03-11T19:43:58.018Z"
   },
   {
    "duration": 38,
    "start_time": "2022-03-11T19:43:58.064Z"
   },
   {
    "duration": 9,
    "start_time": "2022-03-11T19:43:58.105Z"
   },
   {
    "duration": 10,
    "start_time": "2022-03-11T19:43:58.117Z"
   },
   {
    "duration": 11,
    "start_time": "2022-03-11T19:43:58.130Z"
   },
   {
    "duration": 61,
    "start_time": "2022-03-11T19:43:58.144Z"
   },
   {
    "duration": 14,
    "start_time": "2022-03-11T19:43:58.208Z"
   },
   {
    "duration": 11,
    "start_time": "2022-03-11T19:43:58.224Z"
   },
   {
    "duration": 938,
    "start_time": "2022-03-11T19:43:58.237Z"
   },
   {
    "duration": 19,
    "start_time": "2022-03-11T19:43:59.178Z"
   },
   {
    "duration": 12,
    "start_time": "2022-03-11T19:43:59.200Z"
   },
   {
    "duration": 576,
    "start_time": "2022-03-11T19:43:59.214Z"
   },
   {
    "duration": 39,
    "start_time": "2022-03-11T19:43:59.792Z"
   },
   {
    "duration": 546,
    "start_time": "2022-03-11T19:43:59.834Z"
   },
   {
    "duration": 11,
    "start_time": "2022-03-11T19:44:00.386Z"
   },
   {
    "duration": 2101,
    "start_time": "2022-03-11T19:44:00.400Z"
   },
   {
    "duration": 36,
    "start_time": "2022-03-11T19:44:02.507Z"
   },
   {
    "duration": 1135,
    "start_time": "2022-03-11T19:44:02.547Z"
   },
   {
    "duration": 15,
    "start_time": "2022-03-11T19:44:03.687Z"
   },
   {
    "duration": 27,
    "start_time": "2022-03-11T19:44:03.704Z"
   },
   {
    "duration": 847,
    "start_time": "2022-03-11T19:44:03.733Z"
   },
   {
    "duration": 753,
    "start_time": "2022-03-11T19:44:04.586Z"
   },
   {
    "duration": 95,
    "start_time": "2022-03-11T19:44:05.342Z"
   },
   {
    "duration": 21,
    "start_time": "2022-03-11T19:44:05.440Z"
   },
   {
    "duration": 4367,
    "start_time": "2022-03-11T19:44:05.464Z"
   },
   {
    "duration": 65,
    "start_time": "2022-03-11T19:44:09.834Z"
   },
   {
    "duration": 8,
    "start_time": "2022-03-11T19:44:09.901Z"
   },
   {
    "duration": 99,
    "start_time": "2022-03-11T19:44:09.911Z"
   },
   {
    "duration": 31,
    "start_time": "2022-03-11T19:44:10.013Z"
   },
   {
    "duration": 742,
    "start_time": "2022-03-11T19:44:10.046Z"
   },
   {
    "duration": 778,
    "start_time": "2022-03-11T19:44:10.790Z"
   },
   {
    "duration": 35,
    "start_time": "2022-03-11T19:44:11.571Z"
   },
   {
    "duration": 27,
    "start_time": "2022-03-11T19:44:11.608Z"
   },
   {
    "duration": 18,
    "start_time": "2022-03-11T19:44:11.637Z"
   },
   {
    "duration": 28,
    "start_time": "2022-03-11T19:44:11.687Z"
   },
   {
    "duration": 27,
    "start_time": "2022-03-11T19:44:11.718Z"
   },
   {
    "duration": 54,
    "start_time": "2022-03-11T19:44:11.747Z"
   },
   {
    "duration": 74,
    "start_time": "2022-03-11T19:44:11.804Z"
   },
   {
    "duration": 30,
    "start_time": "2022-03-11T19:44:11.881Z"
   },
   {
    "duration": 26,
    "start_time": "2022-03-11T19:44:11.914Z"
   },
   {
    "duration": 60,
    "start_time": "2022-03-11T19:44:11.943Z"
   },
   {
    "duration": 51,
    "start_time": "2022-03-11T19:44:12.006Z"
   },
   {
    "duration": 22,
    "start_time": "2022-03-11T19:44:12.059Z"
   },
   {
    "duration": 85,
    "start_time": "2022-03-11T19:44:12.083Z"
   },
   {
    "duration": 28,
    "start_time": "2022-03-11T19:44:12.171Z"
   },
   {
    "duration": 18,
    "start_time": "2022-03-11T19:44:12.201Z"
   },
   {
    "duration": 18,
    "start_time": "2022-03-11T19:44:12.222Z"
   },
   {
    "duration": 47,
    "start_time": "2022-03-11T19:44:12.243Z"
   },
   {
    "duration": 7,
    "start_time": "2022-03-11T19:44:12.293Z"
   },
   {
    "duration": 13,
    "start_time": "2022-03-11T19:44:12.302Z"
   },
   {
    "duration": 15,
    "start_time": "2022-03-11T19:44:12.319Z"
   },
   {
    "duration": 61,
    "start_time": "2022-03-11T19:44:12.336Z"
   },
   {
    "duration": 4,
    "start_time": "2022-03-11T19:44:12.399Z"
   },
   {
    "duration": 22,
    "start_time": "2022-03-11T19:44:12.406Z"
   },
   {
    "duration": 27,
    "start_time": "2022-03-11T19:44:12.431Z"
   },
   {
    "duration": 42,
    "start_time": "2022-03-11T19:44:12.460Z"
   },
   {
    "duration": 41,
    "start_time": "2022-03-11T19:44:12.505Z"
   },
   {
    "duration": 32,
    "start_time": "2022-03-11T19:44:12.549Z"
   },
   {
    "duration": 9,
    "start_time": "2022-03-11T19:44:12.810Z"
   },
   {
    "duration": 9,
    "start_time": "2022-03-11T19:44:13.300Z"
   },
   {
    "duration": 7,
    "start_time": "2022-03-11T19:44:14.131Z"
   },
   {
    "duration": 31,
    "start_time": "2022-03-11T19:44:14.676Z"
   },
   {
    "duration": 14,
    "start_time": "2022-03-11T19:44:15.798Z"
   },
   {
    "duration": 9,
    "start_time": "2022-03-11T19:44:16.132Z"
   },
   {
    "duration": 920,
    "start_time": "2022-03-11T19:44:16.791Z"
   },
   {
    "duration": 18,
    "start_time": "2022-03-11T19:44:17.714Z"
   },
   {
    "duration": 12,
    "start_time": "2022-03-11T19:44:17.989Z"
   },
   {
    "duration": 568,
    "start_time": "2022-03-11T19:44:18.168Z"
   },
   {
    "duration": 56,
    "start_time": "2022-03-11T19:44:18.739Z"
   },
   {
    "duration": 523,
    "start_time": "2022-03-11T19:44:19.420Z"
   },
   {
    "duration": 11,
    "start_time": "2022-03-11T19:44:19.946Z"
   },
   {
    "duration": 2142,
    "start_time": "2022-03-11T19:44:20.433Z"
   },
   {
    "duration": 44,
    "start_time": "2022-03-11T19:44:22.578Z"
   },
   {
    "duration": 1120,
    "start_time": "2022-03-11T19:44:22.626Z"
   },
   {
    "duration": 13,
    "start_time": "2022-03-11T19:44:23.749Z"
   },
   {
    "duration": 25,
    "start_time": "2022-03-11T19:44:23.764Z"
   },
   {
    "duration": 789,
    "start_time": "2022-03-11T19:44:23.792Z"
   },
   {
    "duration": 770,
    "start_time": "2022-03-11T19:44:24.587Z"
   },
   {
    "duration": 89,
    "start_time": "2022-03-11T19:44:25.359Z"
   },
   {
    "duration": 37,
    "start_time": "2022-03-11T19:44:25.451Z"
   },
   {
    "duration": 4332,
    "start_time": "2022-03-11T19:44:25.491Z"
   },
   {
    "duration": 69,
    "start_time": "2022-03-11T19:44:29.826Z"
   },
   {
    "duration": 8,
    "start_time": "2022-03-11T19:44:29.898Z"
   },
   {
    "duration": 107,
    "start_time": "2022-03-11T19:44:29.909Z"
   },
   {
    "duration": 36,
    "start_time": "2022-03-11T19:44:30.018Z"
   },
   {
    "duration": 746,
    "start_time": "2022-03-11T19:44:30.057Z"
   },
   {
    "duration": 864,
    "start_time": "2022-03-11T19:44:30.805Z"
   },
   {
    "duration": 38,
    "start_time": "2022-03-11T19:44:31.672Z"
   },
   {
    "duration": 29,
    "start_time": "2022-03-11T19:44:31.712Z"
   },
   {
    "duration": 44,
    "start_time": "2022-03-11T19:44:31.743Z"
   },
   {
    "duration": 37,
    "start_time": "2022-03-11T19:44:31.789Z"
   },
   {
    "duration": 57,
    "start_time": "2022-03-11T19:44:31.830Z"
   },
   {
    "duration": 29,
    "start_time": "2022-03-11T19:44:31.891Z"
   },
   {
    "duration": 66,
    "start_time": "2022-03-11T19:44:31.922Z"
   },
   {
    "duration": 27,
    "start_time": "2022-03-11T19:44:32.161Z"
   },
   {
    "duration": 28,
    "start_time": "2022-03-11T19:44:32.328Z"
   },
   {
    "duration": 28,
    "start_time": "2022-03-11T19:44:32.501Z"
   },
   {
    "duration": 44,
    "start_time": "2022-03-11T19:44:34.454Z"
   },
   {
    "duration": 6,
    "start_time": "2022-03-11T19:44:34.501Z"
   },
   {
    "duration": 56,
    "start_time": "2022-03-11T19:44:34.510Z"
   },
   {
    "duration": 44,
    "start_time": "2022-03-11T19:44:34.569Z"
   },
   {
    "duration": 20,
    "start_time": "2022-03-11T19:44:35.553Z"
   },
   {
    "duration": 9,
    "start_time": "2022-03-11T19:44:35.781Z"
   },
   {
    "duration": 27,
    "start_time": "2022-03-11T19:44:36.390Z"
   },
   {
    "duration": 10,
    "start_time": "2022-03-11T19:44:36.570Z"
   },
   {
    "duration": 7,
    "start_time": "2022-03-11T19:44:37.805Z"
   },
   {
    "duration": 1498,
    "start_time": "2022-03-11T21:02:09.964Z"
   },
   {
    "duration": 47,
    "start_time": "2022-03-11T21:02:11.465Z"
   },
   {
    "duration": 4,
    "start_time": "2022-03-11T21:02:11.515Z"
   },
   {
    "duration": 34,
    "start_time": "2022-03-11T21:02:11.522Z"
   },
   {
    "duration": 25,
    "start_time": "2022-03-11T21:02:11.558Z"
   },
   {
    "duration": 15,
    "start_time": "2022-03-11T21:02:11.585Z"
   },
   {
    "duration": 72,
    "start_time": "2022-03-11T21:02:11.602Z"
   },
   {
    "duration": 15,
    "start_time": "2022-03-11T21:02:11.678Z"
   },
   {
    "duration": 9,
    "start_time": "2022-03-11T21:02:11.697Z"
   },
   {
    "duration": 49,
    "start_time": "2022-03-11T21:02:11.709Z"
   },
   {
    "duration": 8,
    "start_time": "2022-03-11T21:02:11.761Z"
   },
   {
    "duration": 27,
    "start_time": "2022-03-11T21:02:11.771Z"
   },
   {
    "duration": 58,
    "start_time": "2022-03-11T21:02:11.801Z"
   },
   {
    "duration": 9,
    "start_time": "2022-03-11T21:02:11.862Z"
   },
   {
    "duration": 960,
    "start_time": "2022-03-11T21:02:11.874Z"
   },
   {
    "duration": 41,
    "start_time": "2022-03-11T21:02:12.836Z"
   },
   {
    "duration": 21,
    "start_time": "2022-03-11T21:02:12.881Z"
   },
   {
    "duration": 1133,
    "start_time": "2022-03-11T21:02:12.906Z"
   },
   {
    "duration": 79,
    "start_time": "2022-03-11T21:02:14.044Z"
   },
   {
    "duration": 1060,
    "start_time": "2022-03-11T21:02:14.128Z"
   },
   {
    "duration": 20,
    "start_time": "2022-03-11T21:02:15.192Z"
   },
   {
    "duration": 4359,
    "start_time": "2022-03-11T21:02:15.216Z"
   },
   {
    "duration": 63,
    "start_time": "2022-03-11T21:02:19.588Z"
   },
   {
    "duration": 2105,
    "start_time": "2022-03-11T21:02:19.658Z"
   },
   {
    "duration": 18,
    "start_time": "2022-03-11T21:02:21.766Z"
   },
   {
    "duration": 26,
    "start_time": "2022-03-11T21:02:21.788Z"
   },
   {
    "duration": 1325,
    "start_time": "2022-03-11T21:02:21.818Z"
   },
   {
    "duration": 1309,
    "start_time": "2022-03-11T21:02:23.153Z"
   },
   {
    "duration": 176,
    "start_time": "2022-03-11T21:02:24.466Z"
   },
   {
    "duration": 41,
    "start_time": "2022-03-11T21:02:24.653Z"
   },
   {
    "duration": 8185,
    "start_time": "2022-03-11T21:02:24.698Z"
   },
   {
    "duration": 115,
    "start_time": "2022-03-11T21:02:32.887Z"
   },
   {
    "duration": 14,
    "start_time": "2022-03-11T21:02:33.006Z"
   },
   {
    "duration": 126,
    "start_time": "2022-03-11T21:02:33.025Z"
   },
   {
    "duration": 14,
    "start_time": "2022-03-11T21:02:33.154Z"
   },
   {
    "duration": 770,
    "start_time": "2022-03-11T21:02:33.170Z"
   },
   {
    "duration": 755,
    "start_time": "2022-03-11T21:02:33.943Z"
   },
   {
    "duration": 26,
    "start_time": "2022-03-11T21:02:34.701Z"
   },
   {
    "duration": 44,
    "start_time": "2022-03-11T21:02:34.729Z"
   },
   {
    "duration": 18,
    "start_time": "2022-03-11T21:02:34.776Z"
   },
   {
    "duration": 65,
    "start_time": "2022-03-11T21:02:34.797Z"
   },
   {
    "duration": 27,
    "start_time": "2022-03-11T21:02:34.864Z"
   },
   {
    "duration": 28,
    "start_time": "2022-03-11T21:02:34.893Z"
   },
   {
    "duration": 64,
    "start_time": "2022-03-11T21:02:34.924Z"
   },
   {
    "duration": 61,
    "start_time": "2022-03-11T21:02:34.991Z"
   },
   {
    "duration": 30,
    "start_time": "2022-03-11T21:02:35.054Z"
   },
   {
    "duration": 29,
    "start_time": "2022-03-11T21:02:35.086Z"
   },
   {
    "duration": 69,
    "start_time": "2022-03-11T21:02:35.118Z"
   },
   {
    "duration": 5,
    "start_time": "2022-03-11T21:02:35.190Z"
   },
   {
    "duration": 94,
    "start_time": "2022-03-11T21:02:35.199Z"
   },
   {
    "duration": 55,
    "start_time": "2022-03-11T21:02:35.296Z"
   },
   {
    "duration": 18,
    "start_time": "2022-03-11T21:02:35.353Z"
   },
   {
    "duration": 10,
    "start_time": "2022-03-11T21:02:35.373Z"
   },
   {
    "duration": 67,
    "start_time": "2022-03-11T21:02:35.385Z"
   },
   {
    "duration": 7,
    "start_time": "2022-03-11T21:02:35.455Z"
   },
   {
    "duration": 9,
    "start_time": "2022-03-11T21:02:35.465Z"
   },
   {
    "duration": 82,
    "start_time": "2022-03-11T21:05:36.555Z"
   },
   {
    "duration": 35,
    "start_time": "2022-03-11T21:21:31.408Z"
   },
   {
    "duration": 92,
    "start_time": "2022-03-11T21:30:13.811Z"
   },
   {
    "duration": 1458,
    "start_time": "2022-03-11T21:30:27.250Z"
   },
   {
    "duration": 47,
    "start_time": "2022-03-11T21:30:28.711Z"
   },
   {
    "duration": 4,
    "start_time": "2022-03-11T21:30:28.761Z"
   },
   {
    "duration": 18,
    "start_time": "2022-03-11T21:30:28.768Z"
   },
   {
    "duration": 24,
    "start_time": "2022-03-11T21:30:28.788Z"
   },
   {
    "duration": 45,
    "start_time": "2022-03-11T21:30:28.814Z"
   },
   {
    "duration": 30,
    "start_time": "2022-03-11T21:30:28.861Z"
   },
   {
    "duration": 14,
    "start_time": "2022-03-11T21:30:28.895Z"
   },
   {
    "duration": 8,
    "start_time": "2022-03-11T21:30:28.912Z"
   },
   {
    "duration": 36,
    "start_time": "2022-03-11T21:30:28.922Z"
   },
   {
    "duration": 7,
    "start_time": "2022-03-11T21:30:28.961Z"
   },
   {
    "duration": 23,
    "start_time": "2022-03-11T21:30:28.970Z"
   },
   {
    "duration": 13,
    "start_time": "2022-03-11T21:30:28.995Z"
   },
   {
    "duration": 46,
    "start_time": "2022-03-11T21:30:29.010Z"
   },
   {
    "duration": 863,
    "start_time": "2022-03-11T21:30:29.059Z"
   },
   {
    "duration": 29,
    "start_time": "2022-03-11T21:30:29.924Z"
   },
   {
    "duration": 10,
    "start_time": "2022-03-11T21:30:29.956Z"
   },
   {
    "duration": 571,
    "start_time": "2022-03-11T21:30:29.968Z"
   },
   {
    "duration": 41,
    "start_time": "2022-03-11T21:30:30.541Z"
   },
   {
    "duration": 515,
    "start_time": "2022-03-11T21:30:30.584Z"
   },
   {
    "duration": 10,
    "start_time": "2022-03-11T21:30:31.101Z"
   },
   {
    "duration": 1949,
    "start_time": "2022-03-11T21:30:31.114Z"
   },
   {
    "duration": 35,
    "start_time": "2022-03-11T21:30:33.069Z"
   },
   {
    "duration": 1025,
    "start_time": "2022-03-11T21:30:33.107Z"
   },
   {
    "duration": 21,
    "start_time": "2022-03-11T21:30:34.134Z"
   },
   {
    "duration": 11,
    "start_time": "2022-03-11T21:30:34.158Z"
   },
   {
    "duration": 728,
    "start_time": "2022-03-11T21:30:34.171Z"
   },
   {
    "duration": 720,
    "start_time": "2022-03-11T21:30:34.902Z"
   },
   {
    "duration": 81,
    "start_time": "2022-03-11T21:30:35.624Z"
   },
   {
    "duration": 20,
    "start_time": "2022-03-11T21:30:35.708Z"
   },
   {
    "duration": 3814,
    "start_time": "2022-03-11T21:30:35.731Z"
   },
   {
    "duration": 47,
    "start_time": "2022-03-11T21:30:39.552Z"
   },
   {
    "duration": 7,
    "start_time": "2022-03-11T21:30:39.601Z"
   },
   {
    "duration": 104,
    "start_time": "2022-03-11T21:30:39.611Z"
   },
   {
    "duration": 12,
    "start_time": "2022-03-11T21:30:39.717Z"
   },
   {
    "duration": 692,
    "start_time": "2022-03-11T21:30:39.752Z"
   },
   {
    "duration": 708,
    "start_time": "2022-03-11T21:30:40.447Z"
   },
   {
    "duration": 26,
    "start_time": "2022-03-11T21:30:41.158Z"
   },
   {
    "duration": 23,
    "start_time": "2022-03-11T21:30:41.187Z"
   },
   {
    "duration": 47,
    "start_time": "2022-03-11T21:30:41.213Z"
   },
   {
    "duration": 26,
    "start_time": "2022-03-11T21:30:41.263Z"
   },
   {
    "duration": 28,
    "start_time": "2022-03-11T21:30:41.291Z"
   },
   {
    "duration": 51,
    "start_time": "2022-03-11T21:30:41.321Z"
   },
   {
    "duration": 33,
    "start_time": "2022-03-11T21:30:41.374Z"
   },
   {
    "duration": 59,
    "start_time": "2022-03-11T21:30:41.410Z"
   },
   {
    "duration": 28,
    "start_time": "2022-03-11T21:30:41.471Z"
   },
   {
    "duration": 55,
    "start_time": "2022-03-11T21:30:41.502Z"
   },
   {
    "duration": 38,
    "start_time": "2022-03-11T21:30:41.560Z"
   },
   {
    "duration": 5,
    "start_time": "2022-03-11T21:30:41.600Z"
   },
   {
    "duration": 88,
    "start_time": "2022-03-11T21:30:41.607Z"
   },
   {
    "duration": 28,
    "start_time": "2022-03-11T21:30:41.697Z"
   },
   {
    "duration": 17,
    "start_time": "2022-03-11T21:30:41.752Z"
   },
   {
    "duration": 7,
    "start_time": "2022-03-11T21:30:41.772Z"
   },
   {
    "duration": 16,
    "start_time": "2022-03-11T21:30:41.781Z"
   },
   {
    "duration": 6,
    "start_time": "2022-03-11T21:30:41.799Z"
   },
   {
    "duration": 43,
    "start_time": "2022-03-11T21:30:41.808Z"
   },
   {
    "duration": 227,
    "start_time": "2022-03-11T22:24:54.653Z"
   },
   {
    "duration": 200,
    "start_time": "2022-03-11T22:26:30.436Z"
   },
   {
    "duration": 196,
    "start_time": "2022-03-11T22:27:45.147Z"
   },
   {
    "duration": 186,
    "start_time": "2022-03-11T22:29:19.468Z"
   },
   {
    "duration": 1165,
    "start_time": "2022-03-11T22:29:57.940Z"
   },
   {
    "duration": 34,
    "start_time": "2022-03-11T22:29:59.107Z"
   },
   {
    "duration": 3,
    "start_time": "2022-03-11T22:29:59.143Z"
   },
   {
    "duration": 20,
    "start_time": "2022-03-11T22:29:59.148Z"
   },
   {
    "duration": 16,
    "start_time": "2022-03-11T22:29:59.170Z"
   },
   {
    "duration": 10,
    "start_time": "2022-03-11T22:29:59.188Z"
   },
   {
    "duration": 20,
    "start_time": "2022-03-11T22:29:59.200Z"
   },
   {
    "duration": 46,
    "start_time": "2022-03-11T22:29:59.221Z"
   },
   {
    "duration": 6,
    "start_time": "2022-03-11T22:29:59.270Z"
   },
   {
    "duration": 11,
    "start_time": "2022-03-11T22:29:59.278Z"
   },
   {
    "duration": 5,
    "start_time": "2022-03-11T22:29:59.291Z"
   },
   {
    "duration": 18,
    "start_time": "2022-03-11T22:29:59.298Z"
   },
   {
    "duration": 47,
    "start_time": "2022-03-11T22:29:59.317Z"
   },
   {
    "duration": 8,
    "start_time": "2022-03-11T22:29:59.366Z"
   },
   {
    "duration": 650,
    "start_time": "2022-03-11T22:29:59.375Z"
   },
   {
    "duration": 14,
    "start_time": "2022-03-11T22:30:00.027Z"
   },
   {
    "duration": 9,
    "start_time": "2022-03-11T22:30:00.059Z"
   },
   {
    "duration": 380,
    "start_time": "2022-03-11T22:30:00.070Z"
   },
   {
    "duration": 29,
    "start_time": "2022-03-11T22:30:00.452Z"
   },
   {
    "duration": 372,
    "start_time": "2022-03-11T22:30:00.482Z"
   },
   {
    "duration": 9,
    "start_time": "2022-03-11T22:30:00.855Z"
   },
   {
    "duration": 1417,
    "start_time": "2022-03-11T22:30:00.866Z"
   },
   {
    "duration": 26,
    "start_time": "2022-03-11T22:30:02.285Z"
   },
   {
    "duration": 636,
    "start_time": "2022-03-11T22:30:02.312Z"
   },
   {
    "duration": 14,
    "start_time": "2022-03-11T22:30:02.950Z"
   },
   {
    "duration": 10,
    "start_time": "2022-03-11T22:30:02.966Z"
   },
   {
    "duration": 516,
    "start_time": "2022-03-11T22:30:02.981Z"
   },
   {
    "duration": 589,
    "start_time": "2022-03-11T22:30:03.500Z"
   },
   {
    "duration": 48,
    "start_time": "2022-03-11T22:30:04.090Z"
   },
   {
    "duration": 28,
    "start_time": "2022-03-11T22:30:04.140Z"
   },
   {
    "duration": 2870,
    "start_time": "2022-03-11T22:30:04.170Z"
   },
   {
    "duration": 42,
    "start_time": "2022-03-11T22:30:07.042Z"
   },
   {
    "duration": 6,
    "start_time": "2022-03-11T22:30:07.086Z"
   },
   {
    "duration": 75,
    "start_time": "2022-03-11T22:30:07.094Z"
   },
   {
    "duration": 9,
    "start_time": "2022-03-11T22:30:07.171Z"
   },
   {
    "duration": 524,
    "start_time": "2022-03-11T22:30:07.182Z"
   },
   {
    "duration": 558,
    "start_time": "2022-03-11T22:30:07.708Z"
   },
   {
    "duration": 17,
    "start_time": "2022-03-11T22:30:08.268Z"
   },
   {
    "duration": 15,
    "start_time": "2022-03-11T22:30:08.287Z"
   },
   {
    "duration": 10,
    "start_time": "2022-03-11T22:30:08.304Z"
   },
   {
    "duration": 52,
    "start_time": "2022-03-11T22:30:08.315Z"
   },
   {
    "duration": 17,
    "start_time": "2022-03-11T22:30:08.368Z"
   },
   {
    "duration": 16,
    "start_time": "2022-03-11T22:30:08.386Z"
   },
   {
    "duration": 23,
    "start_time": "2022-03-11T22:30:08.404Z"
   },
   {
    "duration": 47,
    "start_time": "2022-03-11T22:30:08.428Z"
   },
   {
    "duration": 18,
    "start_time": "2022-03-11T22:30:08.477Z"
   },
   {
    "duration": 19,
    "start_time": "2022-03-11T22:30:08.497Z"
   },
   {
    "duration": 63,
    "start_time": "2022-03-11T22:30:08.518Z"
   },
   {
    "duration": 3,
    "start_time": "2022-03-11T22:30:08.583Z"
   },
   {
    "duration": 39,
    "start_time": "2022-03-11T22:30:08.588Z"
   },
   {
    "duration": 20,
    "start_time": "2022-03-11T22:30:08.660Z"
   },
   {
    "duration": 12,
    "start_time": "2022-03-11T22:30:08.682Z"
   },
   {
    "duration": 5,
    "start_time": "2022-03-11T22:30:08.696Z"
   },
   {
    "duration": 56,
    "start_time": "2022-03-11T22:30:08.703Z"
   },
   {
    "duration": 7,
    "start_time": "2022-03-11T22:30:08.762Z"
   },
   {
    "duration": 7,
    "start_time": "2022-03-11T22:30:08.771Z"
   },
   {
    "duration": 1100,
    "start_time": "2022-03-11T22:35:01.720Z"
   },
   {
    "duration": 35,
    "start_time": "2022-03-11T22:35:02.822Z"
   },
   {
    "duration": 3,
    "start_time": "2022-03-11T22:35:02.860Z"
   },
   {
    "duration": 13,
    "start_time": "2022-03-11T22:35:02.864Z"
   },
   {
    "duration": 16,
    "start_time": "2022-03-11T22:35:02.879Z"
   },
   {
    "duration": 10,
    "start_time": "2022-03-11T22:35:02.897Z"
   },
   {
    "duration": 53,
    "start_time": "2022-03-11T22:35:02.909Z"
   },
   {
    "duration": 11,
    "start_time": "2022-03-11T22:35:02.964Z"
   },
   {
    "duration": 5,
    "start_time": "2022-03-11T22:35:02.978Z"
   },
   {
    "duration": 10,
    "start_time": "2022-03-11T22:35:02.985Z"
   },
   {
    "duration": 5,
    "start_time": "2022-03-11T22:35:02.997Z"
   },
   {
    "duration": 16,
    "start_time": "2022-03-11T22:35:03.003Z"
   },
   {
    "duration": 44,
    "start_time": "2022-03-11T22:35:03.021Z"
   },
   {
    "duration": 7,
    "start_time": "2022-03-11T22:35:03.066Z"
   },
   {
    "duration": 603,
    "start_time": "2022-03-11T22:35:03.074Z"
   },
   {
    "duration": 12,
    "start_time": "2022-03-11T22:35:03.679Z"
   },
   {
    "duration": 7,
    "start_time": "2022-03-11T22:35:03.692Z"
   },
   {
    "duration": 372,
    "start_time": "2022-03-11T22:35:03.701Z"
   },
   {
    "duration": 27,
    "start_time": "2022-03-11T22:35:04.075Z"
   },
   {
    "duration": 356,
    "start_time": "2022-03-11T22:35:04.103Z"
   },
   {
    "duration": 9,
    "start_time": "2022-03-11T22:35:04.461Z"
   },
   {
    "duration": 1396,
    "start_time": "2022-03-11T22:35:04.471Z"
   },
   {
    "duration": 26,
    "start_time": "2022-03-11T22:35:05.869Z"
   },
   {
    "duration": 659,
    "start_time": "2022-03-11T22:35:05.896Z"
   },
   {
    "duration": 11,
    "start_time": "2022-03-11T22:35:06.556Z"
   },
   {
    "duration": 18,
    "start_time": "2022-03-11T22:35:06.569Z"
   },
   {
    "duration": 561,
    "start_time": "2022-03-11T22:35:06.591Z"
   },
   {
    "duration": 532,
    "start_time": "2022-03-11T22:35:07.154Z"
   },
   {
    "duration": 55,
    "start_time": "2022-03-11T22:35:07.688Z"
   },
   {
    "duration": 27,
    "start_time": "2022-03-11T22:35:07.745Z"
   },
   {
    "duration": 2727,
    "start_time": "2022-03-11T22:35:07.774Z"
   },
   {
    "duration": 32,
    "start_time": "2022-03-11T22:35:10.503Z"
   },
   {
    "duration": 28,
    "start_time": "2022-03-11T22:35:10.537Z"
   },
   {
    "duration": 72,
    "start_time": "2022-03-11T22:35:10.566Z"
   },
   {
    "duration": 8,
    "start_time": "2022-03-11T22:35:10.640Z"
   },
   {
    "duration": 500,
    "start_time": "2022-03-11T22:35:10.650Z"
   },
   {
    "duration": 521,
    "start_time": "2022-03-11T22:35:11.151Z"
   },
   {
    "duration": 17,
    "start_time": "2022-03-11T22:35:11.674Z"
   },
   {
    "duration": 24,
    "start_time": "2022-03-11T22:35:11.693Z"
   },
   {
    "duration": 20,
    "start_time": "2022-03-11T22:35:11.718Z"
   },
   {
    "duration": 32,
    "start_time": "2022-03-11T22:35:11.739Z"
   },
   {
    "duration": 17,
    "start_time": "2022-03-11T22:35:11.772Z"
   },
   {
    "duration": 38,
    "start_time": "2022-03-11T22:35:11.791Z"
   },
   {
    "duration": 37,
    "start_time": "2022-03-11T22:35:11.831Z"
   },
   {
    "duration": 16,
    "start_time": "2022-03-11T22:35:11.870Z"
   },
   {
    "duration": 16,
    "start_time": "2022-03-11T22:35:11.888Z"
   },
   {
    "duration": 26,
    "start_time": "2022-03-11T22:35:11.906Z"
   },
   {
    "duration": 47,
    "start_time": "2022-03-11T22:35:11.934Z"
   },
   {
    "duration": 18,
    "start_time": "2022-03-11T22:35:11.982Z"
   },
   {
    "duration": 57,
    "start_time": "2022-03-11T22:35:12.002Z"
   },
   {
    "duration": 18,
    "start_time": "2022-03-11T22:35:12.060Z"
   },
   {
    "duration": 12,
    "start_time": "2022-03-11T22:35:12.079Z"
   },
   {
    "duration": 15,
    "start_time": "2022-03-11T22:35:12.092Z"
   },
   {
    "duration": 35,
    "start_time": "2022-03-11T22:35:12.109Z"
   },
   {
    "duration": 15,
    "start_time": "2022-03-11T22:35:12.146Z"
   },
   {
    "duration": 30,
    "start_time": "2022-03-11T22:35:12.163Z"
   },
   {
    "duration": 1078,
    "start_time": "2022-03-12T07:31:57.562Z"
   },
   {
    "duration": 48,
    "start_time": "2022-03-12T07:31:58.642Z"
   },
   {
    "duration": 3,
    "start_time": "2022-03-12T07:31:58.691Z"
   },
   {
    "duration": 12,
    "start_time": "2022-03-12T07:31:58.695Z"
   },
   {
    "duration": 14,
    "start_time": "2022-03-12T07:31:58.708Z"
   },
   {
    "duration": 9,
    "start_time": "2022-03-12T07:31:58.723Z"
   },
   {
    "duration": 17,
    "start_time": "2022-03-12T07:31:58.733Z"
   },
   {
    "duration": 8,
    "start_time": "2022-03-12T07:31:58.753Z"
   },
   {
    "duration": 5,
    "start_time": "2022-03-12T07:31:58.762Z"
   },
   {
    "duration": 7,
    "start_time": "2022-03-12T07:31:58.768Z"
   },
   {
    "duration": 31,
    "start_time": "2022-03-12T07:31:58.776Z"
   },
   {
    "duration": 14,
    "start_time": "2022-03-12T07:31:58.808Z"
   },
   {
    "duration": 7,
    "start_time": "2022-03-12T07:31:58.823Z"
   },
   {
    "duration": 4,
    "start_time": "2022-03-12T07:31:58.832Z"
   },
   {
    "duration": 480,
    "start_time": "2022-03-12T07:31:58.838Z"
   },
   {
    "duration": 10,
    "start_time": "2022-03-12T07:31:59.320Z"
   },
   {
    "duration": 6,
    "start_time": "2022-03-12T07:31:59.331Z"
   },
   {
    "duration": 294,
    "start_time": "2022-03-12T07:31:59.339Z"
   },
   {
    "duration": 22,
    "start_time": "2022-03-12T07:31:59.635Z"
   },
   {
    "duration": 287,
    "start_time": "2022-03-12T07:31:59.658Z"
   },
   {
    "duration": 6,
    "start_time": "2022-03-12T07:31:59.947Z"
   },
   {
    "duration": 1145,
    "start_time": "2022-03-12T07:31:59.955Z"
   },
   {
    "duration": 22,
    "start_time": "2022-03-12T07:32:01.106Z"
   },
   {
    "duration": 501,
    "start_time": "2022-03-12T07:32:01.131Z"
   },
   {
    "duration": 10,
    "start_time": "2022-03-12T07:32:01.634Z"
   },
   {
    "duration": 17,
    "start_time": "2022-03-12T07:32:01.645Z"
   },
   {
    "duration": 476,
    "start_time": "2022-03-12T07:32:01.663Z"
   },
   {
    "duration": 440,
    "start_time": "2022-03-12T07:32:02.141Z"
   },
   {
    "duration": 55,
    "start_time": "2022-03-12T07:32:02.583Z"
   },
   {
    "duration": 13,
    "start_time": "2022-03-12T07:32:02.640Z"
   },
   {
    "duration": 2592,
    "start_time": "2022-03-12T07:32:02.654Z"
   },
   {
    "duration": 31,
    "start_time": "2022-03-12T07:32:05.248Z"
   },
   {
    "duration": 5,
    "start_time": "2022-03-12T07:32:05.281Z"
   },
   {
    "duration": 68,
    "start_time": "2022-03-12T07:32:05.288Z"
   },
   {
    "duration": 14,
    "start_time": "2022-03-12T07:32:05.358Z"
   },
   {
    "duration": 475,
    "start_time": "2022-03-12T07:32:05.373Z"
   },
   {
    "duration": 450,
    "start_time": "2022-03-12T07:32:05.849Z"
   },
   {
    "duration": 16,
    "start_time": "2022-03-12T07:32:06.301Z"
   },
   {
    "duration": 14,
    "start_time": "2022-03-12T07:32:06.319Z"
   },
   {
    "duration": 10,
    "start_time": "2022-03-12T07:32:06.335Z"
   },
   {
    "duration": 29,
    "start_time": "2022-03-12T07:32:06.346Z"
   },
   {
    "duration": 22,
    "start_time": "2022-03-12T07:32:06.377Z"
   },
   {
    "duration": 30,
    "start_time": "2022-03-12T07:32:06.401Z"
   },
   {
    "duration": 23,
    "start_time": "2022-03-12T07:32:06.432Z"
   },
   {
    "duration": 22,
    "start_time": "2022-03-12T07:32:06.456Z"
   },
   {
    "duration": 21,
    "start_time": "2022-03-12T07:32:06.479Z"
   },
   {
    "duration": 22,
    "start_time": "2022-03-12T07:32:06.501Z"
   },
   {
    "duration": 41,
    "start_time": "2022-03-12T07:32:06.524Z"
   },
   {
    "duration": 15,
    "start_time": "2022-03-12T07:32:06.567Z"
   },
   {
    "duration": 47,
    "start_time": "2022-03-12T07:32:06.583Z"
   },
   {
    "duration": 15,
    "start_time": "2022-03-12T07:32:06.632Z"
   },
   {
    "duration": 13,
    "start_time": "2022-03-12T07:32:06.649Z"
   },
   {
    "duration": 22,
    "start_time": "2022-03-12T07:32:06.663Z"
   },
   {
    "duration": 39,
    "start_time": "2022-03-12T07:32:06.687Z"
   },
   {
    "duration": 11,
    "start_time": "2022-03-12T07:32:06.728Z"
   },
   {
    "duration": 34,
    "start_time": "2022-03-12T07:32:06.740Z"
   },
   {
    "duration": 18,
    "start_time": "2022-03-12T07:34:36.637Z"
   },
   {
    "duration": 19,
    "start_time": "2022-03-12T07:36:27.645Z"
   },
   {
    "duration": 1144,
    "start_time": "2022-03-12T15:37:45.970Z"
   },
   {
    "duration": 35,
    "start_time": "2022-03-12T15:37:47.116Z"
   },
   {
    "duration": 3,
    "start_time": "2022-03-12T15:37:47.154Z"
   },
   {
    "duration": 11,
    "start_time": "2022-03-12T15:37:47.163Z"
   },
   {
    "duration": 16,
    "start_time": "2022-03-12T15:37:47.176Z"
   },
   {
    "duration": 10,
    "start_time": "2022-03-12T15:37:47.194Z"
   },
   {
    "duration": 20,
    "start_time": "2022-03-12T15:37:47.206Z"
   },
   {
    "duration": 40,
    "start_time": "2022-03-12T15:37:47.229Z"
   },
   {
    "duration": 7,
    "start_time": "2022-03-12T15:37:47.271Z"
   },
   {
    "duration": 8,
    "start_time": "2022-03-12T15:37:47.279Z"
   },
   {
    "duration": 7,
    "start_time": "2022-03-12T15:37:47.289Z"
   },
   {
    "duration": 15,
    "start_time": "2022-03-12T15:37:47.297Z"
   },
   {
    "duration": 8,
    "start_time": "2022-03-12T15:37:47.313Z"
   },
   {
    "duration": 5,
    "start_time": "2022-03-12T15:37:47.323Z"
   },
   {
    "duration": 539,
    "start_time": "2022-03-12T15:37:47.329Z"
   },
   {
    "duration": 11,
    "start_time": "2022-03-12T15:37:47.870Z"
   },
   {
    "duration": 7,
    "start_time": "2022-03-12T15:37:47.883Z"
   },
   {
    "duration": 328,
    "start_time": "2022-03-12T15:37:47.891Z"
   },
   {
    "duration": 26,
    "start_time": "2022-03-12T15:37:48.221Z"
   },
   {
    "duration": 324,
    "start_time": "2022-03-12T15:37:48.249Z"
   },
   {
    "duration": 8,
    "start_time": "2022-03-12T15:37:48.575Z"
   },
   {
    "duration": 1232,
    "start_time": "2022-03-12T15:37:48.584Z"
   },
   {
    "duration": 23,
    "start_time": "2022-03-12T15:37:49.820Z"
   },
   {
    "duration": 567,
    "start_time": "2022-03-12T15:37:49.845Z"
   },
   {
    "duration": 10,
    "start_time": "2022-03-12T15:37:50.414Z"
   },
   {
    "duration": 16,
    "start_time": "2022-03-12T15:37:50.425Z"
   },
   {
    "duration": 484,
    "start_time": "2022-03-12T15:37:50.443Z"
   },
   {
    "duration": 498,
    "start_time": "2022-03-12T15:37:50.929Z"
   },
   {
    "duration": 55,
    "start_time": "2022-03-12T15:37:51.429Z"
   },
   {
    "duration": 14,
    "start_time": "2022-03-12T15:37:51.485Z"
   },
   {
    "duration": 2510,
    "start_time": "2022-03-12T15:37:51.501Z"
   },
   {
    "duration": 30,
    "start_time": "2022-03-12T15:37:54.013Z"
   },
   {
    "duration": 21,
    "start_time": "2022-03-12T15:37:54.045Z"
   },
   {
    "duration": 53,
    "start_time": "2022-03-12T15:37:54.068Z"
   },
   {
    "duration": 9,
    "start_time": "2022-03-12T15:37:54.123Z"
   },
   {
    "duration": 465,
    "start_time": "2022-03-12T15:37:54.162Z"
   },
   {
    "duration": 503,
    "start_time": "2022-03-12T15:37:54.629Z"
   },
   {
    "duration": 29,
    "start_time": "2022-03-12T15:37:55.134Z"
   },
   {
    "duration": 17,
    "start_time": "2022-03-12T15:37:55.165Z"
   },
   {
    "duration": 11,
    "start_time": "2022-03-12T15:37:55.184Z"
   },
   {
    "duration": 17,
    "start_time": "2022-03-12T15:37:55.196Z"
   },
   {
    "duration": 48,
    "start_time": "2022-03-12T15:37:55.215Z"
   },
   {
    "duration": 18,
    "start_time": "2022-03-12T15:37:55.265Z"
   },
   {
    "duration": 23,
    "start_time": "2022-03-12T15:37:55.285Z"
   },
   {
    "duration": 16,
    "start_time": "2022-03-12T15:37:55.310Z"
   },
   {
    "duration": 47,
    "start_time": "2022-03-12T15:37:55.327Z"
   },
   {
    "duration": 17,
    "start_time": "2022-03-12T15:37:55.375Z"
   },
   {
    "duration": 27,
    "start_time": "2022-03-12T15:37:55.393Z"
   },
   {
    "duration": 3,
    "start_time": "2022-03-12T15:37:55.422Z"
   },
   {
    "duration": 58,
    "start_time": "2022-03-12T15:37:55.427Z"
   },
   {
    "duration": 17,
    "start_time": "2022-03-12T15:37:55.486Z"
   },
   {
    "duration": 11,
    "start_time": "2022-03-12T15:37:55.504Z"
   },
   {
    "duration": 5,
    "start_time": "2022-03-12T15:37:55.516Z"
   },
   {
    "duration": 41,
    "start_time": "2022-03-12T15:37:55.522Z"
   },
   {
    "duration": 5,
    "start_time": "2022-03-12T15:37:55.565Z"
   },
   {
    "duration": 9,
    "start_time": "2022-03-12T15:37:55.571Z"
   },
   {
    "duration": 4,
    "start_time": "2022-03-12T15:41:56.322Z"
   },
   {
    "duration": 4,
    "start_time": "2022-03-12T15:42:03.312Z"
   },
   {
    "duration": 4,
    "start_time": "2022-03-12T15:42:07.763Z"
   },
   {
    "duration": 8,
    "start_time": "2022-03-12T15:48:22.149Z"
   },
   {
    "duration": 23,
    "start_time": "2022-03-12T15:49:45.049Z"
   },
   {
    "duration": 75,
    "start_time": "2022-03-12T15:50:09.065Z"
   },
   {
    "duration": 8,
    "start_time": "2022-03-12T15:50:12.499Z"
   },
   {
    "duration": 12,
    "start_time": "2022-03-12T15:54:17.196Z"
   },
   {
    "duration": 4,
    "start_time": "2022-03-12T15:54:49.007Z"
   },
   {
    "duration": 26,
    "start_time": "2022-03-12T15:54:58.216Z"
   },
   {
    "duration": 7,
    "start_time": "2022-03-12T15:55:11.673Z"
   },
   {
    "duration": 22,
    "start_time": "2022-03-12T15:55:39.626Z"
   },
   {
    "duration": 8,
    "start_time": "2022-03-12T15:55:53.801Z"
   },
   {
    "duration": 20,
    "start_time": "2022-03-12T15:58:47.536Z"
   },
   {
    "duration": 7,
    "start_time": "2022-03-12T15:59:04.114Z"
   },
   {
    "duration": 19,
    "start_time": "2022-03-12T16:00:28.711Z"
   },
   {
    "duration": 7,
    "start_time": "2022-03-12T16:00:42.934Z"
   },
   {
    "duration": 22,
    "start_time": "2022-03-12T16:02:29.686Z"
   },
   {
    "duration": 8,
    "start_time": "2022-03-12T16:02:41.023Z"
   },
   {
    "duration": 23,
    "start_time": "2022-03-12T16:02:54.244Z"
   },
   {
    "duration": 5,
    "start_time": "2022-03-12T16:03:08.296Z"
   },
   {
    "duration": 24,
    "start_time": "2022-03-12T16:04:31.451Z"
   },
   {
    "duration": 5,
    "start_time": "2022-03-12T16:04:40.668Z"
   },
   {
    "duration": 5,
    "start_time": "2022-03-12T16:04:45.066Z"
   },
   {
    "duration": 1146,
    "start_time": "2022-03-12T16:12:23.880Z"
   },
   {
    "duration": 34,
    "start_time": "2022-03-12T16:12:25.028Z"
   },
   {
    "duration": 3,
    "start_time": "2022-03-12T16:12:25.064Z"
   },
   {
    "duration": 12,
    "start_time": "2022-03-12T16:12:25.069Z"
   },
   {
    "duration": 15,
    "start_time": "2022-03-12T16:12:25.083Z"
   },
   {
    "duration": 9,
    "start_time": "2022-03-12T16:12:25.099Z"
   },
   {
    "duration": 18,
    "start_time": "2022-03-12T16:12:25.109Z"
   },
   {
    "duration": 37,
    "start_time": "2022-03-12T16:12:25.129Z"
   },
   {
    "duration": 5,
    "start_time": "2022-03-12T16:12:25.169Z"
   },
   {
    "duration": 7,
    "start_time": "2022-03-12T16:12:25.176Z"
   },
   {
    "duration": 5,
    "start_time": "2022-03-12T16:12:25.185Z"
   },
   {
    "duration": 15,
    "start_time": "2022-03-12T16:12:25.192Z"
   },
   {
    "duration": 9,
    "start_time": "2022-03-12T16:12:25.208Z"
   },
   {
    "duration": 5,
    "start_time": "2022-03-12T16:12:25.218Z"
   },
   {
    "duration": 567,
    "start_time": "2022-03-12T16:12:25.225Z"
   },
   {
    "duration": 12,
    "start_time": "2022-03-12T16:12:25.794Z"
   },
   {
    "duration": 7,
    "start_time": "2022-03-12T16:12:25.808Z"
   },
   {
    "duration": 337,
    "start_time": "2022-03-12T16:12:25.816Z"
   },
   {
    "duration": 24,
    "start_time": "2022-03-12T16:12:26.162Z"
   },
   {
    "duration": 316,
    "start_time": "2022-03-12T16:12:26.188Z"
   },
   {
    "duration": 10,
    "start_time": "2022-03-12T16:12:26.507Z"
   },
   {
    "duration": 1462,
    "start_time": "2022-03-12T16:12:26.519Z"
   },
   {
    "duration": 24,
    "start_time": "2022-03-12T16:12:27.986Z"
   },
   {
    "duration": 583,
    "start_time": "2022-03-12T16:12:28.012Z"
   },
   {
    "duration": 8,
    "start_time": "2022-03-12T16:12:28.597Z"
   },
   {
    "duration": 8,
    "start_time": "2022-03-12T16:12:28.607Z"
   },
   {
    "duration": 493,
    "start_time": "2022-03-12T16:12:28.617Z"
   },
   {
    "duration": 538,
    "start_time": "2022-03-12T16:12:29.111Z"
   },
   {
    "duration": 52,
    "start_time": "2022-03-12T16:12:29.651Z"
   },
   {
    "duration": 14,
    "start_time": "2022-03-12T16:12:29.704Z"
   },
   {
    "duration": 2756,
    "start_time": "2022-03-12T16:12:29.720Z"
   },
   {
    "duration": 31,
    "start_time": "2022-03-12T16:12:32.478Z"
   },
   {
    "duration": 6,
    "start_time": "2022-03-12T16:12:32.511Z"
   },
   {
    "duration": 73,
    "start_time": "2022-03-12T16:12:32.519Z"
   },
   {
    "duration": 9,
    "start_time": "2022-03-12T16:12:32.593Z"
   },
   {
    "duration": 540,
    "start_time": "2022-03-12T16:12:32.603Z"
   },
   {
    "duration": 520,
    "start_time": "2022-03-12T16:12:33.145Z"
   },
   {
    "duration": 18,
    "start_time": "2022-03-12T16:12:33.667Z"
   },
   {
    "duration": 17,
    "start_time": "2022-03-12T16:12:33.687Z"
   },
   {
    "duration": 12,
    "start_time": "2022-03-12T16:12:33.705Z"
   },
   {
    "duration": 45,
    "start_time": "2022-03-12T16:12:33.718Z"
   },
   {
    "duration": 18,
    "start_time": "2022-03-12T16:12:33.765Z"
   },
   {
    "duration": 19,
    "start_time": "2022-03-12T16:12:33.785Z"
   },
   {
    "duration": 24,
    "start_time": "2022-03-12T16:12:33.806Z"
   },
   {
    "duration": 46,
    "start_time": "2022-03-12T16:12:33.831Z"
   },
   {
    "duration": 16,
    "start_time": "2022-03-12T16:12:33.879Z"
   },
   {
    "duration": 16,
    "start_time": "2022-03-12T16:12:33.896Z"
   },
   {
    "duration": 51,
    "start_time": "2022-03-12T16:12:33.913Z"
   },
   {
    "duration": 3,
    "start_time": "2022-03-12T16:12:33.966Z"
   },
   {
    "duration": 32,
    "start_time": "2022-03-12T16:12:33.971Z"
   },
   {
    "duration": 18,
    "start_time": "2022-03-12T16:12:34.005Z"
   },
   {
    "duration": 42,
    "start_time": "2022-03-12T16:12:34.024Z"
   },
   {
    "duration": 5,
    "start_time": "2022-03-12T16:12:34.068Z"
   },
   {
    "duration": 12,
    "start_time": "2022-03-12T16:12:34.074Z"
   },
   {
    "duration": 5,
    "start_time": "2022-03-12T16:12:34.088Z"
   },
   {
    "duration": 7,
    "start_time": "2022-03-12T16:12:34.095Z"
   },
   {
    "duration": 1475,
    "start_time": "2022-03-12T22:07:52.780Z"
   },
   {
    "duration": 42,
    "start_time": "2022-03-12T22:07:54.257Z"
   },
   {
    "duration": 5,
    "start_time": "2022-03-12T22:07:54.302Z"
   },
   {
    "duration": 19,
    "start_time": "2022-03-12T22:07:54.310Z"
   },
   {
    "duration": 48,
    "start_time": "2022-03-12T22:07:54.331Z"
   },
   {
    "duration": 18,
    "start_time": "2022-03-12T22:07:54.382Z"
   },
   {
    "duration": 73,
    "start_time": "2022-03-12T22:07:54.403Z"
   },
   {
    "duration": 20,
    "start_time": "2022-03-12T22:07:54.479Z"
   },
   {
    "duration": 10,
    "start_time": "2022-03-12T22:07:54.504Z"
   },
   {
    "duration": 36,
    "start_time": "2022-03-12T22:07:54.518Z"
   },
   {
    "duration": 9,
    "start_time": "2022-03-12T22:07:54.557Z"
   },
   {
    "duration": 31,
    "start_time": "2022-03-12T22:07:54.568Z"
   },
   {
    "duration": 15,
    "start_time": "2022-03-12T22:07:54.601Z"
   },
   {
    "duration": 43,
    "start_time": "2022-03-12T22:07:54.619Z"
   },
   {
    "duration": 883,
    "start_time": "2022-03-12T22:07:54.664Z"
   },
   {
    "duration": 19,
    "start_time": "2022-03-12T22:07:55.552Z"
   },
   {
    "duration": 11,
    "start_time": "2022-03-12T22:07:55.574Z"
   },
   {
    "duration": 568,
    "start_time": "2022-03-12T22:07:55.587Z"
   },
   {
    "duration": 39,
    "start_time": "2022-03-12T22:07:56.158Z"
   },
   {
    "duration": 632,
    "start_time": "2022-03-12T22:07:56.201Z"
   },
   {
    "duration": 25,
    "start_time": "2022-03-12T22:07:56.837Z"
   },
   {
    "duration": 2093,
    "start_time": "2022-03-12T22:07:56.865Z"
   },
   {
    "duration": 38,
    "start_time": "2022-03-12T22:07:58.961Z"
   },
   {
    "duration": 890,
    "start_time": "2022-03-12T22:07:59.002Z"
   },
   {
    "duration": 14,
    "start_time": "2022-03-12T22:07:59.895Z"
   },
   {
    "duration": 18,
    "start_time": "2022-03-12T22:07:59.911Z"
   },
   {
    "duration": 712,
    "start_time": "2022-03-12T22:07:59.952Z"
   },
   {
    "duration": 865,
    "start_time": "2022-03-12T22:08:00.667Z"
   },
   {
    "duration": 118,
    "start_time": "2022-03-12T22:08:01.535Z"
   },
   {
    "duration": 26,
    "start_time": "2022-03-12T22:08:01.656Z"
   },
   {
    "duration": 3935,
    "start_time": "2022-03-12T22:08:01.685Z"
   },
   {
    "duration": 61,
    "start_time": "2022-03-12T22:08:05.623Z"
   },
   {
    "duration": 8,
    "start_time": "2022-03-12T22:08:05.686Z"
   },
   {
    "duration": 110,
    "start_time": "2022-03-12T22:08:05.696Z"
   },
   {
    "duration": 16,
    "start_time": "2022-03-12T22:08:05.809Z"
   },
   {
    "duration": 707,
    "start_time": "2022-03-12T22:08:05.828Z"
   },
   {
    "duration": 736,
    "start_time": "2022-03-12T22:08:06.538Z"
   },
   {
    "duration": 26,
    "start_time": "2022-03-12T22:08:07.276Z"
   },
   {
    "duration": 51,
    "start_time": "2022-03-12T22:08:07.305Z"
   },
   {
    "duration": 17,
    "start_time": "2022-03-12T22:08:07.358Z"
   },
   {
    "duration": 28,
    "start_time": "2022-03-12T22:08:07.378Z"
   },
   {
    "duration": 59,
    "start_time": "2022-03-12T22:08:07.408Z"
   },
   {
    "duration": 28,
    "start_time": "2022-03-12T22:08:07.470Z"
   },
   {
    "duration": 67,
    "start_time": "2022-03-12T22:08:07.501Z"
   },
   {
    "duration": 37,
    "start_time": "2022-03-12T22:08:07.571Z"
   },
   {
    "duration": 64,
    "start_time": "2022-03-12T22:08:07.611Z"
   },
   {
    "duration": 29,
    "start_time": "2022-03-12T22:08:07.677Z"
   },
   {
    "duration": 65,
    "start_time": "2022-03-12T22:08:07.709Z"
   },
   {
    "duration": 5,
    "start_time": "2022-03-12T22:08:07.776Z"
   },
   {
    "duration": 80,
    "start_time": "2022-03-12T22:08:07.784Z"
   },
   {
    "duration": 32,
    "start_time": "2022-03-12T22:08:07.867Z"
   },
   {
    "duration": 56,
    "start_time": "2022-03-12T22:08:07.902Z"
   },
   {
    "duration": 8,
    "start_time": "2022-03-12T22:08:07.961Z"
   },
   {
    "duration": 23,
    "start_time": "2022-03-12T22:08:07.972Z"
   },
   {
    "duration": 9,
    "start_time": "2022-03-12T22:08:07.997Z"
   },
   {
    "duration": 43,
    "start_time": "2022-03-12T22:08:08.009Z"
   },
   {
    "duration": 23,
    "start_time": "2022-03-12T22:08:40.052Z"
   },
   {
    "duration": 33,
    "start_time": "2022-03-12T22:11:10.055Z"
   },
   {
    "duration": 32,
    "start_time": "2022-03-12T22:11:24.206Z"
   },
   {
    "duration": 32,
    "start_time": "2022-03-12T22:11:26.255Z"
   },
   {
    "duration": 290,
    "start_time": "2022-03-12T22:12:00.589Z"
   },
   {
    "duration": 305,
    "start_time": "2022-03-12T22:12:09.365Z"
   },
   {
    "duration": 99,
    "start_time": "2022-03-12T22:12:35.765Z"
   },
   {
    "duration": 697,
    "start_time": "2022-03-12T22:14:18.008Z"
   },
   {
    "duration": 83,
    "start_time": "2022-03-12T22:14:39.577Z"
   },
   {
    "duration": 19,
    "start_time": "2022-03-12T22:15:57.340Z"
   },
   {
    "duration": 21,
    "start_time": "2022-03-12T22:16:33.817Z"
   },
   {
    "duration": 10,
    "start_time": "2022-03-12T22:20:12.814Z"
   },
   {
    "duration": 9,
    "start_time": "2022-03-12T22:20:14.876Z"
   },
   {
    "duration": 766,
    "start_time": "2022-03-12T22:20:15.465Z"
   },
   {
    "duration": 9,
    "start_time": "2022-03-12T22:20:58.315Z"
   },
   {
    "duration": 440,
    "start_time": "2022-03-13T13:58:56.726Z"
   },
   {
    "duration": 1721,
    "start_time": "2022-03-13T13:59:05.585Z"
   },
   {
    "duration": 49,
    "start_time": "2022-03-13T13:59:07.309Z"
   },
   {
    "duration": 4,
    "start_time": "2022-03-13T13:59:07.362Z"
   },
   {
    "duration": 25,
    "start_time": "2022-03-13T13:59:07.369Z"
   },
   {
    "duration": 58,
    "start_time": "2022-03-13T13:59:07.397Z"
   },
   {
    "duration": 22,
    "start_time": "2022-03-13T13:59:07.458Z"
   },
   {
    "duration": 76,
    "start_time": "2022-03-13T13:59:07.483Z"
   },
   {
    "duration": 15,
    "start_time": "2022-03-13T13:59:07.562Z"
   },
   {
    "duration": 9,
    "start_time": "2022-03-13T13:59:07.581Z"
   },
   {
    "duration": 40,
    "start_time": "2022-03-13T13:59:07.595Z"
   },
   {
    "duration": 13,
    "start_time": "2022-03-13T13:59:07.638Z"
   },
   {
    "duration": 32,
    "start_time": "2022-03-13T13:59:07.655Z"
   },
   {
    "duration": 14,
    "start_time": "2022-03-13T13:59:07.690Z"
   },
   {
    "duration": 10,
    "start_time": "2022-03-13T13:59:07.734Z"
   },
   {
    "duration": 961,
    "start_time": "2022-03-13T13:59:07.747Z"
   },
   {
    "duration": 38,
    "start_time": "2022-03-13T13:59:08.710Z"
   },
   {
    "duration": 11,
    "start_time": "2022-03-13T13:59:08.750Z"
   },
   {
    "duration": 659,
    "start_time": "2022-03-13T13:59:08.764Z"
   },
   {
    "duration": 58,
    "start_time": "2022-03-13T13:59:09.426Z"
   },
   {
    "duration": 352,
    "start_time": "2022-03-13T13:59:09.487Z"
   },
   {
    "duration": 14,
    "start_time": "2022-03-13T13:59:09.841Z"
   },
   {
    "duration": 2077,
    "start_time": "2022-03-13T13:59:09.858Z"
   },
   {
    "duration": 55,
    "start_time": "2022-03-13T13:59:11.938Z"
   },
   {
    "duration": 924,
    "start_time": "2022-03-13T13:59:11.996Z"
   },
   {
    "duration": 22,
    "start_time": "2022-03-13T13:59:12.922Z"
   },
   {
    "duration": 9,
    "start_time": "2022-03-13T13:59:12.947Z"
   },
   {
    "duration": 792,
    "start_time": "2022-03-13T13:59:12.962Z"
   },
   {
    "duration": 830,
    "start_time": "2022-03-13T13:59:13.758Z"
   },
   {
    "duration": 146,
    "start_time": "2022-03-13T13:59:14.591Z"
   },
   {
    "duration": 29,
    "start_time": "2022-03-13T13:59:14.740Z"
   },
   {
    "duration": 4946,
    "start_time": "2022-03-13T13:59:14.773Z"
   },
   {
    "duration": 57,
    "start_time": "2022-03-13T13:59:19.732Z"
   },
   {
    "duration": 10,
    "start_time": "2022-03-13T13:59:19.792Z"
   },
   {
    "duration": 127,
    "start_time": "2022-03-13T13:59:19.805Z"
   },
   {
    "duration": 13,
    "start_time": "2022-03-13T13:59:19.935Z"
   },
   {
    "duration": 806,
    "start_time": "2022-03-13T13:59:19.950Z"
   },
   {
    "duration": 797,
    "start_time": "2022-03-13T13:59:20.758Z"
   },
   {
    "duration": 27,
    "start_time": "2022-03-13T13:59:21.557Z"
   },
   {
    "duration": 55,
    "start_time": "2022-03-13T13:59:21.587Z"
   },
   {
    "duration": 18,
    "start_time": "2022-03-13T13:59:21.644Z"
   },
   {
    "duration": 38,
    "start_time": "2022-03-13T13:59:21.666Z"
   },
   {
    "duration": 39,
    "start_time": "2022-03-13T13:59:21.735Z"
   },
   {
    "duration": 57,
    "start_time": "2022-03-13T13:59:21.778Z"
   },
   {
    "duration": 42,
    "start_time": "2022-03-13T13:59:21.838Z"
   },
   {
    "duration": 66,
    "start_time": "2022-03-13T13:59:21.883Z"
   },
   {
    "duration": 28,
    "start_time": "2022-03-13T13:59:21.952Z"
   },
   {
    "duration": 54,
    "start_time": "2022-03-13T13:59:21.983Z"
   },
   {
    "duration": 40,
    "start_time": "2022-03-13T13:59:22.040Z"
   },
   {
    "duration": 5,
    "start_time": "2022-03-13T13:59:22.083Z"
   },
   {
    "duration": 89,
    "start_time": "2022-03-13T13:59:22.091Z"
   },
   {
    "duration": 60,
    "start_time": "2022-03-13T13:59:22.183Z"
   },
   {
    "duration": 17,
    "start_time": "2022-03-13T13:59:22.246Z"
   },
   {
    "duration": 7,
    "start_time": "2022-03-13T13:59:22.265Z"
   },
   {
    "duration": 17,
    "start_time": "2022-03-13T13:59:22.275Z"
   },
   {
    "duration": 9,
    "start_time": "2022-03-13T13:59:22.332Z"
   },
   {
    "duration": 14,
    "start_time": "2022-03-13T13:59:22.343Z"
   },
   {
    "duration": 107,
    "start_time": "2022-03-13T14:00:59.325Z"
   },
   {
    "duration": 7,
    "start_time": "2022-03-13T14:05:28.244Z"
   },
   {
    "duration": 596,
    "start_time": "2022-03-13T14:08:14.794Z"
   },
   {
    "duration": 372,
    "start_time": "2022-03-13T14:08:23.925Z"
   },
   {
    "duration": 321,
    "start_time": "2022-03-13T14:08:38.685Z"
   },
   {
    "duration": 1422,
    "start_time": "2022-03-13T18:19:48.325Z"
   },
   {
    "duration": 50,
    "start_time": "2022-03-13T18:19:49.749Z"
   },
   {
    "duration": 4,
    "start_time": "2022-03-13T18:19:49.803Z"
   },
   {
    "duration": 22,
    "start_time": "2022-03-13T18:19:49.811Z"
   },
   {
    "duration": 37,
    "start_time": "2022-03-13T18:19:49.836Z"
   },
   {
    "duration": 409,
    "start_time": "2022-03-13T18:19:49.883Z"
   },
   {
    "duration": -209,
    "start_time": "2022-03-13T18:19:50.506Z"
   },
   {
    "duration": -215,
    "start_time": "2022-03-13T18:19:50.514Z"
   },
   {
    "duration": -221,
    "start_time": "2022-03-13T18:19:50.521Z"
   },
   {
    "duration": -226,
    "start_time": "2022-03-13T18:19:50.528Z"
   },
   {
    "duration": -233,
    "start_time": "2022-03-13T18:19:50.536Z"
   },
   {
    "duration": -237,
    "start_time": "2022-03-13T18:19:50.542Z"
   },
   {
    "duration": -243,
    "start_time": "2022-03-13T18:19:50.549Z"
   },
   {
    "duration": -248,
    "start_time": "2022-03-13T18:19:50.556Z"
   },
   {
    "duration": -254,
    "start_time": "2022-03-13T18:19:50.564Z"
   },
   {
    "duration": -258,
    "start_time": "2022-03-13T18:19:50.569Z"
   },
   {
    "duration": -264,
    "start_time": "2022-03-13T18:19:50.577Z"
   },
   {
    "duration": -271,
    "start_time": "2022-03-13T18:19:50.585Z"
   },
   {
    "duration": -279,
    "start_time": "2022-03-13T18:19:50.595Z"
   },
   {
    "duration": -292,
    "start_time": "2022-03-13T18:19:50.610Z"
   },
   {
    "duration": -299,
    "start_time": "2022-03-13T18:19:50.618Z"
   },
   {
    "duration": -304,
    "start_time": "2022-03-13T18:19:50.625Z"
   },
   {
    "duration": -310,
    "start_time": "2022-03-13T18:19:50.632Z"
   },
   {
    "duration": -316,
    "start_time": "2022-03-13T18:19:50.640Z"
   },
   {
    "duration": -657,
    "start_time": "2022-03-13T18:19:50.982Z"
   },
   {
    "duration": -661,
    "start_time": "2022-03-13T18:19:50.988Z"
   },
   {
    "duration": -668,
    "start_time": "2022-03-13T18:19:50.996Z"
   },
   {
    "duration": -672,
    "start_time": "2022-03-13T18:19:51.002Z"
   },
   {
    "duration": -679,
    "start_time": "2022-03-13T18:19:51.010Z"
   },
   {
    "duration": -633,
    "start_time": "2022-03-13T18:19:51.016Z"
   },
   {
    "duration": -638,
    "start_time": "2022-03-13T18:19:51.023Z"
   },
   {
    "duration": -641,
    "start_time": "2022-03-13T18:19:51.030Z"
   },
   {
    "duration": -645,
    "start_time": "2022-03-13T18:19:51.036Z"
   },
   {
    "duration": -649,
    "start_time": "2022-03-13T18:19:51.042Z"
   },
   {
    "duration": -655,
    "start_time": "2022-03-13T18:19:51.050Z"
   },
   {
    "duration": -660,
    "start_time": "2022-03-13T18:19:51.056Z"
   },
   {
    "duration": -667,
    "start_time": "2022-03-13T18:19:51.064Z"
   },
   {
    "duration": -671,
    "start_time": "2022-03-13T18:19:51.070Z"
   },
   {
    "duration": -676,
    "start_time": "2022-03-13T18:19:51.077Z"
   },
   {
    "duration": -690,
    "start_time": "2022-03-13T18:19:51.092Z"
   },
   {
    "duration": -696,
    "start_time": "2022-03-13T18:19:51.100Z"
   },
   {
    "duration": -701,
    "start_time": "2022-03-13T18:19:51.106Z"
   },
   {
    "duration": -708,
    "start_time": "2022-03-13T18:19:51.114Z"
   },
   {
    "duration": -713,
    "start_time": "2022-03-13T18:19:51.121Z"
   },
   {
    "duration": -719,
    "start_time": "2022-03-13T18:19:51.128Z"
   },
   {
    "duration": -723,
    "start_time": "2022-03-13T18:19:51.134Z"
   },
   {
    "duration": -728,
    "start_time": "2022-03-13T18:19:51.141Z"
   },
   {
    "duration": -734,
    "start_time": "2022-03-13T18:19:51.148Z"
   },
   {
    "duration": -739,
    "start_time": "2022-03-13T18:19:51.155Z"
   },
   {
    "duration": -745,
    "start_time": "2022-03-13T18:19:51.162Z"
   },
   {
    "duration": -751,
    "start_time": "2022-03-13T18:19:51.169Z"
   },
   {
    "duration": -755,
    "start_time": "2022-03-13T18:19:51.175Z"
   },
   {
    "duration": -762,
    "start_time": "2022-03-13T18:19:51.183Z"
   },
   {
    "duration": -707,
    "start_time": "2022-03-13T18:19:51.189Z"
   },
   {
    "duration": -721,
    "start_time": "2022-03-13T18:19:51.205Z"
   },
   {
    "duration": -726,
    "start_time": "2022-03-13T18:19:51.212Z"
   },
   {
    "duration": -732,
    "start_time": "2022-03-13T18:19:51.219Z"
   },
   {
    "duration": -737,
    "start_time": "2022-03-13T18:19:51.226Z"
   },
   {
    "duration": 10,
    "start_time": "2022-03-13T18:20:14.121Z"
   },
   {
    "duration": 18,
    "start_time": "2022-03-13T18:20:14.626Z"
   },
   {
    "duration": 260,
    "start_time": "2022-03-13T18:22:37.302Z"
   },
   {
    "duration": 264,
    "start_time": "2022-03-13T18:22:37.912Z"
   },
   {
    "duration": 1441,
    "start_time": "2022-03-13T18:22:47.586Z"
   },
   {
    "duration": 41,
    "start_time": "2022-03-13T18:22:49.030Z"
   },
   {
    "duration": 9,
    "start_time": "2022-03-13T18:22:49.073Z"
   },
   {
    "duration": 24,
    "start_time": "2022-03-13T18:22:49.085Z"
   },
   {
    "duration": 24,
    "start_time": "2022-03-13T18:22:49.111Z"
   },
   {
    "duration": 405,
    "start_time": "2022-03-13T18:22:49.138Z"
   },
   {
    "duration": -235,
    "start_time": "2022-03-13T18:22:49.783Z"
   },
   {
    "duration": -240,
    "start_time": "2022-03-13T18:22:49.790Z"
   },
   {
    "duration": -245,
    "start_time": "2022-03-13T18:22:49.797Z"
   },
   {
    "duration": -250,
    "start_time": "2022-03-13T18:22:49.803Z"
   },
   {
    "duration": -257,
    "start_time": "2022-03-13T18:22:49.811Z"
   },
   {
    "duration": -262,
    "start_time": "2022-03-13T18:22:49.818Z"
   },
   {
    "duration": -267,
    "start_time": "2022-03-13T18:22:49.825Z"
   },
   {
    "duration": -272,
    "start_time": "2022-03-13T18:22:49.831Z"
   },
   {
    "duration": -280,
    "start_time": "2022-03-13T18:22:49.841Z"
   },
   {
    "duration": -288,
    "start_time": "2022-03-13T18:22:49.850Z"
   },
   {
    "duration": -294,
    "start_time": "2022-03-13T18:22:49.858Z"
   },
   {
    "duration": -300,
    "start_time": "2022-03-13T18:22:49.865Z"
   },
   {
    "duration": -306,
    "start_time": "2022-03-13T18:22:49.872Z"
   },
   {
    "duration": -340,
    "start_time": "2022-03-13T18:22:49.908Z"
   },
   {
    "duration": -349,
    "start_time": "2022-03-13T18:22:49.918Z"
   },
   {
    "duration": -357,
    "start_time": "2022-03-13T18:22:49.927Z"
   },
   {
    "duration": -364,
    "start_time": "2022-03-13T18:22:49.935Z"
   },
   {
    "duration": -369,
    "start_time": "2022-03-13T18:22:49.942Z"
   },
   {
    "duration": -376,
    "start_time": "2022-03-13T18:22:49.950Z"
   },
   {
    "duration": -385,
    "start_time": "2022-03-13T18:22:49.961Z"
   },
   {
    "duration": -393,
    "start_time": "2022-03-13T18:22:49.971Z"
   },
   {
    "duration": -412,
    "start_time": "2022-03-13T18:22:49.992Z"
   },
   {
    "duration": -433,
    "start_time": "2022-03-13T18:22:50.017Z"
   },
   {
    "duration": -440,
    "start_time": "2022-03-13T18:22:50.026Z"
   },
   {
    "duration": -453,
    "start_time": "2022-03-13T18:22:50.041Z"
   },
   {
    "duration": -468,
    "start_time": "2022-03-13T18:22:50.058Z"
   },
   {
    "duration": -483,
    "start_time": "2022-03-13T18:22:50.075Z"
   },
   {
    "duration": -497,
    "start_time": "2022-03-13T18:22:50.091Z"
   },
   {
    "duration": -503,
    "start_time": "2022-03-13T18:22:50.099Z"
   },
   {
    "duration": -508,
    "start_time": "2022-03-13T18:22:50.106Z"
   },
   {
    "duration": -513,
    "start_time": "2022-03-13T18:22:50.113Z"
   },
   {
    "duration": -517,
    "start_time": "2022-03-13T18:22:50.119Z"
   },
   {
    "duration": -522,
    "start_time": "2022-03-13T18:22:50.126Z"
   },
   {
    "duration": -526,
    "start_time": "2022-03-13T18:22:50.132Z"
   },
   {
    "duration": -531,
    "start_time": "2022-03-13T18:22:50.140Z"
   },
   {
    "duration": -536,
    "start_time": "2022-03-13T18:22:50.146Z"
   },
   {
    "duration": -540,
    "start_time": "2022-03-13T18:22:50.152Z"
   },
   {
    "duration": -545,
    "start_time": "2022-03-13T18:22:50.159Z"
   },
   {
    "duration": -549,
    "start_time": "2022-03-13T18:22:50.165Z"
   },
   {
    "duration": -554,
    "start_time": "2022-03-13T18:22:50.172Z"
   },
   {
    "duration": -559,
    "start_time": "2022-03-13T18:22:50.179Z"
   },
   {
    "duration": -563,
    "start_time": "2022-03-13T18:22:50.185Z"
   },
   {
    "duration": -517,
    "start_time": "2022-03-13T18:22:50.202Z"
   },
   {
    "duration": -522,
    "start_time": "2022-03-13T18:22:50.209Z"
   },
   {
    "duration": -527,
    "start_time": "2022-03-13T18:22:50.216Z"
   },
   {
    "duration": -531,
    "start_time": "2022-03-13T18:22:50.222Z"
   },
   {
    "duration": -535,
    "start_time": "2022-03-13T18:22:50.229Z"
   },
   {
    "duration": -540,
    "start_time": "2022-03-13T18:22:50.235Z"
   },
   {
    "duration": -545,
    "start_time": "2022-03-13T18:22:50.243Z"
   },
   {
    "duration": -549,
    "start_time": "2022-03-13T18:22:50.249Z"
   },
   {
    "duration": -554,
    "start_time": "2022-03-13T18:22:50.256Z"
   },
   {
    "duration": -559,
    "start_time": "2022-03-13T18:22:50.262Z"
   },
   {
    "duration": 271,
    "start_time": "2022-03-13T18:23:06.464Z"
   },
   {
    "duration": 268,
    "start_time": "2022-03-13T18:23:08.858Z"
   },
   {
    "duration": 280,
    "start_time": "2022-03-13T18:23:09.433Z"
   },
   {
    "duration": 4,
    "start_time": "2022-03-13T18:23:31.184Z"
   },
   {
    "duration": 41,
    "start_time": "2022-03-13T18:23:31.540Z"
   },
   {
    "duration": 4,
    "start_time": "2022-03-13T18:23:32.226Z"
   },
   {
    "duration": 14,
    "start_time": "2022-03-13T18:23:32.575Z"
   },
   {
    "duration": 21,
    "start_time": "2022-03-13T18:23:33.056Z"
   },
   {
    "duration": 274,
    "start_time": "2022-03-13T18:23:33.225Z"
   },
   {
    "duration": 16,
    "start_time": "2022-03-13T18:23:33.785Z"
   },
   {
    "duration": 16,
    "start_time": "2022-03-13T18:23:43.884Z"
   },
   {
    "duration": 29,
    "start_time": "2022-03-13T18:23:44.517Z"
   },
   {
    "duration": 14,
    "start_time": "2022-03-13T18:23:45.205Z"
   },
   {
    "duration": 9,
    "start_time": "2022-03-13T18:23:45.581Z"
   },
   {
    "duration": 10,
    "start_time": "2022-03-13T18:23:46.069Z"
   },
   {
    "duration": 12,
    "start_time": "2022-03-13T18:23:46.884Z"
   },
   {
    "duration": 25,
    "start_time": "2022-03-13T18:23:47.351Z"
   },
   {
    "duration": 13,
    "start_time": "2022-03-13T18:23:48.824Z"
   },
   {
    "duration": 9,
    "start_time": "2022-03-13T18:23:49.363Z"
   },
   {
    "duration": 716,
    "start_time": "2022-03-13T18:23:50.460Z"
   },
   {
    "duration": 9,
    "start_time": "2022-03-13T18:23:52.032Z"
   },
   {
    "duration": 17,
    "start_time": "2022-03-13T18:23:52.254Z"
   },
   {
    "duration": 10,
    "start_time": "2022-03-13T18:23:55.825Z"
   },
   {
    "duration": 325,
    "start_time": "2022-03-13T18:23:55.987Z"
   },
   {
    "duration": 36,
    "start_time": "2022-03-13T18:23:56.344Z"
   },
   {
    "duration": 296,
    "start_time": "2022-03-13T18:23:56.944Z"
   },
   {
    "duration": 11,
    "start_time": "2022-03-13T18:23:57.904Z"
   },
   {
    "duration": 829,
    "start_time": "2022-03-13T18:25:18.153Z"
   },
   {
    "duration": 37,
    "start_time": "2022-03-13T18:25:19.436Z"
   },
   {
    "duration": 721,
    "start_time": "2022-03-13T18:25:19.624Z"
   },
   {
    "duration": 14,
    "start_time": "2022-03-13T18:25:20.348Z"
   },
   {
    "duration": 8,
    "start_time": "2022-03-13T18:25:21.584Z"
   },
   {
    "duration": 770,
    "start_time": "2022-03-13T18:25:21.844Z"
   },
   {
    "duration": 699,
    "start_time": "2022-03-13T18:25:22.617Z"
   },
   {
    "duration": 1523,
    "start_time": "2022-03-13T18:58:37.164Z"
   },
   {
    "duration": 51,
    "start_time": "2022-03-13T18:58:38.690Z"
   },
   {
    "duration": 73,
    "start_time": "2022-03-13T18:58:38.744Z"
   },
   {
    "duration": 149,
    "start_time": "2022-03-13T18:58:38.820Z"
   },
   {
    "duration": 157,
    "start_time": "2022-03-13T18:58:38.972Z"
   },
   {
    "duration": 69,
    "start_time": "2022-03-13T18:58:39.132Z"
   },
   {
    "duration": 175,
    "start_time": "2022-03-13T18:58:39.204Z"
   },
   {
    "duration": 162,
    "start_time": "2022-03-13T18:58:39.384Z"
   },
   {
    "duration": 99,
    "start_time": "2022-03-13T18:58:39.550Z"
   },
   {
    "duration": 121,
    "start_time": "2022-03-13T18:58:39.651Z"
   },
   {
    "duration": 259,
    "start_time": "2022-03-13T18:58:39.775Z"
   },
   {
    "duration": 159,
    "start_time": "2022-03-13T18:58:40.037Z"
   },
   {
    "duration": 171,
    "start_time": "2022-03-13T18:58:40.199Z"
   },
   {
    "duration": 157,
    "start_time": "2022-03-13T18:58:40.373Z"
   },
   {
    "duration": 1189,
    "start_time": "2022-03-13T18:58:40.533Z"
   },
   {
    "duration": 12,
    "start_time": "2022-03-13T18:58:41.724Z"
   },
   {
    "duration": 182,
    "start_time": "2022-03-13T18:58:41.738Z"
   },
   {
    "duration": 221,
    "start_time": "2022-03-13T18:58:41.923Z"
   },
   {
    "duration": 495,
    "start_time": "2022-03-13T18:58:42.146Z"
   },
   {
    "duration": 48,
    "start_time": "2022-03-13T18:58:42.643Z"
   },
   {
    "duration": 412,
    "start_time": "2022-03-13T18:58:42.694Z"
   },
   {
    "duration": 11,
    "start_time": "2022-03-13T18:58:43.108Z"
   },
   {
    "duration": 953,
    "start_time": "2022-03-13T18:58:43.125Z"
   },
   {
    "duration": 38,
    "start_time": "2022-03-13T18:58:44.087Z"
   },
   {
    "duration": 932,
    "start_time": "2022-03-13T18:58:44.128Z"
   },
   {
    "duration": 29,
    "start_time": "2022-03-13T18:58:45.064Z"
   },
   {
    "duration": 110,
    "start_time": "2022-03-13T18:58:45.096Z"
   },
   {
    "duration": 841,
    "start_time": "2022-03-13T18:58:45.209Z"
   },
   {
    "duration": 1050,
    "start_time": "2022-03-13T18:58:46.053Z"
   },
   {
    "duration": 60,
    "start_time": "2022-03-13T18:58:47.106Z"
   },
   {
    "duration": 256,
    "start_time": "2022-03-13T18:58:47.188Z"
   },
   {
    "duration": 1765,
    "start_time": "2022-03-13T18:58:47.446Z"
   },
   {
    "duration": 30,
    "start_time": "2022-03-13T18:58:49.213Z"
   },
   {
    "duration": 227,
    "start_time": "2022-03-13T18:58:49.245Z"
   },
   {
    "duration": 233,
    "start_time": "2022-03-13T18:58:49.474Z"
   },
   {
    "duration": 151,
    "start_time": "2022-03-13T18:58:49.710Z"
   },
   {
    "duration": 840,
    "start_time": "2022-03-13T18:58:49.863Z"
   },
   {
    "duration": 796,
    "start_time": "2022-03-13T18:58:50.705Z"
   },
   {
    "duration": 25,
    "start_time": "2022-03-13T18:58:51.503Z"
   },
   {
    "duration": 167,
    "start_time": "2022-03-13T18:58:51.530Z"
   },
   {
    "duration": 80,
    "start_time": "2022-03-13T18:58:51.699Z"
   },
   {
    "duration": 60,
    "start_time": "2022-03-13T18:58:51.782Z"
   },
   {
    "duration": 83,
    "start_time": "2022-03-13T18:58:51.844Z"
   },
   {
    "duration": 170,
    "start_time": "2022-03-13T18:58:51.930Z"
   },
   {
    "duration": 96,
    "start_time": "2022-03-13T18:58:52.103Z"
   },
   {
    "duration": 136,
    "start_time": "2022-03-13T18:58:52.202Z"
   },
   {
    "duration": 129,
    "start_time": "2022-03-13T18:58:52.341Z"
   },
   {
    "duration": 105,
    "start_time": "2022-03-13T18:58:52.473Z"
   },
   {
    "duration": 177,
    "start_time": "2022-03-13T18:58:52.580Z"
   },
   {
    "duration": 103,
    "start_time": "2022-03-13T18:58:52.759Z"
   },
   {
    "duration": 135,
    "start_time": "2022-03-13T18:58:52.865Z"
   },
   {
    "duration": 107,
    "start_time": "2022-03-13T18:58:53.002Z"
   },
   {
    "duration": 81,
    "start_time": "2022-03-13T18:58:53.111Z"
   },
   {
    "duration": 130,
    "start_time": "2022-03-13T18:58:53.194Z"
   },
   {
    "duration": 117,
    "start_time": "2022-03-13T18:58:53.327Z"
   },
   {
    "duration": 94,
    "start_time": "2022-03-13T18:58:53.447Z"
   },
   {
    "duration": 41,
    "start_time": "2022-03-13T18:58:53.544Z"
   },
   {
    "duration": 5,
    "start_time": "2022-03-13T19:02:06.345Z"
   },
   {
    "duration": 11,
    "start_time": "2022-03-13T19:02:11.433Z"
   },
   {
    "duration": 1641,
    "start_time": "2022-03-13T19:07:24.804Z"
   },
   {
    "duration": 53,
    "start_time": "2022-03-13T19:07:26.449Z"
   },
   {
    "duration": 195,
    "start_time": "2022-03-13T19:07:26.506Z"
   },
   {
    "duration": 299,
    "start_time": "2022-03-13T19:07:26.704Z"
   },
   {
    "duration": 354,
    "start_time": "2022-03-13T19:07:27.006Z"
   },
   {
    "duration": 180,
    "start_time": "2022-03-13T19:07:27.363Z"
   },
   {
    "duration": 242,
    "start_time": "2022-03-13T19:07:27.546Z"
   },
   {
    "duration": 438,
    "start_time": "2022-03-13T19:07:27.792Z"
   },
   {
    "duration": 216,
    "start_time": "2022-03-13T19:07:28.233Z"
   },
   {
    "duration": 71,
    "start_time": "2022-03-13T19:07:28.451Z"
   },
   {
    "duration": 127,
    "start_time": "2022-03-13T19:07:28.524Z"
   },
   {
    "duration": 174,
    "start_time": "2022-03-13T19:07:28.654Z"
   },
   {
    "duration": 70,
    "start_time": "2022-03-13T19:07:28.831Z"
   },
   {
    "duration": 65,
    "start_time": "2022-03-13T19:07:28.904Z"
   },
   {
    "duration": 1058,
    "start_time": "2022-03-13T19:07:28.972Z"
   },
   {
    "duration": 11,
    "start_time": "2022-03-13T19:07:30.032Z"
   },
   {
    "duration": 263,
    "start_time": "2022-03-13T19:07:30.045Z"
   },
   {
    "duration": 292,
    "start_time": "2022-03-13T19:07:30.310Z"
   },
   {
    "duration": 653,
    "start_time": "2022-03-13T19:07:30.605Z"
   },
   {
    "duration": 51,
    "start_time": "2022-03-13T19:07:31.261Z"
   },
   {
    "duration": 418,
    "start_time": "2022-03-13T19:07:31.315Z"
   },
   {
    "duration": 12,
    "start_time": "2022-03-13T19:07:31.735Z"
   },
   {
    "duration": 1060,
    "start_time": "2022-03-13T19:07:31.754Z"
   },
   {
    "duration": 45,
    "start_time": "2022-03-13T19:07:32.817Z"
   },
   {
    "duration": 1120,
    "start_time": "2022-03-13T19:07:32.888Z"
   },
   {
    "duration": 15,
    "start_time": "2022-03-13T19:07:34.011Z"
   },
   {
    "duration": 378,
    "start_time": "2022-03-13T19:07:34.028Z"
   },
   {
    "duration": 1121,
    "start_time": "2022-03-13T19:07:34.409Z"
   },
   {
    "duration": 821,
    "start_time": "2022-03-13T19:07:35.533Z"
   },
   {
    "duration": 69,
    "start_time": "2022-03-13T19:07:36.356Z"
   },
   {
    "duration": 785,
    "start_time": "2022-03-13T19:07:36.428Z"
   },
   {
    "duration": 2378,
    "start_time": "2022-03-13T19:07:37.216Z"
   },
   {
    "duration": 30,
    "start_time": "2022-03-13T19:07:39.596Z"
   },
   {
    "duration": 449,
    "start_time": "2022-03-13T19:07:39.628Z"
   },
   {
    "duration": 345,
    "start_time": "2022-03-13T19:07:40.080Z"
   },
   {
    "duration": 643,
    "start_time": "2022-03-13T19:07:40.427Z"
   },
   {
    "duration": 1329,
    "start_time": "2022-03-13T19:07:41.073Z"
   },
   {
    "duration": 809,
    "start_time": "2022-03-13T19:07:42.404Z"
   },
   {
    "duration": 26,
    "start_time": "2022-03-13T19:07:43.215Z"
   },
   {
    "duration": 323,
    "start_time": "2022-03-13T19:07:43.245Z"
   },
   {
    "duration": 320,
    "start_time": "2022-03-13T19:07:43.571Z"
   },
   {
    "duration": 593,
    "start_time": "2022-03-13T19:07:43.894Z"
   },
   {
    "duration": 281,
    "start_time": "2022-03-13T19:07:44.489Z"
   },
   {
    "duration": 315,
    "start_time": "2022-03-13T19:07:44.773Z"
   },
   {
    "duration": 347,
    "start_time": "2022-03-13T19:07:45.091Z"
   },
   {
    "duration": 555,
    "start_time": "2022-03-13T19:07:45.441Z"
   },
   {
    "duration": 489,
    "start_time": "2022-03-13T19:07:45.998Z"
   },
   {
    "duration": 337,
    "start_time": "2022-03-13T19:07:46.489Z"
   },
   {
    "duration": 356,
    "start_time": "2022-03-13T19:07:46.828Z"
   },
   {
    "duration": 333,
    "start_time": "2022-03-13T19:07:47.187Z"
   },
   {
    "duration": 500,
    "start_time": "2022-03-13T19:07:47.522Z"
   },
   {
    "duration": 256,
    "start_time": "2022-03-13T19:07:48.025Z"
   },
   {
    "duration": 77,
    "start_time": "2022-03-13T19:07:48.283Z"
   },
   {
    "duration": 209,
    "start_time": "2022-03-13T19:07:48.362Z"
   },
   {
    "duration": 223,
    "start_time": "2022-03-13T19:07:48.574Z"
   },
   {
    "duration": 146,
    "start_time": "2022-03-13T19:07:48.800Z"
   },
   {
    "duration": 147,
    "start_time": "2022-03-13T19:07:48.948Z"
   },
   {
    "duration": 211,
    "start_time": "2022-04-19T15:31:25.809Z"
   }
  ],
  "kernelspec": {
   "display_name": "Python 3 (ipykernel)",
   "language": "python",
   "name": "python3"
  },
  "language_info": {
   "codemirror_mode": {
    "name": "ipython",
    "version": 3
   },
   "file_extension": ".py",
   "mimetype": "text/x-python",
   "name": "python",
   "nbconvert_exporter": "python",
   "pygments_lexer": "ipython3",
   "version": "3.9.9"
  },
  "toc": {
   "base_numbering": 1,
   "nav_menu": {},
   "number_sections": true,
   "sideBar": true,
   "skip_h1_title": true,
   "title_cell": "Содержание",
   "title_sidebar": "Содержание",
   "toc_cell": true,
   "toc_position": {
    "height": "calc(100% - 180px)",
    "left": "10px",
    "top": "150px",
    "width": "402.997px"
   },
   "toc_section_display": true,
   "toc_window_display": true
  },
  "varInspector": {
   "cols": {
    "lenName": 16,
    "lenType": 16,
    "lenVar": 40
   },
   "kernels_config": {
    "python": {
     "delete_cmd_postfix": "",
     "delete_cmd_prefix": "del ",
     "library": "var_list.py",
     "varRefreshCmd": "print(var_dic_list())"
    },
    "r": {
     "delete_cmd_postfix": ") ",
     "delete_cmd_prefix": "rm(",
     "library": "var_list.r",
     "varRefreshCmd": "cat(var_dic_list()) "
    }
   },
   "types_to_exclude": [
    "module",
    "function",
    "builtin_function_or_method",
    "instance",
    "_Feature"
   ],
   "window_display": false
  }
 },
 "nbformat": 4,
 "nbformat_minor": 5
}
